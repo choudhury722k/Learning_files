{
 "cells": [
  {
   "cell_type": "code",
   "execution_count": 2,
   "metadata": {},
   "outputs": [
    {
     "data": {
      "text/html": [
       "<div>\n",
       "<style scoped>\n",
       "    .dataframe tbody tr th:only-of-type {\n",
       "        vertical-align: middle;\n",
       "    }\n",
       "\n",
       "    .dataframe tbody tr th {\n",
       "        vertical-align: top;\n",
       "    }\n",
       "\n",
       "    .dataframe thead th {\n",
       "        text-align: right;\n",
       "    }\n",
       "</style>\n",
       "<table border=\"1\" class=\"dataframe\">\n",
       "  <thead>\n",
       "    <tr style=\"text-align: right;\">\n",
       "      <th></th>\n",
       "      <th>age</th>\n",
       "      <th>sex</th>\n",
       "      <th>bmi</th>\n",
       "      <th>children</th>\n",
       "      <th>smoker</th>\n",
       "      <th>region</th>\n",
       "      <th>charges</th>\n",
       "    </tr>\n",
       "  </thead>\n",
       "  <tbody>\n",
       "    <tr>\n",
       "      <th>0</th>\n",
       "      <td>19</td>\n",
       "      <td>female</td>\n",
       "      <td>27.900</td>\n",
       "      <td>0</td>\n",
       "      <td>yes</td>\n",
       "      <td>southwest</td>\n",
       "      <td>16884.92400</td>\n",
       "    </tr>\n",
       "    <tr>\n",
       "      <th>1</th>\n",
       "      <td>18</td>\n",
       "      <td>male</td>\n",
       "      <td>33.770</td>\n",
       "      <td>1</td>\n",
       "      <td>no</td>\n",
       "      <td>southeast</td>\n",
       "      <td>1725.55230</td>\n",
       "    </tr>\n",
       "    <tr>\n",
       "      <th>2</th>\n",
       "      <td>28</td>\n",
       "      <td>male</td>\n",
       "      <td>33.000</td>\n",
       "      <td>3</td>\n",
       "      <td>no</td>\n",
       "      <td>southeast</td>\n",
       "      <td>4449.46200</td>\n",
       "    </tr>\n",
       "    <tr>\n",
       "      <th>3</th>\n",
       "      <td>33</td>\n",
       "      <td>male</td>\n",
       "      <td>22.705</td>\n",
       "      <td>0</td>\n",
       "      <td>no</td>\n",
       "      <td>northwest</td>\n",
       "      <td>21984.47061</td>\n",
       "    </tr>\n",
       "    <tr>\n",
       "      <th>4</th>\n",
       "      <td>32</td>\n",
       "      <td>male</td>\n",
       "      <td>28.880</td>\n",
       "      <td>0</td>\n",
       "      <td>no</td>\n",
       "      <td>northwest</td>\n",
       "      <td>3866.85520</td>\n",
       "    </tr>\n",
       "  </tbody>\n",
       "</table>\n",
       "</div>"
      ],
      "text/plain": [
       "   age     sex     bmi  children smoker     region      charges\n",
       "0   19  female  27.900         0    yes  southwest  16884.92400\n",
       "1   18    male  33.770         1     no  southeast   1725.55230\n",
       "2   28    male  33.000         3     no  southeast   4449.46200\n",
       "3   33    male  22.705         0     no  northwest  21984.47061\n",
       "4   32    male  28.880         0     no  northwest   3866.85520"
      ]
     },
     "metadata": {},
     "output_type": "display_data"
    }
   ],
   "source": [
    "from pycaret.datasets import get_data\n",
    "data = get_data('insurance')"
   ]
  },
  {
   "cell_type": "markdown",
   "metadata": {},
   "source": [
    "# Experiment 1"
   ]
  },
  {
   "cell_type": "code",
   "execution_count": 6,
   "metadata": {},
   "outputs": [],
   "source": [
    "import pycaret\n",
    "import joblib"
   ]
  },
  {
   "cell_type": "code",
   "execution_count": 9,
   "metadata": {},
   "outputs": [
    {
     "ename": "ImportError",
     "evalue": "cannot import name '_joblib_parallel_args' from 'sklearn.utils.fixes' (C:\\Users\\SOUMYA\\.conda\\envs\\tf_gpu\\lib\\site-packages\\sklearn\\utils\\fixes.py)",
     "output_type": "error",
     "traceback": [
      "\u001b[1;31m---------------------------------------------------------------------------\u001b[0m",
      "\u001b[1;31mImportError\u001b[0m                               Traceback (most recent call last)",
      "\u001b[1;32m~\\AppData\\Local\\Temp/ipykernel_73712/215956045.py\u001b[0m in \u001b[0;36m<module>\u001b[1;34m\u001b[0m\n\u001b[1;32m----> 1\u001b[1;33m \u001b[1;32mfrom\u001b[0m \u001b[0mpycaret\u001b[0m\u001b[1;33m.\u001b[0m\u001b[0mregression\u001b[0m \u001b[1;32mimport\u001b[0m \u001b[1;33m*\u001b[0m\u001b[1;33m\u001b[0m\u001b[1;33m\u001b[0m\u001b[0m\n\u001b[0m",
      "\u001b[1;32m~\\.conda\\envs\\tf_gpu\\lib\\site-packages\\pycaret\\regression.py\u001b[0m in \u001b[0;36m<module>\u001b[1;34m\u001b[0m\n\u001b[0;32m      8\u001b[0m \u001b[1;32mimport\u001b[0m \u001b[0mnumpy\u001b[0m \u001b[1;32mas\u001b[0m \u001b[0mnp\u001b[0m\u001b[1;33m\u001b[0m\u001b[1;33m\u001b[0m\u001b[0m\n\u001b[0;32m      9\u001b[0m \u001b[1;33m\u001b[0m\u001b[0m\n\u001b[1;32m---> 10\u001b[1;33m \u001b[1;32mimport\u001b[0m \u001b[0mpycaret\u001b[0m\u001b[1;33m.\u001b[0m\u001b[0minternal\u001b[0m\u001b[1;33m.\u001b[0m\u001b[0mtabular\u001b[0m\u001b[1;33m\u001b[0m\u001b[1;33m\u001b[0m\u001b[0m\n\u001b[0m\u001b[0;32m     11\u001b[0m \u001b[1;32mfrom\u001b[0m \u001b[0mpycaret\u001b[0m\u001b[1;33m.\u001b[0m\u001b[0minternal\u001b[0m\u001b[1;33m.\u001b[0m\u001b[0mDisplay\u001b[0m \u001b[1;32mimport\u001b[0m \u001b[0mDisplay\u001b[0m\u001b[1;33m,\u001b[0m \u001b[0mis_in_colab\u001b[0m\u001b[1;33m,\u001b[0m \u001b[0menable_colab\u001b[0m\u001b[1;33m\u001b[0m\u001b[1;33m\u001b[0m\u001b[0m\n\u001b[0;32m     12\u001b[0m \u001b[1;32mfrom\u001b[0m \u001b[0mtyping\u001b[0m \u001b[1;32mimport\u001b[0m \u001b[0mList\u001b[0m\u001b[1;33m,\u001b[0m \u001b[0mTuple\u001b[0m\u001b[1;33m,\u001b[0m \u001b[0mAny\u001b[0m\u001b[1;33m,\u001b[0m \u001b[0mUnion\u001b[0m\u001b[1;33m,\u001b[0m \u001b[0mOptional\u001b[0m\u001b[1;33m,\u001b[0m \u001b[0mDict\u001b[0m\u001b[1;33m\u001b[0m\u001b[1;33m\u001b[0m\u001b[0m\n",
      "\u001b[1;32m~\\.conda\\envs\\tf_gpu\\lib\\site-packages\\pycaret\\internal\\tabular.py\u001b[0m in \u001b[0;36m<module>\u001b[1;34m\u001b[0m\n\u001b[0;32m     15\u001b[0m     \u001b[0mget_tune_sklearn_tunesearchcv\u001b[0m\u001b[1;33m,\u001b[0m\u001b[1;33m\u001b[0m\u001b[1;33m\u001b[0m\u001b[0m\n\u001b[0;32m     16\u001b[0m )\n\u001b[1;32m---> 17\u001b[1;33m from pycaret.internal.pipeline import (\n\u001b[0m\u001b[0;32m     18\u001b[0m     \u001b[0madd_estimator_to_pipeline\u001b[0m\u001b[1;33m,\u001b[0m\u001b[1;33m\u001b[0m\u001b[1;33m\u001b[0m\u001b[0m\n\u001b[0;32m     19\u001b[0m     \u001b[0mget_pipeline_estimator_label\u001b[0m\u001b[1;33m,\u001b[0m\u001b[1;33m\u001b[0m\u001b[1;33m\u001b[0m\u001b[0m\n",
      "\u001b[1;32m~\\.conda\\envs\\tf_gpu\\lib\\site-packages\\pycaret\\internal\\pipeline.py\u001b[0m in \u001b[0;36m<module>\u001b[1;34m\u001b[0m\n\u001b[0;32m     10\u001b[0m \u001b[1;33m\u001b[0m\u001b[0m\n\u001b[0;32m     11\u001b[0m \u001b[1;32mfrom\u001b[0m \u001b[0mpycaret\u001b[0m\u001b[1;33m.\u001b[0m\u001b[0minternal\u001b[0m\u001b[1;33m.\u001b[0m\u001b[0mutils\u001b[0m \u001b[1;32mimport\u001b[0m \u001b[0mget_all_object_vars_and_properties\u001b[0m\u001b[1;33m,\u001b[0m \u001b[0mis_fit_var\u001b[0m\u001b[1;33m\u001b[0m\u001b[1;33m\u001b[0m\u001b[0m\n\u001b[1;32m---> 12\u001b[1;33m \u001b[1;32mimport\u001b[0m \u001b[0mimblearn\u001b[0m\u001b[1;33m.\u001b[0m\u001b[0mpipeline\u001b[0m\u001b[1;33m\u001b[0m\u001b[1;33m\u001b[0m\u001b[0m\n\u001b[0m\u001b[0;32m     13\u001b[0m \u001b[1;32mfrom\u001b[0m \u001b[0msklearn\u001b[0m\u001b[1;33m.\u001b[0m\u001b[0mutils\u001b[0m \u001b[1;32mimport\u001b[0m \u001b[0m_print_elapsed_time\u001b[0m\u001b[1;33m\u001b[0m\u001b[1;33m\u001b[0m\u001b[0m\n\u001b[0;32m     14\u001b[0m \u001b[1;32mfrom\u001b[0m \u001b[0msklearn\u001b[0m\u001b[1;33m.\u001b[0m\u001b[0mbase\u001b[0m \u001b[1;32mimport\u001b[0m \u001b[0mBaseEstimator\u001b[0m\u001b[1;33m,\u001b[0m \u001b[0mTransformerMixin\u001b[0m\u001b[1;33m,\u001b[0m \u001b[0mclone\u001b[0m\u001b[1;33m\u001b[0m\u001b[1;33m\u001b[0m\u001b[0m\n",
      "\u001b[1;32m~\\.conda\\envs\\tf_gpu\\lib\\site-packages\\imblearn\\__init__.py\u001b[0m in \u001b[0;36m<module>\u001b[1;34m\u001b[0m\n\u001b[0;32m     51\u001b[0m \u001b[1;32melse\u001b[0m\u001b[1;33m:\u001b[0m\u001b[1;33m\u001b[0m\u001b[1;33m\u001b[0m\u001b[0m\n\u001b[0;32m     52\u001b[0m     \u001b[1;32mfrom\u001b[0m \u001b[1;33m.\u001b[0m \u001b[1;32mimport\u001b[0m \u001b[0mcombine\u001b[0m\u001b[1;33m\u001b[0m\u001b[1;33m\u001b[0m\u001b[0m\n\u001b[1;32m---> 53\u001b[1;33m     \u001b[1;32mfrom\u001b[0m \u001b[1;33m.\u001b[0m \u001b[1;32mimport\u001b[0m \u001b[0mensemble\u001b[0m\u001b[1;33m\u001b[0m\u001b[1;33m\u001b[0m\u001b[0m\n\u001b[0m\u001b[0;32m     54\u001b[0m     \u001b[1;32mfrom\u001b[0m \u001b[1;33m.\u001b[0m \u001b[1;32mimport\u001b[0m \u001b[0mexceptions\u001b[0m\u001b[1;33m\u001b[0m\u001b[1;33m\u001b[0m\u001b[0m\n\u001b[0;32m     55\u001b[0m     \u001b[1;32mfrom\u001b[0m \u001b[1;33m.\u001b[0m \u001b[1;32mimport\u001b[0m \u001b[0mmetrics\u001b[0m\u001b[1;33m\u001b[0m\u001b[1;33m\u001b[0m\u001b[0m\n",
      "\u001b[1;32m~\\.conda\\envs\\tf_gpu\\lib\\site-packages\\imblearn\\ensemble\\__init__.py\u001b[0m in \u001b[0;36m<module>\u001b[1;34m\u001b[0m\n\u001b[0;32m      6\u001b[0m \u001b[1;32mfrom\u001b[0m \u001b[1;33m.\u001b[0m\u001b[0m_easy_ensemble\u001b[0m \u001b[1;32mimport\u001b[0m \u001b[0mEasyEnsembleClassifier\u001b[0m\u001b[1;33m\u001b[0m\u001b[1;33m\u001b[0m\u001b[0m\n\u001b[0;32m      7\u001b[0m \u001b[1;32mfrom\u001b[0m \u001b[1;33m.\u001b[0m\u001b[0m_bagging\u001b[0m \u001b[1;32mimport\u001b[0m \u001b[0mBalancedBaggingClassifier\u001b[0m\u001b[1;33m\u001b[0m\u001b[1;33m\u001b[0m\u001b[0m\n\u001b[1;32m----> 8\u001b[1;33m \u001b[1;32mfrom\u001b[0m \u001b[1;33m.\u001b[0m\u001b[0m_forest\u001b[0m \u001b[1;32mimport\u001b[0m \u001b[0mBalancedRandomForestClassifier\u001b[0m\u001b[1;33m\u001b[0m\u001b[1;33m\u001b[0m\u001b[0m\n\u001b[0m\u001b[0;32m      9\u001b[0m \u001b[1;32mfrom\u001b[0m \u001b[1;33m.\u001b[0m\u001b[0m_weight_boosting\u001b[0m \u001b[1;32mimport\u001b[0m \u001b[0mRUSBoostClassifier\u001b[0m\u001b[1;33m\u001b[0m\u001b[1;33m\u001b[0m\u001b[0m\n\u001b[0;32m     10\u001b[0m \u001b[1;33m\u001b[0m\u001b[0m\n",
      "\u001b[1;32m~\\.conda\\envs\\tf_gpu\\lib\\site-packages\\imblearn\\ensemble\\_forest.py\u001b[0m in \u001b[0;36m<module>\u001b[1;34m\u001b[0m\n\u001b[0;32m     26\u001b[0m \u001b[1;32mfrom\u001b[0m \u001b[0msklearn\u001b[0m\u001b[1;33m.\u001b[0m\u001b[0mutils\u001b[0m \u001b[1;32mimport\u001b[0m \u001b[0mcheck_random_state\u001b[0m\u001b[1;33m\u001b[0m\u001b[1;33m\u001b[0m\u001b[0m\n\u001b[0;32m     27\u001b[0m \u001b[1;32mfrom\u001b[0m \u001b[0msklearn\u001b[0m\u001b[1;33m.\u001b[0m\u001b[0mutils\u001b[0m \u001b[1;32mimport\u001b[0m \u001b[0m_safe_indexing\u001b[0m\u001b[1;33m\u001b[0m\u001b[1;33m\u001b[0m\u001b[0m\n\u001b[1;32m---> 28\u001b[1;33m \u001b[1;32mfrom\u001b[0m \u001b[0msklearn\u001b[0m\u001b[1;33m.\u001b[0m\u001b[0mutils\u001b[0m\u001b[1;33m.\u001b[0m\u001b[0mfixes\u001b[0m \u001b[1;32mimport\u001b[0m \u001b[0m_joblib_parallel_args\u001b[0m\u001b[1;33m\u001b[0m\u001b[1;33m\u001b[0m\u001b[0m\n\u001b[0m\u001b[0;32m     29\u001b[0m \u001b[1;32mfrom\u001b[0m \u001b[0msklearn\u001b[0m\u001b[1;33m.\u001b[0m\u001b[0mutils\u001b[0m\u001b[1;33m.\u001b[0m\u001b[0mvalidation\u001b[0m \u001b[1;32mimport\u001b[0m \u001b[0m_check_sample_weight\u001b[0m\u001b[1;33m\u001b[0m\u001b[1;33m\u001b[0m\u001b[0m\n\u001b[0;32m     30\u001b[0m \u001b[1;33m\u001b[0m\u001b[0m\n",
      "\u001b[1;31mImportError\u001b[0m: cannot import name '_joblib_parallel_args' from 'sklearn.utils.fixes' (C:\\Users\\SOUMYA\\.conda\\envs\\tf_gpu\\lib\\site-packages\\sklearn\\utils\\fixes.py)"
     ]
    }
   ],
   "source": [
    "from pycaret.regression import *"
   ]
  },
  {
   "cell_type": "code",
   "execution_count": 8,
   "metadata": {},
   "outputs": [
    {
     "ename": "ImportError",
     "evalue": "cannot import name '_joblib_parallel_args' from 'sklearn.utils.fixes' (C:\\Users\\SOUMYA\\.conda\\envs\\tf_gpu\\lib\\site-packages\\sklearn\\utils\\fixes.py)",
     "output_type": "error",
     "traceback": [
      "\u001b[1;31m---------------------------------------------------------------------------\u001b[0m",
      "\u001b[1;31mImportError\u001b[0m                               Traceback (most recent call last)",
      "\u001b[1;32m~\\AppData\\Local\\Temp/ipykernel_73712/4189691255.py\u001b[0m in \u001b[0;36m<module>\u001b[1;34m\u001b[0m\n\u001b[1;32m----> 1\u001b[1;33m \u001b[1;32mfrom\u001b[0m \u001b[0msklearn\u001b[0m\u001b[1;33m.\u001b[0m\u001b[0mutils\u001b[0m\u001b[1;33m.\u001b[0m\u001b[0mfixes\u001b[0m \u001b[1;32mimport\u001b[0m \u001b[0m_joblib_parallel_args\u001b[0m\u001b[1;33m\u001b[0m\u001b[1;33m\u001b[0m\u001b[0m\n\u001b[0m",
      "\u001b[1;31mImportError\u001b[0m: cannot import name '_joblib_parallel_args' from 'sklearn.utils.fixes' (C:\\Users\\SOUMYA\\.conda\\envs\\tf_gpu\\lib\\site-packages\\sklearn\\utils\\fixes.py)"
     ]
    }
   ],
   "source": [
    "from sklearn.utils.fixes import _joblib_parallel_args"
   ]
  },
  {
   "cell_type": "code",
   "execution_count": null,
   "metadata": {},
   "outputs": [],
   "source": [
    "s = setup(data, target = 'charges', session_id = 123)"
   ]
  },
  {
   "cell_type": "code",
   "execution_count": null,
   "metadata": {},
   "outputs": [],
   "source": [
    "lr = create_model('lr')"
   ]
  },
  {
   "cell_type": "code",
   "execution_count": null,
   "metadata": {},
   "outputs": [],
   "source": [
    "plot_model(lr)"
   ]
  },
  {
   "cell_type": "markdown",
   "metadata": {},
   "source": [
    "# Experiment 2"
   ]
  },
  {
   "cell_type": "code",
   "execution_count": 8,
   "metadata": {},
   "outputs": [
    {
     "name": "stdout",
     "output_type": "stream",
     "text": [
      " \n",
      "Setup Succesfully Completed!\n"
     ]
    },
    {
     "data": {
      "text/html": [
       "<style  type=\"text/css\" >\n",
       "    #T_95dffd6e_8afd_11ea_8337_84fdd13f47d7row15_col1 {\n",
       "            background-color:  lightgreen;\n",
       "        }    #T_95dffd6e_8afd_11ea_8337_84fdd13f47d7row25_col1 {\n",
       "            background-color:  lightgreen;\n",
       "        }    #T_95dffd6e_8afd_11ea_8337_84fdd13f47d7row32_col1 {\n",
       "            background-color:  lightgreen;\n",
       "        }    #T_95dffd6e_8afd_11ea_8337_84fdd13f47d7row34_col1 {\n",
       "            background-color:  lightgreen;\n",
       "        }    #T_95dffd6e_8afd_11ea_8337_84fdd13f47d7row39_col1 {\n",
       "            background-color:  lightgreen;\n",
       "        }</style><table id=\"T_95dffd6e_8afd_11ea_8337_84fdd13f47d7\" ><thead>    <tr>        <th class=\"blank level0\" ></th>        <th class=\"col_heading level0 col0\" >Description</th>        <th class=\"col_heading level0 col1\" >Value</th>    </tr></thead><tbody>\n",
       "                <tr>\n",
       "                        <th id=\"T_95dffd6e_8afd_11ea_8337_84fdd13f47d7level0_row0\" class=\"row_heading level0 row0\" >0</th>\n",
       "                        <td id=\"T_95dffd6e_8afd_11ea_8337_84fdd13f47d7row0_col0\" class=\"data row0 col0\" >session_id</td>\n",
       "                        <td id=\"T_95dffd6e_8afd_11ea_8337_84fdd13f47d7row0_col1\" class=\"data row0 col1\" >123</td>\n",
       "            </tr>\n",
       "            <tr>\n",
       "                        <th id=\"T_95dffd6e_8afd_11ea_8337_84fdd13f47d7level0_row1\" class=\"row_heading level0 row1\" >1</th>\n",
       "                        <td id=\"T_95dffd6e_8afd_11ea_8337_84fdd13f47d7row1_col0\" class=\"data row1 col0\" >Transform Target </td>\n",
       "                        <td id=\"T_95dffd6e_8afd_11ea_8337_84fdd13f47d7row1_col1\" class=\"data row1 col1\" >False</td>\n",
       "            </tr>\n",
       "            <tr>\n",
       "                        <th id=\"T_95dffd6e_8afd_11ea_8337_84fdd13f47d7level0_row2\" class=\"row_heading level0 row2\" >2</th>\n",
       "                        <td id=\"T_95dffd6e_8afd_11ea_8337_84fdd13f47d7row2_col0\" class=\"data row2 col0\" >Transform Target Method</td>\n",
       "                        <td id=\"T_95dffd6e_8afd_11ea_8337_84fdd13f47d7row2_col1\" class=\"data row2 col1\" >None</td>\n",
       "            </tr>\n",
       "            <tr>\n",
       "                        <th id=\"T_95dffd6e_8afd_11ea_8337_84fdd13f47d7level0_row3\" class=\"row_heading level0 row3\" >3</th>\n",
       "                        <td id=\"T_95dffd6e_8afd_11ea_8337_84fdd13f47d7row3_col0\" class=\"data row3 col0\" >Original Data</td>\n",
       "                        <td id=\"T_95dffd6e_8afd_11ea_8337_84fdd13f47d7row3_col1\" class=\"data row3 col1\" >(1338, 7)</td>\n",
       "            </tr>\n",
       "            <tr>\n",
       "                        <th id=\"T_95dffd6e_8afd_11ea_8337_84fdd13f47d7level0_row4\" class=\"row_heading level0 row4\" >4</th>\n",
       "                        <td id=\"T_95dffd6e_8afd_11ea_8337_84fdd13f47d7row4_col0\" class=\"data row4 col0\" >Missing Values </td>\n",
       "                        <td id=\"T_95dffd6e_8afd_11ea_8337_84fdd13f47d7row4_col1\" class=\"data row4 col1\" >False</td>\n",
       "            </tr>\n",
       "            <tr>\n",
       "                        <th id=\"T_95dffd6e_8afd_11ea_8337_84fdd13f47d7level0_row5\" class=\"row_heading level0 row5\" >5</th>\n",
       "                        <td id=\"T_95dffd6e_8afd_11ea_8337_84fdd13f47d7row5_col0\" class=\"data row5 col0\" >Numeric Features </td>\n",
       "                        <td id=\"T_95dffd6e_8afd_11ea_8337_84fdd13f47d7row5_col1\" class=\"data row5 col1\" >2</td>\n",
       "            </tr>\n",
       "            <tr>\n",
       "                        <th id=\"T_95dffd6e_8afd_11ea_8337_84fdd13f47d7level0_row6\" class=\"row_heading level0 row6\" >6</th>\n",
       "                        <td id=\"T_95dffd6e_8afd_11ea_8337_84fdd13f47d7row6_col0\" class=\"data row6 col0\" >Categorical Features </td>\n",
       "                        <td id=\"T_95dffd6e_8afd_11ea_8337_84fdd13f47d7row6_col1\" class=\"data row6 col1\" >4</td>\n",
       "            </tr>\n",
       "            <tr>\n",
       "                        <th id=\"T_95dffd6e_8afd_11ea_8337_84fdd13f47d7level0_row7\" class=\"row_heading level0 row7\" >7</th>\n",
       "                        <td id=\"T_95dffd6e_8afd_11ea_8337_84fdd13f47d7row7_col0\" class=\"data row7 col0\" >Ordinal Features </td>\n",
       "                        <td id=\"T_95dffd6e_8afd_11ea_8337_84fdd13f47d7row7_col1\" class=\"data row7 col1\" >False</td>\n",
       "            </tr>\n",
       "            <tr>\n",
       "                        <th id=\"T_95dffd6e_8afd_11ea_8337_84fdd13f47d7level0_row8\" class=\"row_heading level0 row8\" >8</th>\n",
       "                        <td id=\"T_95dffd6e_8afd_11ea_8337_84fdd13f47d7row8_col0\" class=\"data row8 col0\" >High Cardinality Features </td>\n",
       "                        <td id=\"T_95dffd6e_8afd_11ea_8337_84fdd13f47d7row8_col1\" class=\"data row8 col1\" >False</td>\n",
       "            </tr>\n",
       "            <tr>\n",
       "                        <th id=\"T_95dffd6e_8afd_11ea_8337_84fdd13f47d7level0_row9\" class=\"row_heading level0 row9\" >9</th>\n",
       "                        <td id=\"T_95dffd6e_8afd_11ea_8337_84fdd13f47d7row9_col0\" class=\"data row9 col0\" >High Cardinality Method </td>\n",
       "                        <td id=\"T_95dffd6e_8afd_11ea_8337_84fdd13f47d7row9_col1\" class=\"data row9 col1\" >None</td>\n",
       "            </tr>\n",
       "            <tr>\n",
       "                        <th id=\"T_95dffd6e_8afd_11ea_8337_84fdd13f47d7level0_row10\" class=\"row_heading level0 row10\" >10</th>\n",
       "                        <td id=\"T_95dffd6e_8afd_11ea_8337_84fdd13f47d7row10_col0\" class=\"data row10 col0\" >Sampled Data</td>\n",
       "                        <td id=\"T_95dffd6e_8afd_11ea_8337_84fdd13f47d7row10_col1\" class=\"data row10 col1\" >(1338, 7)</td>\n",
       "            </tr>\n",
       "            <tr>\n",
       "                        <th id=\"T_95dffd6e_8afd_11ea_8337_84fdd13f47d7level0_row11\" class=\"row_heading level0 row11\" >11</th>\n",
       "                        <td id=\"T_95dffd6e_8afd_11ea_8337_84fdd13f47d7row11_col0\" class=\"data row11 col0\" >Transformed Train Set</td>\n",
       "                        <td id=\"T_95dffd6e_8afd_11ea_8337_84fdd13f47d7row11_col1\" class=\"data row11 col1\" >(936, 62)</td>\n",
       "            </tr>\n",
       "            <tr>\n",
       "                        <th id=\"T_95dffd6e_8afd_11ea_8337_84fdd13f47d7level0_row12\" class=\"row_heading level0 row12\" >12</th>\n",
       "                        <td id=\"T_95dffd6e_8afd_11ea_8337_84fdd13f47d7row12_col0\" class=\"data row12 col0\" >Transformed Test Set</td>\n",
       "                        <td id=\"T_95dffd6e_8afd_11ea_8337_84fdd13f47d7row12_col1\" class=\"data row12 col1\" >(402, 62)</td>\n",
       "            </tr>\n",
       "            <tr>\n",
       "                        <th id=\"T_95dffd6e_8afd_11ea_8337_84fdd13f47d7level0_row13\" class=\"row_heading level0 row13\" >13</th>\n",
       "                        <td id=\"T_95dffd6e_8afd_11ea_8337_84fdd13f47d7row13_col0\" class=\"data row13 col0\" >Numeric Imputer </td>\n",
       "                        <td id=\"T_95dffd6e_8afd_11ea_8337_84fdd13f47d7row13_col1\" class=\"data row13 col1\" >mean</td>\n",
       "            </tr>\n",
       "            <tr>\n",
       "                        <th id=\"T_95dffd6e_8afd_11ea_8337_84fdd13f47d7level0_row14\" class=\"row_heading level0 row14\" >14</th>\n",
       "                        <td id=\"T_95dffd6e_8afd_11ea_8337_84fdd13f47d7row14_col0\" class=\"data row14 col0\" >Categorical Imputer </td>\n",
       "                        <td id=\"T_95dffd6e_8afd_11ea_8337_84fdd13f47d7row14_col1\" class=\"data row14 col1\" >constant</td>\n",
       "            </tr>\n",
       "            <tr>\n",
       "                        <th id=\"T_95dffd6e_8afd_11ea_8337_84fdd13f47d7level0_row15\" class=\"row_heading level0 row15\" >15</th>\n",
       "                        <td id=\"T_95dffd6e_8afd_11ea_8337_84fdd13f47d7row15_col0\" class=\"data row15 col0\" >Normalize </td>\n",
       "                        <td id=\"T_95dffd6e_8afd_11ea_8337_84fdd13f47d7row15_col1\" class=\"data row15 col1\" >True</td>\n",
       "            </tr>\n",
       "            <tr>\n",
       "                        <th id=\"T_95dffd6e_8afd_11ea_8337_84fdd13f47d7level0_row16\" class=\"row_heading level0 row16\" >16</th>\n",
       "                        <td id=\"T_95dffd6e_8afd_11ea_8337_84fdd13f47d7row16_col0\" class=\"data row16 col0\" >Normalize Method </td>\n",
       "                        <td id=\"T_95dffd6e_8afd_11ea_8337_84fdd13f47d7row16_col1\" class=\"data row16 col1\" >zscore</td>\n",
       "            </tr>\n",
       "            <tr>\n",
       "                        <th id=\"T_95dffd6e_8afd_11ea_8337_84fdd13f47d7level0_row17\" class=\"row_heading level0 row17\" >17</th>\n",
       "                        <td id=\"T_95dffd6e_8afd_11ea_8337_84fdd13f47d7row17_col0\" class=\"data row17 col0\" >Transformation </td>\n",
       "                        <td id=\"T_95dffd6e_8afd_11ea_8337_84fdd13f47d7row17_col1\" class=\"data row17 col1\" >False</td>\n",
       "            </tr>\n",
       "            <tr>\n",
       "                        <th id=\"T_95dffd6e_8afd_11ea_8337_84fdd13f47d7level0_row18\" class=\"row_heading level0 row18\" >18</th>\n",
       "                        <td id=\"T_95dffd6e_8afd_11ea_8337_84fdd13f47d7row18_col0\" class=\"data row18 col0\" >Transformation Method </td>\n",
       "                        <td id=\"T_95dffd6e_8afd_11ea_8337_84fdd13f47d7row18_col1\" class=\"data row18 col1\" >None</td>\n",
       "            </tr>\n",
       "            <tr>\n",
       "                        <th id=\"T_95dffd6e_8afd_11ea_8337_84fdd13f47d7level0_row19\" class=\"row_heading level0 row19\" >19</th>\n",
       "                        <td id=\"T_95dffd6e_8afd_11ea_8337_84fdd13f47d7row19_col0\" class=\"data row19 col0\" >PCA </td>\n",
       "                        <td id=\"T_95dffd6e_8afd_11ea_8337_84fdd13f47d7row19_col1\" class=\"data row19 col1\" >False</td>\n",
       "            </tr>\n",
       "            <tr>\n",
       "                        <th id=\"T_95dffd6e_8afd_11ea_8337_84fdd13f47d7level0_row20\" class=\"row_heading level0 row20\" >20</th>\n",
       "                        <td id=\"T_95dffd6e_8afd_11ea_8337_84fdd13f47d7row20_col0\" class=\"data row20 col0\" >PCA Method </td>\n",
       "                        <td id=\"T_95dffd6e_8afd_11ea_8337_84fdd13f47d7row20_col1\" class=\"data row20 col1\" >None</td>\n",
       "            </tr>\n",
       "            <tr>\n",
       "                        <th id=\"T_95dffd6e_8afd_11ea_8337_84fdd13f47d7level0_row21\" class=\"row_heading level0 row21\" >21</th>\n",
       "                        <td id=\"T_95dffd6e_8afd_11ea_8337_84fdd13f47d7row21_col0\" class=\"data row21 col0\" >PCA Components </td>\n",
       "                        <td id=\"T_95dffd6e_8afd_11ea_8337_84fdd13f47d7row21_col1\" class=\"data row21 col1\" >None</td>\n",
       "            </tr>\n",
       "            <tr>\n",
       "                        <th id=\"T_95dffd6e_8afd_11ea_8337_84fdd13f47d7level0_row22\" class=\"row_heading level0 row22\" >22</th>\n",
       "                        <td id=\"T_95dffd6e_8afd_11ea_8337_84fdd13f47d7row22_col0\" class=\"data row22 col0\" >Ignore Low Variance </td>\n",
       "                        <td id=\"T_95dffd6e_8afd_11ea_8337_84fdd13f47d7row22_col1\" class=\"data row22 col1\" >False</td>\n",
       "            </tr>\n",
       "            <tr>\n",
       "                        <th id=\"T_95dffd6e_8afd_11ea_8337_84fdd13f47d7level0_row23\" class=\"row_heading level0 row23\" >23</th>\n",
       "                        <td id=\"T_95dffd6e_8afd_11ea_8337_84fdd13f47d7row23_col0\" class=\"data row23 col0\" >Combine Rare Levels </td>\n",
       "                        <td id=\"T_95dffd6e_8afd_11ea_8337_84fdd13f47d7row23_col1\" class=\"data row23 col1\" >False</td>\n",
       "            </tr>\n",
       "            <tr>\n",
       "                        <th id=\"T_95dffd6e_8afd_11ea_8337_84fdd13f47d7level0_row24\" class=\"row_heading level0 row24\" >24</th>\n",
       "                        <td id=\"T_95dffd6e_8afd_11ea_8337_84fdd13f47d7row24_col0\" class=\"data row24 col0\" >Rare Level Threshold </td>\n",
       "                        <td id=\"T_95dffd6e_8afd_11ea_8337_84fdd13f47d7row24_col1\" class=\"data row24 col1\" >None</td>\n",
       "            </tr>\n",
       "            <tr>\n",
       "                        <th id=\"T_95dffd6e_8afd_11ea_8337_84fdd13f47d7level0_row25\" class=\"row_heading level0 row25\" >25</th>\n",
       "                        <td id=\"T_95dffd6e_8afd_11ea_8337_84fdd13f47d7row25_col0\" class=\"data row25 col0\" >Numeric Binning </td>\n",
       "                        <td id=\"T_95dffd6e_8afd_11ea_8337_84fdd13f47d7row25_col1\" class=\"data row25 col1\" >True</td>\n",
       "            </tr>\n",
       "            <tr>\n",
       "                        <th id=\"T_95dffd6e_8afd_11ea_8337_84fdd13f47d7level0_row26\" class=\"row_heading level0 row26\" >26</th>\n",
       "                        <td id=\"T_95dffd6e_8afd_11ea_8337_84fdd13f47d7row26_col0\" class=\"data row26 col0\" >Remove Outliers </td>\n",
       "                        <td id=\"T_95dffd6e_8afd_11ea_8337_84fdd13f47d7row26_col1\" class=\"data row26 col1\" >False</td>\n",
       "            </tr>\n",
       "            <tr>\n",
       "                        <th id=\"T_95dffd6e_8afd_11ea_8337_84fdd13f47d7level0_row27\" class=\"row_heading level0 row27\" >27</th>\n",
       "                        <td id=\"T_95dffd6e_8afd_11ea_8337_84fdd13f47d7row27_col0\" class=\"data row27 col0\" >Outliers Threshold </td>\n",
       "                        <td id=\"T_95dffd6e_8afd_11ea_8337_84fdd13f47d7row27_col1\" class=\"data row27 col1\" >None</td>\n",
       "            </tr>\n",
       "            <tr>\n",
       "                        <th id=\"T_95dffd6e_8afd_11ea_8337_84fdd13f47d7level0_row28\" class=\"row_heading level0 row28\" >28</th>\n",
       "                        <td id=\"T_95dffd6e_8afd_11ea_8337_84fdd13f47d7row28_col0\" class=\"data row28 col0\" >Remove Multicollinearity </td>\n",
       "                        <td id=\"T_95dffd6e_8afd_11ea_8337_84fdd13f47d7row28_col1\" class=\"data row28 col1\" >False</td>\n",
       "            </tr>\n",
       "            <tr>\n",
       "                        <th id=\"T_95dffd6e_8afd_11ea_8337_84fdd13f47d7level0_row29\" class=\"row_heading level0 row29\" >29</th>\n",
       "                        <td id=\"T_95dffd6e_8afd_11ea_8337_84fdd13f47d7row29_col0\" class=\"data row29 col0\" >Multicollinearity Threshold </td>\n",
       "                        <td id=\"T_95dffd6e_8afd_11ea_8337_84fdd13f47d7row29_col1\" class=\"data row29 col1\" >None</td>\n",
       "            </tr>\n",
       "            <tr>\n",
       "                        <th id=\"T_95dffd6e_8afd_11ea_8337_84fdd13f47d7level0_row30\" class=\"row_heading level0 row30\" >30</th>\n",
       "                        <td id=\"T_95dffd6e_8afd_11ea_8337_84fdd13f47d7row30_col0\" class=\"data row30 col0\" >Clustering </td>\n",
       "                        <td id=\"T_95dffd6e_8afd_11ea_8337_84fdd13f47d7row30_col1\" class=\"data row30 col1\" >False</td>\n",
       "            </tr>\n",
       "            <tr>\n",
       "                        <th id=\"T_95dffd6e_8afd_11ea_8337_84fdd13f47d7level0_row31\" class=\"row_heading level0 row31\" >31</th>\n",
       "                        <td id=\"T_95dffd6e_8afd_11ea_8337_84fdd13f47d7row31_col0\" class=\"data row31 col0\" >Clustering Iteration </td>\n",
       "                        <td id=\"T_95dffd6e_8afd_11ea_8337_84fdd13f47d7row31_col1\" class=\"data row31 col1\" >None</td>\n",
       "            </tr>\n",
       "            <tr>\n",
       "                        <th id=\"T_95dffd6e_8afd_11ea_8337_84fdd13f47d7level0_row32\" class=\"row_heading level0 row32\" >32</th>\n",
       "                        <td id=\"T_95dffd6e_8afd_11ea_8337_84fdd13f47d7row32_col0\" class=\"data row32 col0\" >Polynomial Features </td>\n",
       "                        <td id=\"T_95dffd6e_8afd_11ea_8337_84fdd13f47d7row32_col1\" class=\"data row32 col1\" >True</td>\n",
       "            </tr>\n",
       "            <tr>\n",
       "                        <th id=\"T_95dffd6e_8afd_11ea_8337_84fdd13f47d7level0_row33\" class=\"row_heading level0 row33\" >33</th>\n",
       "                        <td id=\"T_95dffd6e_8afd_11ea_8337_84fdd13f47d7row33_col0\" class=\"data row33 col0\" >Polynomial Degree </td>\n",
       "                        <td id=\"T_95dffd6e_8afd_11ea_8337_84fdd13f47d7row33_col1\" class=\"data row33 col1\" >2</td>\n",
       "            </tr>\n",
       "            <tr>\n",
       "                        <th id=\"T_95dffd6e_8afd_11ea_8337_84fdd13f47d7level0_row34\" class=\"row_heading level0 row34\" >34</th>\n",
       "                        <td id=\"T_95dffd6e_8afd_11ea_8337_84fdd13f47d7row34_col0\" class=\"data row34 col0\" >Trignometry Features </td>\n",
       "                        <td id=\"T_95dffd6e_8afd_11ea_8337_84fdd13f47d7row34_col1\" class=\"data row34 col1\" >True</td>\n",
       "            </tr>\n",
       "            <tr>\n",
       "                        <th id=\"T_95dffd6e_8afd_11ea_8337_84fdd13f47d7level0_row35\" class=\"row_heading level0 row35\" >35</th>\n",
       "                        <td id=\"T_95dffd6e_8afd_11ea_8337_84fdd13f47d7row35_col0\" class=\"data row35 col0\" >Polynomial Threshold </td>\n",
       "                        <td id=\"T_95dffd6e_8afd_11ea_8337_84fdd13f47d7row35_col1\" class=\"data row35 col1\" >0.1</td>\n",
       "            </tr>\n",
       "            <tr>\n",
       "                        <th id=\"T_95dffd6e_8afd_11ea_8337_84fdd13f47d7level0_row36\" class=\"row_heading level0 row36\" >36</th>\n",
       "                        <td id=\"T_95dffd6e_8afd_11ea_8337_84fdd13f47d7row36_col0\" class=\"data row36 col0\" >Group Features </td>\n",
       "                        <td id=\"T_95dffd6e_8afd_11ea_8337_84fdd13f47d7row36_col1\" class=\"data row36 col1\" >False</td>\n",
       "            </tr>\n",
       "            <tr>\n",
       "                        <th id=\"T_95dffd6e_8afd_11ea_8337_84fdd13f47d7level0_row37\" class=\"row_heading level0 row37\" >37</th>\n",
       "                        <td id=\"T_95dffd6e_8afd_11ea_8337_84fdd13f47d7row37_col0\" class=\"data row37 col0\" >Feature Selection </td>\n",
       "                        <td id=\"T_95dffd6e_8afd_11ea_8337_84fdd13f47d7row37_col1\" class=\"data row37 col1\" >False</td>\n",
       "            </tr>\n",
       "            <tr>\n",
       "                        <th id=\"T_95dffd6e_8afd_11ea_8337_84fdd13f47d7level0_row38\" class=\"row_heading level0 row38\" >38</th>\n",
       "                        <td id=\"T_95dffd6e_8afd_11ea_8337_84fdd13f47d7row38_col0\" class=\"data row38 col0\" >Features Selection Threshold </td>\n",
       "                        <td id=\"T_95dffd6e_8afd_11ea_8337_84fdd13f47d7row38_col1\" class=\"data row38 col1\" >None</td>\n",
       "            </tr>\n",
       "            <tr>\n",
       "                        <th id=\"T_95dffd6e_8afd_11ea_8337_84fdd13f47d7level0_row39\" class=\"row_heading level0 row39\" >39</th>\n",
       "                        <td id=\"T_95dffd6e_8afd_11ea_8337_84fdd13f47d7row39_col0\" class=\"data row39 col0\" >Feature Interaction </td>\n",
       "                        <td id=\"T_95dffd6e_8afd_11ea_8337_84fdd13f47d7row39_col1\" class=\"data row39 col1\" >True</td>\n",
       "            </tr>\n",
       "            <tr>\n",
       "                        <th id=\"T_95dffd6e_8afd_11ea_8337_84fdd13f47d7level0_row40\" class=\"row_heading level0 row40\" >40</th>\n",
       "                        <td id=\"T_95dffd6e_8afd_11ea_8337_84fdd13f47d7row40_col0\" class=\"data row40 col0\" >Feature Ratio </td>\n",
       "                        <td id=\"T_95dffd6e_8afd_11ea_8337_84fdd13f47d7row40_col1\" class=\"data row40 col1\" >False</td>\n",
       "            </tr>\n",
       "            <tr>\n",
       "                        <th id=\"T_95dffd6e_8afd_11ea_8337_84fdd13f47d7level0_row41\" class=\"row_heading level0 row41\" >41</th>\n",
       "                        <td id=\"T_95dffd6e_8afd_11ea_8337_84fdd13f47d7row41_col0\" class=\"data row41 col0\" >Interaction Threshold </td>\n",
       "                        <td id=\"T_95dffd6e_8afd_11ea_8337_84fdd13f47d7row41_col1\" class=\"data row41 col1\" >0.01</td>\n",
       "            </tr>\n",
       "    </tbody></table>"
      ],
      "text/plain": [
       "<pandas.io.formats.style.Styler at 0x1e38f079b88>"
      ]
     },
     "metadata": {},
     "output_type": "display_data"
    }
   ],
   "source": [
    "s2 = setup(data, target = 'charges', session_id = 123,\n",
    "           normalize = True,\n",
    "           polynomial_features = True, trigonometry_features = True, feature_interaction=True, \n",
    "           bin_numeric_features= ['age', 'bmi'])"
   ]
  },
  {
   "cell_type": "code",
   "execution_count": 9,
   "metadata": {},
   "outputs": [
    {
     "data": {
      "text/plain": [
       "Index(['age_Power2', 'bmi_Power2', 'sex_female', 'children_0', 'children_1',\n",
       "       'children_2', 'children_3', 'children_4', 'children_5', 'smoker_yes',\n",
       "       'region_northeast', 'region_northwest', 'region_southeast',\n",
       "       'region_southwest', 'age_0.0', 'age_1.0', 'age_10.0', 'age_11.0',\n",
       "       'age_2.0', 'age_3.0', 'age_4.0', 'age_5.0', 'age_6.0', 'age_7.0',\n",
       "       'age_8.0', 'age_9.0', 'bmi_0.0', 'bmi_1.0', 'bmi_10.0', 'bmi_11.0',\n",
       "       'bmi_2.0', 'bmi_3.0', 'bmi_4.0', 'bmi_5.0', 'bmi_6.0', 'bmi_7.0',\n",
       "       'bmi_8.0', 'bmi_9.0', 'smoker_yes_multiply_bmi_5.0',\n",
       "       'region_southeast_multiply_age_Power2',\n",
       "       'bmi_Power2_multiply_smoker_yes', 'age_Power2_multiply_smoker_yes',\n",
       "       'children_0_multiply_bmi_Power2',\n",
       "       'region_southeast_multiply_bmi_Power2',\n",
       "       'children_0_multiply_smoker_yes', 'sex_female_multiply_bmi_Power2',\n",
       "       'region_southeast_multiply_smoker_yes',\n",
       "       'smoker_yes_multiply_children_0', 'smoker_yes_multiply_bmi_Power2',\n",
       "       'children_0_multiply_age_Power2', 'children_1_multiply_smoker_yes',\n",
       "       'sex_female_multiply_smoker_yes', 'smoker_yes_multiply_children_2',\n",
       "       'children_2_multiply_age_Power2', 'children_1_multiply_age_Power2',\n",
       "       'region_southwest_multiply_smoker_yes',\n",
       "       'sex_female_multiply_age_Power2', 'bmi_7.0_multiply_smoker_yes',\n",
       "       'bmi_Power2_multiply_age_Power2', 'bmi_6.0_multiply_smoker_yes',\n",
       "       'smoker_yes_multiply_age_Power2', 'smoker_yes_multiply_sex_female'],\n",
       "      dtype='object')"
      ]
     },
     "execution_count": 9,
     "metadata": {},
     "output_type": "execute_result"
    }
   ],
   "source": [
    "s2[0].columns"
   ]
  },
  {
   "cell_type": "code",
   "execution_count": 10,
   "metadata": {},
   "outputs": [
    {
     "data": {
      "text/html": [
       "<div>\n",
       "<style scoped>\n",
       "    .dataframe tbody tr th:only-of-type {\n",
       "        vertical-align: middle;\n",
       "    }\n",
       "\n",
       "    .dataframe tbody tr th {\n",
       "        vertical-align: top;\n",
       "    }\n",
       "\n",
       "    .dataframe thead th {\n",
       "        text-align: right;\n",
       "    }\n",
       "</style>\n",
       "<table border=\"1\" class=\"dataframe\">\n",
       "  <thead>\n",
       "    <tr style=\"text-align: right;\">\n",
       "      <th></th>\n",
       "      <th>MAE</th>\n",
       "      <th>MSE</th>\n",
       "      <th>RMSE</th>\n",
       "      <th>R2</th>\n",
       "      <th>RMSLE</th>\n",
       "      <th>MAPE</th>\n",
       "    </tr>\n",
       "  </thead>\n",
       "  <tbody>\n",
       "    <tr>\n",
       "      <th>0</th>\n",
       "      <td>2476.5333</td>\n",
       "      <td>1.792665e+07</td>\n",
       "      <td>4233.9880</td>\n",
       "      <td>0.8929</td>\n",
       "      <td>0.3878</td>\n",
       "      <td>0.2842</td>\n",
       "    </tr>\n",
       "    <tr>\n",
       "      <th>1</th>\n",
       "      <td>3355.1345</td>\n",
       "      <td>3.404316e+07</td>\n",
       "      <td>5834.6515</td>\n",
       "      <td>0.8021</td>\n",
       "      <td>0.4613</td>\n",
       "      <td>0.3304</td>\n",
       "    </tr>\n",
       "    <tr>\n",
       "      <th>2</th>\n",
       "      <td>2919.7578</td>\n",
       "      <td>2.261994e+07</td>\n",
       "      <td>4756.0423</td>\n",
       "      <td>0.7136</td>\n",
       "      <td>0.5533</td>\n",
       "      <td>0.3790</td>\n",
       "    </tr>\n",
       "    <tr>\n",
       "      <th>3</th>\n",
       "      <td>2964.9649</td>\n",
       "      <td>2.283861e+07</td>\n",
       "      <td>4778.9761</td>\n",
       "      <td>0.8093</td>\n",
       "      <td>0.5456</td>\n",
       "      <td>0.4029</td>\n",
       "    </tr>\n",
       "    <tr>\n",
       "      <th>4</th>\n",
       "      <td>3097.0904</td>\n",
       "      <td>2.838265e+07</td>\n",
       "      <td>5327.5369</td>\n",
       "      <td>0.7889</td>\n",
       "      <td>0.5248</td>\n",
       "      <td>0.2831</td>\n",
       "    </tr>\n",
       "    <tr>\n",
       "      <th>5</th>\n",
       "      <td>2979.1330</td>\n",
       "      <td>2.035337e+07</td>\n",
       "      <td>4511.4710</td>\n",
       "      <td>0.8691</td>\n",
       "      <td>0.3543</td>\n",
       "      <td>0.2744</td>\n",
       "    </tr>\n",
       "    <tr>\n",
       "      <th>6</th>\n",
       "      <td>2687.7389</td>\n",
       "      <td>2.234181e+07</td>\n",
       "      <td>4726.7128</td>\n",
       "      <td>0.8480</td>\n",
       "      <td>0.4020</td>\n",
       "      <td>0.3279</td>\n",
       "    </tr>\n",
       "    <tr>\n",
       "      <th>7</th>\n",
       "      <td>3123.5060</td>\n",
       "      <td>2.697542e+07</td>\n",
       "      <td>5193.7863</td>\n",
       "      <td>0.8517</td>\n",
       "      <td>0.4707</td>\n",
       "      <td>0.3089</td>\n",
       "    </tr>\n",
       "    <tr>\n",
       "      <th>8</th>\n",
       "      <td>2813.0890</td>\n",
       "      <td>2.055905e+07</td>\n",
       "      <td>4534.2087</td>\n",
       "      <td>0.8672</td>\n",
       "      <td>0.3759</td>\n",
       "      <td>0.3151</td>\n",
       "    </tr>\n",
       "    <tr>\n",
       "      <th>9</th>\n",
       "      <td>3110.4590</td>\n",
       "      <td>2.651683e+07</td>\n",
       "      <td>5149.4496</td>\n",
       "      <td>0.8292</td>\n",
       "      <td>0.4661</td>\n",
       "      <td>0.3353</td>\n",
       "    </tr>\n",
       "    <tr>\n",
       "      <th>Mean</th>\n",
       "      <td>2952.7407</td>\n",
       "      <td>2.425575e+07</td>\n",
       "      <td>4904.6823</td>\n",
       "      <td>0.8272</td>\n",
       "      <td>0.4542</td>\n",
       "      <td>0.3241</td>\n",
       "    </tr>\n",
       "    <tr>\n",
       "      <th>SD</th>\n",
       "      <td>235.6330</td>\n",
       "      <td>4.501474e+06</td>\n",
       "      <td>447.0354</td>\n",
       "      <td>0.0490</td>\n",
       "      <td>0.0685</td>\n",
       "      <td>0.0393</td>\n",
       "    </tr>\n",
       "  </tbody>\n",
       "</table>\n",
       "</div>"
      ],
      "text/plain": [
       "            MAE           MSE       RMSE      R2   RMSLE    MAPE\n",
       "0     2476.5333  1.792665e+07  4233.9880  0.8929  0.3878  0.2842\n",
       "1     3355.1345  3.404316e+07  5834.6515  0.8021  0.4613  0.3304\n",
       "2     2919.7578  2.261994e+07  4756.0423  0.7136  0.5533  0.3790\n",
       "3     2964.9649  2.283861e+07  4778.9761  0.8093  0.5456  0.4029\n",
       "4     3097.0904  2.838265e+07  5327.5369  0.7889  0.5248  0.2831\n",
       "5     2979.1330  2.035337e+07  4511.4710  0.8691  0.3543  0.2744\n",
       "6     2687.7389  2.234181e+07  4726.7128  0.8480  0.4020  0.3279\n",
       "7     3123.5060  2.697542e+07  5193.7863  0.8517  0.4707  0.3089\n",
       "8     2813.0890  2.055905e+07  4534.2087  0.8672  0.3759  0.3151\n",
       "9     3110.4590  2.651683e+07  5149.4496  0.8292  0.4661  0.3353\n",
       "Mean  2952.7407  2.425575e+07  4904.6823  0.8272  0.4542  0.3241\n",
       "SD     235.6330  4.501474e+06   447.0354  0.0490  0.0685  0.0393"
      ]
     },
     "metadata": {},
     "output_type": "display_data"
    }
   ],
   "source": [
    "lr = create_model('lr')"
   ]
  },
  {
   "cell_type": "code",
   "execution_count": 11,
   "metadata": {},
   "outputs": [
    {
     "data": {
      "image/png": "[encoded data removed]",
      "text/plain": [
       "<Figure size 576x396 with 2 Axes>"
      ]
     },
     "metadata": {},
     "output_type": "display_data"
    }
   ],
   "source": [
    "plot_model(lr)"
   ]
  },
  {
   "cell_type": "code",
   "execution_count": 12,
   "metadata": {},
   "outputs": [
    {
     "name": "stdout",
     "output_type": "stream",
     "text": [
      "Transformation Pipeline and Model Succesfully Saved\n"
     ]
    }
   ],
   "source": [
    "save_model(lr, 'deployment_28042020')"
   ]
  },
  {
   "cell_type": "code",
   "execution_count": 13,
   "metadata": {},
   "outputs": [
    {
     "name": "stdout",
     "output_type": "stream",
     "text": [
      "Transformation Pipeline and Model Sucessfully Loaded\n"
     ]
    }
   ],
   "source": [
    "deployment_28042020 = load_model('deployment_28042020')"
   ]
  },
  {
   "cell_type": "code",
   "execution_count": 14,
   "metadata": {},
   "outputs": [
    {
     "data": {
      "text/plain": [
       "[Pipeline(memory=None,\n",
       "          steps=[('dtypes',\n",
       "                  DataTypes_Auto_infer(categorical_features=[],\n",
       "                                       display_types=True, features_todrop=[],\n",
       "                                       ml_usecase='regression',\n",
       "                                       numerical_features=[], target='charges',\n",
       "                                       time_features=[])),\n",
       "                 ('imputer',\n",
       "                  Simple_Imputer(categorical_strategy='not_available',\n",
       "                                 numeric_strategy='mean',\n",
       "                                 target_variable=None)),\n",
       "                 ('new_levels1',\n",
       "                  New_Catagorical_Levels...\n",
       "                 ('dummy', Dummify(target='charges')),\n",
       "                 ('fix_perfect', Remove_100(target='charges')),\n",
       "                 ('clean_names', Clean_Colum_Names()),\n",
       "                 ('feature_select', Empty()), ('fix_multi', Empty()),\n",
       "                 ('dfs',\n",
       "                  DFS_Classic(interactions=['multiply'], ml_usecase='regression',\n",
       "                              random_state=123, subclass='binary',\n",
       "                              target='charges',\n",
       "                              top_features_to_pick_percentage=None)),\n",
       "                 ('pca', Empty())],\n",
       "          verbose=False),\n",
       " LinearRegression(copy_X=True, fit_intercept=True, n_jobs=None, normalize=False),\n",
       " None]"
      ]
     },
     "execution_count": 14,
     "metadata": {},
     "output_type": "execute_result"
    }
   ],
   "source": [
    "deployment_28042020"
   ]
  },
  {
   "cell_type": "code",
   "execution_count": 16,
   "metadata": {},
   "outputs": [
    {
     "name": "stdout",
     "output_type": "stream",
     "text": [
      "75714.0\n"
     ]
    }
   ],
   "source": [
    "import requests\n",
    "url = 'https://pycaret-insurance.herokuapp.com/predict_api'\n",
    "pred = requests.post(url,json={'age':55, 'sex':'male', 'bmi':59, 'children':1, 'smoker':'male', 'region':'northwest'})\n",
    "print(pred.json())"
   ]
  }
 ],
 "metadata": {
  "kernelspec": {
   "display_name": "Python 3 (ipykernel)",
   "language": "python",
   "name": "python3"
  },
  "language_info": {
   "codemirror_mode": {
    "name": "ipython",
    "version": 3
   },
   "file_extension": ".py",
   "mimetype": "text/x-python",
   "name": "python",
   "nbconvert_exporter": "python",
   "pygments_lexer": "ipython3",
   "version": "3.9.7"
  }
 },
 "nbformat": 4,
 "nbformat_minor": 2
}
