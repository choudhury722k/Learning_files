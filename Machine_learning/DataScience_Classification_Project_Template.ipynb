{
 "cells": [
  {
   "cell_type": "markdown",
   "metadata": {
    "id": "2ooB3dgw1ckg"
   },
   "source": [
    "<div class=\"alert\" style=\"background-color:#abc; color:white; padding:0px 10px; border-radius:3px;\"><h3 style='margin:10px 10px; font-size:10px'> This work is licensed under the Creative Commons License <a href=\"https://creativecommons.org/licenses/by-sa/4.0/\">CC BY-SA</a>. This can be shared for educational purposes, with due credits to machinelearningplus.com</h3>\n",
    "</div>"
   ]
  },
  {
   "cell_type": "markdown",
   "metadata": {
    "id": "J8Z1G_WG1ckt"
   },
   "source": [
    "<div class=\"alert\" style=\"background-color:#fff; color:white; padding:0px 10px; border-radius:5px;\"><h1 style='margin:15px 15px; color:#006a79; font-size:40px'> Machine Learning Project Template</h1>\n",
    "</div>\n",
    "\n",
    "Just learning the concepts and theory is not sufficient to ace in machine learning. You need to implement the concepts and try to solve more practical problems.\n",
    "\n",
    "In this notebook, you will learn how to implement machine learning. You will be able to kickstart your project using this template. "
   ]
  },
  {
   "cell_type": "markdown",
   "metadata": {
    "id": "CGFNuG-w1cku"
   },
   "source": [
    "### Content:\n",
    "1. Load the Data\n",
    "  - Import libraries\n",
    "  - Load the datasets\n",
    "  \n",
    "2. Overview of the Data\n",
    "  - Descriptive Statistics\n",
    "  - Missing Values\n",
    "  \n",
    "3. Exploratory Data Analysis\n",
    "  - Create list of columns by data type\n",
    "  - Check the distribution of target class\n",
    "  - Check the distribution of every feature\n",
    "  - Check how differnt numerical features are realated to target class\n",
    "  \n",
    "4. Data Preparation\n",
    "  - Data Cleaning\n",
    "  - Feature Encoding\n",
    "  - Split X & y\n",
    "  - Feature Scaling\n",
    "  - Train Test split\n",
    "  \n",
    "5. Model Building\n",
    "  - Train Model\n",
    "  - Model Prediction\n",
    "  - Model Evaluation\n",
    "  \n",
    "7. Improve Model\n",
    "  - Handle Class Imbalance\n",
    "  - Hyperparameter Tuning\n",
    "  - Save the Final Model"
   ]
  },
  {
   "cell_type": "markdown",
   "metadata": {
    "id": "YyJbhRRD1ckv"
   },
   "source": [
    "## Inputs\n",
    "\n",
    "The notebook is designed in such a way that you just need to plug in the input values given below and run the code. It will run on it's own and will build the model as well. "
   ]
  },
  {
   "cell_type": "code",
   "execution_count": null,
   "metadata": {
    "id": "mwYtxAAt1ckx"
   },
   "outputs": [],
   "source": [
    "# Input file name with path\n",
    "input_file_name = 'Churn_Modelling.csv'\n",
    "\n",
    "# Target class name\n",
    "input_target_class = \"Exited\"\n",
    "\n",
    "# Columns to be removed\n",
    "input_drop_col = \"CustomerId\"\n",
    "\n",
    "# Col datatype selection\n",
    "input_datatype_selection = 'auto'  # use auto if you don't want to provide column names by data type else use 'manual'\n",
    "\n",
    "# Categorical columns\n",
    "input_cat_columns = ['Surname', 'Geography', 'Gender', 'Gender', 'HasCrCard', 'IsActiveMember', 'Exited']\n",
    "\n",
    "# Numerical columns\n",
    "input_num_columns = ['CreditScore', 'Age', 'Tenure', 'Balance', 'NumOfProducts', 'EstimatedSalary']\n",
    "\n",
    "# Encoding technique\n",
    "input_encoding = 'LabelEncoder' # choose the encoding technique from 'LabelEncoder', 'OneHotEncoder', 'OrdinalEncoder' and 'FrequencyEncoder'\n",
    "\n",
    "# Handle missing value\n",
    "input_treat_missing_value = 'drop' # choose how to handle missing values from 'drop','inpute' and 'ignore'\n",
    "\n",
    "# Machine learning algorithm\n",
    "input_ml_algo = 'RandomForestClassifier' # choose the ML algorithm from 'LogisiticRegression', 'DecisionTreeClassifier', 'RandomForestClassifier', 'XGBClassifier' and LGBMClassifier'"
   ]
  },
  {
   "cell_type": "markdown",
   "metadata": {
    "id": "v3CAWyIl1cky"
   },
   "source": [
    "<div class=\"alert alert-info\" style=\"background-color:#006a79; color:white; padding:0px 10px; border-radius:5px;\"><h2 style='margin:10px 5px'>1. Load the Data</h2>\n",
    "</div>\n",
    "\n",
    "In this section you will:\n",
    "\n",
    "- Import the libraries\n",
    "- Load the dataset"
   ]
  },
  {
   "cell_type": "markdown",
   "metadata": {
    "id": "VJ87ElRJ1ckz"
   },
   "source": [
    "### 1.1. Import Libraries\n",
    "\n",
    "Import all the libraries in the first cell itself"
   ]
  },
  {
   "cell_type": "code",
   "execution_count": null,
   "metadata": {
    "id": "PD4FhFf-1ck1"
   },
   "outputs": [],
   "source": [
    "# Import libraries \n",
    "\n",
    "# Data Manipulation\n",
    "import numpy as np \n",
    "import pandas as pd\n",
    "from   pandas import DataFrame\n",
    "\n",
    "# Data Visualization\n",
    "import seaborn as sns\n",
    "import matplotlib.pyplot as plt\n",
    "\n",
    "# Machine Learning\n",
    "from   sklearn.preprocessing import LabelEncoder, StandardScaler, OrdinalEncoder\n",
    "from   sklearn.impute import SimpleImputer\n",
    "from   sklearn.model_selection import train_test_split, GridSearchCV\n",
    "from   sklearn.metrics import confusion_matrix , classification_report, accuracy_score, roc_auc_score, plot_roc_curve\n",
    "from   sklearn.linear_model import LogisticRegression\n",
    "from   sklearn.tree import DecisionTreeClassifier\n",
    "from   sklearn.ensemble import RandomForestClassifier\n",
    "from   xgboost import XGBClassifier\n",
    "from   lightgbm import LGBMClassifier\n",
    "from   imblearn.over_sampling import RandomOverSampler\n",
    "import pickle\n",
    "\n",
    "# Maths\n",
    "import math\n",
    "\n",
    "# Set the options\n",
    "pd.set_option('display.max_rows', 800)\n",
    "pd.set_option('display.max_columns', 500)\n",
    "%matplotlib inline"
   ]
  },
  {
   "cell_type": "markdown",
   "metadata": {
    "id": "tCmOHLQ71ck2"
   },
   "source": [
    "### 1.2. Load the datasets\n",
    "\n",
    "Load the dataset using pd.read_csv()"
   ]
  },
  {
   "cell_type": "code",
   "execution_count": null,
   "metadata": {
    "id": "lumwjIQr1ck2",
    "outputId": "1a064bc8-67ec-4028-ad88-a9fa0c9d991f"
   },
   "outputs": [
    {
     "data": {
      "text/html": [
       "<div>\n",
       "<style scoped>\n",
       "    .dataframe tbody tr th:only-of-type {\n",
       "        vertical-align: middle;\n",
       "    }\n",
       "\n",
       "    .dataframe tbody tr th {\n",
       "        vertical-align: top;\n",
       "    }\n",
       "\n",
       "    .dataframe thead th {\n",
       "        text-align: right;\n",
       "    }\n",
       "</style>\n",
       "<table border=\"1\" class=\"dataframe\">\n",
       "  <thead>\n",
       "    <tr style=\"text-align: right;\">\n",
       "      <th></th>\n",
       "      <th>CustomerId</th>\n",
       "      <th>Surname</th>\n",
       "      <th>CreditScore</th>\n",
       "      <th>Geography</th>\n",
       "      <th>Gender</th>\n",
       "      <th>Age</th>\n",
       "      <th>Tenure</th>\n",
       "      <th>Balance</th>\n",
       "      <th>NumOfProducts</th>\n",
       "      <th>HasCrCard</th>\n",
       "      <th>IsActiveMember</th>\n",
       "      <th>EstimatedSalary</th>\n",
       "      <th>Exited</th>\n",
       "    </tr>\n",
       "  </thead>\n",
       "  <tbody>\n",
       "    <tr>\n",
       "      <th>0</th>\n",
       "      <td>15634602</td>\n",
       "      <td>Hargrave</td>\n",
       "      <td>619</td>\n",
       "      <td>France</td>\n",
       "      <td>Female</td>\n",
       "      <td>42.0</td>\n",
       "      <td>2</td>\n",
       "      <td>0.00</td>\n",
       "      <td>1</td>\n",
       "      <td>1</td>\n",
       "      <td>1</td>\n",
       "      <td>101348.88</td>\n",
       "      <td>1</td>\n",
       "    </tr>\n",
       "    <tr>\n",
       "      <th>1</th>\n",
       "      <td>15647311</td>\n",
       "      <td>Hill</td>\n",
       "      <td>608</td>\n",
       "      <td>Spain</td>\n",
       "      <td>Female</td>\n",
       "      <td>41.0</td>\n",
       "      <td>1</td>\n",
       "      <td>83807.86</td>\n",
       "      <td>1</td>\n",
       "      <td>0</td>\n",
       "      <td>1</td>\n",
       "      <td>112542.58</td>\n",
       "      <td>0</td>\n",
       "    </tr>\n",
       "    <tr>\n",
       "      <th>2</th>\n",
       "      <td>15619304</td>\n",
       "      <td>Onio</td>\n",
       "      <td>502</td>\n",
       "      <td>France</td>\n",
       "      <td>Female</td>\n",
       "      <td>42.0</td>\n",
       "      <td>8</td>\n",
       "      <td>159660.80</td>\n",
       "      <td>3</td>\n",
       "      <td>1</td>\n",
       "      <td>0</td>\n",
       "      <td>113931.57</td>\n",
       "      <td>1</td>\n",
       "    </tr>\n",
       "    <tr>\n",
       "      <th>3</th>\n",
       "      <td>15701354</td>\n",
       "      <td>Boni</td>\n",
       "      <td>699</td>\n",
       "      <td>France</td>\n",
       "      <td>Female</td>\n",
       "      <td>39.0</td>\n",
       "      <td>1</td>\n",
       "      <td>0.00</td>\n",
       "      <td>2</td>\n",
       "      <td>0</td>\n",
       "      <td>0</td>\n",
       "      <td>93826.63</td>\n",
       "      <td>0</td>\n",
       "    </tr>\n",
       "    <tr>\n",
       "      <th>4</th>\n",
       "      <td>15737888</td>\n",
       "      <td>Mitchell</td>\n",
       "      <td>850</td>\n",
       "      <td>Spain</td>\n",
       "      <td>Female</td>\n",
       "      <td>43.0</td>\n",
       "      <td>2</td>\n",
       "      <td>125510.82</td>\n",
       "      <td>1</td>\n",
       "      <td>1</td>\n",
       "      <td>1</td>\n",
       "      <td>79084.10</td>\n",
       "      <td>0</td>\n",
       "    </tr>\n",
       "  </tbody>\n",
       "</table>\n",
       "</div>"
      ],
      "text/plain": [
       "   CustomerId   Surname  CreditScore Geography  Gender   Age  Tenure  \\\n",
       "0    15634602  Hargrave          619    France  Female  42.0       2   \n",
       "1    15647311      Hill          608     Spain  Female  41.0       1   \n",
       "2    15619304      Onio          502    France  Female  42.0       8   \n",
       "3    15701354      Boni          699    France  Female  39.0       1   \n",
       "4    15737888  Mitchell          850     Spain  Female  43.0       2   \n",
       "\n",
       "     Balance  NumOfProducts  HasCrCard  IsActiveMember  EstimatedSalary  \\\n",
       "0       0.00              1          1               1        101348.88   \n",
       "1   83807.86              1          0               1        112542.58   \n",
       "2  159660.80              3          1               0        113931.57   \n",
       "3       0.00              2          0               0         93826.63   \n",
       "4  125510.82              1          1               1         79084.10   \n",
       "\n",
       "   Exited  \n",
       "0       1  \n",
       "1       0  \n",
       "2       1  \n",
       "3       0  \n",
       "4       0  "
      ]
     },
     "execution_count": 3,
     "metadata": {
      "tags": []
     },
     "output_type": "execute_result"
    }
   ],
   "source": [
    "# Read data in form of a csv file\n",
    "df = pd.read_csv(input_file_name)\n",
    "\n",
    "# First 5 rows of the dataset\n",
    "df.head()"
   ]
  },
  {
   "cell_type": "markdown",
   "metadata": {
    "id": "pjR4bzK81ck4"
   },
   "source": [
    "<div class=\"alert alert-info\" style=\"background-color:#006a79; color:white; padding:0px 10px; border-radius:5px;\"><h2 style='margin:10px 5px'>2. Overview of the Data</h2>\n",
    "</div>\n",
    "\n",
    "Before attempting to solve the problem, it's very important to have a good understanding of data.\n",
    "\n",
    "In this section you will:\n",
    "- Get the descriptive statistics of the data\n",
    "- Get the information about missing values in the data"
   ]
  },
  {
   "cell_type": "markdown",
   "metadata": {
    "id": "wo4eKaKC1ck6"
   },
   "source": [
    "### 2.1. Descriptive Statistics\n",
    "\n",
    "As the name says descriptive statistics describes the data. It gives you information about\n",
    "- Mean, median, mode \n",
    "- Min, max\n",
    "- Count etc\n",
    "\n",
    "Let's understand the data we have"
   ]
  },
  {
   "cell_type": "code",
   "execution_count": null,
   "metadata": {
    "id": "GMMPfvip1ck6",
    "outputId": "afe15684-9549-4855-9d3e-21a304a9f9af"
   },
   "outputs": [
    {
     "data": {
      "text/plain": [
       "(10000, 13)"
      ]
     },
     "execution_count": 4,
     "metadata": {
      "tags": []
     },
     "output_type": "execute_result"
    }
   ],
   "source": [
    "# Dimension of the data\n",
    "df.shape"
   ]
  },
  {
   "cell_type": "code",
   "execution_count": null,
   "metadata": {
    "id": "wmkTixmK1ck7",
    "outputId": "cf159098-8961-4e03-ce1b-1286687019c9"
   },
   "outputs": [
    {
     "data": {
      "text/html": [
       "<div>\n",
       "<style scoped>\n",
       "    .dataframe tbody tr th:only-of-type {\n",
       "        vertical-align: middle;\n",
       "    }\n",
       "\n",
       "    .dataframe tbody tr th {\n",
       "        vertical-align: top;\n",
       "    }\n",
       "\n",
       "    .dataframe thead th {\n",
       "        text-align: right;\n",
       "    }\n",
       "</style>\n",
       "<table border=\"1\" class=\"dataframe\">\n",
       "  <thead>\n",
       "    <tr style=\"text-align: right;\">\n",
       "      <th></th>\n",
       "      <th>CustomerId</th>\n",
       "      <th>CreditScore</th>\n",
       "      <th>Age</th>\n",
       "      <th>Tenure</th>\n",
       "      <th>Balance</th>\n",
       "      <th>NumOfProducts</th>\n",
       "      <th>HasCrCard</th>\n",
       "      <th>IsActiveMember</th>\n",
       "      <th>EstimatedSalary</th>\n",
       "      <th>Exited</th>\n",
       "    </tr>\n",
       "  </thead>\n",
       "  <tbody>\n",
       "    <tr>\n",
       "      <th>count</th>\n",
       "      <td>1.000000e+04</td>\n",
       "      <td>10000.000000</td>\n",
       "      <td>9985.000000</td>\n",
       "      <td>10000.000000</td>\n",
       "      <td>10000.000000</td>\n",
       "      <td>10000.000000</td>\n",
       "      <td>10000.00000</td>\n",
       "      <td>10000.000000</td>\n",
       "      <td>10000.000000</td>\n",
       "      <td>10000.000000</td>\n",
       "    </tr>\n",
       "    <tr>\n",
       "      <th>mean</th>\n",
       "      <td>1.569094e+07</td>\n",
       "      <td>650.528800</td>\n",
       "      <td>38.922684</td>\n",
       "      <td>5.012800</td>\n",
       "      <td>76485.889288</td>\n",
       "      <td>1.530200</td>\n",
       "      <td>0.70550</td>\n",
       "      <td>0.515100</td>\n",
       "      <td>100090.239881</td>\n",
       "      <td>0.203700</td>\n",
       "    </tr>\n",
       "    <tr>\n",
       "      <th>std</th>\n",
       "      <td>7.193619e+04</td>\n",
       "      <td>96.653299</td>\n",
       "      <td>10.488949</td>\n",
       "      <td>2.892174</td>\n",
       "      <td>62397.405202</td>\n",
       "      <td>0.581654</td>\n",
       "      <td>0.45584</td>\n",
       "      <td>0.499797</td>\n",
       "      <td>57510.492818</td>\n",
       "      <td>0.402769</td>\n",
       "    </tr>\n",
       "    <tr>\n",
       "      <th>min</th>\n",
       "      <td>1.556570e+07</td>\n",
       "      <td>350.000000</td>\n",
       "      <td>18.000000</td>\n",
       "      <td>0.000000</td>\n",
       "      <td>0.000000</td>\n",
       "      <td>1.000000</td>\n",
       "      <td>0.00000</td>\n",
       "      <td>0.000000</td>\n",
       "      <td>11.580000</td>\n",
       "      <td>0.000000</td>\n",
       "    </tr>\n",
       "    <tr>\n",
       "      <th>25%</th>\n",
       "      <td>1.562853e+07</td>\n",
       "      <td>584.000000</td>\n",
       "      <td>32.000000</td>\n",
       "      <td>3.000000</td>\n",
       "      <td>0.000000</td>\n",
       "      <td>1.000000</td>\n",
       "      <td>0.00000</td>\n",
       "      <td>0.000000</td>\n",
       "      <td>51002.110000</td>\n",
       "      <td>0.000000</td>\n",
       "    </tr>\n",
       "    <tr>\n",
       "      <th>50%</th>\n",
       "      <td>1.569074e+07</td>\n",
       "      <td>652.000000</td>\n",
       "      <td>37.000000</td>\n",
       "      <td>5.000000</td>\n",
       "      <td>97198.540000</td>\n",
       "      <td>1.000000</td>\n",
       "      <td>1.00000</td>\n",
       "      <td>1.000000</td>\n",
       "      <td>100193.915000</td>\n",
       "      <td>0.000000</td>\n",
       "    </tr>\n",
       "    <tr>\n",
       "      <th>75%</th>\n",
       "      <td>1.575323e+07</td>\n",
       "      <td>718.000000</td>\n",
       "      <td>44.000000</td>\n",
       "      <td>7.000000</td>\n",
       "      <td>127644.240000</td>\n",
       "      <td>2.000000</td>\n",
       "      <td>1.00000</td>\n",
       "      <td>1.000000</td>\n",
       "      <td>149388.247500</td>\n",
       "      <td>0.000000</td>\n",
       "    </tr>\n",
       "    <tr>\n",
       "      <th>max</th>\n",
       "      <td>1.581569e+07</td>\n",
       "      <td>850.000000</td>\n",
       "      <td>92.000000</td>\n",
       "      <td>10.000000</td>\n",
       "      <td>250898.090000</td>\n",
       "      <td>4.000000</td>\n",
       "      <td>1.00000</td>\n",
       "      <td>1.000000</td>\n",
       "      <td>199992.480000</td>\n",
       "      <td>1.000000</td>\n",
       "    </tr>\n",
       "  </tbody>\n",
       "</table>\n",
       "</div>"
      ],
      "text/plain": [
       "         CustomerId   CreditScore          Age        Tenure        Balance  \\\n",
       "count  1.000000e+04  10000.000000  9985.000000  10000.000000   10000.000000   \n",
       "mean   1.569094e+07    650.528800    38.922684      5.012800   76485.889288   \n",
       "std    7.193619e+04     96.653299    10.488949      2.892174   62397.405202   \n",
       "min    1.556570e+07    350.000000    18.000000      0.000000       0.000000   \n",
       "25%    1.562853e+07    584.000000    32.000000      3.000000       0.000000   \n",
       "50%    1.569074e+07    652.000000    37.000000      5.000000   97198.540000   \n",
       "75%    1.575323e+07    718.000000    44.000000      7.000000  127644.240000   \n",
       "max    1.581569e+07    850.000000    92.000000     10.000000  250898.090000   \n",
       "\n",
       "       NumOfProducts    HasCrCard  IsActiveMember  EstimatedSalary  \\\n",
       "count   10000.000000  10000.00000    10000.000000     10000.000000   \n",
       "mean        1.530200      0.70550        0.515100    100090.239881   \n",
       "std         0.581654      0.45584        0.499797     57510.492818   \n",
       "min         1.000000      0.00000        0.000000        11.580000   \n",
       "25%         1.000000      0.00000        0.000000     51002.110000   \n",
       "50%         1.000000      1.00000        1.000000    100193.915000   \n",
       "75%         2.000000      1.00000        1.000000    149388.247500   \n",
       "max         4.000000      1.00000        1.000000    199992.480000   \n",
       "\n",
       "             Exited  \n",
       "count  10000.000000  \n",
       "mean       0.203700  \n",
       "std        0.402769  \n",
       "min        0.000000  \n",
       "25%        0.000000  \n",
       "50%        0.000000  \n",
       "75%        0.000000  \n",
       "max        1.000000  "
      ]
     },
     "execution_count": 5,
     "metadata": {
      "tags": []
     },
     "output_type": "execute_result"
    }
   ],
   "source": [
    "# Summary of the dataset\n",
    "df.describe()"
   ]
  },
  {
   "cell_type": "markdown",
   "metadata": {
    "id": "94IXReO41ck7"
   },
   "source": [
    "### 2.2 Missing Values\n",
    "\n",
    "Get the info about missing values in the dataframe"
   ]
  },
  {
   "cell_type": "code",
   "execution_count": null,
   "metadata": {
    "id": "NJZXuzoI1ck8",
    "outputId": "8ed167ec-6a3d-4c2e-f2f1-0049263b9fd8"
   },
   "outputs": [
    {
     "data": {
      "text/plain": [
       "CustomerId          0\n",
       "Surname             0\n",
       "CreditScore         0\n",
       "Geography           4\n",
       "Gender              0\n",
       "Age                15\n",
       "Tenure              0\n",
       "Balance             0\n",
       "NumOfProducts       0\n",
       "HasCrCard           0\n",
       "IsActiveMember      0\n",
       "EstimatedSalary     0\n",
       "Exited              0\n",
       "dtype: int64"
      ]
     },
     "execution_count": 6,
     "metadata": {
      "tags": []
     },
     "output_type": "execute_result"
    }
   ],
   "source": [
    "# Missing values for every column\n",
    "df.isna().sum()"
   ]
  },
  {
   "cell_type": "markdown",
   "metadata": {
    "id": "pACniI3O1ck8"
   },
   "source": [
    "<div class=\"alert alert-info\" style=\"background-color:#006a79; color:white; padding:0px 10px; border-radius:5px;\"><h2 style='margin:10px 5px'>3. Exploratory Data Analaysis</h2>\n",
    "</div>\n",
    "\n",
    "Exploratory data analysis is an approach to analyze or investigate data sets to find out patterns and see if any of the variables can be useful in predicting the y variables. Visual methods are often used to summarise the data. Primarily EDA is for seeing what the data can tell us beyond the formal modeling or hypothesis testing tasks.\n",
    "\n",
    "In this section you will:\n",
    "- Create list of columns by data type\n",
    "- Check the distribution of target class\n",
    "- Check the distribution of every feature\n",
    "- Check how differnt numerical features are realated to target class"
   ]
  },
  {
   "cell_type": "markdown",
   "metadata": {
    "id": "PPHiLUyB1ck-"
   },
   "source": [
    "### 3.1. Extract data types of columns\n",
    "\n",
    "It's better to get the list of columns by data types in the start itself. You won't have to manually write the name of columns while performing certain operations. So always get the list of columns in the start itself."
   ]
  },
  {
   "cell_type": "code",
   "execution_count": null,
   "metadata": {
    "id": "KHxlNHfr1ck-"
   },
   "outputs": [],
   "source": [
    "# Remove extra columns\n",
    "col_remove = input_drop_col\n",
    "df = df.drop(col_remove, axis = 1)"
   ]
  },
  {
   "cell_type": "code",
   "execution_count": null,
   "metadata": {
    "id": "lecSDx5M1ck-",
    "outputId": "822297ef-303d-45d7-9fef-f4b0f99a7cfe"
   },
   "outputs": [
    {
     "name": "stdout",
     "output_type": "stream",
     "text": [
      "Binary Columns :  ['Gender', 'HasCrCard', 'IsActiveMember', 'Exited']\n",
      "Categorical Columns :  ['Surname', 'Geography', 'Gender']\n",
      "Numerical Columns :  ['CreditScore', 'Age', 'Tenure', 'Balance', 'NumOfProducts', 'EstimatedSalary']\n"
     ]
    }
   ],
   "source": [
    "# Get the list of numeric and categorical columns according to the input\n",
    "if input_datatype_selection == \"auto\":\n",
    "\n",
    "    binary_columns = [col for col in df.columns if df[col].nunique() == 2]\n",
    "    print(\"Binary Columns : \", binary_columns)\n",
    "\n",
    "    categorical_columns = [col for col in df.columns if df[col].dtype == \"object\"]\n",
    "    print(\"Categorical Columns : \", categorical_columns)\n",
    "\n",
    "    categorical_columns = binary_columns + categorical_columns\n",
    "    categorical_columns = list(set(categorical_columns))\n",
    "\n",
    "    numerical_columns = [col for col in df.columns if col not in categorical_columns]\n",
    "    print(\"Numerical Columns : \", numerical_columns)\n",
    "    \n",
    "else:\n",
    "    categorical_columns = input_cat_columns\n",
    "    print(\"Categorical Columns : \", categorical_columns)\n",
    "    \n",
    "    numerical_columns   = input_num_columns\n",
    "    print(\"Numerical Columns : \", numerical_columns)"
   ]
  },
  {
   "cell_type": "markdown",
   "metadata": {
    "id": "YYH1hu_h1ck_"
   },
   "source": [
    "**Note :** There might be some mismatch in the data type of the columns, so in such cases you will have to correct it manually"
   ]
  },
  {
   "cell_type": "markdown",
   "metadata": {
    "id": "lRfP28Sz1ck_"
   },
   "source": [
    "### 3.2 Check distribution of target class\n",
    "\n",
    "You need to check the distribution of target class, see how many categories are there, is it balanced or not"
   ]
  },
  {
   "cell_type": "code",
   "execution_count": null,
   "metadata": {
    "id": "1KD3nXSq1ck_",
    "outputId": "136085a0-d7c2-4f39-f156-57424f74cd35"
   },
   "outputs": [
    {
     "data": {
      "image/png": "[encoded data removed]",
      "text/plain": [
       "<Figure size 432x288 with 1 Axes>"
      ]
     },
     "metadata": {
      "needs_background": "light",
      "tags": []
     },
     "output_type": "display_data"
    }
   ],
   "source": [
    "# Check distribution of target class\n",
    "sns.countplot(y=df[input_target_class] ,data=df)\n",
    "plt.xlabel(\"Count of each Target class\")\n",
    "plt.ylabel(\"Target classes\")\n",
    "plt.show()"
   ]
  },
  {
   "cell_type": "markdown",
   "metadata": {
    "id": "uVVSO8vM1ck_"
   },
   "source": [
    "### 3.3. Check the distribution of every feature"
   ]
  },
  {
   "cell_type": "code",
   "execution_count": null,
   "metadata": {
    "id": "GA3hL7ho1clA",
    "outputId": "c60a0f52-a726-4c8c-c183-25b55f2189a8"
   },
   "outputs": [
    {
     "data": {
      "image/png": "[encoded data removed]",
      "text/plain": [
       "<Figure size 1080x864 with 9 Axes>"
      ]
     },
     "metadata": {
      "needs_background": "light",
      "tags": []
     },
     "output_type": "display_data"
    }
   ],
   "source": [
    "# Check the distribution of all the features\n",
    "df.hist(figsize=(15,12),bins = 15)\n",
    "plt.title(\"Features Distribution\")\n",
    "plt.show()"
   ]
  },
  {
   "cell_type": "markdown",
   "metadata": {
    "id": "K9GS53kt1clB"
   },
   "source": [
    "### 3.4 Check how differnt numerical features are realated to target class"
   ]
  },
  {
   "cell_type": "code",
   "execution_count": null,
   "metadata": {
    "id": "I8pS1M651clB"
   },
   "outputs": [],
   "source": [
    "# Number of rows and columns in the plot\n",
    "n_cols = 3\n",
    "n_rows = math.ceil(len(numerical_columns)/n_cols)"
   ]
  },
  {
   "cell_type": "code",
   "execution_count": null,
   "metadata": {
    "id": "caRWkZbJ1clC",
    "outputId": "02aaf105-0141-45f4-e64d-e648b0b4ca50"
   },
   "outputs": [
    {
     "data": {
      "image/png": "[encoded data removed]",
      "text/plain": [
       "<Figure size 2160x2160 with 6 Axes>"
      ]
     },
     "metadata": {
      "needs_background": "light",
      "tags": []
     },
     "output_type": "display_data"
    }
   ],
   "source": [
    "# Check the distribution of y variable corresponding to every x variable \n",
    "fig,ax = plt.subplots(nrows = n_rows, ncols = n_cols, figsize=(30,30))\n",
    "row = 0\n",
    "col = 0\n",
    "for i in numerical_columns:\n",
    "    if col > 2:\n",
    "        row += 1\n",
    "        col = 0\n",
    "    axes = ax[row,col]\n",
    "    sns.boxplot(x = df[input_target_class], y = df[i],ax = axes)\n",
    "    col += 1\n",
    "plt.tight_layout()\n",
    "plt.title(\"Individual Features by Class\")\n",
    "plt.show()"
   ]
  },
  {
   "cell_type": "markdown",
   "metadata": {
    "id": "Jqjpx_rM1clC"
   },
   "source": [
    "<div class=\"alert alert-info\" style=\"background-color:#006a79; color:white; padding:0px 10px; border-radius:5px;\"><h2 style='margin:10px 5px'>4. Data Preparation</h2>\n",
    "</div>\n",
    "\n",
    "The data is not yet ready for model building. You need to process the data and make it ready for model building\n",
    "\n",
    "In this section you will:\n",
    "- Clean the data\n",
    "- Encode the categorical features\n",
    "- Split the dataset in X and y dataset\n",
    "- Scale the features\n",
    "- Split the data in train and test set"
   ]
  },
  {
   "cell_type": "markdown",
   "metadata": {
    "id": "tq-6stRW1clC"
   },
   "source": [
    "### 4.1. Data Cleaning\n",
    "\n",
    "Machine Learning works on the idea of garbage in - garbage out. If you feed in dirty data, the results won't be good. Hence it's very important to clean the data before training the model.\n",
    "\n",
    "**Sklearn algorithms need missing value imputation but XGBoost, LightGBM etc does not require missing value imputation**\n",
    "\n",
    "There are various ways to handle missing values. Some of the ways are:\n",
    "- Drop the rows with missing values\n",
    "- Impute the missing values with mean, median, mode, most frequent category, unknown category etc\n",
    "\n",
    "Here you can decide how you want to handle the missing data"
   ]
  },
  {
   "cell_type": "code",
   "execution_count": null,
   "metadata": {
    "id": "HD4yYFX41clC",
    "outputId": "b6f2f3fb-abb9-48f6-c0dd-4aecad8ba717"
   },
   "outputs": [
    {
     "name": "stdout",
     "output_type": "stream",
     "text": [
      "(9981, 12)\n"
     ]
    }
   ],
   "source": [
    "# Select how you wish to treat missing values according to the input provided\n",
    "if input_treat_missing_value == 'drop':\n",
    "    \n",
    "    # drop rows with missing values\n",
    "    df.dropna(inplace=True)\n",
    "    print(df.shape)\n",
    "\n",
    "elif input_treat_missing_value == 'impute': \n",
    "    \n",
    "    # Impute missing values\n",
    "    for col in numerical_columns:\n",
    "        df[col] = df[col].fillna(df[col].mean())\n",
    "    for col in categorical_columns:\n",
    "        df[col] = df[col].fillna(\"Unknown\")\n",
    "elif input_treat_missing_value == 'ignore':\n",
    "    print(\"Ignore missing values\")"
   ]
  },
  {
   "cell_type": "code",
   "execution_count": null,
   "metadata": {
    "id": "rk3oNTHW1clD",
    "outputId": "551288e0-0c56-4abe-c854-814be49ec195"
   },
   "outputs": [
    {
     "data": {
      "text/html": [
       "<div>\n",
       "<style scoped>\n",
       "    .dataframe tbody tr th:only-of-type {\n",
       "        vertical-align: middle;\n",
       "    }\n",
       "\n",
       "    .dataframe tbody tr th {\n",
       "        vertical-align: top;\n",
       "    }\n",
       "\n",
       "    .dataframe thead th {\n",
       "        text-align: right;\n",
       "    }\n",
       "</style>\n",
       "<table border=\"1\" class=\"dataframe\">\n",
       "  <thead>\n",
       "    <tr style=\"text-align: right;\">\n",
       "      <th></th>\n",
       "      <th>Surname</th>\n",
       "      <th>CreditScore</th>\n",
       "      <th>Geography</th>\n",
       "      <th>Gender</th>\n",
       "      <th>Age</th>\n",
       "      <th>Tenure</th>\n",
       "      <th>Balance</th>\n",
       "      <th>NumOfProducts</th>\n",
       "      <th>HasCrCard</th>\n",
       "      <th>IsActiveMember</th>\n",
       "      <th>EstimatedSalary</th>\n",
       "      <th>Exited</th>\n",
       "    </tr>\n",
       "  </thead>\n",
       "  <tbody>\n",
       "    <tr>\n",
       "      <th>0</th>\n",
       "      <td>Hargrave</td>\n",
       "      <td>619</td>\n",
       "      <td>France</td>\n",
       "      <td>Female</td>\n",
       "      <td>42.0</td>\n",
       "      <td>2</td>\n",
       "      <td>0.00</td>\n",
       "      <td>1</td>\n",
       "      <td>1</td>\n",
       "      <td>1</td>\n",
       "      <td>101348.88</td>\n",
       "      <td>1</td>\n",
       "    </tr>\n",
       "    <tr>\n",
       "      <th>1</th>\n",
       "      <td>Hill</td>\n",
       "      <td>608</td>\n",
       "      <td>Spain</td>\n",
       "      <td>Female</td>\n",
       "      <td>41.0</td>\n",
       "      <td>1</td>\n",
       "      <td>83807.86</td>\n",
       "      <td>1</td>\n",
       "      <td>0</td>\n",
       "      <td>1</td>\n",
       "      <td>112542.58</td>\n",
       "      <td>0</td>\n",
       "    </tr>\n",
       "    <tr>\n",
       "      <th>2</th>\n",
       "      <td>Onio</td>\n",
       "      <td>502</td>\n",
       "      <td>France</td>\n",
       "      <td>Female</td>\n",
       "      <td>42.0</td>\n",
       "      <td>8</td>\n",
       "      <td>159660.80</td>\n",
       "      <td>3</td>\n",
       "      <td>1</td>\n",
       "      <td>0</td>\n",
       "      <td>113931.57</td>\n",
       "      <td>1</td>\n",
       "    </tr>\n",
       "    <tr>\n",
       "      <th>3</th>\n",
       "      <td>Boni</td>\n",
       "      <td>699</td>\n",
       "      <td>France</td>\n",
       "      <td>Female</td>\n",
       "      <td>39.0</td>\n",
       "      <td>1</td>\n",
       "      <td>0.00</td>\n",
       "      <td>2</td>\n",
       "      <td>0</td>\n",
       "      <td>0</td>\n",
       "      <td>93826.63</td>\n",
       "      <td>0</td>\n",
       "    </tr>\n",
       "    <tr>\n",
       "      <th>4</th>\n",
       "      <td>Mitchell</td>\n",
       "      <td>850</td>\n",
       "      <td>Spain</td>\n",
       "      <td>Female</td>\n",
       "      <td>43.0</td>\n",
       "      <td>2</td>\n",
       "      <td>125510.82</td>\n",
       "      <td>1</td>\n",
       "      <td>1</td>\n",
       "      <td>1</td>\n",
       "      <td>79084.10</td>\n",
       "      <td>0</td>\n",
       "    </tr>\n",
       "  </tbody>\n",
       "</table>\n",
       "</div>"
      ],
      "text/plain": [
       "    Surname  CreditScore Geography  Gender   Age  Tenure    Balance  \\\n",
       "0  Hargrave          619    France  Female  42.0       2       0.00   \n",
       "1      Hill          608     Spain  Female  41.0       1   83807.86   \n",
       "2      Onio          502    France  Female  42.0       8  159660.80   \n",
       "3      Boni          699    France  Female  39.0       1       0.00   \n",
       "4  Mitchell          850     Spain  Female  43.0       2  125510.82   \n",
       "\n",
       "   NumOfProducts  HasCrCard  IsActiveMember  EstimatedSalary  Exited  \n",
       "0              1          1               1        101348.88       1  \n",
       "1              1          0               1        112542.58       0  \n",
       "2              3          1               0        113931.57       1  \n",
       "3              2          0               0         93826.63       0  \n",
       "4              1          1               1         79084.10       0  "
      ]
     },
     "execution_count": 14,
     "metadata": {
      "tags": []
     },
     "output_type": "execute_result"
    }
   ],
   "source": [
    "df.head()"
   ]
  },
  {
   "cell_type": "markdown",
   "metadata": {
    "id": "4Nsi92yV1clF"
   },
   "source": [
    "### 4.2. Feature Encoding\n",
    "\n",
    "Encoding is the process of converting data from one form to another. Most of the Machine learning algorithms can not handle categorical values unless we convert them to numerical values. Many algorithm’s performances vary based on how Categorical columns are encoded.\n",
    "\n",
    "There are lot of ways in which you can encode the categorical variables. Some of those are:\n",
    "- Label Encoding\n",
    "- One Hot Encoding\n",
    "- Ordinal Encoding\n",
    "- Frequency Encoding"
   ]
  },
  {
   "cell_type": "code",
   "execution_count": null,
   "metadata": {
    "id": "LIRga8ZR1clF",
    "outputId": "0134d7c3-cbd3-4a1c-92bc-d5e4d8d60436"
   },
   "outputs": [
    {
     "data": {
      "text/plain": [
       "['HasCrCard', 'Geography', 'Surname', 'Gender', 'IsActiveMember']"
      ]
     },
     "execution_count": 15,
     "metadata": {
      "tags": []
     },
     "output_type": "execute_result"
    }
   ],
   "source": [
    "categorical_columns.remove(input_target_class)\n",
    "categorical_columns"
   ]
  },
  {
   "cell_type": "code",
   "execution_count": null,
   "metadata": {
    "id": "JvnKabPd1clF"
   },
   "outputs": [],
   "source": [
    "# Select the encoding technique according to the input provided\n",
    "if input_encoding == \"LabelEncoder\":\n",
    "    # Use LabelEncoder function from sklearn\n",
    "    le = LabelEncoder()\n",
    "    df[categorical_columns] = df[categorical_columns].apply(lambda col: le.fit_transform(col))\n",
    "    \n",
    "elif input_encoding == \"OneHotEncoder\":\n",
    "    # Use pandas get dummies function to one hot encode\n",
    "    df = pd.get_dummies(df, columns=categorical_columns)\n",
    "    \n",
    "elif input_encoding == \"OrdinalEncoder\":\n",
    "    # Use OrdinalEncoder function from sklearn\n",
    "    oe = OrdinalEncoder()\n",
    "    df[categorical_columns] = oe.fit_transform(df[categorical_columns])\n",
    "elif input_encoding == \"FrequencyEncoder\":\n",
    "    # Frequency encode\n",
    "    for variable in categorical_columns:\n",
    "        # group by frequency \n",
    "        fq = df.groupby(variable).size()/len(df)    \n",
    "        # mapping values to dataframe \n",
    "        df.loc[:, \"{}\".format(variable)] = df[variable].map(fq) "
   ]
  },
  {
   "cell_type": "code",
   "execution_count": null,
   "metadata": {
    "id": "1c1Fqqxp1clG",
    "outputId": "f90c42c8-1f69-4530-d239-ebe52fd67936"
   },
   "outputs": [
    {
     "data": {
      "text/html": [
       "<div>\n",
       "<style scoped>\n",
       "    .dataframe tbody tr th:only-of-type {\n",
       "        vertical-align: middle;\n",
       "    }\n",
       "\n",
       "    .dataframe tbody tr th {\n",
       "        vertical-align: top;\n",
       "    }\n",
       "\n",
       "    .dataframe thead th {\n",
       "        text-align: right;\n",
       "    }\n",
       "</style>\n",
       "<table border=\"1\" class=\"dataframe\">\n",
       "  <thead>\n",
       "    <tr style=\"text-align: right;\">\n",
       "      <th></th>\n",
       "      <th>Surname</th>\n",
       "      <th>CreditScore</th>\n",
       "      <th>Geography</th>\n",
       "      <th>Gender</th>\n",
       "      <th>Age</th>\n",
       "      <th>Tenure</th>\n",
       "      <th>Balance</th>\n",
       "      <th>NumOfProducts</th>\n",
       "      <th>HasCrCard</th>\n",
       "      <th>IsActiveMember</th>\n",
       "      <th>EstimatedSalary</th>\n",
       "      <th>Exited</th>\n",
       "    </tr>\n",
       "  </thead>\n",
       "  <tbody>\n",
       "    <tr>\n",
       "      <th>0</th>\n",
       "      <td>1113</td>\n",
       "      <td>619</td>\n",
       "      <td>0</td>\n",
       "      <td>0</td>\n",
       "      <td>42.0</td>\n",
       "      <td>2</td>\n",
       "      <td>0.00</td>\n",
       "      <td>1</td>\n",
       "      <td>1</td>\n",
       "      <td>1</td>\n",
       "      <td>101348.88</td>\n",
       "      <td>1</td>\n",
       "    </tr>\n",
       "    <tr>\n",
       "      <th>1</th>\n",
       "      <td>1175</td>\n",
       "      <td>608</td>\n",
       "      <td>2</td>\n",
       "      <td>0</td>\n",
       "      <td>41.0</td>\n",
       "      <td>1</td>\n",
       "      <td>83807.86</td>\n",
       "      <td>1</td>\n",
       "      <td>0</td>\n",
       "      <td>1</td>\n",
       "      <td>112542.58</td>\n",
       "      <td>0</td>\n",
       "    </tr>\n",
       "    <tr>\n",
       "      <th>2</th>\n",
       "      <td>2036</td>\n",
       "      <td>502</td>\n",
       "      <td>0</td>\n",
       "      <td>0</td>\n",
       "      <td>42.0</td>\n",
       "      <td>8</td>\n",
       "      <td>159660.80</td>\n",
       "      <td>3</td>\n",
       "      <td>1</td>\n",
       "      <td>0</td>\n",
       "      <td>113931.57</td>\n",
       "      <td>1</td>\n",
       "    </tr>\n",
       "    <tr>\n",
       "      <th>3</th>\n",
       "      <td>288</td>\n",
       "      <td>699</td>\n",
       "      <td>0</td>\n",
       "      <td>0</td>\n",
       "      <td>39.0</td>\n",
       "      <td>1</td>\n",
       "      <td>0.00</td>\n",
       "      <td>2</td>\n",
       "      <td>0</td>\n",
       "      <td>0</td>\n",
       "      <td>93826.63</td>\n",
       "      <td>0</td>\n",
       "    </tr>\n",
       "    <tr>\n",
       "      <th>4</th>\n",
       "      <td>1819</td>\n",
       "      <td>850</td>\n",
       "      <td>2</td>\n",
       "      <td>0</td>\n",
       "      <td>43.0</td>\n",
       "      <td>2</td>\n",
       "      <td>125510.82</td>\n",
       "      <td>1</td>\n",
       "      <td>1</td>\n",
       "      <td>1</td>\n",
       "      <td>79084.10</td>\n",
       "      <td>0</td>\n",
       "    </tr>\n",
       "  </tbody>\n",
       "</table>\n",
       "</div>"
      ],
      "text/plain": [
       "   Surname  CreditScore  Geography  Gender   Age  Tenure    Balance  \\\n",
       "0     1113          619          0       0  42.0       2       0.00   \n",
       "1     1175          608          2       0  41.0       1   83807.86   \n",
       "2     2036          502          0       0  42.0       8  159660.80   \n",
       "3      288          699          0       0  39.0       1       0.00   \n",
       "4     1819          850          2       0  43.0       2  125510.82   \n",
       "\n",
       "   NumOfProducts  HasCrCard  IsActiveMember  EstimatedSalary  Exited  \n",
       "0              1          1               1        101348.88       1  \n",
       "1              1          0               1        112542.58       0  \n",
       "2              3          1               0        113931.57       1  \n",
       "3              2          0               0         93826.63       0  \n",
       "4              1          1               1         79084.10       0  "
      ]
     },
     "execution_count": 17,
     "metadata": {
      "tags": []
     },
     "output_type": "execute_result"
    }
   ],
   "source": [
    "df.head()"
   ]
  },
  {
   "cell_type": "markdown",
   "metadata": {
    "id": "mRyvhiGh1clG"
   },
   "source": [
    "### 4.3. Split X and y\n",
    "\n",
    "Split the X and y dataset"
   ]
  },
  {
   "cell_type": "code",
   "execution_count": null,
   "metadata": {
    "id": "kZ4jnIEK1clG"
   },
   "outputs": [],
   "source": [
    "# Split the y variable series and x variables dataset\n",
    "X = df.drop([input_target_class],axis=1)\n",
    "y = df[input_target_class]"
   ]
  },
  {
   "cell_type": "markdown",
   "metadata": {
    "id": "wYN9nye71clH"
   },
   "source": [
    "### 4.4. Feature Scaling\n",
    "\n",
    "It is a technique to standardize the x variables (features) present in the data in a fixed range. It needs to be done before training the model.\n",
    "\n",
    "But if you are using tree based models, you should not go for feature scaling"
   ]
  },
  {
   "cell_type": "code",
   "execution_count": null,
   "metadata": {
    "id": "qCleFg0h1clH"
   },
   "outputs": [],
   "source": [
    "# Define the function to scale the data using StandardScaler()\n",
    "def scale_data(data):\n",
    "    \n",
    "    scaler = StandardScaler() \n",
    "\n",
    "    # transform data\n",
    "    scaled_data = scaler.fit_transform(data)\n",
    "    scaled_data = DataFrame(scaled_data)\n",
    "\n",
    "    scaled_data.columns = data.columns\n",
    "    \n",
    "    return scaled_data"
   ]
  },
  {
   "cell_type": "code",
   "execution_count": null,
   "metadata": {
    "id": "_rIdh58t1clI",
    "outputId": "ecc857c7-7f05-4e43-e24d-5938d4b4f5ff"
   },
   "outputs": [
    {
     "data": {
      "text/html": [
       "<div>\n",
       "<style scoped>\n",
       "    .dataframe tbody tr th:only-of-type {\n",
       "        vertical-align: middle;\n",
       "    }\n",
       "\n",
       "    .dataframe tbody tr th {\n",
       "        vertical-align: top;\n",
       "    }\n",
       "\n",
       "    .dataframe thead th {\n",
       "        text-align: right;\n",
       "    }\n",
       "</style>\n",
       "<table border=\"1\" class=\"dataframe\">\n",
       "  <thead>\n",
       "    <tr style=\"text-align: right;\">\n",
       "      <th></th>\n",
       "      <th>Surname</th>\n",
       "      <th>CreditScore</th>\n",
       "      <th>Geography</th>\n",
       "      <th>Gender</th>\n",
       "      <th>Age</th>\n",
       "      <th>Tenure</th>\n",
       "      <th>Balance</th>\n",
       "      <th>NumOfProducts</th>\n",
       "      <th>HasCrCard</th>\n",
       "      <th>IsActiveMember</th>\n",
       "      <th>EstimatedSalary</th>\n",
       "    </tr>\n",
       "  </thead>\n",
       "  <tbody>\n",
       "    <tr>\n",
       "      <th>0</th>\n",
       "      <td>-0.464693</td>\n",
       "      <td>-0.325963</td>\n",
       "      <td>-0.901909</td>\n",
       "      <td>-1.095405</td>\n",
       "      <td>0.293274</td>\n",
       "      <td>-1.041002</td>\n",
       "      <td>-1.227079</td>\n",
       "      <td>-0.911007</td>\n",
       "      <td>0.645717</td>\n",
       "      <td>0.970673</td>\n",
       "      <td>0.022297</td>\n",
       "    </tr>\n",
       "    <tr>\n",
       "      <th>1</th>\n",
       "      <td>-0.391308</td>\n",
       "      <td>-0.439829</td>\n",
       "      <td>1.515697</td>\n",
       "      <td>-1.095405</td>\n",
       "      <td>0.197939</td>\n",
       "      <td>-1.386802</td>\n",
       "      <td>0.116356</td>\n",
       "      <td>-0.911007</td>\n",
       "      <td>-1.548666</td>\n",
       "      <td>0.970673</td>\n",
       "      <td>0.216975</td>\n",
       "    </tr>\n",
       "    <tr>\n",
       "      <th>2</th>\n",
       "      <td>0.627793</td>\n",
       "      <td>-1.537080</td>\n",
       "      <td>-0.901909</td>\n",
       "      <td>-1.095405</td>\n",
       "      <td>0.293274</td>\n",
       "      <td>1.033796</td>\n",
       "      <td>1.332274</td>\n",
       "      <td>2.526711</td>\n",
       "      <td>0.645717</td>\n",
       "      <td>-1.030213</td>\n",
       "      <td>0.241132</td>\n",
       "    </tr>\n",
       "    <tr>\n",
       "      <th>3</th>\n",
       "      <td>-1.441185</td>\n",
       "      <td>0.502150</td>\n",
       "      <td>-0.901909</td>\n",
       "      <td>-1.095405</td>\n",
       "      <td>0.007269</td>\n",
       "      <td>-1.386802</td>\n",
       "      <td>-1.227079</td>\n",
       "      <td>0.807852</td>\n",
       "      <td>-1.548666</td>\n",
       "      <td>-1.030213</td>\n",
       "      <td>-0.108528</td>\n",
       "    </tr>\n",
       "    <tr>\n",
       "      <th>4</th>\n",
       "      <td>0.370947</td>\n",
       "      <td>2.065215</td>\n",
       "      <td>1.515697</td>\n",
       "      <td>-1.095405</td>\n",
       "      <td>0.388609</td>\n",
       "      <td>-1.041002</td>\n",
       "      <td>0.784852</td>\n",
       "      <td>-0.911007</td>\n",
       "      <td>0.645717</td>\n",
       "      <td>0.970673</td>\n",
       "      <td>-0.364926</td>\n",
       "    </tr>\n",
       "  </tbody>\n",
       "</table>\n",
       "</div>"
      ],
      "text/plain": [
       "    Surname  CreditScore  Geography    Gender       Age    Tenure   Balance  \\\n",
       "0 -0.464693    -0.325963  -0.901909 -1.095405  0.293274 -1.041002 -1.227079   \n",
       "1 -0.391308    -0.439829   1.515697 -1.095405  0.197939 -1.386802  0.116356   \n",
       "2  0.627793    -1.537080  -0.901909 -1.095405  0.293274  1.033796  1.332274   \n",
       "3 -1.441185     0.502150  -0.901909 -1.095405  0.007269 -1.386802 -1.227079   \n",
       "4  0.370947     2.065215   1.515697 -1.095405  0.388609 -1.041002  0.784852   \n",
       "\n",
       "   NumOfProducts  HasCrCard  IsActiveMember  EstimatedSalary  \n",
       "0      -0.911007   0.645717        0.970673         0.022297  \n",
       "1      -0.911007  -1.548666        0.970673         0.216975  \n",
       "2       2.526711   0.645717       -1.030213         0.241132  \n",
       "3       0.807852  -1.548666       -1.030213        -0.108528  \n",
       "4      -0.911007   0.645717        0.970673        -0.364926  "
      ]
     },
     "execution_count": 20,
     "metadata": {
      "tags": []
     },
     "output_type": "execute_result"
    }
   ],
   "source": [
    "# Scale X dataset\n",
    "scaled_X = scale_data(X)\n",
    "scaled_X.head()"
   ]
  },
  {
   "cell_type": "markdown",
   "metadata": {
    "id": "UKghxo_m1clI"
   },
   "source": [
    "### 4.5 Train - Test Split\n",
    "\n",
    "Split the dataset in training and test set"
   ]
  },
  {
   "cell_type": "code",
   "execution_count": null,
   "metadata": {
    "id": "cM3t3msJ1clI"
   },
   "outputs": [],
   "source": [
    "# Split the dataset into the training set and test set\n",
    "X_train, X_test, y_train, y_test = train_test_split(scaled_X, y, test_size = 0.3, random_state = 0)"
   ]
  },
  {
   "cell_type": "markdown",
   "metadata": {
    "id": "qfQmUgFl1clI"
   },
   "source": [
    "<div class=\"alert alert-info\" style=\"background-color:#006a79; color:white; padding:0px 10px; border-radius:5px;\"><h2 style='margin:10px 5px'>5. Model Building</h2>\n",
    "</div>\n",
    "\n",
    "In this section you will:\n",
    "- Train the model on training data\n",
    "- Get the predictions on testing data\n",
    "- Evaluate the performance of model on testing data"
   ]
  },
  {
   "cell_type": "markdown",
   "metadata": {
    "id": "Kbx4cYhM1clJ"
   },
   "source": [
    "### 5.1 Train Model\n",
    "\n",
    "Train the model on training data"
   ]
  },
  {
   "cell_type": "code",
   "execution_count": null,
   "metadata": {
    "id": "trdzmhy81clJ"
   },
   "outputs": [],
   "source": [
    "# Select the algorithm according to the input provided\n",
    "if input_ml_algo == 'DecisionTreeClassifier':\n",
    "    model = DecisionTreeClassifier()\n",
    "elif input_ml_algo == 'RandomForestClassifier':\n",
    "    model = RandomForestClassifier()\n",
    "elif input_ml_algo == 'XGBClassifier':\n",
    "    model = XGBClassifier()\n",
    "elif input_ml_algo == 'LGBMClassifier':\n",
    "    model = LGBMClassifier()"
   ]
  },
  {
   "cell_type": "code",
   "execution_count": null,
   "metadata": {
    "id": "tXFkYolX1clJ",
    "outputId": "02dda675-4e80-4d03-9c43-bc76ca79fbcc"
   },
   "outputs": [
    {
     "data": {
      "text/plain": [
       "RandomForestClassifier(bootstrap=True, ccp_alpha=0.0, class_weight=None,\n",
       "                       criterion='gini', max_depth=None, max_features='auto',\n",
       "                       max_leaf_nodes=None, max_samples=None,\n",
       "                       min_impurity_decrease=0.0, min_impurity_split=None,\n",
       "                       min_samples_leaf=1, min_samples_split=2,\n",
       "                       min_weight_fraction_leaf=0.0, n_estimators=100,\n",
       "                       n_jobs=None, oob_score=False, random_state=None,\n",
       "                       verbose=0, warm_start=False)"
      ]
     },
     "execution_count": 23,
     "metadata": {
      "tags": []
     },
     "output_type": "execute_result"
    }
   ],
   "source": [
    "# Training the model:\n",
    "model.fit(X_train, y_train)\n",
    "\n",
    "model"
   ]
  },
  {
   "cell_type": "markdown",
   "metadata": {
    "id": "vKCDvCYm1clK"
   },
   "source": [
    "### 5.2 Model Predictions\n",
    "\n",
    "Get the predictions from the model on testing data"
   ]
  },
  {
   "cell_type": "code",
   "execution_count": null,
   "metadata": {
    "id": "l1E0r9Bl1clK",
    "outputId": "2d17b68d-7ca2-4bfc-a1c9-bfbcf5e2e475"
   },
   "outputs": [
    {
     "name": "stdout",
     "output_type": "stream",
     "text": [
      "Y predicted :  [0 0 1 ... 0 0 0]\n",
      "Y probability predicted :  [0.01, 0.0, 0.86, 0.1, 0.15]\n"
     ]
    }
   ],
   "source": [
    "# Predict class for test dataset\n",
    "y_pred = model.predict(X_test)\n",
    "\n",
    "# Predict probability for test dataset\n",
    "y_pred_prod = model.predict_proba(X_test)\n",
    "y_pred_prod = [x[1] for x in y_pred_prod]\n",
    "print(\"Y predicted : \",y_pred)\n",
    "print(\"Y probability predicted : \",y_pred_prod[:5])"
   ]
  },
  {
   "cell_type": "markdown",
   "metadata": {
    "id": "ienxU6i81clL"
   },
   "source": [
    "### 5.3. Model Evaluation\n",
    "\n",
    "Get the evaluation metrics to evaluate the performance of model on testing data"
   ]
  },
  {
   "cell_type": "code",
   "execution_count": null,
   "metadata": {
    "id": "XWSjspaM1clM"
   },
   "outputs": [],
   "source": [
    "# Define a function to compute various evaluation metrics \n",
    "def compute_evaluation_metric(model, x_test, y_actual, y_predicted, y_predicted_prob):\n",
    "    print(\"\\n Accuracy Score : \\n \",accuracy_score(y_actual,y_predicted))\n",
    "    print(\"\\n AUC Score : \\n\", roc_auc_score(y_actual, y_predicted_prob))\n",
    "    print(\"\\n Confusion Matrix : \\n \",confusion_matrix(y_actual, y_predicted))\n",
    "    print(\"\\n Classification Report : \\n\",classification_report(y_actual, y_predicted))\n",
    "\n",
    "    print(\"\\n ROC curve : \\n\")\n",
    "    sns.set_style(\"white\")\n",
    "    plot_roc_curve(model, x_test, y_actual)\n",
    "    plt.show() "
   ]
  },
  {
   "cell_type": "code",
   "execution_count": null,
   "metadata": {
    "id": "OB9Av9OA1clM",
    "outputId": "c491573d-e5bc-451f-a8bf-37801f80fff5"
   },
   "outputs": [
    {
     "name": "stdout",
     "output_type": "stream",
     "text": [
      "\n",
      " Accuracy Score : \n",
      "  0.8530884808013356\n",
      "\n",
      " AUC Score : \n",
      " 0.8415401959228193\n",
      "\n",
      " Confusion Matrix : \n",
      "  [[2283   91]\n",
      " [ 349  272]]\n",
      "\n",
      " Classification Report : \n",
      "               precision    recall  f1-score   support\n",
      "\n",
      "           0       0.87      0.96      0.91      2374\n",
      "           1       0.75      0.44      0.55       621\n",
      "\n",
      "    accuracy                           0.85      2995\n",
      "   macro avg       0.81      0.70      0.73      2995\n",
      "weighted avg       0.84      0.85      0.84      2995\n",
      "\n",
      "\n",
      " ROC curve : \n",
      "\n"
     ]
    },
    {
     "data": {
      "image/png": "[encoded data removed]",
      "text/plain": [
       "<Figure size 432x288 with 1 Axes>"
      ]
     },
     "metadata": {
      "tags": []
     },
     "output_type": "display_data"
    }
   ],
   "source": [
    "compute_evaluation_metric(model, X_test, y_test, y_pred, y_pred_prod)"
   ]
  },
  {
   "cell_type": "markdown",
   "metadata": {
    "id": "GJWToBtX1clM"
   },
   "source": [
    "<div class=\"alert alert-info\" style=\"background-color:#006a79; color:white; padding:0px 10px; border-radius:5px;\"><h2 style='margin:10px 5px'>6. Improve Model</h2>\n",
    "</div>\n",
    "\n",
    "The first model you make may not be a good one. You need to improve the model. \n",
    "\n",
    "In majority of the classification problems, the target class is imbalanced. So you need to balance it in order to get best modelling results. \n",
    "\n",
    "In this section you will:\n",
    "- Handle class imbalance\n",
    "- Save the final model"
   ]
  },
  {
   "cell_type": "markdown",
   "metadata": {
    "id": "R02WXNZv1clN"
   },
   "source": [
    "### 6.1 Handle Class Imbalance\n",
    "\n",
    "Imbalanced classes are a common problem in machine learning classification where there are a disproportionate ratio of observations in each class.\n",
    "\n",
    "Most machine learning algorithms work best when the number of samples in each class are about equal. This is because most algorithms are designed to maximize accuracy and reduce error.\n",
    "\n",
    "Here, you will upsample the minority class"
   ]
  },
  {
   "cell_type": "code",
   "execution_count": null,
   "metadata": {
    "id": "TtKTLG4V1clN",
    "outputId": "e0d86097-d018-4d53-e620-6486e8833d0d"
   },
   "outputs": [
    {
     "data": {
      "text/plain": [
       "1    7946\n",
       "0    7946\n",
       "Name: Exited, dtype: int64"
      ]
     },
     "execution_count": 27,
     "metadata": {
      "tags": []
     },
     "output_type": "execute_result"
    }
   ],
   "source": [
    "# Over sample the minority class \n",
    "ros = RandomOverSampler()\n",
    "X_ros, y_ros = ros.fit_sample(X, y)\n",
    "\n",
    "y_ros.value_counts()"
   ]
  },
  {
   "cell_type": "code",
   "execution_count": null,
   "metadata": {
    "id": "6k5T26pa1clO"
   },
   "outputs": [],
   "source": [
    "# Define the function to build model on balanced dataset\n",
    "def classification_model(X, y):\n",
    "    \n",
    "    scaled_X = scale_data(X)\n",
    "    \n",
    "    # Split the dataset into the training set and test set\n",
    "    X_train, X_test, y_train, y_test = train_test_split(scaled_X, y, test_size = 0.3, random_state = 0)\n",
    "\n",
    "    # Training the model:\n",
    "    model.fit(X_train, y_train)\n",
    "\n",
    "    # Predict class for test dataset\n",
    "    y_pred = model.predict(X_test)\n",
    "    \n",
    "    # Predict probability for test dataset\n",
    "    y_pred_prod = model.predict_proba(X_test)\n",
    "    y_pred_prod = [x[1] for x in y_pred_prod]\n",
    "    \n",
    "    # Compute Evaluation Metric\n",
    "    compute_evaluation_metric(model, X_test, y_test, y_pred, y_pred_prod)\n",
    "    \n",
    "    return model"
   ]
  },
  {
   "cell_type": "code",
   "execution_count": null,
   "metadata": {
    "id": "U3fdk6vX1clO",
    "outputId": "2cfe975c-c1ee-49b8-b096-5b0d38ffddef"
   },
   "outputs": [
    {
     "name": "stdout",
     "output_type": "stream",
     "text": [
      "\n",
      " Accuracy Score : \n",
      "  0.9507130872483222\n",
      "\n",
      " AUC Score : \n",
      " 0.9895363768357681\n",
      "\n",
      " Confusion Matrix : \n",
      "  [[2208  174]\n",
      " [  61 2325]]\n",
      "\n",
      " Classification Report : \n",
      "               precision    recall  f1-score   support\n",
      "\n",
      "           0       0.97      0.93      0.95      2382\n",
      "           1       0.93      0.97      0.95      2386\n",
      "\n",
      "    accuracy                           0.95      4768\n",
      "   macro avg       0.95      0.95      0.95      4768\n",
      "weighted avg       0.95      0.95      0.95      4768\n",
      "\n",
      "\n",
      " ROC curve : \n",
      "\n"
     ]
    },
    {
     "data": {
      "image/png": "[encoded data removed]",
      "text/plain": [
       "<Figure size 432x288 with 1 Axes>"
      ]
     },
     "metadata": {
      "tags": []
     },
     "output_type": "display_data"
    }
   ],
   "source": [
    "# Build model on balanced data and get evaluation metrics\n",
    "model = classification_model(X_ros, y_ros)"
   ]
  },
  {
   "cell_type": "markdown",
   "metadata": {
    "id": "WW4ysUYe1clO"
   },
   "source": [
    "### 6.2. Hyperparameter Tuning\n",
    "\n",
    "**Hyperparameter** is a parameter whose value is set before the learning process begins\n",
    "\n",
    "**Hyperparameter tuning** refers to the automatic optimization of the hyper-parameters of a ML model\n",
    "\n",
    "- Select the parameter grid according to the input provided"
   ]
  },
  {
   "cell_type": "code",
   "execution_count": null,
   "metadata": {
    "id": "fA9ar2Ge1clP"
   },
   "outputs": [],
   "source": [
    "# Split the dataset into the training set and test set\n",
    "X_train, X_test, y_train, y_test = train_test_split(X_ros, y_ros, test_size = 0.3, random_state = 0)"
   ]
  },
  {
   "cell_type": "code",
   "execution_count": null,
   "metadata": {
    "id": "R-njgAlI1clP"
   },
   "outputs": [],
   "source": [
    "# Define the parameters gird for decision tree\n",
    "param_grid_decision_tree = {'criterion': ['gini', 'entropy'],  \n",
    "                            'max_depth': [10,15,20,30,40,50],\n",
    "                            'min_samples_leaf' : [1,2,5]\n",
    "                           } \n",
    "\n",
    "# Define the parameters gird for random forest\n",
    "param_grid_random_forest = {'max_depth'   : [10,20,40],\n",
    "                            'n_estimators' : [100,200,300],\n",
    "                            'min_samples_leaf' : [1,2,5]        \n",
    "                           }  \n",
    "\n",
    "# Define the parameters gird for XGBoost\n",
    "param_grid_xgb = {'min_child_weight': [1, 5, 10],\n",
    "                  'gamma': [0, 1],\n",
    "                  'max_depth': [5,10],\n",
    "                  'learning_rate' : [0.05,0.1]\n",
    "                 } \n",
    "\n",
    "# Define the parameters gird for LGBM\n",
    "param_grid_lgbm = {'n_estimator':[100,200],\n",
    "                   'num_leaves': [256,128],\n",
    "                   'max_depth': [5, 8, 10],\n",
    "                   'learning_rate': [0.05, 0.1]\n",
    "                  }"
   ]
  },
  {
   "cell_type": "code",
   "execution_count": null,
   "metadata": {
    "id": "9ChBw1jl1clP"
   },
   "outputs": [],
   "source": [
    "# Select the model and parameter grid according to the input provided\n",
    "if input_ml_algo == 'DecisionTreeClassifier':\n",
    "    model       = DecisionTreeClassifier()\n",
    "    param_grid  = param_grid_decision_tree\n",
    "elif input_ml_algo == 'RandomForestClassifier':\n",
    "    model       = RandomForestClassifier()\n",
    "    param_grid  = param_grid_random_forest\n",
    "elif input_ml_algo == 'XGBClassifier':\n",
    "    model       = XGBClassifier()\n",
    "    param_grid  = param_grid_xgb\n",
    "elif input_ml_algo == 'LGBMClassifier':\n",
    "    model       = LGBMClassifier()\n",
    "    param_grid  = param_grid_lgbm"
   ]
  },
  {
   "cell_type": "code",
   "execution_count": null,
   "metadata": {
    "id": "5LHsnYGL1clQ",
    "outputId": "8591829d-c17b-4b42-e9f1-6ee168e19d8d"
   },
   "outputs": [
    {
     "name": "stdout",
     "output_type": "stream",
     "text": [
      "Fitting 5 folds for each of 27 candidates, totalling 135 fits\n"
     ]
    },
    {
     "name": "stderr",
     "output_type": "stream",
     "text": [
      "[Parallel(n_jobs=-1)]: Using backend LokyBackend with 12 concurrent workers.\n",
      "[Parallel(n_jobs=-1)]: Done   8 tasks      | elapsed:    3.5s\n",
      "[Parallel(n_jobs=-1)]: Done 104 tasks      | elapsed:   27.3s\n",
      "[Parallel(n_jobs=-1)]: Done 135 out of 135 | elapsed:   35.6s finished\n"
     ]
    },
    {
     "data": {
      "text/plain": [
       "GridSearchCV(cv=None, error_score=nan,\n",
       "             estimator=RandomForestClassifier(bootstrap=True, ccp_alpha=0.0,\n",
       "                                              class_weight=None,\n",
       "                                              criterion='gini', max_depth=None,\n",
       "                                              max_features='auto',\n",
       "                                              max_leaf_nodes=None,\n",
       "                                              max_samples=None,\n",
       "                                              min_impurity_decrease=0.0,\n",
       "                                              min_impurity_split=None,\n",
       "                                              min_samples_leaf=1,\n",
       "                                              min_samples_split=2,\n",
       "                                              min_weight_fraction_leaf=0.0,\n",
       "                                              n_estimators=100, n_jobs=None,\n",
       "                                              oob_score=False,\n",
       "                                              random_state=None, verbose=0,\n",
       "                                              warm_start=False),\n",
       "             iid='deprecated', n_jobs=-1,\n",
       "             param_grid={'max_depth': [10, 20, 40],\n",
       "                         'min_samples_leaf': [1, 2, 5],\n",
       "                         'n_estimators': [100, 200, 300]},\n",
       "             pre_dispatch='2*n_jobs', refit=True, return_train_score=False,\n",
       "             scoring=None, verbose=3)"
      ]
     },
     "execution_count": 33,
     "metadata": {
      "tags": []
     },
     "output_type": "execute_result"
    }
   ],
   "source": [
    " # Run grid search \n",
    "grid = GridSearchCV(model, param_grid, refit = True, verbose = 3, n_jobs = -1) \n",
    "  \n",
    "# fit the model for grid search \n",
    "grid.fit(X_train, y_train)"
   ]
  },
  {
   "cell_type": "code",
   "execution_count": null,
   "metadata": {
    "id": "QdJN2CPH1clQ",
    "outputId": "bcdeb4cc-7120-4bb2-fc9c-f34a5aff959c"
   },
   "outputs": [
    {
     "name": "stdout",
     "output_type": "stream",
     "text": [
      "Y predicted :  [1 1 0 ... 0 0 1]\n",
      "Y probability predicted :  [0.5380041992636907, 0.5247293610000635, 0.09666666666666666, 0.24166666666666667, 0.6373419723551302]\n"
     ]
    }
   ],
   "source": [
    "# Prediction using best parameters\n",
    "y_pred = grid.predict(X_test)\n",
    "\n",
    "# Predict probability for test dataset\n",
    "y_pred_prod = grid.predict_proba(X_test)\n",
    "y_pred_prod = [x[1] for x in y_pred_prod]\n",
    "print(\"Y predicted : \",y_pred)\n",
    "print(\"Y probability predicted : \",y_pred_prod[:5])"
   ]
  },
  {
   "cell_type": "code",
   "execution_count": null,
   "metadata": {
    "id": "HjT-Wkmr1clQ",
    "outputId": "cc6e6e27-4c75-44f4-a354-a06df6642137"
   },
   "outputs": [
    {
     "name": "stdout",
     "output_type": "stream",
     "text": [
      "\n",
      " Accuracy Score : \n",
      "  0.947986577181208\n",
      "\n",
      " AUC Score : \n",
      " 0.990142346587954\n",
      "\n",
      " Confusion Matrix : \n",
      "  [[2195  187]\n",
      " [  61 2325]]\n",
      "\n",
      " Classification Report : \n",
      "               precision    recall  f1-score   support\n",
      "\n",
      "           0       0.97      0.92      0.95      2382\n",
      "           1       0.93      0.97      0.95      2386\n",
      "\n",
      "    accuracy                           0.95      4768\n",
      "   macro avg       0.95      0.95      0.95      4768\n",
      "weighted avg       0.95      0.95      0.95      4768\n",
      "\n",
      "\n",
      " ROC curve : \n",
      "\n"
     ]
    },
    {
     "data": {
      "image/png": "[encoded data removed]",
      "text/plain": [
       "<Figure size 432x288 with 1 Axes>"
      ]
     },
     "metadata": {
      "tags": []
     },
     "output_type": "display_data"
    }
   ],
   "source": [
    "compute_evaluation_metric(grid, X_test, y_test, y_pred, y_pred_prod)"
   ]
  },
  {
   "cell_type": "markdown",
   "metadata": {
    "id": "TCrNj5G31clR"
   },
   "source": [
    "### 6.3. Save the final model\n",
    "\n",
    "You can save the model in local disk and use it whenever you want"
   ]
  },
  {
   "cell_type": "code",
   "execution_count": null,
   "metadata": {
    "id": "vvdyX-FI1clR"
   },
   "outputs": [],
   "source": [
    "# save the model to disk\n",
    "filename = 'final_model.sav'\n",
    "pickle.dump(grid.best_estimator_, open(filename, 'wb'))"
   ]
  },
  {
   "cell_type": "code",
   "execution_count": null,
   "metadata": {
    "id": "pthEl9571clR",
    "outputId": "f313aa74-957a-41c6-e5e6-db5525dd265a"
   },
   "outputs": [
    {
     "data": {
      "text/plain": [
       "RandomForestClassifier(bootstrap=True, ccp_alpha=0.0, class_weight=None,\n",
       "                       criterion='gini', max_depth=20, max_features='auto',\n",
       "                       max_leaf_nodes=None, max_samples=None,\n",
       "                       min_impurity_decrease=0.0, min_impurity_split=None,\n",
       "                       min_samples_leaf=1, min_samples_split=2,\n",
       "                       min_weight_fraction_leaf=0.0, n_estimators=300,\n",
       "                       n_jobs=None, oob_score=False, random_state=None,\n",
       "                       verbose=0, warm_start=False)"
      ]
     },
     "execution_count": 37,
     "metadata": {
      "tags": []
     },
     "output_type": "execute_result"
    }
   ],
   "source": [
    "# load the model from disk\n",
    "loaded_model = pickle.load(open(filename, 'rb'))\n",
    "loaded_model"
   ]
  },
  {
   "cell_type": "markdown",
   "metadata": {
    "id": "-Iv8qaJd1clR"
   },
   "source": [
    "<div class=\"alert\" style=\"background-color:#abc; color:white; padding:0px 10px; border-radius:3px;\"><h3 style='margin:10px 10px; font-size:10px'> This work is licensed under the Creative Commons License <a href=\"https://creativecommons.org/licenses/by-sa/4.0/\">CC BY-SA</a>. This can be shared for educational purposes, with due credits to machinelearningplus.com</h3>\n",
    "</div>"
   ]
  }
 ],
 "metadata": {
  "colab": {
   "name": "DataScience_Classification_Project_Template_ML_+-v2.ipynb",
   "provenance": []
  },
  "hide_input": false,
  "kernelspec": {
   "display_name": "Python 3",
   "language": "python",
   "name": "python3"
  },
  "language_info": {
   "codemirror_mode": {
    "name": "ipython",
    "version": 3
   },
   "file_extension": ".py",
   "mimetype": "text/x-python",
   "name": "python",
   "nbconvert_exporter": "python",
   "pygments_lexer": "ipython3",
   "version": "3.7.1"
  },
  "toc": {
   "base_numbering": 1,
   "nav_menu": {},
   "number_sections": false,
   "sideBar": true,
   "skip_h1_title": false,
   "title_cell": "Table of Contents",
   "title_sidebar": "Contents",
   "toc_cell": false,
   "toc_position": {},
   "toc_section_display": true,
   "toc_window_display": true
  },
  "varInspector": {
   "cols": {
    "lenName": 16,
    "lenType": 16,
    "lenVar": 40
   },
   "kernels_config": {
    "python": {
     "delete_cmd_postfix": "",
     "delete_cmd_prefix": "del ",
     "library": "var_list.py",
     "varRefreshCmd": "print(var_dic_list())"
    },
    "r": {
     "delete_cmd_postfix": ") ",
     "delete_cmd_prefix": "rm(",
     "library": "var_list.r",
     "varRefreshCmd": "cat(var_dic_list()) "
    }
   },
   "types_to_exclude": [
    "module",
    "function",
    "builtin_function_or_method",
    "instance",
    "_Feature"
   ],
   "window_display": false
  }
 },
 "nbformat": 4,
 "nbformat_minor": 1
}
