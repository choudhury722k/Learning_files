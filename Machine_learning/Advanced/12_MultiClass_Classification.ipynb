{
 "cells": [
  {
   "cell_type": "markdown",
   "metadata": {
    "id": "buWmntQCuBAu"
   },
   "source": [
    "# Multiclass Classification"
   ]
  },
  {
   "cell_type": "markdown",
   "metadata": {
    "id": "n_DttEtluDeV"
   },
   "source": [
    "A classification problem including more than two classes, such as classifying a series of dog breed photographs which may be a pug, bulldog, or teabetain mastiff. Multi-class classification assumes that each sample is assigned to one class, e.g. a dog can be either a breed of pug or a bulldog but not both simultaneously.\n",
    "\n",
    "Many approaches are used to solve this problem, such as converting the N number of classes to N number binary columns representing each class. By doing so, we can use a binary classifier for Multi Classification problems. Pandas built-in get_dummies attribute provides you with   this functionality to get a binary representation of each class. "
   ]
  },
  {
   "cell_type": "markdown",
   "metadata": {
    "id": "C4tnllKBuEEZ"
   },
   "source": [
    "To read about it more, please refer [this](https://analyticsindiamag.com/guide-to-multi-class-classification/) article."
   ]
  },
  {
   "cell_type": "markdown",
   "metadata": {
    "id": "DcVymaztuOs5"
   },
   "source": [
    "# Code Implementation of Multi-Class Classification"
   ]
  },
  {
   "cell_type": "markdown",
   "metadata": {
    "id": "ROsregcquQpw"
   },
   "source": [
    "Importing all dependencies:"
   ]
  },
  {
   "cell_type": "code",
   "execution_count": null,
   "metadata": {},
   "outputs": [],
   "source": [
    "!python -m pip install pip --upgrade --user -q \n",
    "!python -m pip install numpy pandas seaborn matplotlib scipy statsmodels sklearn --user -q"
   ]
  },
  {
   "cell_type": "code",
   "execution_count": null,
   "metadata": {},
   "outputs": [],
   "source": [
    "import IPython\n",
    "IPython.Application.instance().kernel.do_shutdown(True)"
   ]
  },
  {
   "cell_type": "code",
   "execution_count": null,
   "metadata": {
    "id": "rvsCTksP5G7i"
   },
   "outputs": [],
   "source": [
    "import numpy as np\n",
    "import pandas as pd\n",
    "\n",
    "import matplotlib.pyplot as plt\n",
    "\n",
    "from sklearn.model_selection import train_test_split\n",
    "from sklearn.neighbors import KNeighborsClassifier\n",
    "from sklearn.datasets import load_digits\n",
    "from sklearn.metrics import plot_confusion_matrix,accuracy_score,classification_report"
   ]
  },
  {
   "cell_type": "markdown",
   "metadata": {
    "id": "sZMY9T9guSsf"
   },
   "source": [
    "This demonstration focuses on performing multi-classification uniquely to avoid class imbalance and uncertainty in the dataset; I have used the built-in digits dataset provided by sklearn. Which has 64 different pixel values of particular digits as input feature columns and targeted digits range from 0 to 9. "
   ]
  },
  {
   "cell_type": "markdown",
   "metadata": {
    "id": "Q3MdULdtuWdx"
   },
   "source": [
    "Loading the dataset "
   ]
  },
  {
   "cell_type": "code",
   "execution_count": null,
   "metadata": {
    "id": "Ssd-g6kT5aHn"
   },
   "outputs": [],
   "source": [
    "# loading dataset into X, y frame \n",
    "x, y = load_digits(return_X_y=True)  "
   ]
  },
  {
   "cell_type": "markdown",
   "metadata": {
    "id": "BTuiPZYnuamu"
   },
   "source": [
    "Selecting input-output features and train test split:\n",
    "\n",
    "As the number of instances is around 1800, only to ensure more data is used for training here, we have set the test size to be 25%"
   ]
  },
  {
   "cell_type": "code",
   "execution_count": null,
   "metadata": {
    "id": "WM-rZz6M6m-m"
   },
   "outputs": [],
   "source": [
    "# as the no of instances are only 1800 therefore test_size is limited to 25%\n",
    "# so that more data can be made available for training\n",
    "x_train, x_test, y_train, y_test = train_test_split(x, y, random_state = True, test_size = 0.2)"
   ]
  },
  {
   "cell_type": "markdown",
   "metadata": {
    "id": "PbJttZ6M6see"
   },
   "source": [
    "### Lets Findout optimum value of K using Elbow method"
   ]
  },
  {
   "cell_type": "markdown",
   "metadata": {
    "id": "jDmRJSGPxERz"
   },
   "source": [
    "To set the optimum value of K here, I have used the elbow method; the plot below shows the error rate against 100 values of K. Error rate is calculated by taking the mean of where the predicted value is not equal to the actual value."
   ]
  },
  {
   "cell_type": "code",
   "execution_count": null,
   "metadata": {
    "id": "pFQ4dm8b6ptm"
   },
   "outputs": [],
   "source": [
    "error_rate=[]\n",
    "for i in range(1,100):\n",
    "    knn = KNeighborsClassifier(n_neighbors=i)\n",
    "    model = knn.fit(x_train,y_train)\n",
    "    pred_i = knn.predict(x_test)\n",
    "    error_rate.append(np.mean(pred_i != y_test)) "
   ]
  },
  {
   "cell_type": "code",
   "execution_count": null,
   "metadata": {
    "id": "pZug4ZF56w5e"
   },
   "outputs": [],
   "source": [
    "plt.figure(figsize=(13,8))\n",
    "plt.plot(range(1,100), error_rate, linestyle = 'dotted', marker = 'o',color = 'g')\n",
    "plt.xlabel('K value')\n",
    "plt.ylabel('Error Rate')\n",
    "plt.title('K value Vs Error Rate')\n",
    "plt.show()"
   ]
  },
  {
   "cell_type": "markdown",
   "metadata": {
    "id": "9OUfRKIYxIPV"
   },
   "source": [
    "From the above graph, we can see that from the initial point to the K values equals to 8 and 9, the error rate decreases; afterwards, it tends to increase and saturate for some K values, and this pattern is being followed throughout the graph. "
   ]
  },
  {
   "cell_type": "markdown",
   "metadata": {
    "id": "qRnEBAadxJ6C"
   },
   "source": [
    "From the graph, we can see that for K value equal 8 and 9, the error given by the model is nearly zero, so we can choose K value as 8 or 9 for our final model.\n",
    "\n",
    "\n",
    "\n",
    "Final Model and performance metrics :"
   ]
  },
  {
   "cell_type": "code",
   "execution_count": null,
   "metadata": {
    "id": "0bFIW9yb60ae"
   },
   "outputs": [],
   "source": [
    "model = KNeighborsClassifier(n_neighbors=8).fit(x_train,y_train)\n",
    "pred = model.predict(x_test)"
   ]
  },
  {
   "cell_type": "code",
   "execution_count": null,
   "metadata": {
    "id": "7-EgM9pS60eP"
   },
   "outputs": [],
   "source": [
    "plot_confusion_matrix(model,x_test,y_test,cmap=plt.cm.Blues)"
   ]
  },
  {
   "cell_type": "code",
   "execution_count": null,
   "metadata": {
    "id": "QCFjHiuu65V2"
   },
   "outputs": [],
   "source": [
    "print(classification_report(y_test,pred))"
   ]
  },
  {
   "cell_type": "markdown",
   "metadata": {
    "id": "xMr5HOMixQq-"
   },
   "source": [
    "Almost all the samples are predicted correctly. The classification report has also given evidence that our model is perfectly fit for the dataset. "
   ]
  }
 ],
 "metadata": {
  "colab": {
   "authorship_tag": "ABX9TyMjDsULZ+S9/ntzU0+XBxTE",
   "collapsed_sections": [],
   "name": "2_MultiClass_Classification.ipynb",
   "provenance": []
  },
  "kernelspec": {
   "display_name": "Python 3",
   "name": "python3"
  },
  "language_info": {
   "name": "python"
  }
 },
 "nbformat": 4,
 "nbformat_minor": 2
}
