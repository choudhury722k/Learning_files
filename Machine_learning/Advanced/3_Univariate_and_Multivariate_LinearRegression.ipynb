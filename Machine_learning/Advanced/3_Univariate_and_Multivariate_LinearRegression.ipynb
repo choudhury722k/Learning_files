{
 "cells": [
  {
   "cell_type": "markdown",
   "metadata": {
    "id": "ycFufNkFvOtn"
   },
   "source": [
    "# Beginners Guide to Linear Regression  "
   ]
  },
  {
   "cell_type": "markdown",
   "metadata": {
    "id": "EWq7x8Gb9nkp"
   },
   "source": [
    "Supervised learning is called regression if the dependent variable (aka target) is continuous. Supervised learning is called classification if the dependent variable is discrete. In other words, a regression model outputs a numerical value (a real floating value), but a classification model outputs a class (among two or more classes).\n",
    "\n",
    "In this practice session, we will discuss linear regression and its implementation with python codes. Regression analysis can be specifically termed linear regression if the dependent variable (target) has a linear relationship with the independent variables (features)\n",
    "\n",
    "The Math behind Linear Regression\n",
    "Suppose a collection of data has two variables: one is the independent variable (X), and another is the dependent variable (Y). \n",
    "\n",
    "If the relationship between Y and X can be expressed as:\n",
    "\n",
    "Y = mX + c, this is called linear regression. Here, X is linearly scaled with a weight m to determine the value of Y and c is called bias or y-intercept with which the dependency offsets. A machine learning model has to determine the most suitable values for weight, m and bias, c. If there are more than one independent variable, there will be a corresponding number of weights, w1, w2, w3, and so on.\n",
    "\n",
    "Typically, a machine learning problem contains a remarkable amount of data. A linear regression model assigns random values to weights and bias at the beginning. When learning commences, the model is fed with one data point in each step. It fits the X values and determines the target. Since weights are randomly assigned initially, the predicted target will differ greatly from the actual target. The model calculates the difference between the actual target value and the predicted target value, which is called the loss. The model scientifically reassigns the values of weights to reduce this loss. With each data point, the model iteratively attempts to find suitable weights that yield minimum loss.\n",
    "\n",
    "The most preferred losses are mean absolute error (MAE) and mean squared error (MSE). Mean absolute error is the mean value of the sum of differences between predicted and actual target values for all data points. Mean squared error is the mean value of the sum of squares of differences between predicted and actual target values for all data points. Linear regression employs mean squared error (MSE) as its loss function. When learning is finished, the loss value will be at its minimum. In other words, the predicted value will be as close as possible to the actual target value."
   ]
  },
  {
   "cell_type": "markdown",
   "metadata": {
    "id": "E-dDE1Nw9sWI"
   },
   "source": [
    "To understand the math behind it, please refer [this](https://analyticsindiamag.com/beginners-guide-to-linear-regression-in-python/) article."
   ]
  },
  {
   "cell_type": "markdown",
   "metadata": {
    "id": "ppc-Nlf390hj"
   },
   "source": [
    "# Code Implementation"
   ]
  },
  {
   "cell_type": "markdown",
   "metadata": {
    "id": "mKkRfgfI92nJ"
   },
   "source": [
    "## Load a Regression Data"
   ]
  },
  {
   "cell_type": "markdown",
   "metadata": {
    "id": "TwE-Pj2i95yp"
   },
   "source": [
    "Import necessary libraries and modules."
   ]
  },
  {
   "cell_type": "code",
   "execution_count": null,
   "metadata": {},
   "outputs": [],
   "source": [
    "!python -m pip install pip --upgrade --user -q\n",
    "!python -m pip install numpy pandas seaborn matplotlib scipy statsmodels sklearn --user -q"
   ]
  },
  {
   "cell_type": "code",
   "execution_count": null,
   "metadata": {},
   "outputs": [],
   "source": [
    "import IPython\n",
    "IPython.Application.instance().kernel.do_shutdown(True)"
   ]
  },
  {
   "cell_type": "code",
   "execution_count": 1,
   "metadata": {
    "id": "mcUDwYT0xLah"
   },
   "outputs": [],
   "source": [
    "import pandas as pd\n",
    "import matplotlib.pyplot as plt\n",
    "from sklearn.linear_model import LinearRegression\n",
    "from sklearn.metrics import mean_squared_error\n",
    "from sklearn.datasets import load_diabetes"
   ]
  },
  {
   "cell_type": "markdown",
   "metadata": {
    "id": "UiMjce7txqbM"
   },
   "source": [
    "Load a regression problem dataset from SciKit-Learn’s in-built datasets. Data is already preprocessed and normalized, and is ready to use."
   ]
  },
  {
   "cell_type": "code",
   "execution_count": 2,
   "metadata": {
    "id": "mv1ZT8z30Kj4"
   },
   "outputs": [
    {
     "data": {
      "text/plain": [
       "dict_keys(['data', 'target', 'frame', 'DESCR', 'feature_names', 'data_filename', 'target_filename', 'data_module'])"
      ]
     },
     "execution_count": 2,
     "metadata": {},
     "output_type": "execute_result"
    }
   ],
   "source": [
    "data = load_diabetes()\n",
    "data.keys()"
   ]
  },
  {
   "cell_type": "markdown",
   "metadata": {
    "id": "NeI5UCEJ9-dV"
   },
   "source": [
    "Generate features and target. Visualize the top 5 rows of the data."
   ]
  },
  {
   "cell_type": "code",
   "execution_count": 3,
   "metadata": {
    "id": "LafBsECB0sim"
   },
   "outputs": [
    {
     "data": {
      "text/html": [
       "<div>\n",
       "<style scoped>\n",
       "    .dataframe tbody tr th:only-of-type {\n",
       "        vertical-align: middle;\n",
       "    }\n",
       "\n",
       "    .dataframe tbody tr th {\n",
       "        vertical-align: top;\n",
       "    }\n",
       "\n",
       "    .dataframe thead th {\n",
       "        text-align: right;\n",
       "    }\n",
       "</style>\n",
       "<table border=\"1\" class=\"dataframe\">\n",
       "  <thead>\n",
       "    <tr style=\"text-align: right;\">\n",
       "      <th></th>\n",
       "      <th>age</th>\n",
       "      <th>sex</th>\n",
       "      <th>bmi</th>\n",
       "      <th>bp</th>\n",
       "      <th>s1</th>\n",
       "      <th>s2</th>\n",
       "      <th>s3</th>\n",
       "      <th>s4</th>\n",
       "      <th>s5</th>\n",
       "      <th>s6</th>\n",
       "    </tr>\n",
       "  </thead>\n",
       "  <tbody>\n",
       "    <tr>\n",
       "      <th>0</th>\n",
       "      <td>0.038076</td>\n",
       "      <td>0.050680</td>\n",
       "      <td>0.061696</td>\n",
       "      <td>0.021872</td>\n",
       "      <td>-0.044223</td>\n",
       "      <td>-0.034821</td>\n",
       "      <td>-0.043401</td>\n",
       "      <td>-0.002592</td>\n",
       "      <td>0.019908</td>\n",
       "      <td>-0.017646</td>\n",
       "    </tr>\n",
       "    <tr>\n",
       "      <th>1</th>\n",
       "      <td>-0.001882</td>\n",
       "      <td>-0.044642</td>\n",
       "      <td>-0.051474</td>\n",
       "      <td>-0.026328</td>\n",
       "      <td>-0.008449</td>\n",
       "      <td>-0.019163</td>\n",
       "      <td>0.074412</td>\n",
       "      <td>-0.039493</td>\n",
       "      <td>-0.068330</td>\n",
       "      <td>-0.092204</td>\n",
       "    </tr>\n",
       "    <tr>\n",
       "      <th>2</th>\n",
       "      <td>0.085299</td>\n",
       "      <td>0.050680</td>\n",
       "      <td>0.044451</td>\n",
       "      <td>-0.005671</td>\n",
       "      <td>-0.045599</td>\n",
       "      <td>-0.034194</td>\n",
       "      <td>-0.032356</td>\n",
       "      <td>-0.002592</td>\n",
       "      <td>0.002864</td>\n",
       "      <td>-0.025930</td>\n",
       "    </tr>\n",
       "    <tr>\n",
       "      <th>3</th>\n",
       "      <td>-0.089063</td>\n",
       "      <td>-0.044642</td>\n",
       "      <td>-0.011595</td>\n",
       "      <td>-0.036656</td>\n",
       "      <td>0.012191</td>\n",
       "      <td>0.024991</td>\n",
       "      <td>-0.036038</td>\n",
       "      <td>0.034309</td>\n",
       "      <td>0.022692</td>\n",
       "      <td>-0.009362</td>\n",
       "    </tr>\n",
       "    <tr>\n",
       "      <th>4</th>\n",
       "      <td>0.005383</td>\n",
       "      <td>-0.044642</td>\n",
       "      <td>-0.036385</td>\n",
       "      <td>0.021872</td>\n",
       "      <td>0.003935</td>\n",
       "      <td>0.015596</td>\n",
       "      <td>0.008142</td>\n",
       "      <td>-0.002592</td>\n",
       "      <td>-0.031991</td>\n",
       "      <td>-0.046641</td>\n",
       "    </tr>\n",
       "  </tbody>\n",
       "</table>\n",
       "</div>"
      ],
      "text/plain": [
       "        age       sex       bmi        bp        s1        s2        s3  \\\n",
       "0  0.038076  0.050680  0.061696  0.021872 -0.044223 -0.034821 -0.043401   \n",
       "1 -0.001882 -0.044642 -0.051474 -0.026328 -0.008449 -0.019163  0.074412   \n",
       "2  0.085299  0.050680  0.044451 -0.005671 -0.045599 -0.034194 -0.032356   \n",
       "3 -0.089063 -0.044642 -0.011595 -0.036656  0.012191  0.024991 -0.036038   \n",
       "4  0.005383 -0.044642 -0.036385  0.021872  0.003935  0.015596  0.008142   \n",
       "\n",
       "         s4        s5        s6  \n",
       "0 -0.002592  0.019908 -0.017646  \n",
       "1 -0.039493 -0.068330 -0.092204  \n",
       "2 -0.002592  0.002864 -0.025930  \n",
       "3  0.034309  0.022692 -0.009362  \n",
       "4 -0.002592 -0.031991 -0.046641  "
      ]
     },
     "execution_count": 3,
     "metadata": {},
     "output_type": "execute_result"
    }
   ],
   "source": [
    "features = pd.DataFrame(data['data'], columns=data['feature_names'])\n",
    "target = pd.Series(data['target'], name='target')\n",
    "features.head()"
   ]
  },
  {
   "cell_type": "markdown",
   "metadata": {
    "id": "gta6AjeJ8lMw"
   },
   "source": [
    "## Simple Linear Regression"
   ]
  },
  {
   "cell_type": "markdown",
   "metadata": {
    "id": "WoPQGuuh-DWt"
   },
   "source": [
    "Simple linear regression is performed with one dependent variable and one independent variable. In our data, we declare the feature ‘bmi’ to be the independent variable.\n",
    "\n",
    "Prepare X and y."
   ]
  },
  {
   "cell_type": "code",
   "execution_count": 4,
   "metadata": {
    "id": "LZ9LUUk28kqI"
   },
   "outputs": [],
   "source": [
    "X = features['bmi'].values.reshape(-1,1)\n",
    "y = target.values.reshape(-1,1)"
   ]
  },
  {
   "cell_type": "markdown",
   "metadata": {
    "id": "YB2vq7OQxt6f"
   },
   "source": [
    "Fit the data to the model"
   ]
  },
  {
   "cell_type": "code",
   "execution_count": 5,
   "metadata": {
    "id": "RE_ZB-iu9Skp"
   },
   "outputs": [
    {
     "data": {
      "text/plain": [
       "LinearRegression()"
      ]
     },
     "execution_count": 5,
     "metadata": {},
     "output_type": "execute_result"
    }
   ],
   "source": [
    "simple = LinearRegression()\n",
    "simple.fit(X,y)"
   ]
  },
  {
   "cell_type": "markdown",
   "metadata": {
    "id": "GUAtb9NRxypA"
   },
   "source": [
    "The training is completed. We can explore the weight (coefficient) and bias (intercept) of the trained model."
   ]
  },
  {
   "cell_type": "code",
   "execution_count": 6,
   "metadata": {
    "id": "RfFW_nMq-ZCS"
   },
   "outputs": [
    {
     "data": {
      "text/plain": [
       "array([152.13348416])"
      ]
     },
     "execution_count": 6,
     "metadata": {},
     "output_type": "execute_result"
    }
   ],
   "source": [
    "simple.intercept_"
   ]
  },
  {
   "cell_type": "code",
   "execution_count": 7,
   "metadata": {
    "id": "eCMtWcLP-fDc"
   },
   "outputs": [
    {
     "data": {
      "text/plain": [
       "array([[949.43526038]])"
      ]
     },
     "execution_count": 7,
     "metadata": {},
     "output_type": "execute_result"
    }
   ],
   "source": [
    "simple.coef_"
   ]
  },
  {
   "cell_type": "markdown",
   "metadata": {
    "id": "q1uvnyfLx4TY"
   },
   "source": [
    "Calculate the predictions following the formula, y = intercept + X*coefficient."
   ]
  },
  {
   "cell_type": "markdown",
   "metadata": {
    "id": "kB8eQffz-NfZ"
   },
   "source": [
    "Predictions can also be calculated using the trained model."
   ]
  },
  {
   "cell_type": "code",
   "execution_count": 8,
   "metadata": {
    "id": "7-L05bJlTQkR"
   },
   "outputs": [],
   "source": [
    "calc_pred = simple.intercept_ + (X*simple.coef_)\n",
    "pred = simple.predict(X)"
   ]
  },
  {
   "cell_type": "code",
   "execution_count": 9,
   "metadata": {
    "id": "KpSLFR88Tdnw"
   },
   "outputs": [
    {
     "data": {
      "text/plain": [
       "True"
      ]
     },
     "execution_count": 9,
     "metadata": {},
     "output_type": "execute_result"
    }
   ],
   "source": [
    "(calc_pred == pred).all()"
   ]
  },
  {
   "cell_type": "markdown",
   "metadata": {
    "id": "WUon1r5D-PlR"
   },
   "source": [
    "Plot the actual values and predicted values to get a better understanding."
   ]
  },
  {
   "cell_type": "code",
   "execution_count": 10,
   "metadata": {
    "id": "4GA3_8DB_RDv"
   },
   "outputs": [
    {
     "data": {
      "image/png": "[encoded data removed]",
      "text/plain": [
       "<Figure size 432x288 with 1 Axes>"
      ]
     },
     "metadata": {
      "needs_background": "light"
     },
     "output_type": "display_data"
    }
   ],
   "source": [
    "plt.scatter(X,y, label='Actual')\n",
    "plt.plot(X,pred, '-r', label='Prediction')\n",
    "plt.xlabel('Feature X')\n",
    "plt.ylabel('Target y')\n",
    "plt.title('Simple Linear Regression', color='orange', size=14)\n",
    "plt.legend()\n",
    "plt.show()"
   ]
  },
  {
   "cell_type": "markdown",
   "metadata": {
    "id": "RiCQS961-SHc"
   },
   "source": [
    "According to SciKit-Learn’s LinearRegression method, the above red line is the best possible fit with minimal error value. \n",
    "\n",
    "We can calculate the mean squared error value for the above regression using the following code."
   ]
  },
  {
   "cell_type": "markdown",
   "metadata": {
    "id": "GvXeROQqx6v7"
   },
   "source": [
    "Mean Squared Error"
   ]
  },
  {
   "cell_type": "code",
   "execution_count": 11,
   "metadata": {
    "id": "AGBsINqETKnr"
   },
   "outputs": [
    {
     "data": {
      "text/plain": [
       "3890.4565854612724"
      ]
     },
     "execution_count": 11,
     "metadata": {},
     "output_type": "execute_result"
    }
   ],
   "source": [
    "mean_squared_error(y, pred)"
   ]
  },
  {
   "cell_type": "markdown",
   "metadata": {
    "id": "WG-tjOpLx9P4"
   },
   "source": [
    "R-Squared value"
   ]
  },
  {
   "cell_type": "markdown",
   "metadata": {
    "id": "SuYxPpdi-doL"
   },
   "source": [
    "CoD gives the ratio of the regression sum of square to the total sum of the square. Total sum of squares (SST) is the sum of deviations of each y value from the mean value of y. Regression sum of squares (SSR) is the difference between the total sum of squares and the sum of squared error (SSE). When there is no error (MSE = 0), CoD becomes unity. When the sum of squared error equals the total sum of squares (SSE = SST), CoD becomes zero.\n",
    "\n",
    "CoD = 1 refers to the best prediction\n",
    "\n",
    "CoD = 0 refers to the worst prediction\n",
    "\n",
    "CoD gives a limit [0,1], thus makes the predictions comparable. CoD is also called R-squared value. It can be calculated using the following code."
   ]
  },
  {
   "cell_type": "code",
   "execution_count": null,
   "metadata": {
    "id": "tjhzMn_bRs-F"
   },
   "outputs": [],
   "source": [
    "simple.score(X,y)"
   ]
  },
  {
   "cell_type": "markdown",
   "metadata": {
    "id": "XI-dZMCVd6W8"
   },
   "source": [
    "## Multiple Linear Regression "
   ]
  },
  {
   "cell_type": "markdown",
   "metadata": {
    "id": "LTBbWyYY-g7k"
   },
   "source": [
    "Multiple linear regression is performed with more than one independent variable. We choose the following columns as our features."
   ]
  },
  {
   "cell_type": "code",
   "execution_count": null,
   "metadata": {
    "id": "zYke77Ug1a_W"
   },
   "outputs": [],
   "source": [
    "columns = ['age', 'bmi', 'bp', 's3', 's5']\n",
    "columns"
   ]
  },
  {
   "cell_type": "markdown",
   "metadata": {
    "id": "sIUzyWc1yD08"
   },
   "source": [
    "Visuaize the data"
   ]
  },
  {
   "cell_type": "code",
   "execution_count": null,
   "metadata": {
    "id": "VK24VTH_yjHR"
   },
   "outputs": [],
   "source": [
    "for i in columns:\n",
    "  plt.scatter(features[i], y)\n",
    "  plt.xlabel(str(i))\n",
    "  plt.show() "
   ]
  },
  {
   "cell_type": "markdown",
   "metadata": {
    "id": "exvwkR38-l7j"
   },
   "source": [
    "It is observed that each individual feature has scatteredness in nature. But, the variation in target values for a single input feature value may be explained by some other features. In other words, the target value may find difficulty in fitting a linear regression model with a single feature. Nevertheless, it may yield an improved fit with multiple features by exploring the true pattern in the data."
   ]
  },
  {
   "cell_type": "markdown",
   "metadata": {
    "id": "CyeHY_OY-oXu"
   },
   "source": [
    "In the simple linear regression implementation, we have used all our data to fit the model. But, how can we test our model? How far will our model perform on unforeseen data? This is where the train-test-split comes into play. We split our dataset into two sets: a training set and a validation set. We train our model with training data only and evaluate it with the validation set."
   ]
  },
  {
   "cell_type": "markdown",
   "metadata": {
    "id": "DGJjVYVCyHR5"
   },
   "source": [
    "Perform Train-Validation split"
   ]
  },
  {
   "cell_type": "code",
   "execution_count": null,
   "metadata": {
    "id": "LM5cUcMTkQQa"
   },
   "outputs": [],
   "source": [
    "from sklearn.model_selection import train_test_split\n",
    "\n",
    "X = features[columns]\n",
    "# 70% training data, 30% validation data\n",
    "X_train, X_val, y_train, y_val = train_test_split(X, y, test_size=0.2, random_state=6)"
   ]
  },
  {
   "cell_type": "markdown",
   "metadata": {
    "id": "9LUckZUt-sjb"
   },
   "source": [
    "Build a linear regression model and fit the data."
   ]
  },
  {
   "cell_type": "code",
   "execution_count": null,
   "metadata": {
    "id": "ZS3byeAck50S"
   },
   "outputs": [],
   "source": [
    "multi = LinearRegression()\n",
    "multi.fit(X_train, y_train)"
   ]
  },
  {
   "cell_type": "markdown",
   "metadata": {
    "id": "_71ju0JQyOi0"
   },
   "source": [
    "What are the weights (coefficients) of our model? There should be five coefficients each corresponding to each feature."
   ]
  },
  {
   "cell_type": "code",
   "execution_count": null,
   "metadata": {
    "id": "KZb7k2bklOIG"
   },
   "outputs": [],
   "source": [
    "multi.coef_"
   ]
  },
  {
   "cell_type": "code",
   "execution_count": null,
   "metadata": {
    "id": "H3-dtc9dl7X8"
   },
   "outputs": [],
   "source": [
    "multi.intercept_"
   ]
  },
  {
   "cell_type": "markdown",
   "metadata": {
    "id": "WctJNmX0yUnk"
   },
   "source": [
    "Predictions, error and R-squared value"
   ]
  },
  {
   "cell_type": "code",
   "execution_count": null,
   "metadata": {
    "id": "q1AXp29LmsRq"
   },
   "outputs": [],
   "source": [
    "pred = multi.predict(X_val)\n"
   ]
  },
  {
   "cell_type": "code",
   "execution_count": null,
   "metadata": {
    "id": "zOyYSyiJntD5"
   },
   "outputs": [],
   "source": [
    "mean_squared_error(y_val, pred)"
   ]
  },
  {
   "cell_type": "code",
   "execution_count": null,
   "metadata": {
    "id": "xJfqehskn9iv"
   },
   "outputs": [],
   "source": [
    "multi.score(X_train, y_train), multi.score(X_val, y_val)"
   ]
  },
  {
   "cell_type": "markdown",
   "metadata": {
    "id": "HKmhilMnqVdm"
   },
   "source": [
    "## Using statsmodels Library "
   ]
  },
  {
   "cell_type": "markdown",
   "metadata": {
    "id": "OMDIqMYMyaLq"
   },
   "source": [
    "We have used the SciKit-Learn library so far to perform linear regression. However, we can use the statsmodels library to perform the same task. Fit the training data on the OLS (Ordinary Least Squares) model available in the statsmodels library."
   ]
  },
  {
   "cell_type": "code",
   "execution_count": null,
   "metadata": {
    "id": "dMg-Ra-rrCTc"
   },
   "outputs": [],
   "source": [
    "import statsmodels.api as sm\n",
    "X_train = sm.add_constant(X_train)\n",
    "model = sm.OLS(y_train, X_train).fit()\n",
    "model.summary()"
   ]
  },
  {
   "cell_type": "markdown",
   "metadata": {
    "id": "NxwVHFx3yfvG"
   },
   "source": [
    "Prediction, error calculation"
   ]
  },
  {
   "cell_type": "markdown",
   "metadata": {
    "id": "WOEMCYIc-4RP"
   },
   "source": [
    "It can be observed that the model weights, intercept and the R-squared value are all identical to the Linear Regression method of the SciKit-Learn library.\n",
    "\n",
    "The model can be implemented to make predictions on validation data too."
   ]
  },
  {
   "cell_type": "code",
   "execution_count": null,
   "metadata": {
    "id": "l9pxNBVHtbLC"
   },
   "outputs": [],
   "source": [
    "# Constant (intercept) must be added manually\n",
    "X_val = sm.add_constant(X_val)\n",
    "preds = model.predict(X_val)\n"
   ]
  },
  {
   "cell_type": "code",
   "execution_count": null,
   "metadata": {
    "id": "VXa3qFzPvNjO"
   },
   "outputs": [],
   "source": [
    "mean_squared_error(y_val, preds)"
   ]
  },
  {
   "cell_type": "markdown",
   "metadata": {
    "id": "5COODKtQymj-"
   },
   "source": [
    "Both methods perform identically"
   ]
  }
 ],
 "metadata": {
  "colab": {
   "authorship_tag": "ABX9TyM1JXJ5VjVb37GoBofSb+YV",
   "collapsed_sections": [],
   "name": "3_Univariate_and_Multivariate_LinearRegression.ipynb",
   "provenance": [],
   "toc_visible": true
  },
  "kernelspec": {
   "display_name": "Python 3 (ipykernel)",
   "language": "python",
   "name": "python3"
  },
  "language_info": {
   "codemirror_mode": {
    "name": "ipython",
    "version": 3
   },
   "file_extension": ".py",
   "mimetype": "text/x-python",
   "name": "python",
   "nbconvert_exporter": "python",
   "pygments_lexer": "ipython3",
   "version": "3.9.7"
  }
 },
 "nbformat": 4,
 "nbformat_minor": 2
}
