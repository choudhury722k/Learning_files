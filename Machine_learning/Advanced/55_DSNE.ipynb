{
 "cells": [
  {
   "cell_type": "markdown",
   "metadata": {
    "id": "_QcDJzRgWOSZ"
   },
   "source": [
    "# DSNE Velocity Visualization\n",
    "\n",
    "Songting Shi of the Peking University, China, has developed a mathematically sound approach to visualize cell components’ velocity. This method is named as DSNE, the abbreviation for Directional Stochastic Neighbor Embedding. It can be viewed as a variant of the vanilla SNE proposed to handle velocity visualization problems such as cell differentiation and embryo development.\n",
    "\n",
    "DSNE converts the high-dimensional Euclidean distance between the unit-length velocity and the unit-length direction from the point of interest to the nearest neighbor points into a conditional probability distribution. This conditional probability distribution represents the similarity between the velocity and the direction of cell particles. \n",
    "\n",
    "To read about it more, please refer [this](https://analyticsindiamag.com/complete-guide-to-dsne-a-velocity-visualization-tool/) article.\n",
    "\n",
    "References:\n",
    "\n",
    "Original research paper\n",
    "https://arxiv.org/abs/2103.08509v1\n",
    "\n",
    "Github Repository\n",
    "https://github.com/songtingstone/dsne\n"
   ]
  },
  {
   "cell_type": "markdown",
   "metadata": {
    "id": "MYKIWdrblic_"
   },
   "source": [
    "# **Code Implementation**"
   ]
  },
  {
   "cell_type": "code",
   "execution_count": null,
   "metadata": {},
   "outputs": [],
   "source": [
    "!python -m pip install pip --upgrade --user -q\n",
    "!python -m pip install numpy pandas seaborn matplotlib scipy sklearn statsmodels --user -q"
   ]
  },
  {
   "cell_type": "code",
   "execution_count": null,
   "metadata": {
    "id": "IA2zK0u5U7hh"
   },
   "outputs": [],
   "source": [
    "!python -m pip install dsne --user -q"
   ]
  },
  {
   "cell_type": "code",
   "execution_count": null,
   "metadata": {},
   "outputs": [],
   "source": [
    "import IPython\n",
    "IPython.Application.instance().kernel.do_shutdown(True)"
   ]
  },
  {
   "cell_type": "markdown",
   "metadata": {
    "id": "KFUofMVazXyb"
   },
   "source": [
    "## Pancreas data visualization"
   ]
  },
  {
   "cell_type": "markdown",
   "metadata": {
    "id": "4lHj_FVmlfY2"
   },
   "source": [
    "\n",
    "Pancreas is one of the sensitive and vital organs in the human body. Pancreas looks after food digestion and blood sugar regulation. Pancreas cells possess highly dynamic functionality inter- and intra-cells. Timely study of Pancreas leads to better medication in case of impairment. Pancreas cell velocity can be analyzed and visualized using DSNE’s python package. \n",
    "\n"
   ]
  },
  {
   "cell_type": "markdown",
   "metadata": {
    "id": "T4v3MEnkltdf"
   },
   "source": [
    "Create the development environment by importing the necessary modules"
   ]
  },
  {
   "cell_type": "code",
   "execution_count": null,
   "metadata": {
    "id": "uApDNB42WbBz"
   },
   "outputs": [],
   "source": [
    "import numpy as np\n",
    "import scvelo as scv\n",
    "from scipy.sparse import issparse\n",
    "from dsne import DSNE, DSNE_approximate\n"
   ]
  },
  {
   "cell_type": "markdown",
   "metadata": {
    "id": "WJoZ4GbDlweI"
   },
   "source": [
    "Configure the visualization settings to suit the application and download the built-in pancreas dataset."
   ]
  },
  {
   "cell_type": "code",
   "execution_count": null,
   "metadata": {
    "id": "UHMKqE8-Wjkd"
   },
   "outputs": [],
   "source": [
    "scv.settings.verbosity = 3  # show errors(0), warnings(1), info(2), hints(3)\n",
    "scv.settings.presenter_view = True  # set max width size for presenter view\n",
    "scv.settings.set_figure_params('scvelo')  # for beautified visualization\n",
    "adata = scv.datasets.pancreas()\n",
    "\n",
    "scv.pp.filter_and_normalize(adata, min_shared_counts=20, n_top_genes=2000)\n",
    "scv.pp.moments(adata, n_pcs=30, n_neighbors=30)\n",
    "\n",
    "scv.tl.velocity(adata)"
   ]
  },
  {
   "cell_type": "markdown",
   "metadata": {
    "id": "LoK80m_glzsH"
   },
   "source": [
    "Define a helper function to obtain the velocity components that are required to plot pancreas velocity."
   ]
  },
  {
   "cell_type": "code",
   "execution_count": null,
   "metadata": {
    "id": "vtL6OSs0Wy6z"
   },
   "outputs": [],
   "source": [
    "def get_X_V_Y(adata,vkey=\"velocity\",\n",
    "              xkey=\"Ms\",\n",
    "              basis=None,\n",
    "              gene_subset=None,\n",
    "              ):\n",
    "\n",
    "    subset = np.ones(adata.n_vars, bool)\n",
    "    if gene_subset is not None:\n",
    "        var_names_subset = adata.var_names.isin(gene_subset)\n",
    "        subset &= var_names_subset if len(var_names_subset) > 0 else gene_subset\n",
    "    elif f\"{vkey}_genes\" in adata.var.keys():\n",
    "        subset &= np.array(adata.var[f\"{vkey}_genes\"].values, dtype=bool)\n",
    "\n",
    "    xkey = xkey if xkey in adata.layers.keys() else \"spliced\"\n",
    "    basis = 'umap' if basis is None else basis\n",
    "    X = np.array(\n",
    "        adata.layers[xkey].A[:, subset]\n",
    "        if issparse(adata.layers[xkey])\n",
    "        else adata.layers[xkey][:, subset]\n",
    "    )\n",
    "    V = np.array(\n",
    "        adata.layers[vkey].A[:, subset]\n",
    "        if issparse(adata.layers[vkey])\n",
    "        else adata.layers[vkey][:, subset]\n",
    "    )\n",
    "    # V -= np.nanmean(V, axis=1)[:, None]\n",
    "    Y =np.array(\n",
    "        adata.obsm[f\"X_{basis}\"]\n",
    "    )\n",
    "\n",
    "\n",
    "    nans = np.isnan(np.sum(V, axis=0))\n",
    "    if np.any(nans):\n",
    "        X = X[:, ~nans]\n",
    "        V = V[:, ~nans]\n",
    "    return X,V,Y"
   ]
  },
  {
   "cell_type": "markdown",
   "metadata": {
    "id": "9dgLeOMLl2BM"
   },
   "source": [
    "Get the two-dimensional velocity embedding of high-dimensional pancreas velocity data with standard DSNE."
   ]
  },
  {
   "cell_type": "code",
   "execution_count": null,
   "metadata": {
    "id": "LXUVCd5LW073"
   },
   "outputs": [],
   "source": [
    "X,V,X_2d = get_X_V_Y(adata,vkey=\"velocity\",xkey=\"Ms\",basis=\"umap\")\n",
    "\n",
    "\n",
    "V_2d = DSNE(X, V, Y=X_2d,\n",
    "            perplexity=3.0,\n",
    "            K=16,\n",
    "            threshold_V=1e-8,\n",
    "            separate_threshold=1e-8,\n",
    "            max_iter=600,\n",
    "            mom_switch_iter=250,\n",
    "            momentum=0.5,\n",
    "            final_momentum=0.8,\n",
    "            eta=0.1,\n",
    "            epsilon_kl=1e-16,\n",
    "            epsilon_dsne=1e-16,\n",
    "            seed=6,\n",
    "            random_state=None,\n",
    "            copy_data=False,\n",
    "            with_norm=True,\n",
    "            verbose=True)\n"
   ]
  },
  {
   "cell_type": "markdown",
   "metadata": {
    "id": "XMZf9Xlcl4OQ"
   },
   "source": [
    "Plot the standard DSNE velocity data in a two-dimensional plot."
   ]
  },
  {
   "cell_type": "code",
   "execution_count": null,
   "metadata": {
    "id": "NtjLNGD7W9PO"
   },
   "outputs": [],
   "source": [
    "adata.obsm[\"X_DSNE\"] = X_2d\n",
    "adata.obsm[\"V_DSNE\"] = V_2d\n",
    "title =\"DSNE\"\n",
    "scv.pl.velocity_embedding_stream(adata, title=title+' stream', basis='umap',V=adata.obsm[\"V_DSNE\"], smooth=0.5,density=2,)\n",
    "\n",
    "scv.pl.velocity_embedding_grid(adata, title=title+' grid' , basis='umap',V=adata.obsm[\"V_DSNE\"], smooth=0.5,density=2,)\n",
    "\n",
    "\n",
    "scv.pl.velocity_embedding(adata,  title=title+' embedding',basis='umap',V = adata.obsm[\"V_DSNE\"])\n",
    "\n"
   ]
  },
  {
   "cell_type": "markdown",
   "metadata": {
    "id": "H_0T03Ajl6Yw"
   },
   "source": [
    "Plot the compute-efficient DSNE approximate version of the above plots."
   ]
  },
  {
   "cell_type": "code",
   "execution_count": null,
   "metadata": {
    "id": "SWT4sJfKXb9T"
   },
   "outputs": [],
   "source": [
    "title =\"DSNE-approximate\"\n",
    "V_2d = DSNE_approximate(X, V, Y=X_2d,\n",
    "                        perplexity=3.0,\n",
    "                        K=16,\n",
    "                        threshold_V=1e-8,\n",
    "                        separate_threshold=1e-8,\n",
    "                        seed=6,\n",
    "                        random_state=None,\n",
    "                        copy_data=False,\n",
    "                        with_norm=True,\n",
    "                        verbose=True)\n",
    "\n",
    "adata.obsm[\"X_DSNE_approximate\"] = X_2d\n",
    "adata.obsm[\"V_DSNE_approximate\"] = V_2d\n",
    "\n",
    "scv.pl.velocity_embedding_stream(adata, basis='umap',V=adata.obsm[\"V_DSNE_approximate\"],  title=title+' stream', smooth=0.5,density=2,)\n",
    "\n",
    "scv.pl.velocity_embedding_grid(adata, basis='umap',V=adata.obsm[\"V_DSNE_approximate\"],  title=title+' grid', smooth=0.5,density=2,)\n",
    "\n",
    "scv.pl.velocity_embedding(adata, basis='umap',V = adata.obsm[\"V_DSNE_approximate\"], title=title+' embedding')"
   ]
  },
  {
   "cell_type": "markdown",
   "metadata": {
    "id": "3SCuksFsimna"
   },
   "source": [
    "## Exact Simulation"
   ]
  },
  {
   "cell_type": "markdown",
   "metadata": {
    "id": "O7V8fKlBl903"
   },
   "source": [
    "Import the necessary packages and data; and configure hyper-parameters."
   ]
  },
  {
   "cell_type": "markdown",
   "metadata": {
    "id": "H5XvuF4jmAkF"
   },
   "source": [
    "Define helper functions for determining unit length and velocity accuracy."
   ]
  },
  {
   "cell_type": "markdown",
   "metadata": {
    "id": "Efx_HMH5mEoI"
   },
   "source": [
    "Define a function to preprocess and simulate the built-in data."
   ]
  },
  {
   "cell_type": "code",
   "execution_count": null,
   "metadata": {
    "id": "rAcpGxlXillL"
   },
   "outputs": [],
   "source": [
    "import os\n",
    "import numpy as np\n",
    "import scvelo as scv\n",
    "from anndata import AnnData, read_h5ad\n",
    "from dsne import DSNE, DSNE_approximate\n",
    "\n",
    "N=500\n",
    "D=300\n",
    "d=2\n",
    "K=16\n",
    "perplexity =6\n",
    "n_rep=1\n",
    "exact = False\n",
    "with_norm = True\n",
    "basis = 'exact_embeddings'\n",
    "verbose = False\n",
    "\n",
    "def unitLength(V):\n",
    "    V_ = V/np.sqrt(np.sum(V*V,axis=1,keepdims=True))\n",
    "    return V_\n",
    "def velocity_accuracy(V, V_exact):\n",
    "    V_unit = unitLength(V)\n",
    "    V_exact_unit = unitLength(V_exact)\n",
    "    accu = np.sum( V_unit* V_exact_unit )/(V.shape[0]*1.)\n",
    "    return accu\n",
    "\n",
    "def simulate_data(N=50, D=3, d=2, save =True, file_name_prefix =\"./data\" ):\n",
    "    if not os.path.exists(file_name_prefix):\n",
    "        print(\"Directory: {} do not exist, create it! \\n\".format(os.path.abspath(file_name_prefix)))\n",
    "        os.makedirs(os.path.abspath(file_name_prefix))\n",
    "    V_2d = np.random.randn(*(N * 3, d)) * 6\n",
    "    err_2d = np.random.randn(*(N * 3, d))*2\n",
    "    x_1 = np.asarray([0, ] * d)\n",
    "    x_2 = np.asarray([50, ] * d)\n",
    "    x_3 = np.asarray([160, ] * d)\n",
    "    X_2d = np.zeros_like(V_2d)\n",
    "    X_2d[0, :] = x_1\n",
    "    X_2d[N, :] = x_2\n",
    "    X_2d[N * 2, :] = x_3\n",
    "    for i in np.arange(N - 1):\n",
    "        X_2d[i + 1, :] = X_2d[i, :] + V_2d[i, :] + err_2d[i,:]\n",
    "        X_2d[i + N + 1, :] = X_2d[i + N, :] + V_2d[i + N, :] + err_2d[i + N, :]\n",
    "        X_2d[i + N * 2 + 1, :] = X_2d[i + N * 2, :] + V_2d[i + N * 2, :] +  err_2d[i + N * 2, :]\n",
    "\n",
    "\n",
    "    y = np.asarray([0, ] * N + [1, ] * N + [2, ] * N)\n",
    "    U = np.array(np.random.randn(*(d, D)))\n",
    "    X = X_2d.__matmul__(U)\n",
    "    V = V_2d.__matmul__(U)\n",
    "\n",
    "\n",
    "    adata = AnnData(X=X, layers={\"velocity\": V},obs={\"clusters\": y}, obsm={\"X_exact_embeddings\":X_2d, \"V_exact_embeddings\":V_2d})\n",
    "    if save:\n",
    "        file_name = file_name_prefix+\"simulated_data_N_{}_D_{}.h5hd\".format(N,D)\n",
    "        adata.write_h5ad(file_name)\n",
    "    return adata\n"
   ]
  },
  {
   "cell_type": "markdown",
   "metadata": {
    "id": "Bi8wTWo8mKHu"
   },
   "source": [
    "Process the data for simulation and prepare it for two-dimensional plotting."
   ]
  },
  {
   "cell_type": "code",
   "execution_count": null,
   "metadata": {
    "id": "lof4G_i7qYCD"
   },
   "outputs": [],
   "source": [
    "adata = simulate_data(N=N,D=D,d=d,save=False)\n",
    "X = adata.X\n",
    "V = adata.layers[\"velocity\"]\n",
    "X_basis = f\"X_{basis}\"\n",
    "\n",
    "X = np.asarray(X, dtype=np.float64)\n",
    "V = np.asarray(V, dtype=np.float64)\n",
    "Y = None\n",
    "if (X_basis in adata.obsm.keys()) and adata.obsm[X_basis] is not None:\n",
    "  Y = adata.obsm[f\"X_{basis}\"]\n",
    "\n",
    "if Y is None:\n",
    "  print(\"Do not get the low dimesnional embedding Y! \\n\")\n",
    "  # raise\n",
    "\n",
    "Y = np.asarray(Y, dtype=np.float64)"
   ]
  },
  {
   "cell_type": "markdown",
   "metadata": {
    "id": "d_6tj5IvriuQ"
   },
   "source": [
    "## scVelo"
   ]
  },
  {
   "cell_type": "markdown",
   "metadata": {
    "id": "IRCtx388mMZ_"
   },
   "source": [
    "Plot the simulation with the recent model, scVelo and determine the accuracy."
   ]
  },
  {
   "cell_type": "code",
   "execution_count": null,
   "metadata": {
    "id": "dHs4xW12rk_b"
   },
   "outputs": [],
   "source": [
    "adata_tmp = AnnData(X=X, obsm={\"X_umap\": Y}, layers={\"velocity\": V, \"spliced\": X})\n",
    "scv.tl.velocity_graph(adata_tmp, xkey='spliced')\n",
    "scv.tools.velocity_embedding(adata_tmp, basis=\"umap\")\n",
    "W = adata_tmp.obsm[\"velocity_umap\"]\n",
    "vkey = \"velocity_scvelo_original\"\n",
    "method = 'scvelo_velocity_original'\n",
    "str_exact = \"exact\" if exact else \"approx\"\n",
    "adata.obsm[f\"{vkey}_{str_exact}_{basis}\"] = W\n",
    "W_exact = adata.obsm[\"V_exact_embeddings\"]\n",
    "accu = velocity_accuracy(W, W_exact)\n",
    "print(f\"  {method}, {str_exact},  accu: {accu}\\n\")\n",
    "method_str = \"scVelo\"\n",
    "title = \"{} on exact embeddings with accuracy {:5.3f}\".format(method_str, accu)\n",
    "scv.pl.velocity_embedding(adata, basis=basis, V=W, title=title,density=2,)\n",
    "scv.pl.velocity_embedding_stream(adata, basis=basis, V=W, title=title,density=2,)\n",
    "scv.pl.velocity_embedding_grid(adata, basis=basis, V=W, title=title,)"
   ]
  },
  {
   "cell_type": "markdown",
   "metadata": {
    "id": "G83bXe1hrSvO"
   },
   "source": [
    "## DSNE Approximate"
   ]
  },
  {
   "cell_type": "markdown",
   "metadata": {
    "id": "zfft7dXvmP_Q"
   },
   "source": [
    "Plot the exact simulation visualization with DSNE-Approximate version and determine the accuracy."
   ]
  },
  {
   "cell_type": "code",
   "execution_count": null,
   "metadata": {
    "id": "QqYNUmaUrR_D"
   },
   "outputs": [],
   "source": [
    "W = DSNE_approximate(X, V, Y=Y,\n",
    "                                      perplexity=perplexity,\n",
    "                                      pca_d=None,\n",
    "                                      threshold_V=1e-8,\n",
    "                                      separate_threshold=1e-8,\n",
    "                                      seed=16,\n",
    "                                      random_state=None,\n",
    "                                      copy_data=False,\n",
    "                                      verbose=verbose)\n",
    "vkey = \"velocity_scvelo\"\n",
    "str_exact = \"exact\" if exact else \"approx\"\n",
    "method = \"DSNE_approximate\"\n",
    "adata.obsm[f\"{vkey}_{str_exact}_{basis}\"] = W\n",
    "W_exact = adata.obsm[\"V_exact_embeddings\"]\n",
    "accu = velocity_accuracy(W, W_exact)\n",
    "print(f\"  {method}, {str_exact},  accu: {accu}\\n\")\n",
    "method_str = \"DSNE-approximate\"\n",
    "title = \"{} on exact embeddings with accuracy {:5.3f}\".format(method_str, accu)\n",
    "scv.pl.velocity_embedding(adata, basis=basis, V=W, title=title,density=2,)\n",
    "scv.pl.velocity_embedding_stream(adata, basis=basis, V=W, title=title,density=2,)\n",
    "scv.pl.velocity_embedding_grid(adata, basis=basis, V=W, title=title,)"
   ]
  },
  {
   "cell_type": "markdown",
   "metadata": {
    "id": "3rrO0vz7q_1f"
   },
   "source": [
    "## DSNE"
   ]
  },
  {
   "cell_type": "markdown",
   "metadata": {
    "id": "gdf8zv3QmSTB"
   },
   "source": [
    "Plot the exact simulation visualization with standard DSNE and determine the accuracy.\n"
   ]
  },
  {
   "cell_type": "code",
   "execution_count": null,
   "metadata": {
    "id": "FvSBSl7-rBva"
   },
   "outputs": [],
   "source": [
    "W = DSNE(X, V, Y=Y,\n",
    "                 K= K,\n",
    "                 perplexity=perplexity,\n",
    "                 pca_d=None,\n",
    "                 threshold_V=1e-8,\n",
    "                 separate_threshold=1e-8,\n",
    "                 max_iter=1000,\n",
    "                 mom_switch_iter=250,\n",
    "                 momentum=0.5,\n",
    "                 final_momentum=0.8,\n",
    "                 eta=0.1,\n",
    "                 epsilon_kl=1e-16,\n",
    "                 epsilon_dsne=1e-16,\n",
    "                 with_norm=with_norm,\n",
    "                 seed=16,\n",
    "                 random_state=None,\n",
    "                 copy_data=True,\n",
    "                 verbose=verbose)\n",
    "vkey = \"velocity_dsne\"\n",
    "method = 'DSNE'\n",
    "str_exact = \"exact\" if exact else \"approx\"\n",
    "adata.obsm[f\"{vkey}_{str_exact}_{basis}\"] = W\n",
    "W_exact = adata.obsm[\"V_exact_embeddings\"]\n",
    "accu = velocity_accuracy(W, W_exact)\n",
    "print(f\"  {method}, {str_exact},  accu: {accu}\\n\")\n",
    "method_str = \"DSNE\"\n",
    "title = \"{} on exact embeddings with accuracy {:5.3f}\".format(method_str, accu)\n",
    "scv.pl.velocity_embedding(adata, basis=basis, V=W, title=title,density=2,)\n",
    "scv.pl.velocity_embedding_stream(adata, basis=basis, V=W, title=title,density=2,)\n",
    "scv.pl.velocity_embedding_grid(adata, basis=basis, V=W, title=title,)"
   ]
  }
 ],
 "metadata": {
  "colab": {
   "authorship_tag": "ABX9TyNVzGcpUZ9HzWhxg4IOeU4c",
   "collapsed_sections": [],
   "name": "2_DSNE.ipynb",
   "provenance": [],
   "toc_visible": true
  },
  "kernelspec": {
   "display_name": "Python 3",
   "name": "python3"
  },
  "language_info": {
   "name": "python"
  }
 },
 "nbformat": 4,
 "nbformat_minor": 2
}
