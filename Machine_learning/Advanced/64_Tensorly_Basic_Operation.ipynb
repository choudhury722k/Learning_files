{
 "cells": [
  {
   "cell_type": "markdown",
   "metadata": {
    "id": "tcmmLTqIK5SV"
   },
   "source": [
    "# TensorLy: A Python Library For Tensor Learning "
   ]
  },
  {
   "cell_type": "markdown",
   "metadata": {
    "id": "y-7usxkcK983"
   },
   "source": [
    "TensorLy is an open-source Python library that eases the task of performing tensor operations. It provides a high-level API for dealing with deep tensorized neural networks and tensor methods. It was created in 2015 by a senior research scientist at NVIDIA Research Group named Jean Kossaifi. It was presented at the NeurIPS workshop and was later published byJean Kossaifi, Yannis Panagakis, Anima Anandkumar and Maja Pantic in a JMLR paper in February 2019."
   ]
  },
  {
   "cell_type": "markdown",
   "metadata": {
    "id": "UOdlvZbKK-dy"
   },
   "source": [
    "To read about it more, please refer [this](https://analyticsindiamag.com/guide-to-tensorly-a-python-library-for-tensor-learning/) article."
   ]
  },
  {
   "cell_type": "markdown",
   "metadata": {
    "id": "b12Y3HakLIgX"
   },
   "source": [
    "# Installation of TensorLy\n",
    "\n",
    "**NOTE:** TensorLy has been developed and tested only on Python 3 version.\n",
    "\n",
    "Install the library using pip command:"
   ]
  },
  {
   "cell_type": "code",
   "execution_count": null,
   "metadata": {},
   "outputs": [],
   "source": [
    "!python -m pip install pip --upgrade --user -q\n",
    "!python -m pip install numpy pandas seaborn matplotlib scipy sklearn statsmodels tensorflow keras --user -q"
   ]
  },
  {
   "cell_type": "code",
   "execution_count": null,
   "metadata": {},
   "outputs": [],
   "source": [
    "!python -m pip install -U tensorly --user -q"
   ]
  },
  {
   "cell_type": "code",
   "execution_count": null,
   "metadata": {},
   "outputs": [],
   "source": [
    "import IPython\n",
    "IPython.Application.instance().kernel.do_shutdown(True)"
   ]
  },
  {
   "cell_type": "code",
   "execution_count": null,
   "metadata": {
    "id": "MnydJtu7ArqR"
   },
   "outputs": [],
   "source": [
    "import numpy as np\n",
    "import tensorly as tl\n",
    "from tensorly.testing import assert_array_equal"
   ]
  },
  {
   "cell_type": "markdown",
   "metadata": {
    "id": "2ehTk_oZLQxO"
   },
   "source": [
    "# Practical implementation\n",
    "\n",
    "Here, we demonstrate how to use this library for basic tensor operations, tensor decomposition and tensor regression. Step-wise explanation for code of each of the use cases is as follows: \n",
    "Some basic tensor operations\n"
   ]
  },
  {
   "cell_type": "markdown",
   "metadata": {
    "id": "eTUkQq8NLT_A"
   },
   "source": [
    "  Create a tensor (it is nothing but a numpy array)"
   ]
  },
  {
   "cell_type": "code",
   "execution_count": null,
   "metadata": {
    "id": "fhQz1kVPF6Y3"
   },
   "outputs": [],
   "source": [
    "tensor = tl.tensor(np.arange(40).reshape((5, 2, 4)))\n",
    "print('Original tensor:\\n{}'.format(tensor))"
   ]
  },
  {
   "cell_type": "markdown",
   "metadata": {
    "id": "MUaMJTnkLbBq"
   },
   "source": [
    "Unfolding the tensor"
   ]
  },
  {
   "cell_type": "markdown",
   "metadata": {
    "id": "WhycZp3GLeNV"
   },
   "source": [
    "unfold() method performs unfolding starting from mode 0, and unfolds till (n-1)th dimension (where, ‘n’ is the dimension of the tensor)."
   ]
  },
  {
   "cell_type": "code",
   "execution_count": null,
   "metadata": {
    "id": "fdT8xGgFGLjm"
   },
   "outputs": [],
   "source": [
    "for mode in range(tensor.ndim):\n",
    "    print('Mode-{} unfolding:\\n{}'.format(mode, tl.unfold(tensor, mode)))"
   ]
  },
  {
   "cell_type": "markdown",
   "metadata": {
    "id": "q8_8pSyoLf7P"
   },
   "source": [
    "Refolding the tensor"
   ]
  },
  {
   "cell_type": "code",
   "execution_count": null,
   "metadata": {
    "id": "e19R1oBgGdVB"
   },
   "outputs": [],
   "source": [
    "for mode in range(tensor.ndim):\n",
    "    unf = tl.unfold(tensor, mode)\n",
    "    f = tl.fold(unf, mode, tensor.shape)\n",
    "    assert_array_equal(f, tensor)"
   ]
  },
  {
   "cell_type": "code",
   "execution_count": null,
   "metadata": {
    "id": "H0MRWDAoGj_8"
   },
   "outputs": [],
   "source": [
    "f"
   ]
  },
  {
   "cell_type": "code",
   "execution_count": null,
   "metadata": {
    "id": "KtOwtYfbHjzT"
   },
   "outputs": [],
   "source": [
    "unf"
   ]
  },
  {
   "cell_type": "code",
   "execution_count": null,
   "metadata": {
    "id": "agtTAdYVHngG"
   },
   "outputs": [],
   "source": []
  }
 ],
 "metadata": {
  "colab": {
   "authorship_tag": "ABX9TyNtIMzVn5R+u6zelvy0bjzv",
   "collapsed_sections": [],
   "name": "1_Tensorly_Basic_Operation.ipynb",
   "provenance": []
  },
  "kernelspec": {
   "display_name": "Python 3",
   "name": "python3"
  },
  "language_info": {
   "name": "python"
  }
 },
 "nbformat": 4,
 "nbformat_minor": 2
}
