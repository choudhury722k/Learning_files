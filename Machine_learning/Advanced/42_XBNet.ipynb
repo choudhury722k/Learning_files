{
 "cells": [
  {
   "cell_type": "markdown",
   "metadata": {
    "id": "W9CkHDev_Rm-"
   },
   "source": [
    "# XBNet"
   ]
  },
  {
   "cell_type": "markdown",
   "metadata": {
    "id": "ts8tu4w2_YFX"
   },
   "source": [
    "‘XBNet’, which stands for ‘Extremely Boosted Neural Network’, that combines gradient boosted tree with a feed-forward neural network, making the model robust for all performance metrics. In this approach, trees are being trained in every layer of the architecture, and feature importance given by the trees and weight determined by gradient descent is used to adjust the weights of layers where trees are trained.      \n",
    "\n",
    "XBNet takes raw tabular data as input, and the model is being trained using an optimization technique called Boosted Gradient Descent which is initialized with the help of feature importance of a gradient boosted trees further it updates the weights of each layer in the neural network in two steps as below:\n",
    "\n",
    "> * Updates Weight by Gradient descent.\n",
    "> * Updates weights by using feature importance of gradient boosted trees.  "
   ]
  },
  {
   "cell_type": "markdown",
   "metadata": {
    "id": "2pqnbe3S_X-S"
   },
   "source": [
    "To read about it more, please refer [this](https://analyticsindiamag.com/guide-to-xbnet-an-extremely-boosted-neural-network/) article."
   ]
  },
  {
   "cell_type": "markdown",
   "metadata": {
    "id": "KLLNfEPf_ioH"
   },
   "source": [
    "# Code Implementation"
   ]
  },
  {
   "cell_type": "markdown",
   "metadata": {
    "id": "35FjsEgP_pBR"
   },
   "source": [
    "Here we will compare the performance of XBNet and custom neural networks maintaining the same training parameters.\n",
    "XBNet:\n",
    "\n",
    "Install the architecture using pip as below"
   ]
  },
  {
   "cell_type": "code",
   "execution_count": null,
   "metadata": {},
   "outputs": [],
   "source": [
    "!python -m pip install pip --upgrade --user -q\n",
    "!python -m pip install numpy pandas seaborn matplotlib scipy sklearn statsmodels keras tensorflow torch --user -q"
   ]
  },
  {
   "cell_type": "code",
   "execution_count": null,
   "metadata": {
    "id": "8nZo5BmmtUhX"
   },
   "outputs": [],
   "source": [
    "!python -m pip install --upgrade git+https://github.com/tusharsarkar3/XBNet.git --user -q --no-warn-script-location"
   ]
  },
  {
   "cell_type": "code",
   "execution_count": null,
   "metadata": {},
   "outputs": [],
   "source": [
    "import IPython\n",
    "IPython.Application.instance().kernel.do_shutdown(True)"
   ]
  },
  {
   "cell_type": "markdown",
   "metadata": {
    "id": "eKQIiwht_q2E"
   },
   "source": [
    "Import all the dependencies:"
   ]
  },
  {
   "cell_type": "code",
   "execution_count": null,
   "metadata": {
    "id": "umCcV7gvthAs"
   },
   "outputs": [],
   "source": [
    "import torch\n",
    "import numpy as np\n",
    "from sklearn.model_selection import train_test_split"
   ]
  },
  {
   "cell_type": "code",
   "execution_count": null,
   "metadata": {
    "id": "vgOZnRP0tpGI"
   },
   "outputs": [],
   "source": [
    "from XBNet.training_utils import training,predict\n",
    "from XBNet.models import XBNETClassifier\n",
    "from XBNet.run import run_XBNET"
   ]
  },
  {
   "cell_type": "code",
   "execution_count": null,
   "metadata": {
    "id": "Q5hn-OQQt9dG"
   },
   "outputs": [],
   "source": [
    "from sklearn.datasets import load_iris"
   ]
  },
  {
   "cell_type": "code",
   "execution_count": null,
   "metadata": {
    "id": "7xwkOwBIuFnP"
   },
   "outputs": [],
   "source": [
    "data = load_iris()"
   ]
  },
  {
   "cell_type": "code",
   "execution_count": null,
   "metadata": {
    "id": "mCbLHITtuIie"
   },
   "outputs": [],
   "source": [
    "data.target"
   ]
  },
  {
   "cell_type": "markdown",
   "metadata": {
    "id": "dIjUAHWX_spe"
   },
   "source": [
    "Set the input output features and train test split"
   ]
  },
  {
   "cell_type": "code",
   "execution_count": null,
   "metadata": {
    "id": "Hj_7gF9duJSv"
   },
   "outputs": [],
   "source": [
    "x = data.data\n",
    "y = data.target\n",
    "x_train,x_test,y_train,y_test = train_test_split(x,y,test_size= 0.3, random_state= True)"
   ]
  },
  {
   "cell_type": "markdown",
   "metadata": {
    "id": "7mU2471S_3Xm"
   },
   "source": [
    "Initialize the architecture with training data; while initializing you need to set input-output dimensions of each layer here. I have set the number of layers as two, so I need to set the dimension manually. Don’t worry; it is pretty straightforward; you will be prompted to do so, as shown below.  "
   ]
  },
  {
   "cell_type": "code",
   "execution_count": null,
   "metadata": {
    "id": "FO6JYkjzujpE"
   },
   "outputs": [],
   "source": [
    "model = XBNETClassifier(x_train,y_train,num_layers=2)"
   ]
  },
  {
   "cell_type": "markdown",
   "metadata": {
    "id": "SFbO52Yu_5QR"
   },
   "source": [
    "Set the loss function and optimizer."
   ]
  },
  {
   "cell_type": "code",
   "execution_count": null,
   "metadata": {
    "id": "xY0Fin6Wu-Bi"
   },
   "outputs": [],
   "source": [
    "criterion = torch.nn.CrossEntropyLoss()\n",
    "optimizer = torch.optim.Adam(model.parameters(), lr=0.01)"
   ]
  },
  {
   "cell_type": "markdown",
   "metadata": {
    "id": "lK6nwiq5_7Au"
   },
   "source": [
    "Run the architecture using run_XBNET"
   ]
  },
  {
   "cell_type": "code",
   "execution_count": null,
   "metadata": {
    "id": "l3bpPq01wg-j"
   },
   "outputs": [],
   "source": [
    "m,acc, lo, val_ac, val_lo = run_XBNET(x_train,x_test,y_train,y_test,model,criterion,optimizer,epochs=100,batch_size=32)"
   ]
  },
  {
   "cell_type": "markdown",
   "metadata": {
    "id": "-VSkw_WT_8_Y"
   },
   "source": [
    "Classification report for training and validation, respectively. "
   ]
  },
  {
   "cell_type": "code",
   "execution_count": null,
   "metadata": {
    "id": "EjHrer295A6S"
   },
   "outputs": [],
   "source": [
    "import matplotlib.pyplot as plt\n"
   ]
  },
  {
   "cell_type": "code",
   "execution_count": null,
   "metadata": {
    "id": "wopiPHPQ5Cky"
   },
   "outputs": [],
   "source": [
    "plt.figure(figsize=(10,5))\n",
    "plt.subplot(1,2,1)\n",
    "plt.plot(acc,label='training accuracy')\n",
    "plt.plot(val_ac,label = 'validation accuracy')\n",
    "plt.xlabel('epochs')\n",
    "plt.ylabel('accuracy')\n",
    "plt.legend()\n",
    "\n",
    "plt.subplot(1,2,2)\n",
    "plt.plot(lo,label='training loss')\n",
    "plt.plot(val_lo,label = 'validation loss')\n",
    "plt.xlabel('epochs')\n",
    "plt.ylabel('loss')\n",
    "plt.legend()"
   ]
  },
  {
   "cell_type": "markdown",
   "metadata": {
    "id": "EPCxn9NDHiZd"
   },
   "source": [
    "##Custom neural network"
   ]
  },
  {
   "cell_type": "code",
   "execution_count": null,
   "metadata": {
    "id": "KmFfkP8l1lOa"
   },
   "outputs": [],
   "source": [
    "from keras.models import Sequential\n",
    "from keras.layers import Dense,Conv1D,Flatten"
   ]
  },
  {
   "cell_type": "code",
   "execution_count": null,
   "metadata": {
    "id": "sWTgRhBh10Tn"
   },
   "outputs": [],
   "source": [
    "model2 = Sequential()"
   ]
  },
  {
   "cell_type": "code",
   "execution_count": null,
   "metadata": {
    "id": "4GD8mK8T10WH"
   },
   "outputs": [],
   "source": [
    "model2=Sequential()\n",
    "model2.add(Conv1D(30,3, input_shape=(4,1), activation='relu'))                                        ## created simple neural network\n",
    "model2.add(Dense(10,activation='relu'))  \n",
    "model2.add(Flatten())                                                                 ## added hiden layer\n",
    "model2.add(Dense(3,activation='softmax'))"
   ]
  },
  {
   "cell_type": "code",
   "execution_count": null,
   "metadata": {
    "id": "12F7bGss10YH"
   },
   "outputs": [],
   "source": [
    "model2.compile(optimizer='adam',loss='categorical_crossentropy',metrics=['accuracy'])"
   ]
  },
  {
   "cell_type": "code",
   "execution_count": null,
   "metadata": {
    "id": "NvEhqWvv3wop"
   },
   "outputs": [],
   "source": [
    "model2.summary()"
   ]
  },
  {
   "cell_type": "code",
   "execution_count": null,
   "metadata": {
    "id": "ShbfJH1N5cQU"
   },
   "outputs": [],
   "source": [
    "from sklearn.preprocessing import OneHotEncoder"
   ]
  },
  {
   "cell_type": "code",
   "execution_count": null,
   "metadata": {
    "id": "vcte6sKkGv9-"
   },
   "outputs": [],
   "source": [
    "x=data.data\n",
    "y=data.target.reshape(-1,1)\n",
    "y=OneHotEncoder().fit_transform(y).toarray()"
   ]
  },
  {
   "cell_type": "code",
   "execution_count": null,
   "metadata": {
    "id": "X4Fgr_z9GwAW"
   },
   "outputs": [],
   "source": [
    "x_train,x_test,y_train,y_test=train_test_split(x,y,random_state=True,test_size=0.33)"
   ]
  },
  {
   "cell_type": "code",
   "execution_count": null,
   "metadata": {
    "id": "s4rsJjzSG3CF"
   },
   "outputs": [],
   "source": [
    "x_train = x_train.reshape(100, 4,1)\n",
    "x_test = x_test.reshape(50, 4,1)"
   ]
  },
  {
   "cell_type": "code",
   "execution_count": null,
   "metadata": {
    "id": "QSXbvDNl5jfQ"
   },
   "outputs": [],
   "source": [
    "history = model2.fit(x_train,y_train,epochs=50,validation_split=0.2)"
   ]
  },
  {
   "cell_type": "code",
   "execution_count": null,
   "metadata": {
    "id": "1QnxhjJd5jjZ"
   },
   "outputs": [],
   "source": [
    "import matplotlib.pyplot as plt"
   ]
  },
  {
   "cell_type": "code",
   "execution_count": null,
   "metadata": {
    "id": "j7t9FAkO5jlw"
   },
   "outputs": [],
   "source": [
    "plt.figure(figsize=(10,5))\n",
    "plt.subplot(1,2,1)\n",
    "plt.plot(history.history['accuracy'],label='training accuracy')\n",
    "plt.plot(history.history['val_accuracy'],label = 'validation accuracy')\n",
    "plt.xlabel('epochs')\n",
    "plt.ylabel('accuracy')\n",
    "plt.legend()\n",
    "\n",
    "plt.subplot(1,2,2)\n",
    "plt.plot(history.history['loss'],label='training loss')\n",
    "plt.plot(history.history['val_loss'],label = 'validation loss')\n",
    "plt.xlabel('epochs')\n",
    "plt.ylabel('loss')\n",
    "plt.legend()"
   ]
  },
  {
   "cell_type": "code",
   "execution_count": null,
   "metadata": {
    "id": "OatQWPDfHahQ"
   },
   "outputs": [],
   "source": [
    "from sklearn.metrics import classification_report"
   ]
  },
  {
   "cell_type": "code",
   "execution_count": null,
   "metadata": {
    "id": "k4XVFtx8JTgz"
   },
   "outputs": [],
   "source": [
    "print(classification_report(y_test,model2.predict(x_test).round()))"
   ]
  },
  {
   "cell_type": "code",
   "execution_count": null,
   "metadata": {
    "id": "L_wAhplqKO3A"
   },
   "outputs": [],
   "source": [
    "print(classification_report(y_train,model2.predict(x_train).round()))"
   ]
  },
  {
   "cell_type": "code",
   "execution_count": null,
   "metadata": {
    "id": "wgYOfWbQKgZS"
   },
   "outputs": [],
   "source": []
  }
 ],
 "metadata": {
  "colab": {
   "authorship_tag": "ABX9TyMs8TY3HUHmGD2HbOC23YaB",
   "collapsed_sections": [],
   "name": "XBNet.ipynb",
   "provenance": []
  },
  "kernelspec": {
   "display_name": "Python 3",
   "name": "python3"
  },
  "language_info": {
   "name": "python"
  }
 },
 "nbformat": 4,
 "nbformat_minor": 2
}
