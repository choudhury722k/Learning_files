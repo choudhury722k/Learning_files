{
 "cells": [
  {
   "cell_type": "markdown",
   "metadata": {
    "id": "TWD3ReYef8ib"
   },
   "source": [
    "#**PyTorch**"
   ]
  },
  {
   "cell_type": "markdown",
   "metadata": {
    "id": "SPw8ucmEf6DV"
   },
   "source": [
    "\n",
    "Pytorch is a deep learning library which has been created by Facebook AI in 2017. It is prominently being used by many companies like Apple, Nvidia, AMD etc. You can read more about the companies that are using it from [here](https://discovery.hgdata.com/product/pytorch).\n",
    "\n",
    "It is also often compared to TensorFlow, which was forged by Google in 2015, which is also a prominent deep learning library. \n",
    "\n",
    "You can read about how PyTorch is competing with TensorFlow from [here](https://towardsdatascience.com/pytorch-vs-tensorflow-spotting-the-difference-25c75777377b#:~:text=So%2C%20both%20TensorFlow%20and%20PyTorch,from%20which%20you%20may%20choose.).\n",
    "\n",
    "There are a lot of functions and explaining each of them is not always possible, so will be writing a brief code that would explain it and then would give a simple explanation for the same. If you want to read more about it, click on the link that is shared in each section."
   ]
  },
  {
   "cell_type": "markdown",
   "metadata": {
    "id": "oesydXmagoM7"
   },
   "source": [
    "## **Installation**"
   ]
  },
  {
   "cell_type": "markdown",
   "metadata": {
    "id": "uIy9Pd-4gsbG"
   },
   "source": [
    "Installation command is different for different OS, you can check the best one for you from [here](https://pytorch.org/?utm_source=Google&utm_medium=PaidSearch&utm_campaign=%2A%2ALP+-+TM+-+General+-+HV+-+INDIA&utm_adgroup=PyTorch+Installation&utm_keyword=pytorch%20installation&utm_offering=AI&utm_Product=PyTorch&gclid=Cj0KCQiAhZT9BRDmARIsAN2E-J2aOHgldt9Jfd0pWHISa8UER7TN2aajgWv_TIpLHpt8MuaAlmr8vBcaAkgjEALw_wcB)."
   ]
  },
  {
   "cell_type": "code",
   "execution_count": null,
   "metadata": {},
   "outputs": [],
   "source": [
    "!python -m pip install pip --upgrade --user -q\n",
    "!python -m pip install numpy pandas seaborn matplotlib scipy sklearn statsmodels keras tensorflow --user -q"
   ]
  },
  {
   "cell_type": "code",
   "execution_count": null,
   "metadata": {},
   "outputs": [],
   "source": [
    "!python -m pip install torch --user -q"
   ]
  },
  {
   "cell_type": "code",
   "execution_count": null,
   "metadata": {},
   "outputs": [],
   "source": [
    "import IPython\n",
    "IPython.Application.instance().kernel.do_shutdown(True)"
   ]
  },
  {
   "cell_type": "code",
   "execution_count": null,
   "metadata": {
    "id": "MEs-wTxbg7ow"
   },
   "outputs": [],
   "source": [
    "#dependency \n",
    "\n",
    "import torch"
   ]
  },
  {
   "cell_type": "markdown",
   "metadata": {
    "id": "nQSVTApZhASa"
   },
   "source": [
    "We’d have a look at tensors first because they are really important.\n",
    "\n",
    "Let us understand what a tensor is."
   ]
  },
  {
   "cell_type": "markdown",
   "metadata": {
    "id": "84NeZY9XhKdf"
   },
   "source": [
    "##**Tensors**"
   ]
  },
  {
   "cell_type": "markdown",
   "metadata": {
    "id": "-KXgqXCBhIgt"
   },
   "source": [
    "Tensor is in simple words is a multidimensional array which is also generalised against vectors and matrices. Now let us see what all things can we do with it."
   ]
  },
  {
   "cell_type": "code",
   "execution_count": null,
   "metadata": {
    "id": "z27F3hH_fyVz"
   },
   "outputs": [],
   "source": [
    "# a few lucid examples of tensor\n",
    "a=torch.tensor(3)\n",
    "a=torch.tensor([1,3])\n",
    "a=torch.tensor([[1,2],[3,4]])\n",
    "a"
   ]
  },
  {
   "cell_type": "code",
   "execution_count": null,
   "metadata": {
    "id": "Suifx5AbhpHW"
   },
   "outputs": [],
   "source": [
    "# a tensor, a bit complex one\n",
    "tensor = torch.Tensor(\n",
    "    [\n",
    "     [[1, 2], [3, 4]], \n",
    "     [[5, 6], [7, 8]], \n",
    "     [[9, 0], [1, 2]]\n",
    "    ]\n",
    ")"
   ]
  },
  {
   "cell_type": "code",
   "execution_count": null,
   "metadata": {
    "id": "K_1Jg3AEhn9M"
   },
   "outputs": [],
   "source": [
    "tensor.shape #to find the shape of the tensor"
   ]
  },
  {
   "cell_type": "code",
   "execution_count": null,
   "metadata": {
    "id": "JwFNIL02hx3w"
   },
   "outputs": [],
   "source": [
    "#Index of tensors\n",
    "tensor[1]"
   ]
  },
  {
   "cell_type": "markdown",
   "metadata": {
    "id": "f4stlWXLgfKf"
   },
   "source": [
    "### **Initialising like tensors**"
   ]
  },
  {
   "cell_type": "markdown",
   "metadata": {
    "id": "SUVw3gDMjr7F"
   },
   "source": [
    "Like tensors are the ones which have the same shape as that of others."
   ]
  },
  {
   "cell_type": "code",
   "execution_count": null,
   "metadata": {
    "id": "9H-oVc1qjrne"
   },
   "outputs": [],
   "source": [
    "torch.ones_like(tensor)"
   ]
  },
  {
   "cell_type": "markdown",
   "metadata": {
    "id": "RNKorVwrjxTS"
   },
   "source": [
    "Here the shape of this would be the same as that of our previous tensor and all the elements in this tensor would be 1."
   ]
  },
  {
   "cell_type": "code",
   "execution_count": null,
   "metadata": {
    "id": "kfLanGm4jzgc"
   },
   "outputs": [],
   "source": [
    "torch.zeros_like(tensor)"
   ]
  },
  {
   "cell_type": "markdown",
   "metadata": {
    "id": "Bfr7BSaYj8L1"
   },
   "source": [
    "All the elements of this tensor would be zero."
   ]
  },
  {
   "cell_type": "code",
   "execution_count": null,
   "metadata": {
    "id": "59CCz8Fnj-zW"
   },
   "outputs": [],
   "source": [
    "#here we would be creating a tensor whose every element would be a normal distribution.\n",
    "torch.randn_like(tensor)"
   ]
  },
  {
   "cell_type": "markdown",
   "metadata": {
    "id": "zVimEmoVlA_5"
   },
   "source": [
    "Let us take a look at some basics operations on Tensors"
   ]
  },
  {
   "cell_type": "code",
   "execution_count": null,
   "metadata": {
    "id": "FBypP12elDN9"
   },
   "outputs": [],
   "source": [
    "(tensor - 5) * 2"
   ]
  },
  {
   "cell_type": "markdown",
   "metadata": {
    "id": "j4EgzOypoN53"
   },
   "source": [
    "To read more about tensors, you can refer [here](https://pytorch.org/docs/stable/tensors.html)."
   ]
  },
  {
   "cell_type": "markdown",
   "metadata": {
    "id": "FbokcFQooTuO"
   },
   "source": [
    "You can have a look at Pytorch’s official documentation from [here](https://pytorch.org/)."
   ]
  },
  {
   "cell_type": "markdown",
   "metadata": {
    "id": "wRz9l3UnobSX"
   },
   "source": [
    "We will see a few deep learning methods of PyTorch."
   ]
  },
  {
   "cell_type": "markdown",
   "metadata": {
    "id": "7uBiecOToc95"
   },
   "source": [
    "## **Pytorch’s neural network module**"
   ]
  },
  {
   "cell_type": "markdown",
   "metadata": {
    "id": "jJGbrSpHouUL"
   },
   "source": [
    "### **nn.Linear**"
   ]
  },
  {
   "cell_type": "code",
   "execution_count": null,
   "metadata": {
    "id": "Rl6TmwnWohvB"
   },
   "outputs": [],
   "source": [
    "#dependency\n",
    "import torch.nn as nn\n",
    "nn.Linear"
   ]
  },
  {
   "cell_type": "markdown",
   "metadata": {
    "id": "vssNjrliokh6"
   },
   "source": [
    "It is to create a linear layer. Here we pass the input and output dimensions as parameters."
   ]
  },
  {
   "cell_type": "markdown",
   "metadata": {
    "id": "A3Edk_-JomL0"
   },
   "source": [
    "Here it is taking an input of nx10 and would return an output of nx2."
   ]
  },
  {
   "cell_type": "code",
   "execution_count": null,
   "metadata": {
    "id": "E5gRoiOcokLe"
   },
   "outputs": [],
   "source": [
    "linear = nn.Linear(10, 2)\n",
    "example_input = torch.randn(3, 10)\n",
    "example_output = linear(example_input)\n",
    "example_output"
   ]
  },
  {
   "cell_type": "markdown",
   "metadata": {
    "id": "_qByCwIiorZc"
   },
   "source": [
    "### **nn.Relu**"
   ]
  },
  {
   "cell_type": "markdown",
   "metadata": {
    "id": "Uertb6Mmoyxv"
   },
   "source": [
    "It performs a relu activation function operation on the given output from linear."
   ]
  },
  {
   "cell_type": "code",
   "execution_count": null,
   "metadata": {
    "id": "dUZaoq0Oo1gf"
   },
   "outputs": [],
   "source": [
    "relu = nn.ReLU()\n",
    "relu_output = relu(example_output)\n",
    "relu_output"
   ]
  },
  {
   "cell_type": "markdown",
   "metadata": {
    "id": "Vs0iMXXVo1EJ"
   },
   "source": [
    "### **nn.BatchNorm1d**"
   ]
  },
  {
   "cell_type": "markdown",
   "metadata": {
    "id": "MA_uVp8zo6s7"
   },
   "source": [
    "It is a normalisation technique which is used to maintain a consistent mean and standard dev among different batches of the of input."
   ]
  },
  {
   "cell_type": "code",
   "execution_count": null,
   "metadata": {
    "id": "YnJbUZd_o9Pw"
   },
   "outputs": [],
   "source": [
    "batchnorm = nn.BatchNorm1d(2)\n",
    "batchnorm_output = batchnorm(relu_output)\n",
    "batchnorm_output"
   ]
  },
  {
   "cell_type": "markdown",
   "metadata": {
    "id": "cLYXIfyto_kD"
   },
   "source": [
    "You can read about [batchnorm1d](https://pytorch.org/docs/stable/generated/torch.nn.BatchNorm1d.html) and [batchnorm2d](https://pytorch.org/docs/stable/generated/torch.nn.BatchNorm2d.html) from their official doc."
   ]
  },
  {
   "cell_type": "markdown",
   "metadata": {
    "id": "coM6Ine5pHYC"
   },
   "source": [
    "### **nn.Sequential**"
   ]
  },
  {
   "cell_type": "markdown",
   "metadata": {
    "id": "J3WDnlF4pLBW"
   },
   "source": [
    "It is to create a sequence of operations in one go."
   ]
  },
  {
   "cell_type": "markdown",
   "metadata": {
    "id": "34L3oSs7pMwI"
   },
   "source": [
    "mlp is the name of variable which stands for multilayer perceptron."
   ]
  },
  {
   "cell_type": "code",
   "execution_count": null,
   "metadata": {
    "id": "6d6HuS4LpPnU"
   },
   "outputs": [],
   "source": [
    "mlp_layer = nn.Sequential(\n",
    "    nn.Linear(5, 2),\n",
    "    nn.BatchNorm1d(2),\n",
    "    nn.ReLU()\n",
    ")\n",
    "test_example = torch.randn(5,5) + 1\n",
    "print(\"input: \")\n",
    "print(test_example)\n",
    "print(\"output: \")\n",
    "print(mlp_layer(test_example))"
   ]
  },
  {
   "cell_type": "markdown",
   "metadata": {
    "id": "VbAxLVuVpSPB"
   },
   "source": [
    "How nn.Sequential is important and why it is needed, read it from [here](https://pytorch.org/docs/stable/generated/torch.nn.Sequential.html)."
   ]
  },
  {
   "cell_type": "markdown",
   "metadata": {
    "id": "2rDYXi_zpZak"
   },
   "source": [
    "## **Optimisers**"
   ]
  },
  {
   "cell_type": "code",
   "execution_count": null,
   "metadata": {
    "id": "KGSfHmkEpRgb"
   },
   "outputs": [],
   "source": [
    "import torch.optim as optim\n",
    "adam_opt = optim.Adam(mlp_layer.parameters(), lr=1e-1)\n",
    "#Here lr stands for learning rate and 1e-1 means 0.1\n",
    "#now let us look at the training loop\n",
    "train_example = torch.randn(100,5) + 1\n",
    "adam_opt.zero_grad()\n",
    "# We'll use a simple loss function of mean distance from 1\n",
    "# torch.abs takes the absolute value of a tensor\n",
    "cur_loss = torch.abs(1 - mlp_layer(train_example)).mean()\n",
    "cur_loss.backward()\n",
    "adam_opt.step()\n",
    "print(cur_loss)"
   ]
  },
  {
   "cell_type": "markdown",
   "metadata": {
    "id": "l7ZoSq5Dpgiq"
   },
   "source": [
    "A little bit of theory:"
   ]
  },
  {
   "cell_type": "markdown",
   "metadata": {
    "id": "qrl6bKyCpi4u"
   },
   "source": [
    "### **requires_grad_()**"
   ]
  },
  {
   "cell_type": "markdown",
   "metadata": {
    "id": "f1c1jVDRpmZy"
   },
   "source": [
    "This means that even if PyTorch wouldn’t normally store a grad for that particular tensor, it will for that specified tensor."
   ]
  },
  {
   "cell_type": "markdown",
   "metadata": {
    "id": "caLKnNyIpoFp"
   },
   "source": [
    "### **with torch.no_grad():**"
   ]
  },
  {
   "cell_type": "markdown",
   "metadata": {
    "id": "l3-p_UCyprZy"
   },
   "source": [
    "PyTorch will usually calculate the gradients as it proceeds through a set of operations on tensors. This can often take up unnecessary computations and memory, especially if you’re performing an evaluation. However, you can wrap a piece of code with torch.no_grad() to prevent the gradients from being calculated in a piece of code."
   ]
  },
  {
   "cell_type": "markdown",
   "metadata": {
    "id": "IidqM9B5ptdb"
   },
   "source": [
    "### **detach():**"
   ]
  },
  {
   "cell_type": "markdown",
   "metadata": {
    "id": "RtO2sd9epx97"
   },
   "source": [
    "Sometimes, you want to calculate and use a tensor’s value without calculating its gradients. For example, if you have two models, A and B, and you want to directly optimise the parameters of A with respect to the output of B, without calculating the gradients through B, then you could feed the detached output of B to A. There are many reasons you might want to do this, including efficiency or cyclical dependencies (i.e. A depends on B depends on A)."
   ]
  },
  {
   "cell_type": "markdown",
   "metadata": {
    "id": "GVK5CYCwpz0R"
   },
   "source": [
    "We are now making the nn class."
   ]
  },
  {
   "cell_type": "code",
   "execution_count": null,
   "metadata": {
    "id": "42E-aOpip2R8"
   },
   "outputs": [],
   "source": [
    "class ExampleModule(nn.Module):\n",
    "    def __init__(self, input_dims, output_dims):\n",
    "        super(ExampleModule, self).__init__()\n",
    "        self.linear = nn.Linear(input_dims, output_dims)\n",
    "        self.exponent = nn.Parameter(torch.tensor(1.))\n",
    "    def forward(self, x):\n",
    "        x = self.linear(x)\n",
    "        # This is the notation for element-wise exponentiation, \n",
    "        # which matches python in general\n",
    "        x = x ** self.exponent \n",
    "        return x\n",
    "example_model = ExampleModule(10, 2)\n",
    "list(example_model.parameters())"
   ]
  },
  {
   "cell_type": "markdown",
   "metadata": {
    "id": "tUvROWBZp9Td"
   },
   "source": [
    "This is the output of the class that we had created:\n"
   ]
  },
  {
   "cell_type": "code",
   "execution_count": null,
   "metadata": {
    "id": "zZMOn7aSp-3W"
   },
   "outputs": [],
   "source": [
    "input = torch.randn(2, 10)\n",
    "example_model(input)"
   ]
  },
  {
   "cell_type": "markdown",
   "metadata": {
    "id": "fD68lYDPkZTw"
   },
   "source": [
    "# **Related Articles --**\n",
    "> * [Beginners Guide to PyTorch](https://analyticsindiamag.com/a-beginners-guide-pytorch/)\n",
    "> * [Loss functions in PyTorch](https://analyticsindiamag.com/all-pytorch-loss-function/)\n",
    "> * [Loss functions in Tensorflow Keras](https://analyticsindiamag.com/ultimate-guide-to-loss-functions-in-tensorflow-keras-api-with-python-implementation/)\n",
    "> * [Loss function with examples](https://analyticsindiamag.com/loss-functions-in-deep-learning-an-overview/)\n",
    "> * [Optimizers in Tensorflow Keras](https://analyticsindiamag.com/guide-to-tensorflow-keras-optimizers/)\n",
    "> * [Deep Learning Frameworks](https://analyticsindiamag.com/deep-learning-frameworks/)\n",
    "> * [Types of Activation Functions](https://analyticsindiamag.com/most-common-activation-functions-in-neural-networks-and-rationale-behind-it/)\n",
    "> * [Maths for Deep Learning](https://analyticsindiamag.com/beginners-guide-neural-network-math-python/)\n",
    "> * [Deep Learning Using Tensorflow Keras](https://analyticsindiamag.com/deep-learning-using-tensorflow-keras/)"
   ]
  }
 ],
 "metadata": {
  "colab": {
   "authorship_tag": "ABX9TyOwzWCQX3YVrNSGtaaBTDVK",
   "collapsed_sections": [],
   "name": "1_Beginners_Guide_PyTorch.ipynb",
   "provenance": [],
   "toc_visible": true
  },
  "kernelspec": {
   "display_name": "Python 3",
   "name": "python3"
  },
  "language_info": {
   "name": "python"
  }
 },
 "nbformat": 4,
 "nbformat_minor": 2
}
