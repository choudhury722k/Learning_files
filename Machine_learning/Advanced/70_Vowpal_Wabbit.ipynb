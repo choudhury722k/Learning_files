{
 "cells": [
  {
   "cell_type": "markdown",
   "metadata": {
    "id": "5vClsc8krGB-"
   },
   "source": [
    "# Vowal Wabbit"
   ]
  },
  {
   "cell_type": "markdown",
   "metadata": {
    "id": "I8cQnvVZrM67"
   },
   "source": [
    "Vowpal Wabbit is a flexible open-source project designed to tackle complex interactive machine learning tasks. With Microsoft Research and (earlier) Yahoo! Research as major project contributors, Vowpal Wabbit results from intensive community research and contributions since 2007. It provides you with rapid, online and active machine learning solutions for supervised learning and reinforcement learning. \n",
    "\n",
    " Vowpal Wabbit supports Windows, macOS and Ubuntu operating systems. To date, C#, command line and Python packages of Vowpal Wabbit are available for Windows OS, while Java configuration is yet to be released. For macOS and Ubuntu, C# and Java packages will be out soon."
   ]
  },
  {
   "cell_type": "markdown",
   "metadata": {
    "id": "8VxnEVWhrNnR"
   },
   "source": [
    "To read about it more, please refer [this](https://analyticsindiamag.com/guide-to-vowpal-wabbit-a-state-of-the-art-library-for-interactive-machine-learning/) article."
   ]
  },
  {
   "cell_type": "markdown",
   "metadata": {
    "id": "et2AEkYwrVJ0"
   },
   "source": [
    "Practical implementation\n",
    "\n",
    "Here’s a demonstration of solving a contextual bandits problem using Vowpal Wabbit \n",
    "\n",
    "Install Python package for Vowpal Wabbit"
   ]
  },
  {
   "cell_type": "code",
   "execution_count": null,
   "metadata": {},
   "outputs": [],
   "source": [
    "!python -m pip install pip --upgrade --user -q\n",
    "!python -m pip install numpy pandas seaborn matplotlib scipy sklearn statsmodels tensorflow keras --user -q"
   ]
  },
  {
   "cell_type": "code",
   "execution_count": null,
   "metadata": {
    "id": "BQ0Ecg15WDpu"
   },
   "outputs": [],
   "source": [
    "!python -m pip install boost --user -q\n",
    "!python -m pip install vowpalwabbit --user -q"
   ]
  },
  {
   "cell_type": "code",
   "execution_count": null,
   "metadata": {},
   "outputs": [],
   "source": [
    "import IPython\n",
    "IPython.Application.instance().kernel.do_shutdown(True)"
   ]
  },
  {
   "cell_type": "markdown",
   "metadata": {
    "id": "1RX5p_4wrZKc"
   },
   "source": [
    "  Import required libraries "
   ]
  },
  {
   "cell_type": "code",
   "execution_count": null,
   "metadata": {
    "id": "lzpiUmugWTDa"
   },
   "outputs": [],
   "source": [
    "import pandas as pd\n",
    "import sklearn as sk\n",
    "import numpy as np"
   ]
  },
  {
   "cell_type": "markdown",
   "metadata": {
    "id": "DIOPAFLure_j"
   },
   "source": [
    "Create sample training data"
   ]
  },
  {
   "cell_type": "code",
   "execution_count": null,
   "metadata": {
    "id": "mg5FeZycWZNB"
   },
   "outputs": [],
   "source": [
    "training_data = [{'action': 1, 'cost': 2, 'prob': 0.3, 'f1': 'a', 'f2': 'c', 'f3': ''},\n",
    "              {'action': 3, 'cost': 1, 'prob': 0.2, 'f1': 'b', 'f2': 'd', 'f3': ''},\n",
    "              {'action': 4, 'cost': 0, 'prob': 0.6, 'f1': 'a', 'f2': 'b', 'f3': ''},\n",
    "              {'action': 2, 'cost': 1, 'prob': 0.4, 'f1': 'a', 'f2': 'b', 'f3': 'c'},\n",
    "              {'action': 3, 'cost': 2, 'prob': 0.7, 'f1': 'a', 'f2': 'd', 'f3': ''}]\n",
    "\n",
    "\n",
    "#Where ‘prob’ denotes the probability of the actions’ occurrence, and ‘f’ denotes feature.\n",
    "\n",
    "#    Convert the above training data in the form of list into a Pandas dataframe.\n",
    "training_df = pd.DataFrame(training_data)\n",
    "\n",
    "# Add index to data frame\n",
    "training_df['index'] = range(1, len(training_df) + 1)\n",
    "training_df = training_df.set_index(\"index\")"
   ]
  },
  {
   "cell_type": "code",
   "execution_count": null,
   "metadata": {
    "id": "NxiNJr1UWjBL"
   },
   "outputs": [],
   "source": [
    "testing_data = [{'f1': 'b', 'f2': 'c', 'f3': ''},\n",
    "            {'f1': 'a', 'f2': '', 'f3': 'b'},\n",
    "            {'f1': 'b', 'f2': 'b', 'f3': ''},\n",
    "            {'f1': 'a', 'f2': '', 'f3': 'b'}]\n",
    "\n",
    "testing_df = pd.DataFrame(testing_data)\n",
    "\n",
    "# Add index to data frame\n",
    "testing_df['index'] = range(1, len(testing_df) + 1)\n",
    "testing_df = testing_df.set_index(\"index\")"
   ]
  },
  {
   "cell_type": "code",
   "execution_count": null,
   "metadata": {
    "id": "Vos-3GawWnZh"
   },
   "outputs": [],
   "source": [
    "training_df"
   ]
  },
  {
   "cell_type": "code",
   "execution_count": null,
   "metadata": {
    "id": "n5P2HapBWyAp"
   },
   "outputs": [],
   "source": [
    "testing_df"
   ]
  },
  {
   "cell_type": "markdown",
   "metadata": {
    "id": "U0rfaM0BrqUK"
   },
   "source": [
    "Create a contextual bandit with four possible actions (1,2,3 and 4)"
   ]
  },
  {
   "cell_type": "code",
   "execution_count": null,
   "metadata": {
    "id": "aE7DoYqBW0Xn"
   },
   "outputs": [],
   "source": [
    "from vowpalwabbit import pyvw\n",
    "\n",
    "vw = pyvw.vw(\"--cb 4\")\n"
   ]
  },
  {
   "cell_type": "markdown",
   "metadata": {
    "id": "FgD02dv_rtbf"
   },
   "source": [
    "‘pyvw’ is a Python binding for pylibvw class. –cb is the contextual bandit module for optimizing the predictor based on already existing data without further exploration. ‘4’ in “–cb 4” above denotes the number of possible actions.\n",
    "\n",
    "Call learn() method for each training example to perform an online update."
   ]
  },
  {
   "cell_type": "code",
   "execution_count": null,
   "metadata": {
    "id": "7gdPqNB6XCV0"
   },
   "outputs": [],
   "source": [
    "for i in training_df.index:\n",
    "  action = training_df.loc[i, \"action\"]\n",
    "  cost = training_df.loc[i, \"cost\"]\n",
    "  probability = training_df.loc[i, \"prob\"]\n",
    "  feature1 = training_df.loc[i, \"f1\"]\n",
    "  feature2 = training_df.loc[i, \"f2\"]\n",
    "  feature3 = training_df.loc[i, \"f3\"]\n",
    "\n",
    "  # Construct the example in the required vw format.\n",
    "  learn_ex = str(action) + \":\" + str(cost) + \":\" + str(probability) + \" | \" + str(feature1) + \" \" + str(feature2) + \" \" + str(feature3)\n",
    "\n",
    "  # Here we do the actual learning.\n",
    "  vw.learn(learn_ex)"
   ]
  },
  {
   "cell_type": "markdown",
   "metadata": {
    "id": "1ibbG5WlsPFq"
   },
   "source": [
    "Perform predictions on the test set. Construct the examples as done in step (8) but exclude labels and pass them to the predict() method."
   ]
  },
  {
   "cell_type": "code",
   "execution_count": null,
   "metadata": {
    "id": "aHAb2P69XFjF"
   },
   "outputs": [],
   "source": [
    "print(\"test sample  action\")\n",
    "for i in testing_df.index:\n",
    "  feature1 = testing_df.loc[i, \"f1\"]\n",
    "  feature2 = testing_df.loc[i, \"f2\"]\n",
    "  feature3 = testing_df.loc[i, \"f3\"]\n",
    "\n",
    "  test_ex = \"| \" + str(feature1) + \" \" + str(feature2) + \" \" + str(feature3)\n",
    "  \n",
    "  choice = vw.predict(test_ex)\n",
    "  print(\"    \"+str(i)+\"\\t\\t\"+str(choice))"
   ]
  },
  {
   "cell_type": "code",
   "execution_count": null,
   "metadata": {
    "id": "a1FPGEGshArX"
   },
   "outputs": [],
   "source": []
  }
 ],
 "metadata": {
  "colab": {
   "authorship_tag": "ABX9TyP6rprOc94f+Hl2W2uFDowr",
   "collapsed_sections": [],
   "name": "1_Vowpal_Wabbit.ipynb",
   "provenance": []
  },
  "kernelspec": {
   "display_name": "Python 3",
   "name": "python3"
  },
  "language_info": {
   "name": "python"
  }
 },
 "nbformat": 4,
 "nbformat_minor": 2
}
