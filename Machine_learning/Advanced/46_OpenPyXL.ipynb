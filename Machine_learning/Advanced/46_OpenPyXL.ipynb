{
 "cells": [
  {
   "cell_type": "markdown",
   "metadata": {
    "id": "FaqBnE4AhZ_h"
   },
   "source": [
    "## OpenPyXL"
   ]
  },
  {
   "cell_type": "markdown",
   "metadata": {
    "id": "uwKOtuXRhjQS"
   },
   "source": [
    "OpenPyXL is a Python module for interacting with Excel(.xlxs) files. But can’t you do that with Pandas? Yes, you can, but Pandas does support charts, formulae or images. OpenPyXL enables data scientists and data analysts to perform all kinds of operations on Excel workbooks:\n",
    "\n",
    "> * Read and write cells.\n",
    "> * Create and rename sheets.\n",
    "> * Draw charts.\n",
    "> * Add formulae.\n",
    "> * Create pivot tables.\n",
    "> * Insert images, and even do formatting and styling."
   ]
  },
  {
   "cell_type": "markdown",
   "metadata": {
    "id": "2T52d6dZhqJ0"
   },
   "source": [
    "# Working with Excel Files in Python "
   ]
  },
  {
   "cell_type": "markdown",
   "metadata": {
    "id": "ymT8ZZyoibzi"
   },
   "source": [
    "Install OpenPyXL form PyPI:"
   ]
  },
  {
   "cell_type": "code",
   "execution_count": null,
   "metadata": {},
   "outputs": [],
   "source": [
    "!python -m pip install pip --upgrade --user -q\n",
    "!python -m pip install numpy pandas seaborn matplotlib scipy sklearn statsmodels tensorflow keras --user -q"
   ]
  },
  {
   "cell_type": "code",
   "execution_count": null,
   "metadata": {
    "id": "therapeutic-qualification"
   },
   "outputs": [],
   "source": [
    "!python -m pip install pillow openpyxl --user -q"
   ]
  },
  {
   "cell_type": "code",
   "execution_count": null,
   "metadata": {},
   "outputs": [],
   "source": [
    "import IPython\n",
    "IPython.Application.instance().kernel.do_shutdown(True)"
   ]
  },
  {
   "cell_type": "markdown",
   "metadata": {
    "id": "kBlVEh1eifHl"
   },
   "source": [
    "## Workbook & Worksheet"
   ]
  },
  {
   "cell_type": "markdown",
   "metadata": {
    "id": "A2fmdu7pijCR"
   },
   "source": [
    "You can either read an existing .xlxs file using the load_workbook() method or create a new Workbook object. Let’s start by creating a new workbook: "
   ]
  },
  {
   "cell_type": "code",
   "execution_count": null,
   "metadata": {
    "id": "assured-twelve"
   },
   "outputs": [],
   "source": [
    "from openpyxl import Workbook, load_workbook"
   ]
  },
  {
   "cell_type": "code",
   "execution_count": null,
   "metadata": {
    "id": "growing-banana"
   },
   "outputs": [],
   "source": [
    "wb = Workbook()"
   ]
  },
  {
   "cell_type": "markdown",
   "metadata": {
    "id": "DyCoDYXPilSc"
   },
   "source": [
    "New Workbooks are always created with at least one sheet; you can access the current sheet using the active property:"
   ]
  },
  {
   "cell_type": "code",
   "execution_count": null,
   "metadata": {
    "id": "demographic-yacht"
   },
   "outputs": [],
   "source": [
    "initial_sheet = wb.active\n",
    "print(initial_sheet)"
   ]
  },
  {
   "cell_type": "code",
   "execution_count": null,
   "metadata": {
    "id": "decreased-politics"
   },
   "outputs": [],
   "source": [
    "initial_sheet.title = \"Intial Sheet\""
   ]
  },
  {
   "cell_type": "code",
   "execution_count": null,
   "metadata": {
    "id": "humanitarian-edward"
   },
   "outputs": [],
   "source": [
    "sheet_2 = wb.create_sheet(\"Sheet 4\") # created as the last sheet\n",
    "\n",
    "sheet_1 = wb.create_sheet(\"Sheet 1\", 0) # created at first position\n",
    "\n",
    "sheet_3 = wb.create_sheet(\"Sheet 3\", -1) # inserted at the second last position"
   ]
  },
  {
   "cell_type": "markdown",
   "metadata": {
    "id": "utility-demographic"
   },
   "source": [
    "When a worksheet is created in memory, it contains no cells. They are created when first accessed."
   ]
  },
  {
   "cell_type": "code",
   "execution_count": null,
   "metadata": {
    "id": "every-baptist"
   },
   "outputs": [],
   "source": [
    "print(wb.sheetnames)"
   ]
  },
  {
   "cell_type": "markdown",
   "metadata": {
    "id": "P0E5j1tLjTNB"
   },
   "source": [
    "## Writing to and reading from cells"
   ]
  },
  {
   "cell_type": "markdown",
   "metadata": {
    "id": "ready-treasury"
   },
   "source": [
    "Cells can be accessed directly as keys of the worksheet"
   ]
  },
  {
   "cell_type": "code",
   "execution_count": null,
   "metadata": {
    "id": "competitive-veteran"
   },
   "outputs": [],
   "source": [
    "initial_sheet['B3'] = 4"
   ]
  },
  {
   "cell_type": "code",
   "execution_count": null,
   "metadata": {
    "id": "silver-vision"
   },
   "outputs": [],
   "source": [
    "X = initial_sheet['B3']\n",
    "print(X.value)"
   ]
  },
  {
   "cell_type": "markdown",
   "metadata": {
    "id": "interracial-validation"
   },
   "source": [
    "There is also the Worksheet.cell() method.\n",
    "\n",
    "This provides access to cells using row and column notation:"
   ]
  },
  {
   "cell_type": "code",
   "execution_count": null,
   "metadata": {
    "id": "enhanced-confusion"
   },
   "outputs": [],
   "source": [
    "initial_sheet.cell(row=4, column=2, value=10)\n",
    "# OR\n",
    "# initial_sheet.cell(row=4, column=2).value = 10  "
   ]
  },
  {
   "cell_type": "code",
   "execution_count": null,
   "metadata": {
    "id": "defined-explosion"
   },
   "outputs": [],
   "source": [
    "sheet_1.title = \"Spells\""
   ]
  },
  {
   "cell_type": "markdown",
   "metadata": {
    "id": "wOXIDUHfjWyO"
   },
   "source": [
    "Another way to add write data is to write rows using the append() method: "
   ]
  },
  {
   "cell_type": "code",
   "execution_count": null,
   "metadata": {
    "id": "separate-jordan"
   },
   "outputs": [],
   "source": [
    "sheet_1.append([\"Wingardium\", \"Leviosa\"])\n",
    "sheet_1.append([\"Expecto\", \"Patronum\"])\n",
    "sheet_1.append([\"Alarte\", \"Ascendare\"])\n",
    "sheet_1.append([\"Sectumsempra\"])\n",
    "sheet_1.append([\"Avada\", \"Kedavra\"])"
   ]
  },
  {
   "cell_type": "markdown",
   "metadata": {
    "id": "Vf0cwpj8kE8P"
   },
   "source": [
    "There are three ways to read from multiple cells in OpenPyXL. The first method is the range operator. Let’s try reading each cell of the ‘Spells’ sheet using the range operator:"
   ]
  },
  {
   "cell_type": "code",
   "execution_count": null,
   "metadata": {
    "id": "english-logan"
   },
   "outputs": [],
   "source": [
    "cells = sheet_1[\"A1\":\"B4\"]\n",
    "for c1,c2 in cells:  \n",
    "    print(f\"{c1.value} {c2.value}\")  "
   ]
  },
  {
   "cell_type": "markdown",
   "metadata": {
    "id": "n0ZpU5pMkHmg"
   },
   "source": [
    "The second way of reading multiple cells is by iterating over the rows using iter_row() function; which reads data one row at a time:"
   ]
  },
  {
   "cell_type": "code",
   "execution_count": null,
   "metadata": {
    "id": "virtual-offset"
   },
   "outputs": [],
   "source": [
    "for row in sheet_1.iter_cols(min_row=1, min_col=1, max_row=5, max_col=2):  \n",
    "    for cell in row:  \n",
    "        print(cell.value, end=\" \")  \n",
    "    print()  "
   ]
  },
  {
   "cell_type": "code",
   "execution_count": null,
   "metadata": {
    "id": "realistic-hearing"
   },
   "outputs": [],
   "source": [
    "for row in sheet_1.iter_rows(min_row=1, min_col=1, max_row=5, max_col=2):  \n",
    "    for cell in row:  \n",
    "        print(cell.value, end=\" \")  \n",
    "    print()  "
   ]
  },
  {
   "cell_type": "markdown",
   "metadata": {
    "id": "Attnje_JkQ32"
   },
   "source": [
    "## Saving Workbooks"
   ]
  },
  {
   "cell_type": "code",
   "execution_count": null,
   "metadata": {
    "id": "ongoing-dinner"
   },
   "outputs": [],
   "source": [
    "# wb.save('example.xlsx')"
   ]
  },
  {
   "cell_type": "markdown",
   "metadata": {
    "id": "adaptive-cookbook"
   },
   "source": [
    "## Charts"
   ]
  },
  {
   "cell_type": "markdown",
   "metadata": {
    "id": "zd95aLKgkUd3"
   },
   "source": [
    "Excel uses charts to visualize data. To create a chart in our OpenPyXl worksheets, we first need to define the chart type such BarChart, LineChart, etc. We also need to define the data to be used for the chart using a Reference object. Let’s writing some student performance data and plot a bar chart:"
   ]
  },
  {
   "cell_type": "code",
   "execution_count": null,
   "metadata": {
    "id": "fancy-depression"
   },
   "outputs": [],
   "source": [
    "wb = load_workbook('example.xlsx')"
   ]
  },
  {
   "cell_type": "code",
   "execution_count": null,
   "metadata": {
    "id": "lesser-party"
   },
   "outputs": [],
   "source": [
    "print(wb.sheetnames)"
   ]
  },
  {
   "cell_type": "code",
   "execution_count": null,
   "metadata": {
    "id": "universal-granny"
   },
   "outputs": [],
   "source": [
    "from openpyxl.chart import BarChart, Reference  \n",
    "\n",
    "sheet = wb['Sheet 3']\n",
    "sheet.title = \"Performance\"\n",
    "\n",
    "data = [  \n",
    "    [\"Roll no\", \"Spell Making\", \" Astronomy and Herbology\"],  \n",
    "    [\"1\", 86, 75],  \n",
    "    [\"2\", 42, 60],  \n",
    "    [\"3\", 66, 43],  \n",
    "    [\"4\", 82, 97],  \n",
    "    [\"5\", 84, 63],  \n",
    "    [\"6\", 73, 54],  \n",
    "    [\"7\", 92, 86],  \n",
    "]  \n",
    "  \n",
    "for row in data:  \n",
    "    sheet.append(row)  \n",
    "  \n",
    "chart = BarChart()  \n",
    "values = Reference(worksheet=sheet,  \n",
    "                 min_row=1,  \n",
    "                 max_row=8,  \n",
    "                 min_col=2,  \n",
    "                 max_col=3)  \n",
    "  \n",
    "chart.add_data(values, titles_from_data=True)  \n",
    "sheet.add_chart(chart, \"E2\")  \n",
    "  \n",
    "# wb.save(\"example_chart.xlsx\") "
   ]
  },
  {
   "cell_type": "markdown",
   "metadata": {
    "id": "headed-atlas"
   },
   "source": [
    "## Formulae"
   ]
  },
  {
   "cell_type": "markdown",
   "metadata": {
    "id": "MCR5RMVykbyc"
   },
   "source": [
    "To add a formula to a cell in OpenPyXL, you simply need to define the formula as a string in the required cell. Let’s try calculating the average marks for the two subjects:"
   ]
  },
  {
   "cell_type": "code",
   "execution_count": null,
   "metadata": {
    "id": "atomic-austin"
   },
   "outputs": [],
   "source": [
    "sheet = wb['Sheet 4']\n",
    "sheet.title = \"Formula\"\n",
    "  \n",
    "data = [  \n",
    "    [\"Roll no\", \"Spell Making\", \" Astronomy and Herbology\"],  \n",
    "    [\"1\", 86, 75],  \n",
    "    [\"2\", 42, 60],  \n",
    "    [\"3\", 66, 43],  \n",
    "    [\"4\", 82, 97],  \n",
    "    [\"5\", 84, 63],  \n",
    "    [\"6\", 73, 54],  \n",
    "    [\"7\", 92, 86], \n",
    "    [\"Average\"]\n",
    "] \n",
    "  \n",
    "for row in data:  \n",
    "    sheet.append(row)  \n",
    "\n",
    "cell = sheet.cell(row=9, column=2)  \n",
    "cell.value = \"=AVERAGE(B1:B8)\"  \n",
    "# cell.font = cell.font.copy(bold=True)  \n",
    "\n",
    "cell = sheet.cell(row=9, column=3)  \n",
    "cell.value = \"=AVERAGE(C1:C8)\"  \n",
    "# cell.font = cell.font.copy(bold=True)  \n",
    "  \n",
    "# wb.save('formula.xlsx')  "
   ]
  },
  {
   "cell_type": "markdown",
   "metadata": {
    "id": "official-airplane"
   },
   "source": [
    "## Image"
   ]
  },
  {
   "cell_type": "markdown",
   "metadata": {
    "id": "tZKhkZsPkeLV"
   },
   "source": [
    "Although images are not as common as charts or formulae, sometimes they can be used to enrich worksheets and make them more visually appealing. To work with images in OpenPyXL, you’ll need to install the Pillow module.  OpenPyXL provides the add_image() method for adding images to a specified cell:"
   ]
  },
  {
   "cell_type": "code",
   "execution_count": null,
   "metadata": {
    "id": "CCINkjerkstX"
   },
   "outputs": [],
   "source": [
    "# !wget https://analyticsindiamag.com/wp-content/uploads/2016/12/AIM-Logo.png"
   ]
  },
  {
   "cell_type": "code",
   "execution_count": null,
   "metadata": {
    "id": "departmental-hearing"
   },
   "outputs": [],
   "source": [
    "from openpyxl import load_workbook  \n",
    "from openpyxl.drawing.image import Image  \n",
    "  \n",
    "initial_sheet = wb['Intial Sheet']\n",
    "  \n",
    "logo = Image(\"AIM-Logo.png\")  \n",
    "  \n",
    "# A bit of resizing to not fill the whole spreadsheet with the logo  \n",
    "logo.height = 250\n",
    "logo.width = 250  \n",
    "  \n",
    "initial_sheet.add_image(logo, \"E2\")  \n",
    "# wb.save(\"logo.xlsx\")  "
   ]
  }
 ],
 "metadata": {
  "colab": {
   "authorship_tag": "ABX9TyMKyw71PrFRZzDWdPj/OO4g",
   "collapsed_sections": [],
   "name": "1_OpenPyXL.ipynb",
   "provenance": []
  },
  "interpreter": {
   "hash": "f60a20abaabf5a658075b37fac599269792a9493ddacd7c14d8505185d5625aa"
  },
  "kernelspec": {
   "display_name": "Python 3.8.8 64-bit ('base': conda)",
   "name": "python3"
  },
  "language_info": {
   "codemirror_mode": {
    "name": "ipython",
    "version": 3
   },
   "file_extension": ".py",
   "mimetype": "text/x-python",
   "name": "python",
   "nbconvert_exporter": "python",
   "pygments_lexer": "ipython3",
   "version": "3.8.8"
  }
 },
 "nbformat": 4,
 "nbformat_minor": 2
}
