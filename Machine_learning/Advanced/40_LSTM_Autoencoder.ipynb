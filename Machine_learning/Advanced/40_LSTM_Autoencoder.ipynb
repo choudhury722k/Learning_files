{
 "cells": [
  {
   "cell_type": "markdown",
   "metadata": {
    "id": "fAmxp9psyQsP"
   },
   "source": [
    "# **LSTM Autoencoder**"
   ]
  },
  {
   "cell_type": "markdown",
   "metadata": {
    "id": "QOXeKmmVyYFx"
   },
   "source": [
    "Simple Neural Network is feed-forward wherein info information ventures just in one direction.i.e. the information passes from input layers to hidden layers finally to the output layers. Recurrent Neural Network is the advanced type to the traditional Neural Network. It makes use of sequential information. Unlike conventional networks, the output and input layers are dependent on each other. RNNs are called recurrent because they play out a similar undertaking for each component of an arrangement, with the yield being relied upon the past calculations.LSTM or Long Short Term Memory are a type of RNNs that is useful in learning order dependence in sequence prediction problems."
   ]
  },
  {
   "cell_type": "markdown",
   "metadata": {
    "id": "HrkdO8V5yce0"
   },
   "source": [
    "In this notebook, we will cover a simple Long Short Term Memory autoencoder with the help of Keras and python"
   ]
  },
  {
   "cell_type": "markdown",
   "metadata": {
    "id": "4t99XmlFyfYo"
   },
   "source": [
    "## **What is an LSTM autoencoder?**"
   ]
  },
  {
   "cell_type": "markdown",
   "metadata": {
    "id": "Nf5Fijr-ylGl"
   },
   "source": [
    "\n",
    "LSTM autoencoder is an encoder that makes use of LSTM encoder-decoder architecture to compress data using an encoder and decode it to retain original structure using a decoder."
   ]
  },
  {
   "cell_type": "markdown",
   "metadata": {
    "id": "CwGxFb-lyoug"
   },
   "source": [
    "## **About the dataset**"
   ]
  },
  {
   "cell_type": "markdown",
   "metadata": {
    "id": "afcW03aOyr0x"
   },
   "source": [
    "The dataset can be downloaded from the following [link](https://www.kaggle.com/pdquant/sp500-daily-19862018). It gives the daily closing price of the S&P index"
   ]
  },
  {
   "cell_type": "markdown",
   "metadata": {
    "id": "3qTTwRqIy9EC"
   },
   "source": [
    "## **Code Implementation With Keras**"
   ]
  },
  {
   "cell_type": "markdown",
   "metadata": {
    "id": "IkGMOIclzAzI"
   },
   "source": [
    "### **Import libraries required for this project**"
   ]
  },
  {
   "cell_type": "code",
   "execution_count": null,
   "metadata": {},
   "outputs": [],
   "source": [
    "!python -m pip install pip --upgrade --user -q\n",
    "!python -m pip install numpy pandas seaborn matplotlib scipy sklearn statsmodels keras tensorflow torch --user -q"
   ]
  },
  {
   "cell_type": "code",
   "execution_count": null,
   "metadata": {},
   "outputs": [],
   "source": [
    "import IPython\n",
    "IPython.Application.instance().kernel.do_shutdown(True)"
   ]
  },
  {
   "cell_type": "code",
   "execution_count": null,
   "metadata": {
    "id": "86suwc_usyQC"
   },
   "outputs": [],
   "source": [
    "import numpy as np\n",
    "import pandas as pd\n",
    "import matplotlib as mpl\n",
    "import matplotlib.pyplot as plt"
   ]
  },
  {
   "cell_type": "markdown",
   "metadata": {
    "id": "ceOuusnms7o-"
   },
   "source": [
    "### **Read the data**"
   ]
  },
  {
   "cell_type": "code",
   "execution_count": null,
   "metadata": {
    "id": "5Tk4If7nzic5"
   },
   "outputs": [],
   "source": [
    "df = pd.read_csv('spx.csv', parse_dates=['date'], index_col='date')"
   ]
  },
  {
   "cell_type": "markdown",
   "metadata": {
    "id": "Q9WPGXbazkmX"
   },
   "source": [
    "### **Split the data**"
   ]
  },
  {
   "cell_type": "code",
   "execution_count": null,
   "metadata": {
    "id": "l11DYA2azmBg"
   },
   "outputs": [],
   "source": [
    "train_size = int(len(df) * 0.9)\n",
    "test_size = len(df) - train_size\n",
    "train, test = df.iloc[0:train_size], df.iloc[train_size:len(df)]\n",
    "train.shape"
   ]
  },
  {
   "cell_type": "markdown",
   "metadata": {
    "id": "fuJ1mCF_zox5"
   },
   "source": [
    "### **Pre-Processing of Data**"
   ]
  },
  {
   "cell_type": "markdown",
   "metadata": {
    "id": "4RGvYU7szsbk"
   },
   "source": [
    "We need to pre-process the training and test data using the standardscaler library imported from sklearn."
   ]
  },
  {
   "cell_type": "code",
   "execution_count": null,
   "metadata": {
    "id": "mE99v4cszvZI"
   },
   "outputs": [],
   "source": [
    "from sklearn.preprocessing import StandardScaler\n",
    "scaler = StandardScaler()\n",
    "scaler = scaler.fit(train[['close']])\n",
    "train['close'] = scaler.transform(train[['close']])\n",
    "test['close'] = scaler.transform(test[['close']])"
   ]
  },
  {
   "cell_type": "markdown",
   "metadata": {
    "id": "rL5G5MmVzyyQ"
   },
   "source": [
    "### **Create a sequence with historical data**"
   ]
  },
  {
   "cell_type": "markdown",
   "metadata": {
    "id": "6Q9i7PYBz2V9"
   },
   "source": [
    "Now we will split the time series data into subsequences and create a sequence of 30 days of historical data."
   ]
  },
  {
   "cell_type": "code",
   "execution_count": null,
   "metadata": {
    "id": "K9wvTryrz4P9"
   },
   "outputs": [],
   "source": [
    "def create_dataset(X, y, time_steps=1):\n",
    "    X1, y1 = [], []\n",
    "    for i in range(len(X) - time_steps):\n",
    "        t = X.iloc[i:(i + time_steps)].values\n",
    "        X1.append(t)\n",
    "        y1.append(y.iloc[i + time_steps])\n",
    "    return np.array(X1), np.array(y1)"
   ]
  },
  {
   "cell_type": "code",
   "execution_count": null,
   "metadata": {
    "id": "Mymj0PWDz6Tq"
   },
   "outputs": [],
   "source": [
    "TIME_STEPS = 30\n",
    "X_train, y_train = create_dataset(\n",
    "  train[['close']],\n",
    "  train.close,\n",
    "  TIME_STEPS\n",
    ")\n",
    "X_test, y_test = create_dataset(\n",
    "  test[['close']],\n",
    "  test.close,\n",
    "  TIME_STEPS\n",
    ")\n",
    "print(X_train.shape)"
   ]
  },
  {
   "cell_type": "markdown",
   "metadata": {
    "id": "LPEIULvYz9t7"
   },
   "source": [
    "### **Creating an LSTM Autoencoder Network**"
   ]
  },
  {
   "cell_type": "markdown",
   "metadata": {
    "id": "knJ9vb8W0ZLb"
   },
   "source": [
    "The architecture will produce the same sequence as given as input. It will take the sequence data. The dropout removes inputs to a layer to reduce overfitting. Adding RepeatVector to the layer means it repeats the input n number of times. The TimeDistibuted layer takes the information from the previous layer and creates a vector with a length of the output layers."
   ]
  },
  {
   "cell_type": "code",
   "execution_count": null,
   "metadata": {
    "id": "06HpaHUp0YJo"
   },
   "outputs": [],
   "source": [
    "import keras\n",
    "model = keras.Sequential()\n",
    "model.add(keras.layers.LSTM(\n",
    "    units=64,\n",
    "    input_shape=(X_train.shape[1], X_train.shape[2])\n",
    "))\n",
    "model.add(keras.layers.Dropout(rate=0.2))\n",
    "model.add(keras.layers.RepeatVector(n=X_train.shape[1]))\n",
    "model.add(keras.layers.LSTM(units=64, return_sequences=True))\n",
    "model.add(keras.layers.Dropout(rate=0.2))\n",
    "model.add(\n",
    "  keras.layers.TimeDistributed(\n",
    "    keras.layers.Dense(units=X_train.shape[2])\n",
    "  )\n",
    ")\n",
    "model.compile(loss='mae', optimizer='adam')\n",
    "model.summary()"
   ]
  },
  {
   "cell_type": "markdown",
   "metadata": {
    "id": "mkwTc7240eiD"
   },
   "source": [
    "### **Fitting the Model**"
   ]
  },
  {
   "cell_type": "markdown",
   "metadata": {
    "id": "qdm7C1lH2e5b"
   },
   "source": [
    "Here, we train the model with epoch:20 and batch size 32."
   ]
  },
  {
   "cell_type": "code",
   "execution_count": null,
   "metadata": {
    "id": "xSUCUnsM0WLC"
   },
   "outputs": [],
   "source": [
    "history = model.fit(\n",
    "    X_train, y_train,\n",
    "    epochs=20,\n",
    "    batch_size=32,\n",
    "    validation_split=0.1,\n",
    "    shuffle=False\n",
    ")"
   ]
  },
  {
   "cell_type": "markdown",
   "metadata": {
    "id": "GANVdi-30VL4"
   },
   "source": [
    "### **Evaluation**"
   ]
  },
  {
   "cell_type": "code",
   "execution_count": null,
   "metadata": {
    "id": "YhTIPWOq34jG"
   },
   "outputs": [],
   "source": [
    "plt.plot(history.history['loss'], label='train')\n",
    "plt.plot(history.history['val_loss'], label='test')\n",
    "plt.legend();"
   ]
  },
  {
   "cell_type": "markdown",
   "metadata": {
    "id": "J7l82KlA37a4"
   },
   "source": [
    "From the above plot we can see the training and test error is decreasing. For better result, we can train the model with more epochs."
   ]
  },
  {
   "cell_type": "markdown",
   "metadata": {
    "id": "YbvN2SRl39X7"
   },
   "source": [
    "### **Actual Value of Test Data**"
   ]
  },
  {
   "cell_type": "code",
   "execution_count": null,
   "metadata": {
    "id": "2xuWzahc3_3N"
   },
   "outputs": [],
   "source": [
    "y_test"
   ]
  },
  {
   "cell_type": "markdown",
   "metadata": {
    "id": "B1gIAgB54Bxw"
   },
   "source": [
    "### **Prediction on Test Data**"
   ]
  },
  {
   "cell_type": "code",
   "execution_count": null,
   "metadata": {
    "id": "rRlqRCoA4EK2"
   },
   "outputs": [],
   "source": [
    "pred = model.predict(X_test, verbose=0)"
   ]
  },
  {
   "cell_type": "markdown",
   "metadata": {
    "id": "fD68lYDPkZTw"
   },
   "source": [
    "# **Related Articles --**\n",
    "\n",
    "> * [Introduction to LSTM Autoencoder](https://analyticsindiamag.com/introduction-to-lstm-autoencoder-using-keras/)\n",
    "> * [Beginners Guide to MLP](https://analyticsindiamag.com/a-beginners-guide-to-scikit-learns-mlpclassifier/)\n",
    "> * [Beginners Guide to PyTorch](https://analyticsindiamag.com/a-beginners-guide-pytorch/)\n",
    "> * [Loss functions in PyTorch](https://analyticsindiamag.com/all-pytorch-loss-function/)\n",
    "> * [Loss functions in Tensorflow Keras](https://analyticsindiamag.com/ultimate-guide-to-loss-functions-in-tensorflow-keras-api-with-python-implementation/)\n",
    "> * [Loss function with examples](https://analyticsindiamag.com/loss-functions-in-deep-learning-an-overview/)\n",
    "> * [Optimizers in Tensorflow Keras](https://analyticsindiamag.com/guide-to-tensorflow-keras-optimizers/)\n",
    "> * [Deep Learning Frameworks](https://analyticsindiamag.com/deep-learning-frameworks/)\n",
    "> * [Types of Activation Functions](https://analyticsindiamag.com/most-common-activation-functions-in-neural-networks-and-rationale-behind-it/)\n",
    "> * [Maths for Deep Learning](https://analyticsindiamag.com/beginners-guide-neural-network-math-python/)\n",
    "> * [Deep Learning Using Tensorflow Keras](https://analyticsindiamag.com/deep-learning-using-tensorflow-keras/)"
   ]
  }
 ],
 "metadata": {
  "colab": {
   "collapsed_sections": [],
   "name": "LSTM Autoencoder.ipynb",
   "provenance": [],
   "toc_visible": true
  },
  "kernelspec": {
   "display_name": "Python 3",
   "name": "python3"
  },
  "language_info": {
   "name": "python"
  }
 },
 "nbformat": 4,
 "nbformat_minor": 2
}
