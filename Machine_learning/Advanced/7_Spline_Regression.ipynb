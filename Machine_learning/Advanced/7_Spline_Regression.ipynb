{
 "cells": [
  {
   "cell_type": "markdown",
   "metadata": {
    "id": "aAsYa5HpWm_B"
   },
   "source": [
    "# **Spline Regression**"
   ]
  },
  {
   "cell_type": "markdown",
   "metadata": {
    "id": "RDePZX0fWzzT"
   },
   "source": [
    "Spline regression is a non-linear regression which is used to try and overcome the difficulties of linear and polynomial regression algorithms. "
   ]
  },
  {
   "cell_type": "markdown",
   "metadata": {
    "id": "HmqlGFNeXR7i"
   },
   "source": [
    "In spline regression, the dataset is divided into bins. Each bin of the data is then made to fit with separate models. The points where the data is divided are called knots. Since there are separate functions that fit the bins, each function is called piecewise step functions. "
   ]
  },
  {
   "cell_type": "markdown",
   "metadata": {
    "id": "qUIkPDU3XgeF"
   },
   "source": [
    "To read about it more, please refer this [story](https://analyticsindiamag.com/hands-on-guide-to-spline-regression/)."
   ]
  },
  {
   "cell_type": "markdown",
   "metadata": {
    "id": "ohQxjDo2Xpi4"
   },
   "source": [
    "## **Implementation**"
   ]
  },
  {
   "cell_type": "markdown",
   "metadata": {
    "id": "wQZvO6K8Xw1T"
   },
   "source": [
    "We will implement polynomial spline regression on a simple Boston housing dataset. This data is most commonly used in case of linear regression but we will use cubic spline regression on it. The dataset contains information about the house prices in Boston and the features are the factors affecting the price of the house."
   ]
  },
  {
   "cell_type": "markdown",
   "metadata": {
    "id": "Cs-tG4nYYDAR"
   },
   "source": [
    "We will load the dataset now. "
   ]
  },
  {
   "cell_type": "code",
   "execution_count": null,
   "metadata": {},
   "outputs": [],
   "source": [
    "!python -m pip install pip --upgrade --user -q \n",
    "!python -m pip install numpy pandas seaborn matplotlib scipy statsmodels sklearn --user -q"
   ]
  },
  {
   "cell_type": "code",
   "execution_count": null,
   "metadata": {},
   "outputs": [],
   "source": [
    "import IPython\n",
    "IPython.Application.instance().kernel.do_shutdown(True)"
   ]
  },
  {
   "cell_type": "code",
   "execution_count": null,
   "metadata": {
    "id": "DZuqXIWHN-D4"
   },
   "outputs": [],
   "source": [
    "import pandas as pd\n",
    "from patsy import dmatrix\n",
    "import statsmodels.api as sm\n",
    "import numpy as np\n",
    "import matplotlib.pyplot as plt\n",
    "dataset=pd.read_csv('https://raw.githubusercontent.com/selva86/datasets/master/BostonHousing.csv')\n",
    "dataset"
   ]
  },
  {
   "cell_type": "markdown",
   "metadata": {
    "id": "ES6NooseYIqJ"
   },
   "source": [
    "Let us now plot the graph of age and the prices that are indicated as medv in the dataset and check how it looks. "
   ]
  },
  {
   "cell_type": "code",
   "execution_count": null,
   "metadata": {
    "id": "DRwo_6I4YMSh"
   },
   "outputs": [],
   "source": [
    "plt.scatter(dataset['age'], dataset['medv'])"
   ]
  },
  {
   "cell_type": "markdown",
   "metadata": {
    "id": "HJkt9GNrYLJb"
   },
   "source": [
    "Clearly, there is no linear relationship between these points. So we will use spline regression as follows:"
   ]
  },
  {
   "cell_type": "markdown",
   "metadata": {
    "id": "iK2BzImzYRSe"
   },
   "source": [
    "### **Cube and natural spline**"
   ]
  },
  {
   "cell_type": "code",
   "execution_count": null,
   "metadata": {
    "id": "AytEnvYCYE_o"
   },
   "outputs": [],
   "source": [
    "spline_cube = dmatrix('bs(x, knots=(20,30,40,50))', {'x': dataset['age']})\n",
    "spline_fit = sm.GLM(dataset['medv'], spline_cube).fit()\n",
    "natural_spline = dmatrix('cr(x, knots=(20,30,40,50))', {'x': dataset['age']})\n",
    "spline_natural = sm.GLM(dataset['medv'], natural_spline).fit()"
   ]
  },
  {
   "cell_type": "markdown",
   "metadata": {
    "id": "ZoWlaKf5YXDN"
   },
   "source": [
    "### **Creating linspaces**"
   ]
  },
  {
   "cell_type": "markdown",
   "metadata": {
    "id": "Xl6xpvzKYbkU"
   },
   "source": [
    "Next, we will create linspaces from the dataset based on minimum and maximum values. Then, we will use this linspace to make the prediction on the above model."
   ]
  },
  {
   "cell_type": "code",
   "execution_count": null,
   "metadata": {
    "id": "DOu7343ZYVBA"
   },
   "outputs": [],
   "source": [
    "range = np.linspace(dataset['age'].min(), dataset['age'].max(), 50)\n",
    "cubic_line = spline_fit.predict(dmatrix('bs(range, knots=(20,30,40,50))', {'range': range}))\n",
    "line_natural = spline_natural.predict(dmatrix('cr(range, knots=(20,30,40,50))', {'range': range}))"
   ]
  },
  {
   "cell_type": "markdown",
   "metadata": {
    "id": "17sszKXSYfQ7"
   },
   "source": [
    "### **Plot the graph**"
   ]
  },
  {
   "cell_type": "markdown",
   "metadata": {
    "id": "8HGLo4kVYi33"
   },
   "source": [
    "Finally, after the predictions are made it is time to plot the spline regression graphs and check how the model has fit on the bins. "
   ]
  },
  {
   "cell_type": "code",
   "execution_count": null,
   "metadata": {
    "id": "CYpXlpguYdkw"
   },
   "outputs": [],
   "source": [
    "plt.plot(range, cubic_line, color='r', label='Cubic spline')\n",
    "plt.plot(range, line_natural, color='g', label='Natural spline')\n",
    "plt.legend()\n",
    "plt.scatter(dataset['age'], dataset['medv'])\n",
    "plt.xlabel('age')\n",
    "plt.ylabel('medv')\n",
    "plt.show()"
   ]
  },
  {
   "cell_type": "markdown",
   "metadata": {
    "id": "OywocQTWYtRH"
   },
   "source": [
    "As you can see, the bins at 20 and 30 vary slightly more and the bins at 40 and 50 also fit differently. This is because different models are fit on the different bins of the data. But it is efficient since most points are being covered by the model. "
   ]
  }
 ],
 "metadata": {
  "colab": {
   "collapsed_sections": [],
   "name": "6_Spline_Regression.ipynb",
   "provenance": []
  },
  "kernelspec": {
   "display_name": "Python 3 (ipykernel)",
   "language": "python",
   "name": "python3"
  },
  "language_info": {
   "codemirror_mode": {
    "name": "ipython",
    "version": 3
   },
   "file_extension": ".py",
   "mimetype": "text/x-python",
   "name": "python",
   "nbconvert_exporter": "python",
   "pygments_lexer": "ipython3",
   "version": "3.9.7"
  }
 },
 "nbformat": 4,
 "nbformat_minor": 2
}
