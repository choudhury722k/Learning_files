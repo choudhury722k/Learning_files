{
 "cells": [
  {
   "cell_type": "markdown",
   "metadata": {
    "id": "xuXEWbFUjvyi"
   },
   "source": [
    "# EvalML"
   ]
  },
  {
   "cell_type": "markdown",
   "metadata": {
    "id": "JAlB9nhAjxxM"
   },
   "source": [
    "EvalML is an open-source Python library created by folks at Alteryx, the people behind Featuretools, that facilitates automated machine learning (AutoML) and model understanding. It abstracts multiple modelling libraries and provides a simple, unified API for building machine learning models. EvalML supports a wide range of supervised learning problems such as regression, binary classification and multiclass classification. "
   ]
  },
  {
   "cell_type": "markdown",
   "metadata": {
    "id": "O53mI_Z2jyoy"
   },
   "source": [
    "To read about it more, please refer to [this](https://analyticsindiamag.com/automate-your-ml-pipelines-with-evalml/) article."
   ]
  },
  {
   "cell_type": "markdown",
   "metadata": {
    "id": "rTiyksAqj43j"
   },
   "source": [
    "# Using EvalML’s AutoML to search for the best Classification Algorithm"
   ]
  },
  {
   "cell_type": "markdown",
   "metadata": {
    "id": "5vSpNthNj6ko"
   },
   "source": [
    "  Install EvalML from PyPI."
   ]
  },
  {
   "cell_type": "code",
   "execution_count": null,
   "metadata": {},
   "outputs": [],
   "source": [
    "!python -m pip install pip --upgrade --user -q\n",
    "!python -m pip install numpy pandas seaborn matplotlib scipy sklearn statsmodels tensorflow keras --user -q"
   ]
  },
  {
   "cell_type": "code",
   "execution_count": null,
   "metadata": {
    "colab": {
     "base_uri": "https://localhost:8080/"
    },
    "executionInfo": {
     "elapsed": 4436,
     "status": "ok",
     "timestamp": 1623927104541,
     "user": {
      "displayName": "Aishwarya Verma",
      "photoUrl": "https://lh3.googleusercontent.com/a-/AOh14GiG6BREocxcd5R6rzlQGApoCsYso7BQAh63eXNz6Q=s64",
      "userId": "06108390091304498033"
     },
     "user_tz": -330
    },
    "id": "spjZGrQQmPPq",
    "outputId": "86e531cc-82dc-481b-df5c-eb98f56b42b2"
   },
   "outputs": [],
   "source": [
    "!python -m pip install evalml --user -q --no-warn-script-location"
   ]
  },
  {
   "cell_type": "code",
   "execution_count": null,
   "metadata": {},
   "outputs": [],
   "source": [
    "import IPython\n",
    "IPython.Application.instance().kernel.do_shutdown(True)"
   ]
  },
  {
   "cell_type": "code",
   "execution_count": null,
   "metadata": {
    "colab": {
     "base_uri": "https://localhost:8080/",
     "height": 667
    },
    "executionInfo": {
     "elapsed": 397,
     "status": "error",
     "timestamp": 1623927271862,
     "user": {
      "displayName": "Aishwarya Verma",
      "photoUrl": "https://lh3.googleusercontent.com/a-/AOh14GiG6BREocxcd5R6rzlQGApoCsYso7BQAh63eXNz6Q=s64",
      "userId": "06108390091304498033"
     },
     "user_tz": -330
    },
    "id": "9TA0uWd8j8XH",
    "outputId": "8dffc121-92a0-4591-abb7-644a5690ef5e"
   },
   "outputs": [],
   "source": [
    "import evalml\n",
    "from evalml import AutoMLSearch\n",
    "X, y = evalml.demos.load_breast_cancer()\n",
    "X_train, X_test, y_train, y_test = evalml.preprocessing.split_data(X, y, problem_type='binary') "
   ]
  },
  {
   "cell_type": "markdown",
   "metadata": {
    "id": "Rr_iF130kCDV"
   },
   "source": [
    "Run the search for the best classification model."
   ]
  },
  {
   "cell_type": "code",
   "execution_count": null,
   "metadata": {
    "executionInfo": {
     "elapsed": 4,
     "status": "aborted",
     "timestamp": 1623926735902,
     "user": {
      "displayName": "Aishwarya Verma",
      "photoUrl": "https://lh3.googleusercontent.com/a-/AOh14GiG6BREocxcd5R6rzlQGApoCsYso7BQAh63eXNz6Q=s64",
      "userId": "06108390091304498033"
     },
     "user_tz": -330
    },
    "id": "tmyY7zEokAnt"
   },
   "outputs": [],
   "source": [
    "automl = AutoMLSearch(X_train=X_train, y_train=y_train,   problem_type='binary')\n",
    "automl.search() "
   ]
  },
  {
   "cell_type": "markdown",
   "metadata": {
    "id": "rgidr8i0kFq-"
   },
   "source": [
    "This uses the default objective function, binary log loss. "
   ]
  },
  {
   "cell_type": "markdown",
   "metadata": {
    "id": "IjzoK2ivkJGD"
   },
   "source": [
    "  Print model rankings and get the best pipeline."
   ]
  },
  {
   "cell_type": "code",
   "execution_count": null,
   "metadata": {
    "executionInfo": {
     "elapsed": 390,
     "status": "aborted",
     "timestamp": 1623926635860,
     "user": {
      "displayName": "Aishwarya Verma",
      "photoUrl": "https://lh3.googleusercontent.com/a-/AOh14GiG6BREocxcd5R6rzlQGApoCsYso7BQAh63eXNz6Q=s64",
      "userId": "06108390091304498033"
     },
     "user_tz": -330
    },
    "id": "jv1-ixfFkEqL"
   },
   "outputs": [],
   "source": [
    "automl.rankings"
   ]
  },
  {
   "cell_type": "code",
   "execution_count": null,
   "metadata": {
    "executionInfo": {
     "elapsed": 11,
     "status": "aborted",
     "timestamp": 1623926635861,
     "user": {
      "displayName": "Aishwarya Verma",
      "photoUrl": "https://lh3.googleusercontent.com/a-/AOh14GiG6BREocxcd5R6rzlQGApoCsYso7BQAh63eXNz6Q=s64",
      "userId": "06108390091304498033"
     },
     "user_tz": -330
    },
    "id": "tYcpjBsVkL3r"
   },
   "outputs": [],
   "source": [
    "automl.describe_pipeline(automl.rankings.iloc[0][\"id\"])"
   ]
  },
  {
   "cell_type": "markdown",
   "metadata": {
    "id": "nbCzDw3WkPC-"
   },
   "source": [
    "Logistic Regression is the best model for the binary log-loss objective. Let’s change it to the area under the Precision-Recall curve and see how that impacts the best model."
   ]
  },
  {
   "cell_type": "code",
   "execution_count": null,
   "metadata": {
    "executionInfo": {
     "elapsed": 12,
     "status": "aborted",
     "timestamp": 1623926635863,
     "user": {
      "displayName": "Aishwarya Verma",
      "photoUrl": "https://lh3.googleusercontent.com/a-/AOh14GiG6BREocxcd5R6rzlQGApoCsYso7BQAh63eXNz6Q=s64",
      "userId": "06108390091304498033"
     },
     "user_tz": -330
    },
    "id": "8r0Rak0SkNmi"
   },
   "outputs": [],
   "source": [
    "automl_auc = AutoMLSearch(X_train=X_train, y_train=y_train,\n",
    "                          problem_type='binary',\n",
    "                          objective='auc',\n",
    "                          additional_objectives=['f1', 'precision'],                    \n",
    "                          optimize_thresholds=True)\n",
    "automl_auc.search() "
   ]
  },
  {
   "cell_type": "markdown",
   "metadata": {
    "id": "ZnJDEd_UkSn_"
   },
   "source": [
    "  Print model rankings and get the best pipeline."
   ]
  },
  {
   "cell_type": "code",
   "execution_count": null,
   "metadata": {
    "executionInfo": {
     "elapsed": 13,
     "status": "aborted",
     "timestamp": 1623926635864,
     "user": {
      "displayName": "Aishwarya Verma",
      "photoUrl": "https://lh3.googleusercontent.com/a-/AOh14GiG6BREocxcd5R6rzlQGApoCsYso7BQAh63eXNz6Q=s64",
      "userId": "06108390091304498033"
     },
     "user_tz": -330
    },
    "id": "BSMRsiRekRdx"
   },
   "outputs": [],
   "source": [
    "automl_auc.rankings"
   ]
  },
  {
   "cell_type": "code",
   "execution_count": null,
   "metadata": {
    "executionInfo": {
     "elapsed": 14,
     "status": "aborted",
     "timestamp": 1623926635866,
     "user": {
      "displayName": "Aishwarya Verma",
      "photoUrl": "https://lh3.googleusercontent.com/a-/AOh14GiG6BREocxcd5R6rzlQGApoCsYso7BQAh63eXNz6Q=s64",
      "userId": "06108390091304498033"
     },
     "user_tz": -330
    },
    "id": "ZBvD5_GekULz"
   },
   "outputs": [],
   "source": [
    "automl_auc.describe_pipeline(automl.rankings.iloc[0][\"id\"])"
   ]
  },
  {
   "cell_type": "markdown",
   "metadata": {
    "id": "qoTQmRf7kXmi"
   },
   "source": [
    "The optimal model has now changed to ExtraTreesClassifier. This model can be used to make predictions on the validation/test data or saved for use later."
   ]
  },
  {
   "cell_type": "code",
   "execution_count": null,
   "metadata": {
    "id": "tvwMTB6rkVnc"
   },
   "outputs": [],
   "source": [
    "best_model = automl_auc.best_pipeline\n",
    "# best_model.save(\"model.pkl\")\n",
    "old_model=automl.load('model.pkl')\n",
    "old_model.predict_proba(X_test)"
   ]
  },
  {
   "cell_type": "code",
   "execution_count": null,
   "metadata": {},
   "outputs": [],
   "source": []
  }
 ],
 "metadata": {
  "colab": {
   "authorship_tag": "ABX9TyNNa0gqkq2c4XbnwFeXiDd/",
   "collapsed_sections": [],
   "name": "1_EvalML.ipynb",
   "provenance": []
  },
  "interpreter": {
   "hash": "dae9b42d7192f6f3f602cdd9e8cf7303a8341f660adb2a60c067023419139d3b"
  },
  "kernelspec": {
   "display_name": "Python 3.8.10 64-bit ('vosk': conda)",
   "name": "python3"
  },
  "language_info": {
   "codemirror_mode": {
    "name": "ipython",
    "version": 3
   },
   "file_extension": ".py",
   "mimetype": "text/x-python",
   "name": "python",
   "nbconvert_exporter": "python",
   "pygments_lexer": "ipython3",
   "version": "3.8.10"
  }
 },
 "nbformat": 4,
 "nbformat_minor": 2
}
