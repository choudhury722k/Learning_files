{
 "cells": [
  {
   "cell_type": "markdown",
   "metadata": {
    "id": "2vJtezShdvlF"
   },
   "source": [
    "# PyVista: A Python Package For 3D Plotting And Mesh Analysis "
   ]
  },
  {
   "cell_type": "markdown",
   "metadata": {
    "id": "yjT4bB2Cd2Qr"
   },
   "source": [
    "PyVista (formerly known as ‘vtki’) is a flexible helper module and a high-level API for the Visualization Toolkit (VTK). It is a streamlined interface for the VTK, enabling mesh analysis and plotting 3D figures using Python code. It was introduced by C. Bane Sullivan and Alexander A. Kaszynski in May 2019 (research paper). \n",
    "\n",
    "Before going into the details of PyVista, let us have a brief overview of VTK."
   ]
  },
  {
   "cell_type": "markdown",
   "metadata": {
    "id": "Kxjy6IuXd3HW"
   },
   "source": [
    "To read about it more, please refer [this](https://analyticsindiamag.com/hands-on-guide-to-pyvista-a-python-package-for-3d-plotting-and-mesh-analysis/) article."
   ]
  },
  {
   "cell_type": "markdown",
   "metadata": {
    "id": "0hI6IetOeRnI"
   },
   "source": [
    "Practical implementation\n",
    "\n",
    "Here, we demonstrate some use cases of PyVista which references official examples. \n",
    "\n",
    "Setup the environment for interactive plots"
   ]
  },
  {
   "cell_type": "code",
   "execution_count": null,
   "metadata": {},
   "outputs": [],
   "source": [
    "!python -m pip install pip --upgrade --user -q\n",
    "!python -m pip install numpy pandas seaborn matplotlib scipy sklearn statsmodels --user -q"
   ]
  },
  {
   "cell_type": "code",
   "execution_count": null,
   "metadata": {
    "id": "sojZtbkedtvO"
   },
   "outputs": [],
   "source": [
    "# setup enviornment for interactive plotting\n",
    "# !apt-get install -qq xvfb\n",
    "!python -m pip install pyvista panel --user -q\n",
    "\n",
    "import os\n",
    "os.system('/usr/bin/Xvfb :99 -screen 0 1024x768x24 &')\n",
    "os.environ['DISPLAY'] = ':99'"
   ]
  },
  {
   "cell_type": "code",
   "execution_count": null,
   "metadata": {},
   "outputs": [],
   "source": [
    "import IPython\n",
    "IPython.Application.instance().kernel.do_shutdown(True)"
   ]
  },
  {
   "cell_type": "code",
   "execution_count": null,
   "metadata": {},
   "outputs": [],
   "source": [
    "\n",
    "import panel as pn\n",
    "pn.extension('vtk')"
   ]
  },
  {
   "cell_type": "markdown",
   "metadata": {
    "id": "gUtLiR1feZ9t"
   },
   "source": [
    "Import required libraries"
   ]
  },
  {
   "cell_type": "code",
   "execution_count": null,
   "metadata": {
    "id": "Z3T0Eb8xeW2F"
   },
   "outputs": [],
   "source": [
    "import numpy as np\n",
    "import pyvista as pv\n",
    "import panel as pn\n",
    "pn.extension('vtk') #to interact with complex 3D geometry "
   ]
  },
  {
   "cell_type": "markdown",
   "metadata": {
    "id": "7fzfPKeNegsW"
   },
   "source": [
    "# Plot geometric objects"
   ]
  },
  {
   "cell_type": "markdown",
   "metadata": {
    "id": "yo-T2jQeejHr"
   },
   "source": [
    "Create geometric shapes using built-in methods"
   ]
  },
  {
   "cell_type": "code",
   "execution_count": null,
   "metadata": {
    "id": "q6JNmXAfedbu"
   },
   "outputs": [],
   "source": [
    "cy = pv.Cylinder()\n",
    "arw = pv.Arrow()\n",
    "sph = pv.Sphere()\n",
    "pln = pv.Plane()\n",
    "ln = pv.Line()\n",
    "bx = pv.Box()\n",
    "cn = pv.Cone()\n",
    "pg = pv.Polygon() \n",
    "dc = pv.Disc() #polygonal disk with a central hole "
   ]
  },
  {
   "cell_type": "markdown",
   "metadata": {
    "id": "J4jRVTxreppA"
   },
   "source": [
    "Plot all the above shapes in a single window"
   ]
  },
  {
   "cell_type": "code",
   "execution_count": null,
   "metadata": {
    "id": "X5rnR1dIelMC"
   },
   "outputs": [],
   "source": [
    "#Plotter() method can be used to plot objects represented by numpy array or vtk mesh\n",
    "p = pv.Plotter(notebook=True, window_size=(600,400),shape=(3, 3))\n",
    "#’window_size’ specifies the size of output window \n",
    "p.subplot(0, 0)\n",
    "#add disc as 1st element of 1st row\n",
    "p.add_mesh(dc, color=\"yellow\", show_edges=True)\n",
    "p.subplot(0, 1)\n",
    "#add polygon as 2nd element of 1st row\n",
    "p.add_mesh(pg, color=\"yellow\", show_edges=True)\n",
    "p.subplot(0, 2)\n",
    "#add cone as 3rd element of 1st row\n",
    "p.add_mesh(cn, color=\"yellow\", show_edges=True)\n",
    "p.subplot(1, 0)\n",
    "#add box as 1st element of middle row\n",
    "p.add_mesh(bx, color=\"yellow\", show_edges=True)\n",
    "p.subplot(1, 1)\n",
    "#add line as 2nd element of middle row\n",
    "p.add_mesh(ln, color=\"yellow\", line_width=3)\n",
    "p.subplot(1, 2)\n",
    "#add plane as 3rd element of middle row\n",
    "p.add_mesh(pln, color=\"yellow\", show_edges=True)\n",
    "p.subplot(2, 0)\n",
    "#add sphere as 1st element of 3rd row\n",
    "p.add_mesh(sph, color=\"yellow\", show_edges=True)\n",
    "p.subplot(2, 1)\n",
    "#add arrow as 2nd element of 3rd row\n",
    "p.add_mesh(arw, color=\"yellow\", show_edges=True)\n",
    "p.subplot(2, 2)\n",
    "#add cylinder as 3rd element of last row\n",
    "p.add_mesh(cy, color=\"yellow\", show_edges=True)\n",
    "# Render all the shapes\n",
    "p.show() "
   ]
  },
  {
   "cell_type": "markdown",
   "metadata": {
    "id": "bxoubFQ-eu6q"
   },
   "source": [
    "# Edge extraction"
   ]
  },
  {
   "cell_type": "markdown",
   "metadata": {
    "id": "XLdVD548eyF4"
   },
   "source": [
    "Download an image of a cow from ‘examples’ module"
   ]
  },
  {
   "cell_type": "code",
   "execution_count": null,
   "metadata": {
    "id": "Z_caleNwescQ"
   },
   "outputs": [],
   "source": [
    "from pyvista import examples\n",
    "mesh = examples.download_cow()"
   ]
  },
  {
   "cell_type": "markdown",
   "metadata": {
    "id": "R6cxdHVie1rp"
   },
   "source": [
    "Extract edges from surface of the downloaded mesh using extract_feature_edges()"
   ]
  },
  {
   "cell_type": "code",
   "execution_count": null,
   "metadata": {
    "id": "NkrI5K9yezpO"
   },
   "outputs": [],
   "source": [
    "edge = mesh.extract_feature_edges(20)"
   ]
  },
  {
   "cell_type": "markdown",
   "metadata": {
    "id": "v4Gj2Q8vfF4L"
   },
   "source": [
    "Plot the mesh with extracted edges"
   ]
  },
  {
   "cell_type": "code",
   "execution_count": null,
   "metadata": {
    "id": "-GL8P6gIe_ha"
   },
   "outputs": [],
   "source": [
    "p = pv.Plotter(notebook=True, window_size=(600,400))\n",
    "#add the downloaded mesh to the plot\n",
    "p.add_mesh(img, color=True)\n",
    "#add the extracted edges; mark them using red colored lines of width 0.5\n",
    "p.add_mesh(edge, color=\"red\", line_width=5)\n",
    "#camera_position() specifies coordinates of camera position of \n",
    "#active window\n",
    "p.camera_position = [(9.5, 3.0, 5.5), (2.5, 1, 0), (0, 1, 0)]\n",
    "p.show()  #display the plot "
   ]
  },
  {
   "cell_type": "markdown",
   "metadata": {
    "id": "PZGAqUbzgj_p"
   },
   "source": [
    "# Add floor/wall to a mesh\n",
    "\n",
    "Download mesh of a horse from ‘examples’ module"
   ]
  },
  {
   "cell_type": "code",
   "execution_count": null,
   "metadata": {
    "id": "Y0439wAtfIsW"
   },
   "outputs": [],
   "source": [
    "m = examples.download_horse()"
   ]
  },
  {
   "cell_type": "markdown",
   "metadata": {
    "id": "9XHZb0b7gozO"
   },
   "source": [
    "Plot the mesh with wall and floor added"
   ]
  },
  {
   "cell_type": "code",
   "execution_count": null,
   "metadata": {
    "id": "TOZ9DJ0Ugm_e"
   },
   "outputs": [],
   "source": [
    "p = pv.Plotter(notebook=True, window_size=(600,400)) \n",
    "#add the horse mesh to the plot\n",
    "p.add_mesh(m)\n",
    "#add floor in vertical direction so it will appear as a wall\n",
    "p.add_floor('-y')\n",
    "#add floor to negative z direction\n",
    "p.add_floor('-z')\n",
    "p.show()  #display the plot "
   ]
  },
  {
   "cell_type": "markdown",
   "metadata": {
    "id": "gydHkHFJgtKP"
   },
   "source": [
    "Disable mesh lighting\n",
    "\n",
    "  Download a horse mesh from ‘examples’ module and reduce number of triangles in the mesh using decimate() "
   ]
  },
  {
   "cell_type": "code",
   "execution_count": null,
   "metadata": {
    "id": "fqG6Wx0SgqsX"
   },
   "outputs": [],
   "source": [
    "h = examples.download_horse().decimate(0.9)\n",
    "#Rotate the mesh about z-axis by 120 degrees\n",
    "h.rotate_z(-120)\n",
    "#’points’ property returns pointer to the points of the mesh as a numpy  \n",
    "#object and ‘center’ returns center of the mesh\n",
    "h.points = (h.points - h.center) * 100\n",
    "#create a copy of the mesh\n",
    "shifted = h.copy()\n",
    "#translate the position of horse by 10 points in y-direction\n",
    "shifted.translate((0, 10, 0)) "
   ]
  },
  {
   "cell_type": "markdown",
   "metadata": {
    "id": "ftp-GBfygw4o"
   },
   "source": [
    "Plot the original and shifted mesh"
   ]
  },
  {
   "cell_type": "code",
   "execution_count": null,
   "metadata": {
    "id": "tbYR3Oq3gvfw"
   },
   "outputs": [],
   "source": [
    "p = pv.Plotter(notebook=True, window_size=(600,400))\n",
    "#add the horse mesh to the plot\n",
    "p.add_mesh(h, color='brown')\n",
    "#add translated mesh to the plot\n",
    "p.add_mesh(shifted, color='brown', show_edges=True, lighting=False)\n",
    "p.show()  #display the plot "
   ]
  },
  {
   "cell_type": "markdown",
   "metadata": {
    "id": "y6Lvft4Dg2y6"
   },
   "source": [
    "  Disable the lighting of shifted mesh by setting ‘lighting’ parameter to ‘False’ "
   ]
  },
  {
   "cell_type": "code",
   "execution_count": null,
   "metadata": {
    "id": "Brm-4WrrgzIU"
   },
   "outputs": [],
   "source": [
    "shifted.plot(notebook=True,color='brown', window_size=(600,400), lighting=False, background=\"white\")"
   ]
  },
  {
   "cell_type": "code",
   "execution_count": null,
   "metadata": {
    "id": "avjDGB78g5ds"
   },
   "outputs": [],
   "source": []
  }
 ],
 "metadata": {
  "colab": {
   "authorship_tag": "ABX9TyPoEi7zn/qqi2GmDzqnYLRw",
   "collapsed_sections": [],
   "name": "4_PyVista.ipynb",
   "provenance": []
  },
  "kernelspec": {
   "display_name": "Python 3",
   "name": "python3"
  },
  "language_info": {
   "name": "python"
  }
 },
 "nbformat": 4,
 "nbformat_minor": 2
}
