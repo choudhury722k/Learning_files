{
 "cells": [
  {
   "cell_type": "markdown",
   "metadata": {
    "id": "xOfsFcBlh7GA"
   },
   "source": [
    "# AutoFeat"
   ]
  },
  {
   "cell_type": "markdown",
   "metadata": {
    "id": "ncNPEX-2icXu"
   },
   "source": [
    "AutoFeat is a python library that provides automated feature engineering and feature selection along with models such as AutoFeatRegressor and AutoFeatClassifier. These are built with many scientific calculations and need good computational power.\n",
    "\n",
    "In this article, I’ll be discussing the aspects of using AutoFeat, steps involved and its implementation with a real-world dataset.  "
   ]
  },
  {
   "cell_type": "markdown",
   "metadata": {
    "id": "U7W1Ku_yisaE"
   },
   "source": [
    "To read about it more, please refer [this](https://analyticsindiamag.com/guide-to-automatic-feature-engineering-using-autofeat/) article."
   ]
  },
  {
   "cell_type": "markdown",
   "metadata": {
    "id": "5e9sbsZth-PB"
   },
   "source": [
    "# Implementation"
   ]
  },
  {
   "cell_type": "markdown",
   "metadata": {
    "id": "l9MH4eQ_ikrf"
   },
   "source": [
    "## Installation "
   ]
  },
  {
   "cell_type": "code",
   "execution_count": null,
   "metadata": {},
   "outputs": [],
   "source": [
    "!python -m pip install pip --upgrade --user -q\n",
    "!python -m pip install numpy pandas seaborn matplotlib scipy sklearn statsmodels tensorflow keras --user -q"
   ]
  },
  {
   "cell_type": "code",
   "execution_count": null,
   "metadata": {
    "id": "Es5TsulHh_Yi"
   },
   "outputs": [],
   "source": [
    "!python -m pip install autofeat --user -q"
   ]
  },
  {
   "cell_type": "code",
   "execution_count": null,
   "metadata": {},
   "outputs": [],
   "source": [
    "import IPython\n",
    "IPython.Application.instance().kernel.do_shutdown(True)"
   ]
  },
  {
   "cell_type": "markdown",
   "metadata": {
    "id": "11y3rSvkipKj"
   },
   "source": [
    "## AutoFeat in Regression"
   ]
  },
  {
   "cell_type": "markdown",
   "metadata": {
    "id": "GCeb1RduizoP"
   },
   "source": [
    "For regression, AutoFeatRegressor module is used.\n",
    "\n",
    "Parameters:\n",
    "\n",
    "> * categorical_cols=None, list of categorical columns that will be one hot encoded.\n",
    "> * feateng_cols=None, list of columns that will be used for feature engineering.\n",
    "> * units=None, all columns are dimensionless otherwise the measurement unit is converted to pint unit.\n",
    "> * feateng_steps=2, iteration for feature engineering steps\n",
    "> * featsel_runs=5, number of times to perform feature selection with a fraction of data.\n",
    ">* max_gb=None, maximum gigabytes to be used in feature engineering\n",
    "> * transformations=(“1/”, “exp”, “log”, “abs”, “sqrt”, “^2”, “^3”), list of transformations to be applied.\n",
    "> * apply_pi_theorem=True, whether to or not to apply pi theorem.\n",
    "> * always_return_numpy=False, whether to return numpy.ndarray or pandas.DataFrame.\n",
    "> * n_jobs=1, parallel jobs to be run.\n",
    "> * verbose=0, verbosity level.\n",
    "\n",
    "The dataset used for demonstration is Boston housing price dataset from scikit learn library.\n",
    "\n",
    "Performance metrics used for regression is R-squared error present within model.score()."
   ]
  },
  {
   "cell_type": "code",
   "execution_count": null,
   "metadata": {
    "id": "9_vVDqvQinWd"
   },
   "outputs": [],
   "source": [
    "import pandas as pd\n",
    "from autofeat import AutoFeatRegressor\n",
    "from sklearn.model_selection import train_test_split\n",
    "from sklearn.datasets import load_boston\n",
    "import matplotlib.pyplot as plt\n",
    "X,y = load_boston(return_X_y=True)\n",
    "X_train, X_test, y_train, y_test = train_test_split(X, y,test_size=.3,random_state =0)\n",
    "model = AutoFeatRegressor()\n",
    "df = model.fit_transform(X, y)\n",
    "pred = model.predict(X_test)\n",
    "print(\"Final R^2: %.4f\" % model.score(df, y))"
   ]
  },
  {
   "cell_type": "markdown",
   "metadata": {
    "id": "k-Q9mFM4jAl_"
   },
   "source": [
    "Originally X.shape = (506,13) and after transformation df.shape = (506,32)\n",
    "autofeat\n",
    "\n",
    "The column names show the newly formed features."
   ]
  },
  {
   "cell_type": "code",
   "execution_count": null,
   "metadata": {
    "id": "doZMChlci8og"
   },
   "outputs": [],
   "source": [
    "plt.figure()\n",
    "plt.scatter(model.predict(df), y, s=2)"
   ]
  },
  {
   "cell_type": "markdown",
   "metadata": {
    "id": "BPF4W_urjHT9"
   },
   "source": [
    "## AutoFeat in Classification\n",
    "\n",
    "For classification, AutoFeatClassifier module is used. Parameters are the same as a regressor. The dataset used for demonstration is wine classification dataset from scikit learn library. Performance metrics used for classification is Accuracy present within model.score()."
   ]
  },
  {
   "cell_type": "code",
   "execution_count": null,
   "metadata": {
    "id": "KcZ15gIKjFng"
   },
   "outputs": [],
   "source": [
    "from autofeat import AutoFeatClassifier\n",
    "from sklearn.datasets import load_wine\n",
    "X,y = load_wine(return_X_y=True)\n",
    "X_train, X_test, y_train, y_test = train_test_split(X, y,test_size=.3,random_state =0)\n",
    "model = AutoFeatClassifier()\n",
    "df = model.fit_transform(X, y)\n",
    "y_pred = model.predict(X_test)\n",
    "print(\"Final Accuracy: %.4f\" % model.score(df, y))"
   ]
  },
  {
   "cell_type": "markdown",
   "metadata": {
    "id": "7_Lj8VcMjL6O"
   },
   "source": [
    "## AutoFeatModel \n",
    "\n",
    "Instead of using Regressor or Classifier separately, they could be used as an argument to AutoFeatModel class. By default, it’s set to regression."
   ]
  },
  {
   "cell_type": "code",
   "execution_count": null,
   "metadata": {
    "id": "9rTLuj51jKBP"
   },
   "outputs": [],
   "source": [
    "from autofeat import AutoFeatModel\n",
    "model = AutoFeatModel(problem_type='regression')\n",
    "df = model.fit_transform(X, y)\n",
    "y_pred = model.predict(X_test)\n",
    "print(\"Final R^2: %.4f\" % model.score(df, y))"
   ]
  },
  {
   "cell_type": "markdown",
   "metadata": {
    "id": "y8z-sKiTjPlt"
   },
   "source": [
    "## Feature Selector \n",
    "\n",
    "FeatureSelector class provides automatic feature selection. The selected features are returned as a dataframe.\n",
    "\n",
    "Parameters\n",
    "\n",
    "> * problem_type=”regression”, by default regression otherwise could be set to classification.\n",
    "> * featsel_runs=5, number of iterations to be performed for feature selection.\n",
    "> * keep=None, a list of features that are to be kept.\n",
    "> * n_jobs=1, number of parallel jobs to be run.\n",
    "> * verbose=0, verbosity level."
   ]
  },
  {
   "cell_type": "code",
   "execution_count": null,
   "metadata": {
    "id": "PkwMJvPojOCi"
   },
   "outputs": [],
   "source": [
    "from autofeat import FeatureSelector\n",
    "X,y = load_wine(return_X_y=True)\n",
    "fsel = FeatureSelector(verbose=1)\n",
    "new_X = fsel.fit_transform(pd.DataFrame(X), pd.DataFrame(y))"
   ]
  }
 ],
 "metadata": {
  "colab": {
   "authorship_tag": "ABX9TyNTzEngoS+IOsJ62q/H4YWl",
   "collapsed_sections": [],
   "name": "1_AutoFeat.ipynb",
   "provenance": []
  },
  "kernelspec": {
   "display_name": "Python 3",
   "name": "python3"
  },
  "language_info": {
   "name": "python"
  }
 },
 "nbformat": 4,
 "nbformat_minor": 2
}
