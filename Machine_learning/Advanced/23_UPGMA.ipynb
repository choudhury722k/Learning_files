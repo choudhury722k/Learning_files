{
 "cells": [
  {
   "cell_type": "markdown",
   "metadata": {
    "id": "DVcmv3ZIR7yb"
   },
   "source": [
    "### **UPGMA Algorithm**"
   ]
  },
  {
   "cell_type": "markdown",
   "metadata": {
    "id": "RiIkirUTSe76"
   },
   "source": [
    "UPGMA (Unweighted Pair Group Method with Arithmetic mean), introduced initially as average linkage analysis, is an agglomerative (bottom-up) hierarchical clustering approach. It is arguably one of the most widespread hierarchical clustering algorithms. This is because UPGMA is conceptually easy to understand and fast in practice, an important consideration when working with big datasets. It is generally used as a hierarchical clustering tool in bioinformatics and other data mining and pattern recognition areas. Furthermore, it is used in phylogenetics and taxonomy to build evolutionary trees and related fields, including ecology and metagenomics. "
   ]
  },
  {
   "cell_type": "markdown",
   "metadata": {
    "id": "MEfkxC_CSh5r"
   },
   "source": [
    "For more understandig of this algorithm, please refer [How To Do Hierarchical Clustering Using UPGMA](https://analyticsindiamag.com/how-to-do-hierarchical-clustering-using-upgma/)."
   ]
  },
  {
   "cell_type": "markdown",
   "metadata": {
    "id": "kdWzGIKYStTr"
   },
   "source": [
    "## **Implementing UPGMA in Python from Scratch**"
   ]
  },
  {
   "cell_type": "markdown",
   "metadata": {
    "id": "bTlGdqSJSwNN"
   },
   "source": [
    "### **Import necessary library and classes**"
   ]
  },
  {
   "cell_type": "code",
   "execution_count": null,
   "metadata": {},
   "outputs": [],
   "source": [
    "!python -m pip install pip --upgrade --user -q\n",
    "!python -m pip install numpy pandas seaborn matplotlib scipy sklearn statsmodels scikit-image --user -q"
   ]
  },
  {
   "cell_type": "code",
   "execution_count": null,
   "metadata": {},
   "outputs": [],
   "source": [
    "import IPython\n",
    "IPython.Application.instance().kernel.do_shutdown(True)"
   ]
  },
  {
   "cell_type": "code",
   "execution_count": null,
   "metadata": {
    "id": "HJgtBQflN6Wi"
   },
   "outputs": [],
   "source": [
    "import math\n",
    "import matplotlib.pyplot as plt\n",
    "from sklearn.datasets import make_blobs"
   ]
  },
  {
   "cell_type": "markdown",
   "metadata": {
    "id": "gsIvY4DkS1bB"
   },
   "source": [
    "### **Let’s first create the dataset we will be working with.**"
   ]
  },
  {
   "cell_type": "code",
   "execution_count": null,
   "metadata": {
    "id": "0LL8bHuwS5r1"
   },
   "outputs": [],
   "source": [
    "dataset = make_blobs(n_samples = 300,\n",
    "                    n_features = 2,\n",
    "                    centers = 3, \n",
    "                    cluster_std = 2,\n",
    "                    random_state = 42)\n",
    "plt.figure(figsize= (12, 8))\n",
    "plt.scatter(dataset[0][:,0], dataset[0][:,1], c = dataset[1])"
   ]
  },
  {
   "cell_type": "markdown",
   "metadata": {
    "id": "JML3FHz6S8qn"
   },
   "source": [
    "The `dataset` is a two-tuple containing the data points and their respective clusters, we only require the points."
   ]
  },
  {
   "cell_type": "code",
   "execution_count": null,
   "metadata": {
    "id": "4V8x-vJrS_Ix"
   },
   "outputs": [],
   "source": [
    "points = dataset[0]"
   ]
  },
  {
   "cell_type": "markdown",
   "metadata": {
    "id": "lx_Vh9jYTBBx"
   },
   "source": [
    "### **Write function to calculate distance**"
   ]
  },
  {
   "cell_type": "markdown",
   "metadata": {
    "id": "yG7PCvOnTGlU"
   },
   "source": [
    "Next is to write a function that calculates the average distance between pair of points in two clusters. "
   ]
  },
  {
   "cell_type": "code",
   "execution_count": null,
   "metadata": {
    "id": "_Nzf594gTEvY"
   },
   "outputs": [],
   "source": [
    "def average_distance(cluster1, cluster2):\n",
    "    distance = 0.0\n",
    "    n1 = len(cluster1)\n",
    "    n2 = len(cluster2)\n",
    "    for i in range(n1):\n",
    "        for j in range(n2):\n",
    "            point1 = cluster1[i]\n",
    "            point2 = cluster2[j]\n",
    "            dimension = len(point1)\n",
    "            d = sum((point1[k]-point2[k])**2 for k in range(dimension))\n",
    "            d = math.sqrt(d)\n",
    "            distance += d\n",
    "    distance = distance / (n1*n2)\n",
    "    return distance "
   ]
  },
  {
   "cell_type": "markdown",
   "metadata": {
    "id": "gpiPTEQKTL83"
   },
   "source": [
    "### **Define UPGMA Clustering**"
   ]
  },
  {
   "cell_type": "markdown",
   "metadata": {
    "id": "XQx9kbFrTY1e"
   },
   "source": [
    "Finally, using the average_distance method, we can define the UPGMA clustering function."
   ]
  },
  {
   "cell_type": "markdown",
   "metadata": {
    "id": "4TZ3xOh3Tap1"
   },
   "source": [
    "Create a cluster for each data point."
   ]
  },
  {
   "cell_type": "code",
   "execution_count": null,
   "metadata": {
    "id": "-XSb1KYIT5e8"
   },
   "outputs": [],
   "source": [
    "def UPGMA(points, k):\n",
    "    clusters = []\n",
    "    n = len(points)\n",
    "    for i in range(len(points)):\n",
    "        cluster = [points[i]]\n",
    "        clusters.append(cluster)\n",
    "\n",
    "    n_clusters = n\n",
    "    while n_clusters > k:\n",
    "        # using greedy search to find pair with least distance\n",
    "        cluster1, cluster2 = [], []\n",
    "        index1, index2 = 0, 0\n",
    "        best_distance = math.inf\n",
    "        for i in range(n_clusters):\n",
    "            for j in range(i+1, n_clusters):\n",
    "                dis = average_distance(clusters[i], clusters[j])\n",
    "                if dis < best_distance:\n",
    "                    best_distance = dis\n",
    "                    cluster1 = clusters[i]\n",
    "                    cluster2 = clusters[j]\n",
    "                    index1 = i\n",
    "                    index2 = j\n",
    "        # mrge two clusters into one new clusters\n",
    "        if index1 > index2:\n",
    "            clusters.pop(index1)\n",
    "            clusters.pop(index2)\n",
    "        else:\n",
    "            clusters.pop(index2)\n",
    "            clusters.pop(index1)\n",
    "        new_cluster = cluster1 + cluster2\n",
    "        clusters.append(new_cluster)\n",
    "        n_clusters = n_clusters - 1\n",
    "    return clusters"
   ]
  },
  {
   "cell_type": "markdown",
   "metadata": {
    "id": "Zc0J7HkoUEcX"
   },
   "source": [
    "### **Perform Clustering**"
   ]
  },
  {
   "cell_type": "code",
   "execution_count": null,
   "metadata": {
    "id": "-MCPldEFUISM"
   },
   "outputs": [],
   "source": [
    "clusters = UPGMA(points, 3)\n",
    "colors = ['ro', 'bo', 'go']\n",
    "plt.figure(figsize= (12, 8))\n",
    "[plt.plot([x[0] for x in clusters[i]], [x[1] for x in clusters[i]], colors[i])\n",
    "for i in range(len(clusters))]\n",
    "plt.axis('off') "
   ]
  },
  {
   "cell_type": "markdown",
   "metadata": {
    "id": "qX-5A4d7UKX0"
   },
   "source": [
    "## **UPGMA clustering using SciPy**"
   ]
  },
  {
   "cell_type": "markdown",
   "metadata": {
    "id": "RANF2CwIUQOc"
   },
   "source": [
    "### **Import the hierarchical clustering class from SciPy**"
   ]
  },
  {
   "cell_type": "code",
   "execution_count": null,
   "metadata": {
    "id": "aTkvNCNDUUJi"
   },
   "outputs": [],
   "source": [
    "import scipy.cluster.hierarchy as hier"
   ]
  },
  {
   "cell_type": "markdown",
   "metadata": {
    "id": "5yMuBAgzUW9e"
   },
   "source": [
    "### **Use the average() method, which implements UPGMA to calculate the linkage matrix.**"
   ]
  },
  {
   "cell_type": "code",
   "execution_count": null,
   "metadata": {
    "id": "A4ZKozHMUZnk"
   },
   "outputs": [],
   "source": [
    "matrix = hier.average(points)"
   ]
  },
  {
   "cell_type": "markdown",
   "metadata": {
    "id": "HZG3RwLCUb0N"
   },
   "source": [
    "### **Pass this matrix to the `fcluster()` method to create `t` clusters.**"
   ]
  },
  {
   "cell_type": "code",
   "execution_count": null,
   "metadata": {
    "id": "0DcqIvkNUiRr"
   },
   "outputs": [],
   "source": [
    "scipy_clusters = hier.fcluster(matrix, t = 3, criterion= 'maxclust' )\n",
    "plt.figure(figsize= (12, 8))\n",
    "plt.scatter(dataset[0][:,0], dataset[0][:,1], c = scipy_clusters)\n",
    "plt.axis('off') "
   ]
  },
  {
   "cell_type": "code",
   "execution_count": null,
   "metadata": {
    "id": "uRD-ZryXYtMX"
   },
   "outputs": [],
   "source": [
    "plt.figure(figsize= (12, 8))\n",
    "dendrogram = hier.dendrogram(matrix)"
   ]
  },
  {
   "cell_type": "markdown",
   "metadata": {
    "id": "TqiZ69f5R6hm"
   },
   "source": [
    "# **Related Articles:**\n",
    "\n",
    "\n",
    "> * [How To Do Hierarchical Clustering Using UPGMA](https://analyticsindiamag.com/how-to-do-hierarchical-clustering-using-upgma/)\n",
    "\n",
    "> * [Perform AGNES Algorithm for Clustering](https://analyticsindiamag.com/perform-agglomerative-hierarchical-clustering-using-agnes-algorithm/)\n",
    "\n",
    "> * [Comparison Of K-Means & Hierarchical Clustering In Customer Segmentation](https://analyticsindiamag.com/comparison-of-k-means-hierarchical-clustering-in-customer-segmentation/)\n",
    "\n",
    "> * [Most Popular Clustering Algorithms](https://analyticsindiamag.com/most-popular-clustering-algorithms-used-in-machine-learning/)\n",
    "\n",
    "> * [Comprehensive Guide to CLARANS](https://analyticsindiamag.com/comprehensive-guide-to-clarans-clustering-algorithm/)\n",
    "\n",
    "> * [Comprehensive Guide to K-Medoids](https://analyticsindiamag.com/comprehensive-guide-to-k-medoids-clustering-algorithm/)\n",
    "\n",
    "> * [Clustering Algorithm every Data Science Practitioner should know](https://analyticsindiamag.com/clustering-techniques-every-data-science-beginner-should-swear-by/)\n",
    "\n",
    "> * [Beginner Guide to K-Means](https://analyticsindiamag.com/beginners-guide-to-k-means-clustering/)\n",
    "\n",
    "> * [Is K-Means is the best algorithm?](https://analyticsindiamag.com/is-k-means-clustering-really-the-best-unsupervised-learning-algorithm/)"
   ]
  },
  {
   "cell_type": "code",
   "execution_count": null,
   "metadata": {
    "id": "qTSQ6AvHSbvP"
   },
   "outputs": [],
   "source": []
  }
 ],
 "metadata": {
  "colab": {
   "authorship_tag": "ABX9TyOM0025pCCqe2VJbr/7g6q/",
   "collapsed_sections": [],
   "name": "3_UPGMA.ipynb",
   "provenance": [],
   "toc_visible": true
  },
  "kernelspec": {
   "display_name": "Python 3",
   "name": "python3"
  },
  "language_info": {
   "name": "python"
  }
 },
 "nbformat": 4,
 "nbformat_minor": 2
}
