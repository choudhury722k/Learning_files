{
 "cells": [
  {
   "cell_type": "markdown",
   "metadata": {
    "id": "kdrvAAu1sI7A"
   },
   "source": [
    "# Giotta-TDA"
   ]
  },
  {
   "cell_type": "markdown",
   "metadata": {
    "id": "lM1CYhLWsLml"
   },
   "source": [
    "A high-performance topological machine learning toolbox in Python\n",
    "\n",
    "giotto-tda is a high performance topological machine learning toolbox in Python built on top of scikit-learn and is distributed under the GNU AGPLv3 license. It is part of the Giotto family of open-source projects."
   ]
  },
  {
   "cell_type": "markdown",
   "metadata": {
    "id": "Y-PreaSgsMcu"
   },
   "source": [
    "To read about it more, please refer [this](https://analyticsindiamag.com/guide-to-giotto-tda-a-high-performance-topological-machine-learning-toolbox/) article."
   ]
  },
  {
   "cell_type": "markdown",
   "metadata": {
    "id": "NKd2-kwbsc88"
   },
   "source": [
    "# Code Implementation"
   ]
  },
  {
   "cell_type": "markdown",
   "metadata": {
    "id": "kTSsT5RnsVmH"
   },
   "source": [
    "## Classifying 3D Shapes\n",
    "\n",
    "Let’s see an example of this process to gain a better understanding. We use giotto_tda: a high performing topological machine learning toolkit in python. It integrates with sklearn really well and is very intuitive to use.\n",
    "Setup"
   ]
  },
  {
   "cell_type": "code",
   "execution_count": null,
   "metadata": {},
   "outputs": [],
   "source": [
    "!python -m pip install pip --upgrade --user -q --no-warn-script-location\n",
    "!python -m pip install numpy pandas seaborn matplotlib scipy sklearn statsmodels tensorflow keras --user -q --no-warn-script-location"
   ]
  },
  {
   "cell_type": "code",
   "execution_count": null,
   "metadata": {},
   "outputs": [],
   "source": [
    "!python -m pip install -U giotto-tda --user -q --no-warn-script-location\n",
    "!python -m pip install openml --user -q --no-warn-script-location\n",
    "!python -m pip install delayed --user -q --no-warn-script-location\n",
    "\n"
   ]
  },
  {
   "cell_type": "code",
   "execution_count": null,
   "metadata": {},
   "outputs": [],
   "source": [
    "import IPython\n",
    "IPython.Application.instance().kernel.do_shutdown(True)"
   ]
  },
  {
   "cell_type": "code",
   "execution_count": null,
   "metadata": {
    "id": "vyIv_o9oZ-a1"
   },
   "outputs": [],
   "source": [
    "from sklearn.datasets import make_circles\n",
    "import matplotlib.pyplot as plt"
   ]
  },
  {
   "cell_type": "code",
   "execution_count": null,
   "metadata": {
    "id": "FY4Zt00MaTvy"
   },
   "outputs": [],
   "source": [
    "X=make_circles(100)\n",
    "y=[1 if (i[0]>0.1 and i[1]>0.1) or (i[0]<-0.1 and i[1]<-0.1) else 0 for i in X[0]]\n",
    "plt.scatter(X[0][:,0],X[0][:,1],c=y)\n",
    "plt.axis('off')\n",
    "plt.show()"
   ]
  },
  {
   "cell_type": "code",
   "execution_count": null,
   "metadata": {
    "id": "Pw-kbbZkbBKn"
   },
   "outputs": [],
   "source": [
    "import numpy as np\n",
    "np.array(y)"
   ]
  },
  {
   "cell_type": "markdown",
   "metadata": {
    "id": "cSzopohns1pS"
   },
   "source": [
    "## Data\n",
    "\n",
    "We use the same data used in tutorials of giotto_data.Data is loaded from Princeton’s Computer Vision Course. "
   ]
  },
  {
   "cell_type": "code",
   "execution_count": null,
   "metadata": {
    "id": "HdG4nIg2pF21"
   },
   "outputs": [],
   "source": [
    "from openml.datasets.functions import get_dataset\n",
    "df = get_dataset('shapes').get_data(dataset_format='dataframe')[0]\n",
    "df.head()"
   ]
  },
  {
   "cell_type": "code",
   "execution_count": null,
   "metadata": {
    "id": "Oy_dKRNypcfi"
   },
   "outputs": [],
   "source": [
    "df['target'].map(lambda x:x[:-1]).value_counts()"
   ]
  },
  {
   "cell_type": "code",
   "execution_count": null,
   "metadata": {
    "id": "2u6S7qIfq6BO"
   },
   "outputs": [],
   "source": [
    "from gtda.plotting import plot_point_cloud,plot_diagram\n",
    "plot=plot_point_cloud(df.query('target == \"biplane0\"')[[\"x\", \"y\", \"z\"]].values)\n",
    "plot"
   ]
  },
  {
   "cell_type": "code",
   "execution_count": null,
   "metadata": {
    "id": "ZrggGzB75yP8"
   },
   "outputs": [],
   "source": [
    "from gtda.plotting import plot_point_cloud,plot_diagram\n",
    "plot=plot_point_cloud(df.query('target == \"human_arms_out0\"')[[\"x\", \"y\", \"z\"]].values)\n",
    "plot"
   ]
  },
  {
   "cell_type": "code",
   "execution_count": null,
   "metadata": {
    "id": "JJl_SQ0vsgvC"
   },
   "outputs": [],
   "source": [
    "type(plot)"
   ]
  },
  {
   "cell_type": "code",
   "execution_count": null,
   "metadata": {
    "id": "magkHkTgtBED"
   },
   "outputs": [],
   "source": [
    "# plot.write_html('plot.html')"
   ]
  },
  {
   "cell_type": "markdown",
   "metadata": {
    "id": "J4zrh0iBtS6x"
   },
   "source": [
    "There are 4 classes of 3D objects in data with 10 samples for each class. 400 points in 3D space represent each object.\n",
    "\n",
    "We have to transform the data into point clouds to work with the library"
   ]
  },
  {
   "cell_type": "code",
   "execution_count": null,
   "metadata": {
    "id": "CEt9SvJ4tqma"
   },
   "outputs": [],
   "source": [
    "import numpy as np\n",
    "\n",
    "point_clouds = np.asarray(\n",
    "    [\n",
    "        df.query(\"target == @shape\")[[\"x\", \"y\", \"z\"]].values\n",
    "        for shape in df[\"target\"].unique()\n",
    "    ]\n",
    ")\n",
    "point_clouds.shape"
   ]
  },
  {
   "cell_type": "markdown",
   "metadata": {
    "id": "sx5Dw02qteiU"
   },
   "source": [
    "## Calculating Persistence Diagrams"
   ]
  },
  {
   "cell_type": "code",
   "execution_count": null,
   "metadata": {
    "id": "cXjB7t2su6gH"
   },
   "outputs": [],
   "source": [
    "from gtda.homology import VietorisRipsPersistence\n",
    "\n",
    "# Track connected components, loops, and voids\n",
    "homology_dimensions = [0, 1, 2]\n",
    "\n",
    "persistence = VietorisRipsPersistence(\n",
    "    metric=\"euclidean\",\n",
    "    homology_dimensions=homology_dimensions,\n",
    "    n_jobs=6,\n",
    "    collapse_edges=True,\n",
    ")\n",
    "persistence_diagrams = persistence.fit_transform(point_clouds)\n",
    "\n",
    "#Example Persistence Diagram\n",
    "plot_diagram(persistence_diagrams[10])"
   ]
  },
  {
   "cell_type": "markdown",
   "metadata": {
    "id": "fqi0gpietj3T"
   },
   "source": [
    "## Persistence Entropy and Other Features\n",
    "\n",
    "We can get persistence entropies of each homology dimension using "
   ]
  },
  {
   "cell_type": "code",
   "execution_count": null,
   "metadata": {
    "id": "g29wG8divtoT"
   },
   "outputs": [],
   "source": [
    "from gtda.diagrams import PersistenceEntropy\n",
    "persistence_entropy = PersistenceEntropy(normalize=True)\n",
    "# Calculate topological feature matrix\n",
    "X = persistence_entropy.fit_transform(persistence_diagrams)\n",
    "X.shape"
   ]
  },
  {
   "cell_type": "markdown",
   "metadata": {
    "id": "gBjp8SFXtnUw"
   },
   "source": [
    "Since we used only 3 dimensions, we get only three numbers for each data point. To increase the number of features, we can calculate other types of features. Following are some examples."
   ]
  },
  {
   "cell_type": "code",
   "execution_count": null,
   "metadata": {
    "id": "GXV0jYGnv_Ts"
   },
   "outputs": [],
   "source": [
    "from gtda.diagrams import NumberOfPoints,Amplitude\n",
    "from sklearn.pipeline import make_union\n",
    "\n",
    "# Select a variety of metrics to calculate amplitudes\n",
    "metrics = [\n",
    "    {\"metric\": metric}\n",
    "    for metric in [\"bottleneck\", \"wasserstein\", \"landscape\", \"persistence_image\"]\n",
    "]\n",
    "\n",
    "# Concatenate to generate 3 + 3 + (4 x 3) = 18 topological features\n",
    "feature_union = make_union(\n",
    "    PersistenceEntropy(normalize=True),\n",
    "    NumberOfPoints(n_jobs=-1),\n",
    "    *[Amplitude(**metric, n_jobs=-1) for metric in metrics]\n",
    ")"
   ]
  },
  {
   "cell_type": "markdown",
   "metadata": {
    "id": "aBpnRiKHttHR"
   },
   "source": [
    "## Classification Pipeline\n",
    "\n",
    "Finally, we can put all these things together and build a classification model."
   ]
  },
  {
   "cell_type": "code",
   "execution_count": null,
   "metadata": {
    "id": "a60O3MFEwl91"
   },
   "outputs": [],
   "source": [
    "from gtda.pipeline import Pipeline\n",
    "from sklearn.ensemble import RandomForestClassifier\n",
    "\n",
    "steps = [\n",
    "    (\"persistence\", VietorisRipsPersistence(metric=\"euclidean\", homology_dimensions=homology_dimensions, n_jobs=6)),\n",
    "    (\"features\", feature_union),\n",
    "    (\"model\", RandomForestClassifier(oob_score=True)),\n",
    "]\n",
    "\n",
    "pipeline = Pipeline(steps)"
   ]
  },
  {
   "cell_type": "code",
   "execution_count": null,
   "metadata": {
    "id": "wBmWmoO51B9y"
   },
   "outputs": [],
   "source": [
    "labels = np.zeros(40)\n",
    "labels[10:20] = 1\n",
    "labels[20:30] = 2\n",
    "labels[30:] = 3"
   ]
  },
  {
   "cell_type": "code",
   "execution_count": null,
   "metadata": {
    "id": "GgjhChNMxPoT"
   },
   "outputs": [],
   "source": [
    "pipeline.fit(point_clouds,labels)"
   ]
  },
  {
   "cell_type": "code",
   "execution_count": null,
   "metadata": {
    "id": "T8vM1Pejx5YB"
   },
   "outputs": [],
   "source": [
    "pipeline['model'].oob_score_"
   ]
  },
  {
   "cell_type": "code",
   "execution_count": null,
   "metadata": {
    "id": "DPJwVTaUuNpj"
   },
   "outputs": [],
   "source": []
  }
 ],
 "metadata": {
  "colab": {
   "authorship_tag": "ABX9TyMid8IOMOue/glG0KFeHZ0B",
   "collapsed_sections": [],
   "name": "1_Giotta_TDA.ipynb",
   "provenance": [],
   "toc_visible": true
  },
  "kernelspec": {
   "display_name": "Python 3",
   "name": "python3"
  },
  "language_info": {
   "name": "python"
  }
 },
 "nbformat": 4,
 "nbformat_minor": 2
}
