{
 "cells": [
  {
   "cell_type": "markdown",
   "metadata": {
    "id": "H0O3K_2jjI7n"
   },
   "source": [
    "# **Evaluation Metrics in Classification Problems**"
   ]
  },
  {
   "cell_type": "markdown",
   "metadata": {
    "id": "6kry-vbK4MLv"
   },
   "source": [
    "Evaluation of a machine learning model is crucial to measure its performance. Numerous metrics are used in the evaluation of a machine learning model. Selection of the most suitable metrics is important to fine-tune a model based on its performance. In this article, we discuss the mathematical background and application of evaluation metrics in classification problems."
   ]
  },
  {
   "cell_type": "markdown",
   "metadata": {
    "id": "gp5gxHre4XgN"
   },
   "source": [
    "We can start discussing evaluation metrics by building a machine learning classification model. Here breast cancer data from sklearn’s in-built datasets is used to build a random forest binary classification model. "
   ]
  },
  {
   "cell_type": "markdown",
   "metadata": {
    "id": "6VhfUfIa4akx"
   },
   "source": [
    "## **Lets Code!**"
   ]
  },
  {
   "cell_type": "markdown",
   "metadata": {
    "id": "wsTHMCig4d1q"
   },
   "source": [
    "Import necessary libraries and packages to prepare the required environment."
   ]
  },
  {
   "cell_type": "code",
   "execution_count": null,
   "metadata": {},
   "outputs": [],
   "source": [
    "!python -m pip install pip --upgrade --user -q\n",
    "!python -m pip install numpy pandas seaborn matplotlib scipy statsmodels sklearn --user -q"
   ]
  },
  {
   "cell_type": "code",
   "execution_count": null,
   "metadata": {},
   "outputs": [],
   "source": [
    "import IPython\n",
    "IPython.Application.instance().kernel.do_shutdown(True)"
   ]
  },
  {
   "cell_type": "code",
   "execution_count": null,
   "metadata": {
    "executionInfo": {
     "elapsed": 2308,
     "status": "ok",
     "timestamp": 1620794567236,
     "user": {
      "displayName": "Aishwarya Verma",
      "photoUrl": "https://lh3.googleusercontent.com/a-/AOh14GiG6BREocxcd5R6rzlQGApoCsYso7BQAh63eXNz6Q=s64",
      "userId": "06108390091304498033"
     },
     "user_tz": -330
    },
    "id": "nGNMbVdtbOX4"
   },
   "outputs": [],
   "source": [
    "from sklearn.datasets import load_breast_cancer\n",
    "from sklearn.ensemble import RandomForestClassifier\n",
    "from sklearn.model_selection import train_test_split\n",
    "from sklearn import metrics\n",
    "import pandas as pd\n",
    "import numpy as np\n",
    "from matplotlib import pyplot as plt\n",
    "import seaborn as sns\n",
    "sns.set_style('darkgrid') "
   ]
  },
  {
   "cell_type": "markdown",
   "metadata": {
    "id": "P-k3vvaE4m9K"
   },
   "source": [
    "Load data, split it into train-test set, build and train the model, and make predictions on test data."
   ]
  },
  {
   "cell_type": "code",
   "execution_count": null,
   "metadata": {
    "executionInfo": {
     "elapsed": 919,
     "status": "ok",
     "timestamp": 1620794577139,
     "user": {
      "displayName": "Aishwarya Verma",
      "photoUrl": "https://lh3.googleusercontent.com/a-/AOh14GiG6BREocxcd5R6rzlQGApoCsYso7BQAh63eXNz6Q=s64",
      "userId": "06108390091304498033"
     },
     "user_tz": -330
    },
    "id": "Xt4r13Du4kce"
   },
   "outputs": [],
   "source": [
    "# choose a binary classification problem\n",
    "data = load_breast_cancer()\n",
    "# develop predictors X and target y dataframes\n",
    "X = pd.DataFrame(data['data'], columns=data['feature_names'])\n",
    "y = abs(pd.Series(data['target'])-1)\n",
    "# split data into train and test set in 80:20 ratio\n",
    "X_train, X_test, y_train, y_test = train_test_split(X,y,test_size=0.2, random_state=1)\n",
    "# build a RF model with default parameters\n",
    "model = RandomForestClassifier(random_state=1)\n",
    "model.fit(X_train, y_train)\n",
    "preds = model.predict(X_test) "
   ]
  },
  {
   "cell_type": "markdown",
   "metadata": {
    "id": "6u9bFCh14qPa"
   },
   "source": [
    "### **Confusion Matrix**"
   ]
  },
  {
   "cell_type": "markdown",
   "metadata": {
    "id": "V9LOlzaf4t93"
   },
   "source": [
    "Without a clear understanding of the confusion matrix, it is hard to proceed with any of classification evaluation metrics. The confusion matrix provides a base to define and develop any of the evaluation metrics. Before discussing the confusion matrix, it is important to know the classes in the dataset and their distribution."
   ]
  },
  {
   "cell_type": "code",
   "execution_count": null,
   "metadata": {
    "colab": {
     "base_uri": "https://localhost:8080/",
     "height": 513
    },
    "executionInfo": {
     "elapsed": 1069,
     "status": "ok",
     "timestamp": 1620794615007,
     "user": {
      "displayName": "Aishwarya Verma",
      "photoUrl": "https://lh3.googleusercontent.com/a-/AOh14GiG6BREocxcd5R6rzlQGApoCsYso7BQAh63eXNz6Q=s64",
      "userId": "06108390091304498033"
     },
     "user_tz": -330
    },
    "id": "BzNZRLmU4o0w",
    "outputId": "4ce5185d-58d6-4770-cdd7-93ba42d6cb84"
   },
   "outputs": [],
   "source": [
    "plt.figure(figsize=(7,7))\n",
    "y.value_counts().plot.pie(ylabel=' ', autopct = '%0.1f%%')\n",
    "plt.title(f'0 - Not cancerous (negative)\\n 1 - Cancerous (positive)', size=14, c='green')\n",
    "plt.tight_layout(); plt.show()"
   ]
  },
  {
   "cell_type": "markdown",
   "metadata": {
    "id": "TnZ7Z52O41dz"
   },
   "source": [
    "There are two classes in the dataset. 0 refers to ‘Benign’: a non-cancerous state, we simply denote it as ‘negative’. 1 refers to ‘Malignant’: a cancerous state, we simply denote it as ‘positive’. In the dataset, there are 357 negative cases and 212 positive cases. It is clear that class distribution is highly imbalanced. \n",
    "\n",
    "Knowledge of the following terms will be of more use to proceed further with metrics.\n",
    "\n",
    "True Positive: Actually positive (ground truth), predicted as positive (correctly classified)\n",
    "\n",
    "True Negative: Actually negative (ground truth), predicted as negative (correctly classified)\n",
    "\n",
    "False Positive: Actually negative (ground truth), predicted as positive (misclassified)\n",
    "\n",
    "False Negative: Actually positive (ground truth), predicted as negative (misclassified)\n",
    "\n",
    "To plot a confusion matrix,"
   ]
  },
  {
   "cell_type": "code",
   "execution_count": null,
   "metadata": {
    "colab": {
     "base_uri": "https://localhost:8080/",
     "height": 297
    },
    "executionInfo": {
     "elapsed": 922,
     "status": "ok",
     "timestamp": 1620794636597,
     "user": {
      "displayName": "Aishwarya Verma",
      "photoUrl": "https://lh3.googleusercontent.com/a-/AOh14GiG6BREocxcd5R6rzlQGApoCsYso7BQAh63eXNz6Q=s64",
      "userId": "06108390091304498033"
     },
     "user_tz": -330
    },
    "id": "XivLAU0b4weL",
    "outputId": "942d9d48-a249-48de-cba9-42f2d8170499"
   },
   "outputs": [],
   "source": [
    "metrics.plot_confusion_matrix(model, X_test, y_test, display_labels=['Negative', 'Positive'])"
   ]
  },
  {
   "cell_type": "markdown",
   "metadata": {
    "id": "KqK09kgj45xK"
   },
   "source": [
    "Here out of 114 total test samples, 72 are True Negatives (TN), 37 are True Positives (TP), 5 are False Negatives (FN), and there are no False Positives (FP)."
   ]
  },
  {
   "cell_type": "markdown",
   "metadata": {
    "id": "5Pcwa80y4836"
   },
   "source": [
    "###**Accuracy**\n"
   ]
  },
  {
   "cell_type": "markdown",
   "metadata": {
    "id": "u9a2L_AV47-f"
   },
   "source": [
    "\n",
    "Accuracy can also be defined as the ratio of the number of correctly classified cases to the total of cases under evaluation. The best value of accuracy is 1 and the worst value is 0."
   ]
  },
  {
   "cell_type": "markdown",
   "metadata": {
    "id": "gAU7ANS15CYH"
   },
   "source": [
    "![image.png](data:image/png;base64,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)"
   ]
  },
  {
   "cell_type": "code",
   "execution_count": null,
   "metadata": {
    "colab": {
     "base_uri": "https://localhost:8080/"
    },
    "executionInfo": {
     "elapsed": 898,
     "status": "ok",
     "timestamp": 1620794693214,
     "user": {
      "displayName": "Aishwarya Verma",
      "photoUrl": "https://lh3.googleusercontent.com/a-/AOh14GiG6BREocxcd5R6rzlQGApoCsYso7BQAh63eXNz6Q=s64",
      "userId": "06108390091304498033"
     },
     "user_tz": -330
    },
    "id": "Vz_3lbai43VS",
    "outputId": "489b3548-f0b7-41ab-a32d-e7bb7f1b330f"
   },
   "outputs": [],
   "source": [
    "accuracy = metrics.accuracy_score(y_test, preds)\n",
    "accuracy "
   ]
  },
  {
   "cell_type": "markdown",
   "metadata": {
    "id": "tDusoJIR5Hvc"
   },
   "source": [
    "It gives 0.956 as output. However, care should be taken while using accuracy as a metric because it gives biased results for data with unbalanced classes. We discussed that our data is highly unbalanced, hence the accuracy score may be a biased one!"
   ]
  },
  {
   "cell_type": "markdown",
   "metadata": {
    "id": "WhE4k8SpGB0L"
   },
   "source": [
    "### **Precision**"
   ]
  },
  {
   "cell_type": "markdown",
   "metadata": {
    "id": "7ZoNNdnXGFW1"
   },
   "source": [
    "Precision can be defined with respect to either of the classes. The precision of negative class is intuitively the ability of the classifier not to label as positive a sample that is negative. The precision of positive class is intuitively the ability of the classifier not to label as negative a sample that is positive. The best value of precision is 1 and the worst value is 0."
   ]
  },
  {
   "cell_type": "markdown",
   "metadata": {
    "id": "hH1QifQUGHM7"
   },
   "source": [
    "![image.png](data:image/png;base64,iVBORw0KGgoAAAANSUhEUgAAAykAAAC5CAYAAAAs5HC0AAAgAElEQVR4nO2dzUsb3R/2n38li0Cymqxm8QNLN8GFUqhSqIUblHsR6SLShdiHWxQqFgwuXOSBQCCLQBaBgRICIkKRgEQXhiwMgRICRQUhQiGCMIvA9SzOOcm8JqN9cbTXB7KozcuZc84k3+t83/4PCCGEEEIIISRE/J/HHgAhhBBCCCGEWKFIIYQQQgghhIQKihRCCCGEEEJIqKBIIYQQQgghhIQKihRCCCGEEEJIqKBIIYQQQgghhIQKihRCCCGEEEJIqKBIIYQQQgghhIQKihRCCCGEEEJIqKBIIYQQQgghhIQKihRCCCGEEEJIqKBIIYQQQgghhIQKihRCCCGEEEJIqKBIIYQQQgghhIQKihRCCCGEEEJIqKBIIYQQQgghhIQKihRCCCGEEEJIqKBIIYQQQgghhIQKihRCCCGEEEJIqKBIIYQQQgghhIQKihRCCCGEEEJIqKBIIYQQQgghhIQKihRCCCGEEEJIqKBIIYQQQgghhIQKihRCCCGEEEJIqKBIIYQQQgghhIQKihRCCCGEEEJIqKBIIYQQQgghhIQKihRCCCGEEEJIqKBIIYQQQgghhIQKihRCCPlJ+vuriETjgR4bNdP+4rOM73O16UWs5E/RGzzOdRHyYNo5vAh4T8wWu489Wm/CdG9eV7GsJzBbCDJXJhrZOcT0dRz1f/vICPltUKQQQshPUv+cwOx/Blo9KUCkgWY1vsxuCUvRVRx4GQ1mG/nXcUSiKRS/y78NTFx83UIyGkfswyFoa5CnxEV5EdpiDvXv8p7oH2IlGkdks4ahTP9Rw/bLJLLtxxplAMJyb44RKeZZDkXbHFKkkOcBRQohhPwUbeR3LIYXgE5xDpGo0/i6RHG36mPQdFF8HUfkdQkd299NHG3GPd6LkDBzi4O9EjoWL4NZ20IkGsfK/q3tmfW9HFqh9hSG/N4cXKKcyqAR6jkk5GFQpBBCyM/QNVA+t/7hBuV/44hoDsNhcIqyceP9HtcGlqJxvMi5rZ3Gjggv2T77lYMm5Ddi1lCu2sVIYyeBSDSF8rX1r5col5t/dGj3Jsz3Zr+LyqcZu3eKkGcERQohhPxKZFhLbCe48SVyWrxOZKXgiS6MQk0IeXK0kX0ZR+RfA70gz7Plb5nolNLQtPVRqOT3Kjbe6Iilqvb361Wx5JX3BaB3XMDK2ynEonFE9AVs7F8GGvnP3pv9dhXb72egReOIaFNYyjfRd3g9zG8lrEzriER1LJfa6PeqqJyo/21iW9OhaXGLyDPRyC2I9xw+MmgA6BkpaLqOiOU7yOx1UTf2sPJmEbb0n3YOyegMdpseEqffRmUnjaQeRySagJ4qoHUXaMoI+WVQpBBCyC9EJdF7GUreyLARp+cFgHmSwQvmpJCnjkeO1liae9Bl/taFkRLCQuVzXVWRLbVRz80gEk2hYlEpIqTMkfc1uMTBxxnE3u6hfiVET/1zEhFtD42JA/mZe9NEK7eAmJZC8Vx6lb4bWNLimLfOw6CJbS2OF59PhXj5bmBJW0T5yv5uneKcK+RMXK/TOwXArGFDfQdJ4abEzJLVm3slxhPbsx+omOc5zGszWDPaYkxXwpu09MXHE0zIb4IihRBCfhkqTt0nQd7zJcKgiKxWofLuYd6gZaxjVosj9jbHE0zypPHO0fJD3kP/Gug0c1gzLtE/XIf24RB9mOictWEO77MM6hbx0NhLOAx5E/VPOiJvCpb8GBP1TwlE3pRwMXEoD783hbiawfaZ/bCi/jmOyMscWuoPMpzMmqtT33EKKOFhsoecyTlw5cqogxL7d1DvS1oIlc+n9iefZOx5Qt0S3mkJbHy1/O17CfPRBDaOGVRG/iwUKYQQ8quQp6KTw1osnGUQi8Yxv7qF5VcyHCWqI7m4ivzXris0hJCnhU+Olh/yHloqH6KYb3rnWijxYMvFcBvyZm0LsWgSWUvOWK+2haSHePDkoffm9xLmo3G88FBlIo8lYxEhlyi+iSMynUHD7zCiW8KsU+QpD4wrV0aKF6eHR82Z47upY5TQUFMx6IqxpC0FPu66KKYSiKUMXPC7iPxhKFIIIeRXcd+wFqiE4nt4Xgh5SniVHh5HO4cX0Tls7FVHxrMD83gLMWdI5XkOL6IJSxK7NP5fl9Axb3FxXkU2NYWYnkbxWzCPwEPvzVY26R2GhUuU/3F4UoBR2JWPELgoLbhFXtt5vRLzFBuaI6zL+tnWMLe7U5QPRx6T0bzewrzuol7awryewOznGns1kUeBIoUQQn4R9wtrAYInFBPyNPErPeyHuIfGezqEeNjC0dADIPJObH/rljA7bLw4h+XNAspnlzADG9sPvTfl6/4x3OFk0sPiVVRD5bjMuw44pCdq06vMueV6FWcZxKJz8DonqX+2enFMNKo1i7dFhdCJBP/ZxVVsl2ro/Ah63YT8eihSiOCui0rWQIshp7+RJrZVAmPQ0IdfzMXXAirtYMYCuS/3DGsBHuR5IeQp4V162A95D40TBgMhAmKfTodG+8VhFfmdJCLWal+qW7xXlb0g9+eD7035Pe/6XBONnaSoBub5liaONhPu748fVSy7RJ6cJ4+k/VY26fbUSBp7I8+Q2T515NOoamU+a0VPCnkEwiNSBqcjA871SEB/lcZ2tc347N/B1SE2NquMN/1D9L6kPX9c/tjn1zJYybVZV/9XMyYO3Q8RFuJ96knIk0eGHtlyHMYhDfLl6piDFCkeVKiXeVZCpSsaLs4WuyNjurknckicYWaDSxx8XLdVBfPi4fem9KQ4EtTNswyS0TiSeyrP5hYHO/ak956RclUssyXBq2uTIXRLxg0wMC3eIUtezgAuYaHev/yti4Yr5O0GlVTc85rN8xzeZUPez4Y8S8IjUgBgYKKVn0MkGsdsvj268cwbtIqiDGFyxyeR7rHo17Cmx6F9fIDR+a2AWS2B2fwjtqu9MrD0akzC3qNxi6P/dET0dRwEdDd3CnOIaXN4zOmcjPgxdccL/1k6xUXMZkN2Lz1lzC7KqQQi0TiWy8H6L5hdEYfuGbJByFNncIv6zgwi0Tj03dNAYVZeVamc9L6khqf9/XYVlbPbYYWs7bMbVLLywG3QRnY6jkh0Bhtf5fftjzbKm6vIN8d7k3/23uwUFxDRUih3xYv75yUsac7cjjayL5PYOJQhaINLlFMJR+8XGYL1j4GLqyqyX+R3y1lGigkTjXxh9PstQ9y2T27tf1dzZ6QQic5g7dD796e/v4pYNI5YqoRWH8DAxMVxDis8xCSPRLhECoCL8iIi0QR2XaL9FpV0CJuaPWWRMrhEOaUHjhX+s4wRKYMuijl3EuaTECnXBpbCcHI+aCP7MmCFGzIW1XXa6f11f4cpmp5e48cWroT8KoQx7LHHx/bZGJUeHufkMJs5zGpx6G+3UFbegG8FJKMJzH+qomM1zK8OsfFGNjacWsBKvobO2B/qX3RvDm7RyKtGiDqS7zPuMNveIQ7Ogd5JDktTCUSiOuY3Dfv4cYNKOuFuPvmtgGRUx+zHAhrWyWrmoEUTSL4voOF1nScZLBnjDlFMtPIp6Npo3OUzfi+RxyNkIuUWBx/8Ty+UMeCqZkEeRH9/FTFtC/UnZqdeGCmshVJYTaa/v/po+ShOOsU5RKZzaIVgLIQQQgghVsIlUlQdb894fREmEzwBj4xHlmd8Sp2sB7doGetIhsET8SDkSWHQUpy/G1nC8rc36FIJrBMfv/feDjaGv/vxc3ifQnueqP+k1+ix54kPPvjgI0yP50q4RIpsnORVTUN0b43jxedTl4Fncy2rZLW7LoofphDz6io7uEHDyGB5WriBI/oCto89Tub7bVR2lMs2Af1tBnUVenRtYEnXoUXjcHl+BpeobC5Ai8YRe7WOynfA/GqM4mzPMojpukjq8+gWi8EtOl8LWHkrm0fpC9gwupbrvkE5pUPTxLiGnqV+G2X5uRPDz8ZVLpHxvWJORXxwv21gQ45HWyx4d9ntd3GUX8X8lIjN195Y3PHWpzULQ/f2u3wT/UEXZUPFaN2g/K8OTRefP6yD/62Eed1xY8oKJo2dBDRdfKa6HrPXRd3Yw8rijN3rYjaxOx2Hlq56hhT0uzXkVxekuzsB/YOBTlAbftx+AUZNysaEPPROClh5oyMSTWD2v0NcyHvCFpLXbyKfGq1Fow90yoatmstFdUvMlzaHteolcFdD2el9um//gofSLGD29VyAxzoOfmMd3sf+EXkKj5+jiXygdZ7D2j5FCh988MHHr3o8V0IlUkTd7ynsHt8Ok+zM/iXq2UVheKfHdDyVZQlX9m+HHVIj0bhbBHw3sKwnML93igsTwOBG5Lo4Svb1ahmRL/KfgdYPADDR2JtxnAB6d3ZtZZOIaFs46kOc/hdTiLnEiPAMubrF9k+x+yqB2KsMjq6E6dirriIWTbiMW1F/XiYZXh1iN1fDhalqoY9PPhS5P+Nq15s4+hhH5F8D9WoO5fNby1js5R8BoH+yJ+brc200r6sJRLQUKtbTcVm9Zb4gxdF1DRvTjqZczmsbIktPepWUtHbk7VUtIituN8IHl6ikddg7/kIkee7NITa9PrxWNPfwYuwcjQi0X2STMk8vkMfn949zWPl3DnYPg8zNelNAZwBgcIOjTzP2a5RNzTa+yvdpl7CkeX2uPPm2Nvd6xjz2j8hTeDwVHnue+OCDDz7C9HiuhEikqBrdC1jZTGNWeTm0KcwGSd46yyAWTaF8baKxt47ylYn6Jx3vrJV2rgwsaQlH4pg77GlYKtBaSew8B12bQ7ZpMaZleJpduMgyftZGTmYNG45yhMKodnSLvWtiezqOyMsM6jZPhTQmbULKkmR410Q+bylr+CE+0fCcmN+jQu+0Oeyeua/ZOhY1Xy4vlwzzsQkxWRZy+2T0p05xHeUr24d7J1DKyiVOQSPeY86V66GaY7lqxg9OsW3zsJlo7MwgMm2vcia6705uzBd0v3SKcz716+Xnv9zCkfWCVVlum8BtYleL28tbdktYs+xzUf1m0TKnJo42M6i7BP6EuviEEEIIIY9EeESKCj15YI5EKycaGNVre3ajWjG4FAaZ1Tgd3KKRW0BMS40Muh+HWNHE8zqTEop9Orv2vqSE52NMFQ0RomYNE1ONnhIeJ/cq1tty+i9Dh2YLNZT3LB4mJSLGhvCoAgVjRIoMM0o6PT3KS6FEmNnE9ss4ItqquwqXVzMtGW7lFAQ21LU5JlbMmZeHyLsj77BevTMc77uBrEXoCDHjyM34XsXadICS14H3i98YhdcoFk1i+8R0/gc2ok7PkfDQjO3IfF3FkhZHLDXG82gd05PN8SGEEELIcyU0IkWE9zw0oVKETsU2M8iWvI+9xal4HCv7NzB/XKJVLWDlVQLaYg51yynyRWkBEZ/TeieNHY/usMCw3rm/IenRVVeGQUVeelRbujLwznmiLnNKktMOL4QUF+PHP1mktHJJRKJpVDyER8xiOPeraeEt8XA3qJAyp9hQngdfI/osg5jTy6TG7FWeUubQeO0dEfpm9RSYqJes+SjSk/Yyh5Z5i173FOWdRWjaHNaMyc1DA+8XKcJdAlTV8vdqdubnOVIeN6u4do7LCNJX6A+JlJAkzpPfzZ9LnCeEEPL8CY1IaewkHm4sSSP1xT8ln3KqMnwoGkckqiP5Oo2NvIF61+mxUBXExudzCOQpvZ/HYmhIengYpMFqNd5FEyvvfAsvIaAEwLxjwoS4mDz+8eFech5c12ai/imBSDSJ7DkwEjtOQSH+T/S1Uc+1MzSinZ6a4TU4vB/Sq+CV6C/mznvvOPvumGcGDqyGvRQCkWgcsak5vFvNoFhti7yaiQTfL0KEL7pEhRDP3hW2RMdjn/e+ks3GfEsIyxAyT8+c4g+Fe4UkcZ78bv5c4vzTwyrgQtbrKwjWoiyLBbRCUZ7w78BWGMir0E4IeApjJE+TkIgUafB7xutPRhipiTGn2ROMsaGR5xFW5Yc0bscmVV9J8eQwxIXBas91UDe564Rx2DXX+sOm8k6cPU6k0TyhGRag8hZ8Kk1JEeX6PykGY0PxMmZe2zkko47wOvssoP7ZywiX1+AM+5PeFXeDPClAffaOEn/bZwDu2qi3HXvEKyTNylhPSvD90thJjMZoec/GXsJbiCgRMmYtVc6N7x5UIY6+95W87/6SxHnByIs4+eHs16T2u8dD5s5VPKrZPZiToB4o7z3g11AvEk1Af5XGdrU7PpTxCSA8perh4fm1HVA9vhHVKc49PSPuqoplPYGlYhv9QRf5mWCRBuQXIvMTR7aEiUZ2DjF9XRToCQOuMf49iAajOta+BunfFsK1CzHhECnnInTJK2QoCL5hV0NkMrvXaftdF8W0rMSlkpK9mkleGdgojV4sDABpnJsmzIFXAvglim/dBrBtvHfig5Qx7RQpneICIs78Fj+vgjXsSY7JFymyvL5QhIhyzJUKYbPlkiiDzyFSBl0RQmUNR/IqHnC85X6t9RoGJky5Dlbvinl9OQrDkvkrygNlOvNcpAjZPrvB0ReP0CeZyO/lEevVtrBUGOfaC7pfLFXJBm0UC6NxCI+WQ+TcdVHJr+OdWuMB4Jn8Pji1F25wJNADKhzNR0SN7Uv0TBmcYluG8vVse8uy3wcmOqWU77z099eF5+3z6ege+9GWFQVnJhZauN94m9j1yquS47z4uoWkh4duyI9DrEXjiGiZ0YGGqjjo48l8cpg3qO/OCM9yyScPUH7X5M8fswms+B54Ukac/C6PqXuhf4g1bQb5b489sL8MV6Gdnzd0zbMcir9yK3oVA/pLGCdS3PNMkXIfHl+kmF2ZvxHHSvUhIQBjytJa6O/L0rlvc2jI0zbzqobt91uoDD0UKik5juTOqTCEByYujnNYyVoNXGmcvy6hM6ysJf6W/FQbhgr1TzJIujw8ljCxqyqyX+SP6t2pSECfzqCuSheX0tCiOt7l266qWV5Vp4ZhT+0uyqUJCd9jmjmK0DvLD/qPNoppHZHpdXuoFEan+cP56svn6ovIn1tG0M7hhZZCUb2nEj2OhPNR6JaJRr4gBZE8wf5wiL6tkhmGuTkbNRMXX3KoOI01KULm8z6nxkNP1QzWql1hdA5u0SqtYjnfnJCTEnC/yGIDS8YlLg6raFgGIgzk5LBPT/+8it1iE/0zVQXtBgf5Ki4GbWRfqtNM8dqLcgqx6MLQuO7vryIyvTUsXY3+KbanrZ4vB3+qmWOYaBewbbsfpefO6W36XsJu1dugVflzrtNkFToYQPQ1doKG2Ekh7Puelyinx3igfQtp3Ce0Nezc4uCD7K3kldMH+f3/yd1j64/yBI04cRjnHbJL/hw9IzXhIPaeDC5RTv3C98NvGONz4DfM89/Go4oUlRdhfwQItbIypiytHRMdQza4G4Y7eCRGDy5xtJMaNfN7u4Vi0ymebnHwMeFosthEudSFeX2KrGq0N51G9sT52i7y03HEplLu/+uNXhvRpjC/WrAl9StauaTnl0GvmkZMm8JyYXLCN6CEm/OEVoq+qTnZlDCO2NQCVvKn6Pm8Z+8kJ5sz+j+3Vy3hqH+LlloDbQrzmwY6Ds9H/3Adsaju+L9bHP2nIzK1gLWiQzh8KyAZTUBP5VD3iou6NrA0qcqVdd71GbzzmXdPguyXbwXMagno6ZLrenHXRn5Rl69dRV7tiWZOCNTPVfGaXhXF2q1oqvlGH36WtVlmo1xCx7xBPSvHo89gOTtm3YzUmJyW50nHMOzXq0IYnYccJ4aviBAi3sO4V01QA4RbBhYpnmGlJo4KqsT5JcqlU+/XAsNCF+5wsGdUfrp/iJXXJdSraRH26xLdtzj48PjiQBhxzhDd8CL6K8W9i3qQP4jM7/xVTXf7XVScvbV+ml88xufAb5nnv4/H96SQx0N6M5atJ8aykhhjjp85gy6Kb8aUMf5LUPlswQ1Y6Qn18myoyncBTuyDihQRrufItbg2sLQ33nOs8C2kIcMkn5LR7IdZ2xIhVKpkt3P+zRo2/K7zexUbb3TEUlW7sJTeT/U92MotICkPYpTgu6iKAxfto6XH1rcSVqYSiL0qOMS/9L5v1tBrlrDyRkckqmN+p+Z9iNBvo7KTlgdFCeipAlp3lveRh3oq5Fc0kw0YhjW4RauawbLsRRabSiHftPwGWIqJDB/3yRcdyMMoOV/amy2XBx4AeieF4Twsf7kc5mCNQp5NdEqrYg70NIrtW/SqVXe/J6/rsXrxezVsv51CLCqaDffMNipV//YA9iIH4j4djTWB2f8O5aHXPddi0jgV16fIvp8ZFSm4sleG7BkpaLp8D68IElnkQByc6ZjfVOM10ciJ4ge+h8K+++5+YxyPiU41Iw42ZR82VeBm+D08uMHRjriG2KsMjq5NtL5UffJbgeBrZmHSfaDGOm4PXhtY0nUxp8ODY/959lo783sbldIWlqbsB8b9/VXEnM2wh/8ZcJ2eARQpfzvXh1h7O2oeKYy2Z3C6SsbS31/F7KQeMM8eZWR45Hv4IQ04d4ELWaQgYE5KMJHiVapc5L4EMwb8C2lclEVS/XPISWns6NK4UdUHHaLuLOMd8nhVRbbURj03g0g0hYplkkRIn0PcXRtYkt+NF4cGjq5V9UDxWrNZQrF5K41tR06fFFDvPmSQ/Sr2jgjXdBt25nkO89rMqAS6LMBiK2TSq2JZhvyqku7OYiye3LWRfZtALFVCS86RM2xUMa5qoi+9GrZfJaClC2hcKYE3g9ievddTK7eAmJ4ehv/2j2vI7jhyw2RYswqFvSinELM2SbZcT/KjIa5H3YdD0anuoZIwUmUIrLWZsB+NvSlEXhdw9CWD7LGY+15VhI3bDvaCrMXEcYp56ZTS0KzzcpLBu+kZ92+y3E/Ow0QhkHQs55si7HzQRnbGXnBG7G3390+gfXefMXoxuMTBxxkhPOT+uDg0sO34HlY5v8XvAAa3qO/M2BsY+xB4zYLeB0H2oCrO4fiO8Ztn29qpnFhZ0MR6WKb2krOAUbB1ej5QpBDg6hBr/xm4GMibzbciF3kOmN9K2HbmOf2NPKBwQKc4J4SIxQNlfj9FdlEXeU37405oRwQSKarBresRwBgFhoIqmWuOEvzvLlHPLkKLxpH86HG6+ORoI/vSIjJlERZrAn1jx0vUmeictWEOq3/Zi1I09hKuKlz9/VVEXpfQsJQxF9XFVnFw1cRRUwxCGFh241716Voquwug2AqrdEt4pyWwYU3A/V7CvCOMrVOcEye3V1Ws7TVhfisgOSl007P4CXyrMtU/x+9X+U+W3bf1v+pVsRSdwW5zNPYLI2VvoGwZg9Vj42reOzjFtlXsDLoo/pNAbLNmCQEWuZYjb1rTdW0X5YxNkHojPabTi8hbvc0eazZxLQKN02delIfA8ZssBKRdRAuj1l5kp/clhcj0niUPUu53Z4W5gPvuPmN0I8viO/ef6gNn+R5u7Di8d1cGtica4QHX7B73wcQ9CPj0QPOZZ3ivXWMviUg0jnfOwjfltP27PuA6PScoUohgcIPa//u/mInGEfl4GCinhTw9esclFM+e54nLvZHhWcEbC8pT2ZcprK0uWnK25rC8Y6DhKTrGlC32eFhP0rxC0cyugSUtmOdHJT0v/beKdzKkQZVKLj+XPdAtYdZ2gmlpzjoAhOEypjiAZ2EBrypcwuiIbe6hPBSi0ihKl3BQU15J7/LwwxLktu9VadwNjSdZFdGaA3LXRTGVcDS+FXsqtlOVRTWCTZUIHfRKgneMw3pt94inb+VmvPuCWWnnPIrJYLgOtjn/XsJ81L8hrah8afWamegUnUa09K6NaXzriap++dkROijDAEeeoclrEWiccl5cp+EePdWGBrD1cEUWgIlNOnCRYZ62eQ667+41RjciB9btsfPKu1P9w2xVTScRcM3udR9M2IOAj9fVa57Fs91rZxm7/R40cVS0eMEDfz88LyhSCLwNqTFlTQl5BrhKD0/i2rvv0UOY7ElRJ/wevVo+O8MNvLiZ0CPneXBRWnB5SfrWBPpuCbPjeg1JD4fNaD4XVe9seUrK6HhvjKoRSsPi3QdjdCLrmRcjDH6XESdPkJXRNxrLLczrLuqlLczrMo/CaoBIo3D5UwkHgQt8SNHhNRdyHLZ97RfW6Icc0/g2AjK52uvEve0x51BNfz2MVfMUG5oQUf27G3SOSyK36FUGR84LVI2VnSfnYxAC36PvjrMQxaS1CDROea86Kl0Cai87PKfyPa1rIw40AlRh85jnYPvunmN0IvefV76ed4i5akYcPG8y0Jrd9z7AmD0ox1n/lHC/n89+9lo7ACNPojX8r1tFxTKUwN8PzwyKFELIX4hP6eEx3D/J3p+JIkUltrtORi9RNgIkzUvjaVJp9qfNDcr/esV8jwzDVnFurKEtKrVZhKCMmXeJQ1Wu2yJmhFE0ZTNe1AmwLfSiW8KsV8n4ahqjJr2WppPaFGYXV7FdqqHj4ZUQJ7f3PGWWpdqd4SSAOlm272vR7DdgWOFwTBNyPeSp9LJHae9WNukhyIFR01/7Cbz6PFGpcxErn0s46k5urOxbjt2G9Ia57j3llRl5ySatRaBxyrVxzYsqj++s5HmWQcx2uOIdsuiFCFe1znPAfXffMTrn4XhLtE1wiSgpXL0anKq8HW0LRxPFZcA1u+d9MHwPjz0oxii+p50HEO55lrjWTnGJ8j8W8TS4xMG+25Mb5PvhuUGRQgj5+/ArPezLA5LsxzBRpNw7FM2Oag77rKv0ydLD7u7tKoF+BsnpMZ4yj9Pdi8Mq8jtJR0KzJe9gaIhJo8ErrMuxR7z7RzhzEiaUhLbmy+wkEHmZsfVbmsiwqa3j72ZT9OeynZCrawve38HW3NjvOV9S3h56KSB8c8PuatjQ7Peq+Dyf+8NnzCLsKkAumPSGufKYVKPhsj3fadxaBBmnVw4TAHRKKbz4nzvkrpVNOg5XPApseGLpN+b824R9d98xOmnsJTxFlLw2dcgAACAASURBVOqz5uud7gphO/F7MOia3es+sOCxBwFIr6tTzHvNs8C9dqPXVFKjQ7OLs6bDOxL8++G5QZFCCPnr8I9L9uFHFcuu3IWHM0mkiJNldcp+X+Tp5C8SVGHF/LruHwcvE+g9T2gVlkawAGCelVDpCg/bbLFr+eGXeQfWUBV5ghrzy+Mw1TPFWjiNmwsjhdjLUVXFoZHiYQia5zm8y6q8FZkvE9TF4bhWu6djFFJjTWwfXts9ml/6el7umigfCgNRGLrr9lPxuybyn1dF2JsyRPuH2LZNwo2rEpb4PI8Qurs2sos5NAC0chn7/j/LIBK1V7ry5CyDmNMYlMnWttj/AGsRZJxeAs88KyC/b2DFddBgyZcaQO5Ru4FrxbQUeVDe1SXjBhiYsphGsH13vzG6aezEEZkp2O/FqyqyH9PQrd6Lds7RbFfkicQmlVwPumZB74MAexCQIcNq3tVneM4z4L12jjmKZlC/bnrkNwb8fniGUKQQQv4qRPJ5HJFoOljelSqBGY3j3b3qsfozTqQMxzeTu99puaR/LMug/uNzKvgc+CFKya75lmIWnopx+UPCgBTr0G9XUTm7HZ68bp/doJKVidDS6LAZYl4x56rH1NcuDr7IRFvnawe3aBnrSOppVBx7TyQWx0VZ1D6AgYmL4xxWNqsOIyt4GNYQmXQbSxnomHIcxRRi2hy2a45TahXadp9qQcozqcYOoH9uYMMydhUuuVK9kf9fxW7hFL2vW0LgnDWRL3XF57/cwoEsUYvvBpY0R8L2j0OsaHFEtBSKbbEHzKtTZFe3UPkOKM/nkmpsrO5hW6Urb4Q3LIW8LLGLH20U0zpib3P2XhRB1mLiOC2V32RFut7XHLLHN6MStsdVlJXxLHOFtk9u0cgXhjk2QkQksFQcXW/L2MLGF0tY05kqjW3aXhtk391rjB6I/L8FZJu3w/ff/XKJVnFOJJ23q8gf3oo98m9hWBa4f5JB0imiPQi8ZkHvgyB7UIUMfz5F/6wwqijmM89+aze6BpELnP/mfa2Bvh+eIRQphJC/BGvDL8tjTJlVFa5hf2SCl2X14+7WcsKmkCfxjs8LHPKlOt6PqRj29PEo8uFsxCjpV9fHGpBmM4dZLQ797RbKyjD4VkAymsD8pyo6tt5R9uo97vAv9Vp3g8becQErb6dEPwR9BsvZGjqecU0mWvnUsAlf0qMKm+fnBqXfRF424IvoM1jeqQ4FheszXJXIJtM7yYkGfdE4tOk0tqtte5XIwSUO/ptDLBqH9mYV+RMpVg7XEdNmsFISz+8dHqI1uEE9K+dCX8CG0XV5dczzgv3zDGuITBMH+7cwvxnYkA399FQO9YClh2NTM3IdfK4Fwddi/DgBwEQjuwAtmrDtxf7hOmL6AjYOLUKjmYMWTSD5voCGrZqUZb7k3qm0HQJe7s/ZjwU0bPMwed/da4xe3LWRX1TrkEFFvr6Tn0FEX8TuV/H6xv4h+nddlDdFM8TYVArZk2Clh4OsmRj05Psg2B5sIqvHEZtO25tA+s2z39pJLsqrE4oEBFmn5wdFCiGEEEKgROBDc6GePN0SZn9RcQzyh+CaPWsoUgghhJC/ki7yr/RRaNe1gaVJTSGfMcJz+rxzuZ4bXLPnDUUKIYQQ8jfSq2JJVtwyr06xuxgwT+s50hd5Tr+qOAb5A3DNnj0UKYQQQshfiYnG3hxiUR3J90FyNp4n9c/OXC6ezIcdrtnfAUUKIYQQQgghJFRQpBBCCCGEEEJCBUUKIYQQQgghJFRQpBBCCCGEEEJCBUUKIYQQQgghJFRQpBBCCCGEEEJCBUUKIYQQQgghJFRQpBBCCCGEEEJCBUUKIYQQQgghJFRQpBBCCCGEEEJCBUUKIYQQQgghJFRQpBBCCCGEEEJCBUUKIYQQQgghJFRQpBBCCCGEEEJCBUUKIYQQQgghJFRQpBBCCCGEEEJCBUUKIYQQQgghJFRQpBBCCCGEEEJCBUUKIYQQQgghJFRQpBBCCCGEEEJCBUUKIYQQQgghJFRQpBBCCCGEEEJCBUUKIYQQQgghJFRQpBBCCCGEEEJCBUUKIYQQQgghJFRQpBBCCCGEEEJCBUUKIYQQQgghJFRQpBBCCCGEEEJCBUUKIYQQQgghJFRQpBBCCCGEEEJCBUUKIYQQQgghJFRQpBBCCCGEEEJCBUUKIYQQQgghJFRQpBBCCCGEEEJCBUUKIYQQQgghJFRQpBBCCCGEEEJCBUUKIYQQQgghJFRQpBBCCCGEEEJCBUUKIYQQQgghJFRQpBBCCCHkD9FG9mUckWiAx+sSOo89XBeXKP9jGePLHFoD53O6KL52XMtmDeZjDPc+XFexrCcwW+g+9kgIAUCRQgghhJA/xZWBd/oisseXMAcAcIuDD3FEols4Ulb84BZHn5N4kWs/4kAncHeJ8vs4ItEENo695cdFaRGRl1s4uAqhPLk2kN2/dfyNIoWEC4oUQgghhPwR+vt7KFptYLOGjWgckQ+H6FufeLyH7PkfHty9aCM7rUPT4oikq/axS1q5JOZLl398ZJMxUf+8ivL1Y4+DkPFQpBBCCCHkD2DiqOww6M8yiEXjWDJubM+8MAw0XGFUIaKdw4vNGurZJCLRBRS/u56A7MtU+ITA4AaNXAqxUIbSEWKHIoUQQgghj0Irl0QkOsmYVyFh4jErXTG9Wgaz2gzy3+TTBpeobC5A01Ko2N7vBpWUT17I9SnyqwvQtTgiUR3zm4e4CCCOOsU5rOzfAt0SZqNxt8ekW8LsmxIuxrxH77iAlbdTiEXjiOgL2Nh3vMf1KfKri0jq4rq1N1uouMSQhbsuKjsp6FocsVd7aNzJ/Bktg8YA6FVX5XWqh5r3JrY16RVSfzNv0Dk2sLu6gHdW19egjex0HMm9pnsuB7doVTNYntYRicYRm0ohfx7CUDfyZKBIIYSQ30h/fzVYknA0jo2a5Qf9JGP7v+Xqreu9zdqW4z3m7KE0hIQamUQf9FS/V8VyNIlsGzDPMkhG44jIf2NwiUq2hNZxDsloHEtfLJ4ZGVK24sjBuNhfR1JbwK7MjzFPMngRTWC3OWkgNyj/qwz8SxTfuBPoe0ZqKKZcDC5x8HEGsbd7qF+ZEOFXSUS0PTTUkOX1xVIltH7I9zzcwovhvS6vW3F1iLXpBGY/13Bhys8wMlhxJu13S5iNJrB95h5Wpzgn10KKOvVZ/xroWcZeTiVsYwUA3LWRfZtA8qMhxju4RPnfOCKp6ui1hNwTihRCCPmN1D8nMPufgVZPmgntHF5YToMBwOyWsBRdxYEzsH1gone8J4wxv1PZwSk2onEsFdrohzk8hhAn0gsRNEG+U5wTXoGrKtb2mjC/FZCcFuLA/NZE624k3LdPLC9s7iHmEPDm8Ra06MLICyP/FvMM3XLQP8SKRVj1q2lHAv0Nyv86RMToU1D/pCPypoDOwPq3xOgeN0+xocUR0bZwdGd56bWBJa/5umtiezqO5I7du3FRXkTEIc46xTl7kYIhQjDa3rtXxXI0jkg0g7r1u2Vwim1rDtGgi+I/CcQ2a5bvICHeYp9Ow1/VjIQWihRCCPlttJHfsYeYCCPBacBcorjrnXzb31+FpuviNV6JxP1DrGhbqNMSIE+MnpFCxOdU380Nyv/GEdup4iBf9QnJMnG0GXcZ4a1cUng61B/uatjQ4nhhvQl7NWx4GPqen1LbsntJlKhQCfT9Q6xYP8/x2pjjXu7VtpCMzmD7TH6yFCM2DwYA8+u6LdxNcIuDD0LgdBxzIr5rrIcfYg5dRQoAKRid30tqPh3heF0DxbPRLHWKC4hE06j8GL2uU0whpqVQvvKYBEICQpFCCCG/i66Bsk1YSCNBxogPGZyi7EgcFtzi4MMciifiRNPrVLK/v4rYzsT4FEJChkfp4XH0D7ESjWP5UwkHfvkrSixYw5sGwkNgvUcuSgsiNPKbif73NirZFHRNx3KpG+DU30T904zLS9KyJNCbtS2fe1KGhr0uoWPe4uK8imxqCjE9jeI3yyfLvI+IlkJZenX65yUsaXFEpjNoWL0r5zm88CyDLOfXKnTkHDqLFAznxPm9BOWNsYbAmagbFpFjmfP+3Q06xyVsvNERe5XBEeO8yE9CkUIIIX8KaSQEFhVmDRsvc2ipE02Xx8TE0aZ/nwZCQotf6WHfp28hEk1gyRhT0ldWCrPmdl3sryNp+5ul0aI+g9n3W8gbTZHHEYRBE9u625jH9xLmo3HMFts42vTxDsnwtkg0Dm16DsubBZTPVL8YB71TZN/PQBs+fxEr+VP0bM+VYWJeDSV/iIMNW1hpbcsnb00enngVFpC5cep6zLMqjn6M/nuUF5eA/moRK59LOOq68+cIeQgUKYQQ8odQSfS2BPlxnGWgSUEj4uUdCfSDJra1gCfRhIQJn9LDfjR2Eoi8zKAxZq+3skm7kL86RKWQwYtoCpXhqX4T2zLPouH1JpPyumTpYfcwVAL9DJJ+9+SZLIbhdUjh/NzBDeq5DPInPiIGANDErhZH5POp4+8yEd8RviXm0CMMTQoaZ2EB8RF7iKn/u2uj3rZfmAjZ81lH5siRn4QihRBC/ggqvtsjQd6HVi45EjQybMWWQH+WQSzgSTQh4UF6AGx5DGOQe/+Fdya6RN4fSkDcNVH80rVUrII0mqVh7xFmdrG/jrUv40VTpzDne8ggEuh9PBLA0OB3/f/gEgcf1y1CSs5PuurwnLjeENvROJKODvEXX3JYS085wrfsYW+mZQDi8ER+Lzk/T+bHLBlddM7c4XC9LymPPBmIal+LOW8hSEhAKFIIIeRPMGhiW3Mnw/rTRfG13ZASsfSjpNtWLul9+klIiOkfy/LB/9sLVvChncMLV1K3g15VGtM3QL+Nypcm+gMZxrTTRK+aQ0UmcbdyM4hE40h+qgkRMLhFy9jCSr45tkKe2TWwpM359/6Q+Rm+96TKNYnOYOOrFEM/2ihvriLftL7GRGNPjDGiTWF+NYNite0RkqYOLnJo9AGYl6jn9lD53hYhbR8O0fpSEOJDio2NmomLL6O5GB6e/GPg4qqK7BdnrxbxuuR/h96C6cchVjSRP1Nsi2swr06RXZ3Q04WQAFCkEELIn8Cj9PBYvpcw7/SS/LAm0HdRfB3CjtaE+KGqVjkfE3ppDEsPj/MqmE1kXyUQmVrAhqFO/LvIT8cRe7uFii0x/RIHmwsi30ObwvxqYUIehQoRGz1ie955Za3s1nhP6dUhNt6oZocLWMnX0LE930Snuoddo43e9zYqpcyo4WNUx7t82+bNMM8LeKeL61jaqaJzN7pubXEPR0qM9A+xpsWRfL9nnwvcoJJOeDeTBES54ZQxtsGleV7A0lRC5s6ksW00J3iACAkGRQoR3HVRyRpoMbb9kbD8CE76Mf4tXOKoUEWLcUO/De/Sw/70jJRHnLcKk9nC0XkJs4G9MoSQ8CM8KC+8yiAPbtEy1pFkw1byFxEekTI4dZ1UjB4J6K/S2K6yWdlv4eoQG5t+defJn6T3JR242s0vZ3CDo8+ryPqFMpCfwKf0sC+y9LCHMaIS6JPTM8G9MoSQ8COr/70r+1QwG5xi29mzhJBnTHhECgAMTLTycyIJK98eVbQwb9AqpsQPc4BGS3+Ufg1rehzaxwcYlt8KmNUSmM0HPFr9HVwZWHrlqLv+7LjF0X86Ivo6DoIkaT4aojRm0Go3v4VBF8V/5pBthuoue/rI8qTjE38t3NWwZulobUMl0PNElZBnxg0qqQQiWgpZa2nigYlet4bs4hTmHeFehDxnwiVS4NU4SHGLSjo+bJYUGp6ySBlcopzSn1fi7aCLYs5ZWeWJiJRrA0thMDzPc3jhbBhGHo7ZRTkl4rWX/U5IrQxuUd+ZQeTjoa/n+KK04F1KlBDytBncoF7awvIrlYcSR2xqDu8m5s0Q8vwImUgZ34G2sRO3NRUiP0d/fxUxV3O4p82FkcLaExVd/f3VR8pHcSI8OsncI3r4ngnqO8sZvuo+hBGongOjh7W/g4UfVaxxfQghhDxjwiVSxnagVV1iGY/5a5CNp55Lj4Unn1Qoy0D61df/w7RySY/u5r8et1Hu9/BpvEaeCO7qSH6PRw13JIQQEhrCJVJkB1qvZNALQ+SkvPh86m4mZDV0VOfVuy6KH6YQszY+Uwxu0DAyWJ4WZQAj+gK2jz1O3/ttVHbSSOoyef9tBnUVLnRtYEnXRQlDp+dncImKLG8Ye7WOynfA/GqMyhKeZRDTdeHK9Yo7H9yi87UwKjuoW0sqAsANyikdmibGNfQs9dsoy8+dGH42rhyqvLaYo9JUv23I0ok61g495ivIvN5d4ii/inlZrtC37KHtNV1UdlLQtTgi+iLy7a5IQlbhLt9KmNcdxs7LHFq4QflfHZr8P9WAy+x1UTf2sLI4Y/e6mE3sTsehpb3LYfa7NeRXF8Q4ognoHwx0ghrx4/YSMOyhseTXSGxwg3p+VVynNoe1w0vRPdjRGLDfVKUgdbzLN9EfdFE2LCfuk/amep/7dkZ/IL39dcy+ngvwKPwWkRJMIPERicZ/cqabyAda5zms7f+cSHnseeKDDz74eAqPp0CoRIoo0TmF3ePbYcKY2b9EPbsoDO/0mFrdMpl0Zf9WCBQZA+4SAd8NLOsJzO+disZIgxuR6+KI7+7VMiJf5D8DrR+AKg1oP+WTp98Ob0QrK06hj/oQJ/zFFGIuMSI8Qy+cIRv9U+y+SiD2KoOjK2Eg9qqriEUTLgPWrG1haKReHWI3V8OFCdQ/xzGpq7XI/RnTdMpxbReHe8h+vYSpqrA5PTBB5vWuie3pOCLT66h0xbX1T2RTL/VwikrX+16iuJPCUnTUOVdg76brO0+y4dfw86yei8ElKmkdrlP7wS3qe3OITa+jfC7nq7mHF2Pnb0SgvdTO4YWfF0juieRH+frBLerZVSy9jtsbA8oeGvOq+/B1DRvTdqERbG8COMsgEvXvBfBceOwfiaf0eCo89jzxwQcffDyFx1MgRCJFluiMLmBlM41ZdRqvTWH2fQblswmna2cZxKIplK9NNPbWUb4yUf+k20v5XRlY0hJYMqwn9+6wJ/NMGM62SmLnOeiao+qRDE+zC5cbVFJx0b3V+jzl4VF0S5i1ekGAkRH/MoO6LWlZhkrYhJQUEf8a6N01kc+rscq8Hm1v7MnzxPwey7WZZwXkz+R1yxKJNuM10Lze4uBDApFoEttn1tN5eW1e470ysKTFsVTo2rxnSmDZTvm7Jcw6/+acJ+tfTzJ44ZpTiBKPNqFkorEzg4gjkVyUgZ3c8yLoXuoU57wToeWeeLFZszfHOhEiwuYJa+4hFo1j+2T0p05xHeVhZ+GAexMYNV1jHw5CCCGEPALhESnS+H1ojkQrl0TkZQ712h52zzxCVAaXQgRZDdDBLRq5BcS01MiQ+3GIFU08rzMpgfksg5jH6XfvS0p4Pgz/MCYRomYNEzPR2EkiEk14nM6reG7LCb8MD5ot1FDes3iYVF7P2NwGVaBgjEiR15b/amDXch3CK2ERA0HnVa2v0xBX43V5L7pC5Pzr9p4Jj5s9N0nMp4f3SM2Ty0Whyrg6QvW+G8hahI4QMwlsHFue9L2KtekA5bAD7yUp0F1rZuJoM+EhWtU6OESuDFdzCiorQfYmgJFI8SuDSwghhBDyGwmNSFHG78OSJkXoVGwzg2zJ+2hbNUBb2b+B+eMSrWoBK68S0BZzqFuM3YvSgvuU3ofGTsK7GtPgUpYcnXF4DRTSKPUI1Ym8zKHlfL8rA++cBqPMKUlOW0/KMczrGT/+ySKllUsiEp1B8qNdJIg8iJFhH3Reh2FW1lN8iHWPReOIOcRpf39VeCrOnSOTnhGb8Syvx+vU/yyDmNOYl4iwOKvYMVEvWfNRpDfoZQ4t8xa97inKO4vQtDmsGZMbiwbeS1LAucRpO4dkNI7lqjukTAg1dxU85bmJpXxCIyfuTckfEilMnP9bYOI8IYSQ+xEakSKM3wdWZpIG1Yt/Sm4DH8DQsI3GEYnqSL5OYyNvoO6qOa4qiI3P5xDIk3g/j4UK3dJW3b05pFFqPd1XicpeORX9ahqRqL0RnAp5mndMmBAXk8c/PtzrEuV/ROid/e3lNQ8FRdB5BUbhXjPYPhH/32+XsKTFEZlex4FVaClx4FX0QIo5Wy6P9MZ4FQEQ8+Fd0trZk8c8M+zjkCFkkaiqU59BsdoWuTETCb6XhEBftItNmKh/SnhX2Bo418FxXbLIhG8J4XF7U/GHwr0eO3Ge/Cn+XOI8IYSQ50FIRIo0uh7YnEwY+IkxJ9Yq38WnfPFQ2HiEVfkhDdixidNXUjw5jEVhlNrzGdSJsusUcdBGdloKhmETS5V34jRgpWEcwLDsfZGf51VNSuWdfHJUUpPXPBpj0HmV3HWH1cci0Ti06UWs5GvoOC1t6XVxFRVQ+SFOz4j0lrh7T8j58DHmlTDcPgNw10a97dg/Mnk84iEcPa/PRvC91NhJjPa+ZS/uat5jVyLE/8TZRP3zBLHqszeHSE/dc0+cJ+TRUQcCUa/v9PDTO86JioLaHNYOKTD/JLY+TCEpX2/H7kH93dUiyfMjHCLlXBhELyZlIfvgG3Y1RCYMe3lq7roopmW1I2UYep28XxnYKI1eLESFNM5NE+bAmaQMAJcovnUbubbx3skqV9JgdhqeneICIs4cAj/PgfyxWzJuhmPyRQoOLyNViCiPXBvLNZt3JoLPq2Rwi5axh93qhFAp63VYP//YwHZ6arQ+8j2s3hLz+nL03tb3GZgwnWsqRcj22Q2Ovnjkl8hEdK8v/15tC0uFcW6/oHvJUpVs0EaxoMYhv9wde8f8VkX+4+JozgfwTn4/3rKJx6B7c/g5MvwySPWy54HKUQrwcITAibBB9Uij4vJOWT2O3u9xP5SnM8DDdfDjeK1XeOnQCxh2A2gcT+06w9UnKRgmGntziE1v4egaML+uM4ftMZDh4KPv6htU0jpirwqhWQsRtRAkQoV4Y6KRnUNMX7fbVH8Bjy9SzK6MkY9jpfqQUxj/0rNWRI5DHLG3OTSkEWFe1bD9fguVoYdClIaNRONI7pwKY3dg4uI4h5Ws1YiVnozXJXSGlbXE35KfasNwIFFe1+nhsYSJXVWR/SLFx90ptl+KpOe6Kg9bSkOL6niXb9t/uM4ynpWlhNCZQ7HdRbk0Ial7TDNH28m+xzW3vhkono3E1eR5FXTyMyIJfNJNppLs/y2JvArzEvX8HirfL0fVqdolWXFMenM+HKJvq3JmmY+uiUa+4E4mlyJkPt/1nquhF2sGa9WuEH2DW7RKq1jONyfkpATcS9JrtGRc4uKwisbwP5R30bIfvuyheHaLxl4CkWgG9d4h8l8uhddDS6GoyiOrvJNhwn7QvTniTzVzDA1XBt7pi8geX0pxr/K2LCJzcIujz0lv75N5g/quWO/5kk9RAikc8+e/Rvj1vogwUM9eRz/aogy7V+U2ALi7RPl9XHigj70X+aK0iMjLLRxcPeFN8FSu0y8vLcSIfMKZ4e9QJz+D2KT+XOSXIw6UrNEMPytSblDO/cp19K6wSfwxz3Io2n5mKFIeBZur8qEJsr6lZ52Y6BhbsulfAvqrNLa9TvQHlzhSjQOjCehvt1BsOsXTLQ4+JhxNFpsol7owr0+RTYkmjNp0GtkT52u7yE/HEZtKuf+vN3ptRJvC/GrBnnwuEQak23PUq6YR06awXJic1A0ogeE86fcTfTeopBOITaUdRlbAeYWqLGUJ9drzy18BLvbXMavFEdFnsLxTRefOMobpNPLDktS3OPpPR2RqAWtFu3DoH64jFtUxv2nI1zu4NrDkl2A+HLRlTfQZvPNZE0+C7KVvBcxqCejpkmuM5nkB73TLXpDf8I2sjoi+iO2q2Hu9aglH/Vu01DpoU45rDro3FUL4+ea0PEP6+3t2b6CqOucU8cd7HsUcACFqZONQz1N7eb85QyidXBtYmnDgohAhm2PKYJ9kxhi9bWSnZUPYdNXTIGnlkv6C68nwNK7TbWiGHLMpDtV85pT8ORo7iV8qAMyTDFZ+ZfEK1aiYBTGCMbhEOTUuMujv4vE9KeTxkCfuXtWjfjW94xw2cqe4uO6iUS1h4/2cNN5F5/ODp/Lj/DfQLWF+TBnj54eJo7LD2JJV8pw/rBeG4f3j0T/EyusS6tW0z6m9KBzhW/JbEVikyNNJp8ezW0Je9ck5KTlC/Cy0c3ixWUM9m3Tkuw2fgOzLJ2Q0+/FErrOxk/AuFBJGBjc4+jQjBLKnYCd/DFlExdOb+gB6ZzksaQ8sYOTH+ZhGxcROv4vKp5knFvb5e6FI+du5PsTaW3cfjl+HSHZ/8dn7BLl/bmDl5ZgEbvKHucXBh7nx5Yn/AkSeU3Dj1axtiT0sPTAuj4lZw0aQ8LmgIsU8xYbmzOMz0dhZRyXAkWqnOCe8LNIT7fIkdEuYfSpG8xgefJ2DWzTyKejaDHab9kVr7CVGuRc/qlibnhHFQJRg7DeRT00hps0hr5ZncIOjnQVoUR1rh85DIWVotnHxNSOT0KewUvIJQ70+RX51QR7y6JjfPBTeYFnsQkQkSA/5XRfFtB48DMv13lWLp9kjt+q+IWrXp8i+l/OlTWHJGcosP6dTzQyT8XfPzGElxqHIl/Opa3HEXmVwdG2i9aXqXke/uVKf9K2ElWkdkaiO5VIb/V4VlRPnm4ywlkyP7TSBuy4qyluuLyJ/Lq/mvmsxYZyKftvAxtspxKIJzP53iIvzHF5YvKmNnQQ0PeFdhAfisHBZNsqOTaVG472uYmUqYVtX1+uDjHEgPfqqkML+5bCHXaCiSD3xGVo0Di1dxcXgVORmWjxF910zlfMcsb7PYBR54Fmuf3CLVjXjPVfDuSxgZVHuZde9ct9rM9HIjYoKWaOKekYKmq6P9hwAs9dF3djDyptFu/hr55CMur+zAAD9Nio7aSRV1EuqgNYTOIik4hRK2gAAD0ZJREFUSCHA1SHW/psQ9vRQZM7Fu7JfOIX44XvscAsCACY6pYzry/jvQ+YD3SMJuLGjSwNKlo52JtCfZRALcjoWVKQ4+/8MTFx83UIykDFwg/K/SoBZegFZ7v+ekfplp7OPx0Ov00Qjn8PRt6qocmircCeS7Z2HKo2dhDRam6h8aaMvDZDYXhMYXOKgcIiLgUzmd+6Dbgmz0Sksf8yh2L4FBreo78x4hvJd7K8jqS1gV+ZOqWaz1sqGjb0pEaY47InknXvo5GJ/HcnoDDa+yrys/im2p+Me+3ZC+X1PTHRKaWjaHLarXRGW++MQK9GUXVQPLnHwcUYID5kjdHFoYNuRH6aKuBS/YzRfjvyriXMlw5BefJY5g98NLGnOUvAe9EQZ/I1qDfkdA60+gLs2sh77K8haBFlTDG5w9HkOmnVeymnMTnuEfndLmHV6LpRAepVBRYZY9/dXEUlZ+4LJfnMe3z+BxtirYfuVjtnPMvdxcIlyeg7JADnDAGCe5zCvSeEh999RLoMX1ry7h66ZtDNmi12xX/IZVLomcJJx32d3bWTfJpD8aKD1A6OG1cO5GlUZXSrKsQ5ucLCZ9C1YEujaMCbsUx5+bdTMUc85LzF5ZWBJc1flFJ8/M+rvJqt7elZ3DRkUKUQwuEH9yyE6v9o+Vcnn8guub3l/87qLo+wi9Le5J6Honzc3qBdLaDCzcWzlO2/ayL605HbJkzur8G7sJIKdOAcUKcLT45HTF8AYVaFpSoD1XSFqNyj/OybX5anw0OvsNdG4wnAf2A5YpIHgVQxl42sXB4YsiiErLr3ItXFxfCoOgKSB5TTuRdPXJLZPLH91lXsXjXO16ALy32D7W8waxiaNmSWji0Z2HeWrWxx81CfuPdEE1lFFEj5VmeS13cfAEWXT7Q1kG3sJxGxGsjT+nKGmqpmxZW83dhyG4JWB7S/3nCtZ/dE6N/WdvYk5saIgSxKz/9lPzkWDXYuBGWAtAo3Tb17k+J1eW5fnQgkk2+ub2NUS9jX0ye8NNEbZeyu5Yy/YI8Skf9GKIVcGljT3/hOVEy336APXTKxFArtNexEdtZbD9x90UfwngdhmzZLfKg441DyrBtZO8S6u1eP7JOi1eTaqto7Tfh+qwimu4ijOXMRuCe+0BDa+Wv72vYT5IOsSAihSyO9ncIN6aQvLr6aGifMRfQaz77dQ/NoNlORPyJ9C/bBOzB9RdEuYtf1gOU/t28i+9Ci/qfrwBHnYEmPlSbb1b/I0OYj3w6xt2Z8nQ8eGSdD9Q6w8sGdVmPjZ6xRGp/1E2stYEMZdCtt5w2X87Bo11NUpb9stXofVCZ0J6M4y7Hc1d3hfr4YNp2F4lkEsmkJ5X1U/DIBzXizYSu3b5uAeOQY/DrGiTS7EIQq5OBsIw7MnmTAU3YYfgOBzpe7Te+XfqZC3lOv0XlRdtHiGJq1FwHGKefEI4ZH7yS4q3J4+9fpJhw5irR17O9AYZaPm6T1LdUrBuGbKQ+RBpttj55V395A1U/tlC5VawVI1S76/JQxXtHywesFNdIopxLTRenv3tDNx9DHuvi/uc23KS+TRH+5o0+MAShV3cRRN6Bil0ToMumK+rPf2XRfFVMI7zC2EUKQQQsgQj9LDE7goLbhOqm2n9t0SZoNW3wniSZFGm0uQnGWwPS42G4AIR3MbLC1LYrlZ2woUnhFufvY6pTFkO9W8RSXtNgp6RgqR/81gd3gqqQyQNLa/jtZIiB5H8r4sPeyqTnmSQcQSTiO8LXMofjPR/95GJZuCrulYduSttHJJRF5vYder75MPaq96iXJx2ms1XJVhF7z6kDBUvfoHWZAJ4F7V74QocobAqJCbGVf+XNC5AjAKjwlqsClD0mXxS7FpMTonrUWgccoqal6homIvO0SFPCEfraU80JhYhU1+7zn2dpAxmmci9Mu1h+WaTvLuiv3nV9TCI1TsvmsG1VZhBu/ylnWTazncc0qsb9bQv7tB57iEjTciRO7IOintHJJRy+cPbtEqisqlTk/Sva6tncMLr/tQjsudYyTDRzWLJ+nuFOVDp5iPY6N2C/O6i3ppC/N6ArOfa+g9AYECUKQQQsgIv9LDvljzHqzvM/rBaxXngpffDCBSfMMKTozJSfODJrZ1DwPzewnzUZG8fbR5Dy9SWPnZ65SeDFu8+FkO865KStK4G/Ykwiis62XGcrIsRY8jSV/EoLu9bK2stU+Rpemk9EDnjeaw59EI+bx7nTIrUZ5B3TlXag/bDFfZpDbw/SHH9I8xtgiDMKa8qoVJYeiVH6ZyBbQtHA2vN+hcWT77ROQGzAdxDbXtiepD5L4aeckmrUWwcQ7DkZzzIr1TnoLZesDiFbLohWeD6CBjlPvHo+y66qE2/rvv0n3Srzj38hTJ4d5nzSw9x2yeHpnXp0KeVANj0UphESufSzjyaZHQOxkVIIhEdSQXV5E/douI+1ybOMTwOBw7yyDm47kUhwiqbYeJRrVm+SxLoQttCrOLq9gu1dAZd1gQQihSCCFE4VN62BdH3sMIlUA/g+T0PUJjJooUeWJ7j5NsG7Ikr/tnX4WozSCpBfcihZafvE7XCehdExUjhxVnsvAw78Ad228L6/IQPYBPjwspDkavb4oqQH49xNQ+cIaIBULuJw9P3zCfwGokeuTKjEeOfYLwHjaodexpZYz65od1hTgYjSfgXNk/BUebiUD3VKc451GpykRjJyka7ypBMnEtgo1T9JJz7lMTRzszrqTroaCzCkgZUjrx0MGzQXSQMcrnOO+1uxq2p5OTwwL9CusoAerbpT74mqk962y14AxF8w7jsl6rddynyH4uoD6uAey9rs3SlNrxNq2sf3U0cd+I9zHbp47cXvmeflUq6UkhhJCnhE9lrnGv+LrunweiSl/eo0rYRJHyQ1QWmtgU0odOYc638a0wzO9btSmc/Nx1ytNhtW6DS1RKp+jVtkZGjfqBP8s4kpwn53GYw3hxccLrjG1v7Mwg8q81lEV6LzxOWS/217Emk5/FdQXfu7ZrdXo6hiE1VY+Teq/wFT/8PS8X1erwZLuxE0dkxtEh/aqK7Mc0dGsITDuHbdu6NkdV1KyfN3aubnGwY78n1ZqN90QKo88ZfiSKDtjDziavRbA1FSLFLhIuvuRQqXr0HpGhgyv7t6P92dxDzKtM9OASFUsYmq1B9HCDBhmjhwgdXKKSraKSTU7+7pNibu2r9QNMNPIZrPxjFc8PXTP5PFf5d+kl2qzBlNcrmuN6hNHetZFdzI3WQB4iLE8qHBH42jBcuyXjBhiYoroeAOUFepFrizV1NvBW3zXfumh8c36b3aCS8siTgaj29S77NEJ6KVIIIQRA/ziDZDSOyP/2JvczAYAfokTrmm/lJHFqf68eQONEyrA0bRwr1fuXjjS7Bpa0Of8S0/LH9159L0LIz1+nNM52mqL0a1n0g1Bej06zMEyEFnkH9rwVr9j++mchehrNKg5sifQWA8K8RH1vAdqrPVeIUCsn1j35ScaSyz4PK/mmLDwiPzdwGJZlOmpbovLWsZgP80okRmvpEjq2cYxC24L3z5FehugMNr7ejK4zu4qsxagXp9oLyDZvRTnt4xx2v1yiVZwTJ8XtKvKHt0Ls/VsQpWEB9E8yrr4Qk+eqjezLJDYOZallWf3KKchcSKPzxeahLLFr4uJrBrPaDNb2raflwdZi8jgtld+ORWnqVjmH8jdTeHS0PRwdl1CRYliEKy2i/F2IhIsBhjktkektHKnnXZ0iu5qz7DF54r5Zg3lVRfbL5T3GqDyTGdT7APptlHMGOneynPFeDfXSmHmVxnlstSre/0cbld0C6tfCQ/ki10QjX0LnoWum1sJ5ICHXcuNrFwdKrKkQOi0lSoEP52oLFasoN5vYnRZhVLGpBax8LqFyfmkRFve9NkiP1xyKXXv1MeUF2j65tf9dIkTKDNYOvX8PVMhdLFUSpbLlvbUyqadLiKBIIYT83cgfLFdFLd8fQOVGn/zcfnX9fqV8Byb6HjHs4iTeOUafMAwXKmxj9HDW0Ve0sls+4RVPgV91nTeopHVEtBks505lguktDj4mEJlKI3+mDALLKafCK/xLvjY2tYqi9bTT1TBuARulpndC6+ASB5sLwyaI86sFe7y85+cG56IqG/BFE9DfesXXjz7DGTYzkbsuyo6x153hJ3dt5Bd18fmpDCpynjr5GUT0Rex+FYZzY/8Qfcv7xaZSyJ44xjpprnqHODgXeQVLUwmIRnyGQ5C5EfegjqTKRfC7lqBrMWmc8jmVD1OIRXUk3+dQl18ynfwMYlNp5Nuj/dSrphGL6pj/5GxYaWDjzWiPreRPHXtM7u3pNHarjuICQcZ4JRtB6jNYzqr37iI/nYD+fnLDwIv9dcxqcUR0y9j6h1jTEkiuSuP6gWtm8y5Z+VZAMqrj3Z59Lszzgnz/OLTpNLYNx/1410Vlbw/l8xtcnFdR/Lwq75u4vZnnfa7NMp7ZjwV7G4BmDlo0geT7Ahpe31cnGe8Kd6MrQiufGjbgTL7PoHz2sO+Ix4IihRBCCCHjOcsg5kw+/muQSchBq/SR54fZxO500lVNDgDwo43yx5n7hfaSQFCkEEIIIcRG/+s6tGFol8iVeeqhgA9GVmwL0oeIPE+EJ21Md/uTDEXsb4AihRBCCCE2GnsJ6J9PYQ5u0TLW8W4neO+V58ZFOeVbBpb8JVxXZTGJHBrfLXeCeYPO1xzeTS3Ywu/Ir4EihRBCCCF2rqpY1mWujOHRCPFv4MrAO0eeE70pfzHXpyhupjGr8lBUT5V8DZ0nm8sXbihSCCGEEEIIIaGCIoUQQgghhBASKihSCCGEEEIIIaGCIoUQQgghhBASKihSCCGEEEIIIaGCIoUQQgghhBASKihSCCGEEEIIIaGCIoUQQgghhBASKihSCCGEEEIIIaGCIoUQQgghhBASKihSCCGEEEIIIaGCIoUQQgghhBASKihSCCGEEEIIIaGCIoUQQgghhBASKihSCCGEEEIIIaGCIoUQQgghhBASKihSCCGEEEIIIaGCIoUQQgghhBASKihSCCGEEEIIIaGCIoUQQgghhBASKihSCCGEEEIIIaGCIoUQQgghhBASKihSCCGEEEIIIaGCIoUQQgghhBASKihSCCGEEEIIIaGCIoUQQgghhBASKihSCCGEEEIIIaGCIoUQQgghhBASKihSCCGEEEIIIaGCIoUQQgghhBASKv4/KUjzfWt44tYAAAAASUVORK5CYII=)"
   ]
  },
  {
   "cell_type": "markdown",
   "metadata": {
    "id": "U-pVEzn3GJuM"
   },
   "source": [
    "In Python, precision can be calculated using the code,"
   ]
  },
  {
   "cell_type": "code",
   "execution_count": null,
   "metadata": {
    "colab": {
     "base_uri": "https://localhost:8080/"
    },
    "executionInfo": {
     "elapsed": 922,
     "status": "ok",
     "timestamp": 1620798126338,
     "user": {
      "displayName": "Aishwarya Verma",
      "photoUrl": "https://lh3.googleusercontent.com/a-/AOh14GiG6BREocxcd5R6rzlQGApoCsYso7BQAh63eXNz6Q=s64",
      "userId": "06108390091304498033"
     },
     "user_tz": -330
    },
    "id": "1KSq3gJD5FKl",
    "outputId": "06304e5a-33c3-4e3c-a354-8c9e5da9f6ba"
   },
   "outputs": [],
   "source": [
    "precision_positive = metrics.precision_score(y_test, preds, pos_label=1)\n",
    "precision_negative = metrics.precision_score(y_test, preds, pos_label=0)\n",
    "precision_positive, precision_negative "
   ]
  },
  {
   "cell_type": "markdown",
   "metadata": {
    "id": "jKQnjasbGNf2"
   },
   "source": [
    "### **Recall**"
   ]
  },
  {
   "cell_type": "markdown",
   "metadata": {
    "id": "FQQXLKwRGRUo"
   },
   "source": [
    "Recall can also be defined with respect to either of the classes. Recall of positive class is also termed sensitivity and is defined as the ratio of the True Positive to the number of actual positive cases. It can intuitively be expressed as the ability of the classifier to capture all the positive cases. It is also called the True Positive Rate (TPR)."
   ]
  },
  {
   "cell_type": "markdown",
   "metadata": {
    "id": "FJ-W4iR6GTCi"
   },
   "source": [
    "![image.png](data:image/png;base64,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)"
   ]
  },
  {
   "cell_type": "markdown",
   "metadata": {
    "id": "h-3akDSwGVD3"
   },
   "source": [
    "Recall of negative class is also termed specificity and is defined as the ratio of the True Negative to the number of actual negative cases. It can intuitively be expressed as the ability of the classifier to capture all the negative cases. It is also called True Negative Rate (TNR)."
   ]
  },
  {
   "cell_type": "markdown",
   "metadata": {
    "id": "vDN2ghzyGdDY"
   },
   "source": [
    "![image.png](data:image/png;base64,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)"
   ]
  },
  {
   "cell_type": "markdown",
   "metadata": {
    "id": "OZarGhezGfCI"
   },
   "source": [
    "In python, sensitivity and specificity can be calculated as"
   ]
  },
  {
   "cell_type": "code",
   "execution_count": null,
   "metadata": {
    "colab": {
     "base_uri": "https://localhost:8080/"
    },
    "executionInfo": {
     "elapsed": 1007,
     "status": "ok",
     "timestamp": 1620798216539,
     "user": {
      "displayName": "Aishwarya Verma",
      "photoUrl": "https://lh3.googleusercontent.com/a-/AOh14GiG6BREocxcd5R6rzlQGApoCsYso7BQAh63eXNz6Q=s64",
      "userId": "06108390091304498033"
     },
     "user_tz": -330
    },
    "id": "ZfiO7VLYGLU1",
    "outputId": "9cc9827d-fcfa-45d4-8043-d27451cc8ffb"
   },
   "outputs": [],
   "source": [
    "recall_sensitivity = metrics.recall_score(y_test, preds, pos_label=1)\n",
    "recall_specificity = metrics.recall_score(y_test, preds, pos_label=0)\n",
    "recall_sensitivity, recall_specificity "
   ]
  },
  {
   "cell_type": "markdown",
   "metadata": {
    "id": "0p0kXLoIGj_t"
   },
   "source": [
    "which gives (0.881, 1.000) as output. The best value of recall is 1 and the worst value is 0. "
   ]
  },
  {
   "cell_type": "markdown",
   "metadata": {
    "id": "FLV3aSR5Gktq"
   },
   "source": [
    "### **F1-score**"
   ]
  },
  {
   "cell_type": "markdown",
   "metadata": {
    "id": "d_JWD4b-HQGU"
   },
   "source": [
    "F1-score is considered one of the best metrics for classification models regardless of class imbalance. F1-score is the weighted average of recall and precision of the respective class. Its best value is 1 and the worst value is 0."
   ]
  },
  {
   "cell_type": "markdown",
   "metadata": {
    "id": "N4bSn4_0H0lc"
   },
   "source": [
    "![image.png](data:image/png;base64,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)"
   ]
  },
  {
   "cell_type": "markdown",
   "metadata": {
    "id": "g50dH6HEH2V6"
   },
   "source": [
    "In python, F1-score can be determined for a classification model using"
   ]
  },
  {
   "cell_type": "code",
   "execution_count": null,
   "metadata": {
    "colab": {
     "base_uri": "https://localhost:8080/"
    },
    "executionInfo": {
     "elapsed": 1253,
     "status": "ok",
     "timestamp": 1620798574642,
     "user": {
      "displayName": "Aishwarya Verma",
      "photoUrl": "https://lh3.googleusercontent.com/a-/AOh14GiG6BREocxcd5R6rzlQGApoCsYso7BQAh63eXNz6Q=s64",
      "userId": "06108390091304498033"
     },
     "user_tz": -330
    },
    "id": "S9EiytdMGhUz",
    "outputId": "7b2f1d10-2d3b-4c7f-d87c-844ae0794aed"
   },
   "outputs": [],
   "source": [
    "f1_positive = metrics.f1_score(y_test, preds, pos_label=1)\n",
    "f1_negative = metrics.f1_score(y_test, preds, pos_label=0)\n",
    "f1_positive, f1_negative "
   ]
  },
  {
   "cell_type": "markdown",
   "metadata": {
    "id": "S4N9bJZ-H5P6"
   },
   "source": [
    "Accuracy, Precision, Recall, and F1-score can altogether be calculated using the method classification_report in python"
   ]
  },
  {
   "cell_type": "code",
   "execution_count": null,
   "metadata": {
    "colab": {
     "base_uri": "https://localhost:8080/"
    },
    "executionInfo": {
     "elapsed": 895,
     "status": "ok",
     "timestamp": 1620798588295,
     "user": {
      "displayName": "Aishwarya Verma",
      "photoUrl": "https://lh3.googleusercontent.com/a-/AOh14GiG6BREocxcd5R6rzlQGApoCsYso7BQAh63eXNz6Q=s64",
      "userId": "06108390091304498033"
     },
     "user_tz": -330
    },
    "id": "LU-2CBBXH4oV",
    "outputId": "63931f16-b73d-4679-a2fe-e8a4ae0811f2"
   },
   "outputs": [],
   "source": [
    "print(metrics.classification_report(y_test, preds))"
   ]
  },
  {
   "cell_type": "markdown",
   "metadata": {
    "id": "gtX5D9QwH-jl"
   },
   "source": [
    "Here, the macro average of any metric is calculated as the mean of respective values of all classes by giving equal weightage to all classes. On the other hand, the weighted average of any metric is calculated by giving weightage based on the number of data points in respective classes. In the above output, numbers 0 and 1 denote negative and positive classes respectively and column support refers to the number of data points in those classes."
   ]
  },
  {
   "cell_type": "markdown",
   "metadata": {
    "id": "OYo-ygelIAKm"
   },
   "source": [
    "### **ROC and AUC score**"
   ]
  },
  {
   "cell_type": "markdown",
   "metadata": {
    "id": "vTM4SoaDIvjR"
   },
   "source": [
    "ROC is the short form of Receiver Operating Curve, which helps determine the optimum threshold value for classification. The threshold value is the floating-point value between two classes forming a boundary between those two classes. Here in our model, any predicted output above the threshold is classified as class 1 and below it is classified as class 0."
   ]
  },
  {
   "cell_type": "markdown",
   "metadata": {
    "id": "Hwz6XSv8IyhM"
   },
   "source": [
    "ROC is realized by visualizing it in a plot. The area under ROC, famously known as AUC is used as a metric to evaluate the classification model. ROC is drawn by taking false positive rate in the x-axis and true positive rate in the y-axis. The best value of AUC is 1 and the worst value is 0. However, AUC of 0.5 is generally considered the bottom reference of a classification model. \n",
    "\n",
    "In python, ROC can be plotted by calculating the true positive rate and false-positive rate. The values are calculated in steps by changing the threshold value from 0 to 1 gradually."
   ]
  },
  {
   "cell_type": "code",
   "execution_count": null,
   "metadata": {
    "colab": {
     "base_uri": "https://localhost:8080/",
     "height": 501
    },
    "executionInfo": {
     "elapsed": 1125,
     "status": "ok",
     "timestamp": 1620798821153,
     "user": {
      "displayName": "Aishwarya Verma",
      "photoUrl": "https://lh3.googleusercontent.com/a-/AOh14GiG6BREocxcd5R6rzlQGApoCsYso7BQAh63eXNz6Q=s64",
      "userId": "06108390091304498033"
     },
     "user_tz": -330
    },
    "id": "O7s090kNH8HY",
    "outputId": "6570ebe0-3b2b-4fa2-c9f0-c1daf248fb99"
   },
   "outputs": [],
   "source": [
    "sns.set_style('darkgrid')\n",
    "preds_train = model.predict(X_train)\n",
    "# calculate prediction probability\n",
    "prob_train = np.squeeze(model.predict_proba(X_train)[:,1].reshape(1,-1))\n",
    "prob_test = np.squeeze(model.predict_proba(X_test)[:,1].reshape(1,-1))\n",
    "# false positive rate, true positive rate, thresholds\n",
    "fpr1, tpr1, thresholds1 = metrics.roc_curve(y_test, prob_test)\n",
    "fpr2, tpr2, thresholds2 = metrics.roc_curve(y_train, prob_train)\n",
    "# auc score\n",
    "auc1 = metrics.auc(fpr1, tpr1)\n",
    "auc2 = metrics.auc(fpr2, tpr2)\n",
    "plt.figure(figsize=(8,8))\n",
    "# plot auc \n",
    "plt.plot(fpr1, tpr1, color='blue', label='Test ROC curve area = %0.2f'%auc1)\n",
    "plt.plot(fpr2, tpr2, color='green', label='Train ROC curve area = %0.2f'%auc2)\n",
    "plt.plot([0,1],[0,1], 'r--')\n",
    "plt.xlim([-0.1, 1.1])\n",
    "plt.ylim([-0.1, 1.1])\n",
    "plt.xlabel('False Positive Rate', size=14)\n",
    "plt.ylabel('True Positive Rate', size=14)\n",
    "plt.legend(loc='lower right')\n",
    "plt.show() "
   ]
  },
  {
   "cell_type": "markdown",
   "metadata": {
    "id": "HrQoWfDwI3ao"
   },
   "source": [
    "Tuning ROC to find the optimum threshold value: Python guides find the right value of threshold (cut-off) with the following codes."
   ]
  },
  {
   "cell_type": "code",
   "execution_count": null,
   "metadata": {
    "colab": {
     "base_uri": "https://localhost:8080/",
     "height": 206
    },
    "executionInfo": {
     "elapsed": 872,
     "status": "ok",
     "timestamp": 1620798844339,
     "user": {
      "displayName": "Aishwarya Verma",
      "photoUrl": "https://lh3.googleusercontent.com/a-/AOh14GiG6BREocxcd5R6rzlQGApoCsYso7BQAh63eXNz6Q=s64",
      "userId": "06108390091304498033"
     },
     "user_tz": -330
    },
    "id": "lMb8AkiNI06A",
    "outputId": "a0c6daa5-f51e-40b8-cb73-2fee5bd7b4b6"
   },
   "outputs": [],
   "source": [
    "# creating index\n",
    "i = np.arange(len(tpr1))\n",
    "# extracting roc values against different thresholds \n",
    "roc = pd.DataFrame({'fpr':fpr1, 'tpr':tpr1, 'tf':(tpr1-1+fpr1), 'thresholds':thresholds1}, index=i)\n",
    "# top 5 best roc occurrences \n",
    "roc.iloc[(roc.tf-0).abs().argsort()[:5]] "
   ]
  },
  {
   "cell_type": "markdown",
   "metadata": {
    "id": "xALPmFRKI9Hj"
   },
   "source": [
    "### **Precision-Recall Curve**"
   ]
  },
  {
   "cell_type": "markdown",
   "metadata": {
    "id": "SXSOUfv5JACG"
   },
   "source": [
    "To find the best threshold value based on the trade-off between precision and recall, precision_recall_curve is drawn. "
   ]
  },
  {
   "cell_type": "code",
   "execution_count": null,
   "metadata": {
    "colab": {
     "base_uri": "https://localhost:8080/",
     "height": 297
    },
    "executionInfo": {
     "elapsed": 995,
     "status": "ok",
     "timestamp": 1620798873310,
     "user": {
      "displayName": "Aishwarya Verma",
      "photoUrl": "https://lh3.googleusercontent.com/a-/AOh14GiG6BREocxcd5R6rzlQGApoCsYso7BQAh63eXNz6Q=s64",
      "userId": "06108390091304498033"
     },
     "user_tz": -330
    },
    "id": "HEKPmxFvI6oP",
    "outputId": "581e0f75-e9e9-4a78-c496-5783d7161c01"
   },
   "outputs": [],
   "source": [
    "pre, rec, thr = metrics.precision_recall_curve(y_test, prob_test)\n",
    "plt.figure(figsize=(8,4))\n",
    "plt.plot(thr, pre[:-1], label='precision')\n",
    "plt.plot(thr, rec[1:], label='recall')\n",
    "plt.xlabel('Threshold')\n",
    "plt.title('Precision & Recall vs Threshold', c='r', size=16)\n",
    "plt.legend()\n",
    "plt.show() "
   ]
  },
  {
   "cell_type": "markdown",
   "metadata": {
    "id": "WqNceLieJDtl"
   },
   "source": [
    "Trade-off performed by our random forest model between Precision and Recall can be visualized using the following codes:"
   ]
  },
  {
   "cell_type": "code",
   "execution_count": null,
   "metadata": {
    "colab": {
     "base_uri": "https://localhost:8080/",
     "height": 515
    },
    "executionInfo": {
     "elapsed": 1602,
     "status": "ok",
     "timestamp": 1620798896186,
     "user": {
      "displayName": "Aishwarya Verma",
      "photoUrl": "https://lh3.googleusercontent.com/a-/AOh14GiG6BREocxcd5R6rzlQGApoCsYso7BQAh63eXNz6Q=s64",
      "userId": "06108390091304498033"
     },
     "user_tz": -330
    },
    "id": "q36cwzL5JG6I",
    "outputId": "456befe7-4d97-4beb-93d0-48571be5cd14"
   },
   "outputs": [],
   "source": [
    "fig, ax = plt.subplots(1,1, figsize=(8,8))\n",
    "metrics.plot_precision_recall_curve(model, X_test, y_test, ax=ax) "
   ]
  },
  {
   "cell_type": "markdown",
   "metadata": {
    "id": "XRXTXrZDJGDs"
   },
   "source": [
    "### **Hamming Loss**"
   ]
  },
  {
   "cell_type": "markdown",
   "metadata": {
    "id": "eAG0Dg-BJNej"
   },
   "source": [
    "Hamming loss is the fraction of targets that are misclassified. The best value of the hamming loss is 0 and the worst value is 1. It can be calculated as "
   ]
  },
  {
   "cell_type": "code",
   "execution_count": null,
   "metadata": {
    "colab": {
     "base_uri": "https://localhost:8080/"
    },
    "executionInfo": {
     "elapsed": 889,
     "status": "ok",
     "timestamp": 1620798928322,
     "user": {
      "displayName": "Aishwarya Verma",
      "photoUrl": "https://lh3.googleusercontent.com/a-/AOh14GiG6BREocxcd5R6rzlQGApoCsYso7BQAh63eXNz6Q=s64",
      "userId": "06108390091304498033"
     },
     "user_tz": -330
    },
    "id": "1iyC62MrJBq7",
    "outputId": "77591397-22b9-46fc-d27f-78e47b8e9c3d"
   },
   "outputs": [],
   "source": [
    "hamming_loss = metrics.hamming_loss(y_test, preds)\n",
    "hamming_loss "
   ]
  },
  {
   "cell_type": "markdown",
   "metadata": {
    "id": "CVHJ2x1MJPmb"
   },
   "source": [
    "### **Jaccard Score**\n",
    "\n"
   ]
  },
  {
   "cell_type": "markdown",
   "metadata": {
    "id": "T82ZMhv-JT6d"
   },
   "source": [
    "Jaccard score is defined as the ratio of the size of the intersection to the size of the union of label classes between predicted labels and ground truth labels. It is considered a similarity coefficient to compare the predicted classes and true classes. The value of 1 denotes the best classification and 0 denotes the worst. Jaccard loss is considered a poor choice if the class distribution is imbalanced."
   ]
  },
  {
   "cell_type": "code",
   "execution_count": null,
   "metadata": {
    "colab": {
     "base_uri": "https://localhost:8080/"
    },
    "executionInfo": {
     "elapsed": 882,
     "status": "ok",
     "timestamp": 1620798953331,
     "user": {
      "displayName": "Aishwarya Verma",
      "photoUrl": "https://lh3.googleusercontent.com/a-/AOh14GiG6BREocxcd5R6rzlQGApoCsYso7BQAh63eXNz6Q=s64",
      "userId": "06108390091304498033"
     },
     "user_tz": -330
    },
    "id": "6igm71PFJPIR",
    "outputId": "c028e3df-c7ff-4aea-9faa-4c7c4e9b9c44"
   },
   "outputs": [],
   "source": [
    "jaccard = metrics.jaccard_score(y_test, preds)\n",
    "jaccard "
   ]
  },
  {
   "cell_type": "markdown",
   "metadata": {
    "id": "3Y3d2XFfJXzf"
   },
   "source": [
    "### **Cross-entropy loss**"
   ]
  },
  {
   "cell_type": "markdown",
   "metadata": {
    "id": "fMyEmPX2Jbkb"
   },
   "source": [
    "Cross-entropy loss, also known as log loss, becomes famous in deep neural networks because of its ability to overcome vanishing gradient problems. It measures the impurity caused by misclassification. The cross-entropy loss is calculated as the summation of the logarithmic value of prediction probability distribution for misclassified data points. "
   ]
  },
  {
   "cell_type": "markdown",
   "metadata": {
    "id": "bJajljRqJoKe"
   },
   "source": [
    "![image.png](data:image/png;base64,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)"
   ]
  },
  {
   "cell_type": "code",
   "execution_count": null,
   "metadata": {
    "colab": {
     "base_uri": "https://localhost:8080/"
    },
    "executionInfo": {
     "elapsed": 1094,
     "status": "ok",
     "timestamp": 1620799043396,
     "user": {
      "displayName": "Aishwarya Verma",
      "photoUrl": "https://lh3.googleusercontent.com/a-/AOh14GiG6BREocxcd5R6rzlQGApoCsYso7BQAh63eXNz6Q=s64",
      "userId": "06108390091304498033"
     },
     "user_tz": -330
    },
    "id": "5a-WRevnJVPM",
    "outputId": "69a870d1-aa84-4d92-96ac-c87caff3461a"
   },
   "outputs": [],
   "source": [
    "# Entropy loss\n",
    "cross_entropy_loss = metrics.log_loss(y_test, prob_test)\n",
    "cross_entropy_loss "
   ]
  },
  {
   "cell_type": "markdown",
   "metadata": {
    "id": "Ry5ErUUxJ296"
   },
   "source": [
    "#**Related Articles:**\n",
    "\n",
    "> * [Evaluation measures for Classification Problem](https://analyticsindiamag.com/evaluation-metrics-in-ml-ai-for-classification-problems-wpython-code/)\n",
    "> * [Loss Functions](https://analyticsindiamag.com/hands-on-guide-to-loss-functions-used-to-evaluate-a-ml-algorithm/)\n",
    "> * [Machine Learning Model Evaluation](https://analyticsindiamag.com/practical-guide-to-machine-learning-model-evaluation-and-error-metrics/)\n",
    "> * [ROC-AUC Curve - Detailed Explaination](https://analyticsindiamag.com/roc-auc-curve-for-comprehensive-analysis-of-machine-learning-models/)"
   ]
  },
  {
   "cell_type": "code",
   "execution_count": null,
   "metadata": {
    "id": "7zL9IXhNJrLB"
   },
   "outputs": [],
   "source": []
  }
 ],
 "metadata": {
  "colab": {
   "authorship_tag": "ABX9TyNL56OeOn0zqQumaB74j1cJ",
   "collapsed_sections": [],
   "name": "Evaluation Measures in Classification Problem.ipynb",
   "provenance": [],
   "toc_visible": true
  },
  "kernelspec": {
   "display_name": "Python 3",
   "name": "python3"
  },
  "language_info": {
   "name": "python"
  }
 },
 "nbformat": 4,
 "nbformat_minor": 2
}
