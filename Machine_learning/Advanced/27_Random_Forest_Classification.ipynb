{
 "cells": [
  {
   "cell_type": "markdown",
   "metadata": {
    "id": "gK_UalSbp_18"
   },
   "source": [
    "# **What is Random Forest?**"
   ]
  },
  {
   "cell_type": "markdown",
   "metadata": {
    "id": "KJai_vSCqD56"
   },
   "source": [
    "The forest is said to robust when there are a lot of trees in the forest. Random Forest is an ensemble technique that is a tree-based algorithm. The process of fitting no decision trees on different subsample and then taking out the average to increase the performance of the model is called “Random Forest”. Suppose we have to go on a vacation to someplace. Before going to the destination we vote for the place where we want to go. Once we have voted for the destination then we choose hotels, etc. And then come back with the final choice of hotel as well. The whole process of getting the vote for the place to the hotel is nothing but a Random Forest Algorithm. This is the way the algorithm works and the reason it is preferred over all other algorithms because of its ability to give high accuracy and to prevent overfitting by making use of more trees. There are several different hyperparameters like no trees, depth of trees, jobs, etc in this algorithm. Check here the Sci-kit documentation for the same. "
   ]
  },
  {
   "cell_type": "code",
   "execution_count": null,
   "metadata": {},
   "outputs": [],
   "source": [
    "!python -m pip install pip --upgrade --user -q\n",
    "!python -m pip install numpy pandas seaborn matplotlib scipy sklearn statsmodels scikit-image --user -q"
   ]
  },
  {
   "cell_type": "code",
   "execution_count": null,
   "metadata": {},
   "outputs": [],
   "source": [
    "import IPython\n",
    "IPython.Application.instance().kernel.do_shutdown(True)"
   ]
  },
  {
   "cell_type": "code",
   "execution_count": null,
   "metadata": {
    "id": "ALmZN_AEnOo3"
   },
   "outputs": [],
   "source": [
    "from sklearn.ensemble import RandomForestClassifier\n",
    "\n",
    "rfcl = RandomForestClassifier()"
   ]
  },
  {
   "cell_type": "markdown",
   "metadata": {
    "id": "SlGOGGYbqL7E"
   },
   "source": [
    "# **Build a Random Forest Classification Model**"
   ]
  },
  {
   "cell_type": "markdown",
   "metadata": {
    "id": "l-j3zjAmqT5e"
   },
   "source": [
    "## **Import the required Libraries**"
   ]
  },
  {
   "cell_type": "code",
   "execution_count": null,
   "metadata": {
    "id": "c3nMAhWpvbT5"
   },
   "outputs": [],
   "source": [
    "import pandas as pd\n",
    "from sklearn.ensemble import RandomForestClassifier\n",
    "from sklearn.model_selection import train_test_split\n",
    "from sklearn.metrics import accuracy_score,classification_report\n"
   ]
  },
  {
   "cell_type": "markdown",
   "metadata": {
    "id": "t3lgLn_2vp8U"
   },
   "source": [
    "##**Read the data**"
   ]
  },
  {
   "cell_type": "code",
   "execution_count": null,
   "metadata": {
    "id": "EZrsxWtkvy_W"
   },
   "outputs": [],
   "source": [
    "data = pd.read_csv('pimadiabetes.csv')"
   ]
  },
  {
   "cell_type": "markdown",
   "metadata": {
    "id": "LgFQDonVwCr2"
   },
   "source": [
    "We will check what is there in the data and its shape. Refer to the below code for the same."
   ]
  },
  {
   "cell_type": "code",
   "execution_count": null,
   "metadata": {
    "id": "KzRQC5APwDaU"
   },
   "outputs": [],
   "source": [
    "data.head()"
   ]
  },
  {
   "cell_type": "code",
   "execution_count": null,
   "metadata": {
    "id": "5p7jgAttwFYT"
   },
   "outputs": [],
   "source": [
    "data.shape"
   ]
  },
  {
   "cell_type": "markdown",
   "metadata": {
    "id": "G5NqSQHZwJx5"
   },
   "source": [
    "## **Define Dependent and Independent Variables**"
   ]
  },
  {
   "cell_type": "markdown",
   "metadata": {
    "id": "XhPbEiYawPC1"
   },
   "source": [
    "\n",
    "Now we will define the dependent and independent features X and y respectively. We will then divide the dataset into training and testing sets. Use the below code for the same"
   ]
  },
  {
   "cell_type": "code",
   "execution_count": null,
   "metadata": {
    "id": "Ne2CotftwOXO"
   },
   "outputs": [],
   "source": [
    "X = data.drop('Outcome',axis = 1)\n",
    "y= data['Outcome']\n",
    "X_train, X_test, y_train, y_test = train_test_split(X, y, test_size=0.33)\n",
    "print(X_train.shape)\n",
    "print(X_test.shape)"
   ]
  },
  {
   "cell_type": "markdown",
   "metadata": {
    "id": "5QKfqwXCwalc"
   },
   "source": [
    "There are 514 rows in the training set and 254 rows in the testing set. Now we will fit the training data on both the model built by random forest and xgboost using default parameters. Then we will compute prediction over the testing data by both the models."
   ]
  },
  {
   "cell_type": "markdown",
   "metadata": {
    "id": "a-zOxAdjwciB"
   },
   "source": [
    "## **Fit the Random Forest Classifier**"
   ]
  },
  {
   "cell_type": "code",
   "execution_count": null,
   "metadata": {
    "id": "ywvR4Be3wg-S"
   },
   "outputs": [],
   "source": [
    "rfcl.fit(X_train,y_train)"
   ]
  },
  {
   "cell_type": "markdown",
   "metadata": {
    "id": "AMRUCV46wknO"
   },
   "source": [
    "## **Predict the Y values on Test Data**"
   ]
  },
  {
   "cell_type": "code",
   "execution_count": null,
   "metadata": {
    "id": "O5dXlm9Vwr1N"
   },
   "outputs": [],
   "source": [
    "y_rfcl = rfcl.predict(X_test)"
   ]
  },
  {
   "cell_type": "markdown",
   "metadata": {
    "id": "I7PMrXkFwvA3"
   },
   "source": [
    "## **Evaluation of the Model**"
   ]
  },
  {
   "cell_type": "markdown",
   "metadata": {
    "id": "viE3GxGwwzFh"
   },
   "source": [
    "We have stored the prediction on testing data for both the models in y_rfcl and Now we will evaluate the model performance to check how much the model is able to generalize. We will make use of evaluation metrics like accuracy score and classification report from sklearn. "
   ]
  },
  {
   "cell_type": "code",
   "execution_count": null,
   "metadata": {
    "id": "IEknUShIwyQu"
   },
   "outputs": [],
   "source": [
    "print(\"Random Forest Accuracy: \", accuracy_score(y_rfcl,y_test))"
   ]
  },
  {
   "cell_type": "markdown",
   "metadata": {
    "id": "nayK4ii8w-FK"
   },
   "source": [
    "We implemented a classification model for the Pima Indian Diabetes data set using Random Forest algorithm. We did not even normalize the data and directly fed it to the model still we were able to get 80%. If we work more on data and feature engineering then this accuracy can be improved further.\n",
    "\n",
    "The algorithms work efficiently even if we have missing values in the dateset and prevent the model from getting over fitted and easy to implement.  "
   ]
  },
  {
   "cell_type": "markdown",
   "metadata": {
    "id": "80QsgDqknaj-"
   },
   "source": [
    "# **Related Articles --**\n",
    "\n",
    ">* [Random Forest V/s XG Boost](https://analyticsindiamag.com/random-forest-vs-xgboost-comparing-tree-based-algorithms-with-codes/)\n",
    "> * [Basics of Ensemble Learning](https://analyticsindiamag.com/basics-of-ensemble-learning-in-classification-techniques-explained/) \n",
    "> * [Bagging V/S Boosting](https://analyticsindiamag.com/guide-to-ensemble-methods-bagging-vs-boosting/)\n",
    "> * [Guide to Ensemble Learning](https://analyticsindiamag.com/a-hands-on-guide-to-hybrid-ensemble-learning-models-with-python-code/)\n",
    "> * [Ensemble Methods](https://analyticsindiamag.com/primer-ensemble-learning-bagging-boosting/)"
   ]
  }
 ],
 "metadata": {
  "colab": {
   "authorship_tag": "ABX9TyMOOATMXPMzVPaw11TLWbH6",
   "collapsed_sections": [],
   "name": "2_Random_Forest.ipynb",
   "provenance": [],
   "toc_visible": true
  },
  "kernelspec": {
   "display_name": "Python 3",
   "name": "python3"
  },
  "language_info": {
   "name": "python"
  }
 },
 "nbformat": 4,
 "nbformat_minor": 2
}
