{
 "cells": [
  {
   "cell_type": "markdown",
   "metadata": {
    "id": "48J8Y8KHx9p8"
   },
   "source": [
    "# **Bayesian Neural Network in Classification**"
   ]
  },
  {
   "cell_type": "markdown",
   "metadata": {
    "id": "a3WvnK8myqYE"
   },
   "source": [
    "The neural network will work really well with training data but underperforms when it is fed unseen data. This makes the network blind to the uncertainties in the training data and tends to be overly confident in its wrong predictions. Consider an example where you are trying to classify a car and a bike. If an image of a truck is shown to the network, it ideally should not predict anything. But, because of the softmax function, it assigns a high probability to one of the classes and the network wrongly, though confidently predicts it to be a car. In order to avoid this, we use the Bayesian Neural Network (BNN)."
   ]
  },
  {
   "cell_type": "markdown",
   "metadata": {
    "id": "0NlHqLddytzl"
   },
   "source": [
    "To read about it more, please refer [this](https://analyticsindiamag.com/hands-on-guide-to-bayesian-neural-network-in-classification/) article."
   ]
  },
  {
   "cell_type": "markdown",
   "metadata": {
    "id": "2C1n0Lasy8ek"
   },
   "source": [
    "## **Implementation**"
   ]
  },
  {
   "cell_type": "markdown",
   "metadata": {
    "id": "_CoLnPe3y-xA"
   },
   "source": [
    "We will now implement the BNN on a small dataset from sklearn called iris dataset. This dataset has 4 attributes and around 150 data points. "
   ]
  },
  {
   "cell_type": "markdown",
   "metadata": {
    "id": "POUWv1bBzAfv"
   },
   "source": [
    "### **Loading the dataset and importing essential packages**"
   ]
  },
  {
   "cell_type": "code",
   "execution_count": null,
   "metadata": {},
   "outputs": [],
   "source": [
    "!python -m pip install pip --upgrade --user -q\n",
    "!python -m pip install numpy pandas seaborn matplotlib scipy sklearn statsmodels keras tensorflow torch --user -q"
   ]
  },
  {
   "cell_type": "code",
   "execution_count": null,
   "metadata": {
    "id": "Wgyb6PK35NgS"
   },
   "outputs": [],
   "source": [
    "!python -m pip install torchbnn --user -q"
   ]
  },
  {
   "cell_type": "code",
   "execution_count": null,
   "metadata": {},
   "outputs": [],
   "source": [
    "import IPython\n",
    "IPython.Application.instance().kernel.do_shutdown(True)"
   ]
  },
  {
   "cell_type": "code",
   "execution_count": null,
   "metadata": {
    "id": "JAPJ-j-Ux1v3"
   },
   "outputs": [],
   "source": [
    "import numpy as np\n",
    "from sklearn import datasets\n",
    "import torch\n",
    "import torch.nn as nn\n",
    "import torch.optim as optim\n",
    "import torchbnn as bnn\n",
    "import matplotlib.pyplot as plt\n",
    "\n",
    "dataset = datasets.load_iris()"
   ]
  },
  {
   "cell_type": "markdown",
   "metadata": {
    "id": "i6PosDlKzEqi"
   },
   "source": [
    "### **Splitting the dataset into data and target and converting them to tensors**"
   ]
  },
  {
   "cell_type": "code",
   "execution_count": null,
   "metadata": {
    "id": "smxyn9QszJER"
   },
   "outputs": [],
   "source": [
    "data = dataset.data\n",
    "target = dataset.target \n",
    "data_tensor=torch.from_numpy(data).float()\n",
    "target_tensor=torch.from_numpy(target).long()"
   ]
  },
  {
   "cell_type": "markdown",
   "metadata": {
    "id": "Z3zSClgC5QPH"
   },
   "source": [
    "## **Defining a simple Bayesian model**"
   ]
  },
  {
   "cell_type": "code",
   "execution_count": null,
   "metadata": {
    "id": "kKFYze2q5UzS"
   },
   "outputs": [],
   "source": [
    "model = nn.Sequential(\n",
    "    bnn.BayesLinear(prior_mu=0, prior_sigma=0.1, in_features=4, out_features=100),\n",
    "    nn.ReLU(),\n",
    "    bnn.BayesLinear(prior_mu=0, prior_sigma=0.1, in_features=100, out_features=3),\n",
    ")\n",
    "\n",
    "#prior_mu (Float) is the mean of prior normal distribution.\n",
    "#prior_sigma (Float) is the sigma of prior normal distribution."
   ]
  },
  {
   "cell_type": "markdown",
   "metadata": {
    "id": "Sz7v3hdv5Xgo"
   },
   "source": [
    "## **Defining loss function**"
   ]
  },
  {
   "cell_type": "markdown",
   "metadata": {
    "id": "Y_fDfWcR5a6p"
   },
   "source": [
    "The two-loss functions used here are cross-entropy loss and the BKL loss which is used to compute the KL (Kullback–Leibler) divergence of the network."
   ]
  },
  {
   "cell_type": "code",
   "execution_count": null,
   "metadata": {
    "id": "TqSI4nIa5aWF"
   },
   "outputs": [],
   "source": [
    "cross_entropy_loss = nn.CrossEntropyLoss()\n",
    "klloss = bnn.BKLLoss(reduction='mean', last_layer_only=False)\n",
    "klweight = 0.01\n",
    "optimizer = optim.Adam(model.parameters(), lr=0.01)"
   ]
  },
  {
   "cell_type": "markdown",
   "metadata": {
    "id": "QpB4_yJI5eRb"
   },
   "source": [
    "## **Training the model**\n",
    "\n",
    "The model is trained for 3000 steps(this would have lead to overfitting for a traditional network)"
   ]
  },
  {
   "cell_type": "code",
   "execution_count": null,
   "metadata": {
    "id": "s5uiaAXv5hSt"
   },
   "outputs": [],
   "source": [
    "for step in range(3000):\n",
    "    models = model(data_tensor)\n",
    "    cross_entropy = cross_entropy_loss(models, target_tensor)\n",
    "    kl = klloss(model)\n",
    "    total_cost = cross_entropy + klweight*kl\n",
    "\n",
    "    optimizer.zero_grad()\n",
    "    total_cost.backward()\n",
    "    optimizer.step()\n",
    "  \n",
    "_, predicted = torch.max(models.data, 1)\n",
    "final = target_tensor.size(0)\n",
    "correct = (predicted == target_tensor).sum()\n",
    "print('- Accuracy: %f %%' % (100 * float(correct) / final))\n",
    "print('- CE : %2.2f, KL : %2.2f' % (cross_entropy.item(), kl.item()))"
   ]
  },
  {
   "cell_type": "markdown",
   "metadata": {
    "id": "ERn2ofZc5voy"
   },
   "source": [
    "## **Visualisation**"
   ]
  },
  {
   "cell_type": "markdown",
   "metadata": {
    "id": "bp6wwHBm5y7M"
   },
   "source": [
    "Let us now visualise the model and see how it has performed. To understand how sampling works, run the model multiple times and plot the graphs. You will notice minor changes with each iteration."
   ]
  },
  {
   "cell_type": "code",
   "execution_count": null,
   "metadata": {
    "id": "r-mnbneM53Yq"
   },
   "outputs": [],
   "source": [
    "def draw_graph(predicted) :\n",
    "    fig = plt.figure(figsize = (16, 8))\n",
    "\n",
    "    fig_1 = fig.add_subplot(1, 2, 1)\n",
    "    fig_2 = fig.add_subplot(1, 2, 2)\n",
    "\n",
    "    z1_plot = fig_1.scatter(data[:, 0], data[:, 1], c = target,marker='v')\n",
    "    z2_plot = fig_2.scatter(data[:, 0], data[:, 1], c = predicted)\n",
    "\n",
    "    plt.colorbar(z1_plot,ax=fig_1)\n",
    "    plt.colorbar(z2_plot,ax=fig_2)\n",
    "\n",
    "    fig_1.set_title(\"REAL\")\n",
    "    fig_2.set_title(\"PREDICT\")\n",
    "\n",
    "    plt.show()\n",
    "\n",
    "#Run 1 : \n",
    "models = model(data_tensor)\n",
    "_, predicted = torch.max(models.data, 1)\n",
    "draw_graph(predicted)"
   ]
  },
  {
   "cell_type": "code",
   "execution_count": null,
   "metadata": {
    "id": "GXmRF4U86A8r"
   },
   "outputs": [],
   "source": [
    "#Run 2: \n",
    "models = model(data_tensor)\n",
    "_, predicted = torch.max(models.data, 1)\n",
    "draw_graph(predicted)"
   ]
  },
  {
   "cell_type": "markdown",
   "metadata": {
    "id": "gp-OiW1Y6GV5"
   },
   "source": [
    "The above graph indicates the difference between the scattering of data points in the actual dataset versus the scattering of points in the predicted bayesian network. Since there are 3 output classes, each of them are indicated in a different color. Each time the data is sampled, the network assigns a probability distribution to the entire input data. On close observation near coordinates (2.3,6.2) of the predicted graph, there is a different prediction made because of the change in probability."
   ]
  },
  {
   "cell_type": "markdown",
   "metadata": {
    "id": "fD68lYDPkZTw"
   },
   "source": [
    "# **Related Articles --**\n",
    "\n",
    "\n",
    "> * [Bayesian Neural Network in Classification](https://analyticsindiamag.com/hands-on-guide-to-bayesian-neural-network-in-classification/)\n",
    "> * [Introduction to LSTM Autoencoder](https://analyticsindiamag.com/introduction-to-lstm-autoencoder-using-keras/)\n",
    "> * [Beginners Guide to MLP](https://analyticsindiamag.com/a-beginners-guide-to-scikit-learns-mlpclassifier/)\n",
    "> * [Beginners Guide to PyTorch](https://analyticsindiamag.com/a-beginners-guide-pytorch/)\n",
    "> * [Loss functions in PyTorch](https://analyticsindiamag.com/all-pytorch-loss-function/)\n",
    "> * [Loss functions in Tensorflow Keras](https://analyticsindiamag.com/ultimate-guide-to-loss-functions-in-tensorflow-keras-api-with-python-implementation/)\n",
    "> * [Loss function with examples](https://analyticsindiamag.com/loss-functions-in-deep-learning-an-overview/)\n",
    "> * [Optimizers in Tensorflow Keras](https://analyticsindiamag.com/guide-to-tensorflow-keras-optimizers/)"
   ]
  }
 ],
 "metadata": {
  "colab": {
   "authorship_tag": "ABX9TyPLz67CISynI3Q7z1rV46vG",
   "collapsed_sections": [],
   "name": "1_Bayesian_Neural_Network_Classification.ipynb",
   "provenance": []
  },
  "kernelspec": {
   "display_name": "Python 3",
   "name": "python3"
  },
  "language_info": {
   "name": "python"
  }
 },
 "nbformat": 4,
 "nbformat_minor": 2
}
