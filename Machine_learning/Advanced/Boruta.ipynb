{
 "cells": [
  {
   "cell_type": "markdown",
   "metadata": {
    "id": "ub5R2bSYcAEm"
   },
   "source": [
    "# **Boruta**"
   ]
  },
  {
   "cell_type": "markdown",
   "metadata": {
    "id": "OmcdPZOwb68Y"
   },
   "source": [
    "\n",
    "\n",
    "Feature selection is one of the most crucial and time-consuming phases of the machine learning process, second only to data cleaning. What if we can automate the process? Well, that’s exactly what Boruta does. Boruta is an algorithm designed to take the “all-relevant” approach to feature selection, i.e., it tries to find all features from the dataset which carry information relevant to a given task. The counterpart to this is the “minimal-optimal” approach, which sees the minimal subset of features that are important in a model. "
   ]
  },
  {
   "cell_type": "markdown",
   "metadata": {
    "id": "0qmVLDJycGCV"
   },
   "source": [
    "To read about it more, please refer [this](https://analyticsindiamag.com/hands-on-guide-to-automated-feature-selection-using-boruta/) article."
   ]
  },
  {
   "cell_type": "markdown",
   "metadata": {
    "id": "S1_Ule-ocd_F"
   },
   "source": [
    "# **Code Implementation**"
   ]
  },
  {
   "cell_type": "markdown",
   "metadata": {
    "id": "C8F2tGmTQKEu"
   },
   "source": [
    "## Intalling the module \n"
   ]
  },
  {
   "cell_type": "code",
   "execution_count": null,
   "metadata": {},
   "outputs": [],
   "source": [
    "!python -m pip install pip --upgrade --user -q\n",
    "!python -m pip install numpy pandas seaborn matplotlib scipy sklearn statsmodels --user -q"
   ]
  },
  {
   "cell_type": "code",
   "execution_count": null,
   "metadata": {
    "id": "Wvo9eP8hOuDG"
   },
   "outputs": [],
   "source": [
    "!python -m pip install Boruta --user -q"
   ]
  },
  {
   "cell_type": "code",
   "execution_count": null,
   "metadata": {},
   "outputs": [],
   "source": [
    "import IPython\n",
    "IPython.Application.instance().kernel.do_shutdown(True)"
   ]
  },
  {
   "cell_type": "markdown",
   "metadata": {
    "id": "ZmOJ68IAcjCr"
   },
   "source": [
    "  Importing Boruta and other required libraries. "
   ]
  },
  {
   "cell_type": "code",
   "execution_count": null,
   "metadata": {
    "id": "L10fO-J_PaIe"
   },
   "outputs": [],
   "source": [
    "import pandas as pd\n",
    "import numpy as np\n",
    "from sklearn.ensemble import RandomForestClassifier\n",
    "from boruta import BorutaPy\n",
    "from sklearn.model_selection import train_test_split\n",
    "from sklearn.metrics import accuracy_score"
   ]
  },
  {
   "cell_type": "markdown",
   "metadata": {
    "id": "o4DCo1olcoBl"
   },
   "source": [
    "Loading the dataset, separating the features from the target variable, and splitting the data into a train and a dev set."
   ]
  },
  {
   "cell_type": "code",
   "execution_count": null,
   "metadata": {
    "id": "Qk2kMMsnPagq"
   },
   "outputs": [],
   "source": [
    "URL = \"https://raw.githubusercontent.com/Aditya1001001/English-Premier-League/master/pos_modelling_data.csv\""
   ]
  },
  {
   "cell_type": "code",
   "execution_count": null,
   "metadata": {
    "id": "1tsFgcITPatF"
   },
   "outputs": [],
   "source": [
    "data = pd.read_csv(URL)"
   ]
  },
  {
   "cell_type": "code",
   "execution_count": null,
   "metadata": {
    "id": "D0YX5WwgPa6m"
   },
   "outputs": [],
   "source": [
    "data.head()"
   ]
  },
  {
   "cell_type": "code",
   "execution_count": null,
   "metadata": {
    "id": "IGkm_xeGQmxT"
   },
   "outputs": [],
   "source": [
    "data.isnull().sum().sum()"
   ]
  },
  {
   "cell_type": "code",
   "execution_count": null,
   "metadata": {
    "id": "PJkYTa47SHqT"
   },
   "outputs": [],
   "source": [
    "data.info()"
   ]
  },
  {
   "cell_type": "code",
   "execution_count": null,
   "metadata": {
    "id": "S9NAjlVsRrre"
   },
   "outputs": [],
   "source": [
    "X = data.drop('Position', axis = 1)\n",
    "y = data['Position']"
   ]
  },
  {
   "cell_type": "code",
   "execution_count": null,
   "metadata": {
    "id": "LfaaBf3xQsog"
   },
   "outputs": [],
   "source": [
    "X_train, X_test, y_train, y_test = train_test_split(X, y, test_size = .2, random_state = 1)"
   ]
  },
  {
   "cell_type": "markdown",
   "metadata": {
    "id": "tTHoUBR_csHw"
   },
   "source": [
    "Creating a baseline RandomForrestClassifier model with all the features."
   ]
  },
  {
   "cell_type": "code",
   "execution_count": null,
   "metadata": {
    "id": "iclEmKhnmY-2"
   },
   "outputs": [],
   "source": [
    "rf_all_features = RandomForestClassifier(random_state=1, n_estimators=1000, max_depth=5)\n",
    "rf_all_features.fit(X_train, y_train)"
   ]
  },
  {
   "cell_type": "code",
   "execution_count": null,
   "metadata": {
    "id": "lDMHmT2Zm2Ci"
   },
   "outputs": [],
   "source": [
    "accuracy_score(y_test, rf_all_features.predict(X_test))"
   ]
  },
  {
   "cell_type": "markdown",
   "metadata": {
    "id": "DyILJP1RD8KF"
   },
   "source": [
    "## Using Boruta for feature selction"
   ]
  },
  {
   "cell_type": "markdown",
   "metadata": {
    "id": "E-7DUi05cwbO"
   },
   "source": [
    "  Creating a BorutaPy object with RandomForestClassifier as the estimator and ranking the features. \n",
    "\n",
    "One important thing to note here is that Boruta works on NumPy arrays only"
   ]
  },
  {
   "cell_type": "code",
   "execution_count": null,
   "metadata": {
    "id": "KKQiZK8oSemC"
   },
   "outputs": [],
   "source": [
    "rfc = RandomForestClassifier(random_state=1, n_estimators=1000, max_depth=5)\n",
    "boruta_selector = BorutaPy(rfc, n_estimators='auto', verbose=2, random_state=1)\n",
    "boruta_selector.fit(np.array(X_train), np.array(y_train)) "
   ]
  },
  {
   "cell_type": "code",
   "execution_count": null,
   "metadata": {
    "id": "BS5i7zWyYJ_W"
   },
   "outputs": [],
   "source": [
    "type(boruta_selector)"
   ]
  },
  {
   "cell_type": "code",
   "execution_count": null,
   "metadata": {
    "id": "w8xwYuj_SiNA"
   },
   "outputs": [],
   "source": [
    "print(\"Selected Features: \", boruta_selector.support_)    # check selected features"
   ]
  },
  {
   "cell_type": "code",
   "execution_count": null,
   "metadata": {
    "id": "WiuIPrF0Tjh7"
   },
   "outputs": [],
   "source": [
    "print(\"Ranking: \",boruta_selector.ranking_)               # check ranking of features\n",
    "\n",
    "print(\"No. of significant features: \", boruta_selector.n_features_)"
   ]
  },
  {
   "cell_type": "markdown",
   "metadata": {
    "id": "Dj3QkuJmZL5j"
   },
   "source": [
    "So boruta has selected 31 relavent features. (The features with a ranking of 1 are selected).\n",
    "\n",
    "Let's visualise it in the form of a table"
   ]
  },
  {
   "cell_type": "code",
   "execution_count": null,
   "metadata": {
    "id": "Vxue3tg5TozW"
   },
   "outputs": [],
   "source": [
    "selected_rf_features = pd.DataFrame({'Feature':list(X_train.columns),\n",
    "                                      'Ranking':boruta_selector.ranking_})\n",
    "selected_rf_features.sort_values(by='Ranking')"
   ]
  },
  {
   "cell_type": "markdown",
   "metadata": {
    "id": "WWukdT-6c-NM"
   },
   "source": [
    "Using the BorutaPy object to transform the features in the dataset."
   ]
  },
  {
   "cell_type": "code",
   "execution_count": null,
   "metadata": {
    "id": "MzeZd17kTs5g"
   },
   "outputs": [],
   "source": [
    "X_important_train = boruta_selector.transform(np.array(X_train))\n",
    "X_important_test = boruta_selector.transform(np.array(X_test))"
   ]
  },
  {
   "cell_type": "code",
   "execution_count": null,
   "metadata": {
    "id": "E4devlTfcY0q"
   },
   "outputs": [],
   "source": [
    "X_important_train.shape"
   ]
  },
  {
   "cell_type": "markdown",
   "metadata": {
    "id": "UZ6akZjwdCp-"
   },
   "source": [
    "Creating another RandomForestClassifier model with the same parameters as the baseline classifier and training it with the selected features."
   ]
  },
  {
   "cell_type": "code",
   "execution_count": null,
   "metadata": {
    "id": "Ht0AlYVZkblP"
   },
   "outputs": [],
   "source": [
    "rf_boruta = RandomForestClassifier(random_state=1, n_estimators=1000, max_depth=5)\n",
    "rf_boruta.fit(X_important_train, y_train)"
   ]
  },
  {
   "cell_type": "code",
   "execution_count": null,
   "metadata": {
    "id": "rVMUBjRXl8qj"
   },
   "outputs": [],
   "source": [
    "accuracy_score(y_test, rf_boruta.predict(X_important_test))"
   ]
  },
  {
   "cell_type": "code",
   "execution_count": null,
   "metadata": {
    "id": "No5wcfeXl9_j"
   },
   "outputs": [],
   "source": [
    "from sklearn.model_selection import GridSearchCV\n",
    "# Create the parameter grid based on the results of random search \n",
    "param_grid = {\n",
    "    'bootstrap': [True, False],\n",
    "    'max_depth': [5, 10, 15],\n",
    "    'n_estimators': [500, 1000]}"
   ]
  },
  {
   "cell_type": "code",
   "execution_count": null,
   "metadata": {
    "id": "7apTmOJYnIXa"
   },
   "outputs": [],
   "source": [
    "rf_hyper = RandomForestClassifier(random_state = 1)\n",
    "\n",
    "# Grid search cv\n",
    "grid_search = GridSearchCV(estimator = rf_hyper, param_grid = param_grid, \n",
    "                          cv = 2, n_jobs = -1, verbose = 2)"
   ]
  },
  {
   "cell_type": "code",
   "execution_count": null,
   "metadata": {
    "id": "ElFZUfpsnJgv"
   },
   "outputs": [],
   "source": [
    "grid_search.fit(X_important_train, y_train)"
   ]
  },
  {
   "cell_type": "code",
   "execution_count": null,
   "metadata": {
    "id": "bat6ehzlnLG_"
   },
   "outputs": [],
   "source": [
    "\n",
    "grid_search.best_params_"
   ]
  },
  {
   "cell_type": "code",
   "execution_count": null,
   "metadata": {
    "id": "ToVX4s7FnMlo"
   },
   "outputs": [],
   "source": [
    "accuracy_score(y_test, grid_search.predict(X_important_test))"
   ]
  }
 ],
 "metadata": {
  "colab": {
   "authorship_tag": "ABX9TyNCtBix/KjV0ODz7wFUk9YG",
   "collapsed_sections": [],
   "name": "1_Boruta.ipynb",
   "provenance": []
  },
  "kernelspec": {
   "display_name": "Python 3",
   "name": "python3"
  },
  "language_info": {
   "name": "python"
  }
 },
 "nbformat": 4,
 "nbformat_minor": 2
}
