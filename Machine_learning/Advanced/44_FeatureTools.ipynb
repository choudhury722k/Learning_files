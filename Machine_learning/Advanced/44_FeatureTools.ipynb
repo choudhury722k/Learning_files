{
 "cells": [
  {
   "cell_type": "markdown",
   "metadata": {
    "id": "rIrQVK9Qq8o_"
   },
   "source": [
    "# FeatureTools"
   ]
  },
  {
   "cell_type": "markdown",
   "metadata": {
    "id": "TnhMVNeqq7ju"
   },
   "source": [
    "Featuretools is an open-source Python library designed for automated feature engineering. It was developed by the Feature Labs. It enables the creation of new features from several related data tables. Feature selection techniques can then be used to choose appropriate features from them and then data scientists can proceed with model creation."
   ]
  },
  {
   "cell_type": "markdown",
   "metadata": {
    "id": "IXNwGbNavBnQ"
   },
   "source": [
    "To read about it more, please read [this](https://analyticsindiamag.com/introduction-to-featuretools-a-python-framework-for-automated-feature-engineering/) article."
   ]
  },
  {
   "cell_type": "markdown",
   "metadata": {
    "id": "Fl9VWkk8vGuR"
   },
   "source": [
    "# Practical implementation "
   ]
  },
  {
   "cell_type": "markdown",
   "metadata": {
    "id": "ZluBpJnovKhn"
   },
   "source": [
    "Here’s a demonstration of implementing automated feature engineering using Featuretools for a supervised machine learning classification task that aims to predict whether or not a loan application of a financial institution named ‘Home Credit’ will default on the loan (‘Default’ means the client fails to repay the loan). The ‘Home Credit Default Risk’ dataset used here is available on Kaggle ([weblink](https://www.kaggle.com/c/home-credit-default-risk/data) to download it). Step-wise explanation of the code is as follows:"
   ]
  },
  {
   "cell_type": "code",
   "execution_count": null,
   "metadata": {},
   "outputs": [],
   "source": [
    "!python -m pip install pip --upgrade --user -q\n",
    "!python -m pip install numpy pandas seaborn matplotlib scipy sklearn statsmodels tensorflow keras --user -q"
   ]
  },
  {
   "cell_type": "markdown",
   "metadata": {
    "id": "6QAyr-ijvOku"
   },
   "source": [
    "  Install Featuretools library"
   ]
  },
  {
   "cell_type": "code",
   "execution_count": null,
   "metadata": {
    "colab": {
     "base_uri": "https://localhost:8080/",
     "height": 1000
    },
    "executionInfo": {
     "elapsed": 12444,
     "status": "ok",
     "timestamp": 1623929486035,
     "user": {
      "displayName": "Aishwarya Verma",
      "photoUrl": "https://lh3.googleusercontent.com/a-/AOh14GiG6BREocxcd5R6rzlQGApoCsYso7BQAh63eXNz6Q=s64",
      "userId": "06108390091304498033"
     },
     "user_tz": -330
    },
    "id": "a6KvzNTbqhhn",
    "outputId": "f88b223c-91eb-4ed3-dd20-d21309604399"
   },
   "outputs": [],
   "source": [
    "!python -m pip install featuretools --user -q"
   ]
  },
  {
   "cell_type": "code",
   "execution_count": null,
   "metadata": {},
   "outputs": [],
   "source": [
    "import IPython\n",
    "IPython.Application.instance().kernel.do_shutdown(True)"
   ]
  },
  {
   "cell_type": "markdown",
   "metadata": {
    "id": "dBy_TlfovXLc"
   },
   "source": [
    "Import required libraries and modules"
   ]
  },
  {
   "cell_type": "code",
   "execution_count": null,
   "metadata": {
    "executionInfo": {
     "elapsed": 9,
     "status": "ok",
     "timestamp": 1623930405240,
     "user": {
      "displayName": "Aishwarya Verma",
      "photoUrl": "https://lh3.googleusercontent.com/a-/AOh14GiG6BREocxcd5R6rzlQGApoCsYso7BQAh63eXNz6Q=s64",
      "userId": "06108390091304498033"
     },
     "user_tz": -330
    },
    "id": "Nis3ndczvQMQ"
   },
   "outputs": [],
   "source": [
    "import numpy as np\n",
    "import pandas as pd\n",
    "import featuretools as ft\n",
    "import featuretools.variable_types as vtypes "
   ]
  },
  {
   "cell_type": "markdown",
   "metadata": {
    "id": "xitg_VB7vbs1"
   },
   "source": [
    "Read the data files"
   ]
  },
  {
   "cell_type": "code",
   "execution_count": null,
   "metadata": {
    "executionInfo": {
     "elapsed": 53236,
     "status": "ok",
     "timestamp": 1623930458468,
     "user": {
      "displayName": "Aishwarya Verma",
      "photoUrl": "https://lh3.googleusercontent.com/a-/AOh14GiG6BREocxcd5R6rzlQGApoCsYso7BQAh63eXNz6Q=s64",
      "userId": "06108390091304498033"
     },
     "user_tz": -330
    },
    "id": "sFTkJigIvwu6"
   },
   "outputs": [],
   "source": [
    "#Files containing training and test data for each client\n",
    "app_train = pd.read_csv('https://gitlab.com/AnalyticsIndiaMagazine/practicedatasets/-/raw/main/featuretools/application_train.csv').replace({365243: np.nan})\n",
    "app_test = pd.read_csv('https://gitlab.com/AnalyticsIndiaMagazine/practicedatasets/-/raw/main/featuretools/application_test.csv').replace({365243: np.nan})\n",
    "\n",
    "#File containing data of clients’ previous credits from financial institutions other than Home Credit\n",
    "\n",
    "bureau = pd.read_csv('https://gitlab.com/AnalyticsIndiaMagazine/practicedatasets/-/raw/main/featuretools/bureau.csv').replace({365243: np.nan})\n",
    "#File containing data about monthly balance about the credits\n",
    "bureau_balance = pd.read_csv('https://gitlab.com/AnalyticsIndiaMagazine/practicedatasets/-/raw/main/featuretools/bureau_balance.csv').replace({365243: np.nan})\n",
    "#File containing monthly data about cash loans or previous point of sale from previous loan data \n",
    "cash = pd.read_csv('https://gitlab.com/AnalyticsIndiaMagazine/practicedatasets/-/raw/main/featuretools/POS_CASH_balance.csv').replace({365243: np.nan})\n",
    "#File containing data regarding previous credit card loans\n",
    "credit = pd.read_csv('https://media.githubusercontent.com/media/analyticsindiamagazine/PracticeDatasets/main/featuretools/credit_card_balance.csv').replace({365243: np.nan})\n",
    "#File having data of previous loan applications at Home Credit\n",
    "previous = pd.read_csv('https://gitlab.com/AnalyticsIndiaMagazine/practicedatasets/-/raw/main/featuretools/previous_application.csv').replace({365243: np.nan})\n",
    "#File containing data about payment history for Home Credit’s previous loans\n",
    "installments = pd.read_csv('https://gitlab.com/AnalyticsIndiaMagazine/practicedatasets/-/raw/main/featuretools/installments_payments.csv').replace({365243: np.nan}) "
   ]
  },
  {
   "cell_type": "markdown",
   "metadata": {
    "id": "5mHEe7ixv8lp"
   },
   "source": [
    "Join the training set and test set so that same features can be built for both"
   ]
  },
  {
   "cell_type": "code",
   "execution_count": null,
   "metadata": {
    "executionInfo": {
     "elapsed": 675,
     "status": "ok",
     "timestamp": 1623930459139,
     "user": {
      "displayName": "Aishwarya Verma",
      "photoUrl": "https://lh3.googleusercontent.com/a-/AOh14GiG6BREocxcd5R6rzlQGApoCsYso7BQAh63eXNz6Q=s64",
      "userId": "06108390091304498033"
     },
     "user_tz": -330
    },
    "id": "H-S_22viv9Ap"
   },
   "outputs": [],
   "source": [
    "#Create a target column in test set before merging\n",
    "app_test['TARGET'] = np.nan\n",
    "# Append test set to the training set\n",
    "app = app_train.append(app_test, ignore_index = True, sort = True) "
   ]
  },
  {
   "cell_type": "markdown",
   "metadata": {
    "id": "m-nutqHJv_3g"
   },
   "source": [
    "  Convert floating point indexes to integer type for adding relationships"
   ]
  },
  {
   "cell_type": "code",
   "execution_count": null,
   "metadata": {
    "executionInfo": {
     "elapsed": 1642,
     "status": "ok",
     "timestamp": 1623930460778,
     "user": {
      "displayName": "Aishwarya Verma",
      "photoUrl": "https://lh3.googleusercontent.com/a-/AOh14GiG6BREocxcd5R6rzlQGApoCsYso7BQAh63eXNz6Q=s64",
      "userId": "06108390091304498033"
     },
     "user_tz": -330
    },
    "id": "TJv_QEBQwATB"
   },
   "outputs": [],
   "source": [
    "#for each floating point index\n",
    "for index in ['SK_ID_CURR', 'SK_ID_PREV', 'SK_ID_BUREAU']:\n",
    "  #for each of the dataframes\n",
    "    for dataset in [app, bureau, bureau_balance, cash, credit, \n",
    "    previous, installments]:\n",
    "    #convert if the index is one of the columns of the dataframe\n",
    "        if index in list(dataset.columns):\n",
    "  #Fill null records with 0 and change datatype to integer\n",
    "            dataset[index] = dataset[index].fillna(0).astype(np.int64)"
   ]
  },
  {
   "cell_type": "markdown",
   "metadata": {
    "id": "oOa-Tr71wC9h"
   },
   "source": [
    "  Identify the boolean variables which are recorded as integers (0.0 or 1.0)"
   ]
  },
  {
   "cell_type": "code",
   "execution_count": null,
   "metadata": {
    "executionInfo": {
     "elapsed": 387,
     "status": "ok",
     "timestamp": 1623930679485,
     "user": {
      "displayName": "Aishwarya Verma",
      "photoUrl": "https://lh3.googleusercontent.com/a-/AOh14GiG6BREocxcd5R6rzlQGApoCsYso7BQAh63eXNz6Q=s64",
      "userId": "06108390091304498033"
     },
     "user_tz": -330
    },
    "id": "UTlJyQcnz6fK"
   },
   "outputs": [],
   "source": [
    "# Entity set with id applications\n",
    "es = ft.EntitySet(id = 'clients')"
   ]
  },
  {
   "cell_type": "code",
   "execution_count": null,
   "metadata": {
    "colab": {
     "base_uri": "https://localhost:8080/"
    },
    "executionInfo": {
     "elapsed": 1188,
     "status": "ok",
     "timestamp": 1623930461965,
     "user": {
      "displayName": "Aishwarya Verma",
      "photoUrl": "https://lh3.googleusercontent.com/a-/AOh14GiG6BREocxcd5R6rzlQGApoCsYso7BQAh63eXNz6Q=s64",
      "userId": "06108390091304498033"
     },
     "user_tz": -330
    },
    "id": "OF_VVsoNwETu",
    "outputId": "2ede8eb8-ce05-4896-c528-eb7887610b55"
   },
   "outputs": [],
   "source": [
    "#Create a list to specify boolean type for ‘app’ data\n",
    "app_types = {}\n",
    "# For each column in the dataset\n",
    "for col in app:\n",
    "#if the column has 2 unique values and is of numeric type \n",
    "    if (app[col].nunique() == 2) and (app[col].dtype == float):\n",
    "    #assign the type as Boolean \n",
    "        app_types[col] = vtypes.Boolean\n",
    "# Remove the TARGET member from the ‘app_types’ list\n",
    "del app_types['TARGET']\n",
    "#Display the number of Boolean variables\n",
    "print('There are {} Boolean variables in the application data.'.format(len(app_types))) "
   ]
  },
  {
   "cell_type": "markdown",
   "metadata": {
    "id": "_dFwJqbqwH4M"
   },
   "source": [
    "Assign ‘Oridinal’ datatype to the columns of ‘app’ data which can have ordered discrete values"
   ]
  },
  {
   "cell_type": "code",
   "execution_count": null,
   "metadata": {
    "executionInfo": {
     "elapsed": 7,
     "status": "ok",
     "timestamp": 1623930461966,
     "user": {
      "displayName": "Aishwarya Verma",
      "photoUrl": "https://lh3.googleusercontent.com/a-/AOh14GiG6BREocxcd5R6rzlQGApoCsYso7BQAh63eXNz6Q=s64",
      "userId": "06108390091304498033"
     },
     "user_tz": -330
    },
    "id": "Xsio6m5QwIOQ"
   },
   "outputs": [],
   "source": [
    "app_types['REGION_RATING_CLIENT'] = vtypes.Ordinal\n",
    "app_types['REGION_RATING_CLIENT_W_CITY'] = vtypes.Ordinal\n",
    "app_types['HOUR_APPR_PROCESS_START'] = vtypes.Ordinal "
   ]
  },
  {
   "cell_type": "markdown",
   "metadata": {
    "id": "figJbVPlwM0G"
   },
   "source": [
    "As done for ‘app’ data, identify the Boolean variables of ‘previous’ data "
   ]
  },
  {
   "cell_type": "code",
   "execution_count": null,
   "metadata": {
    "colab": {
     "base_uri": "https://localhost:8080/"
    },
    "executionInfo": {
     "elapsed": 3366,
     "status": "ok",
     "timestamp": 1623930465327,
     "user": {
      "displayName": "Aishwarya Verma",
      "photoUrl": "https://lh3.googleusercontent.com/a-/AOh14GiG6BREocxcd5R6rzlQGApoCsYso7BQAh63eXNz6Q=s64",
      "userId": "06108390091304498033"
     },
     "user_tz": -330
    },
    "id": "QM8UgMuCwOB2",
    "outputId": "ffaace55-cda0-4f48-8b3c-7ebb5ef1df26"
   },
   "outputs": [],
   "source": [
    "#Create list to specify the datatype\n",
    "previous_types = {}\n",
    "# For each column in the ‘previous’ data\n",
    "for col in previous:\n",
    "#If the column has 2 unique values (0.0 or 1.0) and its datatype is numeric\n",
    "    if (previous[col].nunique() == 2) and (previous[col].dtype == float):\n",
    "#Assign the datatype as Boolean\n",
    "        previous_types[col] = vtypes.Boolean\n",
    "#Display the number of Boolean variables in the ‘previous’ data\n",
    "print('There are {} Boolean variables in the previous data.'.format(len(previous_types))) "
   ]
  },
  {
   "cell_type": "markdown",
   "metadata": {
    "id": "Y8NnB6UOwRle"
   },
   "source": [
    "The ‘credit’, ‘cash’ and ‘installments’ data SK_ID_CURR variable. That variable is not needed since we will link these three dataframes to the ‘app’ data through ‘previous’ data using SK_ID_PREV variable."
   ]
  },
  {
   "cell_type": "code",
   "execution_count": null,
   "metadata": {
    "executionInfo": {
     "elapsed": 676,
     "status": "ok",
     "timestamp": 1623930465996,
     "user": {
      "displayName": "Aishwarya Verma",
      "photoUrl": "https://lh3.googleusercontent.com/a-/AOh14GiG6BREocxcd5R6rzlQGApoCsYso7BQAh63eXNz6Q=s64",
      "userId": "06108390091304498033"
     },
     "user_tz": -330
    },
    "id": "4kM5aoi-wTPe"
   },
   "outputs": [],
   "source": [
    "installments = installments.drop(columns = ['SK_ID_CURR'])\n",
    "credit = credit.drop(columns = ['SK_ID_CURR'])\n",
    "cash = cash.drop(columns = ['SK_ID_CURR']) "
   ]
  },
  {
   "cell_type": "markdown",
   "metadata": {
    "id": "3iU3-zFdwVGa"
   },
   "source": [
    "Add the seven data tables to the entity set. entity_from_dataframe() method loads the data for a specific entity from a specified dataframe."
   ]
  },
  {
   "cell_type": "code",
   "execution_count": null,
   "metadata": {
    "id": "QD2xm-vewYlH"
   },
   "outputs": [],
   "source": [
    "es = es.entity_from_dataframe(entity_id = 'app', dataframe = app, index = \n",
    "'SK_ID_CURR',variable_types = app_types)\n",
    "es = es.entity_from_dataframe(entity_id = 'bureau', dataframe = bureau, index = 'SK_ID_BUREAU')\n",
    "es = es.entity_from_dataframe(entity_id = 'previous', dataframe = previous, index = 'SK_ID_PREV',variable_types = previous_types)\n",
    "\n",
    "#For entities which do not have a unique index, create index too by setting ‘make_index’ to True\n",
    "\n",
    "es = es.entity_from_dataframe(entity_id = 'bureau_balance', dataframe = bureau_balance, make_index = True, index = 'bureaubalance_index')\n",
    "es = es.entity_from_dataframe(entity_id = 'cash', dataframe = cash, \n",
    "                              make_index = True, index = 'cash_index')\n",
    "es = es.entity_from_dataframe(entity_id = 'installments', dataframe = installments,make_index = True, index = 'installments_index')\n",
    "es = es.entity_from_dataframe(entity_id = 'credit', dataframe = credit,\n",
    "make_index = True, index = 'credit_index')\n",
    "#Display the entityset\n",
    "es "
   ]
  },
  {
   "cell_type": "markdown",
   "metadata": {
    "id": "TsBrzcaZwbHC"
   },
   "source": [
    "Identify relationships: e.g. ‘app’ dataframe has a single record for each client identified by the key SK_ID_CURR. The ‘bureau’ dataframe has multiple records for each client. So ‘app’ dataframe is the parent while ‘bureau’ dataframe is the child in parent-shild relationship among tables. Display there relationship:"
   ]
  },
  {
   "cell_type": "code",
   "execution_count": null,
   "metadata": {
    "id": "qpoXTayXwbb_"
   },
   "outputs": [],
   "source": [
    "print('Parent: app, Parent Variable of bureau: SK_ID_CURR\\n\\n', app.iloc[:, 111:115].head())"
   ]
  },
  {
   "cell_type": "markdown",
   "metadata": {
    "id": "2Rfoal0jwfZR"
   },
   "source": [
    " The ‘buraeau’ and ‘buraeu_balance’ dataframes are linked through a shared variable called SK_ID_BUREAU. This variable is called ‘parent variable’ in the parent table bureau while ‘child variable’ in the child table bureau_balance."
   ]
  },
  {
   "cell_type": "code",
   "execution_count": null,
   "metadata": {
    "id": "IgTJw33cwfrb"
   },
   "outputs": [],
   "source": [
    "print('Parent: bureau, Parent Variable of bureau_balance: SK_ID_BUREAU\\n\\n', bureau.iloc[:, :5].head())\n",
    "print('\\nChild: bureau_balance, Child Variable of bureau: SK_ID_BUREAU\\n\\n', bureau_balance.head()) "
   ]
  },
  {
   "cell_type": "markdown",
   "metadata": {
    "id": "4ulhJuNxwjqw"
   },
   "source": [
    "Add new relationships among the dataframes to be added to the entityset. Relationship class enables representing relationships between various entities. "
   ]
  },
  {
   "cell_type": "code",
   "execution_count": null,
   "metadata": {
    "id": "9zMW7T7nwj74"
   },
   "outputs": [],
   "source": [
    "# app_train and bureau relation\n",
    "r_app_bureau = ft.Relationship(es['app']['SK_ID_CURR'], es['bureau']['SK_ID_CURR'])\n",
    "# bureau and bureau_balance relation\n",
    "r_bureau_balance = ft.Relationship(es['bureau']['SK_ID_BUREAU'], es['bureau_balance']['SK_ID_BUREAU'])\n",
    "# current app and previous app realtion\n",
    "r_app_previous = ft.Relationship(es['app']['SK_ID_CURR'], es['previous']['SK_ID_CURR'])\n",
    "#cash, installments, and credit’s relation with previous app\n",
    "r_previous_cash = ft.Relationship(es['previous']['SK_ID_PREV'], es['cash']['SK_ID_PREV'])\n",
    "r_previous_installments = ft.Relationship(es['previous']['SK_ID_PREV'], es['installments']['SK_ID_PREV'])\n",
    "r_previous_credit = ft.Relationship(es['previous']['SK_ID_PREV'], es['credit']['SK_ID_PREV']) "
   ]
  },
  {
   "cell_type": "markdown",
   "metadata": {
    "id": "CYho1LJXwni-"
   },
   "source": [
    "  Add the above-created relationships to the entityset:"
   ]
  },
  {
   "cell_type": "code",
   "execution_count": null,
   "metadata": {
    "id": "MtcjBK6swpWi"
   },
   "outputs": [],
   "source": [
    "es = es.add_relationships([r_app_bureau, r_bureau_balance, r_app_previous,r_previous_cash, r_previous_installments, r_previous_credit])\n",
    "#Print the modified entityset\n",
    "es "
   ]
  },
  {
   "cell_type": "markdown",
   "metadata": {
    "id": "5U2tVMBqwqxR"
   },
   "source": [
    "  Visualize the entityset."
   ]
  },
  {
   "cell_type": "code",
   "execution_count": null,
   "metadata": {
    "id": "WPATCMoyws9_"
   },
   "outputs": [],
   "source": [
    "es.plot()"
   ]
  },
  {
   "cell_type": "markdown",
   "metadata": {
    "id": "Lms1fOy1wuSf"
   },
   "source": [
    "Record the feature primitives "
   ]
  },
  {
   "cell_type": "code",
   "execution_count": null,
   "metadata": {
    "id": "V-drB2Ykwu-a"
   },
   "outputs": [],
   "source": [
    "primitives = ft.list_primitives()\n",
    "#Set maximum column width for displaying the primitives\n",
    "pd.options.display.max_colwidth = 100\n",
    "# Display the records with aggregation primitive\n",
    "primitives[primitives['type'] == 'aggregation'].head(10) "
   ]
  },
  {
   "cell_type": "markdown",
   "metadata": {
    "id": "KJ8SpC-BwzRN"
   },
   "source": [
    "\n",
    "Display the records with transformation primitive.\n",
    "\n"
   ]
  },
  {
   "cell_type": "code",
   "execution_count": null,
   "metadata": {
    "id": "De3ZGhTbw6E1"
   },
   "outputs": [],
   "source": [
    "primitives[primitives['type'] == 'transform'].head(10)"
   ]
  },
  {
   "cell_type": "markdown",
   "metadata": {
    "id": "zeBx5Uayw7v6"
   },
   "source": [
    " Build new features using default primitives of featuretools.\n",
    "\n",
    "Specify the default aggregation and transformation primitives."
   ]
  },
  {
   "cell_type": "code",
   "execution_count": null,
   "metadata": {
    "id": "eW0y-gUEw9Hq"
   },
   "outputs": [],
   "source": [
    "#Aggregation primitives\n",
    "default_agg_primitives =  [\"sum\", \"std\", \"max\", \"skew\", \"min\", \"mean\", \"count\", \"percent_true\", \"num_unique\", \"mode\"]\n",
    "#Transformation primitives\n",
    "default_trans_primitives =  [\"day\", \"year\", \"month\", \"weekday\", \"haversine\", \"num_words\", \"num_characters\"] "
   ]
  },
  {
   "cell_type": "markdown",
   "metadata": {
    "id": "1wjxaT5gw-uG"
   },
   "source": [
    "Create new features from a list of relationships and a dictionary of entities using dfs() method."
   ]
  },
  {
   "cell_type": "code",
   "execution_count": null,
   "metadata": {
    "id": "Rk5IcvrxxARW"
   },
   "outputs": [],
   "source": [
    "feature_names = ft.dfs(entityset = es, target_entity = 'app',\n",
    "                      trans_primitives = default_trans_primitives,\n",
    "                      agg_primitives=default_agg_primitives, \n",
    "                      where_primitives = [], seed_features = [],\n",
    "                      max_depth = 2, n_jobs = -1, verbose = 1,\n",
    "                      features_only=True) "
   ]
  },
  {
   "cell_type": "markdown",
   "metadata": {
    "id": "_U7RGeZixCbP"
   },
   "source": [
    "Display some of the newly generated features"
   ]
  },
  {
   "cell_type": "code",
   "execution_count": null,
   "metadata": {
    "id": "HIno17DwxD21"
   },
   "outputs": [],
   "source": [
    "feature_names[1050:1070]"
   ]
  }
 ],
 "metadata": {
  "colab": {
   "authorship_tag": "ABX9TyMD0qYoaCc5sVe35nPgzg/O",
   "collapsed_sections": [],
   "name": "1_FeatureTools.ipynb",
   "provenance": []
  },
  "interpreter": {
   "hash": "f60a20abaabf5a658075b37fac599269792a9493ddacd7c14d8505185d5625aa"
  },
  "kernelspec": {
   "display_name": "Python 3.8.8 64-bit ('base': conda)",
   "name": "python3"
  },
  "language_info": {
   "codemirror_mode": {
    "name": "ipython",
    "version": 3
   },
   "file_extension": ".py",
   "mimetype": "text/x-python",
   "name": "python",
   "nbconvert_exporter": "python",
   "pygments_lexer": "ipython3",
   "version": "3.8.8"
  }
 },
 "nbformat": 4,
 "nbformat_minor": 2
}
