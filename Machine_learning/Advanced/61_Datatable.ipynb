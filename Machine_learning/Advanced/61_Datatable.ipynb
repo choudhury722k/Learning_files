{
 "cells": [
  {
   "cell_type": "markdown",
   "metadata": {
    "id": "yWEMAHUBqYae"
   },
   "source": [
    "# Datatable"
   ]
  },
  {
   "cell_type": "markdown",
   "metadata": {
    "id": "-_HIzJ9gqasd"
   },
   "source": [
    "Datatable overcomes the limitations of pandas and speeds up the process of EDA(exploratory data analysis). Datatable has been built by H20.ai, one of the leading AI ML companies in the world. Datatable is pretty similar to pandas and R data.table libraries. Datatable has proper documentation. Works with Python version 3.6+."
   ]
  },
  {
   "cell_type": "markdown",
   "metadata": {
    "id": "c_HFtaNuqbef"
   },
   "source": [
    "To read about it more, please refer [this](https://analyticsindiamag.com/hands-on-guide-to-datatable-library-for-faster-eda/) article."
   ]
  },
  {
   "cell_type": "markdown",
   "metadata": {
    "id": "gQ0V5LCuqhMw"
   },
   "source": [
    "# Code Implementation"
   ]
  },
  {
   "cell_type": "markdown",
   "metadata": {
    "id": "S7ocpxjMqje8"
   },
   "source": [
    "## Installing datatable"
   ]
  },
  {
   "cell_type": "code",
   "execution_count": null,
   "metadata": {},
   "outputs": [],
   "source": [
    "!python -m pip install pip --upgrade --user -q\n",
    "!python -m pip install numpy pandas seaborn matplotlib scipy sklearn statsmodels tensorflow keras --user -q"
   ]
  },
  {
   "cell_type": "code",
   "execution_count": null,
   "metadata": {
    "id": "MI3CgwUaqUx_"
   },
   "outputs": [],
   "source": [
    "!python -m pip install datatable --user -q"
   ]
  },
  {
   "cell_type": "code",
   "execution_count": null,
   "metadata": {},
   "outputs": [],
   "source": [
    "import IPython\n",
    "IPython.Application.instance().kernel.do_shutdown(True)"
   ]
  },
  {
   "cell_type": "markdown",
   "metadata": {
    "id": "w-F0WFsUqpJy"
   },
   "source": [
    "Dataset – [Credit Card Fraud Detection](https://www.kaggle.com/mlg-ulb/creditcardfraud)\n",
    "\n",
    "The dataset contains transactions that have been made by credit cards in September 2013 by European cardholders. This dataset shows transactions that occurred in two days, where we have 492 frauds out of 284,807 transactions. A total of 31 features are time, class, amount and  V1 to V28."
   ]
  },
  {
   "cell_type": "markdown",
   "metadata": {
    "id": "W1BQaCN5qtXX"
   },
   "source": [
    "Reading files"
   ]
  },
  {
   "cell_type": "code",
   "execution_count": null,
   "metadata": {
    "id": "F9Le9VM1qltC"
   },
   "outputs": [],
   "source": [
    "import pandas as pd\n",
    "import time\n",
    "start = time.time()\n",
    "pandas_df = pd.read_csv('https://gitlab.com/AnalyticsIndiaMagazine/practicedatasets/-/raw/main/LoRAS/creditcard.csv')\n",
    "end = time.time()\n",
    "print(end - start)"
   ]
  },
  {
   "cell_type": "markdown",
   "metadata": {
    "id": "BHXjwjTE1vFv"
   },
   "source": [
    "With datatable:"
   ]
  },
  {
   "cell_type": "code",
   "execution_count": null,
   "metadata": {
    "id": "jaCNLwxC1tn-"
   },
   "outputs": [],
   "source": [
    "import datatable as dt\n",
    "start = time.time()\n",
    "df = dt.fread('https://gitlab.com/AnalyticsIndiaMagazine/practicedatasets/-/raw/main/LoRAS/creditcard.csv')\n",
    "end = time.time()\n",
    "print(end - start)"
   ]
  },
  {
   "cell_type": "markdown",
   "metadata": {
    "id": "OiaTJzak13Sr"
   },
   "source": [
    "Clearly, datatable performs much better than pandas. Datatable takes 30 milliseconds to fetch the data whereas pandas take more than 1.5 seconds. "
   ]
  },
  {
   "cell_type": "markdown",
   "metadata": {
    "id": "O4XoPmwj18SN"
   },
   "source": [
    "Dataset size:"
   ]
  },
  {
   "cell_type": "code",
   "execution_count": null,
   "metadata": {
    "id": "3lEhtszf11Lj"
   },
   "outputs": [],
   "source": [
    "print(df.shape) "
   ]
  },
  {
   "cell_type": "markdown",
   "metadata": {
    "id": "Awxwck0p1_NH"
   },
   "source": [
    "Feature Column names"
   ]
  },
  {
   "cell_type": "code",
   "execution_count": null,
   "metadata": {
    "id": "YnszUGPP19b7"
   },
   "outputs": [],
   "source": [
    "print(df.names)"
   ]
  },
  {
   "cell_type": "markdown",
   "metadata": {
    "id": "QgnXItw62Ci_"
   },
   "source": [
    "Column Types"
   ]
  },
  {
   "cell_type": "code",
   "execution_count": null,
   "metadata": {
    "id": "aPBeFvbs2AeU"
   },
   "outputs": [],
   "source": [
    "print(df.stypes) "
   ]
  },
  {
   "cell_type": "markdown",
   "metadata": {
    "id": "8bDBhpcF2FG1"
   },
   "source": [
    "Convert to numpy array"
   ]
  },
  {
   "cell_type": "code",
   "execution_count": null,
   "metadata": {
    "id": "jNXawMQP2DtP"
   },
   "outputs": [],
   "source": [
    "np_arr = df.to_numpy()"
   ]
  },
  {
   "cell_type": "markdown",
   "metadata": {
    "id": "-wD9gamc2Hio"
   },
   "source": [
    "Convert to pandas \n"
   ]
  },
  {
   "cell_type": "code",
   "execution_count": null,
   "metadata": {
    "id": "MochDQrL2Gam"
   },
   "outputs": [],
   "source": [
    "df_pd = df.to_pandas()"
   ]
  },
  {
   "cell_type": "markdown",
   "metadata": {
    "id": "9q1PtL5C2J5z"
   },
   "source": [
    "Convert to python list object"
   ]
  },
  {
   "cell_type": "code",
   "execution_count": null,
   "metadata": {
    "id": "i6el4PRv2I1O"
   },
   "outputs": [],
   "source": [
    "py_obj = df.to_list()"
   ]
  },
  {
   "cell_type": "markdown",
   "metadata": {
    "id": "DRr7AtKT2kgO"
   },
   "source": [
    "Sorting Frame -> sort() function sorts the row by the column defined in ascending order."
   ]
  },
  {
   "cell_type": "markdown",
   "metadata": {
    "id": "LAFqwyyW2mQU"
   },
   "source": [
    "With pandas:"
   ]
  },
  {
   "cell_type": "code",
   "execution_count": null,
   "metadata": {
    "id": "oj-7VaP-2L4J"
   },
   "outputs": [],
   "source": [
    "start = time.time()\n",
    "pandas_df.sort_values(by=\"Amount\")\n",
    "end = time.time()\n",
    "print(end - start)"
   ]
  },
  {
   "cell_type": "markdown",
   "metadata": {
    "id": "U580zmll2o88"
   },
   "source": [
    "With datatable:"
   ]
  },
  {
   "cell_type": "code",
   "execution_count": null,
   "metadata": {
    "id": "IUyt7b2g2nlh"
   },
   "outputs": [],
   "source": [
    "start = time.time()\n",
    "df.sort(\"Amount\")\n",
    "end = time.time()\n",
    "print(end - start)"
   ]
  },
  {
   "cell_type": "markdown",
   "metadata": {
    "id": "YueEW_9T2tYs"
   },
   "source": [
    "GroupBy\n",
    "\n",
    "Let us get the mean amount for each V1 feature. In datatable, operations of a Frame can be represented as dt[i,j,…] where i is row selector, j is column selector and .. are other modifiers. Derived from matrix notations."
   ]
  },
  {
   "cell_type": "code",
   "execution_count": null,
   "metadata": {
    "id": "0XkxaYC42qKr"
   },
   "outputs": [],
   "source": [
    "start = time.time()\n",
    "for i in range(500):\n",
    "    pandas_df.groupby(\"V1\")[\"Amount\"].sum()\n",
    "end = time.time()\n",
    "print(end - start)"
   ]
  },
  {
   "cell_type": "code",
   "execution_count": null,
   "metadata": {
    "id": "stDoci7x2uuv"
   },
   "outputs": [],
   "source": [
    "start = time.time()\n",
    "for i in range(10):\n",
    "    df[:, dt.sum(dt.f.Amount), dt.by(dt.f.V1)]\n",
    "end = time.time()\n",
    "print(end - start)"
   ]
  },
  {
   "cell_type": "markdown",
   "metadata": {
    "id": "QcAaelHv2ydT"
   },
   "source": [
    ".f in dt.f means frame proxy referring to currently calling frame.\n",
    "\n",
    "Here Datatable takes 1/4th the time of pandas.\n"
   ]
  },
  {
   "cell_type": "markdown",
   "metadata": {
    "id": "Nsm9vQIr24pJ"
   },
   "source": [
    "Deleting a column"
   ]
  },
  {
   "cell_type": "code",
   "execution_count": null,
   "metadata": {
    "id": "oKVaz0cK23iI"
   },
   "outputs": [],
   "source": [
    "del df[:, 'V27']"
   ]
  },
  {
   "cell_type": "markdown",
   "metadata": {
    "id": "yywI9_Sh3iji"
   },
   "source": [
    "Saving Frames\n",
    "\n",
    "Saving Frame in disk as binary format and opening it later instantly"
   ]
  },
  {
   "cell_type": "code",
   "execution_count": null,
   "metadata": {
    "id": "LXIkJeFK3g1M"
   },
   "outputs": [],
   "source": [
    "# df.to_jay(\"out.jay\")\n",
    "# df_dt = dt.open(\"out.jay\")"
   ]
  },
  {
   "cell_type": "markdown",
   "metadata": {
    "id": "ca1aFx713muH"
   },
   "source": [
    "Write the Frame\n",
    "\n"
   ]
  },
  {
   "cell_type": "code",
   "execution_count": null,
   "metadata": {
    "id": "RjZlAYnr3kbY"
   },
   "outputs": [],
   "source": [
    "# df.to_csv('out.csv')"
   ]
  }
 ],
 "metadata": {
  "colab": {
   "authorship_tag": "ABX9TyPzMDRXesum87Jdt8pfhP98",
   "collapsed_sections": [],
   "name": "1_Datatable.ipynb",
   "provenance": []
  },
  "interpreter": {
   "hash": "f60a20abaabf5a658075b37fac599269792a9493ddacd7c14d8505185d5625aa"
  },
  "kernelspec": {
   "display_name": "Python 3.8.8 64-bit ('base': conda)",
   "name": "python3"
  },
  "language_info": {
   "codemirror_mode": {
    "name": "ipython",
    "version": 3
   },
   "file_extension": ".py",
   "mimetype": "text/x-python",
   "name": "python",
   "nbconvert_exporter": "python",
   "pygments_lexer": "ipython3",
   "version": "3.8.8"
  }
 },
 "nbformat": 4,
 "nbformat_minor": 2
}
