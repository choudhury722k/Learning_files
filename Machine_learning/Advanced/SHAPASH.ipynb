{
 "cells": [
  {
   "cell_type": "markdown",
   "metadata": {
    "id": "go4FgWtOc0kd"
   },
   "source": [
    "# Shapash"
   ]
  },
  {
   "cell_type": "markdown",
   "metadata": {
    "id": "RbtSW0X-c3B7"
   },
   "source": [
    "Shapash is a Python library created by the folks at MAIF that visualizes machine learning models’ decision-making process. It aims to make machine learning models trustworthy for everyone by making them more transparent and easy to understand. Shapash creates easy-to-understand visualisations of global and local explainability. It also facilitates creating a web application that can provide a lot of value to end-users and business owners.  Shapash is compatible with most sklearn, lightgbm, xgboost, catboost models and can be used for regression and classification tasks. It uses a Shap backend to calculate the local contribution of features, but this can be replaced with any other technique for calculating local contributions. Data scientists can use the Shapash explainer for exploring and debugging their models or deployed to provide visualisations with every inference."
   ]
  },
  {
   "cell_type": "markdown",
   "metadata": {
    "id": "h--OCPrzenov"
   },
   "source": [
    "Please refer to [this](https://analyticsindiamag.com/make-machine-learning-interpretable-with-shapash/) article."
   ]
  },
  {
   "cell_type": "markdown",
   "metadata": {
    "id": "oEkr5oTOc8_t"
   },
   "source": [
    "# Interpreting a DecisionTreeRegressor with Shapash"
   ]
  },
  {
   "cell_type": "markdown",
   "metadata": {
    "id": "r6emKosfdAkt"
   },
   "source": [
    "We will be creating and explaining a DecisionTreeRegressor model for the [wine quality dataset](https://www.kaggle.com/sgus1318/winedata) available on Kaggle."
   ]
  },
  {
   "cell_type": "markdown",
   "metadata": {
    "id": "3byYBWYhdXMy"
   },
   "source": [
    "  Install Shapash from PyPI."
   ]
  },
  {
   "cell_type": "code",
   "execution_count": null,
   "metadata": {},
   "outputs": [],
   "source": [
    "!python -m pip install pip --upgrade --user -q\n",
    "!python -m pip install numpy pandas seaborn matplotlib scipy sklearn statsmodels --user -q"
   ]
  },
  {
   "cell_type": "code",
   "execution_count": null,
   "metadata": {
    "id": "CDi5raFtc0We"
   },
   "outputs": [],
   "source": [
    "!python -m pip install shapash --user -q"
   ]
  },
  {
   "cell_type": "code",
   "execution_count": null,
   "metadata": {},
   "outputs": [],
   "source": [
    "import IPython\n",
    "IPython.Application.instance().kernel.do_shutdown(True)"
   ]
  },
  {
   "cell_type": "markdown",
   "metadata": {
    "id": "XF1DlPZMdbrJ"
   },
   "source": [
    "  Import necessary libraries and classes."
   ]
  },
  {
   "cell_type": "code",
   "execution_count": null,
   "metadata": {
    "id": "jI9bu8npcxbz"
   },
   "outputs": [],
   "source": [
    "import pandas as pd\n",
    "import random\n",
    "from sklearn.model_selection import train_test_split\n",
    "from sklearn.ensemble import RandomForestRegressor\n",
    "from shapash.explainer.smart_explainer import SmartExplainer "
   ]
  },
  {
   "cell_type": "markdown",
   "metadata": {
    "id": "i9VF0lhddhGT"
   },
   "source": [
    "Load the dataset and train the model we are going to interpret."
   ]
  },
  {
   "cell_type": "code",
   "execution_count": null,
   "metadata": {
    "id": "9t0I4JfbdfJ7"
   },
   "outputs": [],
   "source": [
    "df = pd.read_csv(\"https://raw.githubusercontent.com/sharmaroshan/Wine-Quality-Predictions/master/winequality-red.csv\")\n",
    "y = df['quality']\n",
    "X = df.drop(['quality'], axis = 1)\n",
    "X_train, X_test, y_train, y_test = train_test_split(X, y, test_size = 0.3, random_state=42)\n",
    "model = RandomForestRegressor(max_depth=5, random_state=42, n_estimators=12)\n",
    "model.fit(X_train, y_train)\n",
    "y_pred = pd.DataFrame(model.predict(X_test),columns=['pred'], index=X_test.index) "
   ]
  },
  {
   "cell_type": "markdown",
   "metadata": {
    "id": "ZDMv1v58eAqA"
   },
   "source": [
    "Create the Shapash SmartExplainer object for the model and plot the feature importance."
   ]
  },
  {
   "cell_type": "code",
   "execution_count": null,
   "metadata": {
    "id": "0mOxY03Bd-1A"
   },
   "outputs": [],
   "source": [
    "xpl = SmartExplainer()\n",
    "xpl.compile(x=X_test, model=model, y_pred=y_pred)\n",
    "xpl.plot.features_importance() "
   ]
  },
  {
   "cell_type": "markdown",
   "metadata": {
    "id": "f1jiXhS0eFD6"
   },
   "source": [
    "Using the `selection` argument, we can plot the contribution of features for a subset of the data."
   ]
  },
  {
   "cell_type": "code",
   "execution_count": null,
   "metadata": {
    "id": "O4zevJmdeDPr"
   },
   "outputs": [],
   "source": [
    "subset = random.choices(X_test.index, k =50)\n",
    "xpl.plot.features_importance(selection=subset) "
   ]
  },
  {
   "cell_type": "markdown",
   "metadata": {
    "id": "r2sGclWIeLUW"
   },
   "source": [
    "The contribution_plot can be used to analyse individual features’ contribution. The plot type adjusts depending on the type of feature you are interested in, categorical or continuous, and on the type of the task, i.e., regression or classification."
   ]
  },
  {
   "cell_type": "code",
   "execution_count": null,
   "metadata": {
    "id": "tcK_S__beJD_"
   },
   "outputs": [],
   "source": [
    "xpl.plot.contribution_plot('volatile acidity')"
   ]
  },
  {
   "cell_type": "markdown",
   "metadata": {
    "id": "4JD09p-JePu4"
   },
   "source": [
    "  local_plot(), compare_plot(), and filter() methods can be used to create plots for particular data items and understand the reasoning behind an inference.\n",
    "\n",
    "\n",
    "You can create contribution plots for individual data items using the local_plot() method. "
   ]
  },
  {
   "cell_type": "code",
   "execution_count": null,
   "metadata": {
    "id": "84nskaoweNZJ"
   },
   "outputs": [],
   "source": [
    "xpl.plot.local_plot(index=random.choice(X_test.index))"
   ]
  },
  {
   "cell_type": "markdown",
   "metadata": {
    "id": "KwmmhxQTeVGk"
   },
   "source": [
    "filter() method can be used to be more specific about the features we are interested in. The argument max_contrib controls the maximum number of features to display, threshold filters the features based on a minimum value of contribution, positive toggles whether to display negative contributions or not and features_to_hide is used to list features you don’t want to display."
   ]
  },
  {
   "cell_type": "code",
   "execution_count": null,
   "metadata": {
    "id": "n8NMyq5meSgg"
   },
   "outputs": [],
   "source": [
    "xpl.filter(max_contrib=8,\n",
    "          features_to_hide = None,\n",
    "          threshold=.05)\n",
    "xpl.plot.local_plot(index=random.choice(X_test.index)) "
   ]
  },
  {
   "cell_type": "markdown",
   "metadata": {
    "id": "vKgeUVjMeZfr"
   },
   "source": [
    "The compare_plot() method can be used to compare the contributions of different features over multiple data items.\n",
    "\n"
   ]
  },
  {
   "cell_type": "code",
   "execution_count": null,
   "metadata": {
    "id": "mIuQhE2yeXgR"
   },
   "outputs": [],
   "source": [
    "xpl.plot.compare_plot(row_num=random.choices([i for i in range(320)], k = 5))"
   ]
  },
  {
   "cell_type": "markdown",
   "metadata": {
    "id": "mz7bE1btecLn"
   },
   "source": [
    "Most of this can also be done interactively through a web application, you can create one using the `run_app()` method."
   ]
  },
  {
   "cell_type": "code",
   "execution_count": null,
   "metadata": {
    "id": "1cuGvp0jeafH"
   },
   "outputs": [],
   "source": [
    "app = xpl.run_app()"
   ]
  },
  {
   "cell_type": "markdown",
   "metadata": {
    "id": "n5uiN6YBeivZ"
   },
   "source": [
    "To stop the application use the kill() method.\n"
   ]
  },
  {
   "cell_type": "code",
   "execution_count": null,
   "metadata": {
    "id": "a3jNKyawefNQ"
   },
   "outputs": [],
   "source": [
    "app.kill()"
   ]
  }
 ],
 "metadata": {
  "colab": {
   "authorship_tag": "ABX9TyOKK7F4YkRN+asvhylBwuz1",
   "collapsed_sections": [],
   "name": "2_SHAPASH.ipynb",
   "provenance": []
  },
  "kernelspec": {
   "display_name": "Python 3",
   "name": "python3"
  },
  "language_info": {
   "name": "python"
  }
 },
 "nbformat": 4,
 "nbformat_minor": 2
}
