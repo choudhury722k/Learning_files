{
 "cells": [
  {
   "cell_type": "markdown",
   "metadata": {
    "id": "tcmmLTqIK5SV"
   },
   "source": [
    "# TensorLy: A Python Library For Tensor Learning "
   ]
  },
  {
   "cell_type": "markdown",
   "metadata": {
    "id": "y-7usxkcK983"
   },
   "source": [
    "TensorLy is an open-source Python library that eases the task of performing tensor operations. It provides a high-level API for dealing with deep tensorized neural networks and tensor methods. It was created in 2015 by a senior research scientist at NVIDIA Research Group named Jean Kossaifi. It was presented at the NeurIPS workshop and was later published byJean Kossaifi, Yannis Panagakis, Anima Anandkumar and Maja Pantic in a JMLR paper in February 2019."
   ]
  },
  {
   "cell_type": "markdown",
   "metadata": {
    "id": "UOdlvZbKK-dy"
   },
   "source": [
    "To read about it more, please refer [this](https://analyticsindiamag.com/guide-to-tensorly-a-python-library-for-tensor-learning/) article."
   ]
  },
  {
   "cell_type": "markdown",
   "metadata": {
    "id": "b12Y3HakLIgX"
   },
   "source": [
    "# Installation of TensorLy\n",
    "\n",
    "**NOTE:** TensorLy has been developed and tested only on Python 3 version.\n",
    "\n",
    "Install the library using pip command:"
   ]
  },
  {
   "cell_type": "code",
   "execution_count": null,
   "metadata": {},
   "outputs": [],
   "source": [
    "!python -m pip install pip --upgrade --user -q\n",
    "!python -m pip install numpy pandas seaborn matplotlib scipy sklearn statsmodels tensorflow keras --user -q"
   ]
  },
  {
   "cell_type": "code",
   "execution_count": null,
   "metadata": {
    "id": "1T90MGIaQgDm"
   },
   "outputs": [],
   "source": [
    "!python -m pip install tensorly --user -q"
   ]
  },
  {
   "cell_type": "code",
   "execution_count": null,
   "metadata": {},
   "outputs": [],
   "source": [
    "import IPython\n",
    "IPython.Application.instance().kernel.do_shutdown(True)"
   ]
  },
  {
   "cell_type": "markdown",
   "metadata": {
    "id": "kkU4L_-YLvZ7"
   },
   "source": [
    "## Practical Implementation"
   ]
  },
  {
   "cell_type": "markdown",
   "metadata": {
    "id": "E6mkH4v8Lyer"
   },
   "source": [
    "## Tensor decomposition example\n",
    "\n",
    "Here, we demonstrate compression of colored image of a raccoon using parafac decomposition and Tucker decomposition techniques.\n",
    "\n",
    "  Install required libraries"
   ]
  },
  {
   "cell_type": "code",
   "execution_count": null,
   "metadata": {
    "id": "FicLgHsLQ6j8"
   },
   "outputs": [],
   "source": [
    "import matplotlib.pyplot as plt\n",
    "import tensorly as tl\n",
    "import numpy as np\n",
    "from scipy.misc import face\n",
    "from scipy.ndimage import zoom\n",
    "from tensorly.decomposition import parafac\n",
    "from tensorly.decomposition import tucker\n",
    "from math import ceil\n",
    "\n",
    "\n",
    "#random_state = 12345\n",
    "#Load the raccoon face image\n",
    "img = face()\n",
    "img = tl.tensor(zoom(face(), (0.3, 0.3, 1)), dtype='float64')\n",
    "#Define a function to convert image tensor’s datatype from float to unsigned integer\n",
    "def to_img(tensor):\n",
    "    \"\"\"A convenience function to convert from a float dtype back to uint8\"\"\"\n",
    "    image = tl.to_numpy(tensor)\n",
    "    image -= image.min()\n",
    "    image /= image.max()\n",
    "    image *= 255\n",
    "    return image.astype(np.uint8)\n",
    "\n",
    "# Rank of the CP decomposition\n",
    "cp_rank = 25\n",
    "# Rank of the Tucker decomposition\n",
    "tucker_rank = [100, 100, 2]\n",
    "\n",
    "# Perform the CP decomposition\n",
    "weights, factors = parafac(img, rank=cp_rank, init='random', tol=10e-6)\n",
    "# Reconstruct the image from the factors\n",
    "cp_rec = tl.cp_to_tensor((weights, factors))\n",
    "\n",
    "# Tucker decomposition\n",
    "core, tucker_factors = tucker(img, rank=tucker_rank, init='random', tol=10e-5, random_state=12345)\n",
    "tucker_rec = tl.tucker_to_tensor((core, tucker_factors))\n",
    "\n",
    "# Plotting the original and reconstruction from the decompositions\n",
    "fig = plt.figure()\n",
    "ax = fig.add_subplot(1, 3, 1)\n",
    "ax.set_axis_off()\n",
    "ax.imshow(to_img(img))\n",
    "ax.set_title('Original Image')\n",
    "\n",
    "ax = fig.add_subplot(1, 3, 2)\n",
    "ax.set_axis_off()\n",
    "ax.imshow(to_img(cp_rec))\n",
    "ax.set_title('CP decomposition')\n",
    "\n",
    "ax = fig.add_subplot(1, 3, 3)\n",
    "ax.set_axis_off()\n",
    "ax.imshow(to_img(tucker_rec))\n",
    "ax.set_title('Tucker Decomposition')\n",
    "\n",
    "plt.tight_layout()\n",
    "plt.show()"
   ]
  },
  {
   "cell_type": "code",
   "execution_count": null,
   "metadata": {
    "id": "wpie0uhAMENR"
   },
   "outputs": [],
   "source": []
  }
 ],
 "metadata": {
  "colab": {
   "authorship_tag": "ABX9TyOTTIxFaqP7W7A+6FlvZmlK",
   "collapsed_sections": [],
   "name": "2_Tensorly_Decomposition.ipynb",
   "provenance": []
  },
  "kernelspec": {
   "display_name": "Python 3",
   "name": "python3"
  },
  "language_info": {
   "name": "python"
  }
 },
 "nbformat": 4,
 "nbformat_minor": 2
}
