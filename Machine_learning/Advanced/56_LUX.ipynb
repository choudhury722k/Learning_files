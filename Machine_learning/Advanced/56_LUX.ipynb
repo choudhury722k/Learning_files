{
 "cells": [
  {
   "cell_type": "markdown",
   "metadata": {
    "id": "4V3VEci8xf94"
   },
   "source": [
    "# LUX"
   ]
  },
  {
   "cell_type": "markdown",
   "metadata": {
    "id": "UrWn30-sxhmO"
   },
   "source": [
    "A picture is worth a thousand words, even more so when it comes to data-centric projects. Data exploration is the first step in any machine learning project, and it is pivotal to how well the rest of the project turns out. Although libraries like Plotly and Seaborn provide a huge collection of plots and options, they require the user to first think about how the visualization should look like and what to visualize in the first place. This is not conducive to data exploration and just contributes to making it the most time-consuming part of the machine learning life cycle. Well, what if you could get visualizations recommended to you? Lux is a Python package created by the folks at RiseLabs that aims to make data exploration easier and quicker with its simple one-line syntax and visualization recommendations. As the developers put it “Lux is built on the philosophy that users should always be able to visualize anything they want without having to think about how the visualization should look like“. "
   ]
  },
  {
   "cell_type": "markdown",
   "metadata": {
    "id": "rXOdvdLuxitx"
   },
   "source": [
    "# Code Implementation"
   ]
  },
  {
   "cell_type": "markdown",
   "metadata": {
    "id": "ltJekXvbxx_a"
   },
   "source": [
    "## Installation\n",
    "\n",
    "Install Lux from PyPI"
   ]
  },
  {
   "cell_type": "code",
   "execution_count": null,
   "metadata": {},
   "outputs": [],
   "source": [
    "!python -m pip install pip --upgrade --user -q\n",
    "!python -m pip install numpy pandas seaborn matplotlib scipy sklearn statsmodels --user -q"
   ]
  },
  {
   "cell_type": "code",
   "execution_count": null,
   "metadata": {
    "id": "OoXClCE4x0M_"
   },
   "outputs": [],
   "source": [
    "!python -m pip install lux-api --user -q"
   ]
  },
  {
   "cell_type": "code",
   "execution_count": null,
   "metadata": {},
   "outputs": [],
   "source": [
    "import IPython\n",
    "IPython.Application.instance().kernel.do_shutdown(True)"
   ]
  },
  {
   "cell_type": "markdown",
   "metadata": {
    "id": "InZVm3W_ypaK"
   },
   "source": [
    "Install and activate the Lux notebook extension (lux-widget) included in the package."
   ]
  },
  {
   "cell_type": "markdown",
   "metadata": {
    "id": "jl7pYpwyyshx"
   },
   "source": [
    "For VsCode and Jupyter notebook\n",
    "\n",
    " jupyter nbextension install --py luxwidget\n",
    "\n",
    "\n",
    " jupyter nbextension enable --py luxwidget \n",
    "\n",
    "For JupyterLab\n",
    "\n",
    " jupyter labextension install @jupyter-widgets/jupyterlab-manager\n",
    "\n",
    " \n",
    " jupyter labextension install luxwidget "
   ]
  },
  {
   "cell_type": "code",
   "execution_count": null,
   "metadata": {
    "id": "Ki7xg9Kx081b"
   },
   "outputs": [],
   "source": [
    "!jupyter labextension install @jupyter-widgets/jupyterlab-manager\n",
    "\n",
    "!jupyter labextension install luxwidget "
   ]
  },
  {
   "cell_type": "markdown",
   "metadata": {
    "id": "IvxaDZdUyx8e"
   },
   "source": [
    "Check other methods of installation [here](https://lux-api.readthedocs.io/en/latest/source/getting_started/installation.html#manual-installation-dev-setup)."
   ]
  },
  {
   "cell_type": "markdown",
   "metadata": {
    "id": "current-country"
   },
   "source": [
    "Lux is designed to be tightly integrated with Pandas and can be used as-is, without modifying your existing Pandas code. To enable Lux, simply add `import lux` along with your Pandas import statement."
   ]
  },
  {
   "cell_type": "code",
   "execution_count": null,
   "metadata": {
    "id": "celtic-village"
   },
   "outputs": [],
   "source": [
    "import pandas as pd\n",
    "import lux"
   ]
  },
  {
   "cell_type": "markdown",
   "metadata": {
    "id": "outside-university"
   },
   "source": [
    "Lux preserves the Pandas dataframe semantics -- which means that you can apply any command from Pandas's API to the dataframes in Lux and expect the same behavior. For example, we can load the dataset via standard Pandas `read_*` commands."
   ]
  },
  {
   "cell_type": "code",
   "execution_count": null,
   "metadata": {
    "id": "commercial-barbados"
   },
   "outputs": [],
   "source": [
    "df = pd.read_csv(\"https://raw.githubusercontent.com/Aditya1001001/English-Premier-League/master/EDA_data.csv\")"
   ]
  },
  {
   "cell_type": "code",
   "execution_count": null,
   "metadata": {
    "id": "freelance-tobacco"
   },
   "outputs": [],
   "source": [
    "df.columns"
   ]
  },
  {
   "cell_type": "markdown",
   "metadata": {
    "id": "encouraging-wildlife"
   },
   "source": [
    "Lux is built on the philosophy that generating useful visualizations should be as simple as printing out a dataframe. \n",
    "When you print out the dataframe in the notebook, you should see the default Pandas table display with an additional Toggle button. \n",
    "\n",
    "By clicking on the Toggle button, you can now explore the data visually through Lux. You should see three tabs of visualizations recommended to you. "
   ]
  },
  {
   "cell_type": "code",
   "execution_count": null,
   "metadata": {
    "id": "aggregate-application"
   },
   "outputs": [],
   "source": [
    "df"
   ]
  },
  {
   "cell_type": "markdown",
   "metadata": {
    "id": "unable-wednesday"
   },
   "source": [
    "### Visualizing Dataframes with Recommendations"
   ]
  },
  {
   "cell_type": "markdown",
   "metadata": {
    "id": "possible-advance"
   },
   "source": [
    "You have generated your first set of visualizations through Lux!\n"
   ]
  },
  {
   "cell_type": "markdown",
   "metadata": {
    "id": "checked-verse"
   },
   "source": [
    "Recommendations highlight interesting patterns and trends in your dataframe. Lux offers different types of recommendations, known as _analytical actions_. These analytical actions represent different analysis that can be performed on the data.\n",
    "\n",
    "\n",
    "\n",
    "\n",
    "\n",
    "\n",
    "\n",
    "\n",
    "Lux recommends a set of actions depending on the content of your dataframe and your analysis goals and interests (described later). \n",
    "\n",
    "\n"
   ]
  },
  {
   "cell_type": "markdown",
   "metadata": {
    "id": "interracial-location"
   },
   "source": [
    "## Specifying Intent in Lux"
   ]
  },
  {
   "cell_type": "markdown",
   "metadata": {
    "id": "other-attraction"
   },
   "source": [
    "Lux provides a flexible language for communicating your analysis intent to the system, so that Lux can provide better and more relevant recommendations to you. In this tutorial, we will see different ways of specifying the intent, including the attributes and values that you are interested or not interested in, enumeration specifiers, as well as any constraints on the visualization encoding.\n",
    "\n",
    "The primary way to set the current intent associated with a dataframe is by setting the `intent` property of the dataframe, and providing a list of specification as input. We will first describe how intent can be specified through convenient shorthand descriptions as string inputs, then we will describe advance usage via the `lux.Clause` object.\n"
   ]
  },
  {
   "cell_type": "markdown",
   "metadata": {
    "id": "synthetic-machine"
   },
   "source": [
    "### Specifying attributes of interest\n",
    "\n",
    "You can indicate that you are interested in an attribute, let's say `value_eur`."
   ]
  },
  {
   "cell_type": "code",
   "execution_count": null,
   "metadata": {
    "id": "sharing-butler"
   },
   "outputs": [],
   "source": [
    "df.intent = ['value_eur']\n",
    "df"
   ]
  },
  {
   "cell_type": "markdown",
   "metadata": {
    "id": "dietary-selection"
   },
   "source": [
    "- **Enhance** adds an additional attribute to intended visualization. Enhance lets users compare the effect the added variable on the intended visualization. For example, enhance displays visualizations involving C' = {MedianEarnings, *added attribute*}, including:\n",
    "\n",
    "    - {MedianEarnings, **Expenditure**}\n",
    "    - {MedianEarnings, **AverageCost**}\n",
    "    - {MedianEarnings, **AverageFacultySalary**}.\n",
    "    \n",
    "- **Filter** adds an additional filter to the intended visualization. Filter lets users browse through what the intended visualization looks like for different subsets of data. For example, Filter displays visualizations involving C' = {MedianEarnings, *added filter*}, including: \n",
    "\n",
    "    - {MedianEarnings, **FundingModel=Public**}\n",
    "    - {MedianEarnings, **Region=Southeast**}\n",
    "    - {MedianEarnings, **Region=Great Lakes**}.\n",
    "    http://hosteddocs.ittoolbox.com/fourshowmeautomaticpresentations.pdf"
   ]
  },
  {
   "cell_type": "markdown",
   "metadata": {
    "id": "signed-compression"
   },
   "source": [
    "You might be interested in multiple attributes, for instance you might want to look at both `overall` and `value_eur`. When multiple clauses are specified, Lux applies all the clauses in the intent and searches for visualizations that are relevant to `overall` **and** `value_eur`."
   ]
  },
  {
   "cell_type": "code",
   "execution_count": null,
   "metadata": {
    "id": "sustainable-velvet"
   },
   "outputs": [],
   "source": [
    "df.intent = ['overall','value_eur']\n",
    "df"
   ]
  },
  {
   "cell_type": "markdown",
   "metadata": {
    "id": "ongoing-recommendation"
   },
   "source": [
    "Let's say that in addition to `overall`, you are interested in the looking at a list of attributes that are related to different performance measures, such as `Passes per match` or `Goals per match`, and how they breakdown with respect to `Position`. \n",
    "\n",
    "You can specify a list of desired attributes separated by the `|` symbol, which indicates an `OR` relationship between the list of attributes. If multiple clauses are specified, Lux automatically create combinations of the specified attributes. "
   ]
  },
  {
   "cell_type": "code",
   "execution_count": null,
   "metadata": {
    "id": "instant-medication"
   },
   "outputs": [],
   "source": [
    "possible_attributes = \"Passes per match|Goals per match|overall|Tackles\"\n",
    "df.intent = [possible_attributes,\"Position\"]\n",
    "df"
   ]
  },
  {
   "cell_type": "markdown",
   "metadata": {
    "id": "outdoor-venice"
   },
   "source": [
    "Alternatively, you could also provide the specification as a list: "
   ]
  },
  {
   "cell_type": "code",
   "execution_count": null,
   "metadata": {
    "id": "previous-novelty"
   },
   "outputs": [],
   "source": [
    "possible_attributes = ['Passes per match','Goals per match','overall','Tackles']\n",
    "df.intent = [possible_attributes,\"Position\"]\n",
    "df"
   ]
  },
  {
   "cell_type": "markdown",
   "metadata": {
    "id": "fitting-suicide"
   },
   "source": [
    "### Specifying values of interest\n",
    "\n",
    "In Lux, you can also specify particular values corresponding to subsets of the data that you might be interested in. For example, you may be interested in only Midfielders \n",
    "\n"
   ]
  },
  {
   "cell_type": "code",
   "execution_count": null,
   "metadata": {
    "id": "classical-meeting"
   },
   "outputs": [],
   "source": [
    "df.intent = [\"Position=Midfielder\"]\n",
    "df"
   ]
  },
  {
   "cell_type": "markdown",
   "metadata": {
    "id": "refined-safety"
   },
   "source": [
    "You can also specify multiple values of interest using the same `|` notation that we saw earlier. For example, you can compare the overall ratings of players from England, France and Germany."
   ]
  },
  {
   "cell_type": "code",
   "execution_count": null,
   "metadata": {
    "id": "frank-channel",
    "scrolled": true
   },
   "outputs": [],
   "source": [
    "df.intent = [\"Position=Midfielder|Defender\"]\n",
    "df"
   ]
  },
  {
   "cell_type": "code",
   "execution_count": null,
   "metadata": {
    "id": "engaging-stations"
   },
   "outputs": [],
   "source": [
    "df.clear_intent()"
   ]
  },
  {
   "cell_type": "markdown",
   "metadata": {
    "id": "organized-animal"
   },
   "source": [
    "### Applying Filters v.s. Expressing Filter Intent\n",
    "\n",
    "You might be wondering what is the difference between specifying values of interest through the intent in Lux versus applying a filter directly on the dataframe through Pandas. By specifying the intent directly via Pandas, Lux is not aware of the specified inputs to Pandas, so these values of interest will not be reflected in the recommendations."
   ]
  },
  {
   "cell_type": "code",
   "execution_count": null,
   "metadata": {
    "id": "bronze-greek"
   },
   "outputs": [],
   "source": [
    "df[df[\"Position\"]==\"Forward\"]"
   ]
  },
  {
   "cell_type": "markdown",
   "metadata": {
    "id": "complicated-jimmy"
   },
   "source": [
    "Specifying the values through `set_intent` tells Lux that you are interested in Forwards. In the resulting Filter action, we see that Lux suggests visualizations in other `Positions`s as recommendations."
   ]
  },
  {
   "cell_type": "code",
   "execution_count": null,
   "metadata": {
    "id": "ruled-conviction"
   },
   "outputs": [],
   "source": [
    "df.intent = [\"Position=Forward\"]\n",
    "df"
   ]
  },
  {
   "cell_type": "markdown",
   "metadata": {
    "id": "developed-brunei"
   },
   "source": [
    "So while both approaches applies the filter on the specified visualization, the subtle difference between *applying* a filter and *indicating* a filter intent leads to different sets of resulting recommendations. In general, we encourage using Pandas for filtering if you are certain about applying the filter (e.g., a cleaning operation deleting a specific data subset), and specify the intent through Lux if you might want to experiment and change aspects related to the filter in your analysis. "
   ]
  },
  {
   "cell_type": "markdown",
   "metadata": {
    "id": "municipal-sheep"
   },
   "source": [
    "### Advanced intent specification through `lux.Clause`\n",
    "\n",
    "The basic string-based description provides a convenient way of specifying the intent. However, not all specification can be expressed through the string-based descriptions, more complex specification can be expressed through the `lux.Clause` object. The two modes of specification is essentially equivalent, with the Parser parsing the `description` field in the `lux.Clause` object.\n",
    "\n",
    "#### Specifying attributes or values of interest\n",
    "\n",
    "To see an example of how lux.Clause is used, we rewrite our earlier example of expressing interest in `AverageCost` as: "
   ]
  },
  {
   "cell_type": "code",
   "execution_count": null,
   "metadata": {
    "id": "presidential-testimony"
   },
   "outputs": [],
   "source": [
    "df.intent = [lux.Clause(attribute='overall')]\n",
    "df"
   ]
  },
  {
   "cell_type": "code",
   "execution_count": null,
   "metadata": {
    "id": "devoted-average"
   },
   "outputs": [],
   "source": [
    "df.intent = ['overall',\n",
    "                lux.Clause(attribute='nationality',filter_op='=', value=['England','France','Germany'])]\n",
    "df"
   ]
  },
  {
   "cell_type": "markdown",
   "metadata": {
    "id": "martial-premiere"
   },
   "source": [
    "Both the `attribute` and `value` fields can take in either a single string or a list of attributes to specify items of interest. This example also demonstrates how we can intermix the `lux.Clause` specification alongside the basic string-based specification for convenience."
   ]
  },
  {
   "cell_type": "markdown",
   "metadata": {
    "id": "scenic-webmaster"
   },
   "source": [
    "#### Adding constraints to override auto-inferred details\n",
    "\n",
    "So far, we have seen examples of how Lux takes in a loosely specified intent and automatically fills in many of the details that is required to generate the intended visualizations. There are situations where the user may want to override these auto-inferred values. For example, you might be interested in fixing an attribute to show up on a particular axis, ensuring that an aggregated attribute is summed up instead of averaged by default, or picking a specific bin size for a histogram. Additional properties specified on lux.Clause acts as constraints to the specified intent. \n",
    "\n",
    "As we saw earlier, when we set `overall` as the intent, Lux generates a histogram with `overall` on the x-axis.\n",
    "While this is unconventional, let's say that instead we want to set `overall` to the y axis. We would specify this as additional properties to constrain the intent clause."
   ]
  },
  {
   "cell_type": "code",
   "execution_count": null,
   "metadata": {
    "id": "written-graduate"
   },
   "outputs": [],
   "source": [
    "df.intent = [lux.Clause(attribute='overall', channel='y')]\n",
    "df"
   ]
  },
  {
   "cell_type": "markdown",
   "metadata": {
    "id": "vocational-rendering"
   },
   "source": [
    "We can also set constraints on the type of aggregation that is used. For example, by default, we use `mean` as the default aggregation function for quantitative attributes.\n",
    "\n",
    "We can override the aggregation function to be `sum` instead. "
   ]
  },
  {
   "cell_type": "code",
   "execution_count": null,
   "metadata": {
    "id": "meaning-organ"
   },
   "outputs": [],
   "source": [
    "df.intent = [\"value_eur\",lux.Clause(\"overall\",aggregation=\"sum\")]\n",
    "df"
   ]
  },
  {
   "cell_type": "markdown",
   "metadata": {
    "id": "adopted-genetics"
   },
   "source": [
    "The possible aggregation values are the same as the ones supported in Pandas's [agg](https://pandas.pydata.org/pandas-docs/stable/reference/api/pandas.DataFrame.agg.html) function, which can either be a string shorthand (e.g., \"sum\", \"count\", \"min\", \"max\", \"median\") or as a numpy aggregation function.\n",
    "\n",
    "\n",
    "For example, we can change the aggregation function to be the point-to-point value ([np.ptp](https://numpy.org/doc/stable/reference/generated/numpy.ptp.html)) by inputting the numpy function."
   ]
  },
  {
   "cell_type": "code",
   "execution_count": null,
   "metadata": {
    "id": "typical-somalia"
   },
   "outputs": [],
   "source": [
    "import numpy as np\n",
    "df.intent = [\"HighestDegree\",lux.Clause(\"AverageCost\",aggregation=np.ptp)]\n",
    "df"
   ]
  },
  {
   "cell_type": "markdown",
   "metadata": {
    "id": "double-ratio"
   },
   "source": [
    "### Specifying wildcards\n",
    "\n",
    "Let's say that you are interested in *any* attribute with respect to `AverageCost`. Lux support *wildcards* (based on [CompassQL](https://idl.cs.washington.edu/papers/compassql/) ), which specifies the enumeration of any possible attribute or values that satisfies the provided constraints."
   ]
  },
  {
   "cell_type": "code",
   "execution_count": null,
   "metadata": {
    "id": "polished-rachel"
   },
   "outputs": [],
   "source": [
    "df.intent = ['value_eur',lux.Clause('?')]\n",
    "df"
   ]
  },
  {
   "cell_type": "markdown",
   "metadata": {
    "id": "double-penny"
   },
   "source": [
    "The space of enumeration can be narrowed based on constraints. For example, you might only be interested in looking at scatterplots of `value_eur` with respect to quantitative attributes. This narrows the 44 visualizations that we had earlier to only 28 visualizations now, involving only quantitative attributes."
   ]
  },
  {
   "cell_type": "code",
   "execution_count": null,
   "metadata": {
    "id": "broadband-triumph"
   },
   "outputs": [],
   "source": [
    "df.intent = ['value_eur',lux.Clause('?',data_type='quantitative')]\n",
    "df"
   ]
  },
  {
   "cell_type": "markdown",
   "metadata": {
    "id": "artificial-singer"
   },
   "source": [
    "The enumeration specifier can also be placed on the value field. For example, you might be interested in looking at how the distribution of `value_eur` varies for all possible values of `Position`.\n"
   ]
  },
  {
   "cell_type": "code",
   "execution_count": null,
   "metadata": {
    "id": "distant-attention"
   },
   "outputs": [],
   "source": [
    "df.intent = ['value_eur','Position=?']\n",
    "df"
   ]
  },
  {
   "cell_type": "code",
   "execution_count": null,
   "metadata": {
    "id": "opposed-advocacy"
   },
   "outputs": [],
   "source": [
    "df.intent = ['overall',lux.Clause(attribute='Position',filter_op='=',value='?')]\n",
    "df"
   ]
  },
  {
   "cell_type": "markdown",
   "metadata": {
    "id": "velvet-latter"
   },
   "source": [
    "# Creating Desired Visualizations On-Demand using `Vis`\n",
    "\n",
    "A `Vis` object represents an individual visualization displayed in Lux, which can either be automatically generated or defined by the user.\n",
    "\n",
    "To generate a `Vis`, users should specify their intent and a source dataframe as inputs. The intent is expressed using the same intent specification language described in the last tutorial. \n",
    "\n",
    "For example, here we indicate our intent for visualizing the `overall` attribute on the dataframe `df`."
   ]
  },
  {
   "cell_type": "code",
   "execution_count": null,
   "metadata": {
    "id": "portuguese-jacket"
   },
   "outputs": [],
   "source": [
    "from lux.vis.Vis import Vis\n",
    "intent = [\"overall\"]\n",
    "vis = Vis(intent,df)\n",
    "vis"
   ]
  },
  {
   "cell_type": "markdown",
   "metadata": {
    "id": "needed-undergraduate"
   },
   "source": [
    "We can very easily replace the Vis's source data without changing the `Vis` definition, which is useful for comparing differences across different datasets with the same schema. \n",
    "\n",
    "For example, we might be interested in the same `overall` distribution, but plotted only on the subset of data with Forwards."
   ]
  },
  {
   "cell_type": "code",
   "execution_count": null,
   "metadata": {
    "id": "blessed-cowboy"
   },
   "outputs": [],
   "source": [
    "vis.refresh_source(df[df[\"Position\"]=='Forward'])\n",
    "vis"
   ]
  },
  {
   "cell_type": "markdown",
   "metadata": {
    "id": "respiratory-birmingham"
   },
   "source": [
    "Likewise, we can modify the intent of the query, in this case, to increase the bin size of the histogram and to indicate the filtered source:"
   ]
  },
  {
   "cell_type": "code",
   "execution_count": null,
   "metadata": {
    "id": "centered-fleece"
   },
   "outputs": [],
   "source": [
    "new_intent = [lux.Clause(\"overall\",bin_size=50),\"Position=Forward\"]\n",
    "vis.set_intent(new_intent)\n",
    "vis"
   ]
  },
  {
   "cell_type": "markdown",
   "metadata": {
    "id": "sorted-assembly"
   },
   "source": [
    "`Vis` objects are powerful programmatic representations of visualizations that can be exported into visualization code (more in the next tutorial) or be composed into a `VisList` collection."
   ]
  },
  {
   "cell_type": "markdown",
   "metadata": {
    "id": "boring-passion"
   },
   "source": [
    "# Working with Collections of Visualization with `VisList`"
   ]
  },
  {
   "cell_type": "markdown",
   "metadata": {
    "id": "hispanic-carol"
   },
   "source": [
    "`VisList` objects represent collections of visualizations in Lux.\n",
    "\n",
    "There are two ways to specify lists of visualization in Lux: 1) by specifying intent or 2) by manually composing `Vis` object into a list."
   ]
  },
  {
   "cell_type": "markdown",
   "metadata": {
    "id": "coordinated-surface"
   },
   "source": [
    "### Approach #1: Specifying `VisList` using intent syntax\n",
    "\n",
    "First, we look at an example of a `VisList` created through a user intent. Here, we create a vis collection of `overall` with respect to all other attributes, using the wildcard \"?\" symbol."
   ]
  },
  {
   "cell_type": "code",
   "execution_count": null,
   "metadata": {
    "id": "bizarre-sydney"
   },
   "outputs": [],
   "source": [
    "from lux.vis.VisList import VisList\n",
    "vc = VisList([\"overall\",\"?\"],df)\n",
    "vc"
   ]
  },
  {
   "cell_type": "markdown",
   "metadata": {
    "id": "international-sequence"
   },
   "source": [
    "Alternatively, we can specify desired attributes via a list with respect to `overall`: "
   ]
  },
  {
   "cell_type": "code",
   "execution_count": null,
   "metadata": {
    "id": "enabling-edinburgh"
   },
   "outputs": [],
   "source": [
    "vc = VisList([\"overall\",['Passes per match','Goals per match','Tackles','Position']],df)\n",
    "vc"
   ]
  },
  {
   "cell_type": "markdown",
   "metadata": {
    "id": "latest-fleet"
   },
   "source": [
    "### Approach #2: Specifying `VisList` by constructing `Vis` objects\n",
    "\n",
    "`VisList` can be manually constructed by individually specifying the content of each `Vis`, then finally putting the entire list into a `VisList` object.\n",
    "\n",
    "Here is the equivalent `VisList` example constructed using this approach:"
   ]
  },
  {
   "cell_type": "code",
   "execution_count": null,
   "metadata": {
    "id": "institutional-leisure"
   },
   "outputs": [],
   "source": [
    "from lux.vis.VisList import VisList\n",
    "\n",
    "vcLst = []\n",
    "for attribute in ['Passes per match','Goals per match','Tackles','Position']: \n",
    "    vis = Vis([lux.Clause(\"overall\"), lux.Clause(attribute)])\n",
    "    vcLst.append(vis)\n",
    "vc = VisList(vcLst,df)\n",
    "vc"
   ]
  }
 ],
 "metadata": {
  "colab": {
   "authorship_tag": "ABX9TyNKuJpdZN9ngvlwtbd0Lcb9",
   "collapsed_sections": [],
   "name": "3_LUX.ipynb",
   "provenance": []
  },
  "kernelspec": {
   "display_name": "Python 3",
   "name": "python3"
  },
  "language_info": {
   "name": "python"
  }
 },
 "nbformat": 4,
 "nbformat_minor": 2
}
