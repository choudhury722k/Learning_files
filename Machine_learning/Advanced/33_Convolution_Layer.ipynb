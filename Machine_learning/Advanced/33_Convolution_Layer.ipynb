{
 "cells": [
  {
   "cell_type": "markdown",
   "metadata": {
    "id": "IPJY0FIt-CnL"
   },
   "source": [
    "# Convolutional Layer"
   ]
  },
  {
   "cell_type": "markdown",
   "metadata": {
    "id": "y48dEpr--J9q"
   },
   "source": [
    "Most of the classification tasks are based on images and videos. We have seen that to perform classification tasks on images and videos; the convolutional layer plays a key role. “In mathematics, convolution is a mathematical operation of two functions such that it produces a third function that expresses how another function modifies the shape of one function.”\n",
    "\n",
    "If you try to apply the above definition, the convolution in CNN denotes the operation performed on two images which can be represented as matrices are multiplied to give an output that is used to extract features from an image. Convolution is the simple application of a filter to an input image that results in activation, and repeated application of the same filter throughout the image results in a map of activation called feature map, indicating location and strength of detected feature in an input image."
   ]
  },
  {
   "cell_type": "markdown",
   "metadata": {
    "id": "efoC_PEC-Kp5"
   },
   "source": [
    "To read about it more, please refer [this](https://analyticsindiamag.com/what-is-a-convolutional-layer/) article."
   ]
  },
  {
   "cell_type": "markdown",
   "metadata": {
    "id": "jymEZwsU-UrQ"
   },
   "source": [
    "# Code Implementation "
   ]
  },
  {
   "cell_type": "markdown",
   "metadata": {
    "id": "yEYUk-wg-f4t"
   },
   "source": [
    "calculate feature map from 1D and 2D data"
   ]
  },
  {
   "cell_type": "code",
   "execution_count": null,
   "metadata": {},
   "outputs": [],
   "source": [
    "!python -m pip install pip --upgrade --user -q\n",
    "!python -m pip install numpy pandas seaborn matplotlib scipy sklearn statsmodels tensorflow keras --user -q"
   ]
  },
  {
   "cell_type": "code",
   "execution_count": null,
   "metadata": {},
   "outputs": [],
   "source": [
    "import IPython\n",
    "IPython.Application.instance().kernel.do_shutdown(True)"
   ]
  },
  {
   "cell_type": "code",
   "execution_count": null,
   "metadata": {
    "id": "CiNXtWvYOHtc"
   },
   "outputs": [],
   "source": [
    "import numpy as np"
   ]
  },
  {
   "cell_type": "code",
   "execution_count": null,
   "metadata": {
    "id": "y3xO3tHNOyUn"
   },
   "outputs": [],
   "source": [
    "data_1D = [0, 1, 0, 1, 1, 0]"
   ]
  },
  {
   "cell_type": "code",
   "execution_count": null,
   "metadata": {
    "id": "JAj4PU4gVfXV"
   },
   "outputs": [],
   "source": [
    "data_2D = [[0, 1, 0, 1, 1, 0],\n",
    "[0, 1, 0, 1, 1, 0],\n",
    "[0, 1, 0, 1, 1, 0],\n",
    "[0, 1, 0, 1, 1, 0],\n",
    "[0, 1, 0, 1, 1, 0],\n",
    "[0, 1, 0, 1, 1, 0]]"
   ]
  },
  {
   "cell_type": "markdown",
   "metadata": {
    "id": "CQn6gNj--kUM"
   },
   "source": [
    "The input to the Keras Conv1D must be three dimensional, and for Conv2D, it must be four-dimensional. In the case of 1D and 2D, the first dimension represent the number of samples. In this case, we have only one; the second dimension in 1D refers to the length of each sample. In 2D, it refers to a number of rows. Here, in this case, it is six; the third dimension in 1D refers to the number of channels of each sample; for this case, it is one, and in 2D, it refers to the number of columns, in this case, is six.\n",
    "\n",
    "The fourth dimension in 2D refers to no of channels for each sample.\n",
    "\n",
    "Therefore output shape must be for Conv1D as [sample, length of sample, channel] in our case, it should be as [1,6,1], and for Conv2D as [samples, rows, columns, channel] in our case, it should be as [1,6,6,1]\n",
    "\n",
    "Convert data into an array and reshape"
   ]
  },
  {
   "cell_type": "code",
   "execution_count": null,
   "metadata": {
    "id": "bpvR_CFQVfZk"
   },
   "outputs": [],
   "source": [
    "data_1D = np.array(data_1D)\n",
    "data_1D = data_1D.reshape(1,6,1)"
   ]
  },
  {
   "cell_type": "code",
   "execution_count": null,
   "metadata": {
    "id": "FckOMPkIZza_"
   },
   "outputs": [],
   "source": [
    "data_2D = np.array(data_2D)\n",
    "data_2D = data_2D.reshape(1,6,6,1)"
   ]
  },
  {
   "cell_type": "markdown",
   "metadata": {
    "id": "Rjv5GbCa-o27"
   },
   "source": [
    "Now we will define the sequential model, which consists of the Conv1D layer, which expects an input shape as [1,6], and the model will have one filter with the shape of three or, in other words, three elements wide. The same will be carried out for Conv2D."
   ]
  },
  {
   "cell_type": "code",
   "execution_count": null,
   "metadata": {
    "id": "HSt7jfXkahQP"
   },
   "outputs": [],
   "source": [
    "from keras.models import Sequential\n",
    "from keras.layers import Conv1D,Conv2D"
   ]
  },
  {
   "cell_type": "code",
   "execution_count": null,
   "metadata": {
    "id": "WwBzjF1Hcao-"
   },
   "outputs": [],
   "source": [
    "model1 = Sequential()\n",
    "model1.add(Conv1D(1,kernel_size = 2,input_shape = (6,1), padding='same'))"
   ]
  },
  {
   "cell_type": "code",
   "execution_count": null,
   "metadata": {
    "id": "iHIIaLGReKsR"
   },
   "outputs": [],
   "source": [
    "weights"
   ]
  },
  {
   "cell_type": "markdown",
   "metadata": {
    "id": "BSa_irvT-q64"
   },
   "source": [
    "Here we are explicitly setting the weight of filters; we are defining a filter that is capable of detecting changes in input data."
   ]
  },
  {
   "cell_type": "code",
   "execution_count": null,
   "metadata": {
    "id": "0koiM59JcyTF"
   },
   "outputs": [],
   "source": [
    "weights = [np.array([[[0]],[[1]]]),np.array([0.0])] "
   ]
  },
  {
   "cell_type": "code",
   "execution_count": null,
   "metadata": {
    "id": "PHRZtVVgeMPj"
   },
   "outputs": [],
   "source": [
    "model1.set_weights(weights)"
   ]
  },
  {
   "cell_type": "markdown",
   "metadata": {
    "id": "Hy4_blUh-wYG"
   },
   "source": [
    "And finally, we can apply our input data to the model to see the convolution operation for that we are using predict method."
   ]
  },
  {
   "cell_type": "code",
   "execution_count": null,
   "metadata": {
    "id": "df6GZXGgeUUL"
   },
   "outputs": [],
   "source": [
    "model1.predict(data_1D)"
   ]
  },
  {
   "cell_type": "markdown",
   "metadata": {
    "id": "WC0Cq1I7-0hg"
   },
   "source": [
    "Now we are going to understand what exactly happened in the convolution operation.\n",
    "\n",
    "First, the two elements of the filter [0,1] are applied to the first two input data elements, [0,1], and the dot product between them results in output as 1. And the same operation is followed till the last two values of input.\n",
    "\n",
    "Note the length of the feature map is 5, whereas our input data has a length of 6. This is how the filter was applied to the input sequence. You can change the shape of a feature map by setting padding = ‘same’ in the Conv1D layer; it will give the same shape as that of the input sequence.\n",
    "\n",
    "In the similar way you can calculate the the feature map for 2D data as shown below,"
   ]
  },
  {
   "cell_type": "code",
   "execution_count": null,
   "metadata": {
    "id": "duHxoB0Di95x"
   },
   "outputs": [],
   "source": [
    "model2 = Sequential()\n",
    "model2.add(Conv2D(1,kernel_size = (3,3), input_shape = (6,6,1), padding = 'same'))"
   ]
  },
  {
   "cell_type": "code",
   "execution_count": null,
   "metadata": {
    "id": "E5_SEDkoi98A"
   },
   "outputs": [],
   "source": [
    "detectors = [[[[1]],[[0]],[[0]]],\n",
    "            [[[1]],[[0]],[[0]]],\n",
    "            [[[0]],[[0]],[[2]]]]\n",
    "weights = [np.array(detectors),np.array([0.0])]\n",
    "model2.set_weights(weights)"
   ]
  },
  {
   "cell_type": "code",
   "execution_count": null,
   "metadata": {
    "id": "AAM7jlwti99Q"
   },
   "outputs": [],
   "source": [
    "model2.predict(data_2D)"
   ]
  },
  {
   "cell_type": "markdown",
   "metadata": {
    "id": "AfoDBIbj-4xA"
   },
   "source": [
    "As we settled padding = ‘same’ that has given output shape of feature map, same as input shape of data."
   ]
  }
 ],
 "metadata": {
  "colab": {
   "authorship_tag": "ABX9TyNRuIrxxMNJEk37Fe+fxDQv",
   "collapsed_sections": [],
   "name": "1_Convolution_Layer.ipynb",
   "provenance": []
  },
  "kernelspec": {
   "display_name": "Python 3 (ipykernel)",
   "language": "python",
   "name": "python3"
  },
  "language_info": {
   "codemirror_mode": {
    "name": "ipython",
    "version": 3
   },
   "file_extension": ".py",
   "mimetype": "text/x-python",
   "name": "python",
   "nbconvert_exporter": "python",
   "pygments_lexer": "ipython3",
   "version": "3.9.7"
  }
 },
 "nbformat": 4,
 "nbformat_minor": 2
}
