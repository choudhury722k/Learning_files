{
 "cells": [
  {
   "cell_type": "markdown",
   "metadata": {
    "id": "V0xtnowbxfGl"
   },
   "source": [
    "# Compose"
   ]
  },
  {
   "cell_type": "markdown",
   "metadata": {
    "id": "2SBecmOZxig4"
   },
   "source": [
    "Compose is a Python library that can be used to automate prediction engineering. It provides a standardized way for structuring prediction problems; the end-user defines the outcome of interest by creating a labelling function. Compose then runs a search and automatically extracts the relevant training examples from historical data. "
   ]
  },
  {
   "cell_type": "markdown",
   "metadata": {
    "id": "erhXGpWJxjKp"
   },
   "source": [
    "To read about it more, please refer [this](https://analyticsindiamag.com/guide-to-prediction-engineering-with-compose/) article."
   ]
  },
  {
   "cell_type": "markdown",
   "metadata": {
    "id": "_OZEgZmOxpk8"
   },
   "source": [
    "# Prediction Engineering with Compose"
   ]
  },
  {
   "cell_type": "markdown",
   "metadata": {
    "id": "3zLJR-Ttxr_q"
   },
   "source": [
    "  Install Compose from PyPI:"
   ]
  },
  {
   "cell_type": "code",
   "execution_count": null,
   "metadata": {},
   "outputs": [],
   "source": [
    "!python -m pip install pip --upgrade --user -q\n",
    "!python -m pip install numpy pandas seaborn matplotlib scipy sklearn statsmodels tensorflow keras --user -q"
   ]
  },
  {
   "cell_type": "code",
   "execution_count": null,
   "metadata": {
    "id": "8NU2_oBSldjS"
   },
   "outputs": [],
   "source": [
    "!python -m pip install composeml --user -q"
   ]
  },
  {
   "cell_type": "code",
   "execution_count": null,
   "metadata": {},
   "outputs": [],
   "source": [
    "import IPython\n",
    "IPython.Application.instance().kernel.do_shutdown(True)"
   ]
  },
  {
   "cell_type": "markdown",
   "metadata": {
    "id": "aTC6CrTQxvOP"
   },
   "source": [
    "  Import necessary libraries and load the data."
   ]
  },
  {
   "cell_type": "code",
   "execution_count": null,
   "metadata": {
    "id": "wOk8q_2lxt-f"
   },
   "outputs": [],
   "source": [
    "import matplotlib.pyplot as plt\n",
    "import composeml as cp\n",
    "df = cp.demos.load_transactions()\n",
    "df.head() "
   ]
  },
  {
   "cell_type": "markdown",
   "metadata": {
    "id": "7nlDL5E1xz8P"
   },
   "source": [
    "  Write the labelling function. \n",
    "\n",
    "The labelling function will calculate the total of a customer’s transactions over a span of an hour. It will be passed groups of data points corresponding to different windows of one hour; all it needs to do is add them up."
   ]
  },
  {
   "cell_type": "code",
   "execution_count": null,
   "metadata": {
    "id": "HmpAYgV1x1RW"
   },
   "outputs": [],
   "source": [
    "def amount_spent(data):\n",
    "     total = data['amount'].sum()\n",
    "     return total "
   ]
  },
  {
   "cell_type": "markdown",
   "metadata": {
    "id": "-h9jafgxx5Z6"
   },
   "source": [
    "Create a LabelMaker object for the prediction problem. We intend to calculate the hourly transactions of each customer, so we set the target_entity to the customer ID, the window_size to one hour and pass our labelling function."
   ]
  },
  {
   "cell_type": "code",
   "execution_count": null,
   "metadata": {
    "id": "QNn3y7dBx3g6"
   },
   "outputs": [],
   "source": [
    "label_maker = cp.LabelMaker(\n",
    "     target_entity=\"customer_id\",\n",
    "     time_index=\"transaction_time\",\n",
    "     labeling_function=amount_spent,\n",
    "     window_size=\"1h\",\n",
    " ) "
   ]
  },
  {
   "cell_type": "markdown",
   "metadata": {
    "id": "60VnfTFPx8-A"
   },
   "source": [
    "Use the search() method on the LabelMaker object to automatically search for and extract labels."
   ]
  },
  {
   "cell_type": "code",
   "execution_count": null,
   "metadata": {
    "id": "RQK0GQ9Qx7Gb"
   },
   "outputs": [],
   "source": [
    "labels = label_maker.search(\n",
    "    df.sort_values('transaction_time'),\n",
    "    num_examples_per_instance=-1,\n",
    "    gap=1,\n",
    "    verbose=True,\n",
    ")\n",
    "labels.head() "
   ]
  },
  {
   "cell_type": "code",
   "execution_count": null,
   "metadata": {
    "id": "3X7CZHPpx_Ia"
   },
   "outputs": [],
   "source": [
    "labels.plot.dist()"
   ]
  },
  {
   "cell_type": "markdown",
   "metadata": {
    "id": "EoIjBlhEyJLt"
   },
   "source": [
    "  Various transformations can be applied to the LabelTimes table to modify the label as per the problem. \n",
    "\n",
    "Let’s say you want to create binary labels for the threshold of transaction amounts greater than $200. This can be done using the threshold() method:"
   ]
  },
  {
   "cell_type": "code",
   "execution_count": null,
   "metadata": {
    "id": "OFeNboKdyArd"
   },
   "outputs": [],
   "source": [
    "binary_labels = labels.threshold(200)\n",
    "binary_labels.head() \n",
    "\n",
    "binary_labels.plot.distribution()"
   ]
  },
  {
   "cell_type": "markdown",
   "metadata": {
    "id": "RgajRDhMyWYi"
   },
   "source": [
    "Or maybe you want to shift the label times by one hour for predicting in advance. This can be achieved using the apply_lead() method: "
   ]
  },
  {
   "cell_type": "code",
   "execution_count": null,
   "metadata": {
    "id": "x7mUs90vyWpW"
   },
   "outputs": [],
   "source": [
    "shifted_labels = labels.apply_lead('1h')\n",
    "shifted_labels.head() "
   ]
  },
  {
   "cell_type": "markdown",
   "metadata": {
    "id": "lLLgIKNMyaaK"
   },
   "source": [
    "You can learn more about the available methods here.\n",
    "\n",
    "  Once you’re satisfied with the labels, you can use the describe() method to print out the distribution of the labels and the settings and transformations that were used to create them."
   ]
  },
  {
   "cell_type": "code",
   "execution_count": null,
   "metadata": {
    "id": "djL6oL1Eya9J"
   },
   "outputs": [],
   "source": [
    "binary_labels.describe()"
   ]
  },
  {
   "cell_type": "code",
   "execution_count": null,
   "metadata": {
    "id": "Fezrp9snydcH"
   },
   "outputs": [],
   "source": []
  }
 ],
 "metadata": {
  "colab": {
   "authorship_tag": "ABX9TyNLzX6COpre1w13kZASrgiw",
   "collapsed_sections": [],
   "name": "1_Compose.ipynb",
   "provenance": []
  },
  "kernelspec": {
   "display_name": "Python 3",
   "name": "python3"
  },
  "language_info": {
   "name": "python"
  }
 },
 "nbformat": 4,
 "nbformat_minor": 2
}
