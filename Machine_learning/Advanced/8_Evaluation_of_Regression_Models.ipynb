{
 "cells": [
  {
   "cell_type": "markdown",
   "metadata": {
    "id": "6MMawi1gQbEy"
   },
   "source": [
    "# **Evaluation Metrics in Regression Models**"
   ]
  },
  {
   "cell_type": "markdown",
   "metadata": {
    "id": "85UM3DnGQi0C"
   },
   "source": [
    "Regression is a process where the models are built to predict a continuous variable for example if we need to predict the house prices for the upcoming year. "
   ]
  },
  {
   "cell_type": "markdown",
   "metadata": {
    "id": "4sFsnnmLTH-v"
   },
   "source": [
    "In regression problem we do the basic data processing followed by splitting the data into training and testing sets. We use training data to train the model whereas testing data is used to compute prediction by the model. Many different algorithms can be used for regression problems but the idea is to choose that algorithm that works effectively on our data. This can be done by doing the evaluation of the model and using error metrics. Different evaluation methods are used like accuracy score, mean square error etc."
   ]
  },
  {
   "cell_type": "markdown",
   "metadata": {
    "id": "ePx0hYq0TVzb"
   },
   "source": [
    "## **Implementation**"
   ]
  },
  {
   "cell_type": "markdown",
   "metadata": {
    "id": "f5YEOPicTjAk"
   },
   "source": [
    "We will first import the required libraries that are required and load the data set. We will be using the wine dataset for this problem that can be downloaded directly from [Kaggle](https://www.kaggle.com/sgus1318/winedata). After which we will load the data followed by pre-processing of the data. There are a total of 1599 rows and 12 columns in the data set. There were no missing values found in the data. Use the below to code to the same."
   ]
  },
  {
   "cell_type": "code",
   "execution_count": null,
   "metadata": {},
   "outputs": [],
   "source": [
    "!python -m pip install pip --upgrade --user -q\n",
    "!python -m pip install numpy pandas seaborn matplotlib scipy statsmodels sklearn --user -q"
   ]
  },
  {
   "cell_type": "code",
   "execution_count": null,
   "metadata": {},
   "outputs": [],
   "source": [
    "import IPython\n",
    "IPython.Application.instance().kernel.do_shutdown(True)"
   ]
  },
  {
   "cell_type": "code",
   "execution_count": null,
   "metadata": {
    "id": "Awh2ZNzNTh9N"
   },
   "outputs": [],
   "source": [
    "import pandas as pd\n",
    "from sklearn.preprocessing import StandardScaler\n",
    "from sklearn.model_selection import train_test_split\n",
    "from sklearn.linear_model import LinearRegression\n",
    "from sklearn.metrics import mean_squared_error,mean_absolute_error\n",
    "\n",
    "data = pd.read_csv(\"winequality_red.csv\")\n",
    "print(data.head(10))\n",
    "print(data.shape)\n",
    "print(data.isnull().any())"
   ]
  },
  {
   "cell_type": "code",
   "execution_count": null,
   "metadata": {
    "id": "0rzWrn2COJKh"
   },
   "outputs": [],
   "source": [
    "X = data.drop('quality', axis =1)\n",
    "y = data['quality']\n",
    "\n",
    "std = StandardScaler()\n",
    "\n",
    "X_train, X_test, y_train, y_test = train_test_split(X, y, test_size=0.33, random_state=42)\n",
    "\n",
    "X_train = std.fit_transform(X_train)\n",
    "X_test = std.fit_transform(X_test)\n",
    "\n",
    "lr = LinearRegression()\n",
    "\n",
    "lr.fit(X_train,y_train)\n",
    "\n",
    "y_pred_lr = lr.predict(X_test)"
   ]
  },
  {
   "cell_type": "markdown",
   "metadata": {
    "id": "35VrYtSXX8BB"
   },
   "source": [
    "We have stored our prediction of testing data in y_pred_lr. We will make use of this variable for the evaluation of the model. We will now compute different error metrics to check the model performance like mean squared error and mean absolute data. "
   ]
  },
  {
   "cell_type": "code",
   "execution_count": null,
   "metadata": {
    "id": "UP5JLBjkYCe9"
   },
   "outputs": [],
   "source": [
    "print(\"Mean Squared Error: \", mean_squared_error(y_pred_lr,y_test))\n",
    "print(\"Mean Absolute Error: \",mean_absolute_error(y_pred_lr,y_test))"
   ]
  },
  {
   "cell_type": "markdown",
   "metadata": {
    "id": "GlsCFUqDYK8L"
   },
   "source": [
    "To know more about the evaluation methods, please refer [here](https://analyticsindiamag.com/practical-guide-to-machine-learning-model-evaluation-and-error-metrics/) and for theory please refer [this](https://analyticsindiamag.com/hands-on-guide-to-loss-functions-used-to-evaluate-a-ml-algorithm/) post."
   ]
  }
 ],
 "metadata": {
  "colab": {
   "collapsed_sections": [],
   "name": "7_Evaluation_of_Regression_Models.ipynb",
   "provenance": [],
   "toc_visible": true
  },
  "kernelspec": {
   "display_name": "Python 3 (ipykernel)",
   "language": "python",
   "name": "python3"
  },
  "language_info": {
   "codemirror_mode": {
    "name": "ipython",
    "version": 3
   },
   "file_extension": ".py",
   "mimetype": "text/x-python",
   "name": "python",
   "nbconvert_exporter": "python",
   "pygments_lexer": "ipython3",
   "version": "3.9.7"
  }
 },
 "nbformat": 4,
 "nbformat_minor": 2
}
