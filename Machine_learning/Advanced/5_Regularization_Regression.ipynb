{
 "cells": [
  {
   "cell_type": "markdown",
   "metadata": {
    "id": "fsEH0PqYwunn"
   },
   "source": [
    "# **What is Regularization?**"
   ]
  },
  {
   "cell_type": "markdown",
   "metadata": {
    "id": "uyqIOnqRw02E"
   },
   "source": [
    "\n",
    "Overfitting is one of the most annoying things about a Machine Learning model. After all those time-consuming processes that took to gather the data, clean and preprocess it, the model is still incapable to give out an optimised result.  There can be lots of noises in data which may be the variance in the target variable for the same and exact predictors or irrelevant features or it can be corrupted data points. The ML model is unable to identify the noises and hence uses them as well to train the model. This can have a negative impact on the predictions of the model. This is called overfitting.\n",
    "\n",
    "In simple words, overfitting is the result of an ML model trying to fit everything that it gets from the data including noises."
   ]
  },
  {
   "cell_type": "markdown",
   "metadata": {
    "id": "broLkmv8xsWY"
   },
   "source": [
    "Please refer [this](https://analyticsindiamag.com/lasso-regression-in-python-with-machinehack-data-science-hackathon/) post to read about it more."
   ]
  },
  {
   "cell_type": "markdown",
   "metadata": {
    "id": "9CAv7K7Py4Mk"
   },
   "source": [
    "## **Ridge Regression**"
   ]
  },
  {
   "cell_type": "markdown",
   "metadata": {
    "id": "HJvc52KRy8bV"
   },
   "source": [
    "It is also called an L2 regularization that is used to get rid of overfitting. The goal while building a machine learning model is to develop a model that can generalize patterns well in training as well as in testing."
   ]
  },
  {
   "cell_type": "markdown",
   "metadata": {
    "id": "1I_CFaDQ04u4"
   },
   "source": [
    "Ridge Regression is done to improve the generalizability of the model. This is done by tweaking the slope of the best fit line. Maybe the model does not perform much well in the training because now the line does not pass exactly to the data points but it will give fairly good results in testing. The slope is changed or the line is titled a bit by making use of the penalty term called Alpha which is a hyperparameter. Linear regression aims to reduce the sum of squared errors whereas in ridge regression it also reduces the sum of squared error but adds this penalty term by multiplying it with slope square."
   ]
  },
  {
   "cell_type": "markdown",
   "metadata": {
    "id": "CW3DjzZV07H3"
   },
   "source": [
    "**Linear regression = min(Sum of squared errors)**\n",
    "\n",
    "**Ridge regression = min(Sum of squared errors + alpha * slope)square)**\n",
    "\n",
    "As the value of alpha increases, the lines gets horizontal and slope reduces as shown in the below graph."
   ]
  },
  {
   "cell_type": "markdown",
   "metadata": {
    "id": "-WUjCVMd1EvU"
   },
   "source": [
    "## **Lasso Regression**"
   ]
  },
  {
   "cell_type": "markdown",
   "metadata": {
    "id": "xS3oOui82d8J"
   },
   "source": [
    "It is also called as l1 regularization. Similar to ridge regression, lasso regression also works in a similar fashion the only difference is of the penalty term. In ridge, we multiply it by slope and take the square whereas in lasso we just multiply the alpha with absolute of slope. \n",
    "\n",
    "**Lasso Regression = min(sum of squared error + alpha * | slope| )**"
   ]
  },
  {
   "cell_type": "markdown",
   "metadata": {
    "id": "0eQ7HpFN2jxh"
   },
   "source": [
    "Similar to ridge regression as you increase the value of the penalty term the slope will get reduced and the line will become horizontal. As this term is increased it becomes less responsive to the independent variable. "
   ]
  },
  {
   "cell_type": "markdown",
   "metadata": {
    "id": "r_mUB30b9LQy"
   },
   "source": [
    "## **Implementation**"
   ]
  },
  {
   "cell_type": "markdown",
   "metadata": {
    "id": "wf76jjvk9sgT"
   },
   "source": [
    "First, we will import all the required libraries and the data set. After importing we will explore a bit data like shape and about missing values present in the data set. Use the below code to do the same."
   ]
  },
  {
   "cell_type": "code",
   "execution_count": null,
   "metadata": {},
   "outputs": [],
   "source": [
    "!python -m pip install pip --upgrade --user -q \n",
    "!python -m pip install numpy pandas seaborn matplotlib scipy statsmodels sklearn --user -q"
   ]
  },
  {
   "cell_type": "code",
   "execution_count": null,
   "metadata": {},
   "outputs": [],
   "source": [
    "import IPython\n",
    "IPython.Application.instance().kernel.do_shutdown(True)"
   ]
  },
  {
   "cell_type": "code",
   "execution_count": 1,
   "metadata": {
    "id": "dkKWwYbfNxhR"
   },
   "outputs": [
    {
     "name": "stderr",
     "output_type": "stream",
     "text": [
      "C:\\Users\\SOUMYA\\.conda\\envs\\tf_gpu\\lib\\site-packages\\sklearn\\utils\\deprecation.py:87: FutureWarning: Function load_boston is deprecated; `load_boston` is deprecated in 1.0 and will be removed in 1.2.\n",
      "\n",
      "    The Boston housing prices dataset has an ethical problem. You can refer to\n",
      "    the documentation of this function for further details.\n",
      "\n",
      "    The scikit-learn maintainers therefore strongly discourage the use of this\n",
      "    dataset unless the purpose of the code is to study and educate about\n",
      "    ethical issues in data science and machine learning.\n",
      "\n",
      "    In this special case, you can fetch the dataset from the original\n",
      "    source::\n",
      "\n",
      "        import pandas as pd\n",
      "        import numpy as np\n",
      "\n",
      "\n",
      "        data_url = \"http://lib.stat.cmu.edu/datasets/boston\"\n",
      "        raw_df = pd.read_csv(data_url, sep=\"\\s+\", skiprows=22, header=None)\n",
      "        data = np.hstack([raw_df.values[::2, :], raw_df.values[1::2, :2]])\n",
      "        target = raw_df.values[1::2, 2]\n",
      "\n",
      "    Alternative datasets include the California housing dataset (i.e.\n",
      "    :func:`~sklearn.datasets.fetch_california_housing`) and the Ames housing\n",
      "    dataset. You can load the datasets as follows::\n",
      "\n",
      "        from sklearn.datasets import fetch_california_housing\n",
      "        housing = fetch_california_housing()\n",
      "\n",
      "    for the California housing dataset and::\n",
      "\n",
      "        from sklearn.datasets import fetch_openml\n",
      "        housing = fetch_openml(name=\"house_prices\", as_frame=True)\n",
      "\n",
      "    for the Ames housing dataset.\n",
      "    \n",
      "  warnings.warn(msg, category=FutureWarning)\n"
     ]
    },
    {
     "data": {
      "text/html": [
       "<div>\n",
       "<style scoped>\n",
       "    .dataframe tbody tr th:only-of-type {\n",
       "        vertical-align: middle;\n",
       "    }\n",
       "\n",
       "    .dataframe tbody tr th {\n",
       "        vertical-align: top;\n",
       "    }\n",
       "\n",
       "    .dataframe thead th {\n",
       "        text-align: right;\n",
       "    }\n",
       "</style>\n",
       "<table border=\"1\" class=\"dataframe\">\n",
       "  <thead>\n",
       "    <tr style=\"text-align: right;\">\n",
       "      <th></th>\n",
       "      <th>CRIM</th>\n",
       "      <th>ZN</th>\n",
       "      <th>INDUS</th>\n",
       "      <th>CHAS</th>\n",
       "      <th>NOX</th>\n",
       "      <th>RM</th>\n",
       "      <th>AGE</th>\n",
       "      <th>DIS</th>\n",
       "      <th>RAD</th>\n",
       "      <th>TAX</th>\n",
       "      <th>PTRATIO</th>\n",
       "      <th>B</th>\n",
       "      <th>LSTAT</th>\n",
       "      <th>target</th>\n",
       "    </tr>\n",
       "  </thead>\n",
       "  <tbody>\n",
       "    <tr>\n",
       "      <th>0</th>\n",
       "      <td>0.00632</td>\n",
       "      <td>18.0</td>\n",
       "      <td>2.31</td>\n",
       "      <td>0.0</td>\n",
       "      <td>0.538</td>\n",
       "      <td>6.575</td>\n",
       "      <td>65.2</td>\n",
       "      <td>4.0900</td>\n",
       "      <td>1.0</td>\n",
       "      <td>296.0</td>\n",
       "      <td>15.3</td>\n",
       "      <td>396.90</td>\n",
       "      <td>4.98</td>\n",
       "      <td>24.0</td>\n",
       "    </tr>\n",
       "    <tr>\n",
       "      <th>1</th>\n",
       "      <td>0.02731</td>\n",
       "      <td>0.0</td>\n",
       "      <td>7.07</td>\n",
       "      <td>0.0</td>\n",
       "      <td>0.469</td>\n",
       "      <td>6.421</td>\n",
       "      <td>78.9</td>\n",
       "      <td>4.9671</td>\n",
       "      <td>2.0</td>\n",
       "      <td>242.0</td>\n",
       "      <td>17.8</td>\n",
       "      <td>396.90</td>\n",
       "      <td>9.14</td>\n",
       "      <td>21.6</td>\n",
       "    </tr>\n",
       "    <tr>\n",
       "      <th>2</th>\n",
       "      <td>0.02729</td>\n",
       "      <td>0.0</td>\n",
       "      <td>7.07</td>\n",
       "      <td>0.0</td>\n",
       "      <td>0.469</td>\n",
       "      <td>7.185</td>\n",
       "      <td>61.1</td>\n",
       "      <td>4.9671</td>\n",
       "      <td>2.0</td>\n",
       "      <td>242.0</td>\n",
       "      <td>17.8</td>\n",
       "      <td>392.83</td>\n",
       "      <td>4.03</td>\n",
       "      <td>34.7</td>\n",
       "    </tr>\n",
       "    <tr>\n",
       "      <th>3</th>\n",
       "      <td>0.03237</td>\n",
       "      <td>0.0</td>\n",
       "      <td>2.18</td>\n",
       "      <td>0.0</td>\n",
       "      <td>0.458</td>\n",
       "      <td>6.998</td>\n",
       "      <td>45.8</td>\n",
       "      <td>6.0622</td>\n",
       "      <td>3.0</td>\n",
       "      <td>222.0</td>\n",
       "      <td>18.7</td>\n",
       "      <td>394.63</td>\n",
       "      <td>2.94</td>\n",
       "      <td>33.4</td>\n",
       "    </tr>\n",
       "    <tr>\n",
       "      <th>4</th>\n",
       "      <td>0.06905</td>\n",
       "      <td>0.0</td>\n",
       "      <td>2.18</td>\n",
       "      <td>0.0</td>\n",
       "      <td>0.458</td>\n",
       "      <td>7.147</td>\n",
       "      <td>54.2</td>\n",
       "      <td>6.0622</td>\n",
       "      <td>3.0</td>\n",
       "      <td>222.0</td>\n",
       "      <td>18.7</td>\n",
       "      <td>396.90</td>\n",
       "      <td>5.33</td>\n",
       "      <td>36.2</td>\n",
       "    </tr>\n",
       "  </tbody>\n",
       "</table>\n",
       "</div>"
      ],
      "text/plain": [
       "      CRIM    ZN  INDUS  CHAS    NOX     RM   AGE     DIS  RAD    TAX  \\\n",
       "0  0.00632  18.0   2.31   0.0  0.538  6.575  65.2  4.0900  1.0  296.0   \n",
       "1  0.02731   0.0   7.07   0.0  0.469  6.421  78.9  4.9671  2.0  242.0   \n",
       "2  0.02729   0.0   7.07   0.0  0.469  7.185  61.1  4.9671  2.0  242.0   \n",
       "3  0.03237   0.0   2.18   0.0  0.458  6.998  45.8  6.0622  3.0  222.0   \n",
       "4  0.06905   0.0   2.18   0.0  0.458  7.147  54.2  6.0622  3.0  222.0   \n",
       "\n",
       "   PTRATIO       B  LSTAT  target  \n",
       "0     15.3  396.90   4.98    24.0  \n",
       "1     17.8  396.90   9.14    21.6  \n",
       "2     17.8  392.83   4.03    34.7  \n",
       "3     18.7  394.63   2.94    33.4  \n",
       "4     18.7  396.90   5.33    36.2  "
      ]
     },
     "execution_count": 1,
     "metadata": {},
     "output_type": "execute_result"
    }
   ],
   "source": [
    "import pandas as pd\n",
    "\n",
    "from sklearn.linear_model import LinearRegression\n",
    "\n",
    "from sklearn.linear_model import Ridge\n",
    "\n",
    "from sklearn.linear_model import Lasso\n",
    "\n",
    "from sklearn.datasets import load_boston\n",
    "boston_data = load_boston()\n",
    "df = pd.DataFrame(boston_data.data,columns=boston_data.feature_names)\n",
    "df['target'] = pd.Series(boston_data.target)\n",
    "df.head()"
   ]
  },
  {
   "cell_type": "code",
   "execution_count": 2,
   "metadata": {
    "id": "WtpP-FPY_GLg"
   },
   "outputs": [
    {
     "name": "stdout",
     "output_type": "stream",
     "text": [
      "(506, 14)\n",
      "CRIM       0\n",
      "ZN         0\n",
      "INDUS      0\n",
      "CHAS       0\n",
      "NOX        0\n",
      "RM         0\n",
      "AGE        0\n",
      "DIS        0\n",
      "RAD        0\n",
      "TAX        0\n",
      "PTRATIO    0\n",
      "B          0\n",
      "LSTAT      0\n",
      "target     0\n",
      "dtype: int64\n"
     ]
    }
   ],
   "source": [
    "print(df.shape)\n",
    "\n",
    "print(df.isnull().sum())"
   ]
  },
  {
   "cell_type": "markdown",
   "metadata": {
    "id": "wpO0cvBB_ZMZ"
   },
   "source": [
    "The data set contains 506 rows and 14 columns. There are no missing values that are found in the data. We will not divide the dependent variable and independent variable X and y respectively followed by scaling the data and then dividing it into training and testing sets. Use the below code to do so."
   ]
  },
  {
   "cell_type": "code",
   "execution_count": 3,
   "metadata": {
    "id": "jouT1X9L_z_T"
   },
   "outputs": [
    {
     "name": "stdout",
     "output_type": "stream",
     "text": [
      "(354, 13)\n",
      "(354,)\n",
      "(152, 13)\n",
      "(152,)\n"
     ]
    }
   ],
   "source": [
    "X = df.drop('target', axis=1)\n",
    "\n",
    "y = df['target']\n",
    "\n",
    "from sklearn import preprocessing\n",
    "\n",
    "X = preprocessing.scale(X)\n",
    "\n",
    "y = preprocessing.scale(y)\n",
    "\n",
    "from sklearn.model_selection import train_test_split\n",
    "\n",
    "X_train, X_test, y_train, y_test = train_test_split(X, y, test_size=0.30, random_state=1)\n",
    "\n",
    "print(X_train.shape)\n",
    "\n",
    "print(y_train.shape)\n",
    "\n",
    "print(X_test.shape)\n",
    "\n",
    "print(y_test.shape)"
   ]
  },
  {
   "cell_type": "markdown",
   "metadata": {
    "id": "2yz3uMW2_8WK"
   },
   "source": [
    "There are a total of 354 rows in the training data set and 152 are present in the testing data. We now build three models using simple linear regression, ridge regression and lasso regression and fit the data for training. After the model gets trained we will compute the scores for testing and training. Use the below code for the same."
   ]
  },
  {
   "cell_type": "code",
   "execution_count": 4,
   "metadata": {
    "id": "YPOAnnV8AJhI"
   },
   "outputs": [
    {
     "name": "stdout",
     "output_type": "stream",
     "text": [
      "Ridge model: [-0.09167006  0.15298094  0.04282248  0.06757044 -0.26900759  0.21412311\n",
      "  0.01052611 -0.34552532  0.2873329  -0.20302407 -0.23634259  0.06408346\n",
      " -0.44092697]\n"
     ]
    }
   ],
   "source": [
    "regression_model = LinearRegression()\n",
    "\n",
    "regression_model.fit(X_train, y_train)\n",
    "\n",
    "ridge = Ridge(alpha=.3)\n",
    "\n",
    "ridge.fit(X_train,y_train)\n",
    "\n",
    "print (\"Ridge model:\", (ridge.coef_))"
   ]
  },
  {
   "cell_type": "code",
   "execution_count": 5,
   "metadata": {
    "id": "xsZmm4PkANFS"
   },
   "outputs": [
    {
     "name": "stdout",
     "output_type": "stream",
     "text": [
      "Lasso model: [-0.          0.         -0.          0.01568283 -0.          0.21429193\n",
      " -0.         -0.         -0.         -0.         -0.1518455   0.\n",
      " -0.43149417]\n"
     ]
    }
   ],
   "source": [
    "lasso = Lasso(alpha=0.1)\n",
    "\n",
    "lasso.fit(X_train,y_train)\n",
    "\n",
    "print (\"Lasso model:\", (lasso.coef_))"
   ]
  },
  {
   "cell_type": "code",
   "execution_count": 6,
   "metadata": {
    "id": "pC71gTYsAPKi"
   },
   "outputs": [
    {
     "name": "stdout",
     "output_type": "stream",
     "text": [
      "Linear Regression Model Training Score:  0.7103879080674731\n",
      "Linear Regression Model Testing Score:  0.7836295385076292\n",
      "Ridge Regression Model Training Score:  0.7103849353060623\n",
      "Ridge Regression Model Testing Score:  0.7837023354761999\n",
      "Lasso Regression Model Training Score:  0.6370760173272938\n",
      "Lasso Regression Model Testing Score:  0.6795163947872269\n"
     ]
    }
   ],
   "source": [
    "print(\"Linear Regression Model Training Score: \", regression_model.score(X_train, y_train))\n",
    "\n",
    "print(\"Linear Regression Model Testing Score: \",regression_model.score(X_test, y_test))\n",
    "\n",
    "print(\"Ridge Regression Model Training Score: \",ridge.score(X_train, y_train))\n",
    "\n",
    "print(\"Ridge Regression Model Testing Score: \",ridge.score(X_test, y_test))\n",
    "\n",
    "print(\"Lasso Regression Model Training Score: \",lasso.score(X_train, y_train))\n",
    "\n",
    "print(\"Lasso Regression Model Testing Score: \",lasso.score(X_test, y_test))"
   ]
  },
  {
   "cell_type": "markdown",
   "metadata": {
    "id": "HTfx8gDqAYv8"
   },
   "source": [
    "The results are almost identical but with less complexity of the models. We will now create a polynomial regression model by creating new features from the features followed by transforming the data and dividing it into training and testing. Use the below code to do so. "
   ]
  },
  {
   "cell_type": "code",
   "execution_count": 7,
   "metadata": {
    "id": "4NnywAQMAZpT"
   },
   "outputs": [
    {
     "name": "stdout",
     "output_type": "stream",
     "text": [
      "3.4026738293303087e-14\n"
     ]
    }
   ],
   "source": [
    "from sklearn.preprocessing import PolynomialFeatures\n",
    "\n",
    "poly = PolynomialFeatures(degree = 2, interaction_only=True)\n",
    "\n",
    "X_poly = poly.fit_transform(X)\n",
    "\n",
    "X_train, X_test, y_train, y_test = train_test_split(X_poly, y, test_size=0.30, random_state=1)\n",
    "\n",
    "regression_model.fit(X_train, y_train)\n",
    "\n",
    "print(regression_model.coef_[0])"
   ]
  },
  {
   "cell_type": "code",
   "execution_count": 8,
   "metadata": {
    "id": "M2kJeQSSAlz5"
   },
   "outputs": [
    {
     "name": "stdout",
     "output_type": "stream",
     "text": [
      "Ridge model: [ 0.          0.09131088  0.04957092  0.1912305   0.19590777 -0.13001372\n",
      "  0.37566068 -0.2643974  -0.38884179  0.06450491 -0.28779474  0.03471483\n",
      "  0.18384016 -0.35661823  0.04865369  0.16616854  0.47613909 -0.16414125\n",
      "  0.21836262 -0.16577694 -0.39233041 -0.42146194 -0.01398648  0.302188\n",
      " -0.03417649  0.2035278  -0.00994461 -0.04934762  0.03032621 -0.00150432\n",
      "  0.04859549  0.04881267  0.08643587  0.10519436 -0.00282823 -0.05732559\n",
      " -0.17394488 -0.05029663  0.27058686  0.14884354  0.04492921  0.02211007\n",
      " -0.07684504  0.02653827 -0.01718006 -0.078254   -0.0570902  -0.16382703\n",
      " -0.11038648  0.00273401  0.02295145 -0.20551405  0.3096989  -0.07257826\n",
      "  0.04122948 -0.06498732  0.1078521  -0.26229666  0.1227714  -0.06765637\n",
      " -0.0123171  -0.10933651  0.03419968  0.1371888  -0.18918276  0.03822037\n",
      " -0.07982726 -0.33045092 -0.06043317 -0.04501405 -0.17734675 -0.11703109\n",
      "  0.3814108  -0.16430925 -0.05597577 -0.11419795 -0.11576035 -0.19264137\n",
      " -0.10178204 -0.00464449 -0.11287499  0.1919217  -0.03172112  0.02103178\n",
      " -0.06910452 -0.21026351  0.20012935  0.00767628 -0.18582379  0.05961424\n",
      "  0.07085984 -0.07574547]\n"
     ]
    }
   ],
   "source": [
    "ridge = Ridge(alpha=.3)\n",
    "\n",
    "ridge.fit(X_train,y_train)\n",
    "\n",
    "print (\"Ridge model:\", (ridge.coef_))"
   ]
  },
  {
   "cell_type": "code",
   "execution_count": 9,
   "metadata": {
    "id": "8EU69ZBlAni5"
   },
   "outputs": [
    {
     "name": "stdout",
     "output_type": "stream",
     "text": [
      "Lasso model: [ 0.         -0.         -0.          0.          0.1218874  -0.11519651\n",
      "  0.34377146 -0.16172908 -0.34259854  0.08440576 -0.19649545 -0.07612681\n",
      "  0.08292073 -0.38011254  0.         -0.          0.30719265 -0.08967884\n",
      "  0.13770663 -0.         -0.         -0.00486047 -0.          0.\n",
      " -0.0115419   0.10023233  0.         -0.          0.          0.00192164\n",
      "  0.          0.0075936   0.03241507  0.03288134  0.03381794 -0.\n",
      " -0.07207862  0.00459289  0.05496256  0.08358469  0.00386614 -0.08631844\n",
      " -0.          0.00528134 -0.06079282  0.         -0.01974897 -0.1241212\n",
      " -0.09561138  0.0443368  -0.00247302 -0.          0.05167622 -0.02668962\n",
      "  0.         -0.06763413  0.         -0.08784486  0.         -0.11162687\n",
      "  0.         -0.00728116  0.01023866  0.         -0.13155027  0.\n",
      " -0.14744298 -0.13516906 -0.10220115 -0.04182454 -0.18337532 -0.00987345\n",
      "  0.16864435  0.         -0.0345977  -0.         -0.08200021 -0.1406453\n",
      " -0.03301659  0.          0.          0.06870581  0.00887873  0.01778953\n",
      " -0.         -0.17604964  0.17211692 -0.00056291 -0.13600279 -0.\n",
      "  0.         -0.09120933]\n"
     ]
    }
   ],
   "source": [
    "lasso = Lasso(alpha=0.003)\n",
    "\n",
    "lasso.fit(X_train,y_train)\n",
    "\n",
    "print (\"Lasso model:\", (lasso.coef_))"
   ]
  },
  {
   "cell_type": "markdown",
   "metadata": {
    "id": "5kewkwX4At4m"
   },
   "source": [
    "We will now check the scores of the polynomial model and compute the training and testing scores. Use the below code to do so."
   ]
  },
  {
   "cell_type": "code",
   "execution_count": 10,
   "metadata": {
    "id": "lAjEj8gAAuik"
   },
   "outputs": [
    {
     "name": "stdout",
     "output_type": "stream",
     "text": [
      "Linear Regression Model Training Score:  0.9170667402821651\n",
      "Linear Regression Model Testing Score:  0.8859749398610375\n",
      "Ridge Regression Model Training Score:  0.9149881925509785\n",
      "Ridge Regression Model Testing Score:  0.8856620334419097\n",
      "Lasso Regression Model Training Score:  0.9023551833327291\n",
      "Lasso Regression Model Testing Score:  0.901778455869959\n"
     ]
    }
   ],
   "source": [
    "print(\"Linear Regression Model Training Score: \", regression_model.score(X_train, y_train))\n",
    "\n",
    "print(\"Linear Regression Model Testing Score: \",regression_model.score(X_test, y_test))\n",
    "\n",
    "print(\"Ridge Regression Model Training Score: \",ridge.score(X_train, y_train))\n",
    "\n",
    "print(\"Ridge Regression Model Testing Score: \",ridge.score(X_test, y_test))\n",
    "\n",
    "print(\"Lasso Regression Model Training Score: \",lasso.score(X_train, y_train))\n",
    "\n",
    "print(\"Lasso Regression Model Testing Score: \",lasso.score(X_test, y_test))"
   ]
  },
  {
   "cell_type": "markdown",
   "metadata": {
    "id": "2BPBCgT-A3W_"
   },
   "source": [
    "Regularization is done to control the performance of the model and to avoid the model to get overfitted. In this article, we discussed the overfitting of the model and two well-known regularization techniques that are Lasso and Ridge Regression. Lasso regression transforms the coefficient values to 0 which means it can be used as a feature selection method and also dimensionality reduction technique. The feature whose coefficient becomes equal to 0 is less important in predicting the target variable and hence it can be dropped.  Ridge regression transforms the coefficient values to close to 0 and not completely equal to 0. "
   ]
  },
  {
   "cell_type": "markdown",
   "metadata": {
    "id": "SxSCpEo5yDH9"
   },
   "source": [
    "Please refer [this](https://analyticsindiamag.com/hands-on-implementation-of-lasso-and-ridge-regression/) to get the complete overview of implementation and refer [this](https://analyticsindiamag.com/ridge-regression-vs-lasso-how-these-2-popular-ml-regularisation-techniques-work/) story to learn more about theoretical aspects of Ridge and Lasso Regularization."
   ]
  }
 ],
 "metadata": {
  "colab": {
   "collapsed_sections": [],
   "name": "4_Regularization_Regression.ipynb",
   "provenance": [],
   "toc_visible": true
  },
  "kernelspec": {
   "display_name": "Python 3 (ipykernel)",
   "language": "python",
   "name": "python3"
  },
  "language_info": {
   "codemirror_mode": {
    "name": "ipython",
    "version": 3
   },
   "file_extension": ".py",
   "mimetype": "text/x-python",
   "name": "python",
   "nbconvert_exporter": "python",
   "pygments_lexer": "ipython3",
   "version": "3.9.7"
  }
 },
 "nbformat": 4,
 "nbformat_minor": 2
}
