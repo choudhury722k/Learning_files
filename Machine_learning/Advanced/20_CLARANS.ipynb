{
 "cells": [
  {
   "cell_type": "markdown",
   "metadata": {
    "id": "vH5UUQNj9OCi"
   },
   "source": [
    "# **CLARANS Algorithm**"
   ]
  },
  {
   "cell_type": "markdown",
   "metadata": {
    "id": "KDwsdLma9Y9t"
   },
   "source": [
    "CLARANS is a partitioning method of clustering particularly useful in spatial data mining. We mean recognizing patterns and relationships existing in spatial data (such as distance-related, direction-relation or topological data, e.g. data plotted on a road map) by spatial data mining."
   ]
  },
  {
   "cell_type": "markdown",
   "metadata": {
    "id": "CZQBJLc69o-L"
   },
   "source": [
    "The CLARA algorithm was introduced as an extension of K-Medoids. It uses only random samples of the input data (instead of the entire dataset) and computes the best medoids in those samples. It thus works better than K-Medoids for crowded datasets. However, the algorithm may give wrong clustering results if one or more sampled medoids are away from the actual best medoids."
   ]
  },
  {
   "cell_type": "markdown",
   "metadata": {
    "id": "qlxalN0N9qZR"
   },
   "source": [
    "To know about it more, please refer [Comprehensive Guide to CLARANS](https://analyticsindiamag.com/comprehensive-guide-to-clarans-clustering-algorithm/)."
   ]
  },
  {
   "cell_type": "markdown",
   "metadata": {
    "id": "SQQANnLC96z6"
   },
   "source": [
    "## **Practical Implementation**"
   ]
  },
  {
   "cell_type": "markdown",
   "metadata": {
    "id": "C4C18emS9_75"
   },
   "source": [
    "Here’s a demonstration of using CLARANS algorithm on the sklearn library’s [Breast Cancer Wisconsin dataset](https://scikit-learn.org/stable/datasets/toy_dataset.html#breast-cancer-dataset). Though the dataset is primarily used for binary classification tasks, we use it to show how CLARANS algorithm can form separate clusters of the constituent data points falling under one of the two target categories (‘malignant’ or ‘benign’). The pyclustering data mining library has been used here for Pythonic implementation of CLARANS. Step-wise explanation of the code is as follows:"
   ]
  },
  {
   "cell_type": "markdown",
   "metadata": {
    "id": "eqhNeojm-Ky5"
   },
   "source": [
    "### **Install pyclustering library**"
   ]
  },
  {
   "cell_type": "code",
   "execution_count": null,
   "metadata": {
    "id": "cxfIV1TJNJdY"
   },
   "outputs": [],
   "source": [
    "!python -m pip install pip --upgrade --user -q\n",
    "!python -m pip install numpy pandas seaborn matplotlib scipy sklearn statsmodels scikit-image pyclustering --user -q"
   ]
  },
  {
   "cell_type": "code",
   "execution_count": null,
   "metadata": {},
   "outputs": [],
   "source": [
    "import IPython\n",
    "IPython.Application.instance().kernel.do_shutdown(True)"
   ]
  },
  {
   "cell_type": "markdown",
   "metadata": {
    "id": "dS6x1Smk-Ps2"
   },
   "source": [
    "### **Import required libraries and modules**"
   ]
  },
  {
   "cell_type": "code",
   "execution_count": null,
   "metadata": {
    "id": "5uXnXzO2-UJ_"
   },
   "outputs": [],
   "source": [
    "#Class for implementing CLARANS algorithm\n",
    "from pyclustering.cluster.clarans import clarans\n",
    "#To execute a function with execution time recorded\n",
    "from pyclustering.utils import timedcall\n",
    "#sklearn package for using a toy dataset\n",
    "from sklearn import datasets\n",
    "#Class for plotting multi-dimensional data\n",
    "from pyclustering.cluster import cluster_visualizer_multidim "
   ]
  },
  {
   "cell_type": "markdown",
   "metadata": {
    "id": "LvRUgly4-Xj1"
   },
   "source": [
    "### **Import the Breast Cancer dataset**"
   ]
  },
  {
   "cell_type": "code",
   "execution_count": null,
   "metadata": {
    "id": "Cmjr4OxY-ZZ6"
   },
   "outputs": [],
   "source": [
    "bc_dataset =  datasets.load_breast_cancer()\n",
    "#Display the dataset\n",
    "bc_dataset "
   ]
  },
  {
   "cell_type": "markdown",
   "metadata": {
    "id": "FW6EUcrYBn87"
   },
   "source": [
    "### **Extract the data points from the loaded dataset**"
   ]
  },
  {
   "cell_type": "code",
   "execution_count": null,
   "metadata": {
    "id": "TUb8HJCCQCtu"
   },
   "outputs": [],
   "source": [
    "#get the Breast Cancer data\n",
    "bc_data = bc_dataset.data"
   ]
  },
  {
   "cell_type": "code",
   "execution_count": null,
   "metadata": {
    "id": "OTAP2hYd-xmu"
   },
   "outputs": [],
   "source": [
    "bc_data"
   ]
  },
  {
   "cell_type": "markdown",
   "metadata": {
    "id": "4_rv57dtBrjt"
   },
   "source": [
    "Convert the dataset from a numpy array to a list because a list of lists is fed as an input to the CLARANS’ implementation of the pyclustering library."
   ]
  },
  {
   "cell_type": "code",
   "execution_count": null,
   "metadata": {
    "id": "ad7U2qV7QE2j"
   },
   "outputs": [],
   "source": [
    "bc_data = bc_data.tolist()\n",
    "\n",
    "#get a glimpse of dataset\n",
    "#Display the data in the form of a list \n",
    "print(bc_data[:5])"
   ]
  },
  {
   "cell_type": "markdown",
   "metadata": {
    "id": "zulbH6RBByDg"
   },
   "source": [
    "### **Instantiate the CLARANS class.**"
   ]
  },
  {
   "cell_type": "code",
   "execution_count": null,
   "metadata": {
    "id": "PuK5_xKhQIJC"
   },
   "outputs": [],
   "source": [
    "clarans_obj = clarans(bc_data, 2, 3, 5)"
   ]
  },
  {
   "cell_type": "markdown",
   "metadata": {
    "id": "Vx6qKze4CG0J"
   },
   "source": [
    "### **Analyze the clusters**"
   ]
  },
  {
   "cell_type": "markdown",
   "metadata": {
    "id": "Dlc155eJCBKE"
   },
   "source": [
    "process() method analyzes the clusters as per the CLARANS algorithm. We call the process() method and encapsulate it in the call to timedcall() function so that the time taken for executing process() method also gets recorded. "
   ]
  },
  {
   "cell_type": "code",
   "execution_count": null,
   "metadata": {
    "id": "-dztONRLQLnv"
   },
   "outputs": [],
   "source": [
    "#calls the clarans method 'process' to implement the algortihm\n",
    "(tks, res) = timedcall(clarans_obj.process);\n",
    "print(\"Execution time : \", tks, \"\\n\");"
   ]
  },
  {
   "cell_type": "markdown",
   "metadata": {
    "id": "BYAamYskCMFo"
   },
   "source": [
    "### **Get the clusters allocated by the algorithm**"
   ]
  },
  {
   "cell_type": "code",
   "execution_count": null,
   "metadata": {
    "id": "Il3S4FAHQN-2"
   },
   "outputs": [],
   "source": [
    "#returns the clusters \n",
    "clst = clarans_obj.get_clusters();"
   ]
  },
  {
   "cell_type": "markdown",
   "metadata": {
    "id": "Rc516JyhCUV7"
   },
   "source": [
    "### **Get the list of medoids of the clusters allocated by the algorithm.**"
   ]
  },
  {
   "cell_type": "code",
   "execution_count": null,
   "metadata": {
    "id": "VDrQ_LXqQQ0L"
   },
   "outputs": [],
   "source": [
    "#returns the mediods \n",
    "med = clarans_obj.get_medoids();"
   ]
  },
  {
   "cell_type": "markdown",
   "metadata": {
    "id": "E155fPzZCd4d"
   },
   "source": [
    "### **Print the results**"
   ]
  },
  {
   "cell_type": "code",
   "execution_count": null,
   "metadata": {
    "id": "hfqE9JcCQVbk"
   },
   "outputs": [],
   "source": [
    "print(\"Index of clusters' points :\\n\",clst)\n",
    "print(\"\\nLabel class of each point :\\n \",bc_dataset.target)\n",
    "print(\"\\nIndex of the best medoids : \",med)"
   ]
  },
  {
   "cell_type": "markdown",
   "metadata": {
    "id": "tPdZuwjqCwSK"
   },
   "source": [
    "### **Visualize the Clusters**"
   ]
  },
  {
   "cell_type": "markdown",
   "metadata": {
    "id": "LlJy15J-Ch5F"
   },
   "source": [
    " Here, the input data has 30 features. Cluster_visualizer class of the pyclustering library can be used to visualize the 1D, 2D or 3D data. While for more than three-dimensional data, cluster_visualizer_multidim class can be used as follows:"
   ]
  },
  {
   "cell_type": "code",
   "execution_count": null,
   "metadata": {
    "id": "7LlSWb_bQXgt"
   },
   "outputs": [],
   "source": [
    "from pyclustering.cluster import cluster_visualizer_multidim"
   ]
  },
  {
   "cell_type": "code",
   "execution_count": null,
   "metadata": {
    "id": "ldlgV-lCAm5G"
   },
   "outputs": [],
   "source": [
    "vis = cluster_visualizer_multidim();\n",
    "vis.append_clusters(clst,bc_data,marker=\"*\",markersize=5);\n",
    "vis.show(pair_filter=[[1,2],[1,3],[27,28],[27,29]],max_row_size=2);"
   ]
  },
  {
   "cell_type": "markdown",
   "metadata": {
    "id": "Povz13bR9JNV"
   },
   "source": [
    "# **Related Articles:**\n",
    "\n",
    "\n",
    "> * [Comprehensive Guide to CLARANS](https://analyticsindiamag.com/comprehensive-guide-to-clarans-clustering-algorithm/)\n",
    "\n",
    "> * [Comprehensive Guide to K-Medoids](https://analyticsindiamag.com/comprehensive-guide-to-k-medoids-clustering-algorithm/)\n",
    "\n",
    "> * [Clustering Algorithm every Data Science Practitioner should know](https://analyticsindiamag.com/clustering-techniques-every-data-science-beginner-should-swear-by/)\n",
    "\n",
    "> * [Beginner Guide to K-Means](https://analyticsindiamag.com/beginners-guide-to-k-means-clustering/)\n",
    "\n",
    "> * [Is K-Means is the best algorithm?](https://analyticsindiamag.com/is-k-means-clustering-really-the-best-unsupervised-learning-algorithm/)"
   ]
  }
 ],
 "metadata": {
  "colab": {
   "authorship_tag": "ABX9TyPSKWmFJXyzS32J9ZgD0Fw0",
   "collapsed_sections": [],
   "name": "3_CLARANS.ipynb",
   "provenance": [],
   "toc_visible": true
  },
  "kernelspec": {
   "display_name": "Python 3",
   "name": "python3"
  },
  "language_info": {
   "name": "python"
  }
 },
 "nbformat": 4,
 "nbformat_minor": 2
}
