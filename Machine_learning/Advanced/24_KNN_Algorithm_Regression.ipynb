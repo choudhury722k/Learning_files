{
 "cells": [
  {
   "cell_type": "markdown",
   "metadata": {
    "id": "yHxngWztbBv_"
   },
   "source": [
    "# **KNN Algorithm**"
   ]
  },
  {
   "cell_type": "markdown",
   "metadata": {
    "id": "rdzGbf4YbKQN"
   },
   "source": [
    "K-Nearest Neighbours is one of the most essential classification algorithms. It is also known as the lazy learning as the function is only approximated locally and all the computations are deferred until classification. The algorithm selects the k nearest training samples for a test sample and then predicts the test sample with the major class amongst k nearest training samples."
   ]
  },
  {
   "cell_type": "markdown",
   "metadata": {
    "id": "JdNLbvJfbXeY"
   },
   "source": [
    "Please refer  [Complete Guide to KNN](https://analyticsindiamag.com/a-complete-guide-for-beginning-with-k-nearest-neighbours-algorithm-in-python/) to know more about theoretical aspects of this algorithm."
   ]
  },
  {
   "cell_type": "markdown",
   "metadata": {
    "id": "Gz87XgxybgTW"
   },
   "source": [
    "## **The Intuitive Steps For KNN**"
   ]
  },
  {
   "cell_type": "markdown",
   "metadata": {
    "id": "CqjFYlpabfNX"
   },
   "source": [
    "\n",
    "\n",
    "The K Nearest Neighbour Algorithm can be performed in 4 simple steps.\n",
    "\n",
    "> **Step 1:** Identify the problem as either falling to classification or regression.\n",
    "\n",
    "> **Step 2:** Fix a value for k which can be any number greater than zero.\n",
    "\n",
    "> **Step 3:** Now find k data points that are closest to the unknown/uncategorized datapoint based on distance(Euclidean Distance, Manhattan Distance etc.)\n",
    "\n",
    "> **Step 4:** Find the solution in either of the following steps:\n",
    "\n",
    "> > * If classification, assign the uncategorized datapoint to the class where the maximum number of neighbours belonged to.\n",
    "\n",
    "> > or\n",
    "\n",
    "> > * If regression, find the average value of all the closest neighbours and assign it as the value for the unknown data point.  \n"
   ]
  },
  {
   "cell_type": "markdown",
   "metadata": {
    "id": "tqXvVO_nb2hp"
   },
   "source": [
    "**Note :**\n",
    "\n",
    "For step 3, the most used distance formula is Euclidean Distance which is given as follows :\n",
    "\n",
    "By Euclidean Distance, the distance between two points P1(x1,y1)and P2(x2,y2) can be expressed as :"
   ]
  },
  {
   "cell_type": "markdown",
   "metadata": {
    "id": "aCUEO4F0b5gB"
   },
   "source": [
    "![image.png](data:image/png;base64,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)"
   ]
  },
  {
   "cell_type": "markdown",
   "metadata": {
    "id": "mC5nCRIIb7rc"
   },
   "source": [
    "## **Implementing KNN in Python**"
   ]
  },
  {
   "cell_type": "markdown",
   "metadata": {
    "id": "WqAsDHSicDef"
   },
   "source": [
    "The popular scikit learn library provides all the tools to readily implement KNN in python, We will use the sklearn.neighbors package and its functions."
   ]
  },
  {
   "cell_type": "markdown",
   "metadata": {
    "id": "HPZTFdy7cFbi"
   },
   "source": [
    "### **KNN for Regression**"
   ]
  },
  {
   "cell_type": "markdown",
   "metadata": {
    "id": "bt2BIYltcfWf"
   },
   "source": [
    "We will consider a very simple dataset with just 30 observations of Experience vs Salary. We will use KNN to predict the salary of a specific Experience based on the given data.\n",
    "\n",
    "Let us begin!"
   ]
  },
  {
   "cell_type": "markdown",
   "metadata": {
    "id": "_9VgpqXVchhI"
   },
   "source": [
    "#### **Importing necessary libraries**"
   ]
  },
  {
   "cell_type": "code",
   "execution_count": null,
   "metadata": {},
   "outputs": [],
   "source": [
    "!python -m pip install pip --upgrade --user -q\n",
    "!python -m pip install numpy pandas seaborn matplotlib scipy sklearn statsmodels scikit-image openpyxl --user -q"
   ]
  },
  {
   "cell_type": "code",
   "execution_count": null,
   "metadata": {},
   "outputs": [],
   "source": [
    "import IPython\n",
    "IPython.Application.instance().kernel.do_shutdown(True)"
   ]
  },
  {
   "cell_type": "code",
   "execution_count": null,
   "metadata": {
    "id": "6KoEhzcmU94E"
   },
   "outputs": [],
   "source": [
    "import pandas as pd\n",
    "import numpy as np\n",
    "import matplotlib.pyplot as plt"
   ]
  },
  {
   "cell_type": "markdown",
   "metadata": {
    "id": "wye-1iZwcpax"
   },
   "source": [
    "####**Loading the dataset**"
   ]
  },
  {
   "cell_type": "code",
   "execution_count": null,
   "metadata": {
    "id": "tIpjPNOFcpQC"
   },
   "outputs": [],
   "source": [
    "data = pd.read_excel(\"exp_vs_sal.xlsx\")"
   ]
  },
  {
   "cell_type": "markdown",
   "metadata": {
    "id": "cVcD06yldblG"
   },
   "source": [
    "Here is what it looks like :"
   ]
  },
  {
   "cell_type": "code",
   "execution_count": null,
   "metadata": {
    "id": "U_ygk-gUdcXM"
   },
   "outputs": [],
   "source": [
    "data.head()"
   ]
  },
  {
   "cell_type": "markdown",
   "metadata": {
    "id": "d-_oLMtMdjce"
   },
   "source": [
    "####**Let’s visualize the data**"
   ]
  },
  {
   "cell_type": "code",
   "execution_count": null,
   "metadata": {
    "id": "aKp6Kl1Ldn5Q"
   },
   "outputs": [],
   "source": [
    "data.plot(figsize=(7,7))"
   ]
  },
  {
   "cell_type": "code",
   "execution_count": null,
   "metadata": {
    "id": "WJA34hUcdrFJ"
   },
   "outputs": [],
   "source": [
    "data.plot.scatter(figsize=(7,7),x = 0, y = 1)"
   ]
  },
  {
   "cell_type": "markdown",
   "metadata": {
    "id": "VF_u5L-jdtS0"
   },
   "source": [
    "####**Creating a training set and test set**"
   ]
  },
  {
   "cell_type": "markdown",
   "metadata": {
    "id": "CxTa_oJqdyAm"
   },
   "source": [
    "Now we will split the data set to a training set and a test set using the below code block"
   ]
  },
  {
   "cell_type": "code",
   "execution_count": null,
   "metadata": {
    "id": "fl15Vg02dyw2"
   },
   "outputs": [],
   "source": [
    "from sklearn.model_selection import train_test_split\n",
    "train_set, test_set = train_test_split(data, test_size = 0.2, random_state = 1)"
   ]
  },
  {
   "cell_type": "markdown",
   "metadata": {
    "id": "MSBBgbVId2cc"
   },
   "source": [
    "####**Classifying the predictor(X) and target(Y)**"
   ]
  },
  {
   "cell_type": "code",
   "execution_count": null,
   "metadata": {
    "id": "UjwDyNIed6Qi"
   },
   "outputs": [],
   "source": [
    "X_train = train_set.iloc[:,0].values.reshape(-1, 1)\n",
    "y_train = train_set.iloc[:,-1].values\n",
    "X_test = test_set.iloc[:,0].values.reshape(-1, 1)\n",
    "y_test = test_set.iloc[:,-1].values"
   ]
  },
  {
   "cell_type": "markdown",
   "metadata": {
    "id": "lEAhun6Kd8QG"
   },
   "source": [
    "####**Initializing the KNN Regressor and fitting training data**"
   ]
  },
  {
   "cell_type": "code",
   "execution_count": null,
   "metadata": {
    "id": "_1rjtMh4d_Ya"
   },
   "outputs": [],
   "source": [
    "from sklearn.neighbors import KNeighborsRegressor\n",
    "regressor = KNeighborsRegressor(n_neighbors = 5, metric = 'minkowski', p = 2)\n",
    "regressor.fit(X_train, y_train)"
   ]
  },
  {
   "cell_type": "markdown",
   "metadata": {
    "id": "TAmEfJq5eDPn"
   },
   "source": [
    "####**Predicting Salaries for test set**"
   ]
  },
  {
   "cell_type": "markdown",
   "metadata": {
    "id": "DKjYwM9HeHKC"
   },
   "source": [
    "Now that we have trained our KNN, we will predict the salaries for the experiences in the test set."
   ]
  },
  {
   "cell_type": "code",
   "execution_count": null,
   "metadata": {
    "id": "UlrlQUnfeIvt"
   },
   "outputs": [],
   "source": [
    "y_pred = regressor.predict(X_test)"
   ]
  },
  {
   "cell_type": "markdown",
   "metadata": {
    "id": "-dpFQi13eKrs"
   },
   "source": [
    "Let’s write the predicted salary back to the test_set so that we can compare."
   ]
  },
  {
   "cell_type": "code",
   "execution_count": null,
   "metadata": {
    "id": "3QJSM3xQeMT5"
   },
   "outputs": [],
   "source": [
    "test_set['Predicted_Salary'] = y_pred"
   ]
  },
  {
   "cell_type": "markdown",
   "metadata": {
    "id": "DoGw88W3ePgQ"
   },
   "source": [
    "The new test_set will look like this :"
   ]
  },
  {
   "cell_type": "code",
   "execution_count": null,
   "metadata": {
    "id": "5zU4czzteOns"
   },
   "outputs": [],
   "source": [
    "test_set"
   ]
  },
  {
   "cell_type": "markdown",
   "metadata": {
    "id": "QRvI2b1leRl9"
   },
   "source": [
    "####**Visualizing the Predictions vs Actual Observations**"
   ]
  },
  {
   "cell_type": "code",
   "execution_count": null,
   "metadata": {
    "id": "-AzBTRJteUCS"
   },
   "outputs": [],
   "source": [
    "plt.figure(figsize = (5,5))\n",
    "plt.title('Actual vs Predicted Salary')\n",
    "plt.xlabel('Age')\n",
    "plt.ylabel('Salary')\n",
    "plt.legend()\n",
    "plt.scatter(list(test_set[\"Experience\"]),list(test_set[\"Salary\"]))\n",
    "plt.scatter(list(test_set[\"Experience\"]),list(test_set[\"Predicted_Salary\"]))\n",
    "plt.show()"
   ]
  },
  {
   "cell_type": "markdown",
   "metadata": {
    "id": "ynd02x9ZeZMd"
   },
   "source": [
    "The blue points are the actual salaries as observed and the orange dots denote the predicted salaries.\n",
    "\n",
    "\n",
    "\n",
    "From the table and the above graph, we can see that out of 6 predictions KNN predicted 4 with very close accuracy."
   ]
  },
  {
   "cell_type": "markdown",
   "metadata": {
    "id": "G-Jl51p-ZYjp"
   },
   "source": [
    "# **Related Articles**\n",
    "\n",
    "\n",
    "> * [Complete Guide to KNN](https://analyticsindiamag.com/a-complete-guide-for-beginning-with-k-nearest-neighbours-algorithm-in-python/)\n",
    "\n",
    "> * [Algorithm that every Data Scientists should know](https://analyticsindiamag.com/10-algorithms-every-machine-learning-enthusiast-should-know/)"
   ]
  }
 ],
 "metadata": {
  "colab": {
   "authorship_tag": "ABX9TyM61Qo6Kpa9KG3vmjpy8f5i",
   "collapsed_sections": [],
   "name": "1_KNN_Algorithm_Regression.ipynb",
   "provenance": [],
   "toc_visible": true
  },
  "kernelspec": {
   "display_name": "Python 3",
   "name": "python3"
  },
  "language_info": {
   "name": "python"
  }
 },
 "nbformat": 4,
 "nbformat_minor": 2
}
