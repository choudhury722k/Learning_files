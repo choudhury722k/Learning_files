{
 "cells": [
  {
   "cell_type": "markdown",
   "metadata": {
    "id": "U-8beX-Oz6lp"
   },
   "source": [
    "# **K-Medoids Algorithm**"
   ]
  },
  {
   "cell_type": "markdown",
   "metadata": {
    "id": "U_AkZOTb0TmD"
   },
   "source": [
    "K-Medoids is a clustering algorithm resembling the K-Means clustering technique. It falls under the category of unsupervised machine learning. It majorly differs from the K-Means algorithm in terms of the way it selects the clusters’ centres. The former selects the average of a cluster’s points as its centre (which may or may not be one of the data points) while the latter always picks the actual data points from the clusters as their centres (also known as ‘exemplars’ or ‘medoids’). K-Medoids also differs in this respect from the K-Medians algorithm whic,h is the same as K-means, except that it chooses the medians (instead of means) of the clusters as centres."
   ]
  },
  {
   "cell_type": "markdown",
   "metadata": {
    "id": "ovPPApvt0g4B"
   },
   "source": [
    "## **Working of the K-Medoids approach**"
   ]
  },
  {
   "cell_type": "markdown",
   "metadata": {
    "id": "v9ERNVme0m8i"
   },
   "source": [
    "The steps followed by the K-Medoids algorithm for clustering are as follows:\n",
    "\n",
    "1. Randomly choose ‘k’ points from the input data (‘k’ is the number of clusters to be formed). The correctness of the choice of k’s value can be assessed using methods such as [silhouette method](https://en.wikipedia.org/wiki/Silhouette_(clustering)).\n",
    "\n",
    "2. Each data point gets assigned to the cluster to which its nearest medoid belongs.\n",
    "\n",
    "3. For each data point of cluster i, its distance from all other data points is computed and added. The point of ith cluster for which the computed sum of distances from other points is minimal is assigned as the medoid for that cluster.\n",
    "\n",
    "4. Steps (2) and (3) are repeated until convergence is reached i.e. the medoids stop moving."
   ]
  },
  {
   "cell_type": "markdown",
   "metadata": {
    "id": "iJeQHrmq1CGI"
   },
   "source": [
    "![image.png](data:image/png;base64,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)"
   ]
  },
  {
   "cell_type": "markdown",
   "metadata": {
    "id": "Eh7QV_6K0zSk"
   },
   "source": [
    "For Detailed Analysis, please refer [Comprehensive Guide to K-Medoids](https://analyticsindiamag.com/comprehensive-guide-to-k-medoids-clustering-algorithm/) post."
   ]
  },
  {
   "cell_type": "markdown",
   "metadata": {
    "id": "3eMnNdNx1IOy"
   },
   "source": [
    "## **Practical Implementation**"
   ]
  },
  {
   "cell_type": "markdown",
   "metadata": {
    "id": "mL3uoAd11OWd"
   },
   "source": [
    "Here’s a demonstration of implementing K-Medoids algorithm on a dataset containing 8*8 dimensional images of handwritten digits. The task is to divide the data points into 10 clusters (for classes 0-9) using K-Medoids. The dataset used is a copy of the test set of the [original dataset](https://archive.ics.uci.edu/ml/datasets/Optical+Recognition+of+Handwritten+Digits)  available on UCI ML Repository. Step-wise explanation of the code is as follows:"
   ]
  },
  {
   "cell_type": "markdown",
   "metadata": {
    "id": "kGRJggTZ1dMX"
   },
   "source": [
    "### **Install Library**"
   ]
  },
  {
   "cell_type": "markdown",
   "metadata": {
    "id": "j_4lf7121jfC"
   },
   "source": [
    "Install scikit-learn-extra Python module, an extension of scikit-learn designed for implementing more advanced algorithms that cannot be used by mere inclusion of scikit-learn in the code."
   ]
  },
  {
   "cell_type": "markdown",
   "metadata": {
    "id": "1l6PouYC1p82"
   },
   "source": [
    "### **Import required libraries and modules.**"
   ]
  },
  {
   "cell_type": "code",
   "execution_count": null,
   "metadata": {},
   "outputs": [],
   "source": [
    "!python -m pip install pip --upgrade --user -q\n",
    "!python -m pip install numpy pandas seaborn matplotlib scipy sklearn statsmodels scikit-image scikit-learn-extra --user -q"
   ]
  },
  {
   "cell_type": "code",
   "execution_count": null,
   "metadata": {},
   "outputs": [],
   "source": [
    "import IPython\n",
    "IPython.Application.instance().kernel.do_shutdown(True)"
   ]
  },
  {
   "cell_type": "code",
   "execution_count": null,
   "metadata": {
    "id": "EUztUxG61vgk"
   },
   "outputs": [],
   "source": [
    "import numpy as np\n",
    "import matplotlib.pyplot as plt\n",
    "from sklearn_extra.cluster import KMedoids\n",
    "#Import the digits’ dataset available in sklearn.datasets package\n",
    "from sklearn.datasets import load_digits\n",
    "#Instead of using all 64 attributes of the dataset, we use Principal Component Analysis (PCA)  \n",
    "#to reduce the dimensions of features set such that most of the useful information is covered.\n",
    "\n",
    "from sklearn.decomposition import PCA\n",
    "#\"\"\"\n",
    "#Import module for standardizing the dataset i.e. rescaling the data such that its has mean of 0 and standard deviation of 1\n",
    "#\"\"\n",
    "from sklearn.preprocessing import scale "
   ]
  },
  {
   "cell_type": "markdown",
   "metadata": {
    "id": "k_PromuD156_"
   },
   "source": [
    "### **Prepare the input data**"
   ]
  },
  {
   "cell_type": "code",
   "execution_count": null,
   "metadata": {
    "id": "UkMwbqZw1_O4"
   },
   "outputs": [],
   "source": [
    "#Load the digits dataset \n",
    "dataset = load_digits()\n",
    "#Standardize the data\n",
    "digit_data = scale(dataset.data)\n",
    "\n",
    "#Compute number of output classes i.e. number of digits for which we have the data (here 10 (0-9))\n",
    "\n",
    "num_digits = len(np.unique(dataset.target)) "
   ]
  },
  {
   "cell_type": "markdown",
   "metadata": {
    "id": "GxRPK7N41-Ts"
   },
   "source": [
    "### **Reduce the dimensions of the data using PCA.**"
   ]
  },
  {
   "cell_type": "code",
   "execution_count": null,
   "metadata": {
    "id": "Y2cmEk492Ghi"
   },
   "outputs": [],
   "source": [
    "red_data = PCA(n_components=2).fit_transform(digit_data)\n",
    "\n",
    "# PCA constructs new components by linear combinations of original features. \n",
    "#‘n_components’ parameter denotes the number of newly formed components to be considered. \n",
    "#fit_transform() method fits the PCA models and performs dimensionality reduction on digit_data.  "
   ]
  },
  {
   "cell_type": "markdown",
   "metadata": {
    "id": "E72sqQDw2NvR"
   },
   "source": [
    "### **Plot the Decision Boundary**"
   ]
  },
  {
   "cell_type": "markdown",
   "metadata": {
    "id": "9fpT4Avk2SeL"
   },
   "source": [
    "Plot the decision boundaries for each cluster. Assign a different color to each for differentiation."
   ]
  },
  {
   "cell_type": "code",
   "execution_count": null,
   "metadata": {
    "id": "DQzEXwRA2Rjm"
   },
   "outputs": [],
   "source": [
    "h = 0.02 #step size of the mesh \n",
    "#Minimum and maximum x-coordinates\n",
    "xmin, xmax = red_data[:, 0].min() - 1, red_data[:, 0].max() + 1\n",
    "#Minimum and maximum y-coordinates\n",
    "ymin, ymax = red_data[:, 1].min() - 1, red_data[:, 1].max() + 1\n",
    "xx, yy = np.meshgrid(np.arange(xmin, xmax, h), np.arange(ymin, ymax, h)) "
   ]
  },
  {
   "cell_type": "markdown",
   "metadata": {
    "id": "5P1-_fKb7sn2"
   },
   "source": [
    "### **Define Models**"
   ]
  },
  {
   "cell_type": "markdown",
   "metadata": {
    "id": "GcTb6PtM78X_"
   },
   "source": [
    "Define an array of K-Medoids variants to be used. We have used  three different distance metrics (Manhattan distance, Euclidean distance and Cosine dissimilarity/distance) for computing the distance of each data point from every other data point while selecting the medoid. Visit this page to know about the distance metrics used in detail."
   ]
  },
  {
   "cell_type": "markdown",
   "metadata": {
    "id": "8m8KDU5t7-2p"
   },
   "source": [
    "The parameters we have specified in the KMedoids() method have the following significance:\n",
    "\n",
    "> * metric – distance metric to be used (default: ‘euclidean’)\n",
    "> * n_clusters – number of clusters to be formed and hence the number of medoids (one per cluster) (default value: 8)\n",
    "> * init – ‘heuristic’ method used for medoid initialization\n",
    "\n",
    " For each data point, itd distance from all other points is computed and the distances are summed up. N_clusters number of points for which such a sum of \n",
    "distances are minimum, are chosen as medoids.\n",
    "\n",
    "> * max_iter – maximum number of the algorithm’s iterations to be performed when fitting the data\n",
    "\n",
    "The KMedoids() method of scikit-learn-extra by default used the PAM (Partition Around Medoids) algorithm for finding the medoids."
   ]
  },
  {
   "cell_type": "code",
   "execution_count": null,
   "metadata": {
    "id": "IxeSIo-ylWEn"
   },
   "outputs": [],
   "source": [
    "models = [\n",
    "    (\n",
    "        KMedoids(metric=\"manhattan\", n_clusters=num_digits, init=\"heuristic\", max_iter=2),\n",
    "        \"Manhattan metric\",\n",
    "    ),\n",
    "    (\n",
    "        KMedoids(metric=\"euclidean\", n_clusters=num_digits, init=\"heuristic\", max_iter=2),\n",
    "        \"Euclidean metric\",\n",
    "    ),\n",
    "    (KMedoids(metric=\"cosine\", n_clusters=num_digits, init=\"heuristic\", max_iter=2), \"Cosine metric\", ),\n",
    "]"
   ]
  },
  {
   "cell_type": "markdown",
   "metadata": {
    "id": "RUFw3-5q8i7H"
   },
   "source": [
    "Initialize the number of rows and columns of the plot for plotting subplots of each of the three metrics’ results."
   ]
  },
  {
   "cell_type": "code",
   "execution_count": null,
   "metadata": {
    "id": "ZYuZrj79lad7"
   },
   "outputs": [],
   "source": [
    " #number of rows = integer(ceiling(number of model variants/2))\n",
    " num_rows = int(np.ceil(len(models) / 2.0))\n",
    " #number of columns\n",
    " num_cols = 2 "
   ]
  },
  {
   "cell_type": "markdown",
   "metadata": {
    "id": "VH3Ks_zz8ona"
   },
   "source": [
    "### **Fit the defined Models**"
   ]
  },
  {
   "cell_type": "markdown",
   "metadata": {
    "id": "Pq3cu4M78oIo"
   },
   "source": [
    "Fit each of the model variants to the data and plot the resultant clustering."
   ]
  },
  {
   "cell_type": "code",
   "execution_count": null,
   "metadata": {
    "id": "N0FfM7_9ldG1"
   },
   "outputs": [],
   "source": [
    "plt.figure(figsize=(15,10))\n",
    "for i, (model, description) in enumerate(models):\n",
    "\n",
    "  # Obtain labels for each point in mesh. Use last trained model.\n",
    "  model.fit(red_data)\n",
    "  Z = model.predict(np.c_[xx.ravel(), yy.ravel()])\n",
    "\n",
    "  # Put the result into a color plot\n",
    "  Z = Z.reshape(xx.shape)\n",
    "  plt.subplot(num_cols, num_rows, i + 1)\n",
    "  plt.imshow(\n",
    "      Z,\n",
    "      interpolation=\"nearest\",\n",
    "      extent=(xx.min(), xx.max(), yy.min(), yy.max()),\n",
    "      cmap=plt.cm.Paired,\n",
    "      aspect=\"auto\",\n",
    "      origin=\"lower\",\n",
    "  )\n",
    "\n",
    "  plt.plot(\n",
    "      red_data[:, 0], red_data[:, 1], \"k.\", markersize=2, alpha=0.3\n",
    "  )\n",
    "  # Plot the centroids as a white X\n",
    "  centroids = model.cluster_centers_\n",
    "  plt.scatter(\n",
    "      centroids[:, 0],\n",
    "      centroids[:, 1],\n",
    "      marker=\"x\",\n",
    "      s=169,\n",
    "      linewidths=3,\n",
    "      color=\"w\",\n",
    "      zorder=10,\n",
    "  )\n",
    "  plt.title(description)\n",
    "  plt.xlim(xmin, xmax)\n",
    "  plt.ylim(ymin, ymax)\n",
    "  plt.xticks(())\n",
    "  plt.yticks(())\n",
    "\n",
    "plt.suptitle(\n",
    "  \"K-Medoids algorithm implemented with different metrics\\n\\n\",\n",
    "  fontsize=20,\n",
    ")\n",
    "plt.show()"
   ]
  },
  {
   "cell_type": "markdown",
   "metadata": {
    "id": "yrNu42fwzsTU"
   },
   "source": [
    "Related Articles: \n",
    "\n",
    "> * [Comprehensive Guide to K-Medoids](https://analyticsindiamag.com/comprehensive-guide-to-k-medoids-clustering-algorithm/)\n",
    "\n",
    "> * [Clustering Algorithm every Data Science Practitioner should know](https://analyticsindiamag.com/clustering-techniques-every-data-science-beginner-should-swear-by/)\n",
    "\n",
    "> * [Beginner Guide to K-Means](https://analyticsindiamag.com/beginners-guide-to-k-means-clustering/)\n",
    "\n",
    "> * [Is K-Means is the best algorithm?](https://analyticsindiamag.com/is-k-means-clustering-really-the-best-unsupervised-learning-algorithm/)"
   ]
  },
  {
   "cell_type": "code",
   "execution_count": null,
   "metadata": {
    "id": "UT92wH24z5zz"
   },
   "outputs": [],
   "source": []
  }
 ],
 "metadata": {
  "colab": {
   "collapsed_sections": [],
   "name": "2_K_Medoids.ipynb",
   "provenance": [],
   "toc_visible": true
  },
  "kernelspec": {
   "display_name": "Python 3",
   "name": "python3"
  },
  "language_info": {
   "name": "python"
  }
 },
 "nbformat": 4,
 "nbformat_minor": 2
}
