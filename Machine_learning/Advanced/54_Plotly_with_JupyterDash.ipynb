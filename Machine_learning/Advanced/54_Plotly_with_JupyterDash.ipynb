{
 "cells": [
  {
   "cell_type": "markdown",
   "metadata": {
    "id": "sELDFgCZZ8ii"
   },
   "source": [
    "# **Plotly with JupyterDash**"
   ]
  },
  {
   "cell_type": "markdown",
   "metadata": {
    "id": "I8leBFpAaEiv"
   },
   "source": [
    "Plotly is now more powerful than ever with a new open source library named JupyterDash. JupyterDash is developed on top of the Dash framework to make it completely suitable for notebook environments such as Colab. The open source JupyterDash library makes the plots real-time interactive in Colab with hovers, handles, and other good controls. Changes in data or code causes immediate effect in visualizations, making Plotly a handy solution to streaming data."
   ]
  },
  {
   "cell_type": "markdown",
   "metadata": {
    "id": "d9LS2BhLaK8A"
   },
   "source": [
    "# **Code Implementation**"
   ]
  },
  {
   "cell_type": "markdown",
   "metadata": {
    "id": "DhShSKBfaNdn"
   },
   "source": [
    "It is recommended that Plotly be upgraded to its latest version using following command\n",
    "\n",
    "!pip install --upgrade plotly\n",
    "\n",
    "JupyterDash can be installed using  the following command\n",
    "\n",
    "!pip install jupyter-dash\n",
    "\n",
    "Plotly offers most of its attractive plotting methods with two major interfaces namely, express and graph-objects. JupyterDash works with dependency modules such as dash_core_components, dash_html_components, and dependencies class from dash library."
   ]
  },
  {
   "cell_type": "code",
   "execution_count": null,
   "metadata": {},
   "outputs": [],
   "source": [
    "!python -m pip install pip --upgrade --user -q\n",
    "!python -m pip install numpy pandas seaborn matplotlib scipy sklearn statsmodels --user -q"
   ]
  },
  {
   "cell_type": "code",
   "execution_count": null,
   "metadata": {
    "colab": {
     "base_uri": "https://localhost:8080/"
    },
    "executionInfo": {
     "elapsed": 13996,
     "status": "ok",
     "timestamp": 1623756207408,
     "user": {
      "displayName": "Aishwarya Verma",
      "photoUrl": "https://lh3.googleusercontent.com/a-/AOh14GiG6BREocxcd5R6rzlQGApoCsYso7BQAh63eXNz6Q=s64",
      "userId": "06108390091304498033"
     },
     "user_tz": -330
    },
    "id": "zukVHhdJ9vFk",
    "outputId": "71262270-d274-45b2-f3ba-30c18bcbd73c"
   },
   "outputs": [],
   "source": [
    "!python -m pip install jupyter-dash --user -q "
   ]
  },
  {
   "cell_type": "code",
   "execution_count": null,
   "metadata": {
    "colab": {
     "base_uri": "https://localhost:8080/"
    },
    "executionInfo": {
     "elapsed": 20212,
     "status": "ok",
     "timestamp": 1623756227608,
     "user": {
      "displayName": "Aishwarya Verma",
      "photoUrl": "https://lh3.googleusercontent.com/a-/AOh14GiG6BREocxcd5R6rzlQGApoCsYso7BQAh63eXNz6Q=s64",
      "userId": "06108390091304498033"
     },
     "user_tz": -330
    },
    "id": "f7oWDFcrrafv",
    "outputId": "a2981329-b9a5-4353-d972-ac0872c868a6"
   },
   "outputs": [],
   "source": [
    "!python -m pip install --upgrade plotly --user -q"
   ]
  },
  {
   "cell_type": "code",
   "execution_count": null,
   "metadata": {},
   "outputs": [],
   "source": [
    "import IPython\n",
    "IPython.Application.instance().kernel.do_shutdown(True)"
   ]
  },
  {
   "cell_type": "markdown",
   "metadata": {
    "id": "7lM1DsqRaaj2"
   },
   "source": [
    "Let us begin plotting by importing the frameworks and libraries.\n",
    "\n"
   ]
  },
  {
   "cell_type": "code",
   "execution_count": null,
   "metadata": {
    "executionInfo": {
     "elapsed": 385,
     "status": "ok",
     "timestamp": 1623756247579,
     "user": {
      "displayName": "Aishwarya Verma",
      "photoUrl": "https://lh3.googleusercontent.com/a-/AOh14GiG6BREocxcd5R6rzlQGApoCsYso7BQAh63eXNz6Q=s64",
      "userId": "06108390091304498033"
     },
     "user_tz": -330
    },
    "id": "dwdd4nadacaT"
   },
   "outputs": [],
   "source": [
    "import plotly.graph_objects as go\n",
    "import plotly.express as px\n",
    "from jupyter_dash import JupyterDash\n",
    "import dash_core_components as dcc\n",
    "import dash_html_components as html\n",
    "from dash.dependencies import Input, Output \n",
    "import numpy as np"
   ]
  },
  {
   "cell_type": "markdown",
   "metadata": {
    "id": "IAWPajeTanQR"
   },
   "source": [
    "### Sunburst Plot\n",
    "\n",
    "Sunburst plots in Plotly is one among the famous and interactive plots. It follows a path to burst out data in the form that looks like the solar system. It helps in identifying categories of data based on one or more features. With the famous in-built gapminder dataset, we can have a sunburst plot using the code below:"
   ]
  },
  {
   "cell_type": "code",
   "execution_count": null,
   "metadata": {
    "colab": {
     "base_uri": "https://localhost:8080/",
     "height": 671
    },
    "executionInfo": {
     "elapsed": 1991,
     "status": "ok",
     "timestamp": 1623756251282,
     "user": {
      "displayName": "Aishwarya Verma",
      "photoUrl": "https://lh3.googleusercontent.com/a-/AOh14GiG6BREocxcd5R6rzlQGApoCsYso7BQAh63eXNz6Q=s64",
      "userId": "06108390091304498033"
     },
     "user_tz": -330
    },
    "id": "XtghaEennp7z",
    "outputId": "b354d281-609e-4fcb-d249-ebe321849093"
   },
   "outputs": [],
   "source": [
    "# load data from builtin Plotly data\n",
    "df = px.data.gapminder()\n",
    "# prepare a sunburst figure\n",
    "fig = px.sunburst(df, path=['continent', 'country', 'year'], values='pop',\n",
    "                  color='lifeExp', hover_data=['iso_alpha'],\n",
    "                  color_continuous_scale='twilight',\n",
    "                  color_continuous_midpoint=np.average(df['lifeExp'], weights=df['pop']))\n",
    "# build jupyter dash app \n",
    "app = JupyterDash(__name__)\n",
    "# add html components and figure to app\n",
    "app.layout = html.Div([dcc.Graph(figure=fig)])\n",
    "# run app inline\n",
    "app.run_server(mode='inline')"
   ]
  },
  {
   "cell_type": "markdown",
   "metadata": {
    "id": "v2ftFpVXaxJ9"
   },
   "source": [
    "### Bubble Chart\n",
    "\n",
    "Bubble charts of Plotly are the simple scatter plots. They are so popular than scatter plot versions of Matplotlib library or Seaborn library in such a way that they can be plotted quickly, differentiate features easily with colors and size without hassle. On top of all, these plots are more interactive. We can understand its interactivity through an example. The following codes develop a JupyterDash visualization with ‘GDP per capita’ in x-axis and ‘Population expectancy’ in y-axis. Size of bubbles are determined by ‘Population’ and the color of bubbles are determined by ‘Continent’. "
   ]
  },
  {
   "cell_type": "code",
   "execution_count": null,
   "metadata": {
    "colab": {
     "base_uri": "https://localhost:8080/",
     "height": 206
    },
    "executionInfo": {
     "elapsed": 505,
     "status": "ok",
     "timestamp": 1623756321352,
     "user": {
      "displayName": "Aishwarya Verma",
      "photoUrl": "https://lh3.googleusercontent.com/a-/AOh14GiG6BREocxcd5R6rzlQGApoCsYso7BQAh63eXNz6Q=s64",
      "userId": "06108390091304498033"
     },
     "user_tz": -330
    },
    "id": "BQKluN0zropM",
    "outputId": "49c809df-8ca1-42b8-cfc1-e16efbb8a5a9"
   },
   "outputs": [],
   "source": [
    "df.head()"
   ]
  },
  {
   "cell_type": "code",
   "execution_count": null,
   "metadata": {
    "colab": {
     "base_uri": "https://localhost:8080/",
     "height": 671
    },
    "executionInfo": {
     "elapsed": 826,
     "status": "ok",
     "timestamp": 1623756324010,
     "user": {
      "displayName": "Aishwarya Verma",
      "photoUrl": "https://lh3.googleusercontent.com/a-/AOh14GiG6BREocxcd5R6rzlQGApoCsYso7BQAh63eXNz6Q=s64",
      "userId": "06108390091304498033"
     },
     "user_tz": -330
    },
    "id": "54IPow84xZDi",
    "outputId": "dcfe61f7-d804-47d4-afce-090d5626f27e"
   },
   "outputs": [],
   "source": [
    "import plotly.express as px\n",
    "df = px.data.gapminder()\n",
    "\n",
    "fig = px.scatter(df.query(\"year==2007\"), x=\"gdpPercap\", y=\"lifeExp\",\n",
    "\t         size=\"pop\", color=\"continent\",\n",
    "                 hover_name=\"country\", log_x=True, size_max=60)\n",
    "# build jupyter dash app \n",
    "app = JupyterDash(__name__)\n",
    "# add html components and figure to app\n",
    "app.layout = html.Div([dcc.Graph(figure=fig)])\n",
    "# run app inline\n",
    "app.run_server(mode='inline')"
   ]
  },
  {
   "cell_type": "markdown",
   "metadata": {
    "id": "-kJiCxssa9uv"
   },
   "source": [
    "These bubble charts can be explored as 3D plots with the following codes:"
   ]
  },
  {
   "cell_type": "code",
   "execution_count": null,
   "metadata": {
    "colab": {
     "base_uri": "https://localhost:8080/",
     "height": 671
    },
    "executionInfo": {
     "elapsed": 427,
     "status": "ok",
     "timestamp": 1623756367351,
     "user": {
      "displayName": "Aishwarya Verma",
      "photoUrl": "https://lh3.googleusercontent.com/a-/AOh14GiG6BREocxcd5R6rzlQGApoCsYso7BQAh63eXNz6Q=s64",
      "userId": "06108390091304498033"
     },
     "user_tz": -330
    },
    "id": "Z3521NL-sXoe",
    "outputId": "ba439f1c-1df0-43ca-f48c-a7ea878e69e9"
   },
   "outputs": [],
   "source": [
    "data = df.query('year==2002')\n",
    "fig = px.scatter(data, x=\"gdpPercap\", y=\"lifeExp\", size=\"pop\", color='continent', hover_name=\"country\", size_max=60)\n",
    "# build jupyter dash app \n",
    "app = JupyterDash(__name__)\n",
    "# add html components and figure to app\n",
    "app.layout = html.Div([dcc.Graph(figure=fig)])\n",
    "# run app inline\n",
    "app.run_server(mode='inline')"
   ]
  },
  {
   "cell_type": "code",
   "execution_count": null,
   "metadata": {
    "colab": {
     "base_uri": "https://localhost:8080/",
     "height": 671
    },
    "executionInfo": {
     "elapsed": 1433,
     "status": "ok",
     "timestamp": 1623756377550,
     "user": {
      "displayName": "Aishwarya Verma",
      "photoUrl": "https://lh3.googleusercontent.com/a-/AOh14GiG6BREocxcd5R6rzlQGApoCsYso7BQAh63eXNz6Q=s64",
      "userId": "06108390091304498033"
     },
     "user_tz": -330
    },
    "id": "OmjvFQOF8klx",
    "outputId": "9fa336eb-2192-4698-9652-7832a0ed0fd7"
   },
   "outputs": [],
   "source": [
    "data = df.query('year==2002')\n",
    "fig = px.scatter_3d(data, z=\"gdpPercap\", y=\"lifeExp\", x='continent', color=\"gdpPercap\", size='pop', hover_name=\"country\", size_max=60)\n",
    "# build jupyter dash app \n",
    "app = JupyterDash(__name__)\n",
    "# add html components and figure to app\n",
    "app.layout = html.Div([dcc.Graph(figure=fig)])\n",
    "# run app inline\n",
    "app.run_server(mode='inline')"
   ]
  },
  {
   "cell_type": "markdown",
   "metadata": {
    "id": "giH_x0WbbAum"
   },
   "source": [
    "### Sankey Diagrams\n",
    "\n",
    "Sankey diagrams are well suited for data which has features interacting at multiple levels. Sankey diagrams essentially have three important parameters: source, target, value. Source and target can be grouped together as nodes. Size of a node is determined by the value it holds. Sources and targets are connected through ribbon-like connectors. These nodes and ribbon-like links can be moved within the diagram to visualize the plot conveniently or to focus on certain details. The following codes generate a JupyterDash based Plotly Sankey diagram. In order to explore one of the greatest features of JupyterDash, receiving real-time inputs through plots, a slider bar is incorporated. It helps adjusting the opacity of chart by sliding the pointer left or right."
   ]
  },
  {
   "cell_type": "code",
   "execution_count": null,
   "metadata": {
    "colab": {
     "base_uri": "https://localhost:8080/",
     "height": 671
    },
    "executionInfo": {
     "elapsed": 431,
     "status": "ok",
     "timestamp": 1623756389016,
     "user": {
      "displayName": "Aishwarya Verma",
      "photoUrl": "https://lh3.googleusercontent.com/a-/AOh14GiG6BREocxcd5R6rzlQGApoCsYso7BQAh63eXNz6Q=s64",
      "userId": "06108390091304498033"
     },
     "user_tz": -330
    },
    "id": "7cgHQ5qE8Ecj",
    "outputId": "b7bd5a46-d45d-43ae-f571-7d9245f856b5"
   },
   "outputs": [],
   "source": [
    "import json\n",
    "import urllib\n",
    "\n",
    "url = 'https://raw.githubusercontent.com/plotly/plotly.js/master/test/image/mocks/sankey_energy.json'\n",
    "response = urllib.request.urlopen(url)\n",
    "data = json.loads(response.read())\n",
    "\n",
    "app = JupyterDash(__name__)\n",
    "\n",
    "app.layout = html.Div([\n",
    "    dcc.Graph(id=\"graph\"),\n",
    "    html.P(\"Opacity\"),\n",
    "    dcc.Slider(id='opacity', min=0, max=1, \n",
    "               value=0.5, step=0.1)\n",
    "])\n",
    "\n",
    "@app.callback(\n",
    "    Output(\"graph\", \"figure\"), \n",
    "    [Input(\"opacity\", \"value\")])\n",
    "def display_sankey(opacity):\n",
    "    opacity = str(opacity)\n",
    "\n",
    "    # override gray link colors with 'source' colors\n",
    "    node = data['data'][0]['node']\n",
    "    link = data['data'][0]['link']\n",
    "\n",
    "    # Change opacity\n",
    "    node['color'] = [\n",
    "        'rgba(255,0,255,{})'.format(opacity) \n",
    "        if c == \"magenta\" else c.replace('0.8', opacity) \n",
    "        for c in node['color']]\n",
    "\n",
    "    link['color'] = [\n",
    "        node['color'][src] for src in link['source']]\n",
    "\n",
    "    fig = go.Figure(go.Sankey(link=link, node=node))\n",
    "    fig.update_layout(font_size=10)\n",
    "    return fig\n",
    "    \n",
    "# open in Colab itself\n",
    "app.run_server( mode='inline')"
   ]
  }
 ],
 "metadata": {
  "colab": {
   "authorship_tag": "ABX9TyOCZrHxAxt+rNSsCbOHifah",
   "name": "1_Plotly_with_JupyterDash.ipynb",
   "provenance": []
  },
  "kernelspec": {
   "display_name": "Python 3",
   "name": "python3"
  },
  "language_info": {
   "name": "python"
  }
 },
 "nbformat": 4,
 "nbformat_minor": 2
}
