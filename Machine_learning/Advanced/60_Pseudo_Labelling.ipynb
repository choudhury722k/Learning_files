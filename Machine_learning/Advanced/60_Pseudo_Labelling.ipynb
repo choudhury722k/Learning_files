{
 "cells": [
  {
   "cell_type": "markdown",
   "metadata": {
    "id": "JA-zfn3npG21"
   },
   "source": [
    "# Pseudo Labelling"
   ]
  },
  {
   "cell_type": "markdown",
   "metadata": {
    "id": "pIxtXIFCpCfk"
   },
   "source": [
    "Pseudo labelling is the process of using the labelled data model to predict labels for unlabelled data. Here at first, a model has trained with the dataset containing labels and that model is used to generate pseudo labels for the unlabelled dataset. Finally, both the datasets and labels(original labels and pseudo labels) are combined for a final model training. It is called pseudo(which means unreal) as these may or may not be real labels and we are generating them based on a similar data model. \n"
   ]
  },
  {
   "cell_type": "markdown",
   "metadata": {
    "id": "2Qsqi06LpK2r"
   },
   "source": [
    "# Implementation in Python\n",
    "\n",
    "For this demonstration, We’ve taken up the sklearn dataset breast cancer. We know that it already contains labels but we are going to modify it by splitting the data into two parts one having labels and the other with no labels. We’ll generate our own labels for the unlabelled data from the labelled data model that has been trained and then finally use both to train a final model."
   ]
  },
  {
   "cell_type": "markdown",
   "metadata": {
    "id": "LZNVb5o4pRxl"
   },
   "source": [
    "Importing libraries"
   ]
  },
  {
   "cell_type": "code",
   "execution_count": null,
   "metadata": {},
   "outputs": [],
   "source": [
    "!python -m pip install pip --upgrade --user -q\n",
    "!python -m pip install numpy pandas seaborn matplotlib scipy sklearn statsmodels --user -q"
   ]
  },
  {
   "cell_type": "code",
   "execution_count": null,
   "metadata": {},
   "outputs": [],
   "source": [
    "import IPython\n",
    "IPython.Application.instance().kernel.do_shutdown(True)"
   ]
  },
  {
   "cell_type": "code",
   "execution_count": null,
   "metadata": {
    "id": "BmEJ64Ygo1GD"
   },
   "outputs": [],
   "source": [
    "import pandas as pd\n",
    "import numpy as np\n",
    "from sklearn.model_selection import train_test_split\n",
    "from sklearn.datasets import load_breast_cancer\n",
    "from sklearn.ensemble import RandomForestClassifier, RandomForestRegressor"
   ]
  },
  {
   "cell_type": "markdown",
   "metadata": {
    "id": "aWCMcIUBpU-U"
   },
   "source": [
    "Loading dataset"
   ]
  },
  {
   "cell_type": "code",
   "execution_count": null,
   "metadata": {
    "id": "SHtBSr3upTZM"
   },
   "outputs": [],
   "source": [
    "data = load_breast_cancer()\n",
    "X = data['data']\n",
    "y = data['target']"
   ]
  },
  {
   "cell_type": "markdown",
   "metadata": {
    "id": "IgXTW73epX2G"
   },
   "source": [
    "Splitting dataset into data with labels and data with no labels in 40:60 ratio"
   ]
  },
  {
   "cell_type": "code",
   "execution_count": null,
   "metadata": {
    "id": "C7EpHuuCpWd7"
   },
   "outputs": [],
   "source": [
    "x_train,x_test,y_train,y_test = train_test_split(X,y,test_size=.6)\n",
    "x_train.shape,y_train.shape,x_test.shape"
   ]
  },
  {
   "cell_type": "markdown",
   "metadata": {
    "id": "GYFkpl2Vpa8r"
   },
   "source": [
    "Model Creation and fitting the data containing labels"
   ]
  },
  {
   "cell_type": "code",
   "execution_count": null,
   "metadata": {
    "id": "OxTJczygpZLk"
   },
   "outputs": [],
   "source": [
    "model1 = RandomForestClassifier()\n",
    "history = model1.fit(x_train,y_train)\n",
    "history"
   ]
  },
  {
   "cell_type": "markdown",
   "metadata": {
    "id": "_aIdKdwIpeN8"
   },
   "source": [
    "Accuracy score for data-label model training"
   ]
  },
  {
   "cell_type": "code",
   "execution_count": null,
   "metadata": {
    "id": "CpsEKBEnpcZR"
   },
   "outputs": [],
   "source": [
    "model1.score(x_train,y_train)"
   ]
  },
  {
   "cell_type": "markdown",
   "metadata": {
    "id": "ByeQZmufpg6l"
   },
   "source": [
    "Now we use this model to predict labels (called pseudo labels) for no label data"
   ]
  },
  {
   "cell_type": "code",
   "execution_count": null,
   "metadata": {
    "id": "8UiL5myxpfpd"
   },
   "outputs": [],
   "source": [
    "y_new = model1.predict(x_test)\n",
    "y_new.shape"
   ]
  },
  {
   "cell_type": "markdown",
   "metadata": {
    "id": "t8WDiWNZpjoj"
   },
   "source": [
    "We concatenate both these datasets now"
   ]
  },
  {
   "cell_type": "code",
   "execution_count": null,
   "metadata": {
    "id": "BDW7KWAIpiO4"
   },
   "outputs": [],
   "source": [
    "final_X = np.concatenate((x_train,x_test))\n",
    "final_X.shape"
   ]
  },
  {
   "cell_type": "markdown",
   "metadata": {
    "id": "pvRRTZmSps1u"
   },
   "source": [
    "Similarly both labels(original and pseudo) are also concatenated."
   ]
  },
  {
   "cell_type": "code",
   "execution_count": null,
   "metadata": {
    "id": "CKvrnYVfplo3"
   },
   "outputs": [],
   "source": [
    "final_Y = np.concatenate((y_train,y_test))\n",
    "final_Y.shape"
   ]
  },
  {
   "cell_type": "markdown",
   "metadata": {
    "id": "ztvqGNaXpwOA"
   },
   "source": [
    "Final model containing entire dataset is fitted and accuracy score is generated"
   ]
  },
  {
   "cell_type": "code",
   "execution_count": null,
   "metadata": {
    "id": "eRN7DNYepuuo"
   },
   "outputs": [],
   "source": [
    "model2 = RandomForestRegressor()\n",
    "model2.fit(final_X,final_Y)\n",
    "model2.score(final_X,final_Y)"
   ]
  },
  {
   "cell_type": "code",
   "execution_count": null,
   "metadata": {
    "id": "WrjDpgwwp5Mg"
   },
   "outputs": [],
   "source": []
  }
 ],
 "metadata": {
  "colab": {
   "authorship_tag": "ABX9TyOSG5VpOHyl6KNJe2hdCQ/z",
   "collapsed_sections": [],
   "name": "1_Pseudo_Labelling.ipynb",
   "provenance": []
  },
  "kernelspec": {
   "display_name": "Python 3",
   "name": "python3"
  },
  "language_info": {
   "name": "python"
  }
 },
 "nbformat": 4,
 "nbformat_minor": 2
}
