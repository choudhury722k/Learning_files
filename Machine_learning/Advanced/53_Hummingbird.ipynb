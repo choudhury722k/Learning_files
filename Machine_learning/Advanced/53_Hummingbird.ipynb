{
 "cells": [
  {
   "cell_type": "markdown",
   "metadata": {
    "id": "riAsZy3EQWJ1"
   },
   "source": [
    "# Hummingbird"
   ]
  },
  {
   "cell_type": "markdown",
   "metadata": {
    "id": "TOBIMqdkQVU6"
   },
   "source": [
    "With an aim of enabling the traditional ML libraries to take advantage of hardware acceleration and optimizations implemented for the neural networks without restructuring the model, Microsoft launched a library named Hummingbird."
   ]
  },
  {
   "cell_type": "markdown",
   "metadata": {
    "id": "2qSSKouSQZ5-"
   },
   "source": [
    "To read about it more, please refer [this](https://analyticsindiamag.com/guide-to-hummingbird-a-microsofts-library-for-expediting-traditional-machine-learning-models/) article."
   ]
  },
  {
   "cell_type": "markdown",
   "metadata": {
    "id": "lo493SoTQgO0"
   },
   "source": [
    "## Practical implementation\n",
    " The dataset winequality_red used in the code is available on Kaggle. The classification task is to label the wine quality for each instance as good or bad depending upon whether it is above 6.5 or not respectively."
   ]
  },
  {
   "cell_type": "code",
   "execution_count": null,
   "metadata": {},
   "outputs": [],
   "source": [
    "!python -m pip install pip --upgrade --user -q\n",
    "!python -m pip install numpy pandas seaborn matplotlib scipy sklearn statsmodels tensorflow keras --user -q"
   ]
  },
  {
   "cell_type": "code",
   "execution_count": null,
   "metadata": {
    "id": "F4030Pz8scn9"
   },
   "outputs": [],
   "source": [
    "#install Hummingbird library\n",
    "!python -m pip install hummingbird-ml --user -q"
   ]
  },
  {
   "cell_type": "code",
   "execution_count": null,
   "metadata": {},
   "outputs": [],
   "source": [
    "import IPython\n",
    "IPython.Application.instance().kernel.do_shutdown(True)"
   ]
  },
  {
   "cell_type": "markdown",
   "metadata": {
    "id": "be3DY1suQwJP"
   },
   "source": [
    "Hummingbird can be installed using pip command as:"
   ]
  },
  {
   "cell_type": "code",
   "execution_count": null,
   "metadata": {
    "id": "hkzd8QVmse4y"
   },
   "outputs": [],
   "source": [
    "#import required libraries\n",
    "import numpy as np\n",
    "import pandas as pd\n",
    "import matplotlib.pyplot as plt\n",
    "from sklearn.tree import DecisionTreeClassifier\n",
    "from sklearn.ensemble import RandomForestClassifier\n",
    "import seaborn as sns\n",
    "from hummingbird.ml import convert\n",
    "from sklearn.model_selection import train_test_split"
   ]
  },
  {
   "cell_type": "markdown",
   "metadata": {
    "id": "30sNng-iQ_HM"
   },
   "source": [
    "Load the dataset"
   ]
  },
  {
   "cell_type": "code",
   "execution_count": null,
   "metadata": {
    "id": "q5xUhMbSsynR"
   },
   "outputs": [],
   "source": [
    "# load data file\n",
    "data=pd.read_csv('https://raw.githubusercontent.com/shrikant-temburwar/Wine-Quality-Dataset/master/winequality-red.csv', delimiter=\";\")"
   ]
  },
  {
   "cell_type": "code",
   "execution_count": null,
   "metadata": {
    "id": "imNJ7Fk0Rwns"
   },
   "outputs": [],
   "source": [
    "data.head()"
   ]
  },
  {
   "cell_type": "code",
   "execution_count": null,
   "metadata": {
    "id": "B76_045NyP3V"
   },
   "outputs": [],
   "source": [
    "#plot the Countplot for the column quality\n",
    "sns.countplot(x='quality',data=data)"
   ]
  },
  {
   "cell_type": "markdown",
   "metadata": {
    "id": "tMI0v_M9RBvm"
   },
   "source": [
    "Separate data into features(x) and labels(y)"
   ]
  },
  {
   "cell_type": "code",
   "execution_count": null,
   "metadata": {
    "id": "DuIYmYHjybAJ"
   },
   "outputs": [],
   "source": [
    "# store the quality dataframe\n",
    "quality=data['quality']"
   ]
  },
  {
   "cell_type": "code",
   "execution_count": null,
   "metadata": {
    "id": "viR-ePaNygFD"
   },
   "outputs": [],
   "source": [
    "# if quality is less than 6.5 then it is assigned as 0 and if it is above 6.5 it is assigned to be 1\n",
    "data['quality']=pd.cut(data['quality'],bins=(2,6.5,8),labels=[0,1])"
   ]
  },
  {
   "cell_type": "code",
   "execution_count": null,
   "metadata": {
    "id": "Pcfw3x6LykSW"
   },
   "outputs": [],
   "source": [
    "#change the datatype of data['quality'] from category to int64\n",
    "data['quality']=data['quality'].astype('int64')"
   ]
  },
  {
   "cell_type": "code",
   "execution_count": null,
   "metadata": {
    "id": "Jm8CdjhVynUw"
   },
   "outputs": [],
   "source": [
    "#Now plot correlation heat map\n",
    "plt.figure(figsize=(60,30))\n",
    "sns.heatmap(data.corr(),annot=True,fmt='.2f')\n",
    "plt.show()"
   ]
  },
  {
   "cell_type": "code",
   "execution_count": null,
   "metadata": {
    "id": "WPEm285wyrEB"
   },
   "outputs": [],
   "source": [
    "# Seperate data into features and labels\n",
    "x=data.iloc[:,:-1]\n",
    "y=data.iloc[:,-1]"
   ]
  },
  {
   "cell_type": "markdown",
   "metadata": {
    "id": "7dbTJdPxRGv5"
   },
   "source": [
    "Perform train-test split of the data by keeping train:test ratio as 3:1 i.e. 75% training data and 25% test data"
   ]
  },
  {
   "cell_type": "code",
   "execution_count": null,
   "metadata": {
    "id": "RYRW3HhOyuHd"
   },
   "outputs": [],
   "source": [
    "#Split the data into training and testing dataset by taking train_size as 75%\n",
    "x_train,x_test,y_train,y_test=train_test_split(x,y,train_size=0.75,random_state=42)"
   ]
  },
  {
   "cell_type": "markdown",
   "metadata": {
    "id": "oP2rHVMPRIkY"
   },
   "source": [
    "Instantiate Random Forest classifier"
   ]
  },
  {
   "cell_type": "code",
   "execution_count": null,
   "metadata": {
    "id": "yAq5IYAItxlQ"
   },
   "outputs": [],
   "source": [
    "#instantiate Random Forest classifier\n",
    "model=RandomForestClassifier(n_estimators=300)"
   ]
  },
  {
   "cell_type": "markdown",
   "metadata": {
    "id": "XM9gLWDhRKJq"
   },
   "source": [
    "Fit the model to the training data"
   ]
  },
  {
   "cell_type": "code",
   "execution_count": null,
   "metadata": {
    "id": "nX1ITR6Ly7mJ"
   },
   "outputs": [],
   "source": [
    "#Fit the model to the training data\n",
    "model.fit(x_train,y_train)"
   ]
  },
  {
   "cell_type": "markdown",
   "metadata": {
    "id": "8mlZYQNTRNrb"
   },
   "source": [
    "Prediction of labels for test data"
   ]
  },
  {
   "cell_type": "code",
   "execution_count": null,
   "metadata": {
    "id": "pNL4fRumt6FB"
   },
   "outputs": [],
   "source": [
    "# Calculation of time for predicting test data without using Hummingbird\n",
    "#prediction of labels for test data\n",
    "y_pred=model.predict(np.array(x_test))\n"
   ]
  },
  {
   "cell_type": "markdown",
   "metadata": {
    "id": "GU7kz4WSRQV2"
   },
   "source": [
    "Convert the model into PyTorch model using Hummingbird library"
   ]
  },
  {
   "cell_type": "code",
   "execution_count": null,
   "metadata": {
    "id": "dZNqrXaBuD1D"
   },
   "outputs": [],
   "source": [
    "#convert the model into PyTorch model using Hummingbird library\n",
    "model_torch=convert(model,'pytorch')"
   ]
  },
  {
   "cell_type": "markdown",
   "metadata": {
    "id": "IbUuO6HcRTwQ"
   },
   "source": [
    "Apply DNN Framework"
   ]
  },
  {
   "cell_type": "code",
   "execution_count": null,
   "metadata": {
    "id": "gGQBlzbzuIF5"
   },
   "outputs": [],
   "source": [
    "#Calculation of time for appyling DNN\n",
    "#Apply DNN Framework Nvidia's CUDA\n",
    "model_torch.to('cpu')"
   ]
  },
  {
   "cell_type": "markdown",
   "metadata": {
    "id": "cLdlUbuRRXLH"
   },
   "source": [
    "Prediction of labels for test data"
   ]
  },
  {
   "cell_type": "code",
   "execution_count": null,
   "metadata": {
    "id": "hQ52jkK8vLuo"
   },
   "outputs": [],
   "source": [
    "#Calculation of time for predicting test labels after using Hummingbird\n",
    "# %%time\n",
    "#prediction of labels for test data\n",
    "y_pred_torch=model_torch.predict(np.array(x_test))"
   ]
  }
 ],
 "metadata": {
  "colab": {
   "authorship_tag": "ABX9TyMDkI4EHcw6m8V6aGV1ud0d",
   "collapsed_sections": [],
   "name": "1_Hummingbird.ipynb",
   "provenance": []
  },
  "kernelspec": {
   "display_name": "Python 3",
   "name": "python3"
  },
  "language_info": {
   "name": "python"
  }
 },
 "nbformat": 4,
 "nbformat_minor": 2
}
