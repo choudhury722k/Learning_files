{
 "cells": [
  {
   "cell_type": "markdown",
   "metadata": {
    "id": "WKoWtcLgA9fR"
   },
   "source": [
    "# **What is SVM?**"
   ]
  },
  {
   "cell_type": "markdown",
   "metadata": {
    "id": "sEiddwW0BEJY"
   },
   "source": [
    "Support Vector Machine or SVM is a supervised and linear Machine Learning algorithm most commonly used for solving classification problems and is also referred to as Support Vector Classification. There is also a subset of SVM called SVR which stands for Support Vector Regression which uses the same principles to solve regression problems. SVM also supports the kernel method also called the kernel SVM which allows us to tackle non-linearity."
   ]
  },
  {
   "cell_type": "markdown",
   "metadata": {
    "id": "MurN7fV1D3ZQ"
   },
   "source": [
    "Please read about it more on this blog [Basic Understanding of SVM](https://analyticsindiamag.com/understanding-the-basics-of-svm-with-example-and-python-implementation/)."
   ]
  },
  {
   "cell_type": "markdown",
   "metadata": {
    "id": "Peb2Koi0EMB3"
   },
   "source": [
    "# **Implementing SVM in Python**"
   ]
  },
  {
   "cell_type": "markdown",
   "metadata": {
    "id": "WZzvNWwDETWI"
   },
   "source": [
    "## **Dataset**"
   ]
  },
  {
   "cell_type": "markdown",
   "metadata": {
    "id": "n5_QzzTaEVad"
   },
   "source": [
    "We will consider the Weights and Size for 20 each. Click [here](https://www.kaggle.com/raykleptzo/classification-data-apples-oranges/version/1?select=apples_and_oranges.csv) to download the dataset or you can simply create a dataset of random values which are linearly separable.  "
   ]
  },
  {
   "cell_type": "markdown",
   "metadata": {
    "id": "8SWGN114IS_O"
   },
   "source": [
    "## **Importing the dataset**"
   ]
  },
  {
   "cell_type": "code",
   "execution_count": null,
   "metadata": {},
   "outputs": [],
   "source": [
    "!python -m pip install pip --upgrade --user -q\n",
    "!python -m pip install numpy pandas seaborn matplotlib scipy sklearn statsmodels scikit-image --user -q"
   ]
  },
  {
   "cell_type": "code",
   "execution_count": null,
   "metadata": {},
   "outputs": [],
   "source": [
    "import IPython\n",
    "IPython.Application.instance().kernel.do_shutdown(True)"
   ]
  },
  {
   "cell_type": "code",
   "execution_count": null,
   "metadata": {
    "id": "ZdEAGeItIVlk"
   },
   "outputs": [],
   "source": [
    "import pandas as pd\n",
    "data = pd.read_csv(\"apples_and_oranges.csv\")"
   ]
  },
  {
   "cell_type": "code",
   "execution_count": null,
   "metadata": {
    "id": "Ndwj3y1EJw5c"
   },
   "outputs": [],
   "source": [
    "data.head()"
   ]
  },
  {
   "cell_type": "markdown",
   "metadata": {
    "id": "HIhkB83LItjr"
   },
   "source": [
    "## **Splitting the dataset into training and test samples**"
   ]
  },
  {
   "cell_type": "code",
   "execution_count": null,
   "metadata": {
    "id": "2ITNJik6IxeP"
   },
   "outputs": [],
   "source": [
    "from sklearn.model_selection import train_test_split\n",
    "training_set, test_set = train_test_split(data, test_size = 0.2)"
   ]
  },
  {
   "cell_type": "markdown",
   "metadata": {
    "id": "AeY4tasHJsCO"
   },
   "source": [
    "## **Classifying the predictors and target**"
   ]
  },
  {
   "cell_type": "code",
   "execution_count": null,
   "metadata": {
    "id": "WbdawlumJv4g"
   },
   "outputs": [],
   "source": [
    "X_train = training_set.iloc[:,0:2].values\n",
    "Y_train = training_set.iloc[:,2].values\n",
    "X_test = test_set.iloc[:,0:2].values\n",
    "Y_test = test_set.iloc[:,2].values"
   ]
  },
  {
   "cell_type": "markdown",
   "metadata": {
    "id": "6REC-GB-JvVn"
   },
   "source": [
    "## **Initializing Support Vector Machine and fitting the training data**"
   ]
  },
  {
   "cell_type": "code",
   "execution_count": null,
   "metadata": {
    "id": "SQAc1byGJ4Gr"
   },
   "outputs": [],
   "source": [
    "from sklearn.svm import SVC\n",
    "classifier = SVC(kernel='rbf', random_state = 1)\n",
    "classifier.fit(X_train,Y_train)"
   ]
  },
  {
   "cell_type": "markdown",
   "metadata": {
    "id": "J2P3G3bhJ52L"
   },
   "source": [
    "## **Predicting the classes for test set**"
   ]
  },
  {
   "cell_type": "code",
   "execution_count": null,
   "metadata": {
    "id": "vMYuez7CJ8cd"
   },
   "outputs": [],
   "source": [
    "Y_pred = classifier.predict(X_test)"
   ]
  },
  {
   "cell_type": "markdown",
   "metadata": {
    "id": "LjStKiBqJ-3f"
   },
   "source": [
    "## **Attaching the predictions to test set for comparing**"
   ]
  },
  {
   "cell_type": "code",
   "execution_count": null,
   "metadata": {
    "id": "O4MjJaV9KCiv"
   },
   "outputs": [],
   "source": [
    "test_set[\"Predictions\"] = Y_pred"
   ]
  },
  {
   "cell_type": "markdown",
   "metadata": {
    "id": "aeuSPyx7KESC"
   },
   "source": [
    "## **Comparing the actual classes and predictions**"
   ]
  },
  {
   "cell_type": "markdown",
   "metadata": {
    "id": "qLl6jXlAKTFg"
   },
   "source": [
    "Let’s have a look at the test_set:"
   ]
  },
  {
   "cell_type": "code",
   "execution_count": null,
   "metadata": {
    "id": "ZXIfklwjKUxh"
   },
   "outputs": [],
   "source": [
    "test_set"
   ]
  },
  {
   "cell_type": "markdown",
   "metadata": {
    "id": "LwQZBN0jLPwP"
   },
   "source": [
    "## **Calculating the accuracy of the predictions**"
   ]
  },
  {
   "cell_type": "markdown",
   "metadata": {
    "id": "L4LJqcswLSvh"
   },
   "source": [
    "We will calculate the accuracy using the confusion matrix as follows :"
   ]
  },
  {
   "cell_type": "code",
   "execution_count": null,
   "metadata": {
    "id": "1x7-2nf5LRMh"
   },
   "outputs": [],
   "source": [
    "from sklearn.metrics import confusion_matrix\n",
    "cm = confusion_matrix(Y_test,Y_pred)\n",
    "accuracy = float(cm.diagonal().sum())/len(Y_test)\n",
    "print(\"\\nAccuracy Of SVM For The Given Dataset : \", accuracy)"
   ]
  },
  {
   "cell_type": "markdown",
   "metadata": {
    "id": "m2TCb7mrLYHC"
   },
   "source": [
    "## **Visualizing the classifier**"
   ]
  },
  {
   "cell_type": "markdown",
   "metadata": {
    "id": "LwcB5krULsBn"
   },
   "source": [
    "Before we visualize we might need to encode the classes ‘apple’ and ‘orange’ into numericals.We can achieve that using the label encoder."
   ]
  },
  {
   "cell_type": "code",
   "execution_count": null,
   "metadata": {
    "id": "piBUaBHLLup5"
   },
   "outputs": [],
   "source": [
    "from sklearn.preprocessing import LabelEncoder\n",
    "le = LabelEncoder()\n",
    "Y_train = le.fit_transform(Y_train)\n",
    "\n",
    "#After encoding , fit the encoded data to the SVM\n",
    "\n",
    "from sklearn.svm import SVC\n",
    "classifier = SVC(kernel='rbf', random_state = 1)\n",
    "classifier.fit(X_train,Y_train)"
   ]
  },
  {
   "cell_type": "markdown",
   "metadata": {
    "id": "COKjDej2LySg"
   },
   "source": [
    "Let’s Visualize!"
   ]
  },
  {
   "cell_type": "code",
   "execution_count": null,
   "metadata": {
    "id": "dwquTc-ULy6M"
   },
   "outputs": [],
   "source": [
    "import numpy as np\n",
    "import matplotlib.pyplot as plt\n",
    "from matplotlib.colors import ListedColormap\n",
    "plt.figure(figsize = (7,7))\n",
    "X_set, y_set = X_train, Y_train\n",
    "X1, X2 = np.meshgrid(np.arange(start = X_set[:, 0].min() - 1, stop = X_set[:, 0].max() + 1, step = 0.01), np.arange(start = X_set[:, 1].min() - 1, stop = X_set[:, 1].max() + 1, step = 0.01))\n",
    "plt.contourf(X1, X2, classifier.predict(np.array([X1.ravel(), X2.ravel()]).T).reshape(X1.shape), alpha = 0.75, cmap = ListedColormap(('black', 'white')))\n",
    "plt.xlim(X1.min(), X1.max())\n",
    "plt.ylim(X2.min(), X2.max())\n",
    "for i, j in enumerate(np.unique(y_set)):\n",
    "  plt.scatter(X_set[y_set == j, 0], X_set[y_set == j, 1], c = ListedColormap(('red', 'orange'))(i), label = j)\n",
    "plt.title('Apples Vs Oranges')\n",
    "plt.xlabel('Weight In Grams')\n",
    "plt.ylabel('Size in cm')\n",
    "plt.legend()\n",
    "plt.show()"
   ]
  },
  {
   "cell_type": "markdown",
   "metadata": {
    "id": "KM1XWjSWL625"
   },
   "source": [
    "The above image shows the plotting of the training set after fitting the training data to the classifier.The border that separates both the white and black colours represent the Maximum Margin Hyperplane or Line in this case."
   ]
  },
  {
   "cell_type": "markdown",
   "metadata": {
    "id": "SF5T0_tHL9VD"
   },
   "source": [
    "According to the SVM classifier, any new data point that falls within the white region is classified as oranges(denoted in orange colour) and any data point that falls on black region is classified as apples(denoted in red colour)."
   ]
  },
  {
   "cell_type": "markdown",
   "metadata": {
    "id": "meWKUq11L_Ho"
   },
   "source": [
    "## **Visualizing the predictions**"
   ]
  },
  {
   "cell_type": "code",
   "execution_count": null,
   "metadata": {
    "id": "ZfBmv8FDMDWn"
   },
   "outputs": [],
   "source": [
    "\n",
    "import numpy as np\n",
    "import matplotlib.pyplot as plt\n",
    "from matplotlib.colors import ListedColormap\n",
    "plt.figure(figsize = (7,7))\n",
    "X_set, y_set = X_test, Y_test\n",
    "X1, X2 = np.meshgrid(np.arange(start = X_set[:, 0].min() - 1, stop = X_set[:, 0].max() + 1, step = 0.01),np.arange(start = X_set[:, 1].min() - 1, stop = X_set[:, 1].max() + 1, step = 0.01))\n",
    "plt.contourf(X1, X2, classifier.predict(np.array([X1.ravel(), X2.ravel()]).T).reshape(X1.shape),alpha = 0.75, cmap = ListedColormap(('black', 'white')))\n",
    "plt.xlim(X1.min(), X1.max())\n",
    "plt.ylim(X2.min(), X2.max())\n",
    "for i, j in enumerate(np.unique(y_set)):\n",
    "  plt.scatter(X_set[y_set == j, 0], X_set[y_set == j, 1],c = ListedColormap(('red', 'orange'))(i), label = j)\n",
    "plt.title('Apples Vs Oranges Predictions')\n",
    "plt.xlabel('Weight In Grams')\n",
    "plt.ylabel('Size in cm')\n",
    "plt.legend()\n",
    "plt.show()"
   ]
  },
  {
   "cell_type": "markdown",
   "metadata": {
    "id": "h3NJZwAzMGwa"
   },
   "source": [
    "In the above image we can see that one of the orange data points is lying outside of the whte region. This represents the false prediction that we saw earlier while comparing the actual test set classes and the predicted classes."
   ]
  },
  {
   "cell_type": "markdown",
   "metadata": {
    "id": "oPDzBfNXDsAR"
   },
   "source": [
    "# **Related Articles:**\n",
    "> * [Basic Understanding of SVM](https://analyticsindiamag.com/understanding-the-basics-of-svm-with-example-and-python-implementation/)"
   ]
  }
 ],
 "metadata": {
  "colab": {
   "authorship_tag": "ABX9TyOLYv6unbslL++6hoilgInY",
   "collapsed_sections": [],
   "name": "2_SVM_Classification_CUSTOM_DATA.ipynb",
   "provenance": [],
   "toc_visible": true
  },
  "kernelspec": {
   "display_name": "Python 3",
   "name": "python3"
  },
  "language_info": {
   "name": "python"
  }
 },
 "nbformat": 4,
 "nbformat_minor": 2
}
