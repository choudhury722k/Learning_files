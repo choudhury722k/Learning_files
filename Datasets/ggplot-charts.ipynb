{
 "cells": [
  {
   "cell_type": "markdown",
   "metadata": {},
   "source": [
    "<font size=\"+3\" color=purple ><b> <center><u>Cheatsheet - 70+ ggplot Charts</u></center></b></font>"
   ]
  },
  {
   "cell_type": "markdown",
   "metadata": {},
   "source": [
    "# Objective\n",
    "\n",
    "The aim of this kernel is provide all essential and most commonly used plotly charts in a single page.This kernel will hold almost all charts with different attributes used for them.It could be a great time saver for you.Just utilize it anytime when you are working on data visualizations.\n",
    "\n",
    "I have provided all of them with R codes.GGPlots are widely used in Python too with almost same code.So this kernel can be useful for both Python and R users."
   ]
  },
  {
   "cell_type": "markdown",
   "metadata": {},
   "source": [
    "<font size=\"+1\" color=chocolate ><b>Please Upvote my kernel and keep it in your favourite section if you think it is helpful.</b></font>"
   ]
  },
  {
   "cell_type": "markdown",
   "metadata": {},
   "source": [
    "<a id=\"top\"></a>\n",
    "\n",
    "<div class=\"list-group\" id=\"list-tab\" role=\"tablist\">\n",
    "<h3 class=\"list-group-item list-group-item-action active\" data-toggle=\"list\"  role=\"tab\" aria-controls=\"home\">Table of content</h3>\n",
    "\n",
    "* [Starters](#0)\n",
    "\n",
    "<font color=\"purple\" size=+1><b>Scatter</b></font>\n",
    "* [1. Basic Scatter plot](#1)\n",
    "* [2. Scatter - Category](#2)\n",
    "* [3. Scatter - Color & Size ](#3)\n",
    "* [4. Scatter - Color Dimension](#4)\n",
    "* [5. Jitter Plot](#5)\n",
    "* [6. Jitter Category Plot](#6)\n",
    "  \n",
    "<font color=\"steelblue\" size=+1><b>Bubble</b></font>\n",
    "* [7. Basic Bubble Plot](#7)\n",
    "* [8. Bubble - Gradient](#8)\n",
    "* [9. Bubble - Color](#9)\n",
    " \n",
    "<font color=\"magenta\" size=+1><b>Bar</b></font>\n",
    "* [10. Basic Bar chart](#10)\n",
    "* [11. Bar Chart - Gradient & Text](#11)\n",
    "* [12. Bar Chart - Stacked & Group](#12)\n",
    "* [13. Facet Bar](#13)\n",
    "* [14. Horizontal Bar](#14)\n",
    "    \n",
    "<font color=\"crimson\" size=+1><b>Ranking</b></font>\n",
    "    \n",
    "* [15. Dot Plot](#15)\n",
    "* [16. Lollipop Plot](#16)\n",
    "* [17. Ordered Bar Plot](#17)\n",
    "* [18. Slope Chart](#18)\n",
    "* [19. Dumbbell Chart](#19)\n",
    "    \n",
    "<font color=\"green\" size=+1><b>Pie</b></font>\n",
    "    \n",
    "* [20. Pie Plot](#20)\n",
    "* [21. Color Pie](#21)\n",
    "* [22. Customized Pie- Gradient & Text](#22)\n",
    "* [23. Donut Plot](#23)\n",
    "* [24. Ring Plot](#24)\n",
    " \n",
    "<font color=\"darkblue\" size=+1><b>Time Series</b></font>\n",
    "* [25. Basic Time Series](#25)\n",
    "* [26. Time Series - Color](#26)\n",
    "* [27. Multiple Time Series](#27)\n",
    "* [28. Format axis - Time Series](#28)\n",
    "    \n",
    "<font color=\"brown\" size=+1><b>Box</b></font>\n",
    "* [29. Basic Box Plot](#29)\n",
    "* [30. Multiple Box Plot](#30)\n",
    "* [31. Grouped Box Plot](#31)\n",
    "* [32. Customized - Box Plot](#32)\n",
    "* [33. Box + Dot](#33)\n",
    "* [34. Tufte Boxplot](#34)\n",
    " \n",
    "<font color=\"olive\" size=+1><b>Histogram</b></font>\n",
    "* [35. Basic Histogram](#35)\n",
    "* [36. Histogram - Stacked](#36)\n",
    "* [37. Histogram - Mean](#37)\n",
    "* [38. Facet Histogram](#38)\n",
    "  \n",
    "<font color=\"orange\" size=+1><b>Density</b></font>\n",
    "* [39. Basic Density Plot](#39)\n",
    "* [40. Multiple Density](#40)\n",
    "* [41. Density & Histogram](#41)\n",
    "    \n",
    "<font color=\"teal\" size=+1><b>Area</b></font>\n",
    "* [42. Basic Area Plot](#42)\n",
    "* [43. Area - Mean & Line type](#43)\n",
    "* [44. Customized Area](#44)\n",
    "  \n",
    "<font color=\"violet\" size=+1><b>Violin</b></font>\n",
    "* [45. Basic Violin Plot](#45)    \n",
    "* [46. Violin - Group](#46)\n",
    "* [47. Violin - Mean & Standard Deviation](#47)\n",
    "* [48. Violin - Box Plot](#48)\n",
    "* [49. Violin - Dot Plot](#49)\n",
    " \n",
    "<font color=\"tomato\" size=+1><b>2D Density</b></font>\n",
    "* [50. 2D Density](#50)\n",
    "* [51. 2D Density - Area & Contour](#51)\n",
    "* [52. 2D Density - Raster](#52)\n",
    "    \n",
    "<font color=\"indigo\" size=+1><b>Group</b></font>\n",
    "* [53. Dendogram](#53)\n",
    "* [54. Clusters](#54)\n",
    "    \n",
    "<font color=\"darkpink\" size=+1><b>Composition</b></font>\n",
    "* [55. Waffle Chart](#55)\n",
    "* [56. Treemap](#56)\n",
    "* [57. Treemap Group](#57)\n",
    "* [58. Count Chart](#58)\n",
    "* [59. Pyramid](#59)\n",
    "    \n",
    "<font color=\"gold\" size=+1><b>Deviation</b></font>\n",
    "* [60. Diverging Bar](#60)\n",
    "* [61. Diverging Lollipop](#61)\n",
    "* [62. Diverging Dot](#62)\n",
    "* [63. Diverging Area](#63)\n",
    "    \n",
    "<font color=\"blue\" size=+1><b>Heatmaps</b></font>\n",
    "* [64. Basic Heatmap](#64)\n",
    "* [65. Heatmap -Color5](#65)\n",
    "* [66. Correlation Heatmap](#66)\n",
    "* [67. Correlation Triangle Heatmap](#67)\n",
    "* [68. Calender Heatmap](#68)\n",
    "\n",
    "<font color=\"blueviolet\" size=+1><b>Maps</b></font>\n",
    "    \n",
    "* [69. Choropleth - World](#69)\n",
    "* [70. Choropleth - US](#70)\n",
    "* [71. Bubble Map](#71)\n"
   ]
  },
  {
   "cell_type": "markdown",
   "metadata": {},
   "source": [
    "## Library"
   ]
  },
  {
   "cell_type": "code",
   "execution_count": null,
   "metadata": {
    "_execution_state": "idle",
    "_kg_hide-input": false,
    "_kg_hide-output": true,
    "_uuid": "051d70d956493feee0c6d64651c6a088724dca2a"
   },
   "outputs": [],
   "source": [
    "library(tidyverse) # metapackage of all tidyverse packages\n",
    "library(ggplot2)\n",
    "library(dplyr)\n",
    "library(reshape2) # Melt\n",
    "library(plyr)\n",
    "\n",
    "library(scales) # visualisation\n",
    "library(corrplot) # visualisation\n",
    "library(GGally) # visualisation\n",
    "library(ggthemes) # visualisation\n",
    "library(ggalt) # encircle\n",
    "library(maps) #maps\n",
    "library(treemap)\n",
    "library(ggdendro) # Dendogram\n",
    "\n",
    "# Interactivity\n",
    "library(crosstalk)\n",
    "library(plotly)\n",
    "\n",
    "#Date\n",
    "library(scales)\n",
    "library(zoo)\n",
    "library(lubridate)"
   ]
  },
  {
   "cell_type": "markdown",
   "metadata": {},
   "source": [
    "## Data"
   ]
  },
  {
   "cell_type": "code",
   "execution_count": null,
   "metadata": {
    "_kg_hide-input": true,
    "_kg_hide-output": true
   },
   "outputs": [],
   "source": [
    "titanic<-read_csv('../input/titanic/train.csv')\n",
    "insurance<-read_csv('../input/health-insurance-cross-sell-prediction/train.csv')\n",
    "university<-read_csv('../input/world-university-rankings/cwurData.csv')\n",
    "house<-read_csv('../input/house-prices-advanced-regression-techniques/train.csv')\n",
    "health<-read_csv('../input/av-healthcare-analytics-ii/healthcare/train_data.csv')\n",
    "netflix<-read_csv('../input/netflix-shows/netflix_titles.csv')\n",
    "playstore<-read_csv('../input/google-play-store-apps/googleplaystore.csv')\n",
    "covid<-read_csv('../input/novel-corona-virus-2019-dataset/covid_19_data.csv')\n",
    "campus<-read_csv('../input/factors-affecting-campus-placement/Placement_Data_Full_Class.csv')\n",
    "police<-read_csv('../input/us-police-shootings/shootings.csv')\n",
    "axis<-read_csv('../input/nifty50-stock-market-data/AXISBANK.csv')\n",
    "hdfc<-read_csv('../input/nifty50-stock-market-data/HDFCBANK.csv')\n",
    "indus<-read_csv('../input/nifty50-stock-market-data/INDUSINDBK.csv')\n",
    "kotak<-read_csv('../input/nifty50-stock-market-data/KOTAKBANK.csv')\n",
    "icici<-read_csv('../input/nifty50-stock-market-data/ICICIBANK.csv')\n",
    "cipla<-read_csv('../input/nifty50-stock-market-data/CIPLA.csv')\n",
    "nifty<-read_csv('../input/nifty50-stock-market-data/NIFTY50_all.csv')\n",
    "space<-read_csv('../input/all-space-missions-from-1957/Space_Corrected.csv')\n",
    "windows<-read_csv('../input/windows-store/msft.csv')\n",
    "aqi=read_csv('../input/india-air-quality-data/data.csv')\n",
    "stack=read_csv('../input/60k-stack-overflow-questions-with-quality-rate/data.csv')\n",
    "delhi_house=read_csv('../input/housing-prices-in-metropolitan-areas-of-india/Delhi.csv')\n",
    "climate<-read_csv('../input/climate-change-earth-surface-temperature-data/GlobalLandTemperaturesByCountry.csv')\n",
    "chennai_house<-read_csv('../input/housing-prices-in-metropolitan-areas-of-india/Chennai.csv')\n",
    "bangalore_house<-read_csv('../input/housing-prices-in-metropolitan-areas-of-india/Bangalore.csv')\n",
    "itc<-read_csv('../input/nifty50-stock-market-data/ITC.csv')\n",
    "covid_usa<-read_csv('../input/covid19-in-usa/us_counties_covid19_daily.csv')"
   ]
  },
  {
   "cell_type": "markdown",
   "metadata": {},
   "source": [
    "### Function to set Height & Width"
   ]
  },
  {
   "cell_type": "code",
   "execution_count": null,
   "metadata": {},
   "outputs": [],
   "source": [
    "# Function to plot width and height of plot\n",
    "fig<-function(x,y){\n",
    "    options(repr.plot.width = x, repr.plot.height = y)\n",
    "    }"
   ]
  },
  {
   "cell_type": "markdown",
   "metadata": {},
   "source": [
    "<a id=\"0\"></a>\n",
    "<font color=\"black\" size=+2.5><b>Starters</b></font>\n",
    "\n",
    "<a href=\"#top\" class=\"btn btn-primary btn-sm\" role=\"button\" aria-pressed=\"true\" style=\"color:white\" data-toggle=\"popover\" title=\"go to Colors\">Go to TOC</a>"
   ]
  },
  {
   "cell_type": "markdown",
   "metadata": {},
   "source": [
    "<font color=\"darkblue\"><b>Basic elements in layout:</b></font>\n",
    "* **ggtitle** - title of plot\n",
    "* **xlab** - Plot xaxis title\n",
    "* **ylab** - Plot yaxis title\n",
    "* **labs(title=__,x=__,y=__)** - all titles in single line \n",
    "* **scale_x_continuous(limits=c())** - Controlling coninuous x axis variable\n",
    "* **scale_y_continuous(limits=c())** - Controlling coninuous y axis variable\n",
    "* **scale_x_discrete()** - Controlling discrete x axis variable\n",
    "* **scale_y_discrete()** - Controlling discrete y axis variable\n",
    "* **scale_x_reverse** - Reverse directon of x axis\n",
    "* **scale_x_log10()** - Plot x on log10 scale \n",
    "* **scale_x_date(labels = date_format(\"\"),breaks = date_breaks(\"\"))** - treat xvalues as dates\n",
    "* **xlim** - Limiting x axis \n",
    "* **ylim** - Limiting y axis\n",
    "* **theme_bw()** - White background with grid lines \n",
    "* **theme_grey()** -Grey background (default theme)\n",
    "* **theme_classic()** - White background no gridlines \n",
    "* **theme_minimal()** - Minimal theme\n",
    "\n",
    "** For more details** : https://rstudio.com/wp-content/uploads/2015/03/ggplot2-cheatsheet.pdf"
   ]
  },
  {
   "cell_type": "markdown",
   "metadata": {},
   "source": []
  },
  {
   "cell_type": "markdown",
   "metadata": {},
   "source": [
    "<a id=\"1\"></a>\n",
    "<font color=\"purple\" size=+2.5><b>1. Basic Scatter plot</b></font>\n",
    "\n",
    "<a href=\"#top\" class=\"btn btn-primary btn-sm\" role=\"button\" aria-pressed=\"true\" style=\"color:white\" data-toggle=\"popover\" title=\"go to Colors\">Go to TOC</a>"
   ]
  },
  {
   "cell_type": "markdown",
   "metadata": {},
   "source": [
    "**Purpose** : Relationship between numerical values.\n",
    "\n",
    "**Question** : Is age related to fare of titanic passengers?"
   ]
  },
  {
   "cell_type": "code",
   "execution_count": null,
   "metadata": {
    "_kg_hide-input": true
   },
   "outputs": [],
   "source": [
    "titanic=titanic[complete.cases(titanic),]"
   ]
  },
  {
   "cell_type": "code",
   "execution_count": null,
   "metadata": {},
   "outputs": [],
   "source": [
    "fig(12,8)\n",
    "ggplot(titanic, aes(x=Age, y=Fare)) + \n",
    "  geom_point() + \n",
    "  labs(y=\"Fare\", \n",
    "       x=\"Age\", \n",
    "       title=\"Titanic - Age vs Fare\")+\n",
    "        theme_gray()+\n",
    "       theme(plot.title = element_text(size=22),axis.text.x= element_text(size=15),\n",
    "                            axis.text.y= element_text(size=15), axis.title=element_text(size=18))"
   ]
  },
  {
   "cell_type": "markdown",
   "metadata": {},
   "source": [
    "<a id=\"2\"></a>\n",
    "<font color=\"purple\" size=+2.5><b>2. Scatter plot - Category</b></font>\n",
    "\n",
    "<a href=\"#top\" class=\"btn btn-primary btn-sm\" role=\"button\" aria-pressed=\"true\" style=\"color:white\" data-toggle=\"popover\" title=\"go to Colors\">Go to TOC</a>"
   ]
  },
  {
   "cell_type": "markdown",
   "metadata": {},
   "source": [
    "**Purpose** : Relationship between numerical values with a categorical field.\n",
    "\n",
    "**Question** : Is age related to fare of titanic passengers with respective to gender?"
   ]
  },
  {
   "cell_type": "code",
   "execution_count": null,
   "metadata": {},
   "outputs": [],
   "source": [
    "fig(12,8)\n",
    "ggplot(titanic, aes(x=Age, y=Fare)) + \n",
    "  geom_point(aes(color=Sex)) + \n",
    "  labs(y=\"Fare\", \n",
    "       x=\"Age\", \n",
    "       title=\"Titanic - Age vs Fare against Gender \")+ \n",
    "       theme_gray()+ # Default theme \n",
    "        theme(plot.title = element_text(size=22),axis.text.x= element_text(size=15),\n",
    "                            axis.text.y= element_text(size=15), axis.title=element_text(size=18))"
   ]
  },
  {
   "cell_type": "markdown",
   "metadata": {},
   "source": [
    "<a id=\"3\"></a>\n",
    "<font color=\"purple\" size=+2.5><b>3. Scatter plot - Color and Size</b></font>\n",
    "\n",
    "<a href=\"#top\" class=\"btn btn-primary btn-sm\" role=\"button\" aria-pressed=\"true\" style=\"color:white\" data-toggle=\"popover\" title=\"go to Colors\">Go to TOC</a>"
   ]
  },
  {
   "cell_type": "markdown",
   "metadata": {},
   "source": [
    "**Purpose** :  Relationship between numerical values with addition of categorization by a field and increasing size of datapoint by another numerical field.\n",
    "\n",
    "**Question** : How much dependency between Quality of Education and Students Score for different countries based on number of students?"
   ]
  },
  {
   "cell_type": "code",
   "execution_count": null,
   "metadata": {},
   "outputs": [],
   "source": [
    "fig(15,8)\n",
    "ggplot(university, aes(x=quality_of_education, y=score)) + \n",
    "  geom_point(aes(color=country,size=citations)) + \n",
    "  labs(x=\"Quality Of Education\", \n",
    "       y=\"Score\",\n",
    "       title=\"Quality of Education Vs Score against Country & Citations\")+ \n",
    "        theme_linedraw()+\n",
    "       theme(plot.title = element_text(size=22),axis.text.x= element_text(size=15),\n",
    "                            axis.text.y= element_text(size=15), axis.title=element_text(size=18))"
   ]
  },
  {
   "cell_type": "markdown",
   "metadata": {},
   "source": [
    "<a id=\"4\"></a>\n",
    "<font color=\"purple\" size=+2.5><b>4. Scatter - Color Dimension</b></font>\n",
    "\n",
    "<a href=\"#top\" class=\"btn btn-primary btn-sm\" role=\"button\" aria-pressed=\"true\" style=\"color:white\" data-toggle=\"popover\" title=\"go to Colors\">Go to TOC</a>"
   ]
  },
  {
   "cell_type": "markdown",
   "metadata": {},
   "source": [
    "**Purpose** :  Relationship between numerical values exposing most data points by color gradient.\n",
    "\n",
    "**Question** : How much relationship between Days associated with Company vs Amount to be paid with respective to Age of Customers?"
   ]
  },
  {
   "cell_type": "code",
   "execution_count": null,
   "metadata": {},
   "outputs": [],
   "source": [
    "fig(12,8)\n",
    "ggplot(sample_n(insurance, 500), aes(x=Vintage,y=Annual_Premium,color=Age)) +\n",
    "  geom_point()+\n",
    "    scale_color_gradient(low = 'yellow', high = 'red')+\n",
    "    labs(y=\"Insurance Amount\", \n",
    "       x=\"Days associated with Company\", \n",
    "       title=\"Days associated with Company vs Amount to be paid against Age of Customer \")+ \n",
    "       theme_dark()+ # Dark Theme\n",
    "      theme(plot.title = element_text(size=22),axis.text.x= element_text(size=15),\n",
    "                            axis.text.y= element_text(size=15), axis.title=element_text(size=18))"
   ]
  },
  {
   "cell_type": "markdown",
   "metadata": {},
   "source": [
    "<a id=\"5\"></a>\n",
    "<font color=\"purple\" size=+2.5><b>5. Jitter Plot</b></font>\n",
    "\n",
    "<a href=\"#top\" class=\"btn btn-primary btn-sm\" role=\"button\" aria-pressed=\"true\" style=\"color:white\" data-toggle=\"popover\" title=\"go to Colors\">Go to TOC</a>"
   ]
  },
  {
   "cell_type": "markdown",
   "metadata": {},
   "source": [
    "**Purpose** :  Relationship between numerical values exposing most data points by color gradient with jitter points.\n",
    "\n",
    "**Question** : How much relationship between Area and Price with respective to Lotshape of houses? (Apply Jitter points)"
   ]
  },
  {
   "cell_type": "code",
   "execution_count": null,
   "metadata": {},
   "outputs": [],
   "source": [
    "fig(12,8)\n",
    "ggplot(house, aes(x=LotArea,y=SalePrice,color=LotShape)) +\n",
    "  geom_jitter(width = .5, size=2)+  # Adjusting size and width of points\n",
    "    labs(x=\"Area\",\n",
    "         y=\"Sales Price\", \n",
    "       title=\"Lot Area vs House Price against LotShape \")+ \n",
    "theme_bw()+\n",
    "theme(plot.title = element_text(size=22),axis.text.x= element_text(size=15),\n",
    "                            axis.text.y= element_text(size=15), axis.title=element_text(size=18))"
   ]
  },
  {
   "cell_type": "markdown",
   "metadata": {},
   "source": [
    "<a id=\"6\"></a>\n",
    "<font color=\"purple\" size=+2.5><b>6. Jitter & Encircling Points</b></font>\n",
    "\n",
    "<a href=\"#top\" class=\"btn btn-primary btn-sm\" role=\"button\" aria-pressed=\"true\" style=\"color:white\" data-toggle=\"popover\" title=\"go to Colors\">Go to TOC</a>"
   ]
  },
  {
   "cell_type": "markdown",
   "metadata": {},
   "source": [
    "**Purpose** :  Relationship between numerical values exposing most data points by color gradient with jitter points and encircle dots based on condition.\n",
    "\n",
    "**Question** : How much relationship between Area and Price with respective to Lotshape of houses and encircle costlier houses?"
   ]
  },
  {
   "cell_type": "code",
   "execution_count": null,
   "metadata": {},
   "outputs": [],
   "source": [
    "costly_price_with_less_area<-house[house$SalePrice>600000 & house$LotArea<25000,]\n",
    "\n",
    "fig(12,8)\n",
    "ggplot(house, aes(x=LotArea,y=SalePrice,color=LotShape)) +\n",
    "  geom_jitter(width = .5, size=2)+ # Adjusting size and width of points\n",
    "  geom_encircle(aes(x=LotArea, y=SalePrice), \n",
    "                data=costly_price_with_less_area, \n",
    "                color=\"red\", \n",
    "                size=2, \n",
    "                expand=0.08)+\n",
    "    labs(x=\"Area\",\n",
    "         y=\"Sales Price\", \n",
    "       title=\"Lot Area vs House Price (Circle Costlier House with Less Area) \")+ \n",
    "theme_bw()+\n",
    "theme(plot.title = element_text(size=22),axis.text.x= element_text(size=15),\n",
    "                            axis.text.y= element_text(size=15), axis.title=element_text(size=18))"
   ]
  },
  {
   "cell_type": "markdown",
   "metadata": {},
   "source": [
    "<a id=\"7\"></a>\n",
    "<font color=\"steelblue\" size=+2.5><b>7. Basic Bubble Plot</b></font>\n",
    "\n",
    "<a href=\"#top\" class=\"btn btn-primary btn-sm\" role=\"button\" aria-pressed=\"true\" style=\"color:white\" data-toggle=\"popover\" title=\"go to Colors\">Go to TOC</a>"
   ]
  },
  {
   "cell_type": "markdown",
   "metadata": {},
   "source": [
    "**Purpose** :  Displays quantitative representation highlighting the most occured category with the size of bubble.\n",
    "\n",
    "**Question** : How much dependency between age and stay days of patients? Highlight the deposited amount in size"
   ]
  },
  {
   "cell_type": "code",
   "execution_count": null,
   "metadata": {
    "_kg_hide-input": true,
    "_kg_hide-output": true
   },
   "outputs": [],
   "source": [
    "age1 <- data.frame(do.call('rbind', strsplit(as.character(health$Age),'-')))\n",
    "stay1<-data.frame(do.call('rbind', strsplit(as.character(health$Stay),'-')))\n",
    "health_df<-cbind(age1, stay1,health$Admission_Deposit,health$'Severity of Illness')\n",
    "colnames(health_df) <- c(\"Age_Start\",\"Age_End\",\"Stay_Start\",\"Stay_End\",\"Deposit\",\"Severity\")\n",
    "\n",
    "health_df<-health_df[complete.cases(health_df),]\n",
    "health_df$Age_Start<-as.numeric(as.character(health_df$Age_Start))\n",
    "health_df$Age_End<-as.numeric(as.character(health_df$Age_End))\n",
    "health_df$Stay_Start<-as.numeric(as.character(health_df$Stay_Start))\n",
    "health_df$Stay_End<-as.numeric(as.character(health_df$Stay_End))\n",
    "\n",
    "health_df$age<-apply(health_df, 1, function(x) sample(seq(x[1], x[2]), 1))\n",
    "health_df<-health_df[complete.cases(health_df),]\n",
    "health_df$stay<-apply(health_df, 1, function(x) sample(seq(x[3], x[4]), 1))\n",
    "                     "
   ]
  },
  {
   "cell_type": "code",
   "execution_count": null,
   "metadata": {},
   "outputs": [],
   "source": [
    "fig(12,8)\n",
    "ggplot(sample_n(health_df,100), aes(x=age,y=stay)) +\n",
    "  geom_jitter(aes(size=Deposit),color=\"blue\")+\n",
    "    labs(x=\"Age\",\n",
    "         y=\"Stay\", \n",
    "       title=\" Age vs Stay against Deposits\")+ \n",
    "theme_bw()+\n",
    "theme(plot.title = element_text(size=22),axis.text.x= element_text(size=15),\n",
    "                            axis.text.y= element_text(size=15), axis.title=element_text(size=18))\n"
   ]
  },
  {
   "cell_type": "markdown",
   "metadata": {},
   "source": [
    "<a id=\"8\"></a>\n",
    "<font color=\"steelblue\" size=+2.5><b>8. Bubble Plot with Color gradient</b></font>\n",
    "\n",
    "<a href=\"#top\" class=\"btn btn-primary btn-sm\" role=\"button\" aria-pressed=\"true\" style=\"color:white\" data-toggle=\"popover\" title=\"go to Colors\">Go to TOC</a>"
   ]
  },
  {
   "cell_type": "markdown",
   "metadata": {},
   "source": [
    "**Purpose** :  Displays quantitative representation highlighting the most occured category with the size of bubble and gradient.\n",
    "\n",
    "**Question** : How much dependency between age and stay days of patients? Highlight the deposited amount in size and number of stay days with color gradient"
   ]
  },
  {
   "cell_type": "code",
   "execution_count": null,
   "metadata": {},
   "outputs": [],
   "source": [
    "fig(12,8)\n",
    "ggplot(sample_n(health_df,200), aes(x=age,y=stay)) +\n",
    "  geom_jitter(aes(size=Deposit,color=stay))+\n",
    "    labs(x=\"Age\",\n",
    "         y=\"Stay\", \n",
    "       title=\"Age vs Stay against Deposits\")+ \n",
    "theme_bw()+\n",
    "theme(plot.title = element_text(size=22),axis.text.x= element_text(size=15),\n",
    "                            axis.text.y= element_text(size=15), axis.title=element_text(size=18))+\n",
    "scale_color_gradient(low = \"blue\", high = \"red\")"
   ]
  },
  {
   "cell_type": "markdown",
   "metadata": {},
   "source": [
    "<a id=\"9\"></a>\n",
    "<font color=\"steelblue\" size=+2.5><b>9. Bubble Color</b></font>\n",
    "\n",
    "<a href=\"#top\" class=\"btn btn-primary btn-sm\" role=\"button\" aria-pressed=\"true\" style=\"color:white\" data-toggle=\"popover\" title=\"go to Colors\">Go to TOC</a>"
   ]
  },
  {
   "cell_type": "markdown",
   "metadata": {},
   "source": [
    "**Purpose** :  Displays quantitative representation highlighting the most occured category with the size of bubble \n",
    "\n",
    "**Question** : How much dependency between age and stay days of patients? Highlight the deposited amount in size and categorize the severity of illness with different colors"
   ]
  },
  {
   "cell_type": "code",
   "execution_count": null,
   "metadata": {},
   "outputs": [],
   "source": [
    "fig(12,8)\n",
    "ggplot(sample_n(health_df,200), aes(x=age,y=stay)) +\n",
    "  geom_jitter(aes(size=Deposit,color=Severity))+\n",
    "    labs(x=\"Age\",\n",
    "         y=\"Stay\", \n",
    "       title=\"Age vs Stay against Severity\")+ \n",
    "theme_bw()+\n",
    "theme(plot.title = element_text(size=22),axis.text.x= element_text(size=15),\n",
    "                            axis.text.y= element_text(size=15), axis.title=element_text(size=18))"
   ]
  },
  {
   "cell_type": "markdown",
   "metadata": {},
   "source": [
    "<a id=\"10\"></a>\n",
    "<font color=\"magenta\" size=+2.5><b>10. Basic Bar chart</b></font>\n",
    "\n",
    "<a href=\"#top\" class=\"btn btn-primary btn-sm\" role=\"button\" aria-pressed=\"true\" style=\"color:white\" data-toggle=\"popover\" title=\"go to Colors\">Go to TOC</a>"
   ]
  },
  {
   "cell_type": "markdown",
   "metadata": {},
   "source": [
    "**Purpose** :  Displays quantitative representation of a variable.\n",
    "\n",
    "**Question** : How many universities in each countries have good score? (Filtered for universities with score greater than 60)"
   ]
  },
  {
   "cell_type": "code",
   "execution_count": null,
   "metadata": {},
   "outputs": [],
   "source": [
    "fig(12,8)\n",
    "ggplot(university[university$score>60,], aes(country))+\n",
    "geom_bar(stat=\"count\", width = 0.5, fill=\"darkblue\")+\n",
    " labs(x=\"Country\",\n",
    "         y=\"Score\", \n",
    "       title=\"Country vs Score above 60 \")+ \n",
    "theme_bw()+\n",
    "theme(plot.title = element_text(size=22),axis.text.x= element_text(size=15),\n",
    "                            axis.text.y= element_text(size=15), axis.title=element_text(size=18))"
   ]
  },
  {
   "cell_type": "markdown",
   "metadata": {},
   "source": [
    "<a id=\"11\"></a>\n",
    "<font color=\"magenta\" size=+2.5><b>11. Bar chart - Gradient & Text</b></font>\n",
    "\n",
    "<a href=\"#top\" class=\"btn btn-primary btn-sm\" role=\"button\" aria-pressed=\"true\" style=\"color:white\" data-toggle=\"popover\" title=\"go to Colors\">Go to TOC</a>"
   ]
  },
  {
   "cell_type": "markdown",
   "metadata": {},
   "source": [
    "**Purpose** :  Displays quantitative representation of a variable highlighting the most counts with color gradient and text position for all bars.\n",
    "\n",
    "**Question** : In which genre does most of google playstore apps fall? Highlight from top count to low count"
   ]
  },
  {
   "cell_type": "code",
   "execution_count": null,
   "metadata": {
    "_kg_hide-input": true,
    "_kg_hide-output": true
   },
   "outputs": [],
   "source": [
    "genre_data<-as.data.frame(table(playstore$Genres))\n",
    "genre_data<-genre_data[order(-genre_data$Freq),] %>% top_n(10)\n",
    "colnames(genre_data)<-c('Genre','Count')"
   ]
  },
  {
   "cell_type": "code",
   "execution_count": null,
   "metadata": {},
   "outputs": [],
   "source": [
    "fig(12,8)\n",
    "ggplot(genre_data, aes(Genre,Count,fill=Count))+\n",
    "geom_bar(stat=\"identity\", width = 0.5)+\n",
    "geom_text(aes(label=Count), vjust=0) +\n",
    "scale_fill_gradient(low = \"green\", high = \"red\")+\n",
    " labs(x=\"Genre\",\n",
    "         y=\"Count\", \n",
    "       title=\"Distribution of Playstore Genres \")+ \n",
    "theme_bw()+\n",
    "theme(plot.title = element_text(size=22),axis.text.x= element_text(size=15,angle=90),\n",
    "                            axis.text.y= element_text(size=15), axis.title=element_text(size=18))"
   ]
  },
  {
   "cell_type": "markdown",
   "metadata": {},
   "source": [
    "<a id=\"12\"></a>\n",
    "<font color=\"magenta\" size=+2.5><b>12. Bar chart - Stacked & Group</b></font>\n",
    "\n",
    "<a href=\"#top\" class=\"btn btn-primary btn-sm\" role=\"button\" aria-pressed=\"true\" style=\"color:white\" data-toggle=\"popover\" title=\"go to Colors\">Go to TOC</a>"
   ]
  },
  {
   "cell_type": "markdown",
   "metadata": {},
   "source": [
    "**Purpose** : Displays quantitative representation of a variable grouping/stacking the bars.\n",
    "\n",
    "**Question** : How many shows/movies were released in Netflix by India & United States over past 5 years? (Grouping or Stacking countries)"
   ]
  },
  {
   "cell_type": "code",
   "execution_count": null,
   "metadata": {
    "_kg_hide-input": true
   },
   "outputs": [],
   "source": [
    "ind_us_shows<-netflix%>%filter( (country == \"United States\" | country == \"India\" )& release_year>2015)\n"
   ]
  },
  {
   "cell_type": "code",
   "execution_count": null,
   "metadata": {},
   "outputs": [],
   "source": [
    "fig(12,8)\n",
    "ggplot(ind_us_shows, aes(release_year,fill=country))+\n",
    "geom_bar(stat=\"count\",position='stack', width = 0.5)+  # Stack for stacked chart\n",
    " labs(x=\"Year\",\n",
    "         y=\"Count\", \n",
    "       title=\"Distribution of Netflix Shows in India & US\")+ \n",
    "theme_bw()+\n",
    "theme(plot.title = element_text(size=22),axis.text.x= element_text(size=15,angle=90),\n",
    "                            axis.text.y= element_text(size=15), axis.title=element_text(size=18))"
   ]
  },
  {
   "cell_type": "code",
   "execution_count": null,
   "metadata": {},
   "outputs": [],
   "source": [
    "fig(12,8)\n",
    "ggplot(ind_us_shows, aes(release_year,fill=country))+\n",
    "geom_bar(stat=\"count\", position='dodge',width = 0.5)+  # Dodge for group\n",
    " labs(x=\"Genre\",\n",
    "         y=\"Count\", \n",
    "       title=\"Distribution of Netflix Shows in India & US (Group) \")+ \n",
    "theme_bw()+\n",
    "theme(plot.title = element_text(size=22),axis.text.x= element_text(size=15,angle=90),\n",
    "                            axis.text.y= element_text(size=15), axis.title=element_text(size=18))"
   ]
  },
  {
   "cell_type": "markdown",
   "metadata": {},
   "source": [
    "<a id=\"13\"></a>\n",
    "<font color=\"magenta\" size=+2.5><b>13. Facet Bar</b></font>\n",
    "\n",
    "<a href=\"#top\" class=\"btn btn-primary btn-sm\" role=\"button\" aria-pressed=\"true\" style=\"color:white\" data-toggle=\"popover\" title=\"go to Colors\">Go to TOC</a>"
   ]
  },
  {
   "cell_type": "markdown",
   "metadata": {},
   "source": [
    "**Purpose** : Displays quantitative representation of a variable with category in multiple charts\n",
    "\n",
    "**Question** : How many shows/movies were released in Netflix by India,US,UK & Australia over past 5 years? (Facet)"
   ]
  },
  {
   "cell_type": "code",
   "execution_count": null,
   "metadata": {
    "_kg_hide-input": true
   },
   "outputs": [],
   "source": [
    "four_shows<-netflix%>%filter( (country == \"United States\" | country == \"India\"  | country=='United Kingdom'|country =='Australia')& release_year>2015)"
   ]
  },
  {
   "cell_type": "code",
   "execution_count": null,
   "metadata": {},
   "outputs": [],
   "source": [
    "fig(12,8)\n",
    "ggplot(four_shows, aes(release_year))+\n",
    "geom_bar(stat=\"count\", width = 0.5,aes(fill=country))+\n",
    " labs(x=\"Genre\",\n",
    "         y=\"Count\", \n",
    "       title=\"Distribution of Netflix Shows in India,US,UK & Australia \")+ \n",
    "facet_wrap(~country)+\n",
    "theme_bw()+\n",
    "theme(plot.title = element_text(size=22),axis.text.x= element_text(size=15,angle=90),\n",
    "                            axis.text.y= element_text(size=15), axis.title=element_text(size=18))"
   ]
  },
  {
   "cell_type": "markdown",
   "metadata": {},
   "source": [
    "<a id=\"14\"></a>\n",
    "<font color=\"magenta\" size=+2.5><b>14. Horizontal Bar</b></font>\n",
    "\n",
    "<a href=\"#top\" class=\"btn btn-primary btn-sm\" role=\"button\" aria-pressed=\"true\" style=\"color:white\" data-toggle=\"popover\" title=\"go to Colors\">Go to TOC</a>"
   ]
  },
  {
   "cell_type": "markdown",
   "metadata": {},
   "source": [
    "**Purpose** : Displays quantitative representation of a variable in a horizontal manner.\n",
    "\n",
    "**Question** : How many hospitals fall in each type?"
   ]
  },
  {
   "cell_type": "code",
   "execution_count": null,
   "metadata": {
    "_kg_hide-input": true
   },
   "outputs": [],
   "source": [
    "hosp_code<-as.data.frame(table(health$Hospital_type_code))\n",
    "colnames(hosp_code)<-c('hospital_code','count')"
   ]
  },
  {
   "cell_type": "code",
   "execution_count": null,
   "metadata": {},
   "outputs": [],
   "source": [
    "fig(12,8)\n",
    "ggplot(hosp_code, aes(x=hospital_code,y=count))+\n",
    "geom_bar(stat=\"identity\",width = 0.5,aes(fill=count))+ \n",
    "scale_fill_gradient(low = \"red\", high = \"blue\")+\n",
    "coord_flip()+\n",
    " labs(x=\"Hospital Code\",\n",
    "         y=\"Count\", \n",
    "       title=\"Distribution of Hospital Type Code\")+ \n",
    "theme_bw()+\n",
    "theme(plot.title = element_text(size=22),axis.text.x= element_text(size=15,angle=90),\n",
    "                            axis.text.y= element_text(size=15), axis.title=element_text(size=18))"
   ]
  },
  {
   "cell_type": "markdown",
   "metadata": {},
   "source": [
    "<a id=\"15\"></a>\n",
    "<font color=\"crimson\" size=+2.5><b>15. Dot Plot</b></font>\n",
    "\n",
    "<a href=\"#top\" class=\"btn btn-primary btn-sm\" role=\"button\" aria-pressed=\"true\" style=\"color:white\" data-toggle=\"popover\" title=\"go to Colors\">Go to TOC</a>"
   ]
  },
  {
   "cell_type": "markdown",
   "metadata": {},
   "source": [
    "**Purpose** : Displays quantitative representation of a variable with dot.\n",
    "\n",
    "**Question** : How many covid deaths were found in top countries?"
   ]
  },
  {
   "cell_type": "code",
   "execution_count": null,
   "metadata": {
    "_kg_hide-input": true,
    "_kg_hide-output": true
   },
   "outputs": [],
   "source": [
    "total_death<-as.data.frame(aggregate(covid$Deaths, by=list(country=covid$'Country/Region'), FUN=sum))\n",
    "colnames(total_death)<-c('country','deaths')\n",
    "total_death<-total_death[order(-total_death$deaths),]%>%top_n(10)"
   ]
  },
  {
   "cell_type": "code",
   "execution_count": null,
   "metadata": {},
   "outputs": [],
   "source": [
    "fig(12,8)\n",
    "ggplot(total_death, aes(x=country, y=deaths)) + \n",
    "  geom_point(col=\"blue\", size=5) +   # Draw points\n",
    "  geom_segment(aes(x=country, \n",
    "                   xend=country, \n",
    "                   y=min(deaths), \n",
    "                   yend=max(deaths)), \n",
    "               linetype=\"dashed\", \n",
    "               size=0.1) +   # Draw dashed lines\n",
    " labs(x=\"Country\",\n",
    "         y=\"Number of COVID Deaths\", \n",
    "       title=\"Distribution of Deaths across countries \")+ \n",
    "theme_bw()+\n",
    "theme(plot.title = element_text(size=22),\n",
    "      axis.text.x= element_text(size=15),\n",
    "    axis.text.y= element_text(size=15), \n",
    "      axis.title=element_text(size=18))+\n",
    "coord_flip()"
   ]
  },
  {
   "cell_type": "markdown",
   "metadata": {},
   "source": [
    "<a id=\"16\"></a>\n",
    "<font color=\"crimson\" size=+2.5><b>16. Lollipop Plot</b></font>\n",
    "\n",
    "<a href=\"#top\" class=\"btn btn-primary btn-sm\" role=\"button\" aria-pressed=\"true\" style=\"color:white\" data-toggle=\"popover\" title=\"go to Colors\">Go to TOC</a>"
   ]
  },
  {
   "cell_type": "markdown",
   "metadata": {},
   "source": [
    "**Purpose** : Displays quantitative representation of a variable with lollipop.\n",
    "\n",
    "**Question** : How many people were killed on each race by US police?"
   ]
  },
  {
   "cell_type": "code",
   "execution_count": null,
   "metadata": {
    "_kg_hide-input": true
   },
   "outputs": [],
   "source": [
    "race_df<-as.data.frame(table(police$race))\n",
    "colnames(race_df)<-c('race','count')"
   ]
  },
  {
   "cell_type": "code",
   "execution_count": null,
   "metadata": {},
   "outputs": [],
   "source": [
    "fig(12,8)\n",
    "ggplot(race_df, aes(x=race, y=count)) + \n",
    "  geom_point(size=5) + \n",
    "  geom_segment(aes(x=race, \n",
    "                   xend=race, \n",
    "                   y=0, \n",
    "                   yend=count)) + \n",
    " labs(x=\"Race\",\n",
    "         y=\"Number of Victims\", \n",
    "       title=\"Distribution of US Victims of each Race\")+ \n",
    "theme_bw()+\n",
    "theme(plot.title = element_text(size=22),\n",
    "      axis.text.x= element_text(size=15),\n",
    "      axis.text.y= element_text(size=15), \n",
    "      axis.title=element_text(size=18))\n"
   ]
  },
  {
   "cell_type": "markdown",
   "metadata": {},
   "source": [
    "<a id=\"17\"></a>\n",
    "<font color=\"crimson\" size=+2.5><b>17. Ordered Bar Plot</b></font>\n",
    "\n",
    "<a href=\"#top\" class=\"btn btn-primary btn-sm\" role=\"button\" aria-pressed=\"true\" style=\"color:white\" data-toggle=\"popover\" title=\"go to Colors\">Go to TOC</a>"
   ]
  },
  {
   "cell_type": "markdown",
   "metadata": {},
   "source": [
    "**Purpose** : Displays quantitative representation of a variable with ordered bar/rank.\n",
    "\n",
    "**Question** : How many people were killed on each race by US police?"
   ]
  },
  {
   "cell_type": "code",
   "execution_count": null,
   "metadata": {},
   "outputs": [],
   "source": [
    "race_df <- race_df[order(race_df$count), ]  # sort\n",
    "race_df$race <- factor(race_df$race, levels = race_df$race) \n",
    "\n",
    "fig(12,8)\n",
    "ggplot(race_df, aes(x=race, y=count)) + \n",
    "  geom_bar(stat=\"identity\", width=.5, fill=\"darkblue\") + \n",
    "  labs(x=\"Race\",\n",
    "         y=\"Number of Victims\", \n",
    "       title=\"Distribution of US Victims of each race\")+ \n",
    "theme_bw()+\n",
    "theme(plot.title = element_text(size=22)\n",
    "      ,axis.text.x= element_text(size=15),\n",
    "       axis.text.y= element_text(size=15),\n",
    "        axis.title=element_text(size=18))"
   ]
  },
  {
   "cell_type": "markdown",
   "metadata": {},
   "source": [
    "<a id=\"18\"></a>\n",
    "<font color=\"crimson\" size=+2.5><b>18. Slope Plot</b></font>\n",
    "\n",
    "<a href=\"#top\" class=\"btn btn-primary btn-sm\" role=\"button\" aria-pressed=\"true\" style=\"color:white\" data-toggle=\"popover\" title=\"go to Colors\">Go to TOC</a>"
   ]
  },
  {
   "cell_type": "markdown",
   "metadata": {},
   "source": [
    "**Purpose** : Compare positional placements between 2 points on time\n",
    "\n",
    "**Question** : What is average close and open price of bank stocks recorded on 2019?(If open price is higher than close,then green else red )"
   ]
  },
  {
   "cell_type": "code",
   "execution_count": null,
   "metadata": {
    "_kg_hide-input": true
   },
   "outputs": [],
   "source": [
    "axis$year<-format(as.Date(axis$Date, format=\"%Y-%m-%d\"),\"%Y\")\n",
    "hdfc$year<-format(as.Date(hdfc$Date, format=\"%Y-%m-%d\"),\"%Y\")\n",
    "indus$year<-format(as.Date(indus$Date, format=\"%Y-%m-%d\"),\"%Y\")\n",
    "kotak$year<-format(as.Date(kotak$Date, format=\"%Y-%m-%d\"),\"%Y\")\n",
    "icici$year<-format(as.Date(icici$Date, format=\"%Y-%m-%d\"),\"%Y\")\n",
    "\n",
    "ici<-aggregate(list(icici[icici$year==2019,]$Open,icici[icici$year==2019,]$Close), by=list(year=icici[icici$year==2019,]$year), FUN=mean)\n",
    "ici$name='icici'\n",
    "colnames(ici)<-c('year','open','close','name')\n",
    "\n",
    "axi<-aggregate(list(axis[axis$year==2019,]$Open,axis[axis$year==2019,]$Close), by=list(year=axis[axis$year==2019,]$year), FUN=mean)\n",
    "axi$name='axis'\n",
    "colnames(axi)<-c('year','open','close','name')\n",
    "\n",
    "hdf<-aggregate(list(hdfc[hdfc$year==2019,]$Open,hdfc[hdfc$year==2019,]$Close), by=list(year=hdfc[hdfc$year==2019,]$year), FUN=mean)\n",
    "hdf$name='hdfc'\n",
    "colnames(hdf)<-c('year','open','close','name')\n",
    "\n",
    "kot<-aggregate(list(kotak[kotak$year==2019,]$Open,kotak[kotak$year==2019,]$Close), by=list(year=kotak[kotak$year==2019,]$year), FUN=mean)\n",
    "kot$name='kotak'\n",
    "colnames(kot)<-c('year','open','close','name')\n",
    "\n",
    "ind<-aggregate(list(indus[indus$year==2019,]$Open,indus[indus$year==2019,]$Close), by=list(year=indus[indus$year==2019,]$year), FUN=mean)\n",
    "ind$name='indus'\n",
    "colnames(ind)<-c('year','open','close','name')\n",
    "\n",
    "bank_stock<-rbind(ici,axi,hdf,kot,ind)\n",
    "\n",
    "left_label <- paste(bank_stock$name, round(bank_stock$open,2),sep=\", \")\n",
    "right_label <- paste(bank_stock$name, round(bank_stock$close,2),sep=\", \")\n",
    "bank_stock$class <- ifelse((bank_stock$open - bank_stock$close) < 0, \"red\", \"green\")"
   ]
  },
  {
   "cell_type": "code",
   "execution_count": null,
   "metadata": {},
   "outputs": [],
   "source": [
    "fig(12,8)\n",
    "p<-ggplot(bank_stock) + geom_segment(aes(x=1, xend=2, y=open, yend=close, col=class), size=.75, show.legend=F) + \n",
    "                  geom_vline(xintercept=1, linetype=\"dashed\", size=.1) + \n",
    "                  geom_vline(xintercept=2, linetype=\"dashed\", size=.1) +\n",
    "                  scale_color_manual(labels = c(\"Up\", \"Down\"), \n",
    "                                     values = c(\"green\"=\"#00ba38\", \"red\"=\"#f8766d\")) +  # color of lines\n",
    "                  labs(x=\" \",\n",
    "             y=\"Average Price\", \n",
    "               title=\"Average Open & Close price of Bank Stocks in 2019\")+    # Axis labels\n",
    "                  xlim(.5, 2.5) + ylim(0,(1.1*(max(bank_stock$open, bank_stock$close))))  # X and Y axis limits\n",
    "\n",
    "# Add texts\n",
    "p <- p + geom_text(label=left_label, y=bank_stock$open, x=rep(1, NROW(df)), hjust=1.1, size=5)\n",
    "p <- p + geom_text(label=right_label, y=bank_stock$close, x=rep(2, NROW(df)), hjust=-0.1, size=5)\n",
    "p <- p + geom_text(label=\"Open Price\", x=1, y=1.1*(max(bank_stock$open, bank_stock$close)), hjust=1.2, size=5)  # title\n",
    "p <- p + geom_text(label=\"Close Price\", x=2, y=1.1*(max(bank_stock$open, bank_stock$close)), hjust=-0.1, size=5)  # title\n",
    "\n",
    "# Minify theme\n",
    "p + theme_bw()+\n",
    "    theme(plot.title = element_text(size=22)\n",
    "      ,axis.text.x= element_text(size=15),\n",
    "       axis.text.y= element_text(size=15),\n",
    "        axis.title=element_text(size=18))"
   ]
  },
  {
   "cell_type": "markdown",
   "metadata": {},
   "source": [
    "<a id=\"19\"></a>\n",
    "<font color=\"crimson\" size=+2.5><b>19. Dumbbell Chart</b></font>\n",
    "\n",
    "<a href=\"#top\" class=\"btn btn-primary btn-sm\" role=\"button\" aria-pressed=\"true\" style=\"color:white\" data-toggle=\"popover\" title=\"go to Colors\">Go to TOC</a>"
   ]
  },
  {
   "cell_type": "markdown",
   "metadata": {},
   "source": [
    "**Purpose** : 1. Visualize relative positions (like growth and decline) between two points in time. 2. Compare distance between two categories.\n",
    "\n",
    "**Question** : How many people died and recovered so far from covid across countries?(Display both in dumbbell shape)"
   ]
  },
  {
   "cell_type": "code",
   "execution_count": null,
   "metadata": {
    "_kg_hide-input": true,
    "_kg_hide-output": true
   },
   "outputs": [],
   "source": [
    "covid_death<-aggregate(list(covid$Deaths,covid$Recovered), by=list(country=covid$'Country/Region'), FUN=sum)\n",
    "colnames(covid_death)<-c('country','deaths','recovered')\n",
    "covid_death=covid_death[-covid_death$recovered,]%>%top_n(10)\n",
    "covid_death$country <- factor(covid_death$country, levels=as.character(covid_death$country))"
   ]
  },
  {
   "cell_type": "code",
   "execution_count": null,
   "metadata": {},
   "outputs": [],
   "source": [
    "fig(12,8)\n",
    "ggplot(covid_death, aes(x=deaths, xend=recovered, y=country, group=country)) + \n",
    "        geom_dumbbell(color=\"#a3c4dc\", \n",
    "                      size=0.75,\n",
    "                      colour_x =\"red\",\n",
    "                     colour_xend=\"darkblue\",\n",
    "                     size_x = 2.5,\n",
    "              size_xend = 2.5) + \n",
    "         labs(x=\"\",\n",
    "         y=\"\", \n",
    "       title=\"Deaths and Recovered Cases over countries\")+\n",
    "    theme_bw()+\n",
    "    theme(plot.title = element_text(size=22)\n",
    "     ,axis.text.x= element_text(size=15),\n",
    "       axis.text.y= element_text(size=15),\n",
    "        axis.title=element_text(size=18))\n"
   ]
  },
  {
   "cell_type": "markdown",
   "metadata": {},
   "source": [
    "<a id=\"20\"></a>\n",
    "<font color=\"green\" size=+2.5><b>20. Pie Plot</b></font>\n",
    "\n",
    "<a href=\"#top\" class=\"btn btn-primary btn-sm\" role=\"button\" aria-pressed=\"true\" style=\"color:white\" data-toggle=\"popover\" title=\"go to Colors\">Go to TOC</a>"
   ]
  },
  {
   "cell_type": "markdown",
   "metadata": {},
   "source": [
    "**Purpose** : Displays quantitative representation in pie with label and textinfo.\n",
    "\n",
    "**Question** : What is split distribution count of netflix program types?"
   ]
  },
  {
   "cell_type": "code",
   "execution_count": null,
   "metadata": {},
   "outputs": [],
   "source": [
    "fig(12,8)\n",
    "pie <- ggplot(netflix, aes(x = \"\", fill = factor(type))) + \n",
    "  geom_bar(width = 1) +\n",
    "  theme(axis.line = element_blank(), \n",
    "        plot.title = element_text(hjust=0.5,size=22)) + \n",
    "  labs(fill=\"class\", \n",
    "       x=NULL, \n",
    "       y=NULL, \n",
    "       title=\"Pie Chart of Netflix shows \")\n",
    "  \n",
    "pie + coord_polar(theta = \"y\", start=0)"
   ]
  },
  {
   "cell_type": "markdown",
   "metadata": {},
   "source": [
    "<a id=\"21\"></a>\n",
    "<font color=\"green\" size=+2.5><b>21. Color Pie</b></font>\n",
    "\n",
    "<a href=\"#top\" class=\"btn btn-primary btn-sm\" role=\"button\" aria-pressed=\"true\" style=\"color:white\" data-toggle=\"popover\" title=\"go to Colors\">Go to TOC</a>"
   ]
  },
  {
   "cell_type": "markdown",
   "metadata": {},
   "source": [
    "**Purpose** : Displays quantitative representation in pie with custom colors to labels\n",
    "\n",
    "**Question** : What is split distribution count of severity of patients in hospital? Highlight each category with different color"
   ]
  },
  {
   "cell_type": "code",
   "execution_count": null,
   "metadata": {
    "_kg_hide-input": true
   },
   "outputs": [],
   "source": [
    "severity_df<-as.data.frame(table(health$'Severity of Illness'))\n",
    "colnames(severity_df)<-c('severity','patients')"
   ]
  },
  {
   "cell_type": "code",
   "execution_count": null,
   "metadata": {},
   "outputs": [],
   "source": [
    "custom_col <- c(\"red\", \"green\", \"orange\") \n",
    "\n",
    "fig(12,8)                   \n",
    "ggplot(severity_df, aes(x = \"\", y=patients, fill = factor(severity))) + \n",
    "  geom_bar(width = 1, stat = \"identity\") +\n",
    "  theme(axis.line = element_blank(), \n",
    "        plot.title = element_text(hjust=0.5,size=22)) + \n",
    "  labs(fill=\"severity\", \n",
    "       x=NULL, \n",
    "       y=NULL, \n",
    "       title=\"Pie Chart of patient severeness\") + coord_polar(theta = \"y\", start=0)+\n",
    "scale_fill_manual(values=custom_col)"
   ]
  },
  {
   "cell_type": "markdown",
   "metadata": {},
   "source": [
    "<a id=\"22\"></a>\n",
    "<font color=\"green\" size=+2.5><b>22. Customized Pie- Gradient & Text</b></font>\n",
    "\n",
    "<a href=\"#top\" class=\"btn btn-primary btn-sm\" role=\"button\" aria-pressed=\"true\" style=\"color:white\" data-toggle=\"popover\" title=\"go to Colors\">Go to TOC</a>"
   ]
  },
  {
   "cell_type": "markdown",
   "metadata": {},
   "source": [
    "**Purpose** : Displays quantitative representation in pie with custom colors to labels\n",
    "\n",
    "**Question** : What is split distribution count of severity of patients in hospital? Highlight each category with gradient and text"
   ]
  },
  {
   "cell_type": "code",
   "execution_count": null,
   "metadata": {},
   "outputs": [],
   "source": [
    "fig(12,8)                   \n",
    "ggplot(severity_df, aes(x = \"\", y=patients, fill = severity)) + \n",
    "  geom_bar(width = 1, stat = \"identity\") +coord_polar(theta = \"y\", start=0)+\n",
    "scale_fill_brewer(palette=\"Blues\")+\n",
    "  labs(fill=\"Severity\", \n",
    "       x=NULL, \n",
    "       y=NULL, \n",
    "       title=\"Pie Chart of patient severeness \") + \n",
    "geom_text(aes(label = patients),size=8, position = position_stack(vjust = 0.5))+\n",
    "theme_void()+theme(plot.title = element_text(hjust=0.5,size=22)) "
   ]
  },
  {
   "cell_type": "markdown",
   "metadata": {},
   "source": [
    "<a id=\"23\"></a>\n",
    "<font color=\"green\" size=+2.5><b>23. Donut Plot</b></font>\n",
    "\n",
    "<a href=\"#top\" class=\"btn btn-primary btn-sm\" role=\"button\" aria-pressed=\"true\" style=\"color:white\" data-toggle=\"popover\" title=\"go to Colors\">Go to TOC</a>"
   ]
  },
  {
   "cell_type": "markdown",
   "metadata": {},
   "source": [
    "**Purpose** : Displays quantitative representation in pie with donut shape.\n",
    "\n",
    "**Question** : What is distribution count of google playstore apps content rating?"
   ]
  },
  {
   "cell_type": "code",
   "execution_count": null,
   "metadata": {
    "_kg_hide-input": true
   },
   "outputs": [],
   "source": [
    "content_df<-as.data.frame(table(playstore$'Content Rating'))\n",
    "colnames(content_df)<-c('content','count')"
   ]
  },
  {
   "cell_type": "code",
   "execution_count": null,
   "metadata": {},
   "outputs": [],
   "source": [
    "# Compute percentages\n",
    "content_df$fraction <- content_df$count / sum(content_df$count)\n",
    "\n",
    "# Compute the cumulative percentages (top of each rectangle)\n",
    "content_df$ymax <- cumsum(content_df$fraction)\n",
    "\n",
    "# Compute the bottom of each rectangle\n",
    "content_df$ymin <- c(0, head(content_df$ymax, n=-1))\n",
    "\n",
    "# Compute label position\n",
    "content_df$labelPosition <- (content_df$ymax + content_df$ymin) / 2\n",
    "\n",
    "# Compute a good label\n",
    "content_df$label <- paste0(content_df$content, \"\\n value: \", content_df$count)\n",
    "\n",
    "# Make the plot\n",
    "fig(12,8)  \n",
    "\n",
    "ggplot(content_df, aes(ymax=ymax, ymin=ymin, xmax=4, xmin=3, fill=content)) +\n",
    "  geom_rect() +\n",
    "  geom_label( x=3.5, aes(y=labelPosition, label=label), size=6) +\n",
    "  scale_fill_brewer(palette=7) +\n",
    "  coord_polar(theta=\"y\") +\n",
    "  xlim(c(2, 4)) +\n",
    "   labs(fill='content', \n",
    "       x=NULL, \n",
    "       y=NULL, \n",
    "       title=\"Distribution of Playstore Content Ratings \")+\n",
    "  theme_void() +\n",
    "  theme(legend.position = \"none\")+theme(plot.title = element_text(hjust=0.5,size=22)) \n",
    "\n",
    "# Reference - https://www.r-graph-gallery.com/128-ring-or-donut-plot"
   ]
  },
  {
   "cell_type": "markdown",
   "metadata": {},
   "source": [
    "<a id=\"24\"></a>\n",
    "<font color=\"green\" size=+2.5><b>24. Ring Plot</b></font>\n",
    "\n",
    "<a href=\"#top\" class=\"btn btn-primary btn-sm\" role=\"button\" aria-pressed=\"true\" style=\"color:white\" data-toggle=\"popover\" title=\"go to Colors\">Go to TOC</a>"
   ]
  },
  {
   "cell_type": "markdown",
   "metadata": {},
   "source": [
    "**Purpose** : Displays quantitative representation in pie with ring shape.\n",
    "\n",
    "**Question** : What is distribution count of google playstore apps content rating?"
   ]
  },
  {
   "cell_type": "code",
   "execution_count": null,
   "metadata": {},
   "outputs": [],
   "source": [
    "fig(12,8)  \n",
    "ggplot(content_df, aes(ymax=ymax, ymin=ymin, xmax=4, xmin=3, fill=content)) +\n",
    "  geom_rect() +\n",
    "  geom_text( x=2, aes(y=labelPosition, label=label), size=4) + # x here controls label position (inner / outer)\n",
    "  #scale_fill_brewer(palette=3) +\n",
    "  scale_color_brewer(palette=3) +\n",
    "  coord_polar(theta=\"y\") +\n",
    "  xlim(c(-1, 4)) +\n",
    "  labs( x=NULL, \n",
    "       y=NULL, \n",
    "       title=\"Distribution of Playstore Content Ratings\")+\n",
    "  theme_void() +\n",
    "  theme(legend.position = \"none\")+theme(plot.title = element_text(hjust=0.5,size=22)) "
   ]
  },
  {
   "cell_type": "markdown",
   "metadata": {},
   "source": [
    "<a id=\"25\"></a>\n",
    "<font color=\"darkblue\" size=+2.5><b>25. Basic Time Series</b></font>\n",
    "\n",
    "<a href=\"#top\" class=\"btn btn-primary btn-sm\" role=\"button\" aria-pressed=\"true\" style=\"color:white\" data-toggle=\"popover\" title=\"go to Colors\">Go to TOC</a>"
   ]
  },
  {
   "cell_type": "markdown",
   "metadata": {},
   "source": [
    "**Purpose** : Relationship between variables with respective to time\n",
    "\n",
    "**Question** : How many COVID deaths were observed over time in Australia?"
   ]
  },
  {
   "cell_type": "code",
   "execution_count": null,
   "metadata": {
    "_kg_hide-input": true,
    "_kg_hide-output": true
   },
   "outputs": [],
   "source": [
    "covid$country=covid$'Country/Region'\n",
    "covid$ObservationDate<-as.Date(covid$ObservationDate, format=\"%m/%d/%Y\")\n",
    "\n",
    "aus_deaths<-covid%>%filter(country=='Australia')%>%\n",
    " group_by(ObservationDate) %>%\n",
    "  summarise(total = sum(Deaths, na.rm = TRUE))"
   ]
  },
  {
   "cell_type": "code",
   "execution_count": null,
   "metadata": {},
   "outputs": [],
   "source": [
    "fig(12,8)\n",
    "ggplot(aus_deaths, aes(x=ObservationDate)) + \n",
    "  geom_line(aes(y=total)) + \n",
    "    labs(x=\"Date\",\n",
    "         y=\"Number of Deaths\", \n",
    "       title=\"Distribution of COVID Deaths in Australia \")+ \n",
    "theme_bw()+\n",
    "theme(plot.title = element_text(size=22)\n",
    "      ,axis.text.x= element_text(size=15),\n",
    "       axis.text.y= element_text(size=15),\n",
    "        axis.title=element_text(size=18))\n",
    "\n",
    "# Reference - https://www.r-graph-gallery.com/279-plotting-time-series-with-ggplot2.html"
   ]
  },
  {
   "cell_type": "markdown",
   "metadata": {},
   "source": [
    "<a id=\"26\"></a>\n",
    "<font color=\"darkblue\" size=+2.5><b>26. Time Series Color</b></font>\n",
    "\n",
    "<a href=\"#top\" class=\"btn btn-primary btn-sm\" role=\"button\" aria-pressed=\"true\" style=\"color:white\" data-toggle=\"popover\" title=\"go to Colors\">Go to TOC</a>"
   ]
  },
  {
   "cell_type": "markdown",
   "metadata": {},
   "source": [
    "**Purpose** : Relationship between variables with respective to time with different color\n",
    "\n",
    "**Question** : How many COVID deaths were observed over time in Australia?"
   ]
  },
  {
   "cell_type": "code",
   "execution_count": null,
   "metadata": {},
   "outputs": [],
   "source": [
    "fig(12,8)\n",
    "ggplot(aus_deaths, aes(x=ObservationDate)) + \n",
    "  geom_line(aes(y=total),color=\"red\") + \n",
    "    labs(x=\"Date\",\n",
    "         y=\"Number of Deaths\", \n",
    "       title=\"Distribution of COVID Deaths in Australia\")+ \n",
    "theme_bw()+\n",
    "theme(plot.title = element_text(size=22)\n",
    "      ,axis.text.x= element_text(size=15),\n",
    "       axis.text.y= element_text(size=15),\n",
    "        axis.title=element_text(size=18))"
   ]
  },
  {
   "cell_type": "markdown",
   "metadata": {},
   "source": [
    "<a id=\"27\"></a>\n",
    "<font color=\"darkblue\" size=+2.5><b>27. Multiple Time Series</b></font>\n",
    "\n",
    "<a href=\"#top\" class=\"btn btn-primary btn-sm\" role=\"button\" aria-pressed=\"true\" style=\"color:white\" data-toggle=\"popover\" title=\"go to Colors\">Go to TOC</a>"
   ]
  },
  {
   "cell_type": "markdown",
   "metadata": {},
   "source": [
    "**Purpose** : Relationship between variables with respective to time for multiple categories\n",
    "\n",
    "**Question** : How many COVID deaths were observed over time in UK,US,India?"
   ]
  },
  {
   "cell_type": "code",
   "execution_count": null,
   "metadata": {
    "_kg_hide-input": true,
    "_kg_hide-output": true
   },
   "outputs": [],
   "source": [
    "us_china_deaths<-covid%>%filter(country=='US'|country=='UK'|country=='India')%>%\n",
    " group_by(country,ObservationDate) %>%\n",
    "  summarise(total = sum(Deaths, na.rm = TRUE))"
   ]
  },
  {
   "cell_type": "code",
   "execution_count": null,
   "metadata": {},
   "outputs": [],
   "source": [
    "fig(12,8)\n",
    "    ggplot(us_china_deaths, aes(x=ObservationDate,color=country)) + \n",
    "  geom_line(aes(y=total)) + \n",
    "    labs(x=\"Date\",\n",
    "         y=\"Number of Deaths\", \n",
    "       title=\"Distribution of COVID Deaths in United Kingdom,United States,India\")+ \n",
    "theme_bw()+\n",
    "theme(plot.title = element_text(size=22)\n",
    "      ,axis.text.x= element_text(size=15),\n",
    "       axis.text.y= element_text(size=15),\n",
    "        axis.title=element_text(size=18))"
   ]
  },
  {
   "cell_type": "markdown",
   "metadata": {},
   "source": [
    "<a id=\"28\"></a>\n",
    "<font color=\"darkblue\" size=+2.5><b>28. Format axis - Time Series</b></font>\n",
    "\n",
    "<a href=\"#top\" class=\"btn btn-primary btn-sm\" role=\"button\" aria-pressed=\"true\" style=\"color:white\" data-toggle=\"popover\" title=\"go to Colors\">Go to TOC</a>"
   ]
  },
  {
   "cell_type": "markdown",
   "metadata": {},
   "source": [
    "**Purpose** : Relationship between variables with respective to time for multiple categories with formatted axis (labels & breaks)\n",
    "\n",
    "**Question** : How many COVID deaths were observed over time in UK,US,India with custom labels & date breaks?"
   ]
  },
  {
   "cell_type": "code",
   "execution_count": null,
   "metadata": {},
   "outputs": [],
   "source": [
    "fig(12,8)\n",
    "    ggplot(us_china_deaths, aes(x=ObservationDate,color=country)) + \n",
    "  geom_line(aes(y=total)) + \n",
    "    labs(x=\"Date\",\n",
    "         y=\"Number of Deaths\", \n",
    "       title=\"Distribution of COVID Deaths in UK,US,India\")+ \n",
    "  scale_x_date(date_labels=\"%Y-%b\",date_breaks=\"1 month\")+  # Formating of x axis - Labels & Date Breaks\n",
    "\n",
    "theme_bw()+\n",
    "theme(plot.title = element_text(size=22)\n",
    "      ,axis.text.x= element_text(size=15),\n",
    "       axis.text.y= element_text(size=15),\n",
    "        axis.title=element_text(size=18))"
   ]
  },
  {
   "cell_type": "markdown",
   "metadata": {},
   "source": [
    "<a id=\"29\"></a>\n",
    "<font color=\"brown\" size=+2.5><b>29. Basic Box Plot</b></font>\n",
    "\n",
    "<a href=\"#top\" class=\"btn btn-primary btn-sm\" role=\"button\" aria-pressed=\"true\" style=\"color:white\" data-toggle=\"popover\" title=\"go to Colors\">Go to TOC</a>"
   ]
  },
  {
   "cell_type": "markdown",
   "metadata": {},
   "source": [
    "**Purpose** : Display distribution of a continuous variable.\n",
    "\n",
    "**Question** : How are the score spread for different universities in Germany?"
   ]
  },
  {
   "cell_type": "code",
   "execution_count": null,
   "metadata": {
    "_kg_hide-input": true
   },
   "outputs": [],
   "source": [
    "german_university<-university%>%filter(country=='Germany')"
   ]
  },
  {
   "cell_type": "code",
   "execution_count": null,
   "metadata": {},
   "outputs": [],
   "source": [
    "fig(12,8)\n",
    "ggplot(german_university, aes(y=score))+ \n",
    "geom_boxplot(varwidth=T, fill=\"lightblue\")  +\n",
    "labs(x=\"\",\n",
    "    y=\"Score\", \n",
    "    title=\"Distribution of German Universities Score\")+  \n",
    "theme_bw()+\n",
    "theme(plot.title = element_text(size=22)\n",
    "      ,axis.text.x= element_text(size=15),\n",
    "       axis.text.y= element_text(size=15),\n",
    "        axis.title=element_text(size=18))"
   ]
  },
  {
   "cell_type": "markdown",
   "metadata": {},
   "source": [
    "<a id=\"30\"></a>\n",
    "<font color=\"brown\" size=+2.5><b>30. Multiple Box Plot</b></font>\n",
    "\n",
    "<a href=\"#top\" class=\"btn btn-primary btn-sm\" role=\"button\" aria-pressed=\"true\" style=\"color:white\" data-toggle=\"popover\" title=\"go to Colors\">Go to TOC</a>"
   ]
  },
  {
   "cell_type": "markdown",
   "metadata": {},
   "source": [
    "**Purpose** : Display distribution of a continuous variable.\n",
    "\n",
    "**Question** : How are the score spread for different universities in Canada,Germany & UK?"
   ]
  },
  {
   "cell_type": "code",
   "execution_count": null,
   "metadata": {
    "_kg_hide-input": true
   },
   "outputs": [],
   "source": [
    "three_university<-university%>%filter(country=='Germany'|country=='United Kingdom'|country=='Canada')"
   ]
  },
  {
   "cell_type": "code",
   "execution_count": null,
   "metadata": {},
   "outputs": [],
   "source": [
    "fig(12,8)\n",
    "ggplot(three_university, aes(y=score,fill=country))+ \n",
    "geom_boxplot(varwidth=T)  +\n",
    "labs(x=\"\",\n",
    "         y=\"Score\", \n",
    "       title=\"Distribution of German ,United Kingdom & Canada Universities Score\")+  \n",
    "theme_bw()+\n",
    "theme(plot.title = element_text(size=22)\n",
    "      ,axis.text.x= element_text(size=15),\n",
    "       axis.text.y= element_text(size=15),\n",
    "        axis.title=element_text(size=18))"
   ]
  },
  {
   "cell_type": "markdown",
   "metadata": {},
   "source": [
    "<a id=\"31\"></a>\n",
    "<font color=\"brown\" size=+2.5><b>31. Grouped Box Plot</b></font>\n",
    "\n",
    "<a href=\"#top\" class=\"btn btn-primary btn-sm\" role=\"button\" aria-pressed=\"true\" style=\"color:white\" data-toggle=\"popover\" title=\"go to Colors\">Go to TOC</a>"
   ]
  },
  {
   "cell_type": "markdown",
   "metadata": {},
   "source": [
    "**Purpose** : Display distribution of a continuous variable for different categories.\n",
    "\n",
    "**Question** : How were the age spread for passengers travelled in different classes with respect to gender in Titanic?"
   ]
  },
  {
   "cell_type": "code",
   "execution_count": null,
   "metadata": {},
   "outputs": [],
   "source": [
    "fig(12,8)\n",
    "ggplot(titanic, aes(factor(Pclass), Age)) + \n",
    "geom_boxplot(aes(fill=factor(Sex))) +\n",
    "labs(x=\"Pclass\",\n",
    "         y=\"Age\", \n",
    "     fill=\"Gender\",\n",
    "       title=\"Distribution of Titanic Passengers Age from different class\")+  \n",
    "theme_bw()+\n",
    "theme(plot.title = element_text(size=22)\n",
    "      ,axis.text.x= element_text(size=15),\n",
    "       axis.text.y= element_text(size=15),\n",
    "        axis.title=element_text(size=18))"
   ]
  },
  {
   "cell_type": "markdown",
   "metadata": {},
   "source": [
    "<a id=\"32\"></a>\n",
    "<font color=\"brown\" size=+2.5><b>32. Customized - Box Plot</b></font>\n",
    "\n",
    "<a href=\"#top\" class=\"btn btn-primary btn-sm\" role=\"button\" aria-pressed=\"true\" style=\"color:white\" data-toggle=\"popover\" title=\"go to Colors\">Go to TOC</a>"
   ]
  },
  {
   "cell_type": "markdown",
   "metadata": {},
   "source": [
    "**Purpose** : Display distribution of a continuous variable for different categories.\n",
    "\n",
    "**Question** : How were the age spread for passengers travelled in different classes with respect to gender in Titanic?(Customized color & Legend positions)"
   ]
  },
  {
   "cell_type": "code",
   "execution_count": null,
   "metadata": {},
   "outputs": [],
   "source": [
    "fig(12,8)\n",
    "ggplot(titanic, aes(factor(Pclass), Age)) + \n",
    "geom_boxplot(aes(fill=factor(Sex))) +\n",
    "labs(x=\"Pclass\",\n",
    "         y=\"Age\", \n",
    "     fill=\"Gender\",\n",
    "       title=\"Distribution of Titanic Passengers Age from different Class\")+ \n",
    "scale_fill_brewer(palette=\"Dark2\")+  # Custom theme\n",
    "theme(plot.title = element_text(size=22)\n",
    "      ,axis.text.x= element_text(size=15),\n",
    "       axis.text.y= element_text(size=15),\n",
    "        axis.title=element_text(size=18),\n",
    "     legend.position=\"bottom\") +   # change legend position\n",
    " scale_x_discrete(limits=c(\"2\", \"3\", \"1\"))"
   ]
  },
  {
   "cell_type": "markdown",
   "metadata": {},
   "source": [
    "<a id=\"33\"></a>\n",
    "<font color=\"brown\" size=+2.5><b>33. Box & Dot Plot</b></font>\n",
    "\n",
    "<a href=\"#top\" class=\"btn btn-primary btn-sm\" role=\"button\" aria-pressed=\"true\" style=\"color:white\" data-toggle=\"popover\" title=\"go to Colors\">Go to TOC</a>"
   ]
  },
  {
   "cell_type": "markdown",
   "metadata": {},
   "source": [
    "**Purpose** : Display distribution of a continuous variable for different categories.\n",
    "\n",
    "**Question** : How were the age spread for passengers travelled in titanic with respect to gender?"
   ]
  },
  {
   "cell_type": "code",
   "execution_count": null,
   "metadata": {},
   "outputs": [],
   "source": [
    "fig(12,8)\n",
    "ggplot(titanic, aes(factor(Sex), Age)) + \n",
    "geom_boxplot(aes(fill=factor(Sex))) +\n",
    " geom_dotplot(binaxis='y', \n",
    "               stackdir='center', \n",
    "               dotsize = .5, \n",
    "               fill=\"red\") +\n",
    "labs(x=\"Gender\",\n",
    "         y=\"Age\", \n",
    "     fill=\"Gender\",\n",
    "       title=\"Distribution of Titanic Passengers Age from different Gender\")+  \n",
    "theme_bw()+\n",
    "theme(plot.title = element_text(size=22)\n",
    "      ,axis.text.x= element_text(size=15),\n",
    "       axis.text.y= element_text(size=15),\n",
    "        axis.title=element_text(size=18))"
   ]
  },
  {
   "cell_type": "markdown",
   "metadata": {},
   "source": [
    "<a id=\"34\"></a>\n",
    "<font color=\"brown\" size=+2.5><b>34. Tufte Boxplot</b></font>\n",
    "\n",
    "<a href=\"#top\" class=\"btn btn-primary btn-sm\" role=\"button\" aria-pressed=\"true\" style=\"color:white\" data-toggle=\"popover\" title=\"go to Colors\">Go to TOC</a>"
   ]
  },
  {
   "cell_type": "markdown",
   "metadata": {},
   "source": [
    "**Purpose** : Tufte box plot, provided by ggthemes package is inspired by the works of Edward Tufte. Tufte’s Box plot is just a box plot made minimal and visually appealing.\n",
    "\n",
    "**Question** : How are house prices distributed among different sales conditions?"
   ]
  },
  {
   "cell_type": "code",
   "execution_count": null,
   "metadata": {},
   "outputs": [],
   "source": [
    "fig(12,8)\n",
    "ggplot(house, aes(SaleCondition, SalePrice))+\n",
    "geom_tufteboxplot() +\n",
    "labs(x=\"Sales Condition\",\n",
    "         y=\"Price\", \n",
    "       title=\"Distribution of House Prices for different Sales Condition\")+  \n",
    "theme_bw()+\n",
    "theme(plot.title = element_text(size=22)\n",
    "      ,axis.text.x= element_text(size=15),\n",
    "       axis.text.y= element_text(size=15),\n",
    "        axis.title=element_text(size=18))"
   ]
  },
  {
   "cell_type": "markdown",
   "metadata": {},
   "source": [
    "<a id=\"35\"></a>\n",
    "<font color=\"olive\" size=+2.5><b>35. Basic Histogram</b></font>\n",
    "\n",
    "<a href=\"#top\" class=\"btn btn-primary btn-sm\" role=\"button\" aria-pressed=\"true\" style=\"color:white\" data-toggle=\"popover\" title=\"go to Colors\">Go to TOC</a>"
   ]
  },
  {
   "cell_type": "markdown",
   "metadata": {},
   "source": [
    "**Purpose** : Display distribution of a continous variable.\n",
    "\n",
    "**Question** : What is the salary distribution of Computer management graduates?"
   ]
  },
  {
   "cell_type": "code",
   "execution_count": null,
   "metadata": {
    "_kg_hide-input": true
   },
   "outputs": [],
   "source": [
    "com_df<-campus%>%filter(degree_t=='Comm&Mgmt')\n",
    "com_df<-com_df[complete.cases(com_df), ]"
   ]
  },
  {
   "cell_type": "code",
   "execution_count": null,
   "metadata": {},
   "outputs": [],
   "source": [
    "fig(12,8)\n",
    "ggplot(com_df, aes(x=salary)) + \n",
    "geom_histogram(binwidth=10000,fill=\"magenta\")+\n",
    "labs(x=\"Salary\",\n",
    "         y=\"Count\", \n",
    "       title=\"Distribution of Salaries for Comm&Mgmt\")+  \n",
    "theme_bw()+\n",
    "theme(plot.title = element_text(size=22)\n",
    "      ,axis.text.x= element_text(size=15),\n",
    "       axis.text.y= element_text(size=15),\n",
    "        axis.title=element_text(size=18))"
   ]
  },
  {
   "cell_type": "markdown",
   "metadata": {},
   "source": [
    "<a id=\"36\"></a>\n",
    "<font color=\"olive\" size=+2.5><b>36. Histogram Stacked</b></font>\n",
    "\n",
    "<a href=\"#top\" class=\"btn btn-primary btn-sm\" role=\"button\" aria-pressed=\"true\" style=\"color:white\" data-toggle=\"popover\" title=\"go to Colors\">Go to TOC</a>"
   ]
  },
  {
   "cell_type": "markdown",
   "metadata": {},
   "source": [
    "**Purpose** : Display distribution of a continous variable for multiple categories.\n",
    "\n",
    "**Question** : What is the salary distribution of candidates with different specialisations?"
   ]
  },
  {
   "cell_type": "code",
   "execution_count": null,
   "metadata": {
    "_kg_hide-input": true
   },
   "outputs": [],
   "source": [
    "campus<-campus[complete.cases(campus), ]"
   ]
  },
  {
   "cell_type": "code",
   "execution_count": null,
   "metadata": {},
   "outputs": [],
   "source": [
    "fig(12,8)\n",
    "ggplot(campus, aes(x=salary, color=specialisation,fill=specialisation)) +\n",
    "  geom_histogram(alpha=0.2,position=\"identity\",binwidth=10000)+\n",
    "labs(x=\"Salary\",\n",
    "         y=\"Count\", \n",
    "       title=\"Distribution of Salaries for different Specialisation\")+  \n",
    "theme_bw()+\n",
    "theme(plot.title = element_text(size=22)\n",
    "      ,axis.text.x= element_text(size=15),\n",
    "       axis.text.y= element_text(size=15),\n",
    "        axis.title=element_text(size=18))"
   ]
  },
  {
   "cell_type": "markdown",
   "metadata": {},
   "source": [
    "<a id=\"37\"></a>\n",
    "<font color=\"olive\" size=+2.5><b>37. Histogram - Mean & Line type</b></font>\n",
    "\n",
    "<a href=\"#top\" class=\"btn btn-primary btn-sm\" role=\"button\" aria-pressed=\"true\" style=\"color:white\" data-toggle=\"popover\" title=\"go to Colors\">Go to TOC</a>"
   ]
  },
  {
   "cell_type": "markdown",
   "metadata": {},
   "source": [
    "**Purpose** : Display distribution of a continous variable with mean line\n",
    "\n",
    "**Question** : What is the distribution of open price of CIPLA stock?"
   ]
  },
  {
   "cell_type": "code",
   "execution_count": null,
   "metadata": {},
   "outputs": [],
   "source": [
    "fig(12,8)\n",
    "ggplot(cipla, aes(x=Open)) + \n",
    "geom_histogram(binwidth=50,fill=\"lightblue\",linetype=\"dashed\",color=\"black\",size=2)+\n",
    "geom_vline(aes(xintercept=mean(Open)),\n",
    "            color=\"blue\", linetype=\"dashed\", size=2)+\n",
    "labs(x=\"Open Price\",\n",
    "         y=\"Count\", \n",
    "       title=\"Distribution of CIPLA Open Price\")+  \n",
    "theme_bw()+\n",
    "theme(plot.title = element_text(size=22)\n",
    "      ,axis.text.x= element_text(size=15),\n",
    "       axis.text.y= element_text(size=15),\n",
    "        axis.title=element_text(size=18))"
   ]
  },
  {
   "cell_type": "markdown",
   "metadata": {},
   "source": [
    "<a id=\"38\"></a>\n",
    "<font color=\"olive\" size=+2.5><b>38. Facet Histogram</b></font>\n",
    "\n",
    "<a href=\"#top\" class=\"btn btn-primary btn-sm\" role=\"button\" aria-pressed=\"true\" style=\"color:white\" data-toggle=\"popover\" title=\"go to Colors\">Go to TOC</a>"
   ]
  },
  {
   "cell_type": "markdown",
   "metadata": {},
   "source": [
    "**Purpose** : Display distribution of a continous variable with facet\n",
    "\n",
    "**Question** : What is the distribution of open price of pharma stocks?"
   ]
  },
  {
   "cell_type": "code",
   "execution_count": null,
   "metadata": {
    "_kg_hide-input": true
   },
   "outputs": [],
   "source": [
    "med_stock<-nifty%>%filter(Symbol=='CIPLA'|Symbol=='DRREDDY'|Symbol=='SUNPHARMA')"
   ]
  },
  {
   "cell_type": "code",
   "execution_count": null,
   "metadata": {},
   "outputs": [],
   "source": [
    "fig(12,8)\n",
    "ggplot(med_stock, aes(x=Open)) + \n",
    "geom_histogram(binwidth=50,aes(fill=Symbol))+\n",
    "facet_grid(Symbol ~ .)+\n",
    "labs(x=\"Open Price\",\n",
    "         y=\"Count\", \n",
    "       title=\"Distribution of Pharma Stocks Open Price\")+  \n",
    "theme_bw()+\n",
    "theme(plot.title = element_text(size=22)\n",
    "      ,axis.text.x= element_text(size=15),\n",
    "       axis.text.y= element_text(size=15),\n",
    "        axis.title=element_text(size=18))"
   ]
  },
  {
   "cell_type": "markdown",
   "metadata": {},
   "source": [
    "<a id=\"39\"></a>\n",
    "<font color=\"orange\" size=+2.5><b>39. Basic Density Plot</b></font>\n",
    "\n",
    "<a href=\"#top\" class=\"btn btn-primary btn-sm\" role=\"button\" aria-pressed=\"true\" style=\"color:white\" data-toggle=\"popover\" title=\"go to Colors\">Go to TOC</a>"
   ]
  },
  {
   "cell_type": "markdown",
   "metadata": {},
   "source": [
    "**Purpose** : Display distribution of a continous variable with density\n",
    "\n",
    "**Question** : What is the distribution of victims over all states in US?"
   ]
  },
  {
   "cell_type": "code",
   "execution_count": null,
   "metadata": {
    "_kg_hide-input": true
   },
   "outputs": [],
   "source": [
    "police$state<-as.factor(police$state)\n",
    "death_by_state<-count(police$state)"
   ]
  },
  {
   "cell_type": "code",
   "execution_count": null,
   "metadata": {},
   "outputs": [],
   "source": [
    "fig(12,8)\n",
    "ggplot(death_by_state, aes(x=freq))+\n",
    "  geom_density(color=\"darkblue\", fill=\"lightblue\",alpha=0.7)+\n",
    "labs(x=\"Deaths Per State\",\n",
    "         y=\"Count\", \n",
    "       title=\"Distribution of Victims in United States\")+  \n",
    "theme_bw()+\n",
    "theme(plot.title = element_text(size=22)\n",
    "      ,axis.text.x= element_text(size=15),\n",
    "       axis.text.y= element_text(size=15),\n",
    "        axis.title=element_text(size=18))"
   ]
  },
  {
   "cell_type": "markdown",
   "metadata": {},
   "source": [
    "<a id=\"40\"></a>\n",
    "<font color=\"orange\" size=+2.5><b>40. Multiple Density</b></font>\n",
    "\n",
    "<a href=\"#top\" class=\"btn btn-primary btn-sm\" role=\"button\" aria-pressed=\"true\" style=\"color:white\" data-toggle=\"popover\" title=\"go to Colors\">Go to TOC</a>"
   ]
  },
  {
   "cell_type": "markdown",
   "metadata": {},
   "source": [
    "**Purpose** : Display distribution of a continous variable with density for multiple categories\n",
    "\n",
    "**Question** : What is the distribution of patient age based on different severities ?"
   ]
  },
  {
   "cell_type": "code",
   "execution_count": null,
   "metadata": {},
   "outputs": [],
   "source": [
    "fig(12,8)\n",
    "ggplot(health_df, aes(x=age))+\n",
    "  geom_density(aes(fill=Severity),alpha=0.7)+\n",
    "labs(x=\"Age\",\n",
    "         y=\"Count\", \n",
    "       title=\"Distribution of Patiens age for different Severity\")+  \n",
    "theme_bw()+\n",
    "theme(plot.title = element_text(size=22)\n",
    "      ,axis.text.x= element_text(size=15),\n",
    "       axis.text.y= element_text(size=15),\n",
    "        axis.title=element_text(size=18))"
   ]
  },
  {
   "cell_type": "markdown",
   "metadata": {},
   "source": [
    "<a id=\"41\"></a>\n",
    "<font color=\"orange\" size=+2.5><b>41. Density & Histogram</b></font>\n",
    "\n",
    "<a href=\"#top\" class=\"btn btn-primary btn-sm\" role=\"button\" aria-pressed=\"true\" style=\"color:white\" data-toggle=\"popover\" title=\"go to Colors\">Go to TOC</a>"
   ]
  },
  {
   "cell_type": "markdown",
   "metadata": {},
   "source": [
    "**Purpose** : Display distribution of a continous variable with density and histogram\n",
    "\n",
    "**Question** : What is the distribution of stay days of patients ? (Density + Histogram)"
   ]
  },
  {
   "cell_type": "code",
   "execution_count": null,
   "metadata": {},
   "outputs": [],
   "source": [
    "ggplot(health_df, aes(x=stay)) + \n",
    " geom_histogram(aes(y=..density..), binwidth=5,colour=\"black\", fill=\"white\")+\n",
    " geom_density(alpha=.2, fill=\"red\")+\n",
    " labs(x=\"Stay Days\",\n",
    "         y=\"Count\", \n",
    "       title=\"Distribution of stay days for patients\")+  \n",
    "theme_bw()+\n",
    "theme(plot.title = element_text(size=22)\n",
    "      ,axis.text.x= element_text(size=15),\n",
    "       axis.text.y= element_text(size=15),\n",
    "        axis.title=element_text(size=18))"
   ]
  },
  {
   "cell_type": "markdown",
   "metadata": {},
   "source": [
    "<a id=\"42\"></a>\n",
    "<font color=\"teal\" size=+2.5><b>42. Basic Area Plot</b></font>\n",
    "\n",
    "<a href=\"#top\" class=\"btn btn-primary btn-sm\" role=\"button\" aria-pressed=\"true\" style=\"color:white\" data-toggle=\"popover\" title=\"go to Colors\">Go to TOC</a>"
   ]
  },
  {
   "cell_type": "markdown",
   "metadata": {},
   "source": [
    "**Purpose** : Display distribution of quantitative representaion of a variable\n",
    "\n",
    "**Question** : What is the distribution of space launches by companies?"
   ]
  },
  {
   "cell_type": "code",
   "execution_count": null,
   "metadata": {
    "_kg_hide-input": true
   },
   "outputs": [],
   "source": [
    "space_comp<-count(space$'Company Name')"
   ]
  },
  {
   "cell_type": "code",
   "execution_count": null,
   "metadata": {},
   "outputs": [],
   "source": [
    "fig(12,8)\n",
    "ggplot(space_comp, aes(x=freq))+\n",
    " geom_area(stat = \"bin\",binwidth=50,fill=\"dodgerblue\")+\n",
    "\n",
    " labs(x=\"Launches\",\n",
    "         y=\"Count\", \n",
    "       title=\"Distribution of space launches by all space companies\")+  \n",
    "theme_bw()+\n",
    "theme(plot.title = element_text(size=22)\n",
    "      ,axis.text.x= element_text(size=15),\n",
    "       axis.text.y= element_text(size=15),\n",
    "        axis.title=element_text(size=18))"
   ]
  },
  {
   "cell_type": "markdown",
   "metadata": {},
   "source": [
    "<a id=\"43\"></a>\n",
    "<font color=\"teal\" size=+2.5><b>43. Area - Mean & Line Type</b></font>\n",
    "\n",
    "<a href=\"#top\" class=\"btn btn-primary btn-sm\" role=\"button\" aria-pressed=\"true\" style=\"color:white\" data-toggle=\"popover\" title=\"go to Colors\">Go to TOC</a>"
   ]
  },
  {
   "cell_type": "markdown",
   "metadata": {},
   "source": [
    "**Purpose** : Display distribution of quantitative representaion of a variable with mean and different line type\n",
    "\n",
    "**Question** : What is the distribution of victims over all US states?"
   ]
  },
  {
   "cell_type": "code",
   "execution_count": null,
   "metadata": {},
   "outputs": [],
   "source": [
    "fig(12,8)\n",
    "ggplot(death_by_state, aes(x=freq))+\n",
    "  geom_area(stat=\"bin\",color=\"darkblue\", fill=\"goldenrod\",binwidth=30,linetype=\"dashed\",size=1.5)+\n",
    " geom_vline(aes(xintercept=mean(n)),\n",
    "            color=\"blue\", linetype=\"dashed\", size=2)+\n",
    "labs(x=\"Deaths Per State\",\n",
    "         y=\"Count\", \n",
    "       title=\"Distribution of Victims in US\")+  \n",
    "theme_bw()+\n",
    "theme(plot.title = element_text(size=22)\n",
    "      ,axis.text.x= element_text(size=15),\n",
    "       axis.text.y= element_text(size=15),\n",
    "        axis.title=element_text(size=18))"
   ]
  },
  {
   "cell_type": "markdown",
   "metadata": {},
   "source": [
    "<a id=\"44\"></a>\n",
    "<font color=\"teal\" size=+2.5><b>44. Customized Area Plot</b></font>\n",
    "\n",
    "<a href=\"#top\" class=\"btn btn-primary btn-sm\" role=\"button\" aria-pressed=\"true\" style=\"color:white\" data-toggle=\"popover\" title=\"go to Colors\">Go to TOC</a>"
   ]
  },
  {
   "cell_type": "markdown",
   "metadata": {},
   "source": [
    "**Purpose** : Display distribution of quantitative representaion of a variable with customized color and legend position\n",
    "\n",
    "**Question** : What is the distribution of scores for US & Japan Universities?"
   ]
  },
  {
   "cell_type": "code",
   "execution_count": null,
   "metadata": {
    "_kg_hide-input": true
   },
   "outputs": [],
   "source": [
    "us_jap_university<-university%>%filter(country=='USA'|country=='Japan')"
   ]
  },
  {
   "cell_type": "code",
   "execution_count": null,
   "metadata": {},
   "outputs": [],
   "source": [
    "ggplot(us_jap_university, aes(x=score, fill=country)) +\n",
    "  geom_area(stat =\"bin\",binwidth=1)+\n",
    "labs(x=\"Score\",\n",
    "         y=\"Count\", \n",
    "       title=\"Distribution of scores of US & Japan Universities\")+  \n",
    "scale_fill_manual(name=\"\", \n",
    "                    values = c(\"Japan\"=\"gold\", \"USA\"=\"brown\"))+  # Custom color\n",
    "theme_bw()+\n",
    "theme(plot.title = element_text(size=22)\n",
    "      ,axis.text.x= element_text(size=15),\n",
    "       axis.text.y= element_text(size=15),\n",
    "        axis.title=element_text(size=18))+\n",
    "theme(legend.position=\"bottom\") # Custom legend position"
   ]
  },
  {
   "cell_type": "markdown",
   "metadata": {},
   "source": [
    "<a id=\"45\"></a>\n",
    "<font color=\"violet\" size=+2.5><b>45. Basic Violin Plot</b></font>\n",
    "\n",
    "<a href=\"#top\" class=\"btn btn-primary btn-sm\" role=\"button\" aria-pressed=\"true\" style=\"color:white\" data-toggle=\"popover\" title=\"go to Colors\">Go to TOC</a>"
   ]
  },
  {
   "cell_type": "markdown",
   "metadata": {},
   "source": [
    "**Purpose** : Display the distribution of a continous variable in violin plot\n",
    "\n",
    "**Question** : How much spread does the house sales price have?"
   ]
  },
  {
   "cell_type": "code",
   "execution_count": null,
   "metadata": {},
   "outputs": [],
   "source": [
    "fig(12,8)\n",
    "ggplot(house, aes(x=\"\", y=SalePrice)) + \n",
    "  geom_violin(fill=\"darkgreen\")+\n",
    "labs(x=\"\",\n",
    "         y=\"Sales Price\", \n",
    "       title=\"Distribution of house Sales Price\")+  \n",
    "theme_bw()+\n",
    "theme(plot.title = element_text(size=22)\n",
    "      ,axis.text.x= element_text(size=15),\n",
    "       axis.text.y= element_text(size=15),\n",
    "        axis.title=element_text(size=18))\n"
   ]
  },
  {
   "cell_type": "markdown",
   "metadata": {},
   "source": [
    "<a id=\"46\"></a>\n",
    "<font color=\"violet\" size=+2.5><b>46. Violin - Group</b></font>\n",
    "\n",
    "<a href=\"#top\" class=\"btn btn-primary btn-sm\" role=\"button\" aria-pressed=\"true\" style=\"color:white\" data-toggle=\"popover\" title=\"go to Colors\">Go to TOC</a>"
   ]
  },
  {
   "cell_type": "markdown",
   "metadata": {},
   "source": [
    "**Purpose** : Display the distribution of a continous variable in violin plot for multiple categories\n",
    "\n",
    "**Question** : How much spread does the house sales price have for different Lotshapes?"
   ]
  },
  {
   "cell_type": "code",
   "execution_count": null,
   "metadata": {},
   "outputs": [],
   "source": [
    "fig(12,8)\n",
    "ggplot(house, aes(x=LotShape, y=SalePrice,fill=LotShape)) + \n",
    "  geom_violin()+\n",
    "labs(x=\"\",\n",
    "         y=\"Sales Price\", \n",
    "       title=\"Distribution of House Sales Prices for LotShape\")+  \n",
    "theme_bw()+\n",
    "theme(plot.title = element_text(size=22)\n",
    "      ,axis.text.x= element_text(size=15),\n",
    "       axis.text.y= element_text(size=15),\n",
    "        axis.title=element_text(size=18))"
   ]
  },
  {
   "cell_type": "markdown",
   "metadata": {},
   "source": [
    "<a id=\"47\"></a>\n",
    "<font color=\"violet\" size=+2.5><b>47. Violin - Mean & SD</b></font>\n",
    "\n",
    "<a href=\"#top\" class=\"btn btn-primary btn-sm\" role=\"button\" aria-pressed=\"true\" style=\"color:white\" data-toggle=\"popover\" title=\"go to Colors\">Go to TOC</a>"
   ]
  },
  {
   "cell_type": "markdown",
   "metadata": {},
   "source": [
    "**Purpose** : Display the distribution of a continous variable in violin plot with mean & SD\n",
    "\n",
    "**Question** : How much spread does the house sales price have for different Lotshape?"
   ]
  },
  {
   "cell_type": "code",
   "execution_count": null,
   "metadata": {},
   "outputs": [],
   "source": [
    "fig(12,8)\n",
    "ggplot(house, aes(x=LotShape, y=SalePrice)) + \n",
    "  geom_violin(trim=FALSE)+\n",
    "labs(x=\"\",\n",
    "         y=\"Sales Price\", \n",
    "       title=\"Distribution of House Sales Prices for LotShape\")+  \n",
    "theme_bw()+\n",
    "theme(plot.title = element_text(size=22)\n",
    "      ,axis.text.x= element_text(size=15),\n",
    "       axis.text.y= element_text(size=15),\n",
    "        axis.title=element_text(size=18))+\n",
    "stat_summary(fun.data=mean_sdl, \n",
    "                 geom=\"pointrange\", color=\"red\")"
   ]
  },
  {
   "cell_type": "markdown",
   "metadata": {},
   "source": [
    "<a id=\"48\"></a>\n",
    "<font color=\"violet\" size=+2.5><b>48. Violin - Boxplot</b></font>\n",
    "\n",
    "<a href=\"#top\" class=\"btn btn-primary btn-sm\" role=\"button\" aria-pressed=\"true\" style=\"color:white\" data-toggle=\"popover\" title=\"go to Colors\">Go to TOC</a>"
   ]
  },
  {
   "cell_type": "markdown",
   "metadata": {},
   "source": [
    "**Purpose** : Display the distribution of a continous variable in violin plot with boxplot\n",
    "\n",
    "**Question** : How much spread does the house sales price have for different Lotshape?"
   ]
  },
  {
   "cell_type": "code",
   "execution_count": null,
   "metadata": {},
   "outputs": [],
   "source": [
    "fig(12,8)\n",
    "ggplot(house, aes(x=LotShape, y=SalePrice,fill=LotShape)) + \n",
    "  geom_violin()+\n",
    "geom_boxplot(width=0.1)+\n",
    "labs(x=\"\",\n",
    "         y=\"Sales Price\", \n",
    "       title=\"Distribution of House Sales Prices for LotShape\")+  \n",
    "theme_bw()+\n",
    "theme(plot.title = element_text(size=22)\n",
    "      ,axis.text.x= element_text(size=15),\n",
    "       axis.text.y= element_text(size=15),\n",
    "        axis.title=element_text(size=18))\n"
   ]
  },
  {
   "cell_type": "markdown",
   "metadata": {},
   "source": [
    "<a id=\"49\"></a>\n",
    "<font color=\"violet\" size=+2.5><b>49. Violin - Dotplot</b></font>\n",
    "\n",
    "<a href=\"#top\" class=\"btn btn-primary btn-sm\" role=\"button\" aria-pressed=\"true\" style=\"color:white\" data-toggle=\"popover\" title=\"go to Colors\">Go to TOC</a>"
   ]
  },
  {
   "cell_type": "markdown",
   "metadata": {},
   "source": [
    "**Purpose** : Display the distribution of a continous variable in violin plot with dotplot\n",
    "\n",
    "**Question** : How much spread does the house sales price have for different Lotshape?"
   ]
  },
  {
   "cell_type": "code",
   "execution_count": null,
   "metadata": {},
   "outputs": [],
   "source": [
    "\n",
    "fig(12,8)\n",
    "ggplot(house, aes(x=LotShape, y=SalePrice,fill=LotShape)) + \n",
    "  geom_violin()+\n",
    "geom_jitter(shape=16, position=position_jitter(0.2))+\n",
    "labs(x=\"\",\n",
    "         y=\"Sales Price\", \n",
    "       title=\"Distribution of House Sales Prices for LotShape\")+  \n",
    "theme_bw()+\n",
    "theme(plot.title = element_text(size=22)\n",
    "      ,axis.text.x= element_text(size=15),\n",
    "       axis.text.y= element_text(size=15),\n",
    "        axis.title=element_text(size=18))\n"
   ]
  },
  {
   "cell_type": "markdown",
   "metadata": {},
   "source": [
    "<a id=\"50\"></a>\n",
    "<font color=\"tomato\" size=+2.5><b>50. 2D Density</b></font>\n",
    "\n",
    "<a href=\"#top\" class=\"btn btn-primary btn-sm\" role=\"button\" aria-pressed=\"true\" style=\"color:white\" data-toggle=\"popover\" title=\"go to Colors\">Go to TOC</a>"
   ]
  },
  {
   "cell_type": "markdown",
   "metadata": {},
   "source": [
    "**Purpose** : Display the density of two continuous variable\n",
    "\n",
    "**Question** : How much dense would be the relationship between age and stay days for patients?"
   ]
  },
  {
   "cell_type": "code",
   "execution_count": null,
   "metadata": {},
   "outputs": [],
   "source": [
    "ggplot(health_df, aes(x=age, y=stay) ) +\n",
    "  geom_bin2d(bins = 10) +\n",
    "  scale_fill_continuous(type = \"viridis\") +\n",
    "  theme_bw()+\n",
    "labs(x=\"Age\",\n",
    "         y=\"Stay\", \n",
    "       title=\"Distribution of Age & Stay Days\")+  \n",
    "theme(plot.title = element_text(size=22)\n",
    "      ,axis.text.x= element_text(size=15),\n",
    "       axis.text.y= element_text(size=15),\n",
    "       axis.title=element_text(size=18))"
   ]
  },
  {
   "cell_type": "markdown",
   "metadata": {},
   "source": [
    "<a id=\"51\"></a>\n",
    "<font color=\"tomato\" size=+2.5><b>51. 2D Density - Area & Contour</b></font>\n",
    "\n",
    "<a href=\"#top\" class=\"btn btn-primary btn-sm\" role=\"button\" aria-pressed=\"true\" style=\"color:white\" data-toggle=\"popover\" title=\"go to Colors\">Go to TOC</a>"
   ]
  },
  {
   "cell_type": "markdown",
   "metadata": {},
   "source": [
    "**Purpose** : Display the density of two continuous variable with area & contour plot\n",
    "\n",
    "**Question** : How much dense would be the relationship between age and stay days for patients?"
   ]
  },
  {
   "cell_type": "code",
   "execution_count": null,
   "metadata": {},
   "outputs": [],
   "source": [
    "ggplot(health_df, aes(x=age, y=stay) ) +\n",
    "  stat_density_2d(aes(fill = ..level..), geom = \"polygon\", colour=\"white\")+\n",
    "  scale_fill_continuous(type = \"viridis\") +\n",
    "  theme_bw()+\n",
    "labs(x=\"Age\",\n",
    "         y=\"Stay\", \n",
    "       title=\"Distribution of Age & Stay Days\")+  \n",
    "theme(plot.title = element_text(size=22)\n",
    "      ,axis.text.x= element_text(size=15),\n",
    "       axis.text.y= element_text(size=15),\n",
    "        axis.title=element_text(size=18))\n",
    "  "
   ]
  },
  {
   "cell_type": "markdown",
   "metadata": {},
   "source": [
    "<a id=\"52\"></a>\n",
    "<font color=\"tomato\" size=+2.5><b>52. 2D Density - Raster</b></font>\n",
    "\n",
    "<a href=\"#top\" class=\"btn btn-primary btn-sm\" role=\"button\" aria-pressed=\"true\" style=\"color:white\" data-toggle=\"popover\" title=\"go to Colors\">Go to TOC</a>"
   ]
  },
  {
   "cell_type": "markdown",
   "metadata": {},
   "source": [
    "**Purpose** : Display the density of two continuous variable with raster\n",
    "\n",
    "**Question** : How much dense would be the relationship between age and stay days for patients?"
   ]
  },
  {
   "cell_type": "code",
   "execution_count": null,
   "metadata": {},
   "outputs": [],
   "source": [
    "ggplot(health_df, aes(x=age, y=stay) ) +\n",
    "  stat_density_2d(aes(fill = ..density..), geom = \"raster\", contour = FALSE) +\n",
    "   scale_fill_distiller(palette= \"Spectral\", direction=1) +\n",
    "  scale_x_continuous(expand = c(0, 0)) +\n",
    "  scale_y_continuous(expand = c(0, 0)) +\n",
    "  theme(\n",
    "    legend.position='none')+\n",
    "labs(x=\"Age\",\n",
    "     y=\"Stay\", \n",
    "     title=\"Distribution of Age & Stay Days\")+  \n",
    "theme(plot.title = element_text(size=22)\n",
    "      ,axis.text.x= element_text(size=15),\n",
    "       axis.text.y= element_text(size=15),\n",
    "        axis.title=element_text(size=18))"
   ]
  },
  {
   "cell_type": "markdown",
   "metadata": {},
   "source": [
    "<a id=\"53\"></a>\n",
    "<font color=\"indigo\" size=+2.5><b>53. Dendogram</b></font>\n",
    "\n",
    "<a href=\"#top\" class=\"btn btn-primary btn-sm\" role=\"button\" aria-pressed=\"true\" style=\"color:white\" data-toggle=\"popover\" title=\"go to Colors\">Go to TOC</a>"
   ]
  },
  {
   "cell_type": "code",
   "execution_count": null,
   "metadata": {
    "_kg_hide-input": true,
    "_kg_hide-output": true
   },
   "outputs": [],
   "source": [
    "all_country_covid<-covid%>%select(country,Confirmed,Deaths,Recovered)%>%group_by(country)%>%\n",
    "      summarise_all(list(sum))\n",
    "all_country_covid_df=select(all_country_covid, -1)\n",
    "rownames(all_country_covid_df)<-all_country_covid$country"
   ]
  },
  {
   "cell_type": "code",
   "execution_count": null,
   "metadata": {},
   "outputs": [],
   "source": [
    "#all_country_covid_df\n",
    "hc_covid <- hclust(dist(sample_n(all_country_covid_df, 30)), \"ave\")  \n",
    "\n",
    "fig(12,14)\n",
    "ggdendrogram(hc_covid, rotate = TRUE, size = 2)+\n",
    "theme_set(theme_bw())+\n",
    "labs(x=\"Countries\",\n",
    "     y=\"Count\", \n",
    "     title=\"Dendogram of COVID impact on different countries\")+  \n",
    "theme(plot.title = element_text(size=22)\n",
    "      ,axis.text.x= element_text(size=15),\n",
    "       axis.text.y= element_text(size=15),\n",
    "        axis.title=element_text(size=18))"
   ]
  },
  {
   "cell_type": "markdown",
   "metadata": {},
   "source": [
    "<a id=\"54\"></a>\n",
    "<font color=\"indigo\" size=+2.5><b>54. Clusters</b></font>\n",
    "\n",
    "<a href=\"#top\" class=\"btn btn-primary btn-sm\" role=\"button\" aria-pressed=\"true\" style=\"color:white\" data-toggle=\"popover\" title=\"go to Colors\">Go to TOC</a>"
   ]
  },
  {
   "cell_type": "code",
   "execution_count": null,
   "metadata": {},
   "outputs": [],
   "source": [
    "# Compute data with principal components ------------------\n",
    "df <- iris[c(1, 2, 3, 4)]\n",
    "pca_mod <- prcomp(df)  # compute principal components\n",
    "\n",
    "# Data frame of principal components ----------------------\n",
    "df_pc <- data.frame(pca_mod$x, Species=iris$Species)  # dataframe of principal components\n",
    "df_pc_vir <- df_pc[df_pc$Species == \"virginica\", ]  # df for 'virginica'\n",
    "df_pc_set <- df_pc[df_pc$Species == \"setosa\", ]  # df for 'setosa'\n",
    "df_pc_ver <- df_pc[df_pc$Species == \"versicolor\", ]  # df for 'versicolor'\n",
    " \n",
    "# Plot ----------------------------------------------------\n",
    "fig(12,8)\n",
    "ggplot(df_pc, aes(PC1, PC2, col=Species)) + \n",
    "  geom_point(aes(shape=Species), size=2)  + \n",
    "  coord_cartesian(xlim = 1.2 * c(min(df_pc$PC1), max(df_pc$PC1)), \n",
    "                  ylim = 1.2 * c(min(df_pc$PC2), max(df_pc$PC2))) +   # change axis limits\n",
    "  geom_encircle(data = df_pc_vir, aes(x=PC1, y=PC2)) +   # draw circles\n",
    "  geom_encircle(data = df_pc_set, aes(x=PC1, y=PC2)) + \n",
    "  geom_encircle(data = df_pc_ver, aes(x=PC1, y=PC2))+\n",
    "labs(title=\"Species Clusters from Iris dataset\")+  \n",
    "theme(plot.title = element_text(size=22)\n",
    "      ,axis.text.x= element_text(size=15),\n",
    "       axis.text.y= element_text(size=15),\n",
    "        axis.title=element_text(size=18))\n",
    "\n",
    "# Source: http://r-statistics.co/Top50-Ggplot2-Visualizations-MasterList-R-Code.html#Clusters"
   ]
  },
  {
   "cell_type": "markdown",
   "metadata": {},
   "source": [
    "<a id=\"55\"></a>\n",
    "<font color=\"darkpink\" size=+2.5><b>55. Waffle Chart</b></font>\n",
    "\n",
    "<a href=\"#top\" class=\"btn btn-primary btn-sm\" role=\"button\" aria-pressed=\"true\" style=\"color:white\" data-toggle=\"popover\" title=\"go to Colors\">Go to TOC</a>"
   ]
  },
  {
   "cell_type": "markdown",
   "metadata": {},
   "source": [
    "**Purpose** : Display the proportion of categorical variable in waffle\n",
    "\n",
    "**Question** : What is the proportion among passenger classes allocation in Titanic?"
   ]
  },
  {
   "cell_type": "code",
   "execution_count": null,
   "metadata": {},
   "outputs": [],
   "source": [
    "titanic$Pclass<-as.factor(titanic$Pclass)\n",
    "var <- titanic$Pclass # the categorical data \n",
    "\n",
    "## Prep data (nothing to change here)\n",
    "nrows <- 10\n",
    "df <- expand.grid(y = 1:nrows, x = 1:nrows)\n",
    "categ_table <- round(table(var) * ((nrows*nrows)/(length(var)-1)))\n",
    "\n",
    "\n",
    "df$category <- factor(rep(names(categ_table), categ_table))  \n",
    "# NOTE: if sum(categ_table) is not 100 (i.e. nrows^2), it will need adjustment to make the sum to 100.\n",
    "\n",
    "## Plot\n",
    "fig(12,8)\n",
    "ggplot(df, aes(x = x, y = y, fill = category)) + \n",
    "        geom_tile(color = \"black\", size = 0.5) +\n",
    "        scale_x_continuous(expand = c(0, 0)) +\n",
    "        scale_y_continuous(expand = c(0, 0), trans = 'reverse') +\n",
    "        labs(title=\"Waffle Chart - Titanic Passenger Class Allocation\",fill=\"Pclass\") + \n",
    "        theme(plot.title = element_text(size=22))+\n",
    "        theme(panel.border = element_rect(size = 2),\n",
    "              axis.text = element_blank(),\n",
    "              axis.title = element_blank(),\n",
    "              axis.ticks = element_blank(),\n",
    "              legend.title = element_text(size=15),\n",
    "              legend.position = \"right\")+\n",
    "          scale_fill_manual(values = c(\"1\"=\"blue\",\"2\"=\"green\",\"3\"=\"red\"))"
   ]
  },
  {
   "cell_type": "markdown",
   "metadata": {},
   "source": [
    "<a id=\"56\"></a>\n",
    "<font color=\"darkpink\" size=+2.5><b>56. Basic Treemap</b></font>\n",
    "\n",
    "<a href=\"#top\" class=\"btn btn-primary btn-sm\" role=\"button\" aria-pressed=\"true\" style=\"color:white\" data-toggle=\"popover\" title=\"go to Colors\">Go to TOC</a>"
   ]
  },
  {
   "cell_type": "markdown",
   "metadata": {},
   "source": [
    "**Purpose** : Display the distribution of categorical variable with size\n",
    "\n",
    "**Question** : What is the proportion among windows app categories?"
   ]
  },
  {
   "cell_type": "code",
   "execution_count": null,
   "metadata": {
    "_kg_hide-input": true
   },
   "outputs": [],
   "source": [
    "ms_df<-count(windows$Category)"
   ]
  },
  {
   "cell_type": "code",
   "execution_count": null,
   "metadata": {},
   "outputs": [],
   "source": [
    "# treemap\n",
    "fig(12,8)\n",
    "treemap(ms_df,\n",
    "            index=\"x\",\n",
    "            vSize=\"freq\",\n",
    "            type=\"index\")"
   ]
  },
  {
   "cell_type": "markdown",
   "metadata": {},
   "source": [
    "<a id=\"57\"></a>\n",
    "<font color=\"darkpink\" size=+2.5><b>57. Treemap Group</b></font>\n",
    "\n",
    "<a href=\"#top\" class=\"btn btn-primary btn-sm\" role=\"button\" aria-pressed=\"true\" style=\"color:white\" data-toggle=\"popover\" title=\"go to Colors\">Go to TOC</a>"
   ]
  },
  {
   "cell_type": "markdown",
   "metadata": {},
   "source": [
    "**Purpose** : Display the distribution of multiple categorical variable with size\n",
    "\n",
    "**Question** : What is the proportion among google playstore app categories & genres?"
   ]
  },
  {
   "cell_type": "code",
   "execution_count": null,
   "metadata": {
    "_kg_hide-input": true
   },
   "outputs": [],
   "source": [
    "play_df<-playstore%>%group_by(Category,Genres)%>%tally()"
   ]
  },
  {
   "cell_type": "code",
   "execution_count": null,
   "metadata": {},
   "outputs": [],
   "source": [
    "# treemap\n",
    "fig(12,8)\n",
    "treemap(play_df,\n",
    "            index=c('Category','Genres'),\n",
    "            vSize=\"n\",\n",
    "            type=\"index\")"
   ]
  },
  {
   "cell_type": "markdown",
   "metadata": {},
   "source": [
    "<a id=\"58\"></a>\n",
    "<font color=\"darkpink\" size=+2.5><b>58. Count Chart</b></font>\n",
    "\n",
    "<a href=\"#top\" class=\"btn btn-primary btn-sm\" role=\"button\" aria-pressed=\"true\" style=\"color:white\" data-toggle=\"popover\" title=\"go to Colors\">Go to TOC</a>"
   ]
  },
  {
   "cell_type": "markdown",
   "metadata": {},
   "source": [
    "**Purpose** : Display the distribution of continuous variable with size\n",
    "\n",
    "**Question** : How dense are the ditribution among age and stay of patients?"
   ]
  },
  {
   "cell_type": "code",
   "execution_count": null,
   "metadata": {},
   "outputs": [],
   "source": [
    "ggplot(sample_n(health_df,1000), aes(age, stay)) + \n",
    "geom_count(col=\"tomato3\", show.legend=T)+\n",
    "labs(x=\"Age\",\n",
    "     y=\"Stay\", \n",
    "     title=\"Distribution of Age & Stay Days\")+  \n",
    "theme_set(theme_bw()) +\n",
    "theme(plot.title = element_text(size=22)\n",
    "      ,axis.text.x= element_text(size=15),\n",
    "       axis.text.y= element_text(size=15),\n",
    "        axis.title=element_text(size=18))"
   ]
  },
  {
   "cell_type": "markdown",
   "metadata": {},
   "source": [
    "<a id=\"59\"></a>\n",
    "<font color=\"darkpink\" size=+2.5><b>59. Pyramid</b></font>\n",
    "\n",
    "<a href=\"#top\" class=\"btn btn-primary btn-sm\" role=\"button\" aria-pressed=\"true\" style=\"color:white\" data-toggle=\"popover\" title=\"go to Colors\">Go to TOC</a>"
   ]
  },
  {
   "cell_type": "markdown",
   "metadata": {},
   "source": [
    "**Purpose** : Display the distribution of head to head variables\n",
    "\n",
    "**Question** : Compare the average monthly temeperature of Greenland and India?"
   ]
  },
  {
   "cell_type": "code",
   "execution_count": null,
   "metadata": {
    "_kg_hide-input": true,
    "_kg_hide-output": true
   },
   "outputs": [],
   "source": [
    "climate$month<-format(as.Date(climate$dt), \"%B\")\n",
    "\n",
    "climate_df<-climate%>%group_by(Country,month)%>%summarise(mean_temp = mean(AverageTemperature,na.rm=TRUE))\n",
    "\n",
    "can_nor_df<-climate_df%>%filter(Country=='Greenland'|Country=='India')"
   ]
  },
  {
   "cell_type": "code",
   "execution_count": null,
   "metadata": {},
   "outputs": [],
   "source": [
    "fig(12,8)\n",
    "ggplot(can_nor_df, aes(x = month, y = mean_temp, fill = Country)) +   # Fill column\n",
    "                              geom_bar(stat = \"identity\", width = .6) +   # draw the bars\n",
    "                              scale_y_continuous(breaks = seq(-30, 30, 5))+   # Breaks\n",
    "                              coord_flip() +  # Flip axes\n",
    "                              theme_tufte() +  # Tufte theme from ggfortify\n",
    "                              theme(plot.title = element_text(hjust = .5), \n",
    "                                    axis.ticks = element_blank()) +   # Centre plot title\n",
    "                              scale_fill_brewer(palette = \"Dark2\")+  # Color palette\n",
    "                            labs(x=\"Average Temperature\",\n",
    "                                 y=\"Months\", \n",
    "                                 title=\"Average Temperature of Greenland & India\")+  \n",
    "                            theme_set(theme_bw()) +\n",
    "                            theme(plot.title = element_text(size=22)\n",
    "                                  ,axis.text.x= element_text(size=15),\n",
    "                                   axis.text.y= element_text(size=15),\n",
    "                                    axis.title=element_text(size=18))"
   ]
  },
  {
   "cell_type": "markdown",
   "metadata": {},
   "source": [
    "<a id=\"60\"></a>\n",
    "<font color=\"gold\" size=+2.5><b>60. Diverging Bar</b></font>\n",
    "\n",
    "<a href=\"#top\" class=\"btn btn-primary btn-sm\" role=\"button\" aria-pressed=\"true\" style=\"color:white\" data-toggle=\"popover\" title=\"go to Colors\">Go to TOC</a>"
   ]
  },
  {
   "cell_type": "markdown",
   "metadata": {},
   "source": [
    "**Purpose** : Display the normalized values of a variable in bar chart\n",
    "\n",
    "**Question** : What is the normalized house prices in chennai areas?"
   ]
  },
  {
   "cell_type": "code",
   "execution_count": null,
   "metadata": {
    "_kg_hide-input": true,
    "_kg_hide-output": true
   },
   "outputs": [],
   "source": [
    "chennai_df<-chennai_house%>%group_by(Location)%>%summarise(mean_price=mean(Price,na.rm=TRUE))\n",
    "chennai_df<-sample_n(chennai_df,20)"
   ]
  },
  {
   "cell_type": "code",
   "execution_count": null,
   "metadata": {},
   "outputs": [],
   "source": [
    "# create new column for car names\n",
    "chennai_df$mean_price_z <- round((chennai_df$mean_price - mean(chennai_df$mean_price))/sd(chennai_df$mean_price), 2)  # compute normalized mpg\n",
    "chennai_df$house_type <- ifelse(chennai_df$mean_price_z < 0, \"below\", \"above\")  # above / below avg flag\n",
    "chennai_df <- chennai_df[order(chennai_df$mean_price_z), ]  # sort\n",
    "chennai_df$Location<- factor(chennai_df$Location, levels = chennai_df$Location)  # convert to factor to retain sorted order in plot.\n",
    "\n",
    "# Diverging Barcharts\n",
    "fig(12,8)\n",
    "ggplot(chennai_df, aes(x=Location, y=mean_price_z, label=mean_price_z)) + \n",
    "  geom_bar(stat='identity', aes(fill=house_type), width=.5)  +\n",
    "  scale_fill_manual(name=\"House Price\", \n",
    "                    labels = c(\"Above Average Price\", \"Below Average Price\"), \n",
    "                    values = c(\"above\"=\"#00ba38\", \"below\"=\"#f8766d\")) + \n",
    "  coord_flip()+\n",
    "labs(y=\"Normalized Price\",\n",
    "         x=\"Location\", \n",
    "       title=\"Diverging Bar - Normalized House Price of Chennai Areas\")+  \n",
    "theme_bw()+\n",
    "theme(plot.title = element_text(size=18)\n",
    "      ,axis.text.x= element_text(size=15),\n",
    "       axis.text.y= element_text(size=15),\n",
    "        axis.title=element_text(size=18))"
   ]
  },
  {
   "cell_type": "markdown",
   "metadata": {},
   "source": [
    "<a id=\"61\"></a>\n",
    "<font color=\"gold\" size=+2.5><b>61. Diverging Lollipop</b></font>\n",
    "\n",
    "<a href=\"#top\" class=\"btn btn-primary btn-sm\" role=\"button\" aria-pressed=\"true\" style=\"color:white\" data-toggle=\"popover\" title=\"go to Colors\">Go to TOC</a>"
   ]
  },
  {
   "cell_type": "markdown",
   "metadata": {},
   "source": [
    "**Purpose** : Display the normalized values of a variable in lollipop chart\n",
    "\n",
    "**Question** : What is the normalized house prices in delhi areas?"
   ]
  },
  {
   "cell_type": "code",
   "execution_count": null,
   "metadata": {
    "_kg_hide-input": false,
    "_kg_hide-output": true
   },
   "outputs": [],
   "source": [
    "delhi_df<-delhi_house%>%group_by(Location)%>%summarise(mean_price=mean(Price,na.rm=TRUE))\n",
    "delhi_df<-sample_n(delhi_df,20)\n",
    "\n",
    "# create new column \n",
    "delhi_df$mean_price_z <- round((delhi_df$mean_price - mean(delhi_df$mean_price))/sd(delhi_df$mean_price), 2)  # compute normalized mpg\n",
    "delhi_df$house_type <- ifelse(delhi_df$mean_price_z < 0, \"below\", \"above\")  # above / below avg flag\n",
    "delhi_df <- delhi_df[order(delhi_df$mean_price_z), ]  # sort\n",
    "delhi_df$Location<- factor(delhi_df$Location, levels = delhi_df$Location)  # convert to factor to retain sorted order in plot.\n"
   ]
  },
  {
   "cell_type": "code",
   "execution_count": null,
   "metadata": {},
   "outputs": [],
   "source": [
    "# Diverging Barcharts\n",
    "fig(12,8)\n",
    "ggplot(delhi_df, aes(x=Location, y=mean_price_z, label=mean_price_z)) + \n",
    "  geom_point(stat='identity', fill=\"black\", size=10)  +\n",
    "  geom_segment(aes(y = 0, \n",
    "                   x = Location, \n",
    "                   yend = mean_price_z, \n",
    "                   xend = Location), \n",
    "               color = \"black\") +\n",
    "  geom_text(color=\"white\", size=3) +\n",
    "  ylim(-5.0, 5.0) +\n",
    "  coord_flip()+\n",
    "labs(y=\"Normalized Price\",\n",
    "         x=\"Location\", \n",
    "       title=\"Diverging Lollipop Chart - Normalized House Price of Delhi Areas\")+  \n",
    "theme_bw()+\n",
    "theme(plot.title = element_text(size=18)\n",
    "      ,axis.text.x= element_text(size=15),\n",
    "       axis.text.y= element_text(size=15),\n",
    "        axis.title=element_text(size=18))"
   ]
  },
  {
   "cell_type": "markdown",
   "metadata": {},
   "source": [
    "<a id=\"62\"></a>\n",
    "<font color=\"gold\" size=+2.5><b>62. Diverging Dot</b></font>\n",
    "\n",
    "<a href=\"#top\" class=\"btn btn-primary btn-sm\" role=\"button\" aria-pressed=\"true\" style=\"color:white\" data-toggle=\"popover\" title=\"go to Colors\">Go to TOC</a>"
   ]
  },
  {
   "cell_type": "markdown",
   "metadata": {},
   "source": [
    "**Purpose** : Display the normalized values of a variable in dot chart\n",
    "\n",
    "**Question** : What is the normalized house prices in bangalore areas?"
   ]
  },
  {
   "cell_type": "code",
   "execution_count": null,
   "metadata": {
    "_kg_hide-output": true
   },
   "outputs": [],
   "source": [
    "bangalore_df<-bangalore_house%>%group_by(Location)%>%summarise(mean_price=mean(Price,na.rm=TRUE))\n",
    "bangalore_df<-sample_n(bangalore_df,20)\n",
    "\n",
    "# create new column \n",
    "bangalore_df$mean_price_z <- round((bangalore_df$mean_price - mean(bangalore_df$mean_price))/sd(bangalore_df$mean_price), 2)  # compute normalized mpg\n",
    "bangalore_df$house_type <- ifelse(bangalore_df$mean_price_z < 0, \"below\", \"above\")  # above / below avg flag\n",
    "bangalore_df <- delhi_df[order(bangalore_df$mean_price_z), ]  # sort\n",
    "bangalore_df$Location<- factor(bangalore_df$Location, levels = bangalore_df$Location)  # convert to factor to retain sorted order in plot.\n"
   ]
  },
  {
   "cell_type": "code",
   "execution_count": null,
   "metadata": {},
   "outputs": [],
   "source": [
    "# Diverging Barcharts\n",
    "fig(12,8)\n",
    "ggplot(bangalore_df, aes(x=Location, y=mean_price_z, label=mean_price_z)) + \n",
    "  geom_point(stat='identity', aes(col=house_type), size=10)  +\n",
    "  scale_color_manual(name=\"House Price\", \n",
    "                     labels = c(\"Above Average\", \"Below Average\"), \n",
    "                     values = c(\"above\"=\"#00ba38\", \"below\"=\"#f8766d\")) + \n",
    "  geom_text(color=\"white\", size=3) +\n",
    "  ylim(-5, 5) +\n",
    "  coord_flip()+\n",
    "labs(y=\"Normalized Price\",\n",
    "         x=\"Location\", \n",
    "       title=\"Diverging Dot Chart - Normalized House Price of Bangalore Areas\")+  \n",
    "theme_bw()+\n",
    "theme(plot.title = element_text(size=18)\n",
    "      ,axis.text.x= element_text(size=15),\n",
    "       axis.text.y= element_text(size=15),\n",
    "        axis.title=element_text(size=18))"
   ]
  },
  {
   "cell_type": "markdown",
   "metadata": {},
   "source": [
    "<a id=\"63\"></a>\n",
    "<font color=\"gold\" size=+2.5><b>63. Diverging Area</b></font>\n",
    "\n",
    "<a href=\"#top\" class=\"btn btn-primary btn-sm\" role=\"button\" aria-pressed=\"true\" style=\"color:white\" data-toggle=\"popover\" title=\"go to Colors\">Go to TOC</a>"
   ]
  },
  {
   "cell_type": "markdown",
   "metadata": {},
   "source": [
    "**Purpose** : Display the normalized values of a variable in area chart\n",
    "\n",
    "**Question** : What is the normalized close price CIPLA stock since inception?"
   ]
  },
  {
   "cell_type": "code",
   "execution_count": null,
   "metadata": {
    "_kg_hide-input": true,
    "_kg_hide-output": true
   },
   "outputs": [],
   "source": [
    "cipla$month_year<-format(as.Date(cipla$Date), \"%Y-%m\")\n",
    "cipla_monthly<-cipla%>%group_by(month_year)%>%summarise(mean_close=mean(Close,na.rm=TRUE))\n",
    "cipla_monthly$returns_percent<-c(0, diff(cipla_monthly$mean_close)/cipla_monthly$mean_close[-length(cipla_monthly$mean_close)])\n",
    "cipla_monthly$date<-as.Date(paste(cipla_monthly$month_year,\"-01\",sep=\"\"))"
   ]
  },
  {
   "cell_type": "code",
   "execution_count": null,
   "metadata": {},
   "outputs": [],
   "source": [
    "fig(12,8)\n",
    "ggplot(cipla_monthly, aes(date, returns_percent)) + \n",
    "  geom_area() + \n",
    "  theme(axis.text.x = element_text(angle=90)) + \n",
    "labs(y=\"% Returns for CIPLA Close Price\",\n",
    "         x=\"Date\", \n",
    "       title=\"Area Chart - CIPLA price (Normalized)\")+  \n",
    "theme_bw()+\n",
    "theme(plot.title = element_text(size=18)\n",
    "      ,axis.text.x= element_text(size=15),\n",
    "       axis.text.y= element_text(size=15),\n",
    "        axis.title=element_text(size=18))"
   ]
  },
  {
   "cell_type": "markdown",
   "metadata": {},
   "source": [
    "<a id=\"64\"></a>\n",
    "<font color=\"blue\" size=+2.5><b>64. Basic Heatmap</b></font>\n",
    "\n",
    "<a href=\"#top\" class=\"btn btn-primary btn-sm\" role=\"button\" aria-pressed=\"true\" style=\"color:white\" data-toggle=\"popover\" title=\"go to Colors\">Go to TOC</a>"
   ]
  },
  {
   "cell_type": "markdown",
   "metadata": {},
   "source": [
    "**Purpose** : Display heatmap of quantitative variables with a numerical variable as dense\n",
    "\n",
    "**Question** : How are the admission deposit amount varied for all patients with different Age and Stay Days?"
   ]
  },
  {
   "cell_type": "code",
   "execution_count": null,
   "metadata": {},
   "outputs": [],
   "source": [
    "fig(12,8)\n",
    "ggplot(sample_n(health,30000), aes(Age,Stay , fill=Admission_Deposit)) + \n",
    "  geom_tile()+\n",
    "labs(y=\"Stay\",\n",
    "         x=\"Age\", \n",
    "       title=\"Distribution of Age & Stay with Admission Deposit)\")+  \n",
    "theme_bw()+\n",
    "theme(plot.title = element_text(size=22)\n",
    "      ,axis.text.x= element_text(size=15),\n",
    "       axis.text.y= element_text(size=15),\n",
    "        axis.title=element_text(size=18))"
   ]
  },
  {
   "cell_type": "markdown",
   "metadata": {},
   "source": [
    "<a id=\"65\"></a>\n",
    "<font color=\"blue\" size=+2.5><b>65. Heatmap Color</b></font>\n",
    "\n",
    "<a href=\"#top\" class=\"btn btn-primary btn-sm\" role=\"button\" aria-pressed=\"true\" style=\"color:white\" data-toggle=\"popover\" title=\"go to Colors\">Go to TOC</a>"
   ]
  },
  {
   "cell_type": "markdown",
   "metadata": {},
   "source": [
    "**Purpose** : Display heatmap of quantitative variables with a numerical variable as dense (Different color)\n",
    "\n",
    "**Question** : How are the admission deposit amount varied for all patients with different Age and Stay Days?"
   ]
  },
  {
   "cell_type": "code",
   "execution_count": null,
   "metadata": {},
   "outputs": [],
   "source": [
    "fig(12,8)\n",
    "ggplot(sample_n(health,30000), aes(Age,Stay , fill=Admission_Deposit)) + \n",
    "  geom_tile()+\n",
    "scale_fill_distiller(palette = \"RdPu\") +\n",
    "labs(y=\"Stay\",\n",
    "         x=\"Age\", \n",
    "       title=\"Distribution of Age & Stay with Admission Deposit)\")+  \n",
    "theme_bw()+\n",
    "theme(plot.title = element_text(size=22)\n",
    "      ,axis.text.x= element_text(size=15),\n",
    "       axis.text.y= element_text(size=15),\n",
    "        axis.title=element_text(size=18))"
   ]
  },
  {
   "cell_type": "markdown",
   "metadata": {},
   "source": [
    "<a id=\"66\"></a>\n",
    "<font color=\"blue\" size=+2.5><b>66. Correlation Heatmap</b></font>\n",
    "\n",
    "<a href=\"#top\" class=\"btn btn-primary btn-sm\" role=\"button\" aria-pressed=\"true\" style=\"color:white\" data-toggle=\"popover\" title=\"go to Colors\">Go to TOC</a>"
   ]
  },
  {
   "cell_type": "markdown",
   "metadata": {},
   "source": [
    "**Purpose** : Display heatmap of correlation matrix of numerical variables\n",
    "\n",
    "**Question** : How much are the delhi house dataset variables related to each other?"
   ]
  },
  {
   "cell_type": "code",
   "execution_count": null,
   "metadata": {
    "_kg_hide-input": true
   },
   "outputs": [],
   "source": [
    "delhi_cor_df <- delhi_house[, c('Price','Area','No. of Bedrooms','Resale','BED')]\n",
    "cormat_delhi <- round(cor(delhi_cor_df),2)\n",
    "melted_cormat_delhi <- melt(cormat_delhi)"
   ]
  },
  {
   "cell_type": "code",
   "execution_count": null,
   "metadata": {},
   "outputs": [],
   "source": [
    "fig(12,8)\n",
    "ggplot(data = melted_cormat_delhi, aes(x=Var1, y=Var2, fill=value)) + \n",
    "  geom_tile()+\n",
    "labs(y=\"\",\n",
    "         x=\"\", \n",
    "       title=\"Heatmap of House Elements\")+  \n",
    "theme_bw()+\n",
    "theme(plot.title = element_text(size=22)\n",
    "      ,axis.text.x= element_text(size=15),\n",
    "       axis.text.y= element_text(size=15),\n",
    "        axis.title=element_text(size=18))"
   ]
  },
  {
   "cell_type": "markdown",
   "metadata": {},
   "source": [
    "<a id=\"67\"></a>\n",
    "<font color=\"blue\" size=+2.5><b>67. Correlation Triangle Heatmap</b></font>\n",
    "\n",
    "<a href=\"#top\" class=\"btn btn-primary btn-sm\" role=\"button\" aria-pressed=\"true\" style=\"color:white\" data-toggle=\"popover\" title=\"go to Colors\">Go to TOC</a>"
   ]
  },
  {
   "cell_type": "markdown",
   "metadata": {},
   "source": [
    "**Purpose** : Display heatmap of correlation matrix of numerical variables with different color\n",
    "\n",
    "**Question** : How much are the delhi house dataset variables related to each other?"
   ]
  },
  {
   "cell_type": "code",
   "execution_count": null,
   "metadata": {
    "_kg_hide-input": true
   },
   "outputs": [],
   "source": [
    "# Get lower triangle of the correlation matrix\n",
    "  get_lower_tri<-function(cormat){\n",
    "    cormat[upper.tri(cormat)] <- NA\n",
    "    return(cormat)\n",
    "  }\n",
    "  # Get upper triangle of the correlation matrix\n",
    "  get_upper_tri <- function(cormat){\n",
    "    cormat[lower.tri(cormat)]<- NA\n",
    "    return(cormat)\n",
    "  }"
   ]
  },
  {
   "cell_type": "code",
   "execution_count": null,
   "metadata": {
    "_kg_hide-input": true
   },
   "outputs": [],
   "source": [
    "upper_tri_delhi <- get_upper_tri(cormat_delhi)\n",
    "melted_cormat_delhi <- melt(upper_tri_delhi, na.rm = TRUE)"
   ]
  },
  {
   "cell_type": "code",
   "execution_count": null,
   "metadata": {},
   "outputs": [],
   "source": [
    "ggplot(data = melted_cormat_delhi, aes(Var2, Var1, fill = value))+\n",
    " geom_tile(color = \"white\")+\n",
    " scale_fill_gradient2(low = \"blue\", high = \"red\", mid = \"white\", \n",
    "   midpoint = 0, limit = c(-1,1), space = \"Lab\", \n",
    "   name=\"Pearson\\nCorrelation\") +\n",
    "  theme_minimal()+ \n",
    " theme(axis.text.x = element_text(angle = 45, vjust = 1, \n",
    "    size = 12, hjust = 1))+\n",
    " coord_fixed()+\n",
    "labs(y=\"\",\n",
    "         x=\"\", \n",
    "       title=\"Triangle Heatmap of House Elements\")+  \n",
    "theme_bw()+\n",
    "theme(plot.title = element_text(size=22)\n",
    "      ,axis.text.x= element_text(size=15),\n",
    "       axis.text.y= element_text(size=15),\n",
    "        axis.title=element_text(size=18))"
   ]
  },
  {
   "cell_type": "markdown",
   "metadata": {},
   "source": [
    "<a id=\"68\"></a>\n",
    "<font color=\"blue\" size=+2.5><b>68. Calendar Heatmap</b></font>\n",
    "\n",
    "<a href=\"#top\" class=\"btn btn-primary btn-sm\" role=\"button\" aria-pressed=\"true\" style=\"color:white\" data-toggle=\"popover\" title=\"go to Colors\">Go to TOC</a>"
   ]
  },
  {
   "cell_type": "markdown",
   "metadata": {},
   "source": [
    "**Purpose** : Display heatmap of daily time series values\n",
    "\n",
    "**Question** : How dense are the ITC Open price from 2016 to 2020? "
   ]
  },
  {
   "cell_type": "code",
   "execution_count": null,
   "metadata": {
    "_kg_hide-input": true
   },
   "outputs": [],
   "source": [
    "itc$year<-as.numeric(format(as.Date(itc$Date),\"%Y\"))\n",
    "#Create Month Week\n",
    "itc_df<-itc%>%filter(year>2015)\n",
    "itc_df$yearmonth <- as.yearmon(itc_df$Date)\n",
    "itc_df$yearmonthf <- factor(itc_df$yearmonth)\n",
    "\n",
    "itc_df$week<-as.numeric(strftime(itc_df$Date, format = \"%V\"))\n",
    "itc_df$month<-as.factor(strftime(itc_df$Date, format = \"%B\"))\n",
    "itc_df$weekdayf<-as.factor(weekdays(itc_df$Date))\n",
    "itc_df$monthweek<-ceiling(day(itc_df$Date) /7 )     ## 8th day of the current month\n",
    "itc_df<-itc_df%>%filter(weekdayf!='Sunday'& weekdayf!='Saturday')\n",
    "itc_df$month = factor(itc_df$month, \n",
    "                                      levels=c('January','February','March',\n",
    "                                               'April','May','June','July',\n",
    "                                               'August','September','October',\n",
    "                                               'November','December'))"
   ]
  },
  {
   "cell_type": "code",
   "execution_count": null,
   "metadata": {},
   "outputs": [],
   "source": [
    "fig(12,8)\n",
    "ggplot(itc_df, aes(monthweek, weekdayf, fill = Open)) + \n",
    "  geom_tile(colour = \"white\") + \n",
    "  facet_grid(year~month) + \n",
    "  scale_fill_gradient(low=\"red\", high=\"green\") +\n",
    "  labs(x=\"Week of Month\",\n",
    "       y=\"\",\n",
    "       title = \"Time-Series Calendar Heatmap - ITC Open Price\", \n",
    "       fill=\"Open Price\")+\n",
    "theme_bw()+\n",
    "theme(plot.title = element_text(size=22)\n",
    "      ,axis.text.x= element_text(size=15),\n",
    "       axis.text.y= element_text(size=15),\n",
    "        axis.title=element_text(size=18))"
   ]
  },
  {
   "cell_type": "markdown",
   "metadata": {},
   "source": [
    "<a id=\"69\"></a>\n",
    "<font color=\"blueviolet\" size=+2.5><b>69. Choropleth - World</b></font>\n",
    "\n",
    "<a href=\"#top\" class=\"btn btn-primary btn-sm\" role=\"button\" aria-pressed=\"true\" style=\"color:white\" data-toggle=\"popover\" title=\"go to Colors\">Go to TOC</a>"
   ]
  },
  {
   "cell_type": "markdown",
   "metadata": {},
   "source": [
    "**Purpose** : Display heatmap by count\n",
    "\n",
    "**Question** : How much dense are the covid death victims across the world?"
   ]
  },
  {
   "cell_type": "code",
   "execution_count": null,
   "metadata": {
    "_kg_hide-input": true,
    "_kg_hide-output": true
   },
   "outputs": [],
   "source": [
    "covid$region<- ifelse(covid$country=='Mainland China','China', covid$country)\n",
    "covid$region<- ifelse(covid$country=='US','USA', covid$country)\n",
    "covid_world_deaths<-covid%>%group_by(region)%>%summarise(total=sum(Deaths))\n",
    "\n",
    "world_data<-map_data('world')\n",
    "world_deaths_map <- left_join(world_data, covid_world_deaths, by = \"region\")"
   ]
  },
  {
   "cell_type": "code",
   "execution_count": null,
   "metadata": {},
   "outputs": [],
   "source": [
    "\n",
    "# Create the map\n",
    "fig(12,8)\n",
    "ggplot(world_deaths_map, aes(long, lat, group = group))+\n",
    "  geom_polygon(aes(fill = total), color = \"white\")+\n",
    "scale_fill_distiller(palette= \"OrRd\", direction=1)+\n",
    "  labs(x=\"\",\n",
    "       y=\"\",\n",
    "       title = \"World COVID Deaths\", \n",
    "       fill=\"Number Of Deaths\")+\n",
    "theme_bw()+\n",
    "theme(plot.title = element_text(size=22)\n",
    "      ,axis.text.x= element_text(size=15),\n",
    "       axis.text.y= element_text(size=15),\n",
    "        axis.title=element_text(size=18))"
   ]
  },
  {
   "cell_type": "markdown",
   "metadata": {},
   "source": [
    "<a id=\"70\"></a>\n",
    "<font color=\"blueviolet\" size=+2.5><b>70. Choropleth - US</b></font>\n",
    "\n",
    "<a href=\"#top\" class=\"btn btn-primary btn-sm\" role=\"button\" aria-pressed=\"true\" style=\"color:white\" data-toggle=\"popover\" title=\"go to Colors\">Go to TOC</a>"
   ]
  },
  {
   "cell_type": "markdown",
   "metadata": {},
   "source": [
    "**Purpose** : Display heatmap by count\n",
    "\n",
    "**Question** : How much dense are the covid death victims in United States?"
   ]
  },
  {
   "cell_type": "code",
   "execution_count": null,
   "metadata": {
    "_kg_hide-input": true,
    "_kg_hide-output": true
   },
   "outputs": [],
   "source": [
    "covid_usa$region<-tolower(covid_usa$state)\n",
    "covid_us_deaths<-covid_usa%>%group_by(region)%>%summarise(total=sum(deaths))\n",
    "\n",
    "us_states = map_data(\"state\")\n",
    "deaths_map <- left_join(us_states, covid_us_deaths, by = \"region\")"
   ]
  },
  {
   "cell_type": "code",
   "execution_count": null,
   "metadata": {},
   "outputs": [],
   "source": [
    "# Create the map\n",
    "fig(12,8)\n",
    "ggplot(deaths_map, aes(long, lat, group = group))+\n",
    "  geom_polygon(aes(fill = total), color = \"white\")+\n",
    "  scale_fill_viridis_c(option = \"C\")+\n",
    "  labs(x=\"\",\n",
    "       y=\"\",\n",
    "       title = \"COVID Deaths in Unites States\", \n",
    "       fill=\"Number Of Deaths\")+\n",
    "theme_bw()+\n",
    "theme(plot.title = element_text(size=22)\n",
    "      ,axis.text.x= element_text(size=15),\n",
    "       axis.text.y= element_text(size=15),\n",
    "        axis.title=element_text(size=18))"
   ]
  },
  {
   "cell_type": "markdown",
   "metadata": {},
   "source": [
    "<a id=\"71\"></a>\n",
    "<font color=\"blueviolet\" size=+2.5><b>71. Bubble Map</b></font>\n",
    "\n",
    "<a href=\"#top\" class=\"btn btn-primary btn-sm\" role=\"button\" aria-pressed=\"true\" style=\"color:white\" data-toggle=\"popover\" title=\"go to Colors\">Go to TOC</a>"
   ]
  },
  {
   "cell_type": "markdown",
   "metadata": {},
   "source": [
    "Purpose : Display density of values with bubbles over latitude and longitude\n",
    "\n",
    "Question : Which cities have polluted most NO2 in India?"
   ]
  },
  {
   "cell_type": "code",
   "execution_count": null,
   "metadata": {
    "_kg_hide-input": true,
    "_kg_hide-output": true
   },
   "outputs": [],
   "source": [
    "ind<- map_data(\"world\") %>% filter(region==\"India\")\n",
    "ind_city_data <- world.cities %>% filter(country.etc==\"India\")\n",
    "\n",
    "city_aqi<-aqi%>%group_by(location)%>%summarise(mean_pollution=mean(no2,na.rm=TRUE))\n",
    "city_aqi$name<-city_aqi$location\n",
    "\n",
    "aqi_map <- left_join(ind_city_data, city_aqi, by = \"name\")\n",
    "\n",
    "aqi_map<-aqi_map%>%filter(mean_pollution!=\"\")"
   ]
  },
  {
   "cell_type": "code",
   "execution_count": null,
   "metadata": {},
   "outputs": [],
   "source": [
    "fig(12,8)\n",
    "ggplot() +\n",
    "  geom_polygon(data = ind, aes(x=long, y = lat, group = group), fill=\"grey\", alpha=0.3) +\n",
    "  geom_point( data=aqi_map, aes(x=long, y=lat,color=mean_pollution,size=mean_pollution)) +\n",
    " coord_map() +\n",
    "scale_color_gradient(low = \"green\", high = \"red\")+\n",
    "  labs(color=\"Average NO2\",\n",
    "       title = \"NO2 emission in Cities of India\", \n",
    "       size=\"Average NO2\")+\n",
    "theme_bw()+\n",
    "theme(plot.title = element_text(size=22)\n",
    "      ,axis.text.x= element_text(size=15),\n",
    "       axis.text.y= element_text(size=15),\n",
    "        axis.title=element_text(size=18))"
   ]
  },
  {
   "cell_type": "markdown",
   "metadata": {},
   "source": [
    "<a href=\"#top\" class=\"btn btn-primary\" role=\"button\" aria-pressed=\"true\" style=\"color:white\" data-toggle=\"popover\" title=\"go to Colors\">Go to TOP</a>"
   ]
  }
 ],
 "metadata": {
  "kernelspec": {
   "display_name": "R",
   "language": "R",
   "name": "ir"
  },
  "language_info": {
   "codemirror_mode": "r",
   "file_extension": ".r",
   "mimetype": "text/x-r-source",
   "name": "R",
   "pygments_lexer": "r",
   "version": "3.6.3"
  }
 },
 "nbformat": 4,
 "nbformat_minor": 4
}
