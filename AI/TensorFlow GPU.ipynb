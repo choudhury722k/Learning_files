{
 "cells": [
  {
   "cell_type": "code",
   "execution_count": 1,
   "id": "94c52b0c",
   "metadata": {},
   "outputs": [
    {
     "name": "stdout",
     "output_type": "stream",
     "text": [
      "2.6.0\n"
     ]
    }
   ],
   "source": [
    "# first import tensorflow\n",
    "import tensorflow as tf\n",
    "\n",
    "# Check the tensorflow version\n",
    "# If this results in an error, probably there is something wrong with the installation\n",
    "print(tf.__version__)"
   ]
  },
  {
   "cell_type": "code",
   "execution_count": 2,
   "id": "4295df64",
   "metadata": {},
   "outputs": [
    {
     "data": {
      "text/plain": [
       "[PhysicalDevice(name='/physical_device:GPU:0', device_type='GPU')]"
      ]
     },
     "execution_count": 2,
     "metadata": {},
     "output_type": "execute_result"
    }
   ],
   "source": [
    "tf.config.list_physical_devices('GPU')"
   ]
  },
  {
   "cell_type": "code",
   "execution_count": 3,
   "id": "5f295474",
   "metadata": {},
   "outputs": [
    {
     "name": "stdout",
     "output_type": "stream",
     "text": [
      "################## GPU: 0 ##########################\n",
      "Device Type: GPU\n",
      "GPU ID: /device:GPU:0\n",
      "Physical Device Description:\n",
      "\tdevice: 0, name: NVIDIA GeForce GTX 1650 Ti, pci bus id: 0000:01:00.0, compute capability: 7.5\n",
      "####################################################\n"
     ]
    }
   ],
   "source": [
    "# Import Tensorflow utility device_lib to get more information about the GPU\n",
    "# This will help verify if TF is using the intended GPU\n",
    "from tensorflow.python.client import device_lib\n",
    "\n",
    "# Helper function to get information about all available GPUs in a list\n",
    "def get_available_gpus():\n",
    "    local_device_protos = device_lib.list_local_devices()\n",
    "    return [x for x in local_device_protos if x.device_type == 'GPU']\n",
    "    \n",
    "\n",
    "# Get information of all available GPUs\n",
    "gpu_info = get_available_gpus()\n",
    "\n",
    "# Display GPU information\n",
    "for i, gpu in enumerate(gpu_info):\n",
    "    print(f\"################## GPU: {i} ##########################\")\n",
    "    print(f\"Device Type: {gpu.device_type}\")\n",
    "    print(f\"GPU ID: {gpu.name}\")\n",
    "    print(f\"Physical Device Description:\\n\\t{gpu.physical_device_desc}\")\n",
    "    print(\"####################################################\")\n"
   ]
  },
  {
   "cell_type": "code",
   "execution_count": 4,
   "id": "af43b3a2",
   "metadata": {},
   "outputs": [
    {
     "name": "stdout",
     "output_type": "stream",
     "text": [
      "['/device:CPU:0', '/device:GPU:0']\n"
     ]
    }
   ],
   "source": [
    "from tensorflow.python.client import device_lib\n",
    "def get_available_devices():\n",
    "    local_device_protos = device_lib.list_local_devices()\n",
    "    return [x.name for x in local_device_protos]\n",
    "print(get_available_devices()) \n",
    "# my output was => ['/device:CPU:0']\n",
    "# good output must be => ['/device:CPU:0', '/device:GPU:0']"
   ]
  },
  {
   "cell_type": "code",
   "execution_count": null,
   "id": "14b0bcae",
   "metadata": {},
   "outputs": [],
   "source": []
  },
  {
   "cell_type": "code",
   "execution_count": null,
   "id": "e9f7609b",
   "metadata": {},
   "outputs": [],
   "source": []
  },
  {
   "cell_type": "code",
   "execution_count": null,
   "id": "7dbe2b9e",
   "metadata": {},
   "outputs": [],
   "source": []
  }
 ],
 "metadata": {
  "kernelspec": {
   "display_name": "Python 3 (ipykernel)",
   "language": "python",
   "name": "python3"
  },
  "language_info": {
   "codemirror_mode": {
    "name": "ipython",
    "version": 3
   },
   "file_extension": ".py",
   "mimetype": "text/x-python",
   "name": "python",
   "nbconvert_exporter": "python",
   "pygments_lexer": "ipython3",
   "version": "3.9.7"
  }
 },
 "nbformat": 4,
 "nbformat_minor": 5
}
