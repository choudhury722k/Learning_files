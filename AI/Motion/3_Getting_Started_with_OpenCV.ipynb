{
 "cells": [
  {
   "cell_type": "markdown",
   "source": [
    "# **OpenCV**"
   ],
   "metadata": {
    "id": "Q2KgHiVftKOK"
   }
  },
  {
   "cell_type": "markdown",
   "source": [
    "OpenCV is a powerful and versatile open-source library for Computer Vision tasks. It is supported in many languages, including Python, Java and C++. It is packed with more than 2500 algorithms to perform almost any Computer Vision task with just a single library. OpenCV is well known for its interactive windows and real-time processing capabilities. "
   ],
   "metadata": {
    "id": "WuS4CrOFtNDN"
   }
  },
  {
   "cell_type": "markdown",
   "source": [
    "To read about it more, please refer [this](https://analyticsindiamag.com/getting-started-with-opencv-in-python/) article."
   ],
   "metadata": {
    "id": "t6nEEJdct3-R"
   }
  },
  {
   "cell_type": "markdown",
   "source": [
    "##**Installation**"
   ],
   "metadata": {
    "id": "LMfzjBacuhu4"
   }
  },
  {
   "cell_type": "markdown",
   "source": [
    "Install the library in your local machine to have fun with images and videos. Install OpenCV Python from the PyPi package. "
   ],
   "metadata": {
    "id": "E-XK15Ujul1e"
   }
  },
  {
   "cell_type": "code",
   "execution_count": null,
   "source": [
    "\n",
    "!python -m pip install pip --upgrade --user -q --no-warn-script-location\n",
    "!python -m pip install numpy pandas seaborn matplotlib scipy statsmodels sklearn nltk opencv-python tensorflow keras torch torchvision \\\n",
    "    tqdm scikit-image --user -q --no-warn-script-location\n",
    "\n",
    "import IPython\n",
    "IPython.Application.instance().kernel.do_shutdown(True)\n"
   ],
   "outputs": [],
   "metadata": {}
  },
  {
   "cell_type": "markdown",
   "source": [
    "## **Read and Write a Video**"
   ],
   "metadata": {
    "id": "NYlaJRFdzMwz"
   }
  },
  {
   "cell_type": "markdown",
   "source": [
    "A video is a collection of frames displaying at speed termed frames per second (fps). Each frame is an image. Excluding the specific properties such as frames per second and codec format, OpenCV processes videos the same way it processes images. OpenCV reads a video either from a file or directly from the device’s camera. This feature makes OpenCV the de facto choice for navigation systems such as robots and drones, embedded systems such as Raspberry Pi and Arduino, and autonomous vehicles."
   ],
   "metadata": {
    "id": "uUyS5kJWzPXP"
   }
  },
  {
   "cell_type": "code",
   "execution_count": 7,
   "source": [
    "import cv2\n",
    "# read a video from file\n",
    "capture = cv2.VideoCapture('Swan - 1646.mp4')\n",
    "\n",
    "# display the read video file\n",
    "while capture.isOpened():\n",
    "    ret, frame = capture.read()\n",
    "    if not ret:\n",
    "        break\n",
    "    cv2.imshow('Video Window', frame)\n",
    "    cv2.waitKey(25)\n",
    "capture.release()\n",
    "cv2.destroyAllWindows() "
   ],
   "outputs": [],
   "metadata": {
    "id": "dYku8JQ1zF9H"
   }
  },
  {
   "cell_type": "code",
   "execution_count": 13,
   "source": [
    "# read real-time video from device’s camera\n",
    "capture = cv2.VideoCapture(0)\n",
    "\n",
    "# display the capturing\n",
    "while capture.isOpened():\n",
    " ret, frame = capture.read()\n",
    " cv2.imshow('Video Window', frame)\n",
    " if cv2.waitKey(20) & 0xFF == ord('q'):\n",
    "    break\n",
    "capture.release()\n",
    "cv2.destroyAllWindows() "
   ],
   "outputs": [
    {
     "output_type": "error",
     "ename": "KeyboardInterrupt",
     "evalue": "",
     "traceback": [
      "\u001b[1;31m---------------------------------------------------------------------------\u001b[0m",
      "\u001b[1;31mKeyboardInterrupt\u001b[0m                         Traceback (most recent call last)",
      "\u001b[1;32m<ipython-input-13-644ac339d8b8>\u001b[0m in \u001b[0;36m<module>\u001b[1;34m\u001b[0m\n\u001b[0;32m      6\u001b[0m  \u001b[0mret\u001b[0m\u001b[1;33m,\u001b[0m \u001b[0mframe\u001b[0m \u001b[1;33m=\u001b[0m \u001b[0mcapture\u001b[0m\u001b[1;33m.\u001b[0m\u001b[0mread\u001b[0m\u001b[1;33m(\u001b[0m\u001b[1;33m)\u001b[0m\u001b[1;33m\u001b[0m\u001b[1;33m\u001b[0m\u001b[0m\n\u001b[0;32m      7\u001b[0m  \u001b[0mcv2\u001b[0m\u001b[1;33m.\u001b[0m\u001b[0mimshow\u001b[0m\u001b[1;33m(\u001b[0m\u001b[1;34m'Video Window'\u001b[0m\u001b[1;33m,\u001b[0m \u001b[0mframe\u001b[0m\u001b[1;33m)\u001b[0m\u001b[1;33m\u001b[0m\u001b[1;33m\u001b[0m\u001b[0m\n\u001b[1;32m----> 8\u001b[1;33m  \u001b[1;32mif\u001b[0m \u001b[0mcv2\u001b[0m\u001b[1;33m.\u001b[0m\u001b[0mwaitKey\u001b[0m\u001b[1;33m(\u001b[0m\u001b[1;36m20\u001b[0m\u001b[1;33m)\u001b[0m \u001b[1;33m&\u001b[0m \u001b[1;36m0xFF\u001b[0m \u001b[1;33m==\u001b[0m \u001b[0mord\u001b[0m\u001b[1;33m(\u001b[0m\u001b[1;34m'q'\u001b[0m\u001b[1;33m)\u001b[0m\u001b[1;33m:\u001b[0m\u001b[1;33m\u001b[0m\u001b[1;33m\u001b[0m\u001b[0m\n\u001b[0m\u001b[0;32m      9\u001b[0m     \u001b[1;32mbreak\u001b[0m\u001b[1;33m\u001b[0m\u001b[1;33m\u001b[0m\u001b[0m\n\u001b[0;32m     10\u001b[0m \u001b[0mcapture\u001b[0m\u001b[1;33m.\u001b[0m\u001b[0mrelease\u001b[0m\u001b[1;33m(\u001b[0m\u001b[1;33m)\u001b[0m\u001b[1;33m\u001b[0m\u001b[1;33m\u001b[0m\u001b[0m\n",
      "\u001b[1;31mKeyboardInterrupt\u001b[0m: "
     ]
    }
   ],
   "metadata": {}
  },
  {
   "cell_type": "markdown",
   "source": [
    "Writing a video into a file needs some properties such as frame width, frame height and frame rate (fps). The following codes enable us to learn the input video properties."
   ],
   "metadata": {
    "id": "H04mLRHVziK8"
   }
  },
  {
   "cell_type": "code",
   "execution_count": 16,
   "source": [
    "capture = cv2.VideoCapture('Swan - 1646.mp4')\n",
    "# get frame properties\n",
    "print(capture.get(cv2.CAP_PROP_FRAME_WIDTH))\n",
    "print(capture.get(cv2.CAP_PROP_FRAME_HEIGHT))\n",
    "print(capture.get(cv2.CAP_PROP_FRAME_COUNT)) "
   ],
   "outputs": [
    {
     "output_type": "stream",
     "name": "stdout",
     "text": [
      "640.0\n",
      "360.0\n",
      "353.0\n"
     ]
    }
   ],
   "metadata": {
    "id": "1juHaGPJzid5"
   }
  },
  {
   "cell_type": "markdown",
   "source": [
    "Write the video file to disk in any format you wish. It is required that the right fourcc codec format, frame size and frame rate should be provided as arguments to enable proper saving of the video file. Here, in the below example code, the file is saved in the working directory in the name of ‘output.mp4’."
   ],
   "metadata": {
    "id": "243Soynazlv3"
   }
  },
  {
   "cell_type": "code",
   "execution_count": 20,
   "source": [
    "# read a video and write it to another file\n",
    "capture = cv2.VideoCapture('Swan - 1646.mp4')\n",
    "# create a write file - arguments: file_name, fourcc_code, fps, size\n",
    "size = (640,360)\n",
    "out = cv2.VideoWriter('output.mp4', cv2.VideoWriter_fourcc(*'XVID'), 20, size)\n",
    "\n",
    "while capture.isOpened():\n",
    " # read frame by frame\n",
    " ret, frame = capture.read()\n",
    " out.write(frame)\n",
    " if not ret:\n",
    "     break\n",
    " cv2.imshow('Video Window', frame)\n",
    " cv2.waitKey(25)\n",
    "capture.release()\n",
    "out.release()\n",
    "cv2.destroyAllWindows() "
   ],
   "outputs": [
    {
     "output_type": "error",
     "ename": "TypeError",
     "evalue": "VideoWriter_fourcc() takes at most 4 arguments (5 given)",
     "traceback": [
      "\u001b[1;31m---------------------------------------------------------------------------\u001b[0m",
      "\u001b[1;31mTypeError\u001b[0m                                 Traceback (most recent call last)",
      "\u001b[1;32m<ipython-input-20-8c32bd2a4b14>\u001b[0m in \u001b[0;36m<module>\u001b[1;34m\u001b[0m\n\u001b[0;32m      3\u001b[0m \u001b[1;31m# create a write file - arguments: file_name, fourcc_code, fps, size\u001b[0m\u001b[1;33m\u001b[0m\u001b[1;33m\u001b[0m\u001b[1;33m\u001b[0m\u001b[0m\n\u001b[0;32m      4\u001b[0m \u001b[0msize\u001b[0m \u001b[1;33m=\u001b[0m \u001b[1;33m(\u001b[0m\u001b[1;36m640\u001b[0m\u001b[1;33m,\u001b[0m\u001b[1;36m360\u001b[0m\u001b[1;33m)\u001b[0m\u001b[1;33m\u001b[0m\u001b[1;33m\u001b[0m\u001b[0m\n\u001b[1;32m----> 5\u001b[1;33m \u001b[0mout\u001b[0m \u001b[1;33m=\u001b[0m \u001b[0mcv2\u001b[0m\u001b[1;33m.\u001b[0m\u001b[0mVideoWriter\u001b[0m\u001b[1;33m(\u001b[0m\u001b[1;34m'output.mp4'\u001b[0m\u001b[1;33m,\u001b[0m \u001b[0mcv2\u001b[0m\u001b[1;33m.\u001b[0m\u001b[0mVideoWriter_fourcc\u001b[0m\u001b[1;33m(\u001b[0m\u001b[1;33m*\u001b[0m\u001b[1;34m'XVID’'\u001b[0m\u001b[1;33m)\u001b[0m\u001b[1;33m,\u001b[0m \u001b[1;36m20\u001b[0m\u001b[1;33m,\u001b[0m \u001b[0msize\u001b[0m\u001b[1;33m)\u001b[0m\u001b[1;33m\u001b[0m\u001b[1;33m\u001b[0m\u001b[0m\n\u001b[0m\u001b[0;32m      6\u001b[0m \u001b[1;33m\u001b[0m\u001b[0m\n\u001b[0;32m      7\u001b[0m \u001b[1;32mwhile\u001b[0m \u001b[0mcapture\u001b[0m\u001b[1;33m.\u001b[0m\u001b[0misOpened\u001b[0m\u001b[1;33m(\u001b[0m\u001b[1;33m)\u001b[0m\u001b[1;33m:\u001b[0m\u001b[1;33m\u001b[0m\u001b[1;33m\u001b[0m\u001b[0m\n",
      "\u001b[1;31mTypeError\u001b[0m: VideoWriter_fourcc() takes at most 4 arguments (5 given)"
     ]
    }
   ],
   "metadata": {
    "id": "zPH5o3rLzmAM"
   }
  },
  {
   "cell_type": "markdown",
   "source": [
    "## **Write Text on an image**\n",
    "\n",
    "Text can be written on an image. Its location, size, font and colour can be customized as per the user’s wish. "
   ],
   "metadata": {
    "id": "y7PwSHDz0W85"
   }
  },
  {
   "cell_type": "markdown",
   "source": [
    "Running date-time on videos can be made in real-time using Python’s datetime library and OpenCV’s `putText` method. The below code example shows real-time date-time display on a video. It is especially useful in real-time camera capturing."
   ],
   "metadata": {
    "id": "yzfNU8Xn0ohA"
   }
  },
  {
   "cell_type": "code",
   "execution_count": 19,
   "source": [
    "# import the library \n",
    "from datetime import datetime\n",
    "text = str(datetime.now())\n",
    "\n",
    "# read a video from file\n",
    "capture = cv2.VideoCapture('drive_6.mp4')\n",
    "\n",
    "# display the read video file\n",
    "while capture.isOpened():\n",
    "    ret, frame = capture.read()\n",
    "    # add date-time to the frames\n",
    "    frame = cv2.putText(frame, text, (30,40), cv2.FONT_HERSHEY_PLAIN, 1, (0,0,255), 2)\n",
    "    if not ret:\n",
    "        break\n",
    "    cv2.imshow('Video Window', frame)\n",
    "    cv2.waitKey(30)\n",
    "capture.release()\n",
    "cv2.destroyAllWindows()"
   ],
   "outputs": [],
   "metadata": {
    "id": "gW5EwWyZ0qeq"
   }
  },
  {
   "cell_type": "code",
   "execution_count": null,
   "source": [],
   "outputs": [],
   "metadata": {}
  }
 ],
 "metadata": {
  "colab": {
   "collapsed_sections": [],
   "name": "3_Getting_Started_with_OpenCV.ipynb",
   "provenance": []
  },
  "kernelspec": {
   "display_name": "Python 3",
   "language": "python",
   "name": "python3"
  },
  "language_info": {
   "codemirror_mode": {
    "name": "ipython",
    "version": 3
   },
   "file_extension": ".py",
   "mimetype": "text/x-python",
   "name": "python",
   "nbconvert_exporter": "python",
   "pygments_lexer": "ipython3",
   "version": "3.8.5"
  }
 },
 "nbformat": 4,
 "nbformat_minor": 1
}