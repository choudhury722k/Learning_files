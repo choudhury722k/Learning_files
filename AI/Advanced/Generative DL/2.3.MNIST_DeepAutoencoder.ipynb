{
 "cells": [
  {
   "cell_type": "markdown",
   "metadata": {
    "id": "hSmjE4t1dKnG"
   },
   "source": [
    "# Ungraded Lab: MNIST Deep Autoencoder\n",
    "\n",
    "Welcome back! In this lab, you will extend the shallow autoencoder you built in the previous exercise. The model here will have a deeper network so it can handle more complex images."
   ]
  },
  {
   "cell_type": "markdown",
   "metadata": {
    "id": "zTTfAJbudq7l"
   },
   "source": [
    "## Imports"
   ]
  },
  {
   "cell_type": "code",
   "execution_count": 1,
   "metadata": {
    "id": "3EXwoz-KHtWO"
   },
   "outputs": [],
   "source": [
    "try:\n",
    "  # %tensorflow_version only exists in Colab.\n",
    "  %tensorflow_version 2.x\n",
    "except Exception:\n",
    "  pass\n",
    "  \n",
    "import tensorflow as tf\n",
    "import tensorflow_datasets as tfds\n",
    "\n",
    "import numpy as np\n",
    "import matplotlib.pyplot as plt"
   ]
  },
  {
   "cell_type": "markdown",
   "metadata": {
    "id": "25T24ET7e0ub"
   },
   "source": [
    "## Prepare the Dataset"
   ]
  },
  {
   "cell_type": "markdown",
   "metadata": {
    "id": "4RJB4eae0rgU"
   },
   "source": [
    "You will prepare the MNIST dataset just like in the previous lab."
   ]
  },
  {
   "cell_type": "code",
   "execution_count": 2,
   "metadata": {
    "id": "5BMJF86p0d08"
   },
   "outputs": [],
   "source": [
    "def map_image(image, label):\n",
    "  '''Normalizes and flattens the image. Returns image as input and label.'''\n",
    "  image = tf.cast(image, dtype=tf.float32)\n",
    "  image = image / 255.0\n",
    "  image = tf.reshape(image, shape=(784,))\n",
    "\n",
    "  return image, image"
   ]
  },
  {
   "cell_type": "code",
   "execution_count": 3,
   "metadata": {
    "colab": {
     "base_uri": "https://localhost:8080/",
     "height": 200,
     "referenced_widgets": [
      "0b3b57f835954d01ac2e4f6bfa55a7a4",
      "dbba485e6139407a838c2c1c3a174988",
      "2b532402e07f4e9192bd292d615791ef",
      "16e82f97ab6f4f2fa2fc027e4c019df2",
      "5ba290defb734b6a967beaa677e8316d",
      "4246d50b0eee466c9de67447f10df368",
      "2e10096c01b141b5b0fedbe800cf496d",
      "2c556ab05c8b478c988f5dbfbcb96597"
     ]
    },
    "id": "t9F7YsCNIKSA",
    "outputId": "37d12c2d-f5a5-432e-dca7-46537e3170d9"
   },
   "outputs": [
    {
     "name": "stdout",
     "output_type": "stream",
     "text": [
      "\u001b[1mDownloading and preparing dataset mnist/3.0.1 (download: 11.06 MiB, generated: 21.00 MiB, total: 32.06 MiB) to /root/tensorflow_datasets/mnist/3.0.1...\u001b[0m\n"
     ]
    },
    {
     "name": "stderr",
     "output_type": "stream",
     "text": [
      "WARNING:absl:Dataset mnist is hosted on GCS. It will automatically be downloaded to your\n",
      "local data directory. If you'd instead prefer to read directly from our public\n",
      "GCS bucket (recommended if you're running on GCP), you can instead pass\n",
      "`try_gcs=True` to `tfds.load` or set `data_dir=gs://tfds-data/datasets`.\n",
      "\n"
     ]
    },
    {
     "data": {
      "application/vnd.jupyter.widget-view+json": {
       "model_id": "0b3b57f835954d01ac2e4f6bfa55a7a4",
       "version_major": 2,
       "version_minor": 0
      },
      "text/plain": [
       "HBox(children=(FloatProgress(value=0.0, description='Dl Completed...', max=4.0, style=ProgressStyle(descriptio…"
      ]
     },
     "metadata": {
      "tags": []
     },
     "output_type": "display_data"
    },
    {
     "name": "stdout",
     "output_type": "stream",
     "text": [
      "\n",
      "\n",
      "\u001b[1mDataset mnist downloaded and prepared to /root/tensorflow_datasets/mnist/3.0.1. Subsequent calls will reuse this data.\u001b[0m\n"
     ]
    }
   ],
   "source": [
    "# Load the train and test sets from TFDS\n",
    "\n",
    "BATCH_SIZE = 128\n",
    "SHUFFLE_BUFFER_SIZE = 1024\n",
    "\n",
    "train_dataset = tfds.load('mnist', as_supervised=True, split=\"train\")\n",
    "train_dataset = train_dataset.map(map_image)\n",
    "train_dataset = train_dataset.shuffle(SHUFFLE_BUFFER_SIZE).batch(BATCH_SIZE).repeat()\n",
    "\n",
    "test_dataset = tfds.load('mnist', as_supervised=True, split=\"test\")\n",
    "test_dataset = test_dataset.map(map_image)\n",
    "test_dataset = test_dataset.batch(BATCH_SIZE).repeat()"
   ]
  },
  {
   "cell_type": "markdown",
   "metadata": {
    "id": "Ji6sa0SXe3zP"
   },
   "source": [
    "## Build the Model"
   ]
  },
  {
   "cell_type": "markdown",
   "metadata": {
    "id": "x8OFTvkO02gV"
   },
   "source": [
    "As mentioned, you will have a deeper network for the autoencoder. Compare the layers here with that of the shallow network you built in the previous lab."
   ]
  },
  {
   "cell_type": "code",
   "execution_count": 4,
   "metadata": {
    "id": "KRrE2BV4IpzR"
   },
   "outputs": [],
   "source": [
    "def deep_autoencoder():\n",
    "  '''Builds the encoder and decoder using Dense layers.'''\n",
    "  encoder = tf.keras.layers.Dense(units=128, activation='relu')(inputs)\n",
    "  encoder = tf.keras.layers.Dense(units=64, activation='relu')(encoder)\n",
    "  encoder = tf.keras.layers.Dense(units=32, activation='relu')(encoder)\n",
    "\n",
    "  decoder = tf.keras.layers.Dense(units=64, activation='relu')(encoder)\n",
    "  decoder = tf.keras.layers.Dense(units=128, activation='relu')(decoder)\n",
    "  decoder = tf.keras.layers.Dense(units=784, activation='sigmoid')(decoder)\n",
    "  \n",
    "  return encoder, decoder\n",
    "\n",
    "# set the input tensor\n",
    "inputs =  tf.keras.layers.Input(shape=(784,))\n",
    "\n",
    "# get the encoder and decoder output\n",
    "deep_encoder_output, deep_autoencoder_output = deep_autoencoder()\n",
    "\n",
    "# setup the encoder because you will visualize its output later\n",
    "deep_encoder_model = tf.keras.Model(inputs=inputs, outputs=deep_encoder_output)\n",
    "\n",
    "# setup the autoencoder\n",
    "deep_autoencoder_model = tf.keras.Model(inputs=inputs, outputs=deep_autoencoder_output)"
   ]
  },
  {
   "cell_type": "markdown",
   "metadata": {
    "id": "5zG5ml6ufAz7"
   },
   "source": [
    "## Compile and Train the Model"
   ]
  },
  {
   "cell_type": "code",
   "execution_count": 5,
   "metadata": {
    "colab": {
     "base_uri": "https://localhost:8080/"
    },
    "id": "gj3xr9gxfAqP",
    "outputId": "0a822962-f964-4a65-8087-723d219863e8"
   },
   "outputs": [
    {
     "name": "stdout",
     "output_type": "stream",
     "text": [
      "Epoch 1/50\n",
      "468/468 [==============================] - 10s 16ms/step - loss: 0.2797\n",
      "Epoch 2/50\n",
      "468/468 [==============================] - 5s 10ms/step - loss: 0.1335\n",
      "Epoch 3/50\n",
      "468/468 [==============================] - 5s 10ms/step - loss: 0.1198\n",
      "Epoch 4/50\n",
      "468/468 [==============================] - 5s 10ms/step - loss: 0.1130\n",
      "Epoch 5/50\n",
      "468/468 [==============================] - 5s 10ms/step - loss: 0.1077\n",
      "Epoch 6/50\n",
      "468/468 [==============================] - 5s 10ms/step - loss: 0.1038\n",
      "Epoch 7/50\n",
      "468/468 [==============================] - 5s 10ms/step - loss: 0.1014\n",
      "Epoch 8/50\n",
      "468/468 [==============================] - 5s 10ms/step - loss: 0.0992\n",
      "Epoch 9/50\n",
      "468/468 [==============================] - 5s 10ms/step - loss: 0.0976\n",
      "Epoch 10/50\n",
      "468/468 [==============================] - 5s 10ms/step - loss: 0.0958\n",
      "Epoch 11/50\n",
      "468/468 [==============================] - 5s 10ms/step - loss: 0.0948\n",
      "Epoch 12/50\n",
      "468/468 [==============================] - 5s 10ms/step - loss: 0.0938\n",
      "Epoch 13/50\n",
      "468/468 [==============================] - 5s 10ms/step - loss: 0.0927\n",
      "Epoch 14/50\n",
      "468/468 [==============================] - 5s 10ms/step - loss: 0.0918\n",
      "Epoch 15/50\n",
      "468/468 [==============================] - 5s 10ms/step - loss: 0.0910\n",
      "Epoch 16/50\n",
      "468/468 [==============================] - 5s 10ms/step - loss: 0.0903\n",
      "Epoch 17/50\n",
      "468/468 [==============================] - 4s 10ms/step - loss: 0.0897\n",
      "Epoch 18/50\n",
      "468/468 [==============================] - 5s 10ms/step - loss: 0.0890\n",
      "Epoch 19/50\n",
      "468/468 [==============================] - 4s 9ms/step - loss: 0.0885\n",
      "Epoch 20/50\n",
      "468/468 [==============================] - 4s 10ms/step - loss: 0.0880\n",
      "Epoch 21/50\n",
      "468/468 [==============================] - 5s 10ms/step - loss: 0.0875\n",
      "Epoch 22/50\n",
      "468/468 [==============================] - 5s 10ms/step - loss: 0.0872\n",
      "Epoch 23/50\n",
      "468/468 [==============================] - 4s 9ms/step - loss: 0.0866\n",
      "Epoch 24/50\n",
      "468/468 [==============================] - 5s 10ms/step - loss: 0.0863\n",
      "Epoch 25/50\n",
      "468/468 [==============================] - 5s 10ms/step - loss: 0.0859\n",
      "Epoch 26/50\n",
      "468/468 [==============================] - 5s 10ms/step - loss: 0.0857\n",
      "Epoch 27/50\n",
      "468/468 [==============================] - 4s 10ms/step - loss: 0.0854\n",
      "Epoch 28/50\n",
      "468/468 [==============================] - 4s 10ms/step - loss: 0.0852\n",
      "Epoch 29/50\n",
      "468/468 [==============================] - 5s 10ms/step - loss: 0.0850\n",
      "Epoch 30/50\n",
      "468/468 [==============================] - 4s 10ms/step - loss: 0.0847\n",
      "Epoch 31/50\n",
      "468/468 [==============================] - 4s 9ms/step - loss: 0.0844\n",
      "Epoch 32/50\n",
      "468/468 [==============================] - 5s 10ms/step - loss: 0.0844\n",
      "Epoch 33/50\n",
      "468/468 [==============================] - 5s 10ms/step - loss: 0.0842\n",
      "Epoch 34/50\n",
      "468/468 [==============================] - 5s 10ms/step - loss: 0.0839\n",
      "Epoch 35/50\n",
      "468/468 [==============================] - 5s 10ms/step - loss: 0.0839\n",
      "Epoch 36/50\n",
      "468/468 [==============================] - 4s 10ms/step - loss: 0.0836\n",
      "Epoch 37/50\n",
      "468/468 [==============================] - 4s 10ms/step - loss: 0.0835\n",
      "Epoch 38/50\n",
      "468/468 [==============================] - 4s 10ms/step - loss: 0.0835\n",
      "Epoch 39/50\n",
      "468/468 [==============================] - 5s 10ms/step - loss: 0.0833\n",
      "Epoch 40/50\n",
      "468/468 [==============================] - 4s 10ms/step - loss: 0.0832\n",
      "Epoch 41/50\n",
      "468/468 [==============================] - 4s 10ms/step - loss: 0.0832\n",
      "Epoch 42/50\n",
      "468/468 [==============================] - 5s 10ms/step - loss: 0.0830\n",
      "Epoch 43/50\n",
      "468/468 [==============================] - 4s 9ms/step - loss: 0.0831\n",
      "Epoch 44/50\n",
      "468/468 [==============================] - 5s 10ms/step - loss: 0.0829\n",
      "Epoch 45/50\n",
      "468/468 [==============================] - 5s 10ms/step - loss: 0.0828\n",
      "Epoch 46/50\n",
      "468/468 [==============================] - 5s 10ms/step - loss: 0.0828\n",
      "Epoch 47/50\n",
      "468/468 [==============================] - 5s 10ms/step - loss: 0.0827\n",
      "Epoch 48/50\n",
      "468/468 [==============================] - 5s 10ms/step - loss: 0.0826\n",
      "Epoch 49/50\n",
      "468/468 [==============================] - 5s 10ms/step - loss: 0.0825\n",
      "Epoch 50/50\n",
      "468/468 [==============================] - 4s 10ms/step - loss: 0.0826\n"
     ]
    }
   ],
   "source": [
    "train_steps = 60000 // BATCH_SIZE\n",
    "\n",
    "deep_autoencoder_model.compile(optimizer=tf.keras.optimizers.Adam(), loss='binary_crossentropy')\n",
    "deep_auto_history = deep_autoencoder_model.fit(train_dataset, steps_per_epoch=train_steps, epochs=50)"
   ]
  },
  {
   "cell_type": "markdown",
   "metadata": {
    "id": "n1XL84ydfGEh"
   },
   "source": [
    "## Display sample results\n",
    "\n",
    "See the results using the model you just trained."
   ]
  },
  {
   "cell_type": "code",
   "execution_count": 6,
   "metadata": {
    "id": "GcR54SEZ1-XF"
   },
   "outputs": [],
   "source": [
    "def display_one_row(disp_images, offset, shape=(28, 28)):\n",
    "  '''Display sample outputs in one row.'''\n",
    "  for idx, test_image in enumerate(disp_images):\n",
    "    plt.subplot(3, 10, offset + idx + 1)\n",
    "    plt.xticks([])\n",
    "    plt.yticks([])\n",
    "    test_image = np.reshape(test_image, shape)\n",
    "    plt.imshow(test_image, cmap='gray')\n",
    "\n",
    "\n",
    "def display_results(disp_input_images, disp_encoded, disp_predicted, enc_shape=(8,4)):\n",
    "  '''Displays the input, encoded, and decoded output values.'''\n",
    "  plt.figure(figsize=(15, 5))\n",
    "  display_one_row(disp_input_images, 0, shape=(28,28,))\n",
    "  display_one_row(disp_encoded, 10, shape=enc_shape)\n",
    "  display_one_row(disp_predicted, 20, shape=(28,28,))"
   ]
  },
  {
   "cell_type": "code",
   "execution_count": 8,
   "metadata": {
    "colab": {
     "base_uri": "https://localhost:8080/",
     "height": 297
    },
    "id": "qtQyQRxRN_hH",
    "outputId": "42bc10aa-bb93-4a4c-9f4e-5ef9552eda1d"
   },
   "outputs": [
    {
     "data": {
      "image/png": "[encoded data removed]",
      "text/plain": [
       "<Figure size 1080x360 with 30 Axes>"
      ]
     },
     "metadata": {
      "tags": []
     },
     "output_type": "display_data"
    }
   ],
   "source": [
    "# take 1 batch of the dataset\n",
    "test_dataset = test_dataset.take(1)\n",
    "\n",
    "# take the input images and put them in a list\n",
    "output_samples = []\n",
    "for input_image, image in tfds.as_numpy(test_dataset):\n",
    "      output_samples = input_image\n",
    "\n",
    "# pick 10 random numbers to be used as indices to the list above\n",
    "idxs = np.random.choice(BATCH_SIZE, size=10)\n",
    "\n",
    "# get the encoder output\n",
    "encoded_predicted = deep_encoder_model.predict(test_dataset)\n",
    "\n",
    "# get a prediction for the test batch\n",
    "deep_predicted = deep_autoencoder_model.predict(test_dataset)\n",
    "\n",
    "# display the 10 samples, encodings and decoded values!\n",
    "display_results(output_samples[idxs], encoded_predicted[idxs], deep_predicted[idxs])"
   ]
  }
 ],
 "metadata": {
  "accelerator": "GPU",
  "colab": {
   "collapsed_sections": [],
   "name": "C4_W2_Lab_3_MNIST_DeepAutoencoder.ipynb",
   "provenance": []
  },
  "kernelspec": {
   "display_name": "Python 3",
   "name": "python3"
  },
  "widgets": {
   "application/vnd.jupyter.widget-state+json": {
    "0b3b57f835954d01ac2e4f6bfa55a7a4": {
     "model_module": "@jupyter-widgets/controls",
     "model_name": "HBoxModel",
     "state": {
      "_dom_classes": [],
      "_model_module": "@jupyter-widgets/controls",
      "_model_module_version": "1.5.0",
      "_model_name": "HBoxModel",
      "_view_count": null,
      "_view_module": "@jupyter-widgets/controls",
      "_view_module_version": "1.5.0",
      "_view_name": "HBoxView",
      "box_style": "",
      "children": [
       "IPY_MODEL_2b532402e07f4e9192bd292d615791ef",
       "IPY_MODEL_16e82f97ab6f4f2fa2fc027e4c019df2"
      ],
      "layout": "IPY_MODEL_dbba485e6139407a838c2c1c3a174988"
     }
    },
    "16e82f97ab6f4f2fa2fc027e4c019df2": {
     "model_module": "@jupyter-widgets/controls",
     "model_name": "HTMLModel",
     "state": {
      "_dom_classes": [],
      "_model_module": "@jupyter-widgets/controls",
      "_model_module_version": "1.5.0",
      "_model_name": "HTMLModel",
      "_view_count": null,
      "_view_module": "@jupyter-widgets/controls",
      "_view_module_version": "1.5.0",
      "_view_name": "HTMLView",
      "description": "",
      "description_tooltip": null,
      "layout": "IPY_MODEL_2c556ab05c8b478c988f5dbfbcb96597",
      "placeholder": "​",
      "style": "IPY_MODEL_2e10096c01b141b5b0fedbe800cf496d",
      "value": " 4/4 [00:08&lt;00:00,  2.11s/ file]"
     }
    },
    "2b532402e07f4e9192bd292d615791ef": {
     "model_module": "@jupyter-widgets/controls",
     "model_name": "FloatProgressModel",
     "state": {
      "_dom_classes": [],
      "_model_module": "@jupyter-widgets/controls",
      "_model_module_version": "1.5.0",
      "_model_name": "FloatProgressModel",
      "_view_count": null,
      "_view_module": "@jupyter-widgets/controls",
      "_view_module_version": "1.5.0",
      "_view_name": "ProgressView",
      "bar_style": "success",
      "description": "Dl Completed...: 100%",
      "description_tooltip": null,
      "layout": "IPY_MODEL_4246d50b0eee466c9de67447f10df368",
      "max": 4,
      "min": 0,
      "orientation": "horizontal",
      "style": "IPY_MODEL_5ba290defb734b6a967beaa677e8316d",
      "value": 4
     }
    },
    "2c556ab05c8b478c988f5dbfbcb96597": {
     "model_module": "@jupyter-widgets/base",
     "model_name": "LayoutModel",
     "state": {
      "_model_module": "@jupyter-widgets/base",
      "_model_module_version": "1.2.0",
      "_model_name": "LayoutModel",
      "_view_count": null,
      "_view_module": "@jupyter-widgets/base",
      "_view_module_version": "1.2.0",
      "_view_name": "LayoutView",
      "align_content": null,
      "align_items": null,
      "align_self": null,
      "border": null,
      "bottom": null,
      "display": null,
      "flex": null,
      "flex_flow": null,
      "grid_area": null,
      "grid_auto_columns": null,
      "grid_auto_flow": null,
      "grid_auto_rows": null,
      "grid_column": null,
      "grid_gap": null,
      "grid_row": null,
      "grid_template_areas": null,
      "grid_template_columns": null,
      "grid_template_rows": null,
      "height": null,
      "justify_content": null,
      "justify_items": null,
      "left": null,
      "margin": null,
      "max_height": null,
      "max_width": null,
      "min_height": null,
      "min_width": null,
      "object_fit": null,
      "object_position": null,
      "order": null,
      "overflow": null,
      "overflow_x": null,
      "overflow_y": null,
      "padding": null,
      "right": null,
      "top": null,
      "visibility": null,
      "width": null
     }
    },
    "2e10096c01b141b5b0fedbe800cf496d": {
     "model_module": "@jupyter-widgets/controls",
     "model_name": "DescriptionStyleModel",
     "state": {
      "_model_module": "@jupyter-widgets/controls",
      "_model_module_version": "1.5.0",
      "_model_name": "DescriptionStyleModel",
      "_view_count": null,
      "_view_module": "@jupyter-widgets/base",
      "_view_module_version": "1.2.0",
      "_view_name": "StyleView",
      "description_width": ""
     }
    },
    "4246d50b0eee466c9de67447f10df368": {
     "model_module": "@jupyter-widgets/base",
     "model_name": "LayoutModel",
     "state": {
      "_model_module": "@jupyter-widgets/base",
      "_model_module_version": "1.2.0",
      "_model_name": "LayoutModel",
      "_view_count": null,
      "_view_module": "@jupyter-widgets/base",
      "_view_module_version": "1.2.0",
      "_view_name": "LayoutView",
      "align_content": null,
      "align_items": null,
      "align_self": null,
      "border": null,
      "bottom": null,
      "display": null,
      "flex": null,
      "flex_flow": null,
      "grid_area": null,
      "grid_auto_columns": null,
      "grid_auto_flow": null,
      "grid_auto_rows": null,
      "grid_column": null,
      "grid_gap": null,
      "grid_row": null,
      "grid_template_areas": null,
      "grid_template_columns": null,
      "grid_template_rows": null,
      "height": null,
      "justify_content": null,
      "justify_items": null,
      "left": null,
      "margin": null,
      "max_height": null,
      "max_width": null,
      "min_height": null,
      "min_width": null,
      "object_fit": null,
      "object_position": null,
      "order": null,
      "overflow": null,
      "overflow_x": null,
      "overflow_y": null,
      "padding": null,
      "right": null,
      "top": null,
      "visibility": null,
      "width": null
     }
    },
    "5ba290defb734b6a967beaa677e8316d": {
     "model_module": "@jupyter-widgets/controls",
     "model_name": "ProgressStyleModel",
     "state": {
      "_model_module": "@jupyter-widgets/controls",
      "_model_module_version": "1.5.0",
      "_model_name": "ProgressStyleModel",
      "_view_count": null,
      "_view_module": "@jupyter-widgets/base",
      "_view_module_version": "1.2.0",
      "_view_name": "StyleView",
      "bar_color": null,
      "description_width": "initial"
     }
    },
    "dbba485e6139407a838c2c1c3a174988": {
     "model_module": "@jupyter-widgets/base",
     "model_name": "LayoutModel",
     "state": {
      "_model_module": "@jupyter-widgets/base",
      "_model_module_version": "1.2.0",
      "_model_name": "LayoutModel",
      "_view_count": null,
      "_view_module": "@jupyter-widgets/base",
      "_view_module_version": "1.2.0",
      "_view_name": "LayoutView",
      "align_content": null,
      "align_items": null,
      "align_self": null,
      "border": null,
      "bottom": null,
      "display": null,
      "flex": null,
      "flex_flow": null,
      "grid_area": null,
      "grid_auto_columns": null,
      "grid_auto_flow": null,
      "grid_auto_rows": null,
      "grid_column": null,
      "grid_gap": null,
      "grid_row": null,
      "grid_template_areas": null,
      "grid_template_columns": null,
      "grid_template_rows": null,
      "height": null,
      "justify_content": null,
      "justify_items": null,
      "left": null,
      "margin": null,
      "max_height": null,
      "max_width": null,
      "min_height": null,
      "min_width": null,
      "object_fit": null,
      "object_position": null,
      "order": null,
      "overflow": null,
      "overflow_x": null,
      "overflow_y": null,
      "padding": null,
      "right": null,
      "top": null,
      "visibility": null,
      "width": null
     }
    }
   }
  }
 },
 "nbformat": 4,
 "nbformat_minor": 0
}
