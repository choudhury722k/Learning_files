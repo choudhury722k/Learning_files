{
 "cells": [
  {
   "cell_type": "markdown",
   "metadata": {
    "id": "L6S2HVAkSt0p"
   },
   "source": [
    "# Week 2 Assignment: CIFAR-10 Autoencoder\n",
    "\n",
    "For this week, you will create a convolutional autoencoder for the [CIFAR10](https://www.tensorflow.org/datasets/catalog/cifar10) dataset. You are free to choose the architecture of your autoencoder provided that the output image has the same dimensions as the input image.\n",
    "\n",
    "After training, your model should meet loss and accuracy requirements when evaluated with the test dataset. You will then download the model and upload it in the classroom for grading. \n",
    "\n",
    "Let's begin!"
   ]
  },
  {
   "cell_type": "markdown",
   "metadata": {
    "id": "6r4iPr2jyisR"
   },
   "source": [
    "***Important:*** *This colab notebook has read-only access so you won't be able to save your changes. If you want to save your work periodically, please click `File -> Save a Copy in Drive` to create a copy in your account, then work from there.*  "
   ]
  },
  {
   "cell_type": "markdown",
   "metadata": {
    "id": "g1mzy2J8_nc1"
   },
   "source": [
    "## Imports"
   ]
  },
  {
   "cell_type": "code",
   "execution_count": 1,
   "metadata": {
    "id": "3EXwoz-KHtWO"
   },
   "outputs": [],
   "source": [
    "try:\n",
    "  # %tensorflow_version only exists in Colab.\n",
    "  %tensorflow_version 2.x\n",
    "except Exception:\n",
    "  pass\n",
    "\n",
    "import tensorflow as tf\n",
    "import tensorflow_datasets as tfds\n",
    "\n",
    "from keras.models import Sequential"
   ]
  },
  {
   "cell_type": "markdown",
   "metadata": {
    "id": "n2Gs6Lyc_pd0"
   },
   "source": [
    "## Load and prepare the dataset\n",
    "\n",
    "The [CIFAR 10](https://www.tensorflow.org/datasets/catalog/cifar10) dataset already has train and test splits and you can use those in this exercise. Here are the general steps:\n",
    "\n",
    "* Load the train/test split from TFDS. Set `as_supervised` to `True` so it will be convenient to use the preprocessing function we provided.\n",
    "* Normalize the pixel values to the range [0,1], then return `image, image` pairs for training instead of `image, label`. This is because you will check if the output image is successfully regenerated after going through your autoencoder.\n",
    "* Shuffle and batch the train set. Batch the test set (no need to shuffle).\n"
   ]
  },
  {
   "cell_type": "code",
   "execution_count": 17,
   "metadata": {
    "id": "t9F7YsCNIKSA"
   },
   "outputs": [],
   "source": [
    "# preprocessing function\n",
    "def map_image(image, label):\n",
    "  image = tf.cast(image, dtype=tf.float32)\n",
    "  image = image / 255.0\n",
    "\n",
    "  return image, image # dataset label is not used. replaced with the same image input.\n",
    "\n",
    "# parameters\n",
    "BATCH_SIZE = 128\n",
    "SHUFFLE_BUFFER_SIZE = 1024\n",
    "\n",
    "\n",
    "### START CODE HERE (Replace instances of `None` with your code) ###\n",
    "\n",
    "# use tfds.load() to fetch the 'train' split of CIFAR-10\n",
    "train_dataset = tfds.load('cifar10', as_supervised = True, split = 'train')\n",
    "\n",
    "# preprocess the dataset with the `map_image()` function above\n",
    "train_dataset = train_dataset.map(map_image) \n",
    "\n",
    "# shuffle and batch the dataset\n",
    "train_dataset = train_dataset.shuffle(SHUFFLE_BUFFER_SIZE).batch(BATCH_SIZE)\n",
    "\n",
    "\n",
    "# use tfds.load() to fetch the 'test' split of CIFAR-10\n",
    "test_dataset = tfds.load('cifar10', as_supervised = True, split = 'test')\n",
    "\n",
    "# preprocess the dataset with the `map_image()` function above\n",
    "test_dataset = test_dataset.map(map_image) \n",
    "\n",
    "# batch the dataset\n",
    "test_dataset = test_dataset.shuffle(SHUFFLE_BUFFER_SIZE).batch(BATCH_SIZE)\n",
    "\n",
    "### END CODE HERE ###"
   ]
  },
  {
   "cell_type": "markdown",
   "metadata": {
    "id": "rPyOgGJs_t98"
   },
   "source": [
    "## Build the Model\n",
    "\n",
    "Create the autoencoder model. As shown in the lectures, you will want to downsample the image in the encoder layers then upsample it in the decoder path. Note that the output layer should be the same dimensions as the original image. Your input images will have the shape `(32, 32, 3)`. If you deviate from this, your model may not be recognized by the grader and may fail. \n",
    "\n",
    "We included a few hints to use the Sequential API below but feel free to remove it and use the Functional API just like in the ungraded labs if you're more comfortable with it. Another reason to use the latter is if you want to visualize the encoder output. As shown in the ungraded labs, it will be easier to indicate multiple outputs with the Functional API. That is not required for this assignment though so you can just stack layers sequentially if you want a simpler solution."
   ]
  },
  {
   "cell_type": "code",
   "execution_count": 19,
   "metadata": {
    "colab": {
     "base_uri": "https://localhost:8080/"
    },
    "id": "Wr-Bok3lRgA3",
    "outputId": "3f0fddf9-8465-470d-b8a7-5cdea44e2d5d"
   },
   "outputs": [
    {
     "name": "stdout",
     "output_type": "stream",
     "text": [
      "Model: \"sequential_1\"\n",
      "_________________________________________________________________\n",
      "Layer (type)                 Output Shape              Param #   \n",
      "=================================================================\n",
      "conv2d_22 (Conv2D)           (None, 32, 32, 32)        896       \n",
      "_________________________________________________________________\n",
      "batch_normalization (BatchNo (None, 32, 32, 32)        128       \n",
      "_________________________________________________________________\n",
      "conv2d_23 (Conv2D)           (None, 16, 16, 32)        9248      \n",
      "_________________________________________________________________\n",
      "conv2d_24 (Conv2D)           (None, 16, 16, 32)        9248      \n",
      "_________________________________________________________________\n",
      "batch_normalization_1 (Batch (None, 16, 16, 32)        128       \n",
      "_________________________________________________________________\n",
      "up_sampling2d_6 (UpSampling2 (None, 32, 32, 32)        0         \n",
      "_________________________________________________________________\n",
      "conv2d_25 (Conv2D)           (None, 32, 32, 32)        9248      \n",
      "_________________________________________________________________\n",
      "batch_normalization_2 (Batch (None, 32, 32, 32)        128       \n",
      "_________________________________________________________________\n",
      "conv2d_26 (Conv2D)           (None, 32, 32, 3)         99        \n",
      "=================================================================\n",
      "Total params: 29,123\n",
      "Trainable params: 28,931\n",
      "Non-trainable params: 192\n",
      "_________________________________________________________________\n"
     ]
    }
   ],
   "source": [
    "# suggested layers to use. feel free to add or remove as you see fit.\n",
    "from keras.layers import Conv2D, UpSampling2D\n",
    "\n",
    "# use the Sequential API (you can remove if you want to use the Functional API)\n",
    "#model = Sequential()\n",
    "\n",
    "### START CODE HERE ###\n",
    "# use `model.add()` to add layers (if using the Sequential API)\n",
    "\n",
    "\n",
    "# def encoder(inputs):\n",
    "#   '''Defines the encoder with two Conv2D and max pooling layers.'''\n",
    "#   conv_1 = tf.keras.layers.Conv2D(filters=64, kernel_size=(3,3), activation='relu', padding='same')(inputs)\n",
    "#   max_pool_1 = tf.keras.layers.MaxPooling2D(pool_size=(2,2))(conv_1)\n",
    "\n",
    "#   conv_2 = tf.keras.layers.Conv2D(filters=128, kernel_size=(3,3), activation='relu', padding='same')(max_pool_1)\n",
    "#   max_pool_2 = tf.keras.layers.MaxPooling2D(pool_size=(2,2))(conv_2)\n",
    "\n",
    "#   return max_pool_2\n",
    "\n",
    "\n",
    "\n",
    "\n",
    "# def bottle_neck(inputs):\n",
    "#   '''Defines the bottleneck.'''\n",
    "#   bottle_neck = tf.keras.layers.Conv2D(filters=256, kernel_size=(3,3), activation='relu', padding='same')(inputs)\n",
    "#   encoder_visualization = tf.keras.layers.Conv2D(filters=1, kernel_size=(3,3), activation='sigmoid', padding='same')(bottle_neck)\n",
    "\n",
    "#   return bottle_neck, encoder_visualization\n",
    "\n",
    "\n",
    "\n",
    "\n",
    "# def decoder(inputs):\n",
    "#   '''Defines the decoder path to upsample back to the original image size.'''\n",
    "#   conv_1 = tf.keras.layers.Conv2D(filters=128, kernel_size=(3,3), activation='relu', padding='same')(inputs)\n",
    "#   up_sample_1 = tf.keras.layers.UpSampling2D(size=(2,2))(conv_1)\n",
    "\n",
    "#   conv_2 = tf.keras.layers.Conv2D(filters=64, kernel_size=(3,3), activation='relu', padding='same')(up_sample_1)\n",
    "#   up_sample_2 = tf.keras.layers.UpSampling2D(size=(2,2))(conv_2)\n",
    "\n",
    "#   conv_3 = tf.keras.layers.Conv2D(filters=1, kernel_size=(3,3), activation='sigmoid', padding='same')(up_sample_2)\n",
    "\n",
    "#   return conv_3\n",
    "\n",
    "\n",
    "# def convolutional_auto_encoder():\n",
    "#   '''Builds the entire autoencoder model.'''\n",
    "#   inputs = tf.keras.layers.Input(shape=(32, 32, 3,))\n",
    "#   encoder_output = encoder(inputs)\n",
    "#   bottleneck_output, encoder_visualization = bottle_neck(encoder_output)\n",
    "#   decoder_output = decoder(bottleneck_output)\n",
    "  \n",
    "#   model = tf.keras.Model(inputs =inputs, outputs=decoder_output)\n",
    "#   encoder_model = tf.keras.Model(inputs=inputs, outputs=encoder_visualization)\n",
    "#   return model, encoder_model\n",
    "\n",
    "\n",
    "\n",
    "# model , enoder_model = convolutional_auto_encoder() \n",
    "\n",
    "\n",
    "\n",
    "model = Sequential()\n",
    "\n",
    "model.add(Conv2D(32, kernel_size=3, strides=1, padding='same', activation='relu', input_shape=(32, 32, 3)))\n",
    "model.add(tf.keras.layers.BatchNormalization())     # 32x32x32\n",
    "model.add(Conv2D(32, kernel_size=3, strides=2, padding='same', activation='relu'))      # 16x16x32\n",
    "model.add(Conv2D(32, kernel_size=3, strides=1, padding='same', activation='relu'))      # 16x16x32\n",
    "model.add(tf.keras.layers.BatchNormalization())     # 16x16x32\n",
    "model.add(UpSampling2D())\n",
    "model.add(Conv2D(32, kernel_size=3, strides=1, padding='same', activation='relu'))      # 32x32x32\n",
    "model.add(tf.keras.layers.BatchNormalization()) \n",
    "model.add(Conv2D(3,  kernel_size=1, strides=1, padding='same', activation='sigmoid'))   # 32x32x3\n",
    "\n",
    "model.compile(optimizer='adam', metrics=['accuracy'], loss='mean_squared_error')\n",
    "\n",
    "\n",
    "\n",
    "\n",
    "### END CODE HERE ###\n",
    "\n",
    "model.summary()"
   ]
  },
  {
   "cell_type": "markdown",
   "metadata": {
    "id": "jRWTAijKEVUC"
   },
   "source": [
    "## Configure training parameters\n",
    "\n",
    "We have already provided the optimizer, metrics, and loss in the code below."
   ]
  },
  {
   "cell_type": "code",
   "execution_count": 20,
   "metadata": {
    "id": "iHIeD9eDETSk"
   },
   "outputs": [],
   "source": [
    "# Please do not change the model.compile() parameters\n",
    "model.compile(optimizer='adam', metrics=['accuracy'], loss='mean_squared_error')"
   ]
  },
  {
   "cell_type": "markdown",
   "metadata": {
    "id": "tLQPhm1W_8dC"
   },
   "source": [
    "## Training\n",
    "\n",
    "You can now use [model.fit()](https://keras.io/api/models/model_training_apis/#fit-method) to train your model. You will pass in the `train_dataset` and you are free to configure the other parameters. As with any training, you should see the loss generally going down and the accuracy going up with each epoch. If not, please revisit the previous sections to find possible bugs."
   ]
  },
  {
   "cell_type": "code",
   "execution_count": 22,
   "metadata": {
    "colab": {
     "base_uri": "https://localhost:8080/"
    },
    "id": "AMBimOnsRvg0",
    "outputId": "69c51eac-20e7-4411-d3a9-d97d279a2425"
   },
   "outputs": [
    {
     "name": "stdout",
     "output_type": "stream",
     "text": [
      "Epoch 1/7\n",
      "391/391 [==============================] - 16s 42ms/step - loss: 6.4719e-04 - accuracy: 0.8551 - val_loss: 6.1107e-04 - val_accuracy: 0.8783\n",
      "Epoch 2/7\n",
      "391/391 [==============================] - 17s 42ms/step - loss: 5.8921e-04 - accuracy: 0.8603 - val_loss: 7.6314e-04 - val_accuracy: 0.8210\n",
      "Epoch 3/7\n",
      "391/391 [==============================] - 17s 42ms/step - loss: 5.2535e-04 - accuracy: 0.8625 - val_loss: 3.3784e-04 - val_accuracy: 0.8804\n",
      "Epoch 4/7\n",
      "391/391 [==============================] - 17s 42ms/step - loss: 5.1930e-04 - accuracy: 0.8655 - val_loss: 5.4859e-04 - val_accuracy: 0.7965\n",
      "Epoch 5/7\n",
      "391/391 [==============================] - 17s 42ms/step - loss: 4.6337e-04 - accuracy: 0.8708 - val_loss: 4.6718e-04 - val_accuracy: 0.8913\n",
      "Epoch 6/7\n",
      "391/391 [==============================] - 17s 43ms/step - loss: 4.5380e-04 - accuracy: 0.8731 - val_loss: 3.4582e-04 - val_accuracy: 0.8656\n",
      "Epoch 7/7\n",
      "391/391 [==============================] - 17s 42ms/step - loss: 4.4285e-04 - accuracy: 0.8754 - val_loss: 5.0378e-04 - val_accuracy: 0.8734\n"
     ]
    },
    {
     "data": {
      "text/plain": [
       "<tensorflow.python.keras.callbacks.History at 0x7f125943e2e8>"
      ]
     },
     "execution_count": 22,
     "metadata": {
      "tags": []
     },
     "output_type": "execute_result"
    }
   ],
   "source": [
    "# parameters\n",
    "train_steps = 50000 // BATCH_SIZE \n",
    "val_steps = 10000 // BATCH_SIZE\n",
    "\n",
    "### START CODE HERE ###\n",
    "model.fit(train_dataset, validation_data=test_dataset, epochs=7)\n",
    "### END CODE HERE ###"
   ]
  },
  {
   "cell_type": "markdown",
   "metadata": {
    "id": "PT2l1c-SAaF4"
   },
   "source": [
    "## Model evaluation\n",
    "\n",
    "You can use this code to test your model locally before uploading to the grader. To pass, your model needs to satisfy these two requirements:\n",
    "\n",
    "* loss must be less than 0.01 \n",
    "* accuracy must be greater than 0.6"
   ]
  },
  {
   "cell_type": "code",
   "execution_count": 23,
   "metadata": {
    "colab": {
     "base_uri": "https://localhost:8080/"
    },
    "id": "vFncgqahSQhA",
    "outputId": "75074cd5-4a13-45c9-c64f-cd373caa8c79"
   },
   "outputs": [
    {
     "name": "stdout",
     "output_type": "stream",
     "text": [
      "10/10 [==============================] - 0s 19ms/step - loss: 5.0587e-04 - accuracy: 0.8740\n"
     ]
    }
   ],
   "source": [
    "result = model.evaluate(test_dataset, steps=10)"
   ]
  },
  {
   "cell_type": "markdown",
   "metadata": {
    "id": "di6VOHGwIsVM"
   },
   "source": [
    "If you did some visualization like in the ungraded labs, then you might see something like the gallery below. This part is not required."
   ]
  },
  {
   "cell_type": "markdown",
   "metadata": {
    "id": "wmpI4skkIA5L"
   },
   "source": [
    "<img src=\"https://drive.google.com/uc?export=view&id=12Fy-guiP-3tTPfc9IV2nHhqLvs7LwRo6\" width=\"75%\" height=\"75%\"/>"
   ]
  },
  {
   "cell_type": "markdown",
   "metadata": {
    "id": "uaRSkQPNAPT0"
   },
   "source": [
    "## Save your model\n",
    "\n",
    "Once you are satisfied with the results, you can now save your model. Please download it from the Files window on the left and go back to the Submission portal in Coursera for grading."
   ]
  },
  {
   "cell_type": "code",
   "execution_count": 24,
   "metadata": {
    "id": "pLFpLP-c7rDR"
   },
   "outputs": [],
   "source": [
    "model.save('mymodel.h5')"
   ]
  },
  {
   "cell_type": "markdown",
   "metadata": {
    "id": "QArMiXJTDxDe"
   },
   "source": [
    "**Congratulations on completing this week's assignment!**"
   ]
  }
 ],
 "metadata": {
  "accelerator": "GPU",
  "colab": {
   "collapsed_sections": [],
   "name": "C4W2_Assignment.ipynb",
   "provenance": []
  },
  "kernelspec": {
   "display_name": "Python 3",
   "language": "python",
   "name": "python3"
  },
  "language_info": {
   "codemirror_mode": {
    "name": "ipython",
    "version": 3
   },
   "file_extension": ".py",
   "mimetype": "text/x-python",
   "name": "python",
   "nbconvert_exporter": "python",
   "pygments_lexer": "ipython3",
   "version": "3.7.4"
  }
 },
 "nbformat": 4,
 "nbformat_minor": 0
}
