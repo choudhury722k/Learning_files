{
 "cells": [
  {
   "cell_type": "code",
   "execution_count": null,
   "metadata": {},
   "outputs": [],
   "source": [
    "\n",
    "!python -m pip install pip --upgrade --user -q --no-warn-script-location\n",
    "!python -m pip install numpy pandas seaborn matplotlib scipy statsmodels sklearn tensorflow keras torch torchvision \\\n",
    "    tqdm scikit-image --user -q --no-warn-script-location\n",
    "\n",
    "import IPython\n",
    "IPython.Application.instance().kernel.do_shutdown(True)\n"
   ]
  },
  {
   "cell_type": "code",
   "execution_count": null,
   "metadata": {
    "id": "jnDkloLJPVHb"
   },
   "outputs": [],
   "source": [
    "#Importing Train Dataset\n",
    "import pandas as pd\n",
    "import numpy as np\n",
    "import matplotlib.pyplot as plt\n",
    "import statsmodels.api as sm\n",
    "from statsmodels.tsa.stattools import adfuller\n"
   ]
  },
  {
   "cell_type": "code",
   "execution_count": null,
   "metadata": {
    "id": "GCby-nx0QnVt"
   },
   "outputs": [],
   "source": [
    "train = pd.read_csv(\"Electric_Production.csv\")\n",
    "train.shape"
   ]
  },
  {
   "cell_type": "code",
   "execution_count": null,
   "metadata": {
    "id": "pPdgdlwJQnVw"
   },
   "outputs": [],
   "source": [
    "143206 / 2"
   ]
  },
  {
   "cell_type": "code",
   "execution_count": null,
   "metadata": {
    "id": "RLPVmLQ4P5rt"
   },
   "outputs": [],
   "source": [
    "train.head(10)"
   ]
  },
  {
   "cell_type": "markdown",
   "metadata": {
    "id": "uEDEggOI60Hv"
   },
   "source": [
    "## **Visual Test**\n",
    "\n",
    "### Line Plot"
   ]
  },
  {
   "cell_type": "code",
   "execution_count": null,
   "metadata": {
    "id": "nugq9eb9RAXE"
   },
   "outputs": [],
   "source": [
    "plt.figure(figsize=(16,7));\n",
    "plt.plot(train[\"Value\"],color=\"lightblue\");"
   ]
  },
  {
   "cell_type": "markdown",
   "metadata": {
    "id": "J8glYeGzQnVz"
   },
   "source": [
    "### Histogram Plot"
   ]
  },
  {
   "cell_type": "code",
   "execution_count": null,
   "metadata": {
    "id": "mWnHT4XfYhEK"
   },
   "outputs": [],
   "source": [
    "plt.figure(figsize=(16,7));\n",
    "plt.hist(train[\"Value\"],color=\"lightblue\");"
   ]
  },
  {
   "cell_type": "markdown",
   "metadata": {
    "id": "nmzHV-zV6_Kd"
   },
   "source": [
    "## **Summary Statistics**"
   ]
  },
  {
   "cell_type": "code",
   "execution_count": null,
   "metadata": {
    "id": "UCRh5Ux0ZvuW"
   },
   "outputs": [],
   "source": [
    "#Split the data\n",
    "train_1=train[0:199]\n",
    "train_2=train[200:397]"
   ]
  },
  {
   "cell_type": "code",
   "execution_count": null,
   "metadata": {
    "id": "kkpCYwx_aDnu"
   },
   "outputs": [],
   "source": [
    "#Mean of data\n",
    "train_1.mean()"
   ]
  },
  {
   "cell_type": "code",
   "execution_count": null,
   "metadata": {
    "id": "NZJgavhDaIwL"
   },
   "outputs": [],
   "source": [
    "train_2.mean()"
   ]
  },
  {
   "cell_type": "code",
   "execution_count": null,
   "metadata": {
    "id": "GB-QdQZ5aNH3"
   },
   "outputs": [],
   "source": [
    "#Variance of data\n",
    "train_1.var()"
   ]
  },
  {
   "cell_type": "code",
   "execution_count": null,
   "metadata": {
    "id": "vIH7rfEAaQ8Y"
   },
   "outputs": [],
   "source": [
    "train_2.var()"
   ]
  },
  {
   "cell_type": "markdown",
   "metadata": {
    "id": "q78GIVXY7NTq"
   },
   "source": [
    "## **Augmentated Dicky Fuller Test**"
   ]
  },
  {
   "cell_type": "code",
   "execution_count": null,
   "metadata": {
    "id": "PAYy_evQTbiA"
   },
   "outputs": [],
   "source": [
    "t = train[\"Value\"].values\n",
    "timeseries = adfuller(t)\n",
    "\n",
    "print('ADF Statistic: %f' % timeseries[0])\n",
    "print('p-value: %f' % timeseries[1])\n",
    "print('Critical Values:')\n",
    "\n",
    "for key, value in timeseries[4].items():\n",
    "    print('\\t%s: %.3f' % (key, value))\n",
    "\n",
    "if timeseries[0] > timeseries[4][\"5%\"]:\n",
    "    print (\"Failed to Reject Ho - Time Series is Non-Stationary\")\n",
    "else:\n",
    "    print (\"Reject Ho - Time Series is Stationary\")"
   ]
  },
  {
   "cell_type": "code",
   "execution_count": null,
   "metadata": {
    "id": "5yCcpky3QnV5"
   },
   "outputs": [],
   "source": []
  }
 ],
 "metadata": {
  "colab": {
   "collapsed_sections": [],
   "name": "1_timeseries_stationarity.ipynb",
   "provenance": []
  },
  "kernelspec": {
   "display_name": "Python 3 (ipykernel)",
   "language": "python",
   "name": "python3"
  },
  "language_info": {
   "codemirror_mode": {
    "name": "ipython",
    "version": 3
   },
   "file_extension": ".py",
   "mimetype": "text/x-python",
   "name": "python",
   "nbconvert_exporter": "python",
   "pygments_lexer": "ipython3",
   "version": "3.9.7"
  }
 },
 "nbformat": 4,
 "nbformat_minor": 4
}
