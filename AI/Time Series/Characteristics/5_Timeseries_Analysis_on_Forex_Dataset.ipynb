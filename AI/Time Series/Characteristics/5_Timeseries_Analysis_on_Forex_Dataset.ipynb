{
 "cells": [
  {
   "cell_type": "markdown",
   "metadata": {
    "id": "gklRQkcG26kE"
   },
   "source": [
    "# **Forex Historical Dataset**"
   ]
  },
  {
   "cell_type": "markdown",
   "metadata": {
    "id": "2G8DAoPL2-1d"
   },
   "source": [
    "\n",
    "Forex or the foreign exchange market is a decentralised system for foreign currency trading and exchange. Foreign exchange is the process of changing one country’s currency into another country’s currency for trading, commerce, or tourism. The rise to the foreign exchange services and trading was due to the varying values of individual currencies. In the world trade market Forex is regarded as the largest and most liquid asset market. National currencies have an exchange rate fixed in pairs, e.g. USD/JPY. Commercial and investment banks carry out most of the trading process on behalf of their clients. "
   ]
  },
  {
   "cell_type": "markdown",
   "metadata": {
    "id": "BPW_alqH3ClW"
   },
   "source": [
    "# **Time Series Analysis**"
   ]
  },
  {
   "cell_type": "markdown",
   "metadata": {
    "id": "hXL_Sv093H9K"
   },
   "source": [
    "The dataset used for demonstration is the Forex pair EUR/USD dataset which holds the record from 1971 to 2019. Dataset [link](https://www.kaggle.com/maheshtaank/eurusd-daily)."
   ]
  },
  {
   "cell_type": "code",
   "execution_count": null,
   "metadata": {},
   "outputs": [],
   "source": [
    "\n",
    "!python -m pip install pip --upgrade --user -q --no-warn-script-location\n",
    "!python -m pip install numpy pandas seaborn matplotlib scipy statsmodels sklearn tensorflow keras torch torchvision \\\n",
    "    tqdm scikit-image --user -q --no-warn-script-location\n",
    "\n",
    "import IPython\n",
    "IPython.Application.instance().kernel.do_shutdown(True)\n"
   ]
  },
  {
   "cell_type": "code",
   "execution_count": 1,
   "metadata": {
    "id": "J1C7rFyn2rmL"
   },
   "outputs": [
    {
     "name": "stdout",
     "output_type": "stream",
     "text": [
      "Archive:  forex.zip\n",
      "  inflating: eu.csv                  \n"
     ]
    }
   ],
   "source": [
    "# !unzip forex.zip"
   ]
  },
  {
   "cell_type": "markdown",
   "metadata": {
    "id": "UURRvx2w3mfR"
   },
   "source": [
    "## Importing libraries"
   ]
  },
  {
   "cell_type": "code",
   "execution_count": null,
   "metadata": {
    "id": "KxX9B5ox3mVR"
   },
   "outputs": [],
   "source": [
    "import pandas as pd\n",
    "import numpy as np\n",
    "import seaborn as sns\n",
    "import matplotlib.pyplot as plt "
   ]
  },
  {
   "cell_type": "markdown",
   "metadata": {
    "id": "NVuG2rqg3yza"
   },
   "source": [
    "## Dataset exploration setting date as index"
   ]
  },
  {
   "cell_type": "code",
   "execution_count": null,
   "metadata": {
    "id": "WqSMBvY331Y_"
   },
   "outputs": [],
   "source": [
    "df = pd.read_csv('eu.csv', index_col=0, parse_dates=True, skipinitialspace=True)\n",
    "df.drop('date', axis='columns', inplace=True)\n",
    "df.head() "
   ]
  },
  {
   "cell_type": "code",
   "execution_count": null,
   "metadata": {
    "id": "CBhJdinh4B1x"
   },
   "outputs": [],
   "source": [
    "df.tail()"
   ]
  },
  {
   "cell_type": "code",
   "execution_count": null,
   "metadata": {
    "id": "5qBl-F3G4DkO"
   },
   "outputs": [],
   "source": [
    "df.shape, df.info()"
   ]
  },
  {
   "cell_type": "markdown",
   "metadata": {
    "id": "ESy2XO2T4FQU"
   },
   "source": [
    "checking null values "
   ]
  },
  {
   "cell_type": "code",
   "execution_count": null,
   "metadata": {
    "id": "QhOJbHXR5OoB"
   },
   "outputs": [],
   "source": [
    "df.isna().sum()"
   ]
  },
  {
   "cell_type": "markdown",
   "metadata": {
    "id": "C2kZ8Z3a5Qnw"
   },
   "source": [
    "statistical analysis"
   ]
  },
  {
   "cell_type": "code",
   "execution_count": null,
   "metadata": {
    "id": "K7WotLXG5Sgn"
   },
   "outputs": [],
   "source": [
    "df.describe()"
   ]
  },
  {
   "cell_type": "markdown",
   "metadata": {
    "id": "kcHacoKJ5T8C"
   },
   "source": [
    "## Market Trends"
   ]
  },
  {
   "cell_type": "markdown",
   "metadata": {
    "id": "tp4060iU5WZX"
   },
   "source": [
    "### data visualisation\n",
    "\n",
    "Visualizing trend for closing price "
   ]
  },
  {
   "cell_type": "code",
   "execution_count": null,
   "metadata": {
    "id": "DbIh6kaU5aOi"
   },
   "outputs": [],
   "source": [
    "plt.figure(figsize=(15,6))\n",
    "plt.plot(df.close)\n",
    "plt.title('Euro vs USD')\n",
    "plt.legend()\n",
    "plt.show() "
   ]
  },
  {
   "cell_type": "code",
   "execution_count": null,
   "metadata": {
    "id": "NySC1Nr95doU"
   },
   "outputs": [],
   "source": [
    "# visualizing trend for volume\n",
    "\n",
    "plt.figure(figsize=(15,6))\n",
    "plt.plot(df.volume)\n",
    "plt.title('Euro vs USD')\n",
    "plt.legend()\n",
    "plt.show() "
   ]
  },
  {
   "cell_type": "code",
   "execution_count": null,
   "metadata": {
    "id": "v96-8yFi5gby"
   },
   "outputs": [],
   "source": [
    "#boxplot\n",
    "df.drop('volume', axis=1).boxplot()"
   ]
  },
  {
   "cell_type": "code",
   "execution_count": null,
   "metadata": {
    "id": "ztbuSlMa5i8u"
   },
   "outputs": [],
   "source": [
    "#generating heatmap\n",
    "sns.heatmap(df.corr())"
   ]
  },
  {
   "cell_type": "code",
   "execution_count": null,
   "metadata": {
    "id": "zzL0t44g5nPH"
   },
   "outputs": [],
   "source": [
    "# Resampling yearly analysis on volume\n",
    "\n",
    "df.resample('Y').mean().plot.bar(y=['volume'], figsize=[25,10])"
   ]
  },
  {
   "cell_type": "code",
   "execution_count": null,
   "metadata": {
    "id": "esIO-k-Y5pTc"
   },
   "outputs": [],
   "source": [
    "# Resampling yearly analysis on closing price\n",
    "\n",
    "df.resample('Y').mean().plot.bar(y=['close'], figsize=[25,10])"
   ]
  },
  {
   "cell_type": "code",
   "execution_count": null,
   "metadata": {
    "id": "SexudtGV5rJf"
   },
   "outputs": [],
   "source": [
    "# lag plot comparing before and after values on volume\n",
    "\n",
    "from pandas.plotting import lag_plot\n",
    "lag_plot(df['volume'].tail(500)) "
   ]
  },
  {
   "cell_type": "code",
   "execution_count": null,
   "metadata": {
    "id": "qzbeea3r5yzJ"
   },
   "outputs": [],
   "source": [
    "# lag plot comparing before and after values on closing price\n",
    "from pandas.plotting import lag_plot\n",
    "lag_plot(df['close'].tail(500)) "
   ]
  },
  {
   "cell_type": "code",
   "execution_count": null,
   "metadata": {
    "id": "i4qLaXUw56Ob"
   },
   "outputs": [],
   "source": [
    "df.iloc[:100].plot(y=['open', 'high', 'low', 'close'], figsize=(25,10))"
   ]
  },
  {
   "cell_type": "code",
   "execution_count": null,
   "metadata": {
    "id": "MLYJw-gj595N"
   },
   "outputs": [],
   "source": [
    "for itr in df.columns:\n",
    "    df.plot(y=[itr], figsize=(25,10))"
   ]
  },
  {
   "cell_type": "markdown",
   "metadata": {
    "id": "kurZpQQ42tg7"
   },
   "source": [
    "#**Related Articles:**\n",
    "\n",
    "> * [Time Series Data Analysis on Forex Historical Dataset](https://analyticsindiamag.com/applying-time-series-analysis-on-forex-historical-dataset/)\n",
    "\n",
    "> * [Analyzing Climate Change](https://analyticsindiamag.com/time-series-analysis-on-climate-change/)\n",
    "\n",
    "> * [TadGAN](https://analyticsindiamag.com/hands-on-guide-to-tadgan-with-python-codes/)\n",
    "\n",
    "> * [Pastas](https://analyticsindiamag.com/guide-to-pastas-a-python-framework-for-hydrogeological-time-series-analysis/)\n",
    "\n",
    "> * [Bitcoin Price Prediction](https://analyticsindiamag.com/guide-to-implementing-time-series-analysis-predicting-bitcoin-price-with-rnn/)"
   ]
  }
 ],
 "metadata": {
  "colab": {
   "authorship_tag": "ABX9TyOQSGL3047bscDPAPLZ0zhS",
   "collapsed_sections": [],
   "name": "5_Timeseries_Analysis_on_Forex_Dataset.ipynb",
   "provenance": []
  },
  "interpreter": {
   "hash": "f60a20abaabf5a658075b37fac599269792a9493ddacd7c14d8505185d5625aa"
  },
  "kernelspec": {
   "display_name": "Python 3 (ipykernel)",
   "language": "python",
   "name": "python3"
  },
  "language_info": {
   "codemirror_mode": {
    "name": "ipython",
    "version": 3
   },
   "file_extension": ".py",
   "mimetype": "text/x-python",
   "name": "python",
   "nbconvert_exporter": "python",
   "pygments_lexer": "ipython3",
   "version": "3.9.7"
  }
 },
 "nbformat": 4,
 "nbformat_minor": 4
}
