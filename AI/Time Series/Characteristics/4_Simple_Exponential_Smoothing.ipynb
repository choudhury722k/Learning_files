{
 "cells": [
  {
   "cell_type": "markdown",
   "metadata": {
    "id": "WUJDxcK9BMiN"
   },
   "source": [
    "# **Simple Exponential Smoothing**"
   ]
  },
  {
   "cell_type": "markdown",
   "metadata": {
    "id": "eBAKx22lBQt4"
   },
   "source": [
    "Simple Exponential Smoothing is used for time series prediction when the data particularly  does not follow any:\n",
    "\n",
    "1. Trend: An upward or downward slope\n",
    "2. Seasonality: Shows a particular pattern due to seasonal factors like Hours, days, Year, etc.\n",
    "\n",
    "SES works on weighted averages i.e. the average of the previous level and current observation. Largest weights are associated with the recent observations and the smallest weights are associated with the oldest observations."
   ]
  },
  {
   "cell_type": "markdown",
   "metadata": {
    "id": "U8T2OL3GBVPc"
   },
   "source": [
    "# **Time series forecasting using Simple Exponential Smoothing in Python**"
   ]
  },
  {
   "cell_type": "markdown",
   "metadata": {
    "id": "h3YlFTHCBYU6"
   },
   "source": [
    "Simple Exponential Smoothing (SES) is defined under the statsmodel library of python and like any other python library we can install statsmodel using pip install statsmodel."
   ]
  },
  {
   "cell_type": "markdown",
   "metadata": {
    "id": "SRD6yO-dBZ8O"
   },
   "source": [
    "a. Importing the required libraries"
   ]
  },
  {
   "cell_type": "markdown",
   "metadata": {
    "id": "aINy1hWYBb9d"
   },
   "source": [
    "Simple Exponential Smoothing is defined under the statsmodel library from where we will import it. We will import pandas also for all mathematical computations."
   ]
  },
  {
   "cell_type": "code",
   "execution_count": null,
   "metadata": {},
   "outputs": [],
   "source": [
    "\n",
    "!python -m pip install pip --upgrade --user -q --no-warn-script-location\n",
    "!python -m pip install numpy pandas seaborn matplotlib scipy statsmodels sklearn tensorflow keras torch torchvision \\\n",
    "    tqdm scikit-image --user -q --no-warn-script-location\n",
    "\n",
    "import IPython\n",
    "IPython.Application.instance().kernel.do_shutdown(True)\n"
   ]
  },
  {
   "cell_type": "code",
   "execution_count": null,
   "metadata": {
    "id": "uncHIxBL9vr-"
   },
   "outputs": [],
   "source": [
    "import pandas as pd\n",
    "from statsmodels.tsa.api import SimpleExpSmoothing"
   ]
  },
  {
   "cell_type": "markdown",
   "metadata": {
    "id": "xh5SQ64fBfLx"
   },
   "source": [
    "b. Loading the dataset"
   ]
  },
  {
   "cell_type": "markdown",
   "metadata": {
    "id": "F59rE2eDBgx3"
   },
   "source": [
    "Simple exponential smoothing works best when there are fewer data points. Here I have created a fake dataset that we can observe as the sales data of a company from the year 2000 to 2019.  We will create the dataset as given below."
   ]
  },
  {
   "cell_type": "code",
   "execution_count": null,
   "metadata": {
    "id": "dHYHTuQnBiTk"
   },
   "outputs": [],
   "source": [
    "df = [ 420.735,392.943, 440.593, 450.037, 430.345, 471.033, 423.456, 458.989, 470.767, 420.368, 432.456, 487.409, 458.989, 467.765, 432.341, 399.563, 412.324, 398.452, 419.452, 470.567]"
   ]
  },
  {
   "cell_type": "markdown",
   "metadata": {
    "id": "5dycrjQPBjp4"
   },
   "source": [
    "c.Creating a time series of the data"
   ]
  },
  {
   "cell_type": "markdown",
   "metadata": {
    "id": "acAXz0XGBlNi"
   },
   "source": [
    "To visualize and analyze the sales data let us create a time series of this fake dataset. The frequency of the time series is annually so we will pass the argument “A” in the series function."
   ]
  },
  {
   "cell_type": "code",
   "execution_count": null,
   "metadata": {
    "id": "CICNINqtBm05"
   },
   "outputs": [],
   "source": [
    "index= pd.date_range(start='2000', end='2020', freq='A')\n",
    "data = pd.Series(df, index)\n",
    "print(data)"
   ]
  },
  {
   "cell_type": "markdown",
   "metadata": {
    "id": "S_4hv5rUBos-"
   },
   "source": [
    "d. Visualize the Data"
   ]
  },
  {
   "cell_type": "markdown",
   "metadata": {
    "id": "f7kvMRSEBrHL"
   },
   "source": [
    "Now we will analyze this data using a line chart. We will use the Plotly library for visualization."
   ]
  },
  {
   "cell_type": "code",
   "execution_count": null,
   "metadata": {
    "id": "2eiRe_W_Bs49"
   },
   "outputs": [],
   "source": [
    "from matplotlib import pyplot\n",
    "data.plot()\n",
    "pyplot.show()"
   ]
  },
  {
   "cell_type": "markdown",
   "metadata": {
    "id": "RSqzycGzBvId"
   },
   "source": [
    "e. Prediction using SES"
   ]
  },
  {
   "cell_type": "markdown",
   "metadata": {
    "id": "WmPc9IP_CWKm"
   },
   "source": [
    "For creating a prediction model using SES we should have a 𝜶(alpha) value which we discussed in the beginning. Here we will create three instances in which we will take three different 𝜶(alpha) values as:\n",
    "\n",
    "1. 𝜶(alpha) = 0.2\n",
    "2. 𝜶(alpha) = 0.8\n",
    "3. 𝜶(alpha) value automatically optimized by statsmodel which is the recommended one.\n",
    "\n",
    "We will pass the data into Simple Exponential Smoothing and fit the data with different values of the Smoothing Level."
   ]
  },
  {
   "cell_type": "code",
   "execution_count": null,
   "metadata": {
    "id": "SEMRy2AhCar4"
   },
   "outputs": [],
   "source": [
    "import matplotlib.pyplot as plt\n",
    "#First Instance\n",
    "ins1 = SimpleExpSmoothing(data).fit(smoothing_level=0.2,optimized=False)\n",
    "ins_cast1 = ins1.forecast(3).rename('alpha=0.2')\n",
    "\n",
    "#Second Instance\n",
    "ins2 = SimpleExpSmoothing(data).fit(smoothing_level=0.8,optimized=False)\n",
    "ins_cast2 = ins2.forecast(3).rename('alpha=0.8')\n",
    "\n",
    "#Third Instance\n",
    "ins3 = SimpleExpSmoothing(data).fit()\n",
    "ins_cast3 = ins3.forecast(3).rename('alpha=%s'%ins3.model.params['smoothing_level'])\n",
    "\n",
    "#After creating model we will visualize the plot\n",
    "ax = data.plot(marker='o', color='black', figsize=(12,8), legend=True)\n",
    "\n",
    "#Plot for alpha =0.2\n",
    "ins_cast1.plot(marker='+', ax=ax, color='blue', legend=True)\n",
    "ins1.fittedvalues.plot(marker='+', ax=ax, color='blue')\n",
    "\n",
    "#Plot for alpha = 0.8\n",
    "ins_cast2.plot(marker='o', ax=ax, color='red', legend=True)\n",
    "ins2.fittedvalues.plot(marker='o', ax=ax, color='red')\n",
    "\n",
    "#Plot for alpha=Optimized by statsmodel\n",
    "ins_cast3.plot(marker='*', ax=ax, color='green', legend=True)\n",
    "ins3.fittedvalues.plot(marker='*', ax=ax, color='green')\n",
    "\n",
    "plt.show()"
   ]
  },
  {
   "cell_type": "markdown",
   "metadata": {
    "id": "MqArsKEsd2S-"
   },
   "source": [
    "#**Related Articles:**\n",
    "\n",
    "> * [Time Series Forecasting with Darts](https://analyticsindiamag.com/hands-on-guide-to-darts-a-python-tool-for-time-series-forecasting/)\n",
    "\n",
    "> * [Guide to Time Series Forecasting with GluonTS](https://analyticsindiamag.com/gluonts-pytorchts-for-time-series-forecasting/)\n",
    "\n",
    "> * [Tensorflow Core](https://analyticsindiamag.com/time-series-forecasting-using-tensorflow-core/)\n",
    "\n",
    "> * [LSTM RNN on Foreign Exchange Rate Prediction](https://analyticsindiamag.com/foreign-exchange-rate-prediction-using-lstm-recurrent-neural-network/)\n",
    "\n",
    "> * [Pyflux](https://analyticsindiamag.com/pyflux-guide-python-library-for-time-series-analysis-and-prediction/)\n",
    "\n",
    "> * [Atspy](https://analyticsindiamag.com/hands-on-guide-to-atspy-for-automating-the-time-series-forecasting/)\n",
    "\n"
   ]
  }
 ],
 "metadata": {
  "colab": {
   "authorship_tag": "ABX9TyPO5y4Y0bz+OrV5q6n/xmhe",
   "collapsed_sections": [],
   "name": "4_Simple_Exponential_Smoothing.ipynb",
   "provenance": []
  },
  "kernelspec": {
   "display_name": "Python 3 (ipykernel)",
   "language": "python",
   "name": "python3"
  },
  "language_info": {
   "codemirror_mode": {
    "name": "ipython",
    "version": 3
   },
   "file_extension": ".py",
   "mimetype": "text/x-python",
   "name": "python",
   "nbconvert_exporter": "python",
   "pygments_lexer": "ipython3",
   "version": "3.9.7"
  }
 },
 "nbformat": 4,
 "nbformat_minor": 4
}
