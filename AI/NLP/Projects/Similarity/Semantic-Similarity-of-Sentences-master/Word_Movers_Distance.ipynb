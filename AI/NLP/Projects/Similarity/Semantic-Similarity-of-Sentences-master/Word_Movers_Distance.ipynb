{
  "nbformat": 4,
  "nbformat_minor": 0,
  "metadata": {
    "colab": {
      "name": "Word Movers Distance",
      "provenance": []
    },
    "kernelspec": {
      "name": "python3",
      "display_name": "Python 3"
    },
    "accelerator": "GPU"
  },
  "cells": [
    {
      "cell_type": "code",
      "metadata": {
        "id": "ijnR9mW9eCLZ",
        "colab_type": "code",
        "colab": {}
      },
      "source": [
        "import numpy as np\n",
        "import pandas as pd\n",
        "import nltk\n",
        "import spacy\n",
        "import os\n",
        "import string\n",
        "import gensim"
      ],
      "execution_count": 0,
      "outputs": []
    },
    {
      "cell_type": "code",
      "metadata": {
        "id": "219NanldeNMd",
        "colab_type": "code",
        "outputId": "b826a8f2-c2f7-4a7a-b811-7b7ed15fdbb2",
        "colab": {
          "base_uri": "https://localhost:8080/",
          "height": 255
        }
      },
      "source": [
        "train = pd.read_csv(\"/content/train_2.csv\")\n",
        "train = train.dropna()\n",
        "train.head()"
      ],
      "execution_count": 0,
      "outputs": [
        {
          "output_type": "execute_result",
          "data": {
            "text/html": [
              "<div>\n",
              "<style scoped>\n",
              "    .dataframe tbody tr th:only-of-type {\n",
              "        vertical-align: middle;\n",
              "    }\n",
              "\n",
              "    .dataframe tbody tr th {\n",
              "        vertical-align: top;\n",
              "    }\n",
              "\n",
              "    .dataframe thead th {\n",
              "        text-align: right;\n",
              "    }\n",
              "</style>\n",
              "<table border=\"1\" class=\"dataframe\">\n",
              "  <thead>\n",
              "    <tr style=\"text-align: right;\">\n",
              "      <th></th>\n",
              "      <th>id</th>\n",
              "      <th>qid1</th>\n",
              "      <th>qid2</th>\n",
              "      <th>question1</th>\n",
              "      <th>question2</th>\n",
              "      <th>is_duplicate</th>\n",
              "      <th>Q1</th>\n",
              "      <th>Q2</th>\n",
              "    </tr>\n",
              "  </thead>\n",
              "  <tbody>\n",
              "    <tr>\n",
              "      <th>0</th>\n",
              "      <td>0</td>\n",
              "      <td>1</td>\n",
              "      <td>2</td>\n",
              "      <td>What is the step by step guide to invest in sh...</td>\n",
              "      <td>What is the step by step guide to invest in sh...</td>\n",
              "      <td>0</td>\n",
              "      <td>['step', 'step', 'guide', 'invest', 'share', '...</td>\n",
              "      <td>['step', 'step', 'guide', 'invest', 'share', '...</td>\n",
              "    </tr>\n",
              "    <tr>\n",
              "      <th>1</th>\n",
              "      <td>1</td>\n",
              "      <td>3</td>\n",
              "      <td>4</td>\n",
              "      <td>What is the story of Kohinoor (Koh-i-Noor) Dia...</td>\n",
              "      <td>What would happen if the Indian government sto...</td>\n",
              "      <td>0</td>\n",
              "      <td>['story', 'kohinoor', 'kohinoor', 'diamond']</td>\n",
              "      <td>['would', 'happen', 'indian', 'government', 's...</td>\n",
              "    </tr>\n",
              "    <tr>\n",
              "      <th>2</th>\n",
              "      <td>2</td>\n",
              "      <td>5</td>\n",
              "      <td>6</td>\n",
              "      <td>How can I increase the speed of my internet co...</td>\n",
              "      <td>How can Internet speed be increased by hacking...</td>\n",
              "      <td>0</td>\n",
              "      <td>['increase', 'speed', 'internet', 'connection'...</td>\n",
              "      <td>['internet', 'speed', 'increased', 'hacking', ...</td>\n",
              "    </tr>\n",
              "    <tr>\n",
              "      <th>3</th>\n",
              "      <td>3</td>\n",
              "      <td>7</td>\n",
              "      <td>8</td>\n",
              "      <td>Why am I mentally very lonely? How can I solve...</td>\n",
              "      <td>Find the remainder when [math]23^{24}[/math] i...</td>\n",
              "      <td>0</td>\n",
              "      <td>['mentally', 'lonely', 'solve']</td>\n",
              "      <td>['find', 'remainder', 'math2324math', 'divided...</td>\n",
              "    </tr>\n",
              "    <tr>\n",
              "      <th>4</th>\n",
              "      <td>4</td>\n",
              "      <td>9</td>\n",
              "      <td>10</td>\n",
              "      <td>Which one dissolve in water quikly sugar, salt...</td>\n",
              "      <td>Which fish would survive in salt water?</td>\n",
              "      <td>0</td>\n",
              "      <td>['one', 'dissolve', 'water', 'quikly', 'sugar'...</td>\n",
              "      <td>['fish', 'would', 'survive', 'salt', 'water']</td>\n",
              "    </tr>\n",
              "  </tbody>\n",
              "</table>\n",
              "</div>"
            ],
            "text/plain": [
              "   id  ...                                                 Q2\n",
              "0   0  ...  ['step', 'step', 'guide', 'invest', 'share', '...\n",
              "1   1  ...  ['would', 'happen', 'indian', 'government', 's...\n",
              "2   2  ...  ['internet', 'speed', 'increased', 'hacking', ...\n",
              "3   3  ...  ['find', 'remainder', 'math2324math', 'divided...\n",
              "4   4  ...      ['fish', 'would', 'survive', 'salt', 'water']\n",
              "\n",
              "[5 rows x 8 columns]"
            ]
          },
          "metadata": {
            "tags": []
          },
          "execution_count": 3
        }
      ]
    },
    {
      "cell_type": "code",
      "metadata": {
        "id": "PvAQ6-ExjWrL",
        "colab_type": "code",
        "colab": {}
      },
      "source": [
        "!wget -c http://nlp.stanford.edu/data/glove.840B.300d.zip"
      ],
      "execution_count": 0,
      "outputs": []
    },
    {
      "cell_type": "code",
      "metadata": {
        "id": "6nB0-qVDjX3O",
        "colab_type": "code",
        "colab": {}
      },
      "source": [
        "import zipfile\n",
        "with zipfile.ZipFile(\"/content/glove.840B.300d.zip\", \"r\") as zipread:\n",
        "  zipread.extractall(\"/content/\")\n",
        "  zipread.close\n",
        "\n",
        "import gensim\n",
        "from gensim.models import Word2Vec\n",
        "from gensim.scripts.glove2word2vec import glove2word2vec\n",
        "\n",
        "PATH_TO_GLOVE = \"/content/glove.840B.300d.txt\"\n",
        "\n",
        "tmp_file = \"/glove.840B.300d.w2v.txt\"\n",
        "glove2word2vec(PATH_TO_GLOVE, tmp_file)\n",
        "glove = gensim.models.KeyedVectors.load_word2vec_format(tmp_file)"
      ],
      "execution_count": 0,
      "outputs": []
    },
    {
      "cell_type": "code",
      "metadata": {
        "id": "AzKvC3JeeTn9",
        "colab_type": "code",
        "colab": {}
      },
      "source": [
        "def wmd(s1, s2):\n",
        "  return -glove.wmdistance(s1, s2)"
      ],
      "execution_count": 0,
      "outputs": []
    },
    {
      "cell_type": "code",
      "metadata": {
        "id": "HvfaoyeSeTrj",
        "colab_type": "code",
        "outputId": "f14111e4-9981-43db-f601-dc5bad3f1adf",
        "colab": {
          "base_uri": "https://localhost:8080/",
          "height": 289
        }
      },
      "source": [
        "train[\"distance\"] = train.apply(lambda x: wmd(x.Q1, x.Q2), axis=1)\n",
        "train.head()"
      ],
      "execution_count": 0,
      "outputs": [
        {
          "output_type": "execute_result",
          "data": {
            "text/html": [
              "<div>\n",
              "<style scoped>\n",
              "    .dataframe tbody tr th:only-of-type {\n",
              "        vertical-align: middle;\n",
              "    }\n",
              "\n",
              "    .dataframe tbody tr th {\n",
              "        vertical-align: top;\n",
              "    }\n",
              "\n",
              "    .dataframe thead th {\n",
              "        text-align: right;\n",
              "    }\n",
              "</style>\n",
              "<table border=\"1\" class=\"dataframe\">\n",
              "  <thead>\n",
              "    <tr style=\"text-align: right;\">\n",
              "      <th></th>\n",
              "      <th>id</th>\n",
              "      <th>qid1</th>\n",
              "      <th>qid2</th>\n",
              "      <th>question1</th>\n",
              "      <th>question2</th>\n",
              "      <th>is_duplicate</th>\n",
              "      <th>Q1</th>\n",
              "      <th>Q2</th>\n",
              "      <th>distance</th>\n",
              "    </tr>\n",
              "  </thead>\n",
              "  <tbody>\n",
              "    <tr>\n",
              "      <th>0</th>\n",
              "      <td>0</td>\n",
              "      <td>1</td>\n",
              "      <td>2</td>\n",
              "      <td>What is the step by step guide to invest in sh...</td>\n",
              "      <td>What is the step by step guide to invest in sh...</td>\n",
              "      <td>0</td>\n",
              "      <td>['step', 'step', 'guide', 'invest', 'share', '...</td>\n",
              "      <td>['step', 'step', 'guide', 'invest', 'share', '...</td>\n",
              "      <td>-0.479549</td>\n",
              "    </tr>\n",
              "    <tr>\n",
              "      <th>1</th>\n",
              "      <td>1</td>\n",
              "      <td>3</td>\n",
              "      <td>4</td>\n",
              "      <td>What is the story of Kohinoor (Koh-i-Noor) Dia...</td>\n",
              "      <td>What would happen if the Indian government sto...</td>\n",
              "      <td>0</td>\n",
              "      <td>['story', 'kohinoor', 'kohinoor', 'diamond']</td>\n",
              "      <td>['would', 'happen', 'indian', 'government', 's...</td>\n",
              "      <td>-1.440303</td>\n",
              "    </tr>\n",
              "    <tr>\n",
              "      <th>2</th>\n",
              "      <td>2</td>\n",
              "      <td>5</td>\n",
              "      <td>6</td>\n",
              "      <td>How can I increase the speed of my internet co...</td>\n",
              "      <td>How can Internet speed be increased by hacking...</td>\n",
              "      <td>0</td>\n",
              "      <td>['increase', 'speed', 'internet', 'connection'...</td>\n",
              "      <td>['internet', 'speed', 'increased', 'hacking', ...</td>\n",
              "      <td>-0.953338</td>\n",
              "    </tr>\n",
              "    <tr>\n",
              "      <th>3</th>\n",
              "      <td>3</td>\n",
              "      <td>7</td>\n",
              "      <td>8</td>\n",
              "      <td>Why am I mentally very lonely? How can I solve...</td>\n",
              "      <td>Find the remainder when [math]23^{24}[/math] i...</td>\n",
              "      <td>0</td>\n",
              "      <td>['mentally', 'lonely', 'solve']</td>\n",
              "      <td>['find', 'remainder', 'math2324math', 'divided...</td>\n",
              "      <td>-3.211461</td>\n",
              "    </tr>\n",
              "    <tr>\n",
              "      <th>4</th>\n",
              "      <td>4</td>\n",
              "      <td>9</td>\n",
              "      <td>10</td>\n",
              "      <td>Which one dissolve in water quikly sugar, salt...</td>\n",
              "      <td>Which fish would survive in salt water?</td>\n",
              "      <td>0</td>\n",
              "      <td>['one', 'dissolve', 'water', 'quikly', 'sugar'...</td>\n",
              "      <td>['fish', 'would', 'survive', 'salt', 'water']</td>\n",
              "      <td>-1.451814</td>\n",
              "    </tr>\n",
              "  </tbody>\n",
              "</table>\n",
              "</div>"
            ],
            "text/plain": [
              "   id  qid1  ...                                                 Q2  distance\n",
              "0   0     1  ...  ['step', 'step', 'guide', 'invest', 'share', '... -0.479549\n",
              "1   1     3  ...  ['would', 'happen', 'indian', 'government', 's... -1.440303\n",
              "2   2     5  ...  ['internet', 'speed', 'increased', 'hacking', ... -0.953338\n",
              "3   3     7  ...  ['find', 'remainder', 'math2324math', 'divided... -3.211461\n",
              "4   4     9  ...      ['fish', 'would', 'survive', 'salt', 'water'] -1.451814\n",
              "\n",
              "[5 rows x 9 columns]"
            ]
          },
          "metadata": {
            "tags": []
          },
          "execution_count": 18
        }
      ]
    },
    {
      "cell_type": "code",
      "metadata": {
        "id": "VIFAFVPPeT1r",
        "colab_type": "code",
        "colab": {}
      },
      "source": [
        "from sklearn.model_selection import train_test_split\n",
        "train_X, val_X, train_y, val_y = train_test_split(train[[\"distance\"]], train[\"is_duplicate\"], random_state = 0, test_size=0.2)"
      ],
      "execution_count": 0,
      "outputs": []
    },
    {
      "cell_type": "code",
      "metadata": {
        "id": "XVYDrV8aeT4w",
        "colab_type": "code",
        "colab": {}
      },
      "source": [
        "import xgboost as xgb\n",
        "options = {\"model_param\":\n",
        "         {\"eta\": 0.15, \n",
        "         \"max_depth\": 4,\n",
        "         \"n_estimators\":50,\n",
        "         \"sub_sample\":0.5,\n",
        "         \"scale_pos_weight\":1.75,\n",
        "         \"random_state\":1,\n",
        "         \"eval_metric\": \"logloss\",\n",
        "         \"objective\": \"binary:logistic\"},\n",
        "         \"num_round\":50,\n",
        "         \"test_frac\":0.2}"
      ],
      "execution_count": 0,
      "outputs": []
    },
    {
      "cell_type": "code",
      "metadata": {
        "id": "p5m2aT3SeT_U",
        "colab_type": "code",
        "outputId": "76be8dee-0c1c-4d01-cb40-2f695fd446d8",
        "colab": {
          "base_uri": "https://localhost:8080/",
          "height": 85
        }
      },
      "source": [
        "#training model\n",
        "xgbmatrix = xgb.DMatrix(train_X, train_y)\n",
        "xgb_model = xgb.train(options[\"model_param\"], xgbmatrix, options[\"num_round\"], verbose_eval=10)\n",
        "xgb_valmatrix = xgb.DMatrix(val_X)\n",
        "y_val_pred = xgb_model.predict(xgb_valmatrix)\n",
        "y_val_pred #just checking"
      ],
      "execution_count": 0,
      "outputs": [
        {
          "output_type": "stream",
          "text": [
            "/usr/local/lib/python3.6/dist-packages/xgboost/core.py:587: FutureWarning: Series.base is deprecated and will be removed in a future version\n",
            "  if getattr(data, 'base', None) is not None and \\\n"
          ],
          "name": "stderr"
        },
        {
          "output_type": "execute_result",
          "data": {
            "text/plain": [
              "array([0.62029463, 0.530533  , 0.3723144 , ..., 0.84838665, 0.57748425,\n",
              "       0.316866  ], dtype=float32)"
            ]
          },
          "metadata": {
            "tags": []
          },
          "execution_count": 21
        }
      ]
    },
    {
      "cell_type": "code",
      "metadata": {
        "id": "RyCIRMKPeUCt",
        "colab_type": "code",
        "outputId": "c04af020-1cff-475c-9b7d-2ea8675aab3f",
        "colab": {
          "base_uri": "https://localhost:8080/",
          "height": 51
        }
      },
      "source": [
        "y_val_pred_binary = [1 if y>0.5 else 0 for y in y_val_pred]\n",
        "from sklearn.metrics import confusion_matrix, classification_report\n",
        "\n",
        "confusion_matrix(val_y, y_val_pred_binary)"
      ],
      "execution_count": 0,
      "outputs": [
        {
          "output_type": "execute_result",
          "data": {
            "text/plain": [
              "array([[30706, 20432],\n",
              "       [ 9258, 20462]])"
            ]
          },
          "metadata": {
            "tags": []
          },
          "execution_count": 22
        }
      ]
    },
    {
      "cell_type": "code",
      "metadata": {
        "id": "UBcmHCbJeT0t",
        "colab_type": "code",
        "outputId": "2a0ffde8-87d1-4448-edb2-2c802b3ccab2",
        "colab": {
          "base_uri": "https://localhost:8080/",
          "height": 34
        }
      },
      "source": [
        "from sklearn.metrics import accuracy_score\n",
        "accuracy_score(val_y, y_val_pred_binary)"
      ],
      "execution_count": 0,
      "outputs": [
        {
          "output_type": "execute_result",
          "data": {
            "text/plain": [
              "0.632813079720003"
            ]
          },
          "metadata": {
            "tags": []
          },
          "execution_count": 23
        }
      ]
    }
  ]
}