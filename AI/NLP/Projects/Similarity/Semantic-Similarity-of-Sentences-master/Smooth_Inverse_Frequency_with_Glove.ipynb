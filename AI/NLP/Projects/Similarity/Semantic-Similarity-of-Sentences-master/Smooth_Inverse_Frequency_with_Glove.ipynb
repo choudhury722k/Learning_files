{
  "nbformat": 4,
  "nbformat_minor": 0,
  "metadata": {
    "colab": {
      "name": "Smooth Inverse Frequency - with Glove",
      "provenance": [],
      "include_colab_link": true
    },
    "kernelspec": {
      "name": "python3",
      "display_name": "Python 3"
    },
    "accelerator": "GPU"
  },
  "cells": [
    {
      "cell_type": "markdown",
      "metadata": {
        "id": "view-in-github",
        "colab_type": "text"
      },
      "source": [
        "<a href=\"https://colab.research.google.com/github/mavalliani/Semantic-Similarity-of-Sentences/blob/master/Smooth_Inverse_Frequency_with_Glove.ipynb\" target=\"_parent\"><img src=\"https://colab.research.google.com/assets/colab-badge.svg\" alt=\"Open In Colab\"/></a>"
      ]
    },
    {
      "cell_type": "code",
      "metadata": {
        "id": "vuTtMuFJLkij",
        "colab_type": "code",
        "colab": {}
      },
      "source": [
        "import numpy as np\n",
        "import pandas as pd\n",
        "import nltk\n",
        "import spacy\n",
        "import os\n",
        "import string\n",
        "import gensim"
      ],
      "execution_count": 0,
      "outputs": []
    },
    {
      "cell_type": "code",
      "metadata": {
        "id": "yR1tFB4bMx5W",
        "colab_type": "code",
        "outputId": "5e16cb62-0c04-4c78-e0ec-da79bce25ad1",
        "colab": {
          "base_uri": "https://localhost:8080/",
          "height": 255
        }
      },
      "source": [
        "train = pd.read_csv(\"/content/train_2.csv\")\n",
        "train = train.dropna()\n",
        "train.head()"
      ],
      "execution_count": 0,
      "outputs": [
        {
          "output_type": "execute_result",
          "data": {
            "text/html": [
              "<div>\n",
              "<style scoped>\n",
              "    .dataframe tbody tr th:only-of-type {\n",
              "        vertical-align: middle;\n",
              "    }\n",
              "\n",
              "    .dataframe tbody tr th {\n",
              "        vertical-align: top;\n",
              "    }\n",
              "\n",
              "    .dataframe thead th {\n",
              "        text-align: right;\n",
              "    }\n",
              "</style>\n",
              "<table border=\"1\" class=\"dataframe\">\n",
              "  <thead>\n",
              "    <tr style=\"text-align: right;\">\n",
              "      <th></th>\n",
              "      <th>id</th>\n",
              "      <th>qid1</th>\n",
              "      <th>qid2</th>\n",
              "      <th>question1</th>\n",
              "      <th>question2</th>\n",
              "      <th>is_duplicate</th>\n",
              "      <th>Q1</th>\n",
              "      <th>Q2</th>\n",
              "    </tr>\n",
              "  </thead>\n",
              "  <tbody>\n",
              "    <tr>\n",
              "      <th>0</th>\n",
              "      <td>0</td>\n",
              "      <td>1</td>\n",
              "      <td>2</td>\n",
              "      <td>What is the step by step guide to invest in sh...</td>\n",
              "      <td>What is the step by step guide to invest in sh...</td>\n",
              "      <td>0</td>\n",
              "      <td>['step', 'step', 'guide', 'invest', 'share', '...</td>\n",
              "      <td>['step', 'step', 'guide', 'invest', 'share', '...</td>\n",
              "    </tr>\n",
              "    <tr>\n",
              "      <th>1</th>\n",
              "      <td>1</td>\n",
              "      <td>3</td>\n",
              "      <td>4</td>\n",
              "      <td>What is the story of Kohinoor (Koh-i-Noor) Dia...</td>\n",
              "      <td>What would happen if the Indian government sto...</td>\n",
              "      <td>0</td>\n",
              "      <td>['story', 'kohinoor', 'kohinoor', 'diamond']</td>\n",
              "      <td>['would', 'happen', 'indian', 'government', 's...</td>\n",
              "    </tr>\n",
              "    <tr>\n",
              "      <th>2</th>\n",
              "      <td>2</td>\n",
              "      <td>5</td>\n",
              "      <td>6</td>\n",
              "      <td>How can I increase the speed of my internet co...</td>\n",
              "      <td>How can Internet speed be increased by hacking...</td>\n",
              "      <td>0</td>\n",
              "      <td>['increase', 'speed', 'internet', 'connection'...</td>\n",
              "      <td>['internet', 'speed', 'increased', 'hacking', ...</td>\n",
              "    </tr>\n",
              "    <tr>\n",
              "      <th>3</th>\n",
              "      <td>3</td>\n",
              "      <td>7</td>\n",
              "      <td>8</td>\n",
              "      <td>Why am I mentally very lonely? How can I solve...</td>\n",
              "      <td>Find the remainder when [math]23^{24}[/math] i...</td>\n",
              "      <td>0</td>\n",
              "      <td>['mentally', 'lonely', 'solve']</td>\n",
              "      <td>['find', 'remainder', 'math2324math', 'divided...</td>\n",
              "    </tr>\n",
              "    <tr>\n",
              "      <th>4</th>\n",
              "      <td>4</td>\n",
              "      <td>9</td>\n",
              "      <td>10</td>\n",
              "      <td>Which one dissolve in water quikly sugar, salt...</td>\n",
              "      <td>Which fish would survive in salt water?</td>\n",
              "      <td>0</td>\n",
              "      <td>['one', 'dissolve', 'water', 'quikly', 'sugar'...</td>\n",
              "      <td>['fish', 'would', 'survive', 'salt', 'water']</td>\n",
              "    </tr>\n",
              "  </tbody>\n",
              "</table>\n",
              "</div>"
            ],
            "text/plain": [
              "   id  ...                                                 Q2\n",
              "0   0  ...  ['step', 'step', 'guide', 'invest', 'share', '...\n",
              "1   1  ...  ['would', 'happen', 'indian', 'government', 's...\n",
              "2   2  ...  ['internet', 'speed', 'increased', 'hacking', ...\n",
              "3   3  ...  ['find', 'remainder', 'math2324math', 'divided...\n",
              "4   4  ...      ['fish', 'would', 'survive', 'salt', 'water']\n",
              "\n",
              "[5 rows x 8 columns]"
            ]
          },
          "metadata": {
            "tags": []
          },
          "execution_count": 2
        }
      ]
    },
    {
      "cell_type": "code",
      "metadata": {
        "id": "WxDElvYqM4ty",
        "colab_type": "code",
        "colab": {}
      },
      "source": [
        "!wget -c http://nlp.stanford.edu/data/glove.840B.300d.zip"
      ],
      "execution_count": 0,
      "outputs": []
    },
    {
      "cell_type": "code",
      "metadata": {
        "id": "mQikMxUBNnDH",
        "colab_type": "code",
        "colab": {}
      },
      "source": [
        "import zipfile\n",
        "with zipfile.ZipFile(\"/content/glove.840B.300d.zip\", \"r\") as zipread:\n",
        "  zipread.extractall(\"/content/\")\n",
        "  zipread.close"
      ],
      "execution_count": 0,
      "outputs": []
    },
    {
      "cell_type": "code",
      "metadata": {
        "id": "yBspkUTEbuiN",
        "colab_type": "code",
        "outputId": "27410bbf-7be9-446a-ec3d-53af25e7e7c7",
        "colab": {
          "base_uri": "https://localhost:8080/",
          "height": 71
        }
      },
      "source": [
        "import gensim\n",
        "from gensim.models import Word2Vec\n",
        "from gensim.scripts.glove2word2vec import glove2word2vec\n",
        "\n",
        "PATH_TO_GLOVE = \"/content/glove.840B.300d.txt\"\n",
        "\n",
        "tmp_file = \"/glove.840B.300d.w2v.txt\"\n",
        "glove2word2vec(PATH_TO_GLOVE, tmp_file)\n",
        "glove = gensim.models.KeyedVectors.load_word2vec_format(tmp_file)\n"
      ],
      "execution_count": 0,
      "outputs": [
        {
          "output_type": "stream",
          "text": [
            "/usr/local/lib/python3.6/dist-packages/smart_open/smart_open_lib.py:402: UserWarning: This function is deprecated, use smart_open.open instead. See the migration notes for details: https://github.com/RaRe-Technologies/smart_open/blob/master/README.rst#migrating-to-the-new-open-function\n",
            "  'See the migration notes for details: %s' % _MIGRATION_NOTES_URL\n"
          ],
          "name": "stderr"
        }
      ]
    },
    {
      "cell_type": "code",
      "metadata": {
        "id": "Nn7ssx29gzLj",
        "colab_type": "code",
        "colab": {}
      },
      "source": [
        "import csv\n",
        "from ast import literal_eval\n",
        "PATH_TO_FREQUENCIES_FILE = \"/content/frequencies.tsv\"\n",
        "\n",
        "def read_tsv(f):\n",
        "    frequencies = {}\n",
        "    with open(f) as tsv:\n",
        "        tsv_reader = csv.reader(tsv, delimiter=\"\\t\")\n",
        "        for row in tsv_reader: \n",
        "            frequencies[row[0]] = int(row[1])\n",
        "        \n",
        "    return frequencies\n",
        "        \n",
        "frequencies = read_tsv(PATH_TO_FREQUENCIES_FILE)"
      ],
      "execution_count": 0,
      "outputs": []
    },
    {
      "cell_type": "code",
      "metadata": {
        "id": "27--6_kEFrp8",
        "colab_type": "code",
        "outputId": "4fa9df21-606b-4ee2-da00-4f8a3237ca28",
        "colab": {
          "base_uri": "https://localhost:8080/",
          "height": 34
        }
      },
      "source": [
        "total_freq = sum(frequencies.values())\n",
        "total_freq"
      ],
      "execution_count": 0,
      "outputs": [
        {
          "output_type": "execute_result",
          "data": {
            "text/plain": [
              "1082740150"
            ]
          },
          "metadata": {
            "tags": []
          },
          "execution_count": 7
        }
      ]
    },
    {
      "cell_type": "code",
      "metadata": {
        "id": "GUW_Ti8RuoJe",
        "colab_type": "code",
        "colab": {}
      },
      "source": [
        "def get_weights(s1, freqs, total_freq, a=0.001):\n",
        "  weight = [a/(a+freqs.get(word, 0)/total_freq) for word in literal_eval(s1) if word in glove]\n",
        "  return weight"
      ],
      "execution_count": 0,
      "outputs": []
    },
    {
      "cell_type": "code",
      "metadata": {
        "id": "ezxIXGaXyCTc",
        "colab_type": "code",
        "outputId": "bc7c53d0-cd90-4aa1-fde7-683bc2ccc25d",
        "colab": {
          "base_uri": "https://localhost:8080/",
          "height": 289
        }
      },
      "source": [
        "train[\"weight1\"] = train.Q1.map(lambda x: get_weights(x, frequencies, total_freq, a=0.001))\n",
        "train[\"weight2\"] = train.Q2.map(lambda x: get_weights(x, frequencies, total_freq, a=0.001))\n",
        "train.head()"
      ],
      "execution_count": 0,
      "outputs": [
        {
          "output_type": "execute_result",
          "data": {
            "text/html": [
              "<div>\n",
              "<style scoped>\n",
              "    .dataframe tbody tr th:only-of-type {\n",
              "        vertical-align: middle;\n",
              "    }\n",
              "\n",
              "    .dataframe tbody tr th {\n",
              "        vertical-align: top;\n",
              "    }\n",
              "\n",
              "    .dataframe thead th {\n",
              "        text-align: right;\n",
              "    }\n",
              "</style>\n",
              "<table border=\"1\" class=\"dataframe\">\n",
              "  <thead>\n",
              "    <tr style=\"text-align: right;\">\n",
              "      <th></th>\n",
              "      <th>id</th>\n",
              "      <th>qid1</th>\n",
              "      <th>qid2</th>\n",
              "      <th>question1</th>\n",
              "      <th>question2</th>\n",
              "      <th>is_duplicate</th>\n",
              "      <th>Q1</th>\n",
              "      <th>Q2</th>\n",
              "      <th>weight1</th>\n",
              "      <th>weight2</th>\n",
              "    </tr>\n",
              "  </thead>\n",
              "  <tbody>\n",
              "    <tr>\n",
              "      <th>0</th>\n",
              "      <td>0</td>\n",
              "      <td>1</td>\n",
              "      <td>2</td>\n",
              "      <td>What is the step by step guide to invest in sh...</td>\n",
              "      <td>What is the step by step guide to invest in sh...</td>\n",
              "      <td>0</td>\n",
              "      <td>['step', 'step', 'guide', 'invest', 'share', '...</td>\n",
              "      <td>['step', 'step', 'guide', 'invest', 'share', '...</td>\n",
              "      <td>[0.9556567694500208, 0.9556567694500208, 0.943...</td>\n",
              "      <td>[0.9556567694500208, 0.9556567694500208, 0.943...</td>\n",
              "    </tr>\n",
              "    <tr>\n",
              "      <th>1</th>\n",
              "      <td>1</td>\n",
              "      <td>3</td>\n",
              "      <td>4</td>\n",
              "      <td>What is the story of Kohinoor (Koh-i-Noor) Dia...</td>\n",
              "      <td>What would happen if the Indian government sto...</td>\n",
              "      <td>0</td>\n",
              "      <td>['story', 'kohinoor', 'kohinoor', 'diamond']</td>\n",
              "      <td>['would', 'happen', 'indian', 'government', 's...</td>\n",
              "      <td>[0.839514921500667, 0.9999630580593853, 0.9999...</td>\n",
              "      <td>[0.41668337680663614, 0.9649340962509018, 0.89...</td>\n",
              "    </tr>\n",
              "    <tr>\n",
              "      <th>2</th>\n",
              "      <td>2</td>\n",
              "      <td>5</td>\n",
              "      <td>6</td>\n",
              "      <td>How can I increase the speed of my internet co...</td>\n",
              "      <td>How can Internet speed be increased by hacking...</td>\n",
              "      <td>0</td>\n",
              "      <td>['increase', 'speed', 'internet', 'connection'...</td>\n",
              "      <td>['internet', 'speed', 'increased', 'hacking', ...</td>\n",
              "      <td>[0.9375841663172975, 0.9110805867471258, 0.922...</td>\n",
              "      <td>[0.9227452182038515, 0.9110805867471258, 0.933...</td>\n",
              "    </tr>\n",
              "    <tr>\n",
              "      <th>3</th>\n",
              "      <td>3</td>\n",
              "      <td>7</td>\n",
              "      <td>8</td>\n",
              "      <td>Why am I mentally very lonely? How can I solve...</td>\n",
              "      <td>Find the remainder when [math]23^{24}[/math] i...</td>\n",
              "      <td>0</td>\n",
              "      <td>['mentally', 'lonely', 'solve']</td>\n",
              "      <td>['find', 'remainder', 'math2324math', 'divided...</td>\n",
              "      <td>[0.9947201949053784, 0.9939677474154194, 0.985...</td>\n",
              "      <td>[0.7525440337832271, 0.9821554942042321, 0.948...</td>\n",
              "    </tr>\n",
              "    <tr>\n",
              "      <th>4</th>\n",
              "      <td>4</td>\n",
              "      <td>9</td>\n",
              "      <td>10</td>\n",
              "      <td>Which one dissolve in water quikly sugar, salt...</td>\n",
              "      <td>Which fish would survive in salt water?</td>\n",
              "      <td>0</td>\n",
              "      <td>['one', 'dissolve', 'water', 'quikly', 'sugar'...</td>\n",
              "      <td>['fish', 'would', 'survive', 'salt', 'water']</td>\n",
              "      <td>[0.03339877872379516, 0.9969256384306797, 0.79...</td>\n",
              "      <td>[0.9505073288490751, 0.41668337680663614, 0.98...</td>\n",
              "    </tr>\n",
              "  </tbody>\n",
              "</table>\n",
              "</div>"
            ],
            "text/plain": [
              "   id  ...                                            weight2\n",
              "0   0  ...  [0.9556567694500208, 0.9556567694500208, 0.943...\n",
              "1   1  ...  [0.41668337680663614, 0.9649340962509018, 0.89...\n",
              "2   2  ...  [0.9227452182038515, 0.9110805867471258, 0.933...\n",
              "3   3  ...  [0.7525440337832271, 0.9821554942042321, 0.948...\n",
              "4   4  ...  [0.9505073288490751, 0.41668337680663614, 0.98...\n",
              "\n",
              "[5 rows x 10 columns]"
            ]
          },
          "metadata": {
            "tags": []
          },
          "execution_count": 9
        }
      ]
    },
    {
      "cell_type": "code",
      "metadata": {
        "id": "6BKc4nuSdpbw",
        "colab_type": "code",
        "colab": {}
      },
      "source": [
        "import scipy\n",
        "from ast import literal_eval\n",
        "def cosine_distance_wordembedding_method(s1, s2, weight1=None, weight2=None):\n",
        "    if weight1!=[]:\n",
        "      vector_1 = np.average([glove[word] for word in literal_eval(s1) if word in glove],axis=0, weights=weight1)\n",
        "    else:\n",
        "      return 0\n",
        "    if weight2!=[]:\n",
        "      vector_2 = np.average([glove[word] for word in literal_eval(s2) if word in glove],axis=0, weights=weight2)\n",
        "    else:\n",
        "      return 0\n",
        "    cosine = scipy.spatial.distance.cosine(vector_1, vector_2)\n",
        "    return 1-cosine"
      ],
      "execution_count": 0,
      "outputs": []
    },
    {
      "cell_type": "code",
      "metadata": {
        "id": "uoYBsaU9GjBZ",
        "colab_type": "code",
        "outputId": "e9754fed-fc17-489c-d83e-71cc190496ad",
        "colab": {
          "base_uri": "https://localhost:8080/",
          "height": 340
        }
      },
      "source": [
        "train[\"cos_sim\"] = train.apply(lambda x: cosine_distance_wordembedding_method(x.Q1, x.Q2, x.weight1,x.weight2), axis=1)\n",
        "train.head()"
      ],
      "execution_count": 0,
      "outputs": [
        {
          "output_type": "execute_result",
          "data": {
            "text/html": [
              "<div>\n",
              "<style scoped>\n",
              "    .dataframe tbody tr th:only-of-type {\n",
              "        vertical-align: middle;\n",
              "    }\n",
              "\n",
              "    .dataframe tbody tr th {\n",
              "        vertical-align: top;\n",
              "    }\n",
              "\n",
              "    .dataframe thead th {\n",
              "        text-align: right;\n",
              "    }\n",
              "</style>\n",
              "<table border=\"1\" class=\"dataframe\">\n",
              "  <thead>\n",
              "    <tr style=\"text-align: right;\">\n",
              "      <th></th>\n",
              "      <th>id</th>\n",
              "      <th>qid1</th>\n",
              "      <th>qid2</th>\n",
              "      <th>question1</th>\n",
              "      <th>question2</th>\n",
              "      <th>is_duplicate</th>\n",
              "      <th>Q1</th>\n",
              "      <th>Q2</th>\n",
              "      <th>weight1</th>\n",
              "      <th>weight2</th>\n",
              "      <th>cos_sim</th>\n",
              "    </tr>\n",
              "  </thead>\n",
              "  <tbody>\n",
              "    <tr>\n",
              "      <th>0</th>\n",
              "      <td>0</td>\n",
              "      <td>1</td>\n",
              "      <td>2</td>\n",
              "      <td>What is the step by step guide to invest in sh...</td>\n",
              "      <td>What is the step by step guide to invest in sh...</td>\n",
              "      <td>0</td>\n",
              "      <td>['step', 'step', 'guide', 'invest', 'share', '...</td>\n",
              "      <td>['step', 'step', 'guide', 'invest', 'share', '...</td>\n",
              "      <td>[0.9556567694500208, 0.9556567694500208, 0.943...</td>\n",
              "      <td>[0.9556567694500208, 0.9556567694500208, 0.943...</td>\n",
              "      <td>0.972475</td>\n",
              "    </tr>\n",
              "    <tr>\n",
              "      <th>1</th>\n",
              "      <td>1</td>\n",
              "      <td>3</td>\n",
              "      <td>4</td>\n",
              "      <td>What is the story of Kohinoor (Koh-i-Noor) Dia...</td>\n",
              "      <td>What would happen if the Indian government sto...</td>\n",
              "      <td>0</td>\n",
              "      <td>['story', 'kohinoor', 'kohinoor', 'diamond']</td>\n",
              "      <td>['would', 'happen', 'indian', 'government', 's...</td>\n",
              "      <td>[0.839514921500667, 0.9999630580593853, 0.9999...</td>\n",
              "      <td>[0.41668337680663614, 0.9649340962509018, 0.89...</td>\n",
              "      <td>0.774683</td>\n",
              "    </tr>\n",
              "    <tr>\n",
              "      <th>2</th>\n",
              "      <td>2</td>\n",
              "      <td>5</td>\n",
              "      <td>6</td>\n",
              "      <td>How can I increase the speed of my internet co...</td>\n",
              "      <td>How can Internet speed be increased by hacking...</td>\n",
              "      <td>0</td>\n",
              "      <td>['increase', 'speed', 'internet', 'connection'...</td>\n",
              "      <td>['internet', 'speed', 'increased', 'hacking', ...</td>\n",
              "      <td>[0.9375841663172975, 0.9110805867471258, 0.922...</td>\n",
              "      <td>[0.9227452182038515, 0.9110805867471258, 0.933...</td>\n",
              "      <td>0.877543</td>\n",
              "    </tr>\n",
              "    <tr>\n",
              "      <th>3</th>\n",
              "      <td>3</td>\n",
              "      <td>7</td>\n",
              "      <td>8</td>\n",
              "      <td>Why am I mentally very lonely? How can I solve...</td>\n",
              "      <td>Find the remainder when [math]23^{24}[/math] i...</td>\n",
              "      <td>0</td>\n",
              "      <td>['mentally', 'lonely', 'solve']</td>\n",
              "      <td>['find', 'remainder', 'math2324math', 'divided...</td>\n",
              "      <td>[0.9947201949053784, 0.9939677474154194, 0.985...</td>\n",
              "      <td>[0.7525440337832271, 0.9821554942042321, 0.948...</td>\n",
              "      <td>0.384955</td>\n",
              "    </tr>\n",
              "    <tr>\n",
              "      <th>4</th>\n",
              "      <td>4</td>\n",
              "      <td>9</td>\n",
              "      <td>10</td>\n",
              "      <td>Which one dissolve in water quikly sugar, salt...</td>\n",
              "      <td>Which fish would survive in salt water?</td>\n",
              "      <td>0</td>\n",
              "      <td>['one', 'dissolve', 'water', 'quikly', 'sugar'...</td>\n",
              "      <td>['fish', 'would', 'survive', 'salt', 'water']</td>\n",
              "      <td>[0.03339877872379516, 0.9969256384306797, 0.79...</td>\n",
              "      <td>[0.9505073288490751, 0.41668337680663614, 0.98...</td>\n",
              "      <td>0.719507</td>\n",
              "    </tr>\n",
              "  </tbody>\n",
              "</table>\n",
              "</div>"
            ],
            "text/plain": [
              "   id  qid1  ...                                            weight2   cos_sim\n",
              "0   0     1  ...  [0.9556567694500208, 0.9556567694500208, 0.943...  0.972475\n",
              "1   1     3  ...  [0.41668337680663614, 0.9649340962509018, 0.89...  0.774683\n",
              "2   2     5  ...  [0.9227452182038515, 0.9110805867471258, 0.933...  0.877543\n",
              "3   3     7  ...  [0.7525440337832271, 0.9821554942042321, 0.948...  0.384955\n",
              "4   4     9  ...  [0.9505073288490751, 0.41668337680663614, 0.98...  0.719507\n",
              "\n",
              "[5 rows x 11 columns]"
            ]
          },
          "metadata": {
            "tags": []
          },
          "execution_count": 11
        }
      ]
    },
    {
      "cell_type": "code",
      "metadata": {
        "id": "rA2FZnW7TviZ",
        "colab_type": "code",
        "outputId": "60b35cd7-fb67-485e-ad1b-6efd9770d4ee",
        "colab": {
          "base_uri": "https://localhost:8080/",
          "height": 142
        }
      },
      "source": [
        "train[[\"is_duplicate\", \"cos_sim\"]].groupby(\"is_duplicate\").mean()"
      ],
      "execution_count": 0,
      "outputs": [
        {
          "output_type": "execute_result",
          "data": {
            "text/html": [
              "<div>\n",
              "<style scoped>\n",
              "    .dataframe tbody tr th:only-of-type {\n",
              "        vertical-align: middle;\n",
              "    }\n",
              "\n",
              "    .dataframe tbody tr th {\n",
              "        vertical-align: top;\n",
              "    }\n",
              "\n",
              "    .dataframe thead th {\n",
              "        text-align: right;\n",
              "    }\n",
              "</style>\n",
              "<table border=\"1\" class=\"dataframe\">\n",
              "  <thead>\n",
              "    <tr style=\"text-align: right;\">\n",
              "      <th></th>\n",
              "      <th>cos_sim</th>\n",
              "    </tr>\n",
              "    <tr>\n",
              "      <th>is_duplicate</th>\n",
              "      <th></th>\n",
              "    </tr>\n",
              "  </thead>\n",
              "  <tbody>\n",
              "    <tr>\n",
              "      <th>0</th>\n",
              "      <td>0.757515</td>\n",
              "    </tr>\n",
              "    <tr>\n",
              "      <th>1</th>\n",
              "      <td>0.897661</td>\n",
              "    </tr>\n",
              "  </tbody>\n",
              "</table>\n",
              "</div>"
            ],
            "text/plain": [
              "               cos_sim\n",
              "is_duplicate          \n",
              "0             0.757515\n",
              "1             0.897661"
            ]
          },
          "metadata": {
            "tags": []
          },
          "execution_count": 12
        }
      ]
    },
    {
      "cell_type": "code",
      "metadata": {
        "id": "gyK5R883TvxX",
        "colab_type": "code",
        "outputId": "511ef114-3220-4a15-926d-63286878f1e9",
        "colab": {
          "base_uri": "https://localhost:8080/",
          "height": 282
        }
      },
      "source": [
        "from matplotlib import pyplot as plt\n",
        "\n",
        "plt.scatter(train[\"is_duplicate\"], train[\"cos_sim\"])"
      ],
      "execution_count": 0,
      "outputs": [
        {
          "output_type": "execute_result",
          "data": {
            "text/plain": [
              "<matplotlib.collections.PathCollection at 0x7ff5045dcb00>"
            ]
          },
          "metadata": {
            "tags": []
          },
          "execution_count": 13
        },
        {
          "output_type": "display_data",
          "data": {
            "image/png": "[encoded data removed]",
            "text/plain": [
              "<Figure size 432x288 with 1 Axes>"
            ]
          },
          "metadata": {
            "tags": []
          }
        }
      ]
    },
    {
      "cell_type": "code",
      "metadata": {
        "id": "nlPmno2eT4xH",
        "colab_type": "code",
        "colab": {}
      },
      "source": [
        "from sklearn.model_selection import train_test_split\n",
        "train_X, val_X, train_y, val_y = train_test_split(train[[\"cos_sim\"]], train[\"is_duplicate\"], random_state = 0, test_size=0.2)"
      ],
      "execution_count": 0,
      "outputs": []
    },
    {
      "cell_type": "code",
      "metadata": {
        "id": "JDf9S1dcT72L",
        "colab_type": "code",
        "outputId": "f8a5be31-a273-4497-d7cf-7e3b5889f450",
        "colab": {
          "base_uri": "https://localhost:8080/",
          "height": 85
        }
      },
      "source": [
        "import xgboost as xgb\n",
        "options = {\"model_param\":\n",
        "         {\"eta\": 0.15, \n",
        "         \"max_depth\": 4,\n",
        "         \"n_estimators\":50,\n",
        "         \"sub_sample\":0.5,\n",
        "         \"scale_pos_weight\":1.75,\n",
        "         \"random_state\":1,\n",
        "         \"eval_metric\": \"logloss\",\n",
        "         \"objective\": \"binary:logistic\"},\n",
        "         \"num_round\":50,\n",
        "         \"test_frac\":0.2}\n",
        "#training model\n",
        "xgbmatrix = xgb.DMatrix(train_X, train_y)\n",
        "xgb_model = xgb.train(options[\"model_param\"], xgbmatrix, options[\"num_round\"], verbose_eval=10)\n",
        "xgb_valmatrix = xgb.DMatrix(val_X)\n",
        "y_val_pred = xgb_model.predict(xgb_valmatrix)\n",
        "y_val_pred #just checking"
      ],
      "execution_count": 0,
      "outputs": [
        {
          "output_type": "stream",
          "text": [
            "/usr/local/lib/python3.6/dist-packages/xgboost/core.py:587: FutureWarning: Series.base is deprecated and will be removed in a future version\n",
            "  if getattr(data, 'base', None) is not None and \\\n"
          ],
          "name": "stderr"
        },
        {
          "output_type": "execute_result",
          "data": {
            "text/plain": [
              "array([0.45560405, 0.6156892 , 0.28727043, ..., 0.79345644, 0.6826976 ,\n",
              "       0.33660048], dtype=float32)"
            ]
          },
          "metadata": {
            "tags": []
          },
          "execution_count": 15
        }
      ]
    },
    {
      "cell_type": "code",
      "metadata": {
        "id": "bajgpEqxUBW-",
        "colab_type": "code",
        "outputId": "3a2c123b-b3b3-4d39-ea16-22e70bb223fb",
        "colab": {
          "base_uri": "https://localhost:8080/",
          "height": 51
        }
      },
      "source": [
        "y_val_pred_binary = [1 if y>0.5 else 0 for y in y_val_pred]\n",
        "from sklearn.metrics import confusion_matrix, classification_report\n",
        "\n",
        "confusion_matrix(val_y, y_val_pred_binary)"
      ],
      "execution_count": 0,
      "outputs": [
        {
          "output_type": "execute_result",
          "data": {
            "text/plain": [
              "array([[29976, 21162],\n",
              "       [ 6115, 23605]])"
            ]
          },
          "metadata": {
            "tags": []
          },
          "execution_count": 16
        }
      ]
    },
    {
      "cell_type": "code",
      "metadata": {
        "id": "BqaWO-nL6eIe",
        "colab_type": "code",
        "outputId": "644f374a-beff-4330-ece1-d31744a563b1",
        "colab": {
          "base_uri": "https://localhost:8080/"
        }
      },
      "source": [
        "from sklearn.metrics import accuracy_score\n",
        "accuracy_score(val_y, y_val_pred_binary)"
      ],
      "execution_count": 0,
      "outputs": [
        {
          "output_type": "execute_result",
          "data": {
            "text/plain": [
              "0.6626555195527962"
            ]
          },
          "metadata": {
            "tags": []
          },
          "execution_count": 17
        }
      ]
    }
  ]
}