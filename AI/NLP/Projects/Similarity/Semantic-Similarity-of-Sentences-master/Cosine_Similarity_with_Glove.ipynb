{
  "nbformat": 4,
  "nbformat_minor": 0,
  "metadata": {
    "colab": {
      "name": "Cosine Similarity with Glove",
      "provenance": [],
      "include_colab_link": true
    },
    "kernelspec": {
      "name": "python3",
      "display_name": "Python 3"
    },
    "accelerator": "GPU"
  },
  "cells": [
    {
      "cell_type": "markdown",
      "metadata": {
        "id": "view-in-github",
        "colab_type": "text"
      },
      "source": [
        "<a href=\"https://colab.research.google.com/github/mavalliani/Semantic-Similarity-of-Sentences/blob/master/Cosine_Similarity_with_Glove.ipynb\" target=\"_parent\"><img src=\"https://colab.research.google.com/assets/colab-badge.svg\" alt=\"Open In Colab\"/></a>"
      ]
    },
    {
      "cell_type": "code",
      "metadata": {
        "id": "R8yMBmitEn8E",
        "colab_type": "code",
        "colab": {}
      },
      "source": [
        "import numpy as np\n",
        "import pandas as pd\n",
        "import nltk\n",
        "import spacy\n",
        "import os\n",
        "import string\n",
        "import gensim"
      ],
      "execution_count": 0,
      "outputs": []
    },
    {
      "cell_type": "code",
      "metadata": {
        "id": "BkKamVQBGKIZ",
        "colab_type": "code",
        "outputId": "34e0d88d-c05a-4120-99cd-d028c50e709b",
        "colab": {
          "base_uri": "https://localhost:8080/",
          "height": 255
        }
      },
      "source": [
        "train = pd.read_csv(\"/content/train_2.csv\")\n",
        "train = train.dropna()\n",
        "train.head()"
      ],
      "execution_count": 0,
      "outputs": [
        {
          "output_type": "execute_result",
          "data": {
            "text/html": [
              "<div>\n",
              "<style scoped>\n",
              "    .dataframe tbody tr th:only-of-type {\n",
              "        vertical-align: middle;\n",
              "    }\n",
              "\n",
              "    .dataframe tbody tr th {\n",
              "        vertical-align: top;\n",
              "    }\n",
              "\n",
              "    .dataframe thead th {\n",
              "        text-align: right;\n",
              "    }\n",
              "</style>\n",
              "<table border=\"1\" class=\"dataframe\">\n",
              "  <thead>\n",
              "    <tr style=\"text-align: right;\">\n",
              "      <th></th>\n",
              "      <th>id</th>\n",
              "      <th>qid1</th>\n",
              "      <th>qid2</th>\n",
              "      <th>question1</th>\n",
              "      <th>question2</th>\n",
              "      <th>is_duplicate</th>\n",
              "      <th>Q1</th>\n",
              "      <th>Q2</th>\n",
              "    </tr>\n",
              "  </thead>\n",
              "  <tbody>\n",
              "    <tr>\n",
              "      <th>0</th>\n",
              "      <td>0</td>\n",
              "      <td>1</td>\n",
              "      <td>2</td>\n",
              "      <td>What is the step by step guide to invest in sh...</td>\n",
              "      <td>What is the step by step guide to invest in sh...</td>\n",
              "      <td>0</td>\n",
              "      <td>['step', 'step', 'guide', 'invest', 'share', '...</td>\n",
              "      <td>['step', 'step', 'guide', 'invest', 'share', '...</td>\n",
              "    </tr>\n",
              "    <tr>\n",
              "      <th>1</th>\n",
              "      <td>1</td>\n",
              "      <td>3</td>\n",
              "      <td>4</td>\n",
              "      <td>What is the story of Kohinoor (Koh-i-Noor) Dia...</td>\n",
              "      <td>What would happen if the Indian government sto...</td>\n",
              "      <td>0</td>\n",
              "      <td>['story', 'kohinoor', 'kohinoor', 'diamond']</td>\n",
              "      <td>['would', 'happen', 'indian', 'government', 's...</td>\n",
              "    </tr>\n",
              "    <tr>\n",
              "      <th>2</th>\n",
              "      <td>2</td>\n",
              "      <td>5</td>\n",
              "      <td>6</td>\n",
              "      <td>How can I increase the speed of my internet co...</td>\n",
              "      <td>How can Internet speed be increased by hacking...</td>\n",
              "      <td>0</td>\n",
              "      <td>['increase', 'speed', 'internet', 'connection'...</td>\n",
              "      <td>['internet', 'speed', 'increased', 'hacking', ...</td>\n",
              "    </tr>\n",
              "    <tr>\n",
              "      <th>3</th>\n",
              "      <td>3</td>\n",
              "      <td>7</td>\n",
              "      <td>8</td>\n",
              "      <td>Why am I mentally very lonely? How can I solve...</td>\n",
              "      <td>Find the remainder when [math]23^{24}[/math] i...</td>\n",
              "      <td>0</td>\n",
              "      <td>['mentally', 'lonely', 'solve']</td>\n",
              "      <td>['find', 'remainder', 'math2324math', 'divided...</td>\n",
              "    </tr>\n",
              "    <tr>\n",
              "      <th>4</th>\n",
              "      <td>4</td>\n",
              "      <td>9</td>\n",
              "      <td>10</td>\n",
              "      <td>Which one dissolve in water quikly sugar, salt...</td>\n",
              "      <td>Which fish would survive in salt water?</td>\n",
              "      <td>0</td>\n",
              "      <td>['one', 'dissolve', 'water', 'quikly', 'sugar'...</td>\n",
              "      <td>['fish', 'would', 'survive', 'salt', 'water']</td>\n",
              "    </tr>\n",
              "  </tbody>\n",
              "</table>\n",
              "</div>"
            ],
            "text/plain": [
              "   id  ...                                                 Q2\n",
              "0   0  ...  ['step', 'step', 'guide', 'invest', 'share', '...\n",
              "1   1  ...  ['would', 'happen', 'indian', 'government', 's...\n",
              "2   2  ...  ['internet', 'speed', 'increased', 'hacking', ...\n",
              "3   3  ...  ['find', 'remainder', 'math2324math', 'divided...\n",
              "4   4  ...      ['fish', 'would', 'survive', 'salt', 'water']\n",
              "\n",
              "[5 rows x 8 columns]"
            ]
          },
          "metadata": {
            "tags": []
          },
          "execution_count": 2
        }
      ]
    },
    {
      "cell_type": "code",
      "metadata": {
        "id": "ZQEiQQKwGKMk",
        "colab_type": "code",
        "colab": {}
      },
      "source": [
        "!wget -c http://nlp.stanford.edu/data/glove.840B.300d.zip"
      ],
      "execution_count": 0,
      "outputs": []
    },
    {
      "cell_type": "code",
      "metadata": {
        "id": "5jEQrmMKGKQO",
        "colab_type": "code",
        "colab": {}
      },
      "source": [
        "import zipfile\n",
        "with zipfile.ZipFile(\"/content/glove.840B.300d.zip\", \"r\") as zipread:\n",
        "  zipread.extractall(\"/content/\")\n",
        "  zipread.close"
      ],
      "execution_count": 0,
      "outputs": []
    },
    {
      "cell_type": "code",
      "metadata": {
        "id": "njtpY5NdGKT3",
        "colab_type": "code",
        "outputId": "9b59bfdd-2cf3-4fe5-9a7d-f66922c0714e",
        "colab": {
          "base_uri": "https://localhost:8080/",
          "height": 71
        }
      },
      "source": [
        "import gensim\n",
        "from gensim.models import Word2Vec\n",
        "from gensim.scripts.glove2word2vec import glove2word2vec\n",
        "\n",
        "PATH_TO_GLOVE = \"/content/glove.840B.300d.txt\"\n",
        "\n",
        "tmp_file = \"/glove.840B.300d.w2v.txt\"\n",
        "glove2word2vec(PATH_TO_GLOVE, tmp_file)\n",
        "glove = gensim.models.KeyedVectors.load_word2vec_format(tmp_file)"
      ],
      "execution_count": 0,
      "outputs": [
        {
          "output_type": "stream",
          "text": [
            "/usr/local/lib/python3.6/dist-packages/smart_open/smart_open_lib.py:402: UserWarning: This function is deprecated, use smart_open.open instead. See the migration notes for details: https://github.com/RaRe-Technologies/smart_open/blob/master/README.rst#migrating-to-the-new-open-function\n",
            "  'See the migration notes for details: %s' % _MIGRATION_NOTES_URL\n"
          ],
          "name": "stderr"
        }
      ]
    },
    {
      "cell_type": "code",
      "metadata": {
        "id": "UeGllzuKGkRt",
        "colab_type": "code",
        "colab": {}
      },
      "source": [
        "import scipy\n",
        "from ast import literal_eval\n",
        "def cosine_distance_wordembedding_method(s1, s2):\n",
        "    vector_1 = np.mean([glove[word] for word in literal_eval(s1) if word in glove],axis=0)\n",
        "    vector_2 = np.mean([glove[word] for word in literal_eval(s2) if word in glove],axis=0)\n",
        "    cosine = scipy.spatial.distance.cosine(vector_1, vector_2)\n",
        "    return 1-cosine"
      ],
      "execution_count": 0,
      "outputs": []
    },
    {
      "cell_type": "code",
      "metadata": {
        "id": "oRYqlOvbGZLq",
        "colab_type": "code",
        "outputId": "9d73e26d-f105-4ed3-f418-0715d62e7cdd",
        "colab": {
          "base_uri": "https://localhost:8080/",
          "height": 357
        }
      },
      "source": [
        "train[\"cos_sim\"] = train.apply(lambda x: cosine_distance_wordembedding_method(x.Q1, x.Q2), axis=1)\n",
        "train.head()"
      ],
      "execution_count": 0,
      "outputs": [
        {
          "output_type": "stream",
          "text": [
            "/usr/local/lib/python3.6/dist-packages/numpy/core/fromnumeric.py:3257: RuntimeWarning: Mean of empty slice.\n",
            "  out=out, **kwargs)\n",
            "/usr/local/lib/python3.6/dist-packages/numpy/core/_methods.py:161: RuntimeWarning: invalid value encountered in double_scalars\n",
            "  ret = ret.dtype.type(ret / rcount)\n"
          ],
          "name": "stderr"
        },
        {
          "output_type": "execute_result",
          "data": {
            "text/html": [
              "<div>\n",
              "<style scoped>\n",
              "    .dataframe tbody tr th:only-of-type {\n",
              "        vertical-align: middle;\n",
              "    }\n",
              "\n",
              "    .dataframe tbody tr th {\n",
              "        vertical-align: top;\n",
              "    }\n",
              "\n",
              "    .dataframe thead th {\n",
              "        text-align: right;\n",
              "    }\n",
              "</style>\n",
              "<table border=\"1\" class=\"dataframe\">\n",
              "  <thead>\n",
              "    <tr style=\"text-align: right;\">\n",
              "      <th></th>\n",
              "      <th>id</th>\n",
              "      <th>qid1</th>\n",
              "      <th>qid2</th>\n",
              "      <th>question1</th>\n",
              "      <th>question2</th>\n",
              "      <th>is_duplicate</th>\n",
              "      <th>Q1</th>\n",
              "      <th>Q2</th>\n",
              "      <th>cos_sim</th>\n",
              "    </tr>\n",
              "  </thead>\n",
              "  <tbody>\n",
              "    <tr>\n",
              "      <th>0</th>\n",
              "      <td>0</td>\n",
              "      <td>1</td>\n",
              "      <td>2</td>\n",
              "      <td>What is the step by step guide to invest in sh...</td>\n",
              "      <td>What is the step by step guide to invest in sh...</td>\n",
              "      <td>0</td>\n",
              "      <td>['step', 'step', 'guide', 'invest', 'share', '...</td>\n",
              "      <td>['step', 'step', 'guide', 'invest', 'share', '...</td>\n",
              "      <td>0.968238</td>\n",
              "    </tr>\n",
              "    <tr>\n",
              "      <th>1</th>\n",
              "      <td>1</td>\n",
              "      <td>3</td>\n",
              "      <td>4</td>\n",
              "      <td>What is the story of Kohinoor (Koh-i-Noor) Dia...</td>\n",
              "      <td>What would happen if the Indian government sto...</td>\n",
              "      <td>0</td>\n",
              "      <td>['story', 'kohinoor', 'kohinoor', 'diamond']</td>\n",
              "      <td>['would', 'happen', 'indian', 'government', 's...</td>\n",
              "      <td>0.696817</td>\n",
              "    </tr>\n",
              "    <tr>\n",
              "      <th>2</th>\n",
              "      <td>2</td>\n",
              "      <td>5</td>\n",
              "      <td>6</td>\n",
              "      <td>How can I increase the speed of my internet co...</td>\n",
              "      <td>How can Internet speed be increased by hacking...</td>\n",
              "      <td>0</td>\n",
              "      <td>['increase', 'speed', 'internet', 'connection'...</td>\n",
              "      <td>['internet', 'speed', 'increased', 'hacking', ...</td>\n",
              "      <td>0.881100</td>\n",
              "    </tr>\n",
              "    <tr>\n",
              "      <th>3</th>\n",
              "      <td>3</td>\n",
              "      <td>7</td>\n",
              "      <td>8</td>\n",
              "      <td>Why am I mentally very lonely? How can I solve...</td>\n",
              "      <td>Find the remainder when [math]23^{24}[/math] i...</td>\n",
              "      <td>0</td>\n",
              "      <td>['mentally', 'lonely', 'solve']</td>\n",
              "      <td>['find', 'remainder', 'math2324math', 'divided...</td>\n",
              "      <td>0.423323</td>\n",
              "    </tr>\n",
              "    <tr>\n",
              "      <th>4</th>\n",
              "      <td>4</td>\n",
              "      <td>9</td>\n",
              "      <td>10</td>\n",
              "      <td>Which one dissolve in water quikly sugar, salt...</td>\n",
              "      <td>Which fish would survive in salt water?</td>\n",
              "      <td>0</td>\n",
              "      <td>['one', 'dissolve', 'water', 'quikly', 'sugar'...</td>\n",
              "      <td>['fish', 'would', 'survive', 'salt', 'water']</td>\n",
              "      <td>0.755832</td>\n",
              "    </tr>\n",
              "  </tbody>\n",
              "</table>\n",
              "</div>"
            ],
            "text/plain": [
              "   id  qid1  ...                                                 Q2   cos_sim\n",
              "0   0     1  ...  ['step', 'step', 'guide', 'invest', 'share', '...  0.968238\n",
              "1   1     3  ...  ['would', 'happen', 'indian', 'government', 's...  0.696817\n",
              "2   2     5  ...  ['internet', 'speed', 'increased', 'hacking', ...  0.881100\n",
              "3   3     7  ...  ['find', 'remainder', 'math2324math', 'divided...  0.423323\n",
              "4   4     9  ...      ['fish', 'would', 'survive', 'salt', 'water']  0.755832\n",
              "\n",
              "[5 rows x 9 columns]"
            ]
          },
          "metadata": {
            "tags": []
          },
          "execution_count": 8
        }
      ]
    },
    {
      "cell_type": "code",
      "metadata": {
        "id": "p3bxRzQ_OSNb",
        "colab_type": "code",
        "colab": {}
      },
      "source": [
        "from sklearn.model_selection import train_test_split\n",
        "train_X, val_X, train_y, val_y = train_test_split(train[[\"cos_sim\"]], train[\"is_duplicate\"], random_state=5, test_size=0.2)"
      ],
      "execution_count": 0,
      "outputs": []
    },
    {
      "cell_type": "code",
      "metadata": {
        "id": "03rKJou1OVV0",
        "colab_type": "code",
        "colab": {}
      },
      "source": [
        "import xgboost as xgb\n",
        "options = {\"model_param\":\n",
        "         {\"eta\": 0.15, \n",
        "         \"max_depth\": 4,\n",
        "         \"n_estimators\":50,\n",
        "         \"sub_sample\":0.5,\n",
        "         \"scale_pos_weight\":1.75,\n",
        "         \"random_state\":1,\n",
        "         \"eval_metric\": \"logloss\",\n",
        "         \"objective\": \"binary:logistic\"},\n",
        "         \"num_round\":50,\n",
        "         \"test_frac\":0.2}"
      ],
      "execution_count": 0,
      "outputs": []
    },
    {
      "cell_type": "code",
      "metadata": {
        "id": "YdcjAwvCOVZB",
        "colab_type": "code",
        "outputId": "db7ae0ba-75b3-411a-d781-d719dd579e15",
        "colab": {
          "base_uri": "https://localhost:8080/",
          "height": 85
        }
      },
      "source": [
        "#training model\n",
        "xgbmatrix = xgb.DMatrix(train_X, train_y)\n",
        "xgb_model = xgb.train(options[\"model_param\"], xgbmatrix, options[\"num_round\"], verbose_eval=10)\n",
        "xgb_valmatrix = xgb.DMatrix(val_X)\n",
        "y_val_pred = xgb_model.predict(xgb_valmatrix)\n",
        "y_val_pred #just checking"
      ],
      "execution_count": 0,
      "outputs": [
        {
          "output_type": "stream",
          "text": [
            "/usr/local/lib/python3.6/dist-packages/xgboost/core.py:587: FutureWarning: Series.base is deprecated and will be removed in a future version\n",
            "  if getattr(data, 'base', None) is not None and \\\n"
          ],
          "name": "stderr"
        },
        {
          "output_type": "execute_result",
          "data": {
            "text/plain": [
              "array([0.39110422, 0.17844072, 0.65599036, ..., 0.5713001 , 0.3393073 ,\n",
              "       0.7067311 ], dtype=float32)"
            ]
          },
          "metadata": {
            "tags": []
          },
          "execution_count": 12
        }
      ]
    },
    {
      "cell_type": "code",
      "metadata": {
        "id": "ZXUtlcjsOVcr",
        "colab_type": "code",
        "outputId": "85802e85-cbbd-4eac-f7aa-80a5ba5dfacf",
        "colab": {
          "base_uri": "https://localhost:8080/",
          "height": 51
        }
      },
      "source": [
        "y_val_pred_binary = [1 if y>0.5 else 0 for y in y_val_pred]\n",
        "from sklearn.metrics import confusion_matrix, classification_report\n",
        "\n",
        "confusion_matrix(val_y, y_val_pred_binary)"
      ],
      "execution_count": 0,
      "outputs": [
        {
          "output_type": "execute_result",
          "data": {
            "text/plain": [
              "array([[29799, 21346],\n",
              "       [ 6083, 23630]])"
            ]
          },
          "metadata": {
            "tags": []
          },
          "execution_count": 13
        }
      ]
    },
    {
      "cell_type": "code",
      "metadata": {
        "id": "m8SrQNzrOVgA",
        "colab_type": "code",
        "outputId": "d39cef90-2cd5-456a-9be4-2056500a2a4d",
        "colab": {
          "base_uri": "https://localhost:8080/",
          "height": 34
        }
      },
      "source": [
        "from sklearn.metrics import accuracy_score\n",
        "accuracy_score(val_y, y_val_pred_binary)"
      ],
      "execution_count": 0,
      "outputs": [
        {
          "output_type": "execute_result",
          "data": {
            "text/plain": [
              "0.6607756808231715"
            ]
          },
          "metadata": {
            "tags": []
          },
          "execution_count": 14
        }
      ]
    }
  ]
}