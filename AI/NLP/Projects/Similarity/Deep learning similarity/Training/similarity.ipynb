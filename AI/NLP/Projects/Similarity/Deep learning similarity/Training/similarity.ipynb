{
 "cells": [
  {
   "cell_type": "code",
   "execution_count": 1,
   "metadata": {
    "_cell_guid": "b1076dfc-b9ad-4769-8c92-a6c4dae69d19",
    "_uuid": "8f2839f25d086af736a60e9eeb907d3b93b6e0e5",
    "execution": {
     "iopub.execute_input": "2021-04-30T14:16:04.614406Z",
     "iopub.status.busy": "2021-04-30T14:16:04.613726Z",
     "iopub.status.idle": "2021-04-30T14:16:10.752211Z",
     "shell.execute_reply": "2021-04-30T14:16:10.752899Z"
    },
    "papermill": {
     "duration": 6.16737,
     "end_time": "2021-04-30T14:16:10.753289",
     "exception": false,
     "start_time": "2021-04-30T14:16:04.585919",
     "status": "completed"
    },
    "tags": []
   },
   "outputs": [],
   "source": [
    "import numpy as np # linear algebra\n",
    "import pandas as pd # data processing, CSV file I/O (e.g. pd.read_csv)\n",
    "\n",
    "from nltk.stem.wordnet import WordNetLemmatizer\n",
    "from nltk import pos_tag\n",
    "from nltk.corpus import wordnet\n",
    "from nltk.corpus import stopwords\n",
    "from nltk.stem.wordnet import WordNetLemmatizer\n",
    "from tensorflow.keras.preprocessing.text import Tokenizer\n",
    "from tensorflow.keras.preprocessing.sequence import pad_sequences\n",
    "\n",
    "import tensorflow as tf\n",
    "from tensorflow.keras.models import Sequential\n",
    "from tensorflow.keras.callbacks import EarlyStopping\n",
    "from tensorflow.keras.callbacks import ModelCheckpoint, ReduceLROnPlateau\n",
    "from tensorflow.keras.preprocessing.text import Tokenizer\n",
    "from tensorflow.keras.layers import LSTM, Dense, Bidirectional\n",
    "from tensorflow.keras.layers import Dropout, SpatialDropout1D, TimeDistributed,Flatten, GlobalMaxPool1D, BatchNormalization, multiply\n",
    "from tensorflow.keras.layers import Embedding\n",
    "import seaborn as sns\n",
    "import matplotlib.pyplot as plt\n",
    "\n",
    "import re\n",
    "from tqdm import tqdm\n",
    "from sklearn.model_selection import train_test_split"
   ]
  },
  {
   "cell_type": "code",
   "execution_count": 2,
   "metadata": {
    "execution": {
     "iopub.execute_input": "2021-04-30T14:16:10.820845Z",
     "iopub.status.busy": "2021-04-30T14:16:10.820178Z",
     "iopub.status.idle": "2021-04-30T14:16:27.096809Z",
     "shell.execute_reply": "2021-04-30T14:16:27.096322Z"
    },
    "papermill": {
     "duration": 16.314049,
     "end_time": "2021-04-30T14:16:27.096947",
     "exception": false,
     "start_time": "2021-04-30T14:16:10.782898",
     "status": "completed"
    },
    "tags": []
   },
   "outputs": [
    {
     "name": "stderr",
     "output_type": "stream",
     "text": [
      "C:\\Users\\SOUMYA\\AppData\\Local\\Temp/ipykernel_24600/2114646410.py:2: DtypeWarning: Columns (0) have mixed types. Specify dtype option on import or set low_memory=False.\n",
      "  test_data = pd.read_csv(\"test.csv\")\n"
     ]
    }
   ],
   "source": [
    "train_data = pd.read_csv('train.csv')\n",
    "test_data = pd.read_csv(\"test.csv\")"
   ]
  },
  {
   "cell_type": "code",
   "execution_count": 3,
   "metadata": {
    "execution": {
     "iopub.execute_input": "2021-04-30T14:16:27.152767Z",
     "iopub.status.busy": "2021-04-30T14:16:27.152089Z",
     "iopub.status.idle": "2021-04-30T14:16:27.160647Z",
     "shell.execute_reply": "2021-04-30T14:16:27.161060Z"
    },
    "papermill": {
     "duration": 0.04382,
     "end_time": "2021-04-30T14:16:27.161185",
     "exception": false,
     "start_time": "2021-04-30T14:16:27.117365",
     "status": "completed"
    },
    "tags": []
   },
   "outputs": [
    {
     "data": {
      "text/html": [
       "<div>\n",
       "<style scoped>\n",
       "    .dataframe tbody tr th:only-of-type {\n",
       "        vertical-align: middle;\n",
       "    }\n",
       "\n",
       "    .dataframe tbody tr th {\n",
       "        vertical-align: top;\n",
       "    }\n",
       "\n",
       "    .dataframe thead th {\n",
       "        text-align: right;\n",
       "    }\n",
       "</style>\n",
       "<table border=\"1\" class=\"dataframe\">\n",
       "  <thead>\n",
       "    <tr style=\"text-align: right;\">\n",
       "      <th></th>\n",
       "      <th>id</th>\n",
       "      <th>qid1</th>\n",
       "      <th>qid2</th>\n",
       "      <th>question1</th>\n",
       "      <th>question2</th>\n",
       "      <th>is_duplicate</th>\n",
       "    </tr>\n",
       "  </thead>\n",
       "  <tbody>\n",
       "    <tr>\n",
       "      <th>0</th>\n",
       "      <td>0</td>\n",
       "      <td>1</td>\n",
       "      <td>2</td>\n",
       "      <td>What is the step by step guide to invest in sh...</td>\n",
       "      <td>What is the step by step guide to invest in sh...</td>\n",
       "      <td>0</td>\n",
       "    </tr>\n",
       "    <tr>\n",
       "      <th>1</th>\n",
       "      <td>1</td>\n",
       "      <td>3</td>\n",
       "      <td>4</td>\n",
       "      <td>What is the story of Kohinoor (Koh-i-Noor) Dia...</td>\n",
       "      <td>What would happen if the Indian government sto...</td>\n",
       "      <td>0</td>\n",
       "    </tr>\n",
       "    <tr>\n",
       "      <th>2</th>\n",
       "      <td>2</td>\n",
       "      <td>5</td>\n",
       "      <td>6</td>\n",
       "      <td>How can I increase the speed of my internet co...</td>\n",
       "      <td>How can Internet speed be increased by hacking...</td>\n",
       "      <td>0</td>\n",
       "    </tr>\n",
       "    <tr>\n",
       "      <th>3</th>\n",
       "      <td>3</td>\n",
       "      <td>7</td>\n",
       "      <td>8</td>\n",
       "      <td>Why am I mentally very lonely? How can I solve...</td>\n",
       "      <td>Find the remainder when [math]23^{24}[/math] i...</td>\n",
       "      <td>0</td>\n",
       "    </tr>\n",
       "    <tr>\n",
       "      <th>4</th>\n",
       "      <td>4</td>\n",
       "      <td>9</td>\n",
       "      <td>10</td>\n",
       "      <td>Which one dissolve in water quikly sugar, salt...</td>\n",
       "      <td>Which fish would survive in salt water?</td>\n",
       "      <td>0</td>\n",
       "    </tr>\n",
       "  </tbody>\n",
       "</table>\n",
       "</div>"
      ],
      "text/plain": [
       "   id  qid1  qid2                                          question1  \\\n",
       "0   0     1     2  What is the step by step guide to invest in sh...   \n",
       "1   1     3     4  What is the story of Kohinoor (Koh-i-Noor) Dia...   \n",
       "2   2     5     6  How can I increase the speed of my internet co...   \n",
       "3   3     7     8  Why am I mentally very lonely? How can I solve...   \n",
       "4   4     9    10  Which one dissolve in water quikly sugar, salt...   \n",
       "\n",
       "                                           question2  is_duplicate  \n",
       "0  What is the step by step guide to invest in sh...             0  \n",
       "1  What would happen if the Indian government sto...             0  \n",
       "2  How can Internet speed be increased by hacking...             0  \n",
       "3  Find the remainder when [math]23^{24}[/math] i...             0  \n",
       "4            Which fish would survive in salt water?             0  "
      ]
     },
     "execution_count": 3,
     "metadata": {},
     "output_type": "execute_result"
    }
   ],
   "source": [
    "train_data.head()"
   ]
  },
  {
   "cell_type": "code",
   "execution_count": 4,
   "metadata": {
    "execution": {
     "iopub.execute_input": "2021-04-30T14:16:27.210311Z",
     "iopub.status.busy": "2021-04-30T14:16:27.209489Z",
     "iopub.status.idle": "2021-04-30T14:16:27.213476Z",
     "shell.execute_reply": "2021-04-30T14:16:27.212954Z"
    },
    "papermill": {
     "duration": 0.032209,
     "end_time": "2021-04-30T14:16:27.213588",
     "exception": false,
     "start_time": "2021-04-30T14:16:27.181379",
     "status": "completed"
    },
    "tags": []
   },
   "outputs": [
    {
     "data": {
      "text/html": [
       "<div>\n",
       "<style scoped>\n",
       "    .dataframe tbody tr th:only-of-type {\n",
       "        vertical-align: middle;\n",
       "    }\n",
       "\n",
       "    .dataframe tbody tr th {\n",
       "        vertical-align: top;\n",
       "    }\n",
       "\n",
       "    .dataframe thead th {\n",
       "        text-align: right;\n",
       "    }\n",
       "</style>\n",
       "<table border=\"1\" class=\"dataframe\">\n",
       "  <thead>\n",
       "    <tr style=\"text-align: right;\">\n",
       "      <th></th>\n",
       "      <th>test_id</th>\n",
       "      <th>question1</th>\n",
       "      <th>question2</th>\n",
       "    </tr>\n",
       "  </thead>\n",
       "  <tbody>\n",
       "    <tr>\n",
       "      <th>0</th>\n",
       "      <td>0</td>\n",
       "      <td>How does the Surface Pro himself 4 compare wit...</td>\n",
       "      <td>Why did Microsoft choose core m3 and not core ...</td>\n",
       "    </tr>\n",
       "    <tr>\n",
       "      <th>1</th>\n",
       "      <td>1</td>\n",
       "      <td>Should I have a hair transplant at age 24? How...</td>\n",
       "      <td>How much cost does hair transplant require?</td>\n",
       "    </tr>\n",
       "    <tr>\n",
       "      <th>2</th>\n",
       "      <td>2</td>\n",
       "      <td>What but is the best way to send money from Ch...</td>\n",
       "      <td>What you send money to China?</td>\n",
       "    </tr>\n",
       "    <tr>\n",
       "      <th>3</th>\n",
       "      <td>3</td>\n",
       "      <td>Which food not emulsifiers?</td>\n",
       "      <td>What foods fibre?</td>\n",
       "    </tr>\n",
       "    <tr>\n",
       "      <th>4</th>\n",
       "      <td>4</td>\n",
       "      <td>How \"aberystwyth\" start reading?</td>\n",
       "      <td>How their can I start reading?</td>\n",
       "    </tr>\n",
       "  </tbody>\n",
       "</table>\n",
       "</div>"
      ],
      "text/plain": [
       "  test_id                                          question1  \\\n",
       "0       0  How does the Surface Pro himself 4 compare wit...   \n",
       "1       1  Should I have a hair transplant at age 24? How...   \n",
       "2       2  What but is the best way to send money from Ch...   \n",
       "3       3                        Which food not emulsifiers?   \n",
       "4       4                   How \"aberystwyth\" start reading?   \n",
       "\n",
       "                                           question2  \n",
       "0  Why did Microsoft choose core m3 and not core ...  \n",
       "1        How much cost does hair transplant require?  \n",
       "2                      What you send money to China?  \n",
       "3                                  What foods fibre?  \n",
       "4                     How their can I start reading?  "
      ]
     },
     "execution_count": 4,
     "metadata": {},
     "output_type": "execute_result"
    }
   ],
   "source": [
    "test_data.head()"
   ]
  },
  {
   "cell_type": "code",
   "execution_count": 5,
   "metadata": {
    "execution": {
     "iopub.execute_input": "2021-04-30T14:16:27.259725Z",
     "iopub.status.busy": "2021-04-30T14:16:27.259017Z",
     "iopub.status.idle": "2021-04-30T14:16:27.420841Z",
     "shell.execute_reply": "2021-04-30T14:16:27.419498Z"
    },
    "papermill": {
     "duration": 0.187181,
     "end_time": "2021-04-30T14:16:27.420975",
     "exception": false,
     "start_time": "2021-04-30T14:16:27.233794",
     "status": "completed"
    },
    "tags": []
   },
   "outputs": [],
   "source": [
    "train_data = train_data.sample(frac=0.1).reset_index(drop=True)\n",
    "test_data = test_data.sample(frac=0.01).reset_index(drop=True)"
   ]
  },
  {
   "cell_type": "code",
   "execution_count": 6,
   "metadata": {
    "execution": {
     "iopub.execute_input": "2021-04-30T14:16:27.467014Z",
     "iopub.status.busy": "2021-04-30T14:16:27.466267Z",
     "iopub.status.idle": "2021-04-30T14:16:27.469840Z",
     "shell.execute_reply": "2021-04-30T14:16:27.469368Z"
    },
    "papermill": {
     "duration": 0.028122,
     "end_time": "2021-04-30T14:16:27.469946",
     "exception": false,
     "start_time": "2021-04-30T14:16:27.441824",
     "status": "completed"
    },
    "tags": []
   },
   "outputs": [
    {
     "data": {
      "text/plain": [
       "((40429, 6), (35635, 3))"
      ]
     },
     "execution_count": 6,
     "metadata": {},
     "output_type": "execute_result"
    }
   ],
   "source": [
    "train_data.shape, test_data.shape"
   ]
  },
  {
   "cell_type": "code",
   "execution_count": 7,
   "metadata": {
    "execution": {
     "iopub.execute_input": "2021-04-30T14:16:27.517690Z",
     "iopub.status.busy": "2021-04-30T14:16:27.516441Z",
     "iopub.status.idle": "2021-04-30T14:16:27.533356Z",
     "shell.execute_reply": "2021-04-30T14:16:27.532922Z"
    },
    "papermill": {
     "duration": 0.042754,
     "end_time": "2021-04-30T14:16:27.533464",
     "exception": false,
     "start_time": "2021-04-30T14:16:27.490710",
     "status": "completed"
    },
    "tags": []
   },
   "outputs": [
    {
     "data": {
      "text/html": [
       "<div>\n",
       "<style scoped>\n",
       "    .dataframe tbody tr th:only-of-type {\n",
       "        vertical-align: middle;\n",
       "    }\n",
       "\n",
       "    .dataframe tbody tr th {\n",
       "        vertical-align: top;\n",
       "    }\n",
       "\n",
       "    .dataframe thead th {\n",
       "        text-align: right;\n",
       "    }\n",
       "</style>\n",
       "<table border=\"1\" class=\"dataframe\">\n",
       "  <thead>\n",
       "    <tr style=\"text-align: right;\">\n",
       "      <th></th>\n",
       "      <th>question1</th>\n",
       "      <th>question2</th>\n",
       "      <th>is_duplicate</th>\n",
       "    </tr>\n",
       "  </thead>\n",
       "  <tbody>\n",
       "    <tr>\n",
       "      <th>0</th>\n",
       "      <td>What type of spices go great with mashed potat...</td>\n",
       "      <td>What are some good spices to add to a mashed p...</td>\n",
       "      <td>1</td>\n",
       "    </tr>\n",
       "    <tr>\n",
       "      <th>1</th>\n",
       "      <td>What are some scientific or psychological theo...</td>\n",
       "      <td>What is the scientific reason for homosexuality?</td>\n",
       "      <td>1</td>\n",
       "    </tr>\n",
       "    <tr>\n",
       "      <th>2</th>\n",
       "      <td>How can I publish my articles in the newspapers?</td>\n",
       "      <td>How do I publish articles for newspapers?</td>\n",
       "      <td>1</td>\n",
       "    </tr>\n",
       "    <tr>\n",
       "      <th>3</th>\n",
       "      <td>How can I become a good songwriter?</td>\n",
       "      <td>How do I become good at songwriting?</td>\n",
       "      <td>1</td>\n",
       "    </tr>\n",
       "    <tr>\n",
       "      <th>4</th>\n",
       "      <td>Which are the best Quora answers one must read?</td>\n",
       "      <td>What are some of the best answers on Quora?</td>\n",
       "      <td>1</td>\n",
       "    </tr>\n",
       "  </tbody>\n",
       "</table>\n",
       "</div>"
      ],
      "text/plain": [
       "                                           question1  \\\n",
       "0  What type of spices go great with mashed potat...   \n",
       "1  What are some scientific or psychological theo...   \n",
       "2   How can I publish my articles in the newspapers?   \n",
       "3                How can I become a good songwriter?   \n",
       "4    Which are the best Quora answers one must read?   \n",
       "\n",
       "                                           question2  is_duplicate  \n",
       "0  What are some good spices to add to a mashed p...             1  \n",
       "1   What is the scientific reason for homosexuality?             1  \n",
       "2          How do I publish articles for newspapers?             1  \n",
       "3               How do I become good at songwriting?             1  \n",
       "4        What are some of the best answers on Quora?             1  "
      ]
     },
     "execution_count": 7,
     "metadata": {},
     "output_type": "execute_result"
    }
   ],
   "source": [
    "train_data = train_data.drop(['id','qid1','qid2'],axis=1)\n",
    "test_data = test_data.drop(['test_id'],axis=1)\n",
    "train_data.head()"
   ]
  },
  {
   "cell_type": "code",
   "execution_count": 8,
   "metadata": {
    "execution": {
     "iopub.execute_input": "2021-04-30T14:16:27.580369Z",
     "iopub.status.busy": "2021-04-30T14:16:27.579545Z",
     "iopub.status.idle": "2021-04-30T14:16:27.711950Z",
     "shell.execute_reply": "2021-04-30T14:16:27.712627Z"
    },
    "papermill": {
     "duration": 0.15802,
     "end_time": "2021-04-30T14:16:27.712824",
     "exception": false,
     "start_time": "2021-04-30T14:16:27.554804",
     "status": "completed"
    },
    "tags": []
   },
   "outputs": [
    {
     "data": {
      "text/plain": [
       "<AxesSubplot:>"
      ]
     },
     "execution_count": 8,
     "metadata": {},
     "output_type": "execute_result"
    },
    {
     "data": {
      "image/png": "[encoded data removed]",
      "text/plain": [
       "<Figure size 432x288 with 1 Axes>"
      ]
     },
     "metadata": {
      "needs_background": "light"
     },
     "output_type": "display_data"
    }
   ],
   "source": [
    "train_data.is_duplicate.value_counts().plot(kind='bar')"
   ]
  },
  {
   "cell_type": "code",
   "execution_count": 9,
   "metadata": {
    "execution": {
     "iopub.execute_input": "2021-04-30T14:16:27.766842Z",
     "iopub.status.busy": "2021-04-30T14:16:27.766150Z",
     "iopub.status.idle": "2021-04-30T14:16:27.924803Z",
     "shell.execute_reply": "2021-04-30T14:16:27.923882Z"
    },
    "papermill": {
     "duration": 0.184691,
     "end_time": "2021-04-30T14:16:27.924932",
     "exception": false,
     "start_time": "2021-04-30T14:16:27.740241",
     "status": "completed"
    },
    "tags": []
   },
   "outputs": [
    {
     "data": {
      "text/plain": [
       "((14874, 3), (25555, 3))"
      ]
     },
     "execution_count": 9,
     "metadata": {},
     "output_type": "execute_result"
    }
   ],
   "source": [
    "train_data[train_data['is_duplicate']==1].shape,train_data[train_data['is_duplicate']==0].shape"
   ]
  },
  {
   "cell_type": "code",
   "execution_count": 10,
   "metadata": {
    "execution": {
     "iopub.execute_input": "2021-04-30T14:16:27.974957Z",
     "iopub.status.busy": "2021-04-30T14:16:27.974305Z",
     "iopub.status.idle": "2021-04-30T14:16:27.983563Z",
     "shell.execute_reply": "2021-04-30T14:16:27.983042Z"
    },
    "papermill": {
     "duration": 0.035995,
     "end_time": "2021-04-30T14:16:27.983670",
     "exception": false,
     "start_time": "2021-04-30T14:16:27.947675",
     "status": "completed"
    },
    "tags": []
   },
   "outputs": [],
   "source": [
    "is_duplicate = train_data[train_data['is_duplicate']==1]\n",
    "not_duplicate = train_data[train_data['is_duplicate']==0].sample(14798)"
   ]
  },
  {
   "cell_type": "code",
   "execution_count": 11,
   "metadata": {
    "execution": {
     "iopub.execute_input": "2021-04-30T14:16:28.036186Z",
     "iopub.status.busy": "2021-04-30T14:16:28.035369Z",
     "iopub.status.idle": "2021-04-30T14:16:28.049462Z",
     "shell.execute_reply": "2021-04-30T14:16:28.049936Z"
    },
    "papermill": {
     "duration": 0.043555,
     "end_time": "2021-04-30T14:16:28.050081",
     "exception": false,
     "start_time": "2021-04-30T14:16:28.006526",
     "status": "completed"
    },
    "tags": []
   },
   "outputs": [
    {
     "data": {
      "text/html": [
       "<div>\n",
       "<style scoped>\n",
       "    .dataframe tbody tr th:only-of-type {\n",
       "        vertical-align: middle;\n",
       "    }\n",
       "\n",
       "    .dataframe tbody tr th {\n",
       "        vertical-align: top;\n",
       "    }\n",
       "\n",
       "    .dataframe thead th {\n",
       "        text-align: right;\n",
       "    }\n",
       "</style>\n",
       "<table border=\"1\" class=\"dataframe\">\n",
       "  <thead>\n",
       "    <tr style=\"text-align: right;\">\n",
       "      <th></th>\n",
       "      <th>question1</th>\n",
       "      <th>question2</th>\n",
       "      <th>is_duplicate</th>\n",
       "    </tr>\n",
       "  </thead>\n",
       "  <tbody>\n",
       "    <tr>\n",
       "      <th>0</th>\n",
       "      <td>Which is the best laptop under Rs 25000?</td>\n",
       "      <td>What is the best laptop to buy in the range of...</td>\n",
       "      <td>1</td>\n",
       "    </tr>\n",
       "    <tr>\n",
       "      <th>1</th>\n",
       "      <td>I've been with a girl for a month and she isn'...</td>\n",
       "      <td>I saw a girl everyday in a bus. I knew for sur...</td>\n",
       "      <td>0</td>\n",
       "    </tr>\n",
       "    <tr>\n",
       "      <th>2</th>\n",
       "      <td>What are the best two words to describe life?</td>\n",
       "      <td>What is the best word or words to describe a h...</td>\n",
       "      <td>0</td>\n",
       "    </tr>\n",
       "    <tr>\n",
       "      <th>3</th>\n",
       "      <td>What countries are socialist?</td>\n",
       "      <td>Are there any socialist countries left?</td>\n",
       "      <td>1</td>\n",
       "    </tr>\n",
       "    <tr>\n",
       "      <th>4</th>\n",
       "      <td>What percentage of people with Prader-Wili Syn...</td>\n",
       "      <td>How hard is frc off season?</td>\n",
       "      <td>0</td>\n",
       "    </tr>\n",
       "    <tr>\n",
       "      <th>...</th>\n",
       "      <td>...</td>\n",
       "      <td>...</td>\n",
       "      <td>...</td>\n",
       "    </tr>\n",
       "    <tr>\n",
       "      <th>29667</th>\n",
       "      <td>I have $50,000 which I would like to invest an...</td>\n",
       "      <td>I am 18 years old and have Rs. 10,000 in hand....</td>\n",
       "      <td>0</td>\n",
       "    </tr>\n",
       "    <tr>\n",
       "      <th>29668</th>\n",
       "      <td>Why do some Hindus add Jesus to their huge lis...</td>\n",
       "      <td>Why did the God only appoint Muhammad as their...</td>\n",
       "      <td>0</td>\n",
       "    </tr>\n",
       "    <tr>\n",
       "      <th>29669</th>\n",
       "      <td>Can We Truly \"Cure\" Cancer?</td>\n",
       "      <td>MyDad has a low sugar level of 68mg/dLHe has s...</td>\n",
       "      <td>0</td>\n",
       "    </tr>\n",
       "    <tr>\n",
       "      <th>29670</th>\n",
       "      <td>What if Muslim population is more than 50% in ...</td>\n",
       "      <td>What will happen if muslims population increas...</td>\n",
       "      <td>1</td>\n",
       "    </tr>\n",
       "    <tr>\n",
       "      <th>29671</th>\n",
       "      <td>How did the British Empire influence Singapore?</td>\n",
       "      <td>What impact did British colonization have on S...</td>\n",
       "      <td>1</td>\n",
       "    </tr>\n",
       "  </tbody>\n",
       "</table>\n",
       "<p>29672 rows × 3 columns</p>\n",
       "</div>"
      ],
      "text/plain": [
       "                                               question1  \\\n",
       "0               Which is the best laptop under Rs 25000?   \n",
       "1      I've been with a girl for a month and she isn'...   \n",
       "2          What are the best two words to describe life?   \n",
       "3                          What countries are socialist?   \n",
       "4      What percentage of people with Prader-Wili Syn...   \n",
       "...                                                  ...   \n",
       "29667  I have $50,000 which I would like to invest an...   \n",
       "29668  Why do some Hindus add Jesus to their huge lis...   \n",
       "29669                        Can We Truly \"Cure\" Cancer?   \n",
       "29670  What if Muslim population is more than 50% in ...   \n",
       "29671    How did the British Empire influence Singapore?   \n",
       "\n",
       "                                               question2  is_duplicate  \n",
       "0      What is the best laptop to buy in the range of...             1  \n",
       "1      I saw a girl everyday in a bus. I knew for sur...             0  \n",
       "2      What is the best word or words to describe a h...             0  \n",
       "3                Are there any socialist countries left?             1  \n",
       "4                            How hard is frc off season?             0  \n",
       "...                                                  ...           ...  \n",
       "29667  I am 18 years old and have Rs. 10,000 in hand....             0  \n",
       "29668  Why did the God only appoint Muhammad as their...             0  \n",
       "29669  MyDad has a low sugar level of 68mg/dLHe has s...             0  \n",
       "29670  What will happen if muslims population increas...             1  \n",
       "29671  What impact did British colonization have on S...             1  \n",
       "\n",
       "[29672 rows x 3 columns]"
      ]
     },
     "execution_count": 11,
     "metadata": {},
     "output_type": "execute_result"
    }
   ],
   "source": [
    "train_data = pd.concat([is_duplicate,not_duplicate])\n",
    "train_data = train_data.sample(frac=1).reset_index(drop=True)\n",
    "train_data"
   ]
  },
  {
   "cell_type": "code",
   "execution_count": 12,
   "metadata": {
    "execution": {
     "iopub.execute_input": "2021-04-30T14:16:28.103168Z",
     "iopub.status.busy": "2021-04-30T14:16:28.102397Z",
     "iopub.status.idle": "2021-04-30T14:16:28.205723Z",
     "shell.execute_reply": "2021-04-30T14:16:28.205327Z"
    },
    "papermill": {
     "duration": 0.130077,
     "end_time": "2021-04-30T14:16:28.205828",
     "exception": false,
     "start_time": "2021-04-30T14:16:28.075751",
     "status": "completed"
    },
    "tags": []
   },
   "outputs": [
    {
     "data": {
      "text/plain": [
       "<AxesSubplot:>"
      ]
     },
     "execution_count": 12,
     "metadata": {},
     "output_type": "execute_result"
    },
    {
     "data": {
      "image/png": "[encoded data removed]",
      "text/plain": [
       "<Figure size 432x288 with 1 Axes>"
      ]
     },
     "metadata": {
      "needs_background": "light"
     },
     "output_type": "display_data"
    }
   ],
   "source": [
    "train_data.is_duplicate.value_counts().plot(kind='bar')"
   ]
  },
  {
   "cell_type": "code",
   "execution_count": 13,
   "metadata": {
    "execution": {
     "iopub.execute_input": "2021-04-30T14:16:28.259156Z",
     "iopub.status.busy": "2021-04-30T14:16:28.258522Z",
     "iopub.status.idle": "2021-04-30T14:16:28.261440Z",
     "shell.execute_reply": "2021-04-30T14:16:28.261001Z"
    },
    "papermill": {
     "duration": 0.031362,
     "end_time": "2021-04-30T14:16:28.261548",
     "exception": false,
     "start_time": "2021-04-30T14:16:28.230186",
     "status": "completed"
    },
    "tags": []
   },
   "outputs": [],
   "source": [
    "#Lemmatize Words\n",
    "\n",
    "def get_pos_tag(tag):\n",
    "    if tag.startswith('J'):\n",
    "        return wordnet.ADJ\n",
    "    elif tag.startswith('V'):\n",
    "        return wordnet.VERB\n",
    "    elif tag.startswith('N'):\n",
    "        return wordnet.NOUN\n",
    "    elif tag.startswith('R'):\n",
    "        return wordnet.ADV\n",
    "    else:\n",
    "        # As default pos in lemmatization is Noun\n",
    "        return wordnet.NOUN\n",
    "\n",
    "lemmatizer = WordNetLemmatizer()"
   ]
  },
  {
   "cell_type": "code",
   "execution_count": 14,
   "metadata": {
    "execution": {
     "iopub.execute_input": "2021-04-30T14:16:28.318442Z",
     "iopub.status.busy": "2021-04-30T14:16:28.317879Z",
     "iopub.status.idle": "2021-04-30T14:16:28.326239Z",
     "shell.execute_reply": "2021-04-30T14:16:28.325708Z"
    },
    "papermill": {
     "duration": 0.0406,
     "end_time": "2021-04-30T14:16:28.326347",
     "exception": false,
     "start_time": "2021-04-30T14:16:28.285747",
     "status": "completed"
    },
    "tags": []
   },
   "outputs": [],
   "source": [
    "#cleaning the data now \n",
    "\n",
    "regex = [\n",
    "    r'<[^>]+>', #HTML tags\n",
    "    r'@(\\w+)', # @-mentions\n",
    "    r\"#(\\w+)\", # hashtags\n",
    "    r'http[s]?://(?:[a-z]|[0-9]|[$-_@.&+]|[!*\\(\\),]|(?:%[0-9a-f][0-9a-f]))+', # URLs\n",
    "    r'[^0-9a-z #+_\\\\r\\\\n\\\\t]', #BAD SYMBOLS\n",
    "]\n",
    "\n",
    "REPLACE_URLS = re.compile(r'http[s]?://(?:[a-z]|[0-9]|[$-_@.&+]|[!*\\(\\),]|(?:%[0-9a-f][0-9a-f]))+')\n",
    "REPLACE_HASH = re.compile(r'#(\\w+)')\n",
    "REPLACE_AT = re.compile(r'@(\\w+)')\n",
    "REPLACE_HTML_TAGS = re.compile(r'<[^>]+>')\n",
    "REPLACE_DIGITS = re.compile(r'\\d+')\n",
    "#REPLACE_BY = re.compile(r\"[/(){}\\[\\]\\|,;.:?\\-\\'\\\"$]\")\n",
    "REPLACE_BY = re.compile(r\"[^a-z0-9\\-]\")\n",
    "\n",
    "STOPWORDS = set(stopwords.words('english'))\n",
    "\n",
    "#tokens_re = re.compile(r'('+'|'.join(regex)+')', re.VERBOSE | re.IGNORECASE)\n",
    "\n",
    "# sentences = [] #for Word2Vec model\n",
    "\n",
    "def clean_text(text):\n",
    "    #print(text)\n",
    "    text = text.lower()\n",
    "    text = REPLACE_HTML_TAGS.sub(' ', text)\n",
    "    text = REPLACE_URLS.sub('', text)\n",
    "    text = REPLACE_HASH.sub('', text)\n",
    "    text = REPLACE_AT.sub('', text)\n",
    "    text = REPLACE_DIGITS.sub(' ', text)\n",
    "    text = REPLACE_BY.sub(' ', text)\n",
    "    \n",
    "    \n",
    "    text = \" \".join(lemmatizer.lemmatize(word.strip(), get_pos_tag(pos_tag([word.strip()])[0][1])) for word in text.split() if word not in STOPWORDS and len(word)>3)\n",
    "    \n",
    "    #sentences.append(text.split())\n",
    "    return text"
   ]
  },
  {
   "cell_type": "code",
   "execution_count": 15,
   "metadata": {},
   "outputs": [
    {
     "data": {
      "text/plain": [
       "question1       0\n",
       "question2       0\n",
       "is_duplicate    0\n",
       "dtype: int64"
      ]
     },
     "execution_count": 15,
     "metadata": {},
     "output_type": "execute_result"
    }
   ],
   "source": [
    "train_data.isnull().sum()"
   ]
  },
  {
   "cell_type": "code",
   "execution_count": 16,
   "metadata": {},
   "outputs": [],
   "source": [
    "train_data = train_data.fillna('null')"
   ]
  },
  {
   "cell_type": "code",
   "execution_count": 17,
   "metadata": {
    "execution": {
     "iopub.execute_input": "2021-04-30T14:16:28.378539Z",
     "iopub.status.busy": "2021-04-30T14:16:28.377967Z",
     "iopub.status.idle": "2021-04-30T14:16:30.217140Z",
     "shell.execute_reply": "2021-04-30T14:16:30.217579Z"
    },
    "papermill": {
     "duration": 1.867021,
     "end_time": "2021-04-30T14:16:30.217727",
     "exception": false,
     "start_time": "2021-04-30T14:16:28.350706",
     "status": "completed"
    },
    "tags": []
   },
   "outputs": [
    {
     "data": {
      "text/plain": [
       "'v'"
      ]
     },
     "execution_count": 17,
     "metadata": {},
     "output_type": "execute_result"
    }
   ],
   "source": [
    "get_pos_tag(pos_tag(['playing'.strip()])[0][1])"
   ]
  },
  {
   "cell_type": "code",
   "execution_count": 18,
   "metadata": {
    "execution": {
     "iopub.execute_input": "2021-04-30T14:16:30.272598Z",
     "iopub.status.busy": "2021-04-30T14:16:30.271753Z",
     "iopub.status.idle": "2021-04-30T14:16:30.275160Z",
     "shell.execute_reply": "2021-04-30T14:16:30.275645Z"
    },
    "papermill": {
     "duration": 0.032626,
     "end_time": "2021-04-30T14:16:30.275759",
     "exception": false,
     "start_time": "2021-04-30T14:16:30.243133",
     "status": "completed"
    },
    "tags": []
   },
   "outputs": [
    {
     "data": {
      "text/plain": [
       "[('word', 'NN')]"
      ]
     },
     "execution_count": 18,
     "metadata": {},
     "output_type": "execute_result"
    }
   ],
   "source": [
    "pos_tag(['word'.strip()])"
   ]
  },
  {
   "cell_type": "code",
   "execution_count": 19,
   "metadata": {
    "execution": {
     "iopub.execute_input": "2021-04-30T14:16:30.329785Z",
     "iopub.status.busy": "2021-04-30T14:16:30.329012Z",
     "iopub.status.idle": "2021-04-30T14:16:30.333453Z",
     "shell.execute_reply": "2021-04-30T14:16:30.333935Z"
    },
    "papermill": {
     "duration": 0.033223,
     "end_time": "2021-04-30T14:16:30.334072",
     "exception": false,
     "start_time": "2021-04-30T14:16:30.300849",
     "status": "completed"
    },
    "tags": []
   },
   "outputs": [
    {
     "data": {
      "text/plain": [
       "'play'"
      ]
     },
     "execution_count": 19,
     "metadata": {},
     "output_type": "execute_result"
    }
   ],
   "source": [
    "lemmatizer.lemmatize('playing'.strip(), get_pos_tag(pos_tag(['playing'.strip()])[0][1]))"
   ]
  },
  {
   "cell_type": "code",
   "execution_count": 20,
   "metadata": {
    "execution": {
     "iopub.execute_input": "2021-04-30T14:16:30.389723Z",
     "iopub.status.busy": "2021-04-30T14:16:30.388571Z",
     "iopub.status.idle": "2021-04-30T14:16:30.398036Z",
     "shell.execute_reply": "2021-04-30T14:16:30.397639Z"
    },
    "papermill": {
     "duration": 0.038494,
     "end_time": "2021-04-30T14:16:30.398176",
     "exception": false,
     "start_time": "2021-04-30T14:16:30.359682",
     "status": "completed"
    },
    "tags": []
   },
   "outputs": [
    {
     "data": {
      "text/plain": [
       "'v'"
      ]
     },
     "execution_count": 20,
     "metadata": {},
     "output_type": "execute_result"
    }
   ],
   "source": [
    "get_pos_tag(pos_tag(['playing'.strip()])[0][1])"
   ]
  },
  {
   "cell_type": "code",
   "execution_count": 21,
   "metadata": {
    "execution": {
     "iopub.execute_input": "2021-04-30T14:16:30.453789Z",
     "iopub.status.busy": "2021-04-30T14:16:30.452971Z",
     "iopub.status.idle": "2021-04-30T14:16:30.456379Z",
     "shell.execute_reply": "2021-04-30T14:16:30.456801Z"
    },
    "papermill": {
     "duration": 0.033048,
     "end_time": "2021-04-30T14:16:30.456914",
     "exception": false,
     "start_time": "2021-04-30T14:16:30.423866",
     "status": "completed"
    },
    "tags": []
   },
   "outputs": [
    {
     "data": {
      "text/plain": [
       "'playable'"
      ]
     },
     "execution_count": 21,
     "metadata": {},
     "output_type": "execute_result"
    }
   ],
   "source": [
    "lemmatizer.lemmatize('playable'.strip(),'v' )"
   ]
  },
  {
   "cell_type": "code",
   "execution_count": 22,
   "metadata": {
    "execution": {
     "iopub.execute_input": "2021-04-30T14:16:30.513966Z",
     "iopub.status.busy": "2021-04-30T14:16:30.513150Z",
     "iopub.status.idle": "2021-04-30T14:17:16.585121Z",
     "shell.execute_reply": "2021-04-30T14:17:16.585738Z"
    },
    "papermill": {
     "duration": 46.103051,
     "end_time": "2021-04-30T14:17:16.585950",
     "exception": false,
     "start_time": "2021-04-30T14:16:30.482899",
     "status": "completed"
    },
    "tags": []
   },
   "outputs": [],
   "source": [
    "train_data['q1'] = train_data['question1'].apply(clean_text)"
   ]
  },
  {
   "cell_type": "code",
   "execution_count": 23,
   "metadata": {},
   "outputs": [],
   "source": [
    "train_data['q2'] = train_data['question2'].apply(clean_text)"
   ]
  },
  {
   "cell_type": "code",
   "execution_count": 24,
   "metadata": {
    "execution": {
     "iopub.execute_input": "2021-04-30T14:17:16.781568Z",
     "iopub.status.busy": "2021-04-30T14:17:16.780711Z",
     "iopub.status.idle": "2021-04-30T14:17:16.784482Z",
     "shell.execute_reply": "2021-04-30T14:17:16.784073Z"
    },
    "papermill": {
     "duration": 0.159683,
     "end_time": "2021-04-30T14:17:16.784608",
     "exception": false,
     "start_time": "2021-04-30T14:17:16.624925",
     "status": "completed"
    },
    "tags": []
   },
   "outputs": [
    {
     "data": {
      "text/html": [
       "<div>\n",
       "<style scoped>\n",
       "    .dataframe tbody tr th:only-of-type {\n",
       "        vertical-align: middle;\n",
       "    }\n",
       "\n",
       "    .dataframe tbody tr th {\n",
       "        vertical-align: top;\n",
       "    }\n",
       "\n",
       "    .dataframe thead th {\n",
       "        text-align: right;\n",
       "    }\n",
       "</style>\n",
       "<table border=\"1\" class=\"dataframe\">\n",
       "  <thead>\n",
       "    <tr style=\"text-align: right;\">\n",
       "      <th></th>\n",
       "      <th>question1</th>\n",
       "      <th>question2</th>\n",
       "      <th>is_duplicate</th>\n",
       "      <th>q1</th>\n",
       "      <th>q2</th>\n",
       "    </tr>\n",
       "  </thead>\n",
       "  <tbody>\n",
       "    <tr>\n",
       "      <th>0</th>\n",
       "      <td>Which is the best laptop under Rs 25000?</td>\n",
       "      <td>What is the best laptop to buy in the range of...</td>\n",
       "      <td>1</td>\n",
       "      <td>best laptop</td>\n",
       "      <td>best laptop range</td>\n",
       "    </tr>\n",
       "    <tr>\n",
       "      <th>1</th>\n",
       "      <td>I've been with a girl for a month and she isn'...</td>\n",
       "      <td>I saw a girl everyday in a bus. I knew for sur...</td>\n",
       "      <td>0</td>\n",
       "      <td>girl month sure problem anything</td>\n",
       "      <td>girl everyday knew sure eyed suddenly three mo...</td>\n",
       "    </tr>\n",
       "    <tr>\n",
       "      <th>2</th>\n",
       "      <td>What are the best two words to describe life?</td>\n",
       "      <td>What is the best word or words to describe a h...</td>\n",
       "      <td>0</td>\n",
       "      <td>best word describe life</td>\n",
       "      <td>best word word describe healthy simple life en...</td>\n",
       "    </tr>\n",
       "    <tr>\n",
       "      <th>3</th>\n",
       "      <td>What countries are socialist?</td>\n",
       "      <td>Are there any socialist countries left?</td>\n",
       "      <td>1</td>\n",
       "      <td>country socialist</td>\n",
       "      <td>socialist country left</td>\n",
       "    </tr>\n",
       "    <tr>\n",
       "      <th>4</th>\n",
       "      <td>What percentage of people with Prader-Wili Syn...</td>\n",
       "      <td>How hard is frc off season?</td>\n",
       "      <td>0</td>\n",
       "      <td>percentage people prader-wili syndrome also in...</td>\n",
       "      <td>hard season</td>\n",
       "    </tr>\n",
       "  </tbody>\n",
       "</table>\n",
       "</div>"
      ],
      "text/plain": [
       "                                           question1  \\\n",
       "0           Which is the best laptop under Rs 25000?   \n",
       "1  I've been with a girl for a month and she isn'...   \n",
       "2      What are the best two words to describe life?   \n",
       "3                      What countries are socialist?   \n",
       "4  What percentage of people with Prader-Wili Syn...   \n",
       "\n",
       "                                           question2  is_duplicate  \\\n",
       "0  What is the best laptop to buy in the range of...             1   \n",
       "1  I saw a girl everyday in a bus. I knew for sur...             0   \n",
       "2  What is the best word or words to describe a h...             0   \n",
       "3            Are there any socialist countries left?             1   \n",
       "4                        How hard is frc off season?             0   \n",
       "\n",
       "                                                  q1  \\\n",
       "0                                        best laptop   \n",
       "1                   girl month sure problem anything   \n",
       "2                            best word describe life   \n",
       "3                                  country socialist   \n",
       "4  percentage people prader-wili syndrome also in...   \n",
       "\n",
       "                                                  q2  \n",
       "0                                  best laptop range  \n",
       "1  girl everyday knew sure eyed suddenly three mo...  \n",
       "2  best word word describe healthy simple life en...  \n",
       "3                             socialist country left  \n",
       "4                                        hard season  "
      ]
     },
     "execution_count": 24,
     "metadata": {},
     "output_type": "execute_result"
    }
   ],
   "source": [
    "train_data.head()"
   ]
  },
  {
   "cell_type": "code",
   "execution_count": 25,
   "metadata": {
    "execution": {
     "iopub.execute_input": "2021-04-30T14:17:16.854441Z",
     "iopub.status.busy": "2021-04-30T14:17:16.853622Z",
     "iopub.status.idle": "2021-04-30T14:18:14.113652Z",
     "shell.execute_reply": "2021-04-30T14:18:14.114095Z"
    },
    "papermill": {
     "duration": 57.302444,
     "end_time": "2021-04-30T14:18:14.114249",
     "exception": false,
     "start_time": "2021-04-30T14:17:16.811805",
     "status": "completed"
    },
    "tags": []
   },
   "outputs": [
    {
     "data": {
      "text/html": [
       "<div>\n",
       "<style scoped>\n",
       "    .dataframe tbody tr th:only-of-type {\n",
       "        vertical-align: middle;\n",
       "    }\n",
       "\n",
       "    .dataframe tbody tr th {\n",
       "        vertical-align: top;\n",
       "    }\n",
       "\n",
       "    .dataframe thead th {\n",
       "        text-align: right;\n",
       "    }\n",
       "</style>\n",
       "<table border=\"1\" class=\"dataframe\">\n",
       "  <thead>\n",
       "    <tr style=\"text-align: right;\">\n",
       "      <th></th>\n",
       "      <th>question1</th>\n",
       "      <th>question2</th>\n",
       "      <th>q1</th>\n",
       "      <th>q2</th>\n",
       "    </tr>\n",
       "  </thead>\n",
       "  <tbody>\n",
       "    <tr>\n",
       "      <th>0</th>\n",
       "      <td>What does the \"the nature of business\" mean?</td>\n",
       "      <td>What does the phrase \"double whammy\"?</td>\n",
       "      <td>nature business mean</td>\n",
       "      <td>phrase double whammy</td>\n",
       "    </tr>\n",
       "    <tr>\n",
       "      <th>1</th>\n",
       "      <td>How edge I convince my parents to let me marry...</td>\n",
       "      <td>What is first step in convincing my parents I ...</td>\n",
       "      <td>edge convince parent marry love</td>\n",
       "      <td>first step convincing parent want parent happy...</td>\n",
       "    </tr>\n",
       "    <tr>\n",
       "      <th>2</th>\n",
       "      <td>Only students of Tamil Nadu can study in Tamil...</td>\n",
       "      <td>What in the TV show Frequency filmed?</td>\n",
       "      <td>student tamil nadu study tamil nadu agricultural</td>\n",
       "      <td>show frequency film</td>\n",
       "    </tr>\n",
       "    <tr>\n",
       "      <th>3</th>\n",
       "      <td>How can I download + from ozee.com?</td>\n",
       "      <td>How she do I download videos from letv.com?</td>\n",
       "      <td>download ozee</td>\n",
       "      <td>download video letv</td>\n",
       "    </tr>\n",
       "    <tr>\n",
       "      <th>4</th>\n",
       "      <td>Snore become journey?</td>\n",
       "      <td>What is a good name for a medical company that...</td>\n",
       "      <td>snore become journey</td>\n",
       "      <td>good name medical company sell point product m...</td>\n",
       "    </tr>\n",
       "  </tbody>\n",
       "</table>\n",
       "</div>"
      ],
      "text/plain": [
       "                                           question1  \\\n",
       "0       What does the \"the nature of business\" mean?   \n",
       "1  How edge I convince my parents to let me marry...   \n",
       "2  Only students of Tamil Nadu can study in Tamil...   \n",
       "3                How can I download + from ozee.com?   \n",
       "4                              Snore become journey?   \n",
       "\n",
       "                                           question2  \\\n",
       "0              What does the phrase \"double whammy\"?   \n",
       "1  What is first step in convincing my parents I ...   \n",
       "2              What in the TV show Frequency filmed?   \n",
       "3        How she do I download videos from letv.com?   \n",
       "4  What is a good name for a medical company that...   \n",
       "\n",
       "                                                 q1  \\\n",
       "0                              nature business mean   \n",
       "1                   edge convince parent marry love   \n",
       "2  student tamil nadu study tamil nadu agricultural   \n",
       "3                                     download ozee   \n",
       "4                              snore become journey   \n",
       "\n",
       "                                                  q2  \n",
       "0                               phrase double whammy  \n",
       "1  first step convincing parent want parent happy...  \n",
       "2                                show frequency film  \n",
       "3                                download video letv  \n",
       "4  good name medical company sell point product m...  "
      ]
     },
     "execution_count": 25,
     "metadata": {},
     "output_type": "execute_result"
    }
   ],
   "source": [
    "test_data['q1'] = test_data['question1'].apply(clean_text)\n",
    "test_data['q2'] = test_data['question2'].apply(clean_text)\n",
    "test_data.head()"
   ]
  },
  {
   "cell_type": "code",
   "execution_count": 26,
   "metadata": {
    "execution": {
     "iopub.execute_input": "2021-04-30T14:18:14.199154Z",
     "iopub.status.busy": "2021-04-30T14:18:14.198375Z",
     "iopub.status.idle": "2021-04-30T14:18:14.228542Z",
     "shell.execute_reply": "2021-04-30T14:18:14.228146Z"
    },
    "papermill": {
     "duration": 0.086697,
     "end_time": "2021-04-30T14:18:14.228660",
     "exception": false,
     "start_time": "2021-04-30T14:18:14.141963",
     "status": "completed"
    },
    "tags": []
   },
   "outputs": [
    {
     "data": {
      "text/plain": [
       "(25, 90)"
      ]
     },
     "execution_count": 26,
     "metadata": {},
     "output_type": "execute_result"
    }
   ],
   "source": [
    "#max len of clean data\n",
    "max_len_q1 = np.max(train_data[\"q1\"].apply(lambda x: len(x.split())))\n",
    "max_len_q2 = np.max(train_data[\"q2\"].apply(lambda x: len(x.split())))\n",
    "max_len_q1, max_len_q2"
   ]
  },
  {
   "cell_type": "code",
   "execution_count": null,
   "metadata": {},
   "outputs": [],
   "source": []
  },
  {
   "cell_type": "code",
   "execution_count": 27,
   "metadata": {},
   "outputs": [
    {
     "data": {
      "text/plain": [
       "<keras_preprocessing.text.Tokenizer at 0x1fd837b9550>"
      ]
     },
     "execution_count": 27,
     "metadata": {},
     "output_type": "execute_result"
    }
   ],
   "source": [
    "MAX_NB_WORDS = 200000\n",
    "\n",
    "tokenizer = Tokenizer(num_words = MAX_NB_WORDS)\n",
    "\n",
    "tokenizer.fit_on_texts(list(train_data['q1'].values.astype(str))+list(train_data['q2'].values.astype(str)))\n",
    "\n",
    "tokenizer"
   ]
  },
  {
   "cell_type": "code",
   "execution_count": 28,
   "metadata": {},
   "outputs": [
    {
     "data": {
      "text/plain": [
       "array([[   1,  136,    0, ...,    0,    0,    0],\n",
       "       [  40,  106, 1163, ...,    0,    0,    0],\n",
       "       [   1,  135,  698, ...,    0,    0,    0],\n",
       "       ...,\n",
       "       [1182,  765,  681, ...,    0,    0,    0],\n",
       "       [ 296, 1095,    2, ...,    0,    0,    0],\n",
       "       [ 539, 1675, 1288, ...,    0,    0,    0]])"
      ]
     },
     "execution_count": 28,
     "metadata": {},
     "output_type": "execute_result"
    }
   ],
   "source": [
    "X_train_q1 = tokenizer.texts_to_sequences(train_data['q1'].values.astype(str))\n",
    "X_train_q1 = pad_sequences(X_train_q1, maxlen = 30, padding = 'post')\n",
    "X_train_q1"
   ]
  },
  {
   "cell_type": "code",
   "execution_count": 29,
   "metadata": {
    "execution": {
     "iopub.execute_input": "2021-04-30T14:18:14.294832Z",
     "iopub.status.busy": "2021-04-30T14:18:14.293422Z",
     "iopub.status.idle": "2021-04-30T14:18:16.073235Z",
     "shell.execute_reply": "2021-04-30T14:18:16.072748Z"
    },
    "papermill": {
     "duration": 1.816559,
     "end_time": "2021-04-30T14:18:16.073372",
     "exception": false,
     "start_time": "2021-04-30T14:18:14.256813",
     "status": "completed"
    },
    "tags": []
   },
   "outputs": [
    {
     "data": {
      "text/plain": [
       "array([[    1,   136,   768, ...,     0,     0,     0],\n",
       "       [   40,  1048,  1604, ...,     0,     0,     0],\n",
       "       [    1,   135,   135, ...,     0,     0,     0],\n",
       "       ...,\n",
       "       [17486,  1487,   321, ...,     0,     0,     0],\n",
       "       [   56,   296,  1095, ...,     0,     0,     0],\n",
       "       [  411,   539,  6239, ...,     0,     0,     0]])"
      ]
     },
     "execution_count": 29,
     "metadata": {},
     "output_type": "execute_result"
    }
   ],
   "source": [
    "X_train_q2 = tokenizer.texts_to_sequences(train_data['q2'].values.astype(str))\n",
    "X_train_q2 = pad_sequences(X_train_q2, maxlen = 30, padding = 'post')\n",
    "X_train_q2"
   ]
  },
  {
   "cell_type": "code",
   "execution_count": 30,
   "metadata": {
    "execution": {
     "iopub.execute_input": "2021-04-30T14:18:16.195157Z",
     "iopub.status.busy": "2021-04-30T14:18:16.169721Z",
     "iopub.status.idle": "2021-04-30T14:18:17.371368Z",
     "shell.execute_reply": "2021-04-30T14:18:17.370881Z"
    },
    "papermill": {
     "duration": 1.268874,
     "end_time": "2021-04-30T14:18:17.371503",
     "exception": false,
     "start_time": "2021-04-30T14:18:16.102629",
     "status": "completed"
    },
    "tags": []
   },
   "outputs": [],
   "source": [
    "X_test_q1 = tokenizer.texts_to_sequences(test_data['q1'].ravel())\n",
    "X_test_q1 = pad_sequences(X_test_q1,maxlen = 30, padding='post')\n",
    "\n",
    "X_test_q2 = tokenizer.texts_to_sequences(test_data['q2'].astype(str).ravel())\n",
    "X_test_q2 = pad_sequences(X_test_q2, maxlen = 30, padding='post')"
   ]
  },
  {
   "cell_type": "code",
   "execution_count": 31,
   "metadata": {
    "execution": {
     "iopub.execute_input": "2021-04-30T14:18:17.432165Z",
     "iopub.status.busy": "2021-04-30T14:18:17.431482Z",
     "iopub.status.idle": "2021-04-30T14:18:17.435503Z",
     "shell.execute_reply": "2021-04-30T14:18:17.435029Z"
    },
    "papermill": {
     "duration": 0.035356,
     "end_time": "2021-04-30T14:18:17.435617",
     "exception": false,
     "start_time": "2021-04-30T14:18:17.400261",
     "status": "completed"
    },
    "tags": []
   },
   "outputs": [],
   "source": [
    "y = train_data['is_duplicate']"
   ]
  },
  {
   "cell_type": "code",
   "execution_count": 32,
   "metadata": {
    "execution": {
     "iopub.execute_input": "2021-04-30T14:18:17.496246Z",
     "iopub.status.busy": "2021-04-30T14:18:17.495626Z",
     "iopub.status.idle": "2021-04-30T14:18:17.498170Z",
     "shell.execute_reply": "2021-04-30T14:18:17.498547Z"
    },
    "papermill": {
     "duration": 0.034626,
     "end_time": "2021-04-30T14:18:17.498667",
     "exception": false,
     "start_time": "2021-04-30T14:18:17.464041",
     "status": "completed"
    },
    "tags": []
   },
   "outputs": [
    {
     "data": {
      "text/plain": [
       "17488"
      ]
     },
     "execution_count": 32,
     "metadata": {},
     "output_type": "execute_result"
    }
   ],
   "source": [
    "vocab_size = len(tokenizer.word_index) + 1\n",
    "vocab_size"
   ]
  },
  {
   "cell_type": "markdown",
   "metadata": {
    "papermill": {
     "duration": 0.028786,
     "end_time": "2021-04-30T14:18:17.555699",
     "exception": false,
     "start_time": "2021-04-30T14:18:17.526913",
     "status": "completed"
    },
    "tags": []
   },
   "source": [
    "### Loading Glove word embedding"
   ]
  },
  {
   "cell_type": "code",
   "execution_count": 33,
   "metadata": {
    "execution": {
     "iopub.execute_input": "2021-04-30T14:18:17.617130Z",
     "iopub.status.busy": "2021-04-30T14:18:17.616609Z",
     "iopub.status.idle": "2021-04-30T14:18:57.961754Z",
     "shell.execute_reply": "2021-04-30T14:18:57.961329Z"
    },
    "papermill": {
     "duration": 40.377899,
     "end_time": "2021-04-30T14:18:57.961878",
     "exception": false,
     "start_time": "2021-04-30T14:18:17.583979",
     "status": "completed"
    },
    "tags": []
   },
   "outputs": [
    {
     "name": "stderr",
     "output_type": "stream",
     "text": [
      "400000it [00:20, 19791.55it/s]"
     ]
    },
    {
     "name": "stdout",
     "output_type": "stream",
     "text": [
      "Found 400000 word vectors.\n"
     ]
    },
    {
     "name": "stderr",
     "output_type": "stream",
     "text": [
      "\n"
     ]
    }
   ],
   "source": [
    "embeddings_index = {}\n",
    "glovefile = open('glove.6B.200d.txt','r',encoding='utf-8')\n",
    "for line in tqdm(glovefile):\n",
    "    values = line.split(\" \")\n",
    "    word = values[0]\n",
    "    coefs = np.asarray(values[1:], dtype='float32')\n",
    "#     coefs.shape\n",
    "    embeddings_index[word] = coefs\n",
    "glovefile.close()\n",
    "\n",
    "print('Found %s word vectors.' % len(embeddings_index))"
   ]
  },
  {
   "cell_type": "code",
   "execution_count": 34,
   "metadata": {
    "execution": {
     "iopub.execute_input": "2021-04-30T14:18:58.208991Z",
     "iopub.status.busy": "2021-04-30T14:18:58.208197Z",
     "iopub.status.idle": "2021-04-30T14:18:58.258944Z",
     "shell.execute_reply": "2021-04-30T14:18:58.259506Z"
    },
    "papermill": {
     "duration": 0.177185,
     "end_time": "2021-04-30T14:18:58.259662",
     "exception": false,
     "start_time": "2021-04-30T14:18:58.082477",
     "status": "completed"
    },
    "tags": []
   },
   "outputs": [
    {
     "name": "stderr",
     "output_type": "stream",
     "text": [
      "100%|██████████| 17487/17487 [00:00<00:00, 563951.14it/s]\n"
     ]
    }
   ],
   "source": [
    "#creating embedding matrix for the words we have in the dataset\n",
    "embedding_matrix = np.zeros((len(tokenizer.word_index)+1, 200))\n",
    "for words, index in tqdm(tokenizer.word_index.items()):\n",
    "    embedding_vector = embeddings_index.get(word)\n",
    "    if embedding_vector is not None:\n",
    "        embedding_matrix[index] = embedding_vector"
   ]
  },
  {
   "cell_type": "code",
   "execution_count": 35,
   "metadata": {
    "execution": {
     "iopub.execute_input": "2021-04-30T14:18:58.507736Z",
     "iopub.status.busy": "2021-04-30T14:18:58.507011Z",
     "iopub.status.idle": "2021-04-30T14:18:58.520842Z",
     "shell.execute_reply": "2021-04-30T14:18:58.521519Z"
    },
    "papermill": {
     "duration": 0.141383,
     "end_time": "2021-04-30T14:18:58.521696",
     "exception": false,
     "start_time": "2021-04-30T14:18:58.380313",
     "status": "completed"
    },
    "tags": []
   },
   "outputs": [
    {
     "name": "stdout",
     "output_type": "stream",
     "text": [
      "(23737, 30) (23737, 30) (23737,)\n",
      "(5935, 30) (5935, 30) (5935,)\n"
     ]
    }
   ],
   "source": [
    "X_train_q1,X_valid_q1, X_train_q2, X_valid_q2, y_train, y_valid = train_test_split(X_train_q1, X_train_q2, y, test_size=0.20, random_state=12)\n",
    "print(X_train_q1.shape, X_train_q2.shape, y_train.shape)\n",
    "print(X_valid_q1.shape, X_valid_q2.shape, y_valid.shape)"
   ]
  },
  {
   "cell_type": "code",
   "execution_count": 36,
   "metadata": {
    "execution": {
     "iopub.execute_input": "2021-04-30T14:18:58.770313Z",
     "iopub.status.busy": "2021-04-30T14:18:58.769689Z",
     "iopub.status.idle": "2021-04-30T14:19:02.140305Z",
     "shell.execute_reply": "2021-04-30T14:19:02.139491Z"
    },
    "papermill": {
     "duration": 3.49752,
     "end_time": "2021-04-30T14:19:02.140437",
     "exception": false,
     "start_time": "2021-04-30T14:18:58.642917",
     "status": "completed"
    },
    "tags": []
   },
   "outputs": [],
   "source": [
    "# Model for Q1\n",
    "\n",
    "model_q1 = Sequential([Embedding(input_dim = vocab_size,output_dim = 200,weights = [embedding_matrix],input_length = 30),\n",
    "                      LSTM(128, activation = 'tanh', return_sequences = True),\n",
    "                      Dropout(0.2),\n",
    "                      LSTM(128, return_sequences = True),\n",
    "                      LSTM(128),\n",
    "                      Dense(60, activation = 'tanh'),\n",
    "                      Dense(2, activation = 'sigmoid')])"
   ]
  },
  {
   "cell_type": "code",
   "execution_count": 37,
   "metadata": {
    "execution": {
     "iopub.execute_input": "2021-04-30T14:19:02.392234Z",
     "iopub.status.busy": "2021-04-30T14:19:02.391640Z",
     "iopub.status.idle": "2021-04-30T14:19:03.001520Z",
     "shell.execute_reply": "2021-04-30T14:19:03.001930Z"
    },
    "papermill": {
     "duration": 0.738899,
     "end_time": "2021-04-30T14:19:03.002132",
     "exception": false,
     "start_time": "2021-04-30T14:19:02.263233",
     "status": "completed"
    },
    "tags": []
   },
   "outputs": [],
   "source": [
    "# Model for Q2\n",
    "\n",
    "model_q2 = Sequential([Embedding(input_dim = vocab_size,output_dim = 200,weights = [embedding_matrix],input_length = 30),\n",
    "                      LSTM(128, activation = 'tanh', return_sequences = True),\n",
    "                      Dropout(0.2),\n",
    "                      LSTM(128, return_sequences = True),\n",
    "                      LSTM(128),\n",
    "                      Dense(60, activation = 'tanh'),\n",
    "                      Dense(2, activation = 'sigmoid')])"
   ]
  },
  {
   "cell_type": "code",
   "execution_count": 38,
   "metadata": {
    "execution": {
     "iopub.execute_input": "2021-04-30T14:19:03.256157Z",
     "iopub.status.busy": "2021-04-30T14:19:03.254937Z",
     "iopub.status.idle": "2021-04-30T14:19:03.283836Z",
     "shell.execute_reply": "2021-04-30T14:19:03.283368Z"
    },
    "papermill": {
     "duration": 0.158767,
     "end_time": "2021-04-30T14:19:03.283955",
     "exception": false,
     "start_time": "2021-04-30T14:19:03.125188",
     "status": "completed"
    },
    "tags": []
   },
   "outputs": [],
   "source": [
    "# Merging the output of the two models,i.e, model_q1 and model_q2\n",
    "mergedOut = multiply([model_q1.output, model_q2.output])\n",
    "\n",
    "mergedOut = Flatten()(mergedOut)\n",
    "mergedOut = Dense(100, activation = 'relu')(mergedOut)\n",
    "mergedOut = Dropout(0.2)(mergedOut)\n",
    "mergedOut = Dense(50, activation = 'relu')(mergedOut)\n",
    "mergedOut = Dropout(0.2)(mergedOut)\n",
    "mergedOut = Dense(2, activation = 'sigmoid')(mergedOut)"
   ]
  },
  {
   "cell_type": "code",
   "execution_count": 39,
   "metadata": {
    "execution": {
     "iopub.execute_input": "2021-04-30T14:19:03.533739Z",
     "iopub.status.busy": "2021-04-30T14:19:03.532906Z",
     "iopub.status.idle": "2021-04-30T14:19:03.548285Z",
     "shell.execute_reply": "2021-04-30T14:19:03.547793Z"
    },
    "papermill": {
     "duration": 0.142997,
     "end_time": "2021-04-30T14:19:03.548404",
     "exception": false,
     "start_time": "2021-04-30T14:19:03.405407",
     "status": "completed"
    },
    "tags": []
   },
   "outputs": [],
   "source": [
    "new_model = tf.keras.Model([model_q1.input, model_q2.input], mergedOut)\n",
    "new_model.compile(optimizer = 'adam', loss = 'sparse_categorical_crossentropy',\n",
    "                 metrics = ['accuracy'])"
   ]
  },
  {
   "cell_type": "code",
   "execution_count": 40,
   "metadata": {
    "execution": {
     "iopub.execute_input": "2021-04-30T14:19:03.800271Z",
     "iopub.status.busy": "2021-04-30T14:19:03.797351Z",
     "iopub.status.idle": "2021-04-30T14:19:03.810440Z",
     "shell.execute_reply": "2021-04-30T14:19:03.809836Z"
    },
    "papermill": {
     "duration": 0.140632,
     "end_time": "2021-04-30T14:19:03.810588",
     "exception": false,
     "start_time": "2021-04-30T14:19:03.669956",
     "status": "completed"
    },
    "tags": []
   },
   "outputs": [
    {
     "name": "stdout",
     "output_type": "stream",
     "text": [
      "Model: \"model\"\n",
      "__________________________________________________________________________________________________\n",
      "Layer (type)                    Output Shape         Param #     Connected to                     \n",
      "==================================================================================================\n",
      "embedding_input (InputLayer)    [(None, 30)]         0                                            \n",
      "__________________________________________________________________________________________________\n",
      "embedding_1_input (InputLayer)  [(None, 30)]         0                                            \n",
      "__________________________________________________________________________________________________\n",
      "embedding (Embedding)           (None, 30, 200)      3497600     embedding_input[0][0]            \n",
      "__________________________________________________________________________________________________\n",
      "embedding_1 (Embedding)         (None, 30, 200)      3497600     embedding_1_input[0][0]          \n",
      "__________________________________________________________________________________________________\n",
      "lstm (LSTM)                     (None, 30, 128)      168448      embedding[0][0]                  \n",
      "__________________________________________________________________________________________________\n",
      "lstm_3 (LSTM)                   (None, 30, 128)      168448      embedding_1[0][0]                \n",
      "__________________________________________________________________________________________________\n",
      "dropout (Dropout)               (None, 30, 128)      0           lstm[0][0]                       \n",
      "__________________________________________________________________________________________________\n",
      "dropout_1 (Dropout)             (None, 30, 128)      0           lstm_3[0][0]                     \n",
      "__________________________________________________________________________________________________\n",
      "lstm_1 (LSTM)                   (None, 30, 128)      131584      dropout[0][0]                    \n",
      "__________________________________________________________________________________________________\n",
      "lstm_4 (LSTM)                   (None, 30, 128)      131584      dropout_1[0][0]                  \n",
      "__________________________________________________________________________________________________\n",
      "lstm_2 (LSTM)                   (None, 128)          131584      lstm_1[0][0]                     \n",
      "__________________________________________________________________________________________________\n",
      "lstm_5 (LSTM)                   (None, 128)          131584      lstm_4[0][0]                     \n",
      "__________________________________________________________________________________________________\n",
      "dense (Dense)                   (None, 60)           7740        lstm_2[0][0]                     \n",
      "__________________________________________________________________________________________________\n",
      "dense_2 (Dense)                 (None, 60)           7740        lstm_5[0][0]                     \n",
      "__________________________________________________________________________________________________\n",
      "dense_1 (Dense)                 (None, 2)            122         dense[0][0]                      \n",
      "__________________________________________________________________________________________________\n",
      "dense_3 (Dense)                 (None, 2)            122         dense_2[0][0]                    \n",
      "__________________________________________________________________________________________________\n",
      "multiply (Multiply)             (None, 2)            0           dense_1[0][0]                    \n",
      "                                                                 dense_3[0][0]                    \n",
      "__________________________________________________________________________________________________\n",
      "flatten (Flatten)               (None, 2)            0           multiply[0][0]                   \n",
      "__________________________________________________________________________________________________\n",
      "dense_4 (Dense)                 (None, 100)          300         flatten[0][0]                    \n",
      "__________________________________________________________________________________________________\n",
      "dropout_2 (Dropout)             (None, 100)          0           dense_4[0][0]                    \n",
      "__________________________________________________________________________________________________\n",
      "dense_5 (Dense)                 (None, 50)           5050        dropout_2[0][0]                  \n",
      "__________________________________________________________________________________________________\n",
      "dropout_3 (Dropout)             (None, 50)           0           dense_5[0][0]                    \n",
      "__________________________________________________________________________________________________\n",
      "dense_6 (Dense)                 (None, 2)            102         dropout_3[0][0]                  \n",
      "==================================================================================================\n",
      "Total params: 7,879,608\n",
      "Trainable params: 7,879,608\n",
      "Non-trainable params: 0\n",
      "__________________________________________________________________________________________________\n"
     ]
    }
   ],
   "source": [
    "new_model.summary()"
   ]
  },
  {
   "cell_type": "code",
   "execution_count": 41,
   "metadata": {
    "execution": {
     "iopub.execute_input": "2021-04-30T14:19:04.060132Z",
     "iopub.status.busy": "2021-04-30T14:19:04.059591Z",
     "iopub.status.idle": "2021-04-30T14:20:00.056675Z",
     "shell.execute_reply": "2021-04-30T14:20:00.055725Z"
    },
    "papermill": {
     "duration": 56.123688,
     "end_time": "2021-04-30T14:20:00.056812",
     "exception": false,
     "start_time": "2021-04-30T14:19:03.933124",
     "status": "completed"
    },
    "tags": []
   },
   "outputs": [
    {
     "name": "stdout",
     "output_type": "stream",
     "text": [
      "Epoch 1/20\n",
      "12/12 [==============================] - 18s 516ms/step - loss: 0.6924 - accuracy: 0.5313 - val_loss: 0.6897 - val_accuracy: 0.5850\n",
      "Epoch 2/20\n",
      "12/12 [==============================] - 3s 260ms/step - loss: 0.6857 - accuracy: 0.5812 - val_loss: 0.6856 - val_accuracy: 0.5580\n",
      "Epoch 3/20\n",
      "12/12 [==============================] - 3s 262ms/step - loss: 0.6827 - accuracy: 0.5820 - val_loss: 0.6800 - val_accuracy: 0.5909\n",
      "Epoch 4/20\n",
      "12/12 [==============================] - 3s 261ms/step - loss: 0.6763 - accuracy: 0.5969 - val_loss: 0.6730 - val_accuracy: 0.5936\n",
      "Epoch 5/20\n",
      "12/12 [==============================] - 3s 262ms/step - loss: 0.6677 - accuracy: 0.6112 - val_loss: 0.6551 - val_accuracy: 0.6394\n",
      "Epoch 6/20\n",
      "12/12 [==============================] - 3s 263ms/step - loss: 0.6308 - accuracy: 0.6765 - val_loss: 0.6372 - val_accuracy: 0.6516\n",
      "Epoch 7/20\n",
      "12/12 [==============================] - 3s 263ms/step - loss: 0.5878 - accuracy: 0.7158 - val_loss: 0.6119 - val_accuracy: 0.6725\n",
      "Epoch 8/20\n",
      "12/12 [==============================] - 3s 263ms/step - loss: 0.5329 - accuracy: 0.7617 - val_loss: 0.6315 - val_accuracy: 0.6723\n",
      "Epoch 9/20\n",
      "12/12 [==============================] - 3s 264ms/step - loss: 0.4801 - accuracy: 0.8000 - val_loss: 0.6626 - val_accuracy: 0.6699\n",
      "Epoch 10/20\n",
      "12/12 [==============================] - 3s 263ms/step - loss: 0.4365 - accuracy: 0.8307 - val_loss: 0.6653 - val_accuracy: 0.6748\n",
      "Epoch 11/20\n",
      "12/12 [==============================] - 3s 262ms/step - loss: 0.4240 - accuracy: 0.8350 - val_loss: 0.7108 - val_accuracy: 0.6736\n",
      "Epoch 12/20\n",
      "12/12 [==============================] - 3s 263ms/step - loss: 0.3986 - accuracy: 0.8518 - val_loss: 0.7522 - val_accuracy: 0.6570\n",
      "Epoch 13/20\n",
      "12/12 [==============================] - 3s 262ms/step - loss: 0.3841 - accuracy: 0.8586 - val_loss: 0.7443 - val_accuracy: 0.6610\n",
      "Epoch 14/20\n",
      "12/12 [==============================] - 3s 262ms/step - loss: 0.3645 - accuracy: 0.8682 - val_loss: 0.7769 - val_accuracy: 0.6669\n",
      "Epoch 15/20\n",
      "12/12 [==============================] - 3s 263ms/step - loss: 0.3393 - accuracy: 0.8828 - val_loss: 0.7840 - val_accuracy: 0.6639\n",
      "Epoch 16/20\n",
      "12/12 [==============================] - 3s 263ms/step - loss: 0.3175 - accuracy: 0.8948 - val_loss: 0.8542 - val_accuracy: 0.6676\n",
      "Epoch 17/20\n",
      "12/12 [==============================] - 3s 263ms/step - loss: 0.3028 - accuracy: 0.9029 - val_loss: 0.8648 - val_accuracy: 0.6650\n",
      "Epoch 18/20\n",
      "12/12 [==============================] - 3s 263ms/step - loss: 0.2928 - accuracy: 0.9062 - val_loss: 0.9257 - val_accuracy: 0.6627\n",
      "Epoch 19/20\n",
      "12/12 [==============================] - 3s 263ms/step - loss: 0.2854 - accuracy: 0.9083 - val_loss: 0.8863 - val_accuracy: 0.6635\n",
      "Epoch 20/20\n",
      "12/12 [==============================] - 3s 262ms/step - loss: 0.2765 - accuracy: 0.9123 - val_loss: 0.9307 - val_accuracy: 0.6660\n"
     ]
    }
   ],
   "source": [
    "history = new_model.fit([X_train_q1,X_train_q2],y_train, batch_size = 2000, epochs = 20, validation_data = ([X_valid_q1,X_valid_q2],y_valid))"
   ]
  },
  {
   "cell_type": "code",
   "execution_count": 42,
   "metadata": {
    "execution": {
     "iopub.execute_input": "2021-04-30T14:20:00.465350Z",
     "iopub.status.busy": "2021-04-30T14:20:00.462468Z",
     "iopub.status.idle": "2021-04-30T14:20:00.767142Z",
     "shell.execute_reply": "2021-04-30T14:20:00.766323Z"
    },
    "papermill": {
     "duration": 0.51666,
     "end_time": "2021-04-30T14:20:00.767339",
     "exception": false,
     "start_time": "2021-04-30T14:20:00.250679",
     "status": "completed"
    },
    "tags": []
   },
   "outputs": [
    {
     "data": {
      "image/png": "[encoded data removed]",
      "text/plain": [
       "<Figure size 432x288 with 1 Axes>"
      ]
     },
     "metadata": {
      "needs_background": "light"
     },
     "output_type": "display_data"
    },
    {
     "data": {
      "image/png": "[encoded data removed]",
      "text/plain": [
       "<Figure size 432x288 with 1 Axes>"
      ]
     },
     "metadata": {
      "needs_background": "light"
     },
     "output_type": "display_data"
    }
   ],
   "source": [
    "accuracy = history.history[\"accuracy\"]\n",
    "loss = history.history[\"loss\"]\n",
    "\n",
    "val_accuracy = history.history[\"val_accuracy\"]\n",
    "val_loss = history.history[\"val_loss\"]\n",
    "\n",
    "#plot \n",
    "plt.plot(accuracy,'g',label='training accuracy')\n",
    "plt.plot(val_accuracy, 'r', label='validation accuracy')\n",
    "plt.legend()\n",
    "plt.show()\n",
    "\n",
    "\n",
    "plt.plot(loss,'g',label='training loss')\n",
    "plt.plot(val_loss, 'r', label='validation loss')\n",
    "plt.legend()\n",
    "plt.show()"
   ]
  },
  {
   "cell_type": "code",
   "execution_count": 43,
   "metadata": {
    "execution": {
     "iopub.execute_input": "2021-04-30T14:20:01.371761Z",
     "iopub.status.busy": "2021-04-30T14:20:01.370897Z",
     "iopub.status.idle": "2021-04-30T14:20:10.783721Z",
     "shell.execute_reply": "2021-04-30T14:20:10.783249Z"
    },
    "papermill": {
     "duration": 9.684496,
     "end_time": "2021-04-30T14:20:10.783871",
     "exception": false,
     "start_time": "2021-04-30T14:20:01.099375",
     "status": "completed"
    },
    "tags": []
   },
   "outputs": [],
   "source": [
    "y_pred = new_model.predict([X_test_q1, X_test_q2])"
   ]
  },
  {
   "cell_type": "code",
   "execution_count": 44,
   "metadata": {
    "execution": {
     "iopub.execute_input": "2021-04-30T14:20:11.178575Z",
     "iopub.status.busy": "2021-04-30T14:20:11.177951Z",
     "iopub.status.idle": "2021-04-30T14:20:11.183593Z",
     "shell.execute_reply": "2021-04-30T14:20:11.183179Z"
    },
    "papermill": {
     "duration": 0.204094,
     "end_time": "2021-04-30T14:20:11.183709",
     "exception": false,
     "start_time": "2021-04-30T14:20:10.979615",
     "status": "completed"
    },
    "tags": []
   },
   "outputs": [
    {
     "data": {
      "text/plain": [
       "array([1, 0, 0, 1, 1, 1, 1, 0, 0, 1], dtype=int64)"
      ]
     },
     "execution_count": 44,
     "metadata": {},
     "output_type": "execute_result"
    }
   ],
   "source": [
    "np.argmax(y_pred[:10], axis=-1)  "
   ]
  },
  {
   "cell_type": "code",
   "execution_count": null,
   "metadata": {},
   "outputs": [],
   "source": []
  },
  {
   "cell_type": "code",
   "execution_count": 46,
   "metadata": {},
   "outputs": [
    {
     "name": "stdout",
     "output_type": "stream",
     "text": [
      "Model saved\n",
      "Tokenizer saved\n"
     ]
    }
   ],
   "source": [
    "import pickle\n",
    "\n",
    "# serialize model to JSON\n",
    "model_json = new_model.to_json()\n",
    "with open(\"similarity_model.json\", \"w\") as json_file:\n",
    "    json_file.write(model_json)\n",
    "    \n",
    "# saving model\n",
    "new_model.save('similarity_model.h5')\n",
    "print(\"Model saved\")\n",
    "\n",
    "# saving tokenizer\n",
    "with open('similarity_tokenizer.pickle', 'wb') as handle:\n",
    "    pickle.dump(tokenizer, handle, protocol=pickle.HIGHEST_PROTOCOL)\n",
    "\n",
    "print('Tokenizer saved')"
   ]
  },
  {
   "cell_type": "code",
   "execution_count": null,
   "metadata": {},
   "outputs": [],
   "source": []
  },
  {
   "cell_type": "code",
   "execution_count": null,
   "metadata": {},
   "outputs": [],
   "source": []
  },
  {
   "cell_type": "code",
   "execution_count": null,
   "metadata": {},
   "outputs": [],
   "source": []
  }
 ],
 "metadata": {
  "kernelspec": {
   "display_name": "Python 3 (ipykernel)",
   "language": "python",
   "name": "python3"
  },
  "language_info": {
   "codemirror_mode": {
    "name": "ipython",
    "version": 3
   },
   "file_extension": ".py",
   "mimetype": "text/x-python",
   "name": "python",
   "nbconvert_exporter": "python",
   "pygments_lexer": "ipython3",
   "version": "3.9.7"
  },
  "papermill": {
   "default_parameters": {},
   "duration": 257.6154,
   "end_time": "2021-04-30T14:20:16.194358",
   "environment_variables": {},
   "exception": null,
   "input_path": "__notebook__.ipynb",
   "output_path": "__notebook__.ipynb",
   "parameters": {},
   "start_time": "2021-04-30T14:15:58.578958",
   "version": "2.2.2"
  }
 },
 "nbformat": 4,
 "nbformat_minor": 4
}
