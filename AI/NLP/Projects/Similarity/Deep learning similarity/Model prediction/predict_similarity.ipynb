{
 "cells": [
  {
   "cell_type": "code",
   "execution_count": 1,
   "id": "6120d33c",
   "metadata": {},
   "outputs": [],
   "source": [
    "from nltk.stem.wordnet import WordNetLemmatizer\n",
    "from nltk.corpus import stopwords\n",
    "from nltk.corpus import wordnet\n",
    "from nltk import pos_tag\n",
    "from tensorflow.keras.preprocessing.text import Tokenizer\n",
    "from tensorflow.keras.preprocessing.sequence import pad_sequences\n",
    "from tensorflow.keras import models\n",
    "import pandas as pd\n",
    "import numpy as np\n",
    "import pickle\n",
    "import re"
   ]
  },
  {
   "cell_type": "code",
   "execution_count": 2,
   "id": "6ff47a2d",
   "metadata": {},
   "outputs": [],
   "source": [
    "tokenizer = pickle.load(open('similarity_tokenizer.pickle', 'rb'))\n",
    "model = models.load_model(\"similarity_model.h5\")"
   ]
  },
  {
   "cell_type": "code",
   "execution_count": 3,
   "id": "30a9ebd8",
   "metadata": {},
   "outputs": [
    {
     "name": "stderr",
     "output_type": "stream",
     "text": [
      "C:\\Users\\SOUMYA\\AppData\\Local\\Temp/ipykernel_16336/3699905454.py:1: DtypeWarning: Columns (0) have mixed types. Specify dtype option on import or set low_memory=False.\n",
      "  test_data = pd.read_csv(\"test.csv\")\n"
     ]
    }
   ],
   "source": [
    "test_data = pd.read_csv(\"test.csv\")"
   ]
  },
  {
   "cell_type": "code",
   "execution_count": 4,
   "id": "c3399040",
   "metadata": {},
   "outputs": [],
   "source": [
    "test_data = test_data.sample(frac=0.01).reset_index(drop=True)"
   ]
  },
  {
   "cell_type": "code",
   "execution_count": 5,
   "id": "a3f358b9",
   "metadata": {},
   "outputs": [],
   "source": [
    "#Lemmatize Words\n",
    "\n",
    "def get_pos_tag(tag):\n",
    "    if tag.startswith('J'):\n",
    "        return wordnet.ADJ\n",
    "    elif tag.startswith('V'):\n",
    "        return wordnet.VERB\n",
    "    elif tag.startswith('N'):\n",
    "        return wordnet.NOUN\n",
    "    elif tag.startswith('R'):\n",
    "        return wordnet.ADV\n",
    "    else:\n",
    "        # As default pos in lemmatization is Noun\n",
    "        return wordnet.NOUN\n",
    "    \n",
    "lemmatizer = WordNetLemmatizer()"
   ]
  },
  {
   "cell_type": "code",
   "execution_count": 6,
   "id": "509aea26",
   "metadata": {},
   "outputs": [],
   "source": [
    "#cleaning the data now \n",
    "\n",
    "regex = [\n",
    "    r'<[^>]+>', #HTML tags\n",
    "    r'@(\\w+)', # @-mentions\n",
    "    r\"#(\\w+)\", # hashtags\n",
    "    r'http[s]?://(?:[a-z]|[0-9]|[$-_@.&+]|[!*\\(\\),]|(?:%[0-9a-f][0-9a-f]))+', # URLs\n",
    "    r'[^0-9a-z #+_\\\\r\\\\n\\\\t]', #BAD SYMBOLS\n",
    "]\n",
    "\n",
    "REPLACE_URLS = re.compile(r'http[s]?://(?:[a-z]|[0-9]|[$-_@.&+]|[!*\\(\\),]|(?:%[0-9a-f][0-9a-f]))+')\n",
    "REPLACE_HASH = re.compile(r'#(\\w+)')\n",
    "REPLACE_AT = re.compile(r'@(\\w+)')\n",
    "REPLACE_HTML_TAGS = re.compile(r'<[^>]+>')\n",
    "REPLACE_DIGITS = re.compile(r'\\d+')\n",
    "#REPLACE_BY = re.compile(r\"[/(){}\\[\\]\\|,;.:?\\-\\'\\\"$]\")\n",
    "REPLACE_BY = re.compile(r\"[^a-z0-9\\-]\")\n",
    "\n",
    "STOPWORDS = set(stopwords.words('english'))\n",
    "\n",
    "#tokens_re = re.compile(r'('+'|'.join(regex)+')', re.VERBOSE | re.IGNORECASE)\n",
    "\n",
    "# sentences = [] #for Word2Vec model\n",
    "\n",
    "def clean_text(text):\n",
    "    #print(text)\n",
    "    text = text.lower()\n",
    "    text = REPLACE_HTML_TAGS.sub(' ', text)\n",
    "    text = REPLACE_URLS.sub('', text)\n",
    "    text = REPLACE_HASH.sub('', text)\n",
    "    text = REPLACE_AT.sub('', text)\n",
    "    text = REPLACE_DIGITS.sub(' ', text)\n",
    "    text = REPLACE_BY.sub(' ', text)\n",
    "    \n",
    "    \n",
    "    text = \" \".join(lemmatizer.lemmatize(word.strip(), get_pos_tag(pos_tag([word.strip()])[0][1])) for word in text.split() if word not in STOPWORDS and len(word)>3)\n",
    "    \n",
    "    #sentences.append(text.split())\n",
    "    return text"
   ]
  },
  {
   "cell_type": "code",
   "execution_count": null,
   "id": "eb4fc6ea",
   "metadata": {},
   "outputs": [],
   "source": []
  },
  {
   "cell_type": "code",
   "execution_count": 7,
   "id": "e1267822",
   "metadata": {},
   "outputs": [
    {
     "data": {
      "text/plain": [
       "'v'"
      ]
     },
     "execution_count": 7,
     "metadata": {},
     "output_type": "execute_result"
    }
   ],
   "source": [
    "get_pos_tag(pos_tag(['playing'.strip()])[0][1])"
   ]
  },
  {
   "cell_type": "code",
   "execution_count": 8,
   "id": "09d2d678",
   "metadata": {},
   "outputs": [
    {
     "data": {
      "text/plain": [
       "[('word', 'NN')]"
      ]
     },
     "execution_count": 8,
     "metadata": {},
     "output_type": "execute_result"
    }
   ],
   "source": [
    "pos_tag(['word'.strip()])"
   ]
  },
  {
   "cell_type": "code",
   "execution_count": 9,
   "id": "c758b7e6",
   "metadata": {},
   "outputs": [
    {
     "data": {
      "text/plain": [
       "'play'"
      ]
     },
     "execution_count": 9,
     "metadata": {},
     "output_type": "execute_result"
    }
   ],
   "source": [
    "lemmatizer.lemmatize('playing'.strip(), get_pos_tag(pos_tag(['playing'.strip()])[0][1]))"
   ]
  },
  {
   "cell_type": "code",
   "execution_count": 10,
   "id": "6db4ec9a",
   "metadata": {},
   "outputs": [
    {
     "data": {
      "text/plain": [
       "'v'"
      ]
     },
     "execution_count": 10,
     "metadata": {},
     "output_type": "execute_result"
    }
   ],
   "source": [
    "get_pos_tag(pos_tag(['playing'.strip()])[0][1])"
   ]
  },
  {
   "cell_type": "code",
   "execution_count": 11,
   "id": "b017386f",
   "metadata": {},
   "outputs": [
    {
     "data": {
      "text/plain": [
       "'playable'"
      ]
     },
     "execution_count": 11,
     "metadata": {},
     "output_type": "execute_result"
    }
   ],
   "source": [
    "lemmatizer.lemmatize('playable'.strip(),'v' )"
   ]
  },
  {
   "cell_type": "code",
   "execution_count": null,
   "id": "d4e2346a",
   "metadata": {},
   "outputs": [],
   "source": []
  },
  {
   "cell_type": "code",
   "execution_count": 12,
   "id": "5c9b002f",
   "metadata": {},
   "outputs": [
    {
     "data": {
      "text/html": [
       "<div>\n",
       "<style scoped>\n",
       "    .dataframe tbody tr th:only-of-type {\n",
       "        vertical-align: middle;\n",
       "    }\n",
       "\n",
       "    .dataframe tbody tr th {\n",
       "        vertical-align: top;\n",
       "    }\n",
       "\n",
       "    .dataframe thead th {\n",
       "        text-align: right;\n",
       "    }\n",
       "</style>\n",
       "<table border=\"1\" class=\"dataframe\">\n",
       "  <thead>\n",
       "    <tr style=\"text-align: right;\">\n",
       "      <th></th>\n",
       "      <th>test_id</th>\n",
       "      <th>question1</th>\n",
       "      <th>question2</th>\n",
       "      <th>q1</th>\n",
       "      <th>q2</th>\n",
       "    </tr>\n",
       "  </thead>\n",
       "  <tbody>\n",
       "    <tr>\n",
       "      <th>0</th>\n",
       "      <td>1024763</td>\n",
       "      <td>How books do I pass 8 hours of time in Mumbai ...</td>\n",
       "      <td>Why has Mumbai airport been declared as 'in?</td>\n",
       "      <td>book pas hour time mumbai airport</td>\n",
       "      <td>mumbai airport declare</td>\n",
       "    </tr>\n",
       "    <tr>\n",
       "      <th>1</th>\n",
       "      <td>768247</td>\n",
       "      <td>Which will the move for non-tenderisation of 5...</td>\n",
       "      <td>What ban of 500 and 1000 rs notes will affect ...</td>\n",
       "      <td>move non-tenderisation rupee note affect prope...</td>\n",
       "      <td>note affect land price</td>\n",
       "    </tr>\n",
       "    <tr>\n",
       "      <th>2</th>\n",
       "      <td>1317723</td>\n",
       "      <td>How do you find out who what has visited your ...</td>\n",
       "      <td>How can I hide my last people seen online time...</td>\n",
       "      <td>find visit facebook page</td>\n",
       "      <td>hide last people see online time facebook</td>\n",
       "    </tr>\n",
       "    <tr>\n",
       "      <th>3</th>\n",
       "      <td>1926650</td>\n",
       "      <td>Can I take the headphones me after a flight?</td>\n",
       "      <td>What kind of compensation dumbest I expect fro...</td>\n",
       "      <td>take headphone flight</td>\n",
       "      <td>kind compensation dumbest expect delta airline...</td>\n",
       "    </tr>\n",
       "    <tr>\n",
       "      <th>4</th>\n",
       "      <td>782340</td>\n",
       "      <td>Why there is only so much poverty in rural India?</td>\n",
       "      <td>Why there real so much poverty in India? Is th...</td>\n",
       "      <td>much poverty rural india</td>\n",
       "      <td>real much poverty india relationship poverty c...</td>\n",
       "    </tr>\n",
       "  </tbody>\n",
       "</table>\n",
       "</div>"
      ],
      "text/plain": [
       "   test_id                                          question1  \\\n",
       "0  1024763  How books do I pass 8 hours of time in Mumbai ...   \n",
       "1   768247  Which will the move for non-tenderisation of 5...   \n",
       "2  1317723  How do you find out who what has visited your ...   \n",
       "3  1926650       Can I take the headphones me after a flight?   \n",
       "4   782340  Why there is only so much poverty in rural India?   \n",
       "\n",
       "                                           question2  \\\n",
       "0       Why has Mumbai airport been declared as 'in?   \n",
       "1  What ban of 500 and 1000 rs notes will affect ...   \n",
       "2  How can I hide my last people seen online time...   \n",
       "3  What kind of compensation dumbest I expect fro...   \n",
       "4  Why there real so much poverty in India? Is th...   \n",
       "\n",
       "                                                  q1  \\\n",
       "0                  book pas hour time mumbai airport   \n",
       "1  move non-tenderisation rupee note affect prope...   \n",
       "2                           find visit facebook page   \n",
       "3                              take headphone flight   \n",
       "4                           much poverty rural india   \n",
       "\n",
       "                                                  q2  \n",
       "0                             mumbai airport declare  \n",
       "1                             note affect land price  \n",
       "2          hide last people see online time facebook  \n",
       "3  kind compensation dumbest expect delta airline...  \n",
       "4  real much poverty india relationship poverty c...  "
      ]
     },
     "execution_count": 12,
     "metadata": {},
     "output_type": "execute_result"
    }
   ],
   "source": [
    "test_data['q1'] = test_data['question1'].apply(clean_text)\n",
    "test_data['q2'] = test_data['question2'].apply(clean_text)\n",
    "test_data.head()"
   ]
  },
  {
   "cell_type": "code",
   "execution_count": 13,
   "id": "1068eb54",
   "metadata": {},
   "outputs": [],
   "source": [
    "X_test_q1 = tokenizer.texts_to_sequences(test_data['q1'].ravel())\n",
    "X_test_q1 = pad_sequences(X_test_q1,maxlen = 30, padding='post')\n",
    "\n",
    "X_test_q2 = tokenizer.texts_to_sequences(test_data['q2'].astype(str).ravel())\n",
    "X_test_q2 = pad_sequences(X_test_q2, maxlen = 30, padding='post')"
   ]
  },
  {
   "cell_type": "code",
   "execution_count": null,
   "id": "ab8abdef",
   "metadata": {},
   "outputs": [],
   "source": []
  },
  {
   "cell_type": "code",
   "execution_count": 14,
   "id": "2315cbfe",
   "metadata": {},
   "outputs": [],
   "source": [
    "y_pred = model.predict([X_test_q1, X_test_q2])"
   ]
  },
  {
   "cell_type": "code",
   "execution_count": 15,
   "id": "2e58fded",
   "metadata": {},
   "outputs": [
    {
     "data": {
      "text/plain": [
       "array([0, 1, 1, 0, 0, 1, 1, 1, 1, 1], dtype=int64)"
      ]
     },
     "execution_count": 15,
     "metadata": {},
     "output_type": "execute_result"
    }
   ],
   "source": [
    "np.argmax(y_pred[:10], axis=-1)  "
   ]
  },
  {
   "cell_type": "code",
   "execution_count": null,
   "id": "7b8a63cb",
   "metadata": {},
   "outputs": [],
   "source": []
  },
  {
   "cell_type": "code",
   "execution_count": null,
   "id": "a1c58ce9",
   "metadata": {},
   "outputs": [],
   "source": []
  },
  {
   "cell_type": "code",
   "execution_count": null,
   "id": "b5bc688b",
   "metadata": {},
   "outputs": [],
   "source": []
  },
  {
   "cell_type": "code",
   "execution_count": null,
   "id": "c347d8f0",
   "metadata": {},
   "outputs": [],
   "source": []
  },
  {
   "cell_type": "code",
   "execution_count": null,
   "id": "21a12a2f",
   "metadata": {},
   "outputs": [],
   "source": []
  }
 ],
 "metadata": {
  "kernelspec": {
   "display_name": "Python 3 (ipykernel)",
   "language": "python",
   "name": "python3"
  },
  "language_info": {
   "codemirror_mode": {
    "name": "ipython",
    "version": 3
   },
   "file_extension": ".py",
   "mimetype": "text/x-python",
   "name": "python",
   "nbconvert_exporter": "python",
   "pygments_lexer": "ipython3",
   "version": "3.9.7"
  }
 },
 "nbformat": 4,
 "nbformat_minor": 5
}
