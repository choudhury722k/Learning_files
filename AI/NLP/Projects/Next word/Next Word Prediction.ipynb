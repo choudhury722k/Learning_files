{
 "cells": [
  {
   "cell_type": "markdown",
   "metadata": {},
   "source": [
    "### Importing The Required Libraries:"
   ]
  },
  {
   "cell_type": "code",
   "execution_count": 1,
   "metadata": {},
   "outputs": [],
   "source": [
    "import tensorflow as tf\n",
    "from tensorflow.keras.preprocessing.text import Tokenizer\n",
    "from tensorflow.keras.layers import Embedding, LSTM, Dense\n",
    "from tensorflow.keras.models import Sequential\n",
    "from tensorflow.keras.utils import to_categorical\n",
    "from tensorflow.keras.optimizers import Adam\n",
    "import pickle\n",
    "import numpy as np\n",
    "import os"
   ]
  },
  {
   "cell_type": "code",
   "execution_count": 3,
   "metadata": {},
   "outputs": [
    {
     "name": "stdout",
     "output_type": "stream",
     "text": [
      "The First Line:  ﻿One morning, when Gregor Samsa woke from troubled dreams, he found\n",
      "\n",
      "The Last Line:  first to get up and stretch out her young body.\n"
     ]
    }
   ],
   "source": [
    "#  Dataset: http://www.gutenberg.org/cache/epub/5200/pg5200.txt\n",
    "\n",
    "file = open(\"metamorphosis_clean.txt\", \"r\", encoding = \"utf8\")\n",
    "lines = []\n",
    "\n",
    "for i in file:\n",
    "    lines.append(i)\n",
    "    \n",
    "print(\"The First Line: \", lines[0])\n",
    "print(\"The Last Line: \", lines[-1])"
   ]
  },
  {
   "cell_type": "markdown",
   "metadata": {},
   "source": [
    "### Cleaning the data:"
   ]
  },
  {
   "cell_type": "code",
   "execution_count": 4,
   "metadata": {},
   "outputs": [
    {
     "data": {
      "text/plain": [
       "'One morning, when Gregor Samsa woke from troubled dreams, he found himself transformed in his bed into a horrible vermin.  He lay on his armour-like back, and if he lifted his head a little he could see his brown belly, slightly domed and divided by arches into stiff sections.  The bedding was hardly able to cover it and seemed ready to slide off any moment.'"
      ]
     },
     "execution_count": 4,
     "metadata": {},
     "output_type": "execute_result"
    }
   ],
   "source": [
    "data = \"\"\n",
    "\n",
    "for i in lines:\n",
    "    data = ' '. join(lines)\n",
    "    \n",
    "data = data.replace('\\n', '').replace('\\r', '').replace('\\ufeff', '')\n",
    "data[:360]"
   ]
  },
  {
   "cell_type": "code",
   "execution_count": 5,
   "metadata": {},
   "outputs": [
    {
     "data": {
      "text/plain": [
       "'One morning  when Gregor Samsa woke from troubled dreams  he found himself transformed in his bed into a horrible vermin   He lay on his armour like back  and if he lifted his head a little he could see his brown belly  slightly domed and divided by arches into stiff sections   The bedding was hardly able to cover it and seemed ready to slide off any moment   His many legs  pitifully thin compared with the size of the rest of him  waved about helplessly as he looked    What s happened to me   he'"
      ]
     },
     "execution_count": 5,
     "metadata": {},
     "output_type": "execute_result"
    }
   ],
   "source": [
    "import string\n",
    "\n",
    "translator = str.maketrans(string.punctuation, ' '*len(string.punctuation)) #map punctuation to space\n",
    "new_data = data.translate(translator)\n",
    "\n",
    "new_data[:500]"
   ]
  },
  {
   "cell_type": "code",
   "execution_count": 6,
   "metadata": {},
   "outputs": [
    {
     "data": {
      "text/plain": [
       "'One morning, when Gregor Samsa woke from troubled dreams, he found himself transformed in his bed into a horrible vermin. He lay on armour-like back, and if lifted head little could see brown belly, slightly domed divided by arches stiff sections. The bedding was hardly able to cover it seemed ready slide off any moment. His many legs, pitifully thin compared with the size of rest him, waved about helplessly as looked. \"What\\'s happened me?\" thought. It wasn\\'t dream. room, proper human room altho'"
      ]
     },
     "execution_count": 6,
     "metadata": {},
     "output_type": "execute_result"
    }
   ],
   "source": [
    "z = []\n",
    "\n",
    "for i in data.split():\n",
    "    if i not in z:\n",
    "        z.append(i)\n",
    "        \n",
    "data = ' '.join(z)\n",
    "data[:500]"
   ]
  },
  {
   "cell_type": "markdown",
   "metadata": {},
   "source": [
    "### Tokenization:"
   ]
  },
  {
   "cell_type": "code",
   "execution_count": 7,
   "metadata": {},
   "outputs": [
    {
     "data": {
      "text/plain": [
       "[17, 53, 293, 2, 18, 729, 135, 730, 294, 8]"
      ]
     },
     "execution_count": 7,
     "metadata": {},
     "output_type": "execute_result"
    }
   ],
   "source": [
    "tokenizer = Tokenizer()\n",
    "tokenizer.fit_on_texts([data])\n",
    "\n",
    "# saving the tokenizer for predict function.\n",
    "pickle.dump(tokenizer, open('tokenizer1.pkl', 'wb'))\n",
    "\n",
    "sequence_data = tokenizer.texts_to_sequences([data])[0]\n",
    "sequence_data[:10]"
   ]
  },
  {
   "cell_type": "code",
   "execution_count": 8,
   "metadata": {},
   "outputs": [
    {
     "name": "stdout",
     "output_type": "stream",
     "text": [
      "2617\n"
     ]
    }
   ],
   "source": [
    "vocab_size = len(tokenizer.word_index) + 1\n",
    "print(vocab_size)"
   ]
  },
  {
   "cell_type": "code",
   "execution_count": 9,
   "metadata": {},
   "outputs": [
    {
     "name": "stdout",
     "output_type": "stream",
     "text": [
      "The Length of sequences are:  3889\n"
     ]
    },
    {
     "data": {
      "text/plain": [
       "array([[ 17,  53],\n",
       "       [ 53, 293],\n",
       "       [293,   2],\n",
       "       [  2,  18],\n",
       "       [ 18, 729],\n",
       "       [729, 135],\n",
       "       [135, 730],\n",
       "       [730, 294],\n",
       "       [294,   8],\n",
       "       [  8, 731]])"
      ]
     },
     "execution_count": 9,
     "metadata": {},
     "output_type": "execute_result"
    }
   ],
   "source": [
    "sequences = []\n",
    "\n",
    "for i in range(1, len(sequence_data)):\n",
    "    words = sequence_data[i-1:i+1]\n",
    "    sequences.append(words)\n",
    "    \n",
    "print(\"The Length of sequences are: \", len(sequences))\n",
    "sequences = np.array(sequences)\n",
    "sequences[:10]"
   ]
  },
  {
   "cell_type": "code",
   "execution_count": 10,
   "metadata": {},
   "outputs": [],
   "source": [
    "X = []\n",
    "y = []\n",
    "\n",
    "for i in sequences:\n",
    "    X.append(i[0])\n",
    "    y.append(i[1])\n",
    "    \n",
    "X = np.array(X)\n",
    "y = np.array(y)"
   ]
  },
  {
   "cell_type": "code",
   "execution_count": 11,
   "metadata": {},
   "outputs": [
    {
     "name": "stdout",
     "output_type": "stream",
     "text": [
      "The Data is:  [ 17  53 293   2  18]\n",
      "The responses are:  [ 53 293   2  18 729]\n"
     ]
    }
   ],
   "source": [
    "print(\"The Data is: \", X[:5])\n",
    "print(\"The responses are: \", y[:5])"
   ]
  },
  {
   "cell_type": "code",
   "execution_count": 12,
   "metadata": {},
   "outputs": [
    {
     "data": {
      "text/plain": [
       "array([[0., 0., 0., ..., 0., 0., 0.],\n",
       "       [0., 0., 0., ..., 0., 0., 0.],\n",
       "       [0., 0., 1., ..., 0., 0., 0.],\n",
       "       [0., 0., 0., ..., 0., 0., 0.],\n",
       "       [0., 0., 0., ..., 0., 0., 0.]], dtype=float32)"
      ]
     },
     "execution_count": 12,
     "metadata": {},
     "output_type": "execute_result"
    }
   ],
   "source": [
    "y = to_categorical(y, num_classes=vocab_size)\n",
    "y[:5]"
   ]
  },
  {
   "cell_type": "markdown",
   "metadata": {},
   "source": [
    "### Creating the Model:"
   ]
  },
  {
   "cell_type": "code",
   "execution_count": 13,
   "metadata": {},
   "outputs": [],
   "source": [
    "model = Sequential()\n",
    "model.add(Embedding(vocab_size, 10, input_length=1))\n",
    "model.add(LSTM(1000, return_sequences=True))\n",
    "model.add(LSTM(1000))\n",
    "model.add(Dense(1000, activation=\"relu\"))\n",
    "model.add(Dense(vocab_size, activation=\"softmax\"))"
   ]
  },
  {
   "cell_type": "code",
   "execution_count": 14,
   "metadata": {},
   "outputs": [
    {
     "name": "stdout",
     "output_type": "stream",
     "text": [
      "Model: \"sequential\"\n",
      "_________________________________________________________________\n",
      "Layer (type)                 Output Shape              Param #   \n",
      "=================================================================\n",
      "embedding (Embedding)        (None, 1, 10)             26170     \n",
      "_________________________________________________________________\n",
      "lstm (LSTM)                  (None, 1, 1000)           4044000   \n",
      "_________________________________________________________________\n",
      "lstm_1 (LSTM)                (None, 1000)              8004000   \n",
      "_________________________________________________________________\n",
      "dense (Dense)                (None, 1000)              1001000   \n",
      "_________________________________________________________________\n",
      "dense_1 (Dense)              (None, 2617)              2619617   \n",
      "=================================================================\n",
      "Total params: 15,694,787\n",
      "Trainable params: 15,694,787\n",
      "Non-trainable params: 0\n",
      "_________________________________________________________________\n"
     ]
    }
   ],
   "source": [
    "model.summary()"
   ]
  },
  {
   "cell_type": "markdown",
   "metadata": {},
   "source": [
    "### Plot The Model:"
   ]
  },
  {
   "cell_type": "code",
   "execution_count": 26,
   "metadata": {},
   "outputs": [
    {
     "name": "stdout",
     "output_type": "stream",
     "text": [
      "('You must install pydot (`pip install pydot`) and install graphviz (see instructions at https://graphviz.gitlab.io/download/) ', 'for plot_model/model_to_dot to work.')\n"
     ]
    }
   ],
   "source": [
    "from tensorflow import keras\n",
    "from tensorflow.keras.utils import plot_model\n",
    "\n",
    "keras.utils.plot_model(model, to_file='model.png', show_layer_names=True)"
   ]
  },
  {
   "cell_type": "markdown",
   "metadata": {},
   "source": [
    "### Callbacks:"
   ]
  },
  {
   "cell_type": "code",
   "execution_count": 19,
   "metadata": {},
   "outputs": [],
   "source": [
    "from tensorflow.keras.callbacks import ModelCheckpoint\n",
    "from tensorflow.keras.callbacks import ReduceLROnPlateau\n",
    "from tensorflow.keras.callbacks import TensorBoard\n",
    "\n",
    "checkpoint = ModelCheckpoint(\"nextword1.h5\", monitor='loss', verbose=1,\n",
    "    save_best_only=True, mode='auto')"
   ]
  },
  {
   "cell_type": "markdown",
   "metadata": {},
   "source": [
    "### Compile The Model:"
   ]
  },
  {
   "cell_type": "code",
   "execution_count": 21,
   "metadata": {},
   "outputs": [],
   "source": [
    "model.compile(loss=\"categorical_crossentropy\", optimizer=Adam(lr=0.001), metrics=['accuracy'])"
   ]
  },
  {
   "cell_type": "markdown",
   "metadata": {},
   "source": [
    "### Fit The Model:"
   ]
  },
  {
   "cell_type": "code",
   "execution_count": 22,
   "metadata": {},
   "outputs": [
    {
     "name": "stdout",
     "output_type": "stream",
     "text": [
      "Epoch 1/150\n",
      "61/61 [==============================] - 15s 53ms/step - loss: 7.8755 - accuracy: 0.0013\n",
      "\n",
      "Epoch 00001: loss improved from inf to 7.87547, saving model to nextword1.h5\n",
      "Epoch 2/150\n",
      "61/61 [==============================] - 1s 22ms/step - loss: 7.8601 - accuracy: 0.0041\n",
      "\n",
      "Epoch 00002: loss improved from 7.87547 to 7.86013, saving model to nextword1.h5\n",
      "Epoch 3/150\n",
      "61/61 [==============================] - 1s 20ms/step - loss: 7.8064 - accuracy: 0.0021\n",
      "\n",
      "Epoch 00003: loss improved from 7.86013 to 7.80642, saving model to nextword1.h5\n",
      "Epoch 4/150\n",
      "61/61 [==============================] - 1s 24ms/step - loss: 7.6136 - accuracy: 0.0018\n",
      "\n",
      "Epoch 00004: loss improved from 7.80642 to 7.61363, saving model to nextword1.h5\n",
      "Epoch 5/150\n",
      "61/61 [==============================] - 1s 23ms/step - loss: 7.4108 - accuracy: 0.0023\n",
      "\n",
      "Epoch 00005: loss improved from 7.61363 to 7.41077, saving model to nextword1.h5\n",
      "Epoch 6/150\n",
      "61/61 [==============================] - 1s 22ms/step - loss: 7.2434 - accuracy: 0.0033\n",
      "\n",
      "Epoch 00006: loss improved from 7.41077 to 7.24344, saving model to nextword1.h5\n",
      "Epoch 7/150\n",
      "61/61 [==============================] - 12s 202ms/step - loss: 7.1300 - accuracy: 0.0023\n",
      "\n",
      "Epoch 00007: loss improved from 7.24344 to 7.12998, saving model to nextword1.h5\n",
      "Epoch 8/150\n",
      "61/61 [==============================] - 3s 52ms/step - loss: 7.0316 - accuracy: 0.0033\n",
      "\n",
      "Epoch 00008: loss improved from 7.12998 to 7.03157, saving model to nextword1.h5\n",
      "Epoch 9/150\n",
      "61/61 [==============================] - 1s 21ms/step - loss: 6.8966 - accuracy: 0.0031\n",
      "\n",
      "Epoch 00009: loss improved from 7.03157 to 6.89656, saving model to nextword1.h5\n",
      "Epoch 10/150\n",
      "61/61 [==============================] - 1s 22ms/step - loss: 6.7019 - accuracy: 0.0036\n",
      "\n",
      "Epoch 00010: loss improved from 6.89656 to 6.70195, saving model to nextword1.h5\n",
      "Epoch 11/150\n",
      "61/61 [==============================] - 10s 167ms/step - loss: 6.4603 - accuracy: 0.0046\n",
      "\n",
      "Epoch 00011: loss improved from 6.70195 to 6.46035, saving model to nextword1.h5\n",
      "Epoch 12/150\n",
      "61/61 [==============================] - 5s 87ms/step - loss: 6.2239 - accuracy: 0.0075\n",
      "\n",
      "Epoch 00012: loss improved from 6.46035 to 6.22386, saving model to nextword1.h5\n",
      "Epoch 13/150\n",
      "61/61 [==============================] - 5s 86ms/step - loss: 6.0118 - accuracy: 0.0100\n",
      "\n",
      "Epoch 00013: loss improved from 6.22386 to 6.01175, saving model to nextword1.h5\n",
      "Epoch 14/150\n",
      "61/61 [==============================] - 5s 86ms/step - loss: 5.8096 - accuracy: 0.0121\n",
      "\n",
      "Epoch 00014: loss improved from 6.01175 to 5.80963, saving model to nextword1.h5\n",
      "Epoch 15/150\n",
      "61/61 [==============================] - 5s 87ms/step - loss: 5.6357 - accuracy: 0.0152\n",
      "\n",
      "Epoch 00015: loss improved from 5.80963 to 5.63573, saving model to nextword1.h5\n",
      "Epoch 16/150\n",
      "61/61 [==============================] - 5s 86ms/step - loss: 5.4659 - accuracy: 0.0206\n",
      "\n",
      "Epoch 00016: loss improved from 5.63573 to 5.46587, saving model to nextword1.h5\n",
      "Epoch 17/150\n",
      "61/61 [==============================] - 2s 36ms/step - loss: 5.3431 - accuracy: 0.0221\n",
      "\n",
      "Epoch 00017: loss improved from 5.46587 to 5.34312, saving model to nextword1.h5\n",
      "Epoch 18/150\n",
      "61/61 [==============================] - 1s 23ms/step - loss: 5.2029 - accuracy: 0.0260\n",
      "\n",
      "Epoch 00018: loss improved from 5.34312 to 5.20290, saving model to nextword1.h5\n",
      "Epoch 19/150\n",
      "61/61 [==============================] - 1s 20ms/step - loss: 5.0869 - accuracy: 0.0288\n",
      "\n",
      "Epoch 00019: loss improved from 5.20290 to 5.08695, saving model to nextword1.h5\n",
      "Epoch 20/150\n",
      "61/61 [==============================] - 1s 20ms/step - loss: 4.9755 - accuracy: 0.0275\n",
      "\n",
      "Epoch 00020: loss improved from 5.08695 to 4.97549, saving model to nextword1.h5\n",
      "Epoch 21/150\n",
      "61/61 [==============================] - 1s 23ms/step - loss: 4.8626 - accuracy: 0.0350\n",
      "\n",
      "Epoch 00021: loss improved from 4.97549 to 4.86262, saving model to nextword1.h5\n",
      "Epoch 22/150\n",
      "61/61 [==============================] - 12s 202ms/step - loss: 4.7833 - accuracy: 0.0378\n",
      "\n",
      "Epoch 00022: loss improved from 4.86262 to 4.78334, saving model to nextword1.h5\n",
      "Epoch 23/150\n",
      "61/61 [==============================] - 3s 55ms/step - loss: 4.6812 - accuracy: 0.0378\n",
      "\n",
      "Epoch 00023: loss improved from 4.78334 to 4.68123, saving model to nextword1.h5\n",
      "Epoch 24/150\n",
      "61/61 [==============================] - 1s 20ms/step - loss: 4.6145 - accuracy: 0.0383\n",
      "\n",
      "Epoch 00024: loss improved from 4.68123 to 4.61455, saving model to nextword1.h5\n",
      "Epoch 25/150\n",
      "61/61 [==============================] - 1s 22ms/step - loss: 4.5598 - accuracy: 0.0447\n",
      "\n",
      "Epoch 00025: loss improved from 4.61455 to 4.55983, saving model to nextword1.h5\n",
      "Epoch 26/150\n",
      "61/61 [==============================] - 1s 20ms/step - loss: 4.4907 - accuracy: 0.0399\n",
      "\n",
      "Epoch 00026: loss improved from 4.55983 to 4.49074, saving model to nextword1.h5\n",
      "Epoch 27/150\n",
      "61/61 [==============================] - 3s 51ms/step - loss: 4.4152 - accuracy: 0.0499\n",
      "\n",
      "Epoch 00027: loss improved from 4.49074 to 4.41523, saving model to nextword1.h5\n",
      "Epoch 28/150\n",
      "61/61 [==============================] - 5s 86ms/step - loss: 4.3499 - accuracy: 0.0507\n",
      "\n",
      "Epoch 00028: loss improved from 4.41523 to 4.34993, saving model to nextword1.h5\n",
      "Epoch 29/150\n",
      "61/61 [==============================] - 5s 87ms/step - loss: 4.2903 - accuracy: 0.0545\n",
      "\n",
      "Epoch 00029: loss improved from 4.34993 to 4.29029, saving model to nextword1.h5\n",
      "Epoch 30/150\n",
      "61/61 [==============================] - 1s 23ms/step - loss: 4.2532 - accuracy: 0.0589\n",
      "\n",
      "Epoch 00030: loss improved from 4.29029 to 4.25324, saving model to nextword1.h5\n",
      "Epoch 31/150\n",
      "61/61 [==============================] - 1s 20ms/step - loss: 4.2560 - accuracy: 0.0504\n",
      "\n",
      "Epoch 00031: loss did not improve from 4.25324\n",
      "Epoch 32/150\n",
      "61/61 [==============================] - 1s 21ms/step - loss: 4.1697 - accuracy: 0.0550\n",
      "\n",
      "Epoch 00032: loss improved from 4.25324 to 4.16967, saving model to nextword1.h5\n",
      "Epoch 33/150\n",
      "61/61 [==============================] - 1s 24ms/step - loss: 4.0844 - accuracy: 0.0635\n",
      "\n",
      "Epoch 00033: loss improved from 4.16967 to 4.08444, saving model to nextword1.h5\n",
      "Epoch 34/150\n",
      "61/61 [==============================] - 1s 23ms/step - loss: 4.0320 - accuracy: 0.0676\n",
      "\n",
      "Epoch 00034: loss improved from 4.08444 to 4.03199, saving model to nextword1.h5\n",
      "Epoch 35/150\n",
      "61/61 [==============================] - 1s 24ms/step - loss: 3.9937 - accuracy: 0.0759 0s\n",
      "\n",
      "Epoch 00035: loss improved from 4.03199 to 3.99365, saving model to nextword1.h5\n",
      "Epoch 36/150\n",
      "61/61 [==============================] - 1s 20ms/step - loss: 3.9382 - accuracy: 0.0730\n",
      "\n",
      "Epoch 00036: loss improved from 3.99365 to 3.93817, saving model to nextword1.h5\n",
      "Epoch 37/150\n",
      "61/61 [==============================] - 1s 23ms/step - loss: 3.9036 - accuracy: 0.0789\n",
      "\n",
      "Epoch 00037: loss improved from 3.93817 to 3.90359, saving model to nextword1.h5\n",
      "Epoch 38/150\n",
      "61/61 [==============================] - 1s 21ms/step - loss: 3.8902 - accuracy: 0.0828\n",
      "\n",
      "Epoch 00038: loss improved from 3.90359 to 3.89023, saving model to nextword1.h5\n",
      "Epoch 39/150\n",
      "61/61 [==============================] - 1s 22ms/step - loss: 3.8381 - accuracy: 0.0810 0s - loss: 3.6\n",
      "\n",
      "Epoch 00039: loss improved from 3.89023 to 3.83805, saving model to nextword1.h5\n",
      "Epoch 40/150\n",
      "61/61 [==============================] - 1s 21ms/step - loss: 3.7853 - accuracy: 0.0838\n",
      "\n",
      "Epoch 00040: loss improved from 3.83805 to 3.78534, saving model to nextword1.h5\n",
      "Epoch 41/150\n",
      "61/61 [==============================] - 1s 21ms/step - loss: 3.7432 - accuracy: 0.0854\n",
      "\n",
      "Epoch 00041: loss improved from 3.78534 to 3.74320, saving model to nextword1.h5\n",
      "Epoch 42/150\n",
      "61/61 [==============================] - 1s 23ms/step - loss: 3.6818 - accuracy: 0.0918\n",
      "\n",
      "Epoch 00042: loss improved from 3.74320 to 3.68183, saving model to nextword1.h5\n",
      "Epoch 43/150\n",
      "61/61 [==============================] - 1s 22ms/step - loss: 3.6313 - accuracy: 0.0939\n",
      "\n",
      "Epoch 00043: loss improved from 3.68183 to 3.63127, saving model to nextword1.h5\n",
      "Epoch 44/150\n",
      "61/61 [==============================] - 1s 23ms/step - loss: 3.5762 - accuracy: 0.0936\n",
      "\n",
      "Epoch 00044: loss improved from 3.63127 to 3.57621, saving model to nextword1.h5\n",
      "Epoch 45/150\n",
      "61/61 [==============================] - 1s 20ms/step - loss: 3.5392 - accuracy: 0.1124\n",
      "\n",
      "Epoch 00045: loss improved from 3.57621 to 3.53920, saving model to nextword1.h5\n"
     ]
    },
    {
     "name": "stdout",
     "output_type": "stream",
     "text": [
      "Epoch 46/150\n",
      "61/61 [==============================] - 1s 23ms/step - loss: 3.4596 - accuracy: 0.1152\n",
      "\n",
      "Epoch 00046: loss improved from 3.53920 to 3.45961, saving model to nextword1.h5\n",
      "Epoch 47/150\n",
      "61/61 [==============================] - 1s 20ms/step - loss: 3.3992 - accuracy: 0.1288\n",
      "\n",
      "Epoch 00047: loss improved from 3.45961 to 3.39924, saving model to nextword1.h5\n",
      "Epoch 48/150\n",
      "61/61 [==============================] - 1s 19ms/step - loss: 3.3366 - accuracy: 0.1337\n",
      "\n",
      "Epoch 00048: loss improved from 3.39924 to 3.33659, saving model to nextword1.h5\n",
      "Epoch 49/150\n",
      "61/61 [==============================] - 1s 21ms/step - loss: 3.2561 - accuracy: 0.1463\n",
      "\n",
      "Epoch 00049: loss improved from 3.33659 to 3.25609, saving model to nextword1.h5\n",
      "Epoch 50/150\n",
      "61/61 [==============================] - 1s 23ms/step - loss: 3.2032 - accuracy: 0.1437\n",
      "\n",
      "Epoch 00050: loss improved from 3.25609 to 3.20324, saving model to nextword1.h5\n",
      "Epoch 51/150\n",
      "61/61 [==============================] - 1s 23ms/step - loss: 3.1114 - accuracy: 0.1628\n",
      "\n",
      "Epoch 00051: loss improved from 3.20324 to 3.11143, saving model to nextword1.h5\n",
      "Epoch 52/150\n",
      "61/61 [==============================] - 1s 23ms/step - loss: 3.0413 - accuracy: 0.1677\n",
      "\n",
      "Epoch 00052: loss improved from 3.11143 to 3.04128, saving model to nextword1.h5\n",
      "Epoch 53/150\n",
      "61/61 [==============================] - 1s 21ms/step - loss: 2.9527 - accuracy: 0.1808\n",
      "\n",
      "Epoch 00053: loss improved from 3.04128 to 2.95271, saving model to nextword1.h5\n",
      "Epoch 54/150\n",
      "61/61 [==============================] - 1s 21ms/step - loss: 2.8841 - accuracy: 0.1988\n",
      "\n",
      "Epoch 00054: loss improved from 2.95271 to 2.88410, saving model to nextword1.h5\n",
      "Epoch 55/150\n",
      "61/61 [==============================] - 1s 24ms/step - loss: 2.8208 - accuracy: 0.2021\n",
      "\n",
      "Epoch 00055: loss improved from 2.88410 to 2.82079, saving model to nextword1.h5\n",
      "Epoch 56/150\n",
      "61/61 [==============================] - 1s 20ms/step - loss: 2.7677 - accuracy: 0.2088\n",
      "\n",
      "Epoch 00056: loss improved from 2.82079 to 2.76769, saving model to nextword1.h5\n",
      "Epoch 57/150\n",
      "61/61 [==============================] - 1s 23ms/step - loss: 2.6778 - accuracy: 0.2206\n",
      "\n",
      "Epoch 00057: loss improved from 2.76769 to 2.67777, saving model to nextword1.h5\n",
      "Epoch 58/150\n",
      "61/61 [==============================] - 1s 21ms/step - loss: 2.6346 - accuracy: 0.2281\n",
      "\n",
      "Epoch 00058: loss improved from 2.67777 to 2.63457, saving model to nextword1.h5\n",
      "Epoch 59/150\n",
      "61/61 [==============================] - 1s 20ms/step - loss: 2.5856 - accuracy: 0.2474\n",
      "\n",
      "Epoch 00059: loss improved from 2.63457 to 2.58558, saving model to nextword1.h5\n",
      "Epoch 60/150\n",
      "61/61 [==============================] - 1s 22ms/step - loss: 2.5220 - accuracy: 0.2494\n",
      "\n",
      "Epoch 00060: loss improved from 2.58558 to 2.52202, saving model to nextword1.h5\n",
      "Epoch 61/150\n",
      "61/61 [==============================] - 1s 22ms/step - loss: 2.4775 - accuracy: 0.2535\n",
      "\n",
      "Epoch 00061: loss improved from 2.52202 to 2.47748, saving model to nextword1.h5\n",
      "Epoch 62/150\n",
      "61/61 [==============================] - 1s 20ms/step - loss: 2.4052 - accuracy: 0.2710\n",
      "\n",
      "Epoch 00062: loss improved from 2.47748 to 2.40521, saving model to nextword1.h5\n",
      "Epoch 63/150\n",
      "61/61 [==============================] - 3s 46ms/step - loss: 2.3866 - accuracy: 0.2710\n",
      "\n",
      "Epoch 00063: loss improved from 2.40521 to 2.38660, saving model to nextword1.h5\n",
      "Epoch 64/150\n",
      "61/61 [==============================] - 4s 69ms/step - loss: 2.3671 - accuracy: 0.2756\n",
      "\n",
      "Epoch 00064: loss improved from 2.38660 to 2.36712, saving model to nextword1.h5\n",
      "Epoch 65/150\n",
      "61/61 [==============================] - 1s 23ms/step - loss: 2.2830 - accuracy: 0.2836\n",
      "\n",
      "Epoch 00065: loss improved from 2.36712 to 2.28296, saving model to nextword1.h5\n",
      "Epoch 66/150\n",
      "61/61 [==============================] - 1s 23ms/step - loss: 2.2214 - accuracy: 0.3093\n",
      "\n",
      "Epoch 00066: loss improved from 2.28296 to 2.22145, saving model to nextword1.h5\n",
      "Epoch 67/150\n",
      "61/61 [==============================] - 1s 24ms/step - loss: 2.2104 - accuracy: 0.3037\n",
      "\n",
      "Epoch 00067: loss improved from 2.22145 to 2.21039, saving model to nextword1.h5\n",
      "Epoch 68/150\n",
      "61/61 [==============================] - 1s 23ms/step - loss: 2.1699 - accuracy: 0.3109\n",
      "\n",
      "Epoch 00068: loss improved from 2.21039 to 2.16986, saving model to nextword1.h5\n",
      "Epoch 69/150\n",
      "61/61 [==============================] - 2s 34ms/step - loss: 2.0938 - accuracy: 0.3340\n",
      "\n",
      "Epoch 00069: loss improved from 2.16986 to 2.09378, saving model to nextword1.h5\n",
      "Epoch 70/150\n",
      "61/61 [==============================] - 5s 88ms/step - loss: 2.0912 - accuracy: 0.3392\n",
      "\n",
      "Epoch 00070: loss improved from 2.09378 to 2.09119, saving model to nextword1.h5\n",
      "Epoch 71/150\n",
      "61/61 [==============================] - 2s 34ms/step - loss: 2.0582 - accuracy: 0.3417\n",
      "\n",
      "Epoch 00071: loss improved from 2.09119 to 2.05822, saving model to nextword1.h5\n",
      "Epoch 72/150\n",
      "61/61 [==============================] - 3s 44ms/step - loss: 2.0275 - accuracy: 0.3330\n",
      "\n",
      "Epoch 00072: loss improved from 2.05822 to 2.02745, saving model to nextword1.h5\n",
      "Epoch 73/150\n",
      "61/61 [==============================] - 5s 86ms/step - loss: 1.9829 - accuracy: 0.3520\n",
      "\n",
      "Epoch 00073: loss improved from 2.02745 to 1.98285, saving model to nextword1.h5\n",
      "Epoch 74/150\n",
      "61/61 [==============================] - 5s 87ms/step - loss: 1.9366 - accuracy: 0.3638\n",
      "\n",
      "Epoch 00074: loss improved from 1.98285 to 1.93664, saving model to nextword1.h5\n",
      "Epoch 75/150\n",
      "61/61 [==============================] - 2s 32ms/step - loss: 1.8981 - accuracy: 0.3772\n",
      "\n",
      "Epoch 00075: loss improved from 1.93664 to 1.89812, saving model to nextword1.h5\n",
      "Epoch 76/150\n",
      "61/61 [==============================] - 1s 20ms/step - loss: 1.8629 - accuracy: 0.3836\n",
      "\n",
      "Epoch 00076: loss improved from 1.89812 to 1.86290, saving model to nextword1.h5\n",
      "Epoch 77/150\n",
      "61/61 [==============================] - 1s 21ms/step - loss: 1.8404 - accuracy: 0.3872\n",
      "\n",
      "Epoch 00077: loss improved from 1.86290 to 1.84037, saving model to nextword1.h5\n",
      "Epoch 78/150\n",
      "61/61 [==============================] - 1s 20ms/step - loss: 1.8170 - accuracy: 0.3998\n",
      "\n",
      "Epoch 00078: loss improved from 1.84037 to 1.81696, saving model to nextword1.h5\n",
      "Epoch 79/150\n",
      "61/61 [==============================] - 1s 20ms/step - loss: 1.7618 - accuracy: 0.4189\n",
      "\n",
      "Epoch 00079: loss improved from 1.81696 to 1.76178, saving model to nextword1.h5\n",
      "Epoch 80/150\n",
      "61/61 [==============================] - 1s 20ms/step - loss: 1.7462 - accuracy: 0.4130\n",
      "\n",
      "Epoch 00080: loss improved from 1.76178 to 1.74625, saving model to nextword1.h5\n",
      "Epoch 81/150\n",
      "61/61 [==============================] - 1s 21ms/step - loss: 1.7160 - accuracy: 0.4248\n",
      "\n",
      "Epoch 00081: loss improved from 1.74625 to 1.71603, saving model to nextword1.h5\n",
      "Epoch 82/150\n",
      "61/61 [==============================] - 1s 20ms/step - loss: 1.6880 - accuracy: 0.4258\n",
      "\n",
      "Epoch 00082: loss improved from 1.71603 to 1.68800, saving model to nextword1.h5\n",
      "Epoch 83/150\n",
      "61/61 [==============================] - 1s 19ms/step - loss: 1.6482 - accuracy: 0.4400\n",
      "\n",
      "Epoch 00083: loss improved from 1.68800 to 1.64818, saving model to nextword1.h5\n",
      "Epoch 84/150\n",
      "61/61 [==============================] - 1s 24ms/step - loss: 1.6290 - accuracy: 0.4459\n",
      "\n",
      "Epoch 00084: loss improved from 1.64818 to 1.62896, saving model to nextword1.h5\n",
      "Epoch 85/150\n",
      "61/61 [==============================] - 1s 23ms/step - loss: 1.5749 - accuracy: 0.4618\n",
      "\n",
      "Epoch 00085: loss improved from 1.62896 to 1.57494, saving model to nextword1.h5\n",
      "Epoch 86/150\n",
      "61/61 [==============================] - 3s 54ms/step - loss: 1.5317 - accuracy: 0.4775\n",
      "\n",
      "Epoch 00086: loss improved from 1.57494 to 1.53171, saving model to nextword1.h5\n",
      "Epoch 87/150\n",
      "61/61 [==============================] - 5s 87ms/step - loss: 1.5223 - accuracy: 0.4752\n",
      "\n",
      "Epoch 00087: loss improved from 1.53171 to 1.52231, saving model to nextword1.h5\n",
      "Epoch 88/150\n",
      "61/61 [==============================] - 5s 86ms/step - loss: 1.4849 - accuracy: 0.4916\n",
      "\n",
      "Epoch 00088: loss improved from 1.52231 to 1.48487, saving model to nextword1.h5\n",
      "Epoch 89/150\n",
      "61/61 [==============================] - 2s 29ms/step - loss: 1.4684 - accuracy: 0.4911\n",
      "\n",
      "Epoch 00089: loss improved from 1.48487 to 1.46839, saving model to nextword1.h5\n",
      "Epoch 90/150\n",
      "61/61 [==============================] - 1s 20ms/step - loss: 1.4657 - accuracy: 0.4950\n",
      "\n",
      "Epoch 00090: loss improved from 1.46839 to 1.46567, saving model to nextword1.h5\n"
     ]
    },
    {
     "name": "stdout",
     "output_type": "stream",
     "text": [
      "Epoch 91/150\n",
      "61/61 [==============================] - 1s 22ms/step - loss: 1.4394 - accuracy: 0.4932\n",
      "\n",
      "Epoch 00091: loss improved from 1.46567 to 1.43937, saving model to nextword1.h5\n",
      "Epoch 92/150\n",
      "61/61 [==============================] - 1s 21ms/step - loss: 1.4281 - accuracy: 0.5058\n",
      "\n",
      "Epoch 00092: loss improved from 1.43937 to 1.42806, saving model to nextword1.h5\n",
      "Epoch 93/150\n",
      "61/61 [==============================] - 1s 19ms/step - loss: 1.4034 - accuracy: 0.5019\n",
      "\n",
      "Epoch 00093: loss improved from 1.42806 to 1.40338, saving model to nextword1.h5\n",
      "Epoch 94/150\n",
      "61/61 [==============================] - 1s 19ms/step - loss: 1.3758 - accuracy: 0.5148\n",
      "\n",
      "Epoch 00094: loss improved from 1.40338 to 1.37579, saving model to nextword1.h5\n",
      "Epoch 95/150\n",
      "61/61 [==============================] - 1s 23ms/step - loss: 1.3653 - accuracy: 0.5192\n",
      "\n",
      "Epoch 00095: loss improved from 1.37579 to 1.36530, saving model to nextword1.h5\n",
      "Epoch 96/150\n",
      "61/61 [==============================] - 1s 21ms/step - loss: 1.3511 - accuracy: 0.5189\n",
      "\n",
      "Epoch 00096: loss improved from 1.36530 to 1.35108, saving model to nextword1.h5\n",
      "Epoch 97/150\n",
      "61/61 [==============================] - 1s 23ms/step - loss: 1.3412 - accuracy: 0.5248\n",
      "\n",
      "Epoch 00097: loss improved from 1.35108 to 1.34122, saving model to nextword1.h5\n",
      "Epoch 98/150\n",
      "61/61 [==============================] - 1s 23ms/step - loss: 1.3045 - accuracy: 0.5392\n",
      "\n",
      "Epoch 00098: loss improved from 1.34122 to 1.30447, saving model to nextword1.h5\n",
      "Epoch 99/150\n",
      "61/61 [==============================] - 1s 21ms/step - loss: 1.2792 - accuracy: 0.5436\n",
      "\n",
      "Epoch 00099: loss improved from 1.30447 to 1.27918, saving model to nextword1.h5\n",
      "Epoch 100/150\n",
      "61/61 [==============================] - 1s 21ms/step - loss: 1.2263 - accuracy: 0.5477 0s - loss: 1.1153 - \n",
      "\n",
      "Epoch 00100: loss improved from 1.27918 to 1.22632, saving model to nextword1.h5\n",
      "Epoch 101/150\n",
      "61/61 [==============================] - 4s 63ms/step - loss: 1.2273 - accuracy: 0.5492\n",
      "\n",
      "Epoch 00101: loss did not improve from 1.22632\n",
      "Epoch 102/150\n",
      "61/61 [==============================] - 5s 86ms/step - loss: 1.2252 - accuracy: 0.5521\n",
      "\n",
      "Epoch 00102: loss improved from 1.22632 to 1.22519, saving model to nextword1.h5\n",
      "Epoch 103/150\n",
      "61/61 [==============================] - 5s 86ms/step - loss: 1.1984 - accuracy: 0.5518\n",
      "\n",
      "Epoch 00103: loss improved from 1.22519 to 1.19842, saving model to nextword1.h5\n",
      "Epoch 104/150\n",
      "61/61 [==============================] - 5s 86ms/step - loss: 1.1826 - accuracy: 0.5580\n",
      "\n",
      "Epoch 00104: loss improved from 1.19842 to 1.18262, saving model to nextword1.h5\n",
      "Epoch 105/150\n",
      "61/61 [==============================] - 5s 86ms/step - loss: 1.1648 - accuracy: 0.5629\n",
      "\n",
      "Epoch 00105: loss improved from 1.18262 to 1.16478, saving model to nextword1.h5\n",
      "Epoch 106/150\n",
      "61/61 [==============================] - 3s 48ms/step - loss: 1.1608 - accuracy: 0.5500\n",
      "\n",
      "Epoch 00106: loss improved from 1.16478 to 1.16084, saving model to nextword1.h5\n",
      "Epoch 107/150\n",
      "61/61 [==============================] - 1s 23ms/step - loss: 1.1646 - accuracy: 0.5557\n",
      "\n",
      "Epoch 00107: loss did not improve from 1.16084\n",
      "Epoch 108/150\n",
      "61/61 [==============================] - 3s 44ms/step - loss: 1.1599 - accuracy: 0.5536\n",
      "\n",
      "Epoch 00108: loss improved from 1.16084 to 1.15990, saving model to nextword1.h5\n",
      "Epoch 109/150\n",
      "61/61 [==============================] - 4s 70ms/step - loss: 1.1541 - accuracy: 0.5613\n",
      "\n",
      "Epoch 00109: loss improved from 1.15990 to 1.15413, saving model to nextword1.h5\n",
      "Epoch 110/150\n",
      "61/61 [==============================] - 1s 21ms/step - loss: 1.1499 - accuracy: 0.5500\n",
      "\n",
      "Epoch 00110: loss improved from 1.15413 to 1.14994, saving model to nextword1.h5\n",
      "Epoch 111/150\n",
      "61/61 [==============================] - 1s 20ms/step - loss: 1.1206 - accuracy: 0.5647\n",
      "\n",
      "Epoch 00111: loss improved from 1.14994 to 1.12062, saving model to nextword1.h5\n",
      "Epoch 112/150\n",
      "61/61 [==============================] - 1s 23ms/step - loss: 1.1346 - accuracy: 0.5585\n",
      "\n",
      "Epoch 00112: loss did not improve from 1.12062\n",
      "Epoch 113/150\n",
      "61/61 [==============================] - 1s 20ms/step - loss: 1.1190 - accuracy: 0.5626\n",
      "\n",
      "Epoch 00113: loss improved from 1.12062 to 1.11905, saving model to nextword1.h5\n",
      "Epoch 114/150\n",
      "61/61 [==============================] - 1s 22ms/step - loss: 1.1193 - accuracy: 0.5626 0s - loss: 0.9\n",
      "\n",
      "Epoch 00114: loss did not improve from 1.11905\n",
      "Epoch 115/150\n",
      "61/61 [==============================] - 1s 21ms/step - loss: 1.1305 - accuracy: 0.5577\n",
      "\n",
      "Epoch 00115: loss did not improve from 1.11905\n",
      "Epoch 116/150\n",
      "61/61 [==============================] - 1s 20ms/step - loss: 1.1154 - accuracy: 0.5580\n",
      "\n",
      "Epoch 00116: loss improved from 1.11905 to 1.11541, saving model to nextword1.h5\n",
      "Epoch 117/150\n",
      "61/61 [==============================] - 1s 23ms/step - loss: 1.1140 - accuracy: 0.5580\n",
      "\n",
      "Epoch 00117: loss improved from 1.11541 to 1.11396, saving model to nextword1.h5\n",
      "Epoch 118/150\n",
      "61/61 [==============================] - 1s 20ms/step - loss: 1.1204 - accuracy: 0.5523\n",
      "\n",
      "Epoch 00118: loss did not improve from 1.11396\n",
      "Epoch 119/150\n",
      "61/61 [==============================] - 1s 23ms/step - loss: 1.1417 - accuracy: 0.5436\n",
      "\n",
      "Epoch 00119: loss did not improve from 1.11396\n",
      "Epoch 120/150\n",
      "61/61 [==============================] - 1s 23ms/step - loss: 1.1546 - accuracy: 0.5464\n",
      "\n",
      "Epoch 00120: loss did not improve from 1.11396\n",
      "\n",
      "Epoch 00120: ReduceLROnPlateau reducing learning rate to 0.00020000000949949026.\n",
      "Epoch 121/150\n",
      "61/61 [==============================] - 1s 23ms/step - loss: 0.8572 - accuracy: 0.6171\n",
      "\n",
      "Epoch 00121: loss improved from 1.11396 to 0.85717, saving model to nextword1.h5\n",
      "Epoch 122/150\n",
      "61/61 [==============================] - 1s 23ms/step - loss: 0.7587 - accuracy: 0.6192\n",
      "\n",
      "Epoch 00122: loss improved from 0.85717 to 0.75873, saving model to nextword1.h5\n",
      "Epoch 123/150\n",
      "61/61 [==============================] - 1s 23ms/step - loss: 0.7289 - accuracy: 0.6102\n",
      "\n",
      "Epoch 00123: loss improved from 0.75873 to 0.72885, saving model to nextword1.h5\n",
      "Epoch 124/150\n",
      "61/61 [==============================] - 1s 21ms/step - loss: 0.7148 - accuracy: 0.5937\n",
      "\n",
      "Epoch 00124: loss improved from 0.72885 to 0.71481, saving model to nextword1.h5\n",
      "Epoch 125/150\n",
      "61/61 [==============================] - 1s 23ms/step - loss: 0.7075 - accuracy: 0.5829\n",
      "\n",
      "Epoch 00125: loss improved from 0.71481 to 0.70751, saving model to nextword1.h5\n",
      "Epoch 126/150\n",
      "61/61 [==============================] - 1s 20ms/step - loss: 0.7033 - accuracy: 0.5837\n",
      "\n",
      "Epoch 00126: loss improved from 0.70751 to 0.70333, saving model to nextword1.h5\n",
      "Epoch 127/150\n",
      "61/61 [==============================] - 3s 45ms/step - loss: 0.7005 - accuracy: 0.5806\n",
      "\n",
      "Epoch 00127: loss improved from 0.70333 to 0.70047, saving model to nextword1.h5\n",
      "Epoch 128/150\n",
      "61/61 [==============================] - 5s 86ms/step - loss: 0.6956 - accuracy: 0.5765\n",
      "\n",
      "Epoch 00128: loss improved from 0.70047 to 0.69559, saving model to nextword1.h5\n",
      "Epoch 129/150\n",
      "61/61 [==============================] - 5s 86ms/step - loss: 0.6939 - accuracy: 0.5804\n",
      "\n",
      "Epoch 00129: loss improved from 0.69559 to 0.69390, saving model to nextword1.h5\n",
      "Epoch 130/150\n",
      "61/61 [==============================] - 5s 87ms/step - loss: 0.6943 - accuracy: 0.5816\n",
      "\n",
      "Epoch 00130: loss did not improve from 0.69390\n",
      "Epoch 131/150\n",
      "61/61 [==============================] - 3s 45ms/step - loss: 0.6910 - accuracy: 0.5822\n",
      "\n",
      "Epoch 00131: loss improved from 0.69390 to 0.69103, saving model to nextword1.h5\n",
      "Epoch 132/150\n",
      "61/61 [==============================] - 1s 20ms/step - loss: 0.6929 - accuracy: 0.5778\n",
      "\n",
      "Epoch 00132: loss did not improve from 0.69103\n",
      "Epoch 133/150\n",
      "61/61 [==============================] - 1s 20ms/step - loss: 0.6897 - accuracy: 0.5783\n",
      "\n",
      "Epoch 00133: loss improved from 0.69103 to 0.68969, saving model to nextword1.h5\n",
      "Epoch 134/150\n",
      "61/61 [==============================] - 1s 19ms/step - loss: 0.6885 - accuracy: 0.5822\n",
      "\n",
      "Epoch 00134: loss improved from 0.68969 to 0.68854, saving model to nextword1.h5\n",
      "Epoch 135/150\n",
      "61/61 [==============================] - 1s 20ms/step - loss: 0.6911 - accuracy: 0.5798\n",
      "\n",
      "Epoch 00135: loss did not improve from 0.68854\n",
      "Epoch 136/150\n",
      "61/61 [==============================] - 1s 19ms/step - loss: 0.6906 - accuracy: 0.5724\n",
      "\n",
      "Epoch 00136: loss did not improve from 0.68854\n",
      "Epoch 137/150\n",
      "61/61 [==============================] - 5s 87ms/step - loss: 0.6894 - accuracy: 0.5755\n",
      "\n",
      "Epoch 00137: loss did not improve from 0.68854\n",
      "\n",
      "Epoch 00137: ReduceLROnPlateau reducing learning rate to 0.0001.\n",
      "Epoch 138/150\n",
      "61/61 [==============================] - 1s 21ms/step - loss: 0.6476 - accuracy: 0.5906\n",
      "\n",
      "Epoch 00138: loss improved from 0.68854 to 0.64765, saving model to nextword1.h5\n",
      "Epoch 139/150\n",
      "61/61 [==============================] - 1s 21ms/step - loss: 0.6444 - accuracy: 0.5840\n",
      "\n",
      "Epoch 00139: loss improved from 0.64765 to 0.64444, saving model to nextword1.h5\n",
      "Epoch 140/150\n",
      "61/61 [==============================] - 1s 20ms/step - loss: 0.6438 - accuracy: 0.5783\n",
      "\n",
      "Epoch 00140: loss improved from 0.64444 to 0.64382, saving model to nextword1.h5\n",
      "Epoch 141/150\n",
      "61/61 [==============================] - 1s 20ms/step - loss: 0.6441 - accuracy: 0.5804\n",
      "\n",
      "Epoch 00141: loss did not improve from 0.64382\n",
      "Epoch 142/150\n",
      "61/61 [==============================] - 1s 20ms/step - loss: 0.6434 - accuracy: 0.5788\n",
      "\n",
      "Epoch 00142: loss improved from 0.64382 to 0.64339, saving model to nextword1.h5\n",
      "Epoch 143/150\n",
      "61/61 [==============================] - 1s 20ms/step - loss: 0.6427 - accuracy: 0.5770\n",
      "\n",
      "Epoch 00143: loss improved from 0.64339 to 0.64275, saving model to nextword1.h5\n",
      "Epoch 144/150\n",
      "61/61 [==============================] - 1s 20ms/step - loss: 0.6424 - accuracy: 0.5739\n",
      "\n",
      "Epoch 00144: loss improved from 0.64275 to 0.64243, saving model to nextword1.h5\n",
      "Epoch 145/150\n",
      "61/61 [==============================] - 4s 63ms/step - loss: 0.6423 - accuracy: 0.5721\n",
      "\n",
      "Epoch 00145: loss improved from 0.64243 to 0.64228, saving model to nextword1.h5\n",
      "Epoch 146/150\n",
      "61/61 [==============================] - 5s 87ms/step - loss: 0.6406 - accuracy: 0.5840\n",
      "\n",
      "Epoch 00146: loss improved from 0.64228 to 0.64055, saving model to nextword1.h5\n",
      "Epoch 147/150\n",
      "61/61 [==============================] - 3s 53ms/step - loss: 0.6410 - accuracy: 0.5780\n",
      "\n",
      "Epoch 00147: loss did not improve from 0.64055\n",
      "Epoch 148/150\n",
      "61/61 [==============================] - 1s 19ms/step - loss: 0.6410 - accuracy: 0.5770\n",
      "\n",
      "Epoch 00148: loss did not improve from 0.64055\n",
      "Epoch 149/150\n",
      "61/61 [==============================] - 1s 20ms/step - loss: 0.6414 - accuracy: 0.5816\n",
      "\n",
      "Epoch 00149: loss did not improve from 0.64055\n",
      "Epoch 150/150\n",
      "61/61 [==============================] - 5s 84ms/step - loss: 0.6391 - accuracy: 0.5842\n",
      "\n",
      "Epoch 00150: loss improved from 0.64055 to 0.63906, saving model to nextword1.h5\n"
     ]
    },
    {
     "data": {
      "text/plain": [
       "<tensorflow.python.keras.callbacks.History at 0x1d136e14d00>"
      ]
     },
     "execution_count": 22,
     "metadata": {},
     "output_type": "execute_result"
    }
   ],
   "source": [
    "model.fit(X, y, epochs=150, batch_size=64, callbacks=[checkpoint])"
   ]
  },
  {
   "cell_type": "code",
   "execution_count": null,
   "metadata": {},
   "outputs": [],
   "source": []
  },
  {
   "cell_type": "markdown",
   "metadata": {},
   "source": [
    "### Prediction\n"
   ]
  },
  {
   "cell_type": "code",
   "execution_count": 24,
   "metadata": {},
   "outputs": [],
   "source": [
    "# Importing the Libraries\n",
    "\n",
    "from tensorflow.keras.models import load_model\n",
    "import numpy as np\n",
    "import pickle\n",
    "\n",
    "# Load the model and tokenizer\n",
    "\n",
    "model = load_model('nextword1.h5')\n",
    "tokenizer = pickle.load(open('tokenizer1.pkl', 'rb'))\n",
    "\n",
    "def Predict_Next_Words(model, tokenizer, text):\n",
    "    for i in range(3):\n",
    "        sequence = tokenizer.texts_to_sequences([text])[0]\n",
    "        sequence = np.array(sequence)\n",
    "        \n",
    "        preds = model.predict_classes(sequence)\n",
    "        print(preds)\n",
    "        predicted_word = \"\"\n",
    "        \n",
    "        for key, value in tokenizer.word_index.items():\n",
    "            if value == preds:\n",
    "                predicted_word = key\n",
    "                break\n",
    "        \n",
    "        print(predicted_word)\n",
    "        return predicted_word"
   ]
  },
  {
   "cell_type": "code",
   "execution_count": 25,
   "metadata": {},
   "outputs": [
    {
     "name": "stdout",
     "output_type": "stream",
     "text": [
      "Enter your line: collection of textile\n"
     ]
    },
    {
     "name": "stderr",
     "output_type": "stream",
     "text": [
      "C:\\Users\\SOUMYA\\.conda\\envs\\tf_gpu\\lib\\site-packages\\tensorflow\\python\\keras\\engine\\sequential.py:455: UserWarning: `model.predict_classes()` is deprecated and will be removed after 2021-01-01. Please use instead:* `np.argmax(model.predict(x), axis=-1)`,   if your model does multi-class classification   (e.g. if it uses a `softmax` last-layer activation).* `(model.predict(x) > 0.5).astype(\"int32\")`,   if your model does binary classification   (e.g. if it uses a `sigmoid` last-layer activation).\n",
      "  warnings.warn('`model.predict_classes()` is deprecated and '\n"
     ]
    },
    {
     "name": "stdout",
     "output_type": "stream",
     "text": [
      "[763]\n",
      "samples\n",
      "Enter your line: stop the script\n",
      "Ending The Program.....\n"
     ]
    }
   ],
   "source": [
    "while(True):\n",
    "\n",
    "    text = input(\"Enter your line: \")\n",
    "    \n",
    "    if text == \"stop the script\":\n",
    "        print(\"Ending The Program.....\")\n",
    "        break\n",
    "    \n",
    "    else:\n",
    "        try:\n",
    "            text = text.split(\" \")\n",
    "            text = text[-1]\n",
    "\n",
    "            text = ''.join(text)\n",
    "            Predict_Next_Words(model, tokenizer, text)\n",
    "            \n",
    "        except:\n",
    "            continue"
   ]
  },
  {
   "cell_type": "code",
   "execution_count": null,
   "metadata": {},
   "outputs": [],
   "source": []
  }
 ],
 "metadata": {
  "kernelspec": {
   "display_name": "Python 3 (ipykernel)",
   "language": "python",
   "name": "python3"
  },
  "language_info": {
   "codemirror_mode": {
    "name": "ipython",
    "version": 3
   },
   "file_extension": ".py",
   "mimetype": "text/x-python",
   "name": "python",
   "nbconvert_exporter": "python",
   "pygments_lexer": "ipython3",
   "version": "3.9.7"
  }
 },
 "nbformat": 4,
 "nbformat_minor": 2
}
