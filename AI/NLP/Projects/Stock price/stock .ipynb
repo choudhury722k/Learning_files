{
 "cells": [
  {
   "cell_type": "markdown",
   "id": "684b9de3",
   "metadata": {},
   "source": [
    "### Stock data "
   ]
  },
  {
   "cell_type": "code",
   "execution_count": 1,
   "id": "b8e8f274",
   "metadata": {},
   "outputs": [],
   "source": [
    "import pandas as pd\n",
    "import numpy as np\n",
    "import matplotlib.pyplot as plt\n",
    "from sklearn import preprocessing"
   ]
  },
  {
   "cell_type": "code",
   "execution_count": 2,
   "id": "59317fce",
   "metadata": {},
   "outputs": [
    {
     "name": "stdout",
     "output_type": "stream",
     "text": [
      "[*********************100%***********************]  1 of 1 completed\n"
     ]
    },
    {
     "data": {
      "text/html": [
       "<div>\n",
       "<style scoped>\n",
       "    .dataframe tbody tr th:only-of-type {\n",
       "        vertical-align: middle;\n",
       "    }\n",
       "\n",
       "    .dataframe tbody tr th {\n",
       "        vertical-align: top;\n",
       "    }\n",
       "\n",
       "    .dataframe thead th {\n",
       "        text-align: right;\n",
       "    }\n",
       "</style>\n",
       "<table border=\"1\" class=\"dataframe\">\n",
       "  <thead>\n",
       "    <tr style=\"text-align: right;\">\n",
       "      <th></th>\n",
       "      <th>Open</th>\n",
       "      <th>High</th>\n",
       "      <th>Low</th>\n",
       "      <th>Close</th>\n",
       "      <th>Adj Close</th>\n",
       "      <th>Volume</th>\n",
       "    </tr>\n",
       "    <tr>\n",
       "      <th>Date</th>\n",
       "      <th></th>\n",
       "      <th></th>\n",
       "      <th></th>\n",
       "      <th></th>\n",
       "      <th></th>\n",
       "      <th></th>\n",
       "    </tr>\n",
       "  </thead>\n",
       "  <tbody>\n",
       "    <tr>\n",
       "      <th>2001-01-02</th>\n",
       "      <td>3953.219971</td>\n",
       "      <td>4028.570068</td>\n",
       "      <td>3929.370117</td>\n",
       "      <td>4018.879883</td>\n",
       "      <td>4018.879883</td>\n",
       "      <td>0</td>\n",
       "    </tr>\n",
       "    <tr>\n",
       "      <th>2001-01-03</th>\n",
       "      <td>3977.580078</td>\n",
       "      <td>4067.659912</td>\n",
       "      <td>3977.580078</td>\n",
       "      <td>4060.020020</td>\n",
       "      <td>4060.020020</td>\n",
       "      <td>0</td>\n",
       "    </tr>\n",
       "    <tr>\n",
       "      <th>2001-01-04</th>\n",
       "      <td>4180.970215</td>\n",
       "      <td>4180.970215</td>\n",
       "      <td>4109.549805</td>\n",
       "      <td>4115.370117</td>\n",
       "      <td>4115.370117</td>\n",
       "      <td>0</td>\n",
       "    </tr>\n",
       "    <tr>\n",
       "      <th>2001-01-05</th>\n",
       "      <td>4116.339844</td>\n",
       "      <td>4195.009766</td>\n",
       "      <td>4115.350098</td>\n",
       "      <td>4183.729980</td>\n",
       "      <td>4183.729980</td>\n",
       "      <td>0</td>\n",
       "    </tr>\n",
       "    <tr>\n",
       "      <th>2001-01-08</th>\n",
       "      <td>4164.759766</td>\n",
       "      <td>4206.720215</td>\n",
       "      <td>4101.529785</td>\n",
       "      <td>4120.430176</td>\n",
       "      <td>4120.430176</td>\n",
       "      <td>0</td>\n",
       "    </tr>\n",
       "    <tr>\n",
       "      <th>...</th>\n",
       "      <td>...</td>\n",
       "      <td>...</td>\n",
       "      <td>...</td>\n",
       "      <td>...</td>\n",
       "      <td>...</td>\n",
       "      <td>...</td>\n",
       "    </tr>\n",
       "    <tr>\n",
       "      <th>2020-10-28</th>\n",
       "      <td>40664.351562</td>\n",
       "      <td>40664.351562</td>\n",
       "      <td>39774.601562</td>\n",
       "      <td>39922.460938</td>\n",
       "      <td>39922.460938</td>\n",
       "      <td>29400</td>\n",
       "    </tr>\n",
       "    <tr>\n",
       "      <th>2020-10-29</th>\n",
       "      <td>39537.171875</td>\n",
       "      <td>40010.828125</td>\n",
       "      <td>39524.250000</td>\n",
       "      <td>39749.851562</td>\n",
       "      <td>39749.851562</td>\n",
       "      <td>19500</td>\n",
       "    </tr>\n",
       "    <tr>\n",
       "      <th>2020-10-30</th>\n",
       "      <td>39779.820312</td>\n",
       "      <td>39988.250000</td>\n",
       "      <td>39241.871094</td>\n",
       "      <td>39614.070312</td>\n",
       "      <td>39614.070312</td>\n",
       "      <td>12000</td>\n",
       "    </tr>\n",
       "    <tr>\n",
       "      <th>2020-11-02</th>\n",
       "      <td>39880.378906</td>\n",
       "      <td>39968.031250</td>\n",
       "      <td>39334.921875</td>\n",
       "      <td>39757.578125</td>\n",
       "      <td>39757.578125</td>\n",
       "      <td>15400</td>\n",
       "    </tr>\n",
       "    <tr>\n",
       "      <th>2020-11-03</th>\n",
       "      <td>39990.750000</td>\n",
       "      <td>40354.730469</td>\n",
       "      <td>39952.789062</td>\n",
       "      <td>40261.128906</td>\n",
       "      <td>40261.128906</td>\n",
       "      <td>21400</td>\n",
       "    </tr>\n",
       "  </tbody>\n",
       "</table>\n",
       "<p>4888 rows × 6 columns</p>\n",
       "</div>"
      ],
      "text/plain": [
       "                    Open          High           Low         Close  \\\n",
       "Date                                                                 \n",
       "2001-01-02   3953.219971   4028.570068   3929.370117   4018.879883   \n",
       "2001-01-03   3977.580078   4067.659912   3977.580078   4060.020020   \n",
       "2001-01-04   4180.970215   4180.970215   4109.549805   4115.370117   \n",
       "2001-01-05   4116.339844   4195.009766   4115.350098   4183.729980   \n",
       "2001-01-08   4164.759766   4206.720215   4101.529785   4120.430176   \n",
       "...                  ...           ...           ...           ...   \n",
       "2020-10-28  40664.351562  40664.351562  39774.601562  39922.460938   \n",
       "2020-10-29  39537.171875  40010.828125  39524.250000  39749.851562   \n",
       "2020-10-30  39779.820312  39988.250000  39241.871094  39614.070312   \n",
       "2020-11-02  39880.378906  39968.031250  39334.921875  39757.578125   \n",
       "2020-11-03  39990.750000  40354.730469  39952.789062  40261.128906   \n",
       "\n",
       "               Adj Close  Volume  \n",
       "Date                              \n",
       "2001-01-02   4018.879883       0  \n",
       "2001-01-03   4060.020020       0  \n",
       "2001-01-04   4115.370117       0  \n",
       "2001-01-05   4183.729980       0  \n",
       "2001-01-08   4120.430176       0  \n",
       "...                  ...     ...  \n",
       "2020-10-28  39922.460938   29400  \n",
       "2020-10-29  39749.851562   19500  \n",
       "2020-10-30  39614.070312   12000  \n",
       "2020-11-02  39757.578125   15400  \n",
       "2020-11-03  40261.128906   21400  \n",
       "\n",
       "[4888 rows x 6 columns]"
      ]
     },
     "execution_count": 2,
     "metadata": {},
     "output_type": "execute_result"
    }
   ],
   "source": [
    "import yfinance as yf\n",
    "bse_data = yf.download('^BSESN', start='2001-1-01', end='2020-11-04')\n",
    "bse_data"
   ]
  },
  {
   "cell_type": "code",
   "execution_count": 3,
   "id": "da949309",
   "metadata": {},
   "outputs": [
    {
     "data": {
      "text/html": [
       "<div>\n",
       "<style scoped>\n",
       "    .dataframe tbody tr th:only-of-type {\n",
       "        vertical-align: middle;\n",
       "    }\n",
       "\n",
       "    .dataframe tbody tr th {\n",
       "        vertical-align: top;\n",
       "    }\n",
       "\n",
       "    .dataframe thead th {\n",
       "        text-align: right;\n",
       "    }\n",
       "</style>\n",
       "<table border=\"1\" class=\"dataframe\">\n",
       "  <thead>\n",
       "    <tr style=\"text-align: right;\">\n",
       "      <th></th>\n",
       "      <th>Open</th>\n",
       "      <th>High</th>\n",
       "      <th>Low</th>\n",
       "      <th>Close</th>\n",
       "      <th>Adj Close</th>\n",
       "      <th>Volume</th>\n",
       "    </tr>\n",
       "    <tr>\n",
       "      <th>Date</th>\n",
       "      <th></th>\n",
       "      <th></th>\n",
       "      <th></th>\n",
       "      <th></th>\n",
       "      <th></th>\n",
       "      <th></th>\n",
       "    </tr>\n",
       "  </thead>\n",
       "  <tbody>\n",
       "    <tr>\n",
       "      <th>2001-01-02</th>\n",
       "      <td>3953.219971</td>\n",
       "      <td>4028.570068</td>\n",
       "      <td>3929.370117</td>\n",
       "      <td>4018.879883</td>\n",
       "      <td>4018.879883</td>\n",
       "      <td>0</td>\n",
       "    </tr>\n",
       "    <tr>\n",
       "      <th>2001-01-03</th>\n",
       "      <td>3977.580078</td>\n",
       "      <td>4067.659912</td>\n",
       "      <td>3977.580078</td>\n",
       "      <td>4060.020020</td>\n",
       "      <td>4060.020020</td>\n",
       "      <td>0</td>\n",
       "    </tr>\n",
       "    <tr>\n",
       "      <th>2001-01-04</th>\n",
       "      <td>4180.970215</td>\n",
       "      <td>4180.970215</td>\n",
       "      <td>4109.549805</td>\n",
       "      <td>4115.370117</td>\n",
       "      <td>4115.370117</td>\n",
       "      <td>0</td>\n",
       "    </tr>\n",
       "    <tr>\n",
       "      <th>2001-01-05</th>\n",
       "      <td>4116.339844</td>\n",
       "      <td>4195.009766</td>\n",
       "      <td>4115.350098</td>\n",
       "      <td>4183.729980</td>\n",
       "      <td>4183.729980</td>\n",
       "      <td>0</td>\n",
       "    </tr>\n",
       "    <tr>\n",
       "      <th>2001-01-08</th>\n",
       "      <td>4164.759766</td>\n",
       "      <td>4206.720215</td>\n",
       "      <td>4101.529785</td>\n",
       "      <td>4120.430176</td>\n",
       "      <td>4120.430176</td>\n",
       "      <td>0</td>\n",
       "    </tr>\n",
       "    <tr>\n",
       "      <th>...</th>\n",
       "      <td>...</td>\n",
       "      <td>...</td>\n",
       "      <td>...</td>\n",
       "      <td>...</td>\n",
       "      <td>...</td>\n",
       "      <td>...</td>\n",
       "    </tr>\n",
       "    <tr>\n",
       "      <th>2020-10-28</th>\n",
       "      <td>40664.351562</td>\n",
       "      <td>40664.351562</td>\n",
       "      <td>39774.601562</td>\n",
       "      <td>39922.460938</td>\n",
       "      <td>39922.460938</td>\n",
       "      <td>29400</td>\n",
       "    </tr>\n",
       "    <tr>\n",
       "      <th>2020-10-29</th>\n",
       "      <td>39537.171875</td>\n",
       "      <td>40010.828125</td>\n",
       "      <td>39524.250000</td>\n",
       "      <td>39749.851562</td>\n",
       "      <td>39749.851562</td>\n",
       "      <td>19500</td>\n",
       "    </tr>\n",
       "    <tr>\n",
       "      <th>2020-10-30</th>\n",
       "      <td>39779.820312</td>\n",
       "      <td>39988.250000</td>\n",
       "      <td>39241.871094</td>\n",
       "      <td>39614.070312</td>\n",
       "      <td>39614.070312</td>\n",
       "      <td>12000</td>\n",
       "    </tr>\n",
       "    <tr>\n",
       "      <th>2020-11-02</th>\n",
       "      <td>39880.378906</td>\n",
       "      <td>39968.031250</td>\n",
       "      <td>39334.921875</td>\n",
       "      <td>39757.578125</td>\n",
       "      <td>39757.578125</td>\n",
       "      <td>15400</td>\n",
       "    </tr>\n",
       "    <tr>\n",
       "      <th>2020-11-03</th>\n",
       "      <td>39990.750000</td>\n",
       "      <td>40354.730469</td>\n",
       "      <td>39952.789062</td>\n",
       "      <td>40261.128906</td>\n",
       "      <td>40261.128906</td>\n",
       "      <td>21400</td>\n",
       "    </tr>\n",
       "  </tbody>\n",
       "</table>\n",
       "<p>4888 rows × 6 columns</p>\n",
       "</div>"
      ],
      "text/plain": [
       "                    Open          High           Low         Close  \\\n",
       "Date                                                                 \n",
       "2001-01-02   3953.219971   4028.570068   3929.370117   4018.879883   \n",
       "2001-01-03   3977.580078   4067.659912   3977.580078   4060.020020   \n",
       "2001-01-04   4180.970215   4180.970215   4109.549805   4115.370117   \n",
       "2001-01-05   4116.339844   4195.009766   4115.350098   4183.729980   \n",
       "2001-01-08   4164.759766   4206.720215   4101.529785   4120.430176   \n",
       "...                  ...           ...           ...           ...   \n",
       "2020-10-28  40664.351562  40664.351562  39774.601562  39922.460938   \n",
       "2020-10-29  39537.171875  40010.828125  39524.250000  39749.851562   \n",
       "2020-10-30  39779.820312  39988.250000  39241.871094  39614.070312   \n",
       "2020-11-02  39880.378906  39968.031250  39334.921875  39757.578125   \n",
       "2020-11-03  39990.750000  40354.730469  39952.789062  40261.128906   \n",
       "\n",
       "               Adj Close  Volume  \n",
       "Date                              \n",
       "2001-01-02   4018.879883       0  \n",
       "2001-01-03   4060.020020       0  \n",
       "2001-01-04   4115.370117       0  \n",
       "2001-01-05   4183.729980       0  \n",
       "2001-01-08   4120.430176       0  \n",
       "...                  ...     ...  \n",
       "2020-10-28  39922.460938   29400  \n",
       "2020-10-29  39749.851562   19500  \n",
       "2020-10-30  39614.070312   12000  \n",
       "2020-11-02  39757.578125   15400  \n",
       "2020-11-03  40261.128906   21400  \n",
       "\n",
       "[4888 rows x 6 columns]"
      ]
     },
     "execution_count": 3,
     "metadata": {},
     "output_type": "execute_result"
    }
   ],
   "source": [
    "bse_data"
   ]
  },
  {
   "cell_type": "code",
   "execution_count": 4,
   "id": "a9008c0f",
   "metadata": {},
   "outputs": [
    {
     "data": {
      "text/plain": [
       "(4888, 6)"
      ]
     },
     "execution_count": 4,
     "metadata": {},
     "output_type": "execute_result"
    }
   ],
   "source": [
    "bse_data.shape"
   ]
  },
  {
   "cell_type": "code",
   "execution_count": 5,
   "id": "269d1950",
   "metadata": {},
   "outputs": [
    {
     "data": {
      "text/plain": [
       "Open         0\n",
       "High         0\n",
       "Low          0\n",
       "Close        0\n",
       "Adj Close    0\n",
       "Volume       0\n",
       "dtype: int64"
      ]
     },
     "execution_count": 5,
     "metadata": {},
     "output_type": "execute_result"
    }
   ],
   "source": [
    "bse_data.isna().sum()"
   ]
  },
  {
   "cell_type": "markdown",
   "id": "e69b6ce8",
   "metadata": {},
   "source": [
    "Open price"
   ]
  },
  {
   "cell_type": "code",
   "execution_count": 6,
   "id": "b820652d",
   "metadata": {},
   "outputs": [],
   "source": [
    "import plotly.express as px\n",
    "import plotly.graph_objects as go"
   ]
  },
  {
   "cell_type": "code",
   "execution_count": 7,
   "id": "f67b38c5",
   "metadata": {},
   "outputs": [
    {
     "data": {
      "image/png": "[encoded data removed]",
      "text/plain": [
       "<Figure size 432x288 with 1 Axes>"
      ]
     },
     "metadata": {
      "needs_background": "light"
     },
     "output_type": "display_data"
    }
   ],
   "source": [
    "bse_data['Open'].plot()\n",
    "plt.title('Open Price')\n",
    "plt.xlabel('Date')\n",
    "plt.ylabel('Open Price')\n",
    "plt.show()"
   ]
  },
  {
   "cell_type": "markdown",
   "id": "6d6e38f3",
   "metadata": {},
   "source": [
    "Close price"
   ]
  },
  {
   "cell_type": "code",
   "execution_count": 8,
   "id": "c450c148",
   "metadata": {},
   "outputs": [
    {
     "data": {
      "image/png": "[encoded data removed]",
      "text/plain": [
       "<Figure size 432x288 with 1 Axes>"
      ]
     },
     "metadata": {
      "needs_background": "light"
     },
     "output_type": "display_data"
    }
   ],
   "source": [
    "bse_data['Close'].plot()\n",
    "plt.title('Close Price')\n",
    "plt.xlabel('Date')\n",
    "plt.ylabel('Close Price')\n",
    "plt.show()"
   ]
  },
  {
   "cell_type": "markdown",
   "id": "a269ac70",
   "metadata": {},
   "source": [
    "### Headlines Data "
   ]
  },
  {
   "cell_type": "code",
   "execution_count": 9,
   "id": "31d5fa02",
   "metadata": {},
   "outputs": [],
   "source": [
    "headlines = pd.read_csv('india-news-headlines.csv')"
   ]
  },
  {
   "cell_type": "code",
   "execution_count": 10,
   "id": "5613de3b",
   "metadata": {},
   "outputs": [
    {
     "data": {
      "text/plain": [
       "21585"
      ]
     },
     "execution_count": 10,
     "metadata": {},
     "output_type": "execute_result"
    }
   ],
   "source": [
    "headlines.duplicated().sum()"
   ]
  },
  {
   "cell_type": "code",
   "execution_count": 11,
   "id": "4dd82fcf",
   "metadata": {},
   "outputs": [
    {
     "data": {
      "text/html": [
       "<div>\n",
       "<style scoped>\n",
       "    .dataframe tbody tr th:only-of-type {\n",
       "        vertical-align: middle;\n",
       "    }\n",
       "\n",
       "    .dataframe tbody tr th {\n",
       "        vertical-align: top;\n",
       "    }\n",
       "\n",
       "    .dataframe thead th {\n",
       "        text-align: right;\n",
       "    }\n",
       "</style>\n",
       "<table border=\"1\" class=\"dataframe\">\n",
       "  <thead>\n",
       "    <tr style=\"text-align: right;\">\n",
       "      <th></th>\n",
       "      <th>publish_date</th>\n",
       "      <th>headline_category</th>\n",
       "      <th>headline_text</th>\n",
       "    </tr>\n",
       "  </thead>\n",
       "  <tbody>\n",
       "    <tr>\n",
       "      <th>0</th>\n",
       "      <td>20010101</td>\n",
       "      <td>sports.wwe</td>\n",
       "      <td>win over cena satisfying but defeating underta...</td>\n",
       "    </tr>\n",
       "    <tr>\n",
       "      <th>1</th>\n",
       "      <td>20010102</td>\n",
       "      <td>unknown</td>\n",
       "      <td>Status quo will not be disturbed at Ayodhya; s...</td>\n",
       "    </tr>\n",
       "    <tr>\n",
       "      <th>2</th>\n",
       "      <td>20010102</td>\n",
       "      <td>unknown</td>\n",
       "      <td>Fissures in Hurriyat over Pak visit</td>\n",
       "    </tr>\n",
       "    <tr>\n",
       "      <th>3</th>\n",
       "      <td>20010102</td>\n",
       "      <td>unknown</td>\n",
       "      <td>America's unwanted heading for India?</td>\n",
       "    </tr>\n",
       "    <tr>\n",
       "      <th>4</th>\n",
       "      <td>20010102</td>\n",
       "      <td>unknown</td>\n",
       "      <td>For bigwigs; it is destination Goa</td>\n",
       "    </tr>\n",
       "    <tr>\n",
       "      <th>...</th>\n",
       "      <td>...</td>\n",
       "      <td>...</td>\n",
       "      <td>...</td>\n",
       "    </tr>\n",
       "    <tr>\n",
       "      <th>3297167</th>\n",
       "      <td>20200630</td>\n",
       "      <td>gadgets-news</td>\n",
       "      <td>why tiktok removed 1 65 crore videos in india</td>\n",
       "    </tr>\n",
       "    <tr>\n",
       "      <th>3297168</th>\n",
       "      <td>20200630</td>\n",
       "      <td>entertainment.hindi.bollywood</td>\n",
       "      <td>apurva asrani calls alia bhatts mother soni ra...</td>\n",
       "    </tr>\n",
       "    <tr>\n",
       "      <th>3297169</th>\n",
       "      <td>20200630</td>\n",
       "      <td>entertainment.hindi.bollywood</td>\n",
       "      <td>kangana ranaut gets a doll version of herself ...</td>\n",
       "    </tr>\n",
       "    <tr>\n",
       "      <th>3297170</th>\n",
       "      <td>20200630</td>\n",
       "      <td>entertainment.hindi.bollywood</td>\n",
       "      <td>meezaan jaffrey reminisces his childhood days ...</td>\n",
       "    </tr>\n",
       "    <tr>\n",
       "      <th>3297171</th>\n",
       "      <td>20200630</td>\n",
       "      <td>entertainment.telugu.movies.news</td>\n",
       "      <td>prabhas20 titled as radhe shyam prabhas and po...</td>\n",
       "    </tr>\n",
       "  </tbody>\n",
       "</table>\n",
       "<p>3275587 rows × 3 columns</p>\n",
       "</div>"
      ],
      "text/plain": [
       "         publish_date                 headline_category  \\\n",
       "0            20010101                        sports.wwe   \n",
       "1            20010102                           unknown   \n",
       "2            20010102                           unknown   \n",
       "3            20010102                           unknown   \n",
       "4            20010102                           unknown   \n",
       "...               ...                               ...   \n",
       "3297167      20200630                      gadgets-news   \n",
       "3297168      20200630     entertainment.hindi.bollywood   \n",
       "3297169      20200630     entertainment.hindi.bollywood   \n",
       "3297170      20200630     entertainment.hindi.bollywood   \n",
       "3297171      20200630  entertainment.telugu.movies.news   \n",
       "\n",
       "                                             headline_text  \n",
       "0        win over cena satisfying but defeating underta...  \n",
       "1        Status quo will not be disturbed at Ayodhya; s...  \n",
       "2                      Fissures in Hurriyat over Pak visit  \n",
       "3                    America's unwanted heading for India?  \n",
       "4                       For bigwigs; it is destination Goa  \n",
       "...                                                    ...  \n",
       "3297167      why tiktok removed 1 65 crore videos in india  \n",
       "3297168  apurva asrani calls alia bhatts mother soni ra...  \n",
       "3297169  kangana ranaut gets a doll version of herself ...  \n",
       "3297170  meezaan jaffrey reminisces his childhood days ...  \n",
       "3297171  prabhas20 titled as radhe shyam prabhas and po...  \n",
       "\n",
       "[3275587 rows x 3 columns]"
      ]
     },
     "execution_count": 11,
     "metadata": {},
     "output_type": "execute_result"
    }
   ],
   "source": [
    "headlines = headlines.drop_duplicates()\n",
    "headlines"
   ]
  },
  {
   "cell_type": "code",
   "execution_count": 12,
   "id": "d3c9585d",
   "metadata": {},
   "outputs": [
    {
     "data": {
      "text/plain": [
       "publish_date         0\n",
       "headline_category    0\n",
       "headline_text        0\n",
       "dtype: int64"
      ]
     },
     "execution_count": 12,
     "metadata": {},
     "output_type": "execute_result"
    }
   ],
   "source": [
    "headlines.isnull().sum()"
   ]
  },
  {
   "cell_type": "code",
   "execution_count": 13,
   "id": "1b24dced",
   "metadata": {},
   "outputs": [],
   "source": [
    "headlines = headlines.filter(['publish_date','headline_text'])"
   ]
  },
  {
   "cell_type": "code",
   "execution_count": 14,
   "id": "df491ba5",
   "metadata": {},
   "outputs": [],
   "source": [
    "headlines['publish_date'] = headlines['publish_date'].astype(str)\n",
    "headlines['publish_date'] = headlines['publish_date'].apply(lambda x : x[0:4]+'-'+x[4:6]+'-'+x[6:])\n",
    "headlines['publish_date'] = pd.to_datetime(headlines['publish_date']).dt.normalize()"
   ]
  },
  {
   "cell_type": "code",
   "execution_count": 15,
   "id": "5681f2ad",
   "metadata": {},
   "outputs": [],
   "source": [
    "headlines = headlines.groupby('publish_date')['headline_text'].apply(lambda x : ''.join(x)).reset_index()\n",
    "headlines = headlines.rename(columns={\"publish_date\":\"Date\"})"
   ]
  },
  {
   "cell_type": "code",
   "execution_count": 16,
   "id": "9f248811",
   "metadata": {},
   "outputs": [
    {
     "data": {
      "text/html": [
       "<div>\n",
       "<style scoped>\n",
       "    .dataframe tbody tr th:only-of-type {\n",
       "        vertical-align: middle;\n",
       "    }\n",
       "\n",
       "    .dataframe tbody tr th {\n",
       "        vertical-align: top;\n",
       "    }\n",
       "\n",
       "    .dataframe thead th {\n",
       "        text-align: right;\n",
       "    }\n",
       "</style>\n",
       "<table border=\"1\" class=\"dataframe\">\n",
       "  <thead>\n",
       "    <tr style=\"text-align: right;\">\n",
       "      <th></th>\n",
       "      <th>headline_text</th>\n",
       "    </tr>\n",
       "    <tr>\n",
       "      <th>Date</th>\n",
       "      <th></th>\n",
       "    </tr>\n",
       "  </thead>\n",
       "  <tbody>\n",
       "    <tr>\n",
       "      <th>2001-01-01</th>\n",
       "      <td>win over cena satisfying but defeating underta...</td>\n",
       "    </tr>\n",
       "    <tr>\n",
       "      <th>2001-01-02</th>\n",
       "      <td>Status quo will not be disturbed at Ayodhya; s...</td>\n",
       "    </tr>\n",
       "    <tr>\n",
       "      <th>2001-01-03</th>\n",
       "      <td>Powerless north India gropes in the darkThink ...</td>\n",
       "    </tr>\n",
       "    <tr>\n",
       "      <th>2001-01-04</th>\n",
       "      <td>The string that pulled Stephen Hawking to Indi...</td>\n",
       "    </tr>\n",
       "    <tr>\n",
       "      <th>2001-01-05</th>\n",
       "      <td>Light combat craft takes India into club class...</td>\n",
       "    </tr>\n",
       "    <tr>\n",
       "      <th>...</th>\n",
       "      <td>...</td>\n",
       "    </tr>\n",
       "    <tr>\n",
       "      <th>2020-06-26</th>\n",
       "      <td>Containment zone residents slam high prices ch...</td>\n",
       "    </tr>\n",
       "    <tr>\n",
       "      <th>2020-06-27</th>\n",
       "      <td>like me i wont let you have a toxic relationsh...</td>\n",
       "    </tr>\n",
       "    <tr>\n",
       "      <th>2020-06-28</th>\n",
       "      <td>Atanu Ghosh plans to rewrite old scripts to ma...</td>\n",
       "    </tr>\n",
       "    <tr>\n",
       "      <th>2020-06-29</th>\n",
       "      <td>6 hot and stylish bikini looks of Katrina Kaif...</td>\n",
       "    </tr>\n",
       "    <tr>\n",
       "      <th>2020-06-30</th>\n",
       "      <td>Detective Byomkesh Bakshy!Edge of TomorrowFirs...</td>\n",
       "    </tr>\n",
       "  </tbody>\n",
       "</table>\n",
       "<p>7080 rows × 1 columns</p>\n",
       "</div>"
      ],
      "text/plain": [
       "                                                headline_text\n",
       "Date                                                         \n",
       "2001-01-01  win over cena satisfying but defeating underta...\n",
       "2001-01-02  Status quo will not be disturbed at Ayodhya; s...\n",
       "2001-01-03  Powerless north India gropes in the darkThink ...\n",
       "2001-01-04  The string that pulled Stephen Hawking to Indi...\n",
       "2001-01-05  Light combat craft takes India into club class...\n",
       "...                                                       ...\n",
       "2020-06-26  Containment zone residents slam high prices ch...\n",
       "2020-06-27  like me i wont let you have a toxic relationsh...\n",
       "2020-06-28  Atanu Ghosh plans to rewrite old scripts to ma...\n",
       "2020-06-29  6 hot and stylish bikini looks of Katrina Kaif...\n",
       "2020-06-30  Detective Byomkesh Bakshy!Edge of TomorrowFirs...\n",
       "\n",
       "[7080 rows x 1 columns]"
      ]
     },
     "execution_count": 16,
     "metadata": {},
     "output_type": "execute_result"
    }
   ],
   "source": [
    "headlines.set_index('Date',inplace=True)\n",
    "headlines.sort_index()"
   ]
  },
  {
   "cell_type": "code",
   "execution_count": 14,
   "id": "089ef53d",
   "metadata": {},
   "outputs": [
    {
     "ename": "NameError",
     "evalue": "name 'headlines' is not defined",
     "output_type": "error",
     "traceback": [
      "\u001b[1;31m---------------------------------------------------------------------------\u001b[0m",
      "\u001b[1;31mNameError\u001b[0m                                 Traceback (most recent call last)",
      "\u001b[1;32m~\\AppData\\Local\\Temp/ipykernel_15576/3758514786.py\u001b[0m in \u001b[0;36m<module>\u001b[1;34m\u001b[0m\n\u001b[0;32m      4\u001b[0m \u001b[0mstopwords\u001b[0m \u001b[1;33m=\u001b[0m \u001b[0mset\u001b[0m\u001b[1;33m(\u001b[0m\u001b[0mSTOPWORDS\u001b[0m\u001b[1;33m)\u001b[0m\u001b[1;33m\u001b[0m\u001b[1;33m\u001b[0m\u001b[0m\n\u001b[0;32m      5\u001b[0m \u001b[1;33m\u001b[0m\u001b[0m\n\u001b[1;32m----> 6\u001b[1;33m \u001b[1;32mfor\u001b[0m \u001b[0mval\u001b[0m \u001b[1;32min\u001b[0m \u001b[0mheadlines\u001b[0m\u001b[1;33m.\u001b[0m\u001b[0mheadline_text\u001b[0m\u001b[1;33m:\u001b[0m\u001b[1;33m\u001b[0m\u001b[1;33m\u001b[0m\u001b[0m\n\u001b[0m\u001b[0;32m      7\u001b[0m     \u001b[0mval\u001b[0m \u001b[1;33m=\u001b[0m \u001b[0mstr\u001b[0m\u001b[1;33m(\u001b[0m\u001b[0mval\u001b[0m\u001b[1;33m)\u001b[0m\u001b[1;33m\u001b[0m\u001b[1;33m\u001b[0m\u001b[0m\n\u001b[0;32m      8\u001b[0m     \u001b[0mtokens\u001b[0m \u001b[1;33m=\u001b[0m \u001b[0mval\u001b[0m\u001b[1;33m.\u001b[0m\u001b[0msplit\u001b[0m\u001b[1;33m(\u001b[0m\u001b[1;33m)\u001b[0m\u001b[1;33m\u001b[0m\u001b[1;33m\u001b[0m\u001b[0m\n",
      "\u001b[1;31mNameError\u001b[0m: name 'headlines' is not defined"
     ]
    }
   ],
   "source": [
    "import matplotlib.pyplot as plt\n",
    "from wordcloud import WordCloud, STOPWORDS\n",
    "comment_words = ' '\n",
    "stopwords = set(STOPWORDS)\n",
    "\n",
    "for val in headlines.headline_text: \n",
    "    val = str(val)\n",
    "    tokens = val.split() \n",
    "    for i in range(len(tokens)): \n",
    "        tokens[i] = tokens[i].lower() \n",
    "    for words in tokens: \n",
    "        comment_words = comment_words + words + ' '\n",
    "\n",
    "wordcloud = WordCloud(width = 1800, height = 1800, \n",
    "                background_color ='white', \n",
    "                stopwords = stopwords, \n",
    "                min_font_size = 10).generate(comment_words)\n",
    "\n",
    "plt.figure(figsize = (18, 18), facecolor = None) \n",
    "plt.imshow(wordcloud) \n",
    "plt.axis(\"off\") \n",
    "plt.tight_layout(pad = 0) \n",
    "\n",
    "plt.show() "
   ]
  },
  {
   "cell_type": "markdown",
   "id": "28225ec8",
   "metadata": {},
   "source": [
    "### Merging databases"
   ]
  },
  {
   "cell_type": "code",
   "execution_count": 17,
   "id": "27fa0923",
   "metadata": {},
   "outputs": [
    {
     "data": {
      "text/html": [
       "<div>\n",
       "<style scoped>\n",
       "    .dataframe tbody tr th:only-of-type {\n",
       "        vertical-align: middle;\n",
       "    }\n",
       "\n",
       "    .dataframe tbody tr th {\n",
       "        vertical-align: top;\n",
       "    }\n",
       "\n",
       "    .dataframe thead th {\n",
       "        text-align: right;\n",
       "    }\n",
       "</style>\n",
       "<table border=\"1\" class=\"dataframe\">\n",
       "  <thead>\n",
       "    <tr style=\"text-align: right;\">\n",
       "      <th></th>\n",
       "      <th>Open</th>\n",
       "      <th>High</th>\n",
       "      <th>Low</th>\n",
       "      <th>Close</th>\n",
       "      <th>Adj Close</th>\n",
       "      <th>Volume</th>\n",
       "      <th>headline_text</th>\n",
       "    </tr>\n",
       "    <tr>\n",
       "      <th>Date</th>\n",
       "      <th></th>\n",
       "      <th></th>\n",
       "      <th></th>\n",
       "      <th></th>\n",
       "      <th></th>\n",
       "      <th></th>\n",
       "      <th></th>\n",
       "    </tr>\n",
       "  </thead>\n",
       "  <tbody>\n",
       "    <tr>\n",
       "      <th>2001-01-02</th>\n",
       "      <td>3953.219971</td>\n",
       "      <td>4028.570068</td>\n",
       "      <td>3929.370117</td>\n",
       "      <td>4018.879883</td>\n",
       "      <td>4018.879883</td>\n",
       "      <td>0</td>\n",
       "      <td>Status quo will not be disturbed at Ayodhya; s...</td>\n",
       "    </tr>\n",
       "    <tr>\n",
       "      <th>2001-01-03</th>\n",
       "      <td>3977.580078</td>\n",
       "      <td>4067.659912</td>\n",
       "      <td>3977.580078</td>\n",
       "      <td>4060.020020</td>\n",
       "      <td>4060.020020</td>\n",
       "      <td>0</td>\n",
       "      <td>Powerless north India gropes in the darkThink ...</td>\n",
       "    </tr>\n",
       "    <tr>\n",
       "      <th>2001-01-04</th>\n",
       "      <td>4180.970215</td>\n",
       "      <td>4180.970215</td>\n",
       "      <td>4109.549805</td>\n",
       "      <td>4115.370117</td>\n",
       "      <td>4115.370117</td>\n",
       "      <td>0</td>\n",
       "      <td>The string that pulled Stephen Hawking to Indi...</td>\n",
       "    </tr>\n",
       "    <tr>\n",
       "      <th>2001-01-05</th>\n",
       "      <td>4116.339844</td>\n",
       "      <td>4195.009766</td>\n",
       "      <td>4115.350098</td>\n",
       "      <td>4183.729980</td>\n",
       "      <td>4183.729980</td>\n",
       "      <td>0</td>\n",
       "      <td>Light combat craft takes India into club class...</td>\n",
       "    </tr>\n",
       "    <tr>\n",
       "      <th>2001-01-08</th>\n",
       "      <td>4164.759766</td>\n",
       "      <td>4206.720215</td>\n",
       "      <td>4101.529785</td>\n",
       "      <td>4120.430176</td>\n",
       "      <td>4120.430176</td>\n",
       "      <td>0</td>\n",
       "      <td>Sangh Parivar; Babri panel up the anteFrontrun...</td>\n",
       "    </tr>\n",
       "    <tr>\n",
       "      <th>...</th>\n",
       "      <td>...</td>\n",
       "      <td>...</td>\n",
       "      <td>...</td>\n",
       "      <td>...</td>\n",
       "      <td>...</td>\n",
       "      <td>...</td>\n",
       "      <td>...</td>\n",
       "    </tr>\n",
       "    <tr>\n",
       "      <th>2020-06-24</th>\n",
       "      <td>35679.738281</td>\n",
       "      <td>35706.550781</td>\n",
       "      <td>34794.929688</td>\n",
       "      <td>34868.980469</td>\n",
       "      <td>34868.980469</td>\n",
       "      <td>26600</td>\n",
       "      <td>I never thought I had a voice until today: Vid...</td>\n",
       "    </tr>\n",
       "    <tr>\n",
       "      <th>2020-06-25</th>\n",
       "      <td>34525.390625</td>\n",
       "      <td>35081.609375</td>\n",
       "      <td>34499.781250</td>\n",
       "      <td>34842.101562</td>\n",
       "      <td>34842.101562</td>\n",
       "      <td>24600</td>\n",
       "      <td>Truck firms look for new export markets to sel...</td>\n",
       "    </tr>\n",
       "    <tr>\n",
       "      <th>2020-06-26</th>\n",
       "      <td>35144.781250</td>\n",
       "      <td>35254.878906</td>\n",
       "      <td>34910.339844</td>\n",
       "      <td>35171.269531</td>\n",
       "      <td>35171.269531</td>\n",
       "      <td>24800</td>\n",
       "      <td>Containment zone residents slam high prices ch...</td>\n",
       "    </tr>\n",
       "    <tr>\n",
       "      <th>2020-06-29</th>\n",
       "      <td>34926.949219</td>\n",
       "      <td>35032.359375</td>\n",
       "      <td>34662.058594</td>\n",
       "      <td>34961.519531</td>\n",
       "      <td>34961.519531</td>\n",
       "      <td>18300</td>\n",
       "      <td>6 hot and stylish bikini looks of Katrina Kaif...</td>\n",
       "    </tr>\n",
       "    <tr>\n",
       "      <th>2020-06-30</th>\n",
       "      <td>35168.300781</td>\n",
       "      <td>35233.910156</td>\n",
       "      <td>34812.800781</td>\n",
       "      <td>34915.800781</td>\n",
       "      <td>34915.800781</td>\n",
       "      <td>18500</td>\n",
       "      <td>Detective Byomkesh Bakshy!Edge of TomorrowFirs...</td>\n",
       "    </tr>\n",
       "  </tbody>\n",
       "</table>\n",
       "<p>4771 rows × 7 columns</p>\n",
       "</div>"
      ],
      "text/plain": [
       "                    Open          High           Low         Close  \\\n",
       "Date                                                                 \n",
       "2001-01-02   3953.219971   4028.570068   3929.370117   4018.879883   \n",
       "2001-01-03   3977.580078   4067.659912   3977.580078   4060.020020   \n",
       "2001-01-04   4180.970215   4180.970215   4109.549805   4115.370117   \n",
       "2001-01-05   4116.339844   4195.009766   4115.350098   4183.729980   \n",
       "2001-01-08   4164.759766   4206.720215   4101.529785   4120.430176   \n",
       "...                  ...           ...           ...           ...   \n",
       "2020-06-24  35679.738281  35706.550781  34794.929688  34868.980469   \n",
       "2020-06-25  34525.390625  35081.609375  34499.781250  34842.101562   \n",
       "2020-06-26  35144.781250  35254.878906  34910.339844  35171.269531   \n",
       "2020-06-29  34926.949219  35032.359375  34662.058594  34961.519531   \n",
       "2020-06-30  35168.300781  35233.910156  34812.800781  34915.800781   \n",
       "\n",
       "               Adj Close  Volume  \\\n",
       "Date                               \n",
       "2001-01-02   4018.879883       0   \n",
       "2001-01-03   4060.020020       0   \n",
       "2001-01-04   4115.370117       0   \n",
       "2001-01-05   4183.729980       0   \n",
       "2001-01-08   4120.430176       0   \n",
       "...                  ...     ...   \n",
       "2020-06-24  34868.980469   26600   \n",
       "2020-06-25  34842.101562   24600   \n",
       "2020-06-26  35171.269531   24800   \n",
       "2020-06-29  34961.519531   18300   \n",
       "2020-06-30  34915.800781   18500   \n",
       "\n",
       "                                                headline_text  \n",
       "Date                                                           \n",
       "2001-01-02  Status quo will not be disturbed at Ayodhya; s...  \n",
       "2001-01-03  Powerless north India gropes in the darkThink ...  \n",
       "2001-01-04  The string that pulled Stephen Hawking to Indi...  \n",
       "2001-01-05  Light combat craft takes India into club class...  \n",
       "2001-01-08  Sangh Parivar; Babri panel up the anteFrontrun...  \n",
       "...                                                       ...  \n",
       "2020-06-24  I never thought I had a voice until today: Vid...  \n",
       "2020-06-25  Truck firms look for new export markets to sel...  \n",
       "2020-06-26  Containment zone residents slam high prices ch...  \n",
       "2020-06-29  6 hot and stylish bikini looks of Katrina Kaif...  \n",
       "2020-06-30  Detective Byomkesh Bakshy!Edge of TomorrowFirs...  \n",
       "\n",
       "[4771 rows x 7 columns]"
      ]
     },
     "execution_count": 17,
     "metadata": {},
     "output_type": "execute_result"
    }
   ],
   "source": [
    "df_merge_col = pd.merge(bse_data, headlines, on='Date')\n",
    "df_merge_col"
   ]
  },
  {
   "cell_type": "markdown",
   "id": "447f7213",
   "metadata": {},
   "source": [
    "### Sentiment Analysis"
   ]
  },
  {
   "cell_type": "code",
   "execution_count": 18,
   "id": "243e2a10",
   "metadata": {},
   "outputs": [],
   "source": [
    "import nltk\n",
    "from nltk.sentiment.vader import SentimentIntensityAnalyzer"
   ]
  },
  {
   "cell_type": "code",
   "execution_count": 19,
   "id": "9304f062",
   "metadata": {},
   "outputs": [
    {
     "data": {
      "text/html": [
       "<div>\n",
       "<style scoped>\n",
       "    .dataframe tbody tr th:only-of-type {\n",
       "        vertical-align: middle;\n",
       "    }\n",
       "\n",
       "    .dataframe tbody tr th {\n",
       "        vertical-align: top;\n",
       "    }\n",
       "\n",
       "    .dataframe thead th {\n",
       "        text-align: right;\n",
       "    }\n",
       "</style>\n",
       "<table border=\"1\" class=\"dataframe\">\n",
       "  <thead>\n",
       "    <tr style=\"text-align: right;\">\n",
       "      <th></th>\n",
       "      <th>Open</th>\n",
       "      <th>High</th>\n",
       "      <th>Low</th>\n",
       "      <th>Close</th>\n",
       "      <th>Adj Close</th>\n",
       "      <th>Volume</th>\n",
       "      <th>headline_text</th>\n",
       "      <th>compound</th>\n",
       "    </tr>\n",
       "    <tr>\n",
       "      <th>Date</th>\n",
       "      <th></th>\n",
       "      <th></th>\n",
       "      <th></th>\n",
       "      <th></th>\n",
       "      <th></th>\n",
       "      <th></th>\n",
       "      <th></th>\n",
       "      <th></th>\n",
       "    </tr>\n",
       "  </thead>\n",
       "  <tbody>\n",
       "    <tr>\n",
       "      <th>2001-01-02</th>\n",
       "      <td>3953.219971</td>\n",
       "      <td>4028.570068</td>\n",
       "      <td>3929.370117</td>\n",
       "      <td>4018.879883</td>\n",
       "      <td>4018.879883</td>\n",
       "      <td>0</td>\n",
       "      <td>Status quo will not be disturbed at Ayodhya; s...</td>\n",
       "      <td>-0.9621</td>\n",
       "    </tr>\n",
       "    <tr>\n",
       "      <th>2001-01-03</th>\n",
       "      <td>3977.580078</td>\n",
       "      <td>4067.659912</td>\n",
       "      <td>3977.580078</td>\n",
       "      <td>4060.020020</td>\n",
       "      <td>4060.020020</td>\n",
       "      <td>0</td>\n",
       "      <td>Powerless north India gropes in the darkThink ...</td>\n",
       "      <td>0.6322</td>\n",
       "    </tr>\n",
       "    <tr>\n",
       "      <th>2001-01-04</th>\n",
       "      <td>4180.970215</td>\n",
       "      <td>4180.970215</td>\n",
       "      <td>4109.549805</td>\n",
       "      <td>4115.370117</td>\n",
       "      <td>4115.370117</td>\n",
       "      <td>0</td>\n",
       "      <td>The string that pulled Stephen Hawking to Indi...</td>\n",
       "      <td>0.6648</td>\n",
       "    </tr>\n",
       "    <tr>\n",
       "      <th>2001-01-05</th>\n",
       "      <td>4116.339844</td>\n",
       "      <td>4195.009766</td>\n",
       "      <td>4115.350098</td>\n",
       "      <td>4183.729980</td>\n",
       "      <td>4183.729980</td>\n",
       "      <td>0</td>\n",
       "      <td>Light combat craft takes India into club class...</td>\n",
       "      <td>0.9253</td>\n",
       "    </tr>\n",
       "    <tr>\n",
       "      <th>2001-01-08</th>\n",
       "      <td>4164.759766</td>\n",
       "      <td>4206.720215</td>\n",
       "      <td>4101.529785</td>\n",
       "      <td>4120.430176</td>\n",
       "      <td>4120.430176</td>\n",
       "      <td>0</td>\n",
       "      <td>Sangh Parivar; Babri panel up the anteFrontrun...</td>\n",
       "      <td>-0.9638</td>\n",
       "    </tr>\n",
       "  </tbody>\n",
       "</table>\n",
       "</div>"
      ],
      "text/plain": [
       "                   Open         High          Low        Close    Adj Close  \\\n",
       "Date                                                                          \n",
       "2001-01-02  3953.219971  4028.570068  3929.370117  4018.879883  4018.879883   \n",
       "2001-01-03  3977.580078  4067.659912  3977.580078  4060.020020  4060.020020   \n",
       "2001-01-04  4180.970215  4180.970215  4109.549805  4115.370117  4115.370117   \n",
       "2001-01-05  4116.339844  4195.009766  4115.350098  4183.729980  4183.729980   \n",
       "2001-01-08  4164.759766  4206.720215  4101.529785  4120.430176  4120.430176   \n",
       "\n",
       "            Volume                                      headline_text  \\\n",
       "Date                                                                    \n",
       "2001-01-02       0  Status quo will not be disturbed at Ayodhya; s...   \n",
       "2001-01-03       0  Powerless north India gropes in the darkThink ...   \n",
       "2001-01-04       0  The string that pulled Stephen Hawking to Indi...   \n",
       "2001-01-05       0  Light combat craft takes India into club class...   \n",
       "2001-01-08       0  Sangh Parivar; Babri panel up the anteFrontrun...   \n",
       "\n",
       "            compound  \n",
       "Date                  \n",
       "2001-01-02   -0.9621  \n",
       "2001-01-03    0.6322  \n",
       "2001-01-04    0.6648  \n",
       "2001-01-05    0.9253  \n",
       "2001-01-08   -0.9638  "
      ]
     },
     "execution_count": 19,
     "metadata": {},
     "output_type": "execute_result"
    }
   ],
   "source": [
    "analyzer = SentimentIntensityAnalyzer()\n",
    "df_merge_col['compound'] = [analyzer.polarity_scores(x)['compound'] for x in df_merge_col['headline_text']]\n",
    "df_merge_col.head(5)"
   ]
  },
  {
   "cell_type": "code",
   "execution_count": 20,
   "id": "47e74b07",
   "metadata": {},
   "outputs": [
    {
     "data": {
      "text/html": [
       "<div>\n",
       "<style scoped>\n",
       "    .dataframe tbody tr th:only-of-type {\n",
       "        vertical-align: middle;\n",
       "    }\n",
       "\n",
       "    .dataframe tbody tr th {\n",
       "        vertical-align: top;\n",
       "    }\n",
       "\n",
       "    .dataframe thead th {\n",
       "        text-align: right;\n",
       "    }\n",
       "</style>\n",
       "<table border=\"1\" class=\"dataframe\">\n",
       "  <thead>\n",
       "    <tr style=\"text-align: right;\">\n",
       "      <th></th>\n",
       "      <th>Open</th>\n",
       "      <th>High</th>\n",
       "      <th>Low</th>\n",
       "      <th>Close</th>\n",
       "      <th>Adj Close</th>\n",
       "      <th>Volume</th>\n",
       "      <th>compound</th>\n",
       "    </tr>\n",
       "    <tr>\n",
       "      <th>Date</th>\n",
       "      <th></th>\n",
       "      <th></th>\n",
       "      <th></th>\n",
       "      <th></th>\n",
       "      <th></th>\n",
       "      <th></th>\n",
       "      <th></th>\n",
       "    </tr>\n",
       "  </thead>\n",
       "  <tbody>\n",
       "    <tr>\n",
       "      <th>2001-01-02</th>\n",
       "      <td>3953.219971</td>\n",
       "      <td>4028.570068</td>\n",
       "      <td>3929.370117</td>\n",
       "      <td>4018.879883</td>\n",
       "      <td>4018.879883</td>\n",
       "      <td>0</td>\n",
       "      <td>-0.9621</td>\n",
       "    </tr>\n",
       "    <tr>\n",
       "      <th>2001-01-03</th>\n",
       "      <td>3977.580078</td>\n",
       "      <td>4067.659912</td>\n",
       "      <td>3977.580078</td>\n",
       "      <td>4060.020020</td>\n",
       "      <td>4060.020020</td>\n",
       "      <td>0</td>\n",
       "      <td>0.6322</td>\n",
       "    </tr>\n",
       "    <tr>\n",
       "      <th>2001-01-04</th>\n",
       "      <td>4180.970215</td>\n",
       "      <td>4180.970215</td>\n",
       "      <td>4109.549805</td>\n",
       "      <td>4115.370117</td>\n",
       "      <td>4115.370117</td>\n",
       "      <td>0</td>\n",
       "      <td>0.6648</td>\n",
       "    </tr>\n",
       "    <tr>\n",
       "      <th>2001-01-05</th>\n",
       "      <td>4116.339844</td>\n",
       "      <td>4195.009766</td>\n",
       "      <td>4115.350098</td>\n",
       "      <td>4183.729980</td>\n",
       "      <td>4183.729980</td>\n",
       "      <td>0</td>\n",
       "      <td>0.9253</td>\n",
       "    </tr>\n",
       "    <tr>\n",
       "      <th>2001-01-08</th>\n",
       "      <td>4164.759766</td>\n",
       "      <td>4206.720215</td>\n",
       "      <td>4101.529785</td>\n",
       "      <td>4120.430176</td>\n",
       "      <td>4120.430176</td>\n",
       "      <td>0</td>\n",
       "      <td>-0.9638</td>\n",
       "    </tr>\n",
       "    <tr>\n",
       "      <th>2001-01-09</th>\n",
       "      <td>4114.740234</td>\n",
       "      <td>4166.839844</td>\n",
       "      <td>4101.009766</td>\n",
       "      <td>4125.310059</td>\n",
       "      <td>4125.310059</td>\n",
       "      <td>0</td>\n",
       "      <td>-0.9559</td>\n",
       "    </tr>\n",
       "    <tr>\n",
       "      <th>2001-01-10</th>\n",
       "      <td>4151.580078</td>\n",
       "      <td>4155.859863</td>\n",
       "      <td>4035.439941</td>\n",
       "      <td>4047.639893</td>\n",
       "      <td>4047.639893</td>\n",
       "      <td>0</td>\n",
       "      <td>-0.5719</td>\n",
       "    </tr>\n",
       "    <tr>\n",
       "      <th>2001-01-11</th>\n",
       "      <td>4066.129883</td>\n",
       "      <td>4077.540039</td>\n",
       "      <td>4006.540039</td>\n",
       "      <td>4027.129883</td>\n",
       "      <td>4027.129883</td>\n",
       "      <td>0</td>\n",
       "      <td>0.0000</td>\n",
       "    </tr>\n",
       "    <tr>\n",
       "      <th>2001-01-23</th>\n",
       "      <td>4277.830078</td>\n",
       "      <td>4321.750000</td>\n",
       "      <td>4272.870117</td>\n",
       "      <td>4296.689941</td>\n",
       "      <td>4296.689941</td>\n",
       "      <td>0</td>\n",
       "      <td>0.9295</td>\n",
       "    </tr>\n",
       "    <tr>\n",
       "      <th>2001-01-24</th>\n",
       "      <td>4320.509766</td>\n",
       "      <td>4339.410156</td>\n",
       "      <td>4295.709961</td>\n",
       "      <td>4326.419922</td>\n",
       "      <td>4326.419922</td>\n",
       "      <td>0</td>\n",
       "      <td>-0.9039</td>\n",
       "    </tr>\n",
       "    <tr>\n",
       "      <th>2001-01-25</th>\n",
       "      <td>4327.839844</td>\n",
       "      <td>4341.330078</td>\n",
       "      <td>4273.700195</td>\n",
       "      <td>4330.220215</td>\n",
       "      <td>4330.220215</td>\n",
       "      <td>0</td>\n",
       "      <td>-0.9838</td>\n",
       "    </tr>\n",
       "    <tr>\n",
       "      <th>2001-01-29</th>\n",
       "      <td>4158.859863</td>\n",
       "      <td>4262.759766</td>\n",
       "      <td>4158.859863</td>\n",
       "      <td>4234.569824</td>\n",
       "      <td>4234.569824</td>\n",
       "      <td>0</td>\n",
       "      <td>0.9697</td>\n",
       "    </tr>\n",
       "    <tr>\n",
       "      <th>2001-01-30</th>\n",
       "      <td>4269.410156</td>\n",
       "      <td>4373.220215</td>\n",
       "      <td>4256.759766</td>\n",
       "      <td>4372.040039</td>\n",
       "      <td>4372.040039</td>\n",
       "      <td>0</td>\n",
       "      <td>-0.8580</td>\n",
       "    </tr>\n",
       "    <tr>\n",
       "      <th>2001-01-31</th>\n",
       "      <td>4367.580078</td>\n",
       "      <td>4409.330078</td>\n",
       "      <td>4322.680176</td>\n",
       "      <td>4326.720215</td>\n",
       "      <td>4326.720215</td>\n",
       "      <td>0</td>\n",
       "      <td>-0.5591</td>\n",
       "    </tr>\n",
       "    <tr>\n",
       "      <th>2001-02-01</th>\n",
       "      <td>4303.129883</td>\n",
       "      <td>4355.390137</td>\n",
       "      <td>4230.169922</td>\n",
       "      <td>4286.109863</td>\n",
       "      <td>4286.109863</td>\n",
       "      <td>0</td>\n",
       "      <td>-0.8302</td>\n",
       "    </tr>\n",
       "    <tr>\n",
       "      <th>2001-02-02</th>\n",
       "      <td>4280.959961</td>\n",
       "      <td>4373.399902</td>\n",
       "      <td>4280.959961</td>\n",
       "      <td>4352.259766</td>\n",
       "      <td>4352.259766</td>\n",
       "      <td>0</td>\n",
       "      <td>0.9693</td>\n",
       "    </tr>\n",
       "    <tr>\n",
       "      <th>2001-02-05</th>\n",
       "      <td>4337.520020</td>\n",
       "      <td>4397.189941</td>\n",
       "      <td>4337.520020</td>\n",
       "      <td>4370.470215</td>\n",
       "      <td>4370.470215</td>\n",
       "      <td>0</td>\n",
       "      <td>0.5267</td>\n",
       "    </tr>\n",
       "    <tr>\n",
       "      <th>2001-02-06</th>\n",
       "      <td>4392.240234</td>\n",
       "      <td>4404.669922</td>\n",
       "      <td>4369.930176</td>\n",
       "      <td>4375.290039</td>\n",
       "      <td>4375.290039</td>\n",
       "      <td>0</td>\n",
       "      <td>0.7650</td>\n",
       "    </tr>\n",
       "    <tr>\n",
       "      <th>2001-02-07</th>\n",
       "      <td>4376.919922</td>\n",
       "      <td>4379.220215</td>\n",
       "      <td>4303.279785</td>\n",
       "      <td>4312.930176</td>\n",
       "      <td>4312.930176</td>\n",
       "      <td>0</td>\n",
       "      <td>0.8388</td>\n",
       "    </tr>\n",
       "    <tr>\n",
       "      <th>2001-02-08</th>\n",
       "      <td>4293.870117</td>\n",
       "      <td>4387.850098</td>\n",
       "      <td>4290.879883</td>\n",
       "      <td>4381.189941</td>\n",
       "      <td>4381.189941</td>\n",
       "      <td>0</td>\n",
       "      <td>0.8924</td>\n",
       "    </tr>\n",
       "    <tr>\n",
       "      <th>2001-02-09</th>\n",
       "      <td>4395.439941</td>\n",
       "      <td>4436.479980</td>\n",
       "      <td>4387.990234</td>\n",
       "      <td>4397.330078</td>\n",
       "      <td>4397.330078</td>\n",
       "      <td>0</td>\n",
       "      <td>0.9647</td>\n",
       "    </tr>\n",
       "    <tr>\n",
       "      <th>2001-02-12</th>\n",
       "      <td>4429.910156</td>\n",
       "      <td>4446.080078</td>\n",
       "      <td>4389.020020</td>\n",
       "      <td>4406.299805</td>\n",
       "      <td>4406.299805</td>\n",
       "      <td>0</td>\n",
       "      <td>-0.9368</td>\n",
       "    </tr>\n",
       "    <tr>\n",
       "      <th>2001-02-13</th>\n",
       "      <td>4437.319824</td>\n",
       "      <td>4440.759766</td>\n",
       "      <td>4354.100098</td>\n",
       "      <td>4363.049805</td>\n",
       "      <td>4363.049805</td>\n",
       "      <td>0</td>\n",
       "      <td>-0.5802</td>\n",
       "    </tr>\n",
       "    <tr>\n",
       "      <th>2001-02-14</th>\n",
       "      <td>4350.330078</td>\n",
       "      <td>4375.509766</td>\n",
       "      <td>4320.890137</td>\n",
       "      <td>4363.109863</td>\n",
       "      <td>4363.109863</td>\n",
       "      <td>0</td>\n",
       "      <td>0.5293</td>\n",
       "    </tr>\n",
       "    <tr>\n",
       "      <th>2001-02-15</th>\n",
       "      <td>4372.600098</td>\n",
       "      <td>4459.189941</td>\n",
       "      <td>4371.950195</td>\n",
       "      <td>4437.990234</td>\n",
       "      <td>4437.990234</td>\n",
       "      <td>0</td>\n",
       "      <td>-0.6973</td>\n",
       "    </tr>\n",
       "  </tbody>\n",
       "</table>\n",
       "</div>"
      ],
      "text/plain": [
       "                   Open         High          Low        Close    Adj Close  \\\n",
       "Date                                                                          \n",
       "2001-01-02  3953.219971  4028.570068  3929.370117  4018.879883  4018.879883   \n",
       "2001-01-03  3977.580078  4067.659912  3977.580078  4060.020020  4060.020020   \n",
       "2001-01-04  4180.970215  4180.970215  4109.549805  4115.370117  4115.370117   \n",
       "2001-01-05  4116.339844  4195.009766  4115.350098  4183.729980  4183.729980   \n",
       "2001-01-08  4164.759766  4206.720215  4101.529785  4120.430176  4120.430176   \n",
       "2001-01-09  4114.740234  4166.839844  4101.009766  4125.310059  4125.310059   \n",
       "2001-01-10  4151.580078  4155.859863  4035.439941  4047.639893  4047.639893   \n",
       "2001-01-11  4066.129883  4077.540039  4006.540039  4027.129883  4027.129883   \n",
       "2001-01-23  4277.830078  4321.750000  4272.870117  4296.689941  4296.689941   \n",
       "2001-01-24  4320.509766  4339.410156  4295.709961  4326.419922  4326.419922   \n",
       "2001-01-25  4327.839844  4341.330078  4273.700195  4330.220215  4330.220215   \n",
       "2001-01-29  4158.859863  4262.759766  4158.859863  4234.569824  4234.569824   \n",
       "2001-01-30  4269.410156  4373.220215  4256.759766  4372.040039  4372.040039   \n",
       "2001-01-31  4367.580078  4409.330078  4322.680176  4326.720215  4326.720215   \n",
       "2001-02-01  4303.129883  4355.390137  4230.169922  4286.109863  4286.109863   \n",
       "2001-02-02  4280.959961  4373.399902  4280.959961  4352.259766  4352.259766   \n",
       "2001-02-05  4337.520020  4397.189941  4337.520020  4370.470215  4370.470215   \n",
       "2001-02-06  4392.240234  4404.669922  4369.930176  4375.290039  4375.290039   \n",
       "2001-02-07  4376.919922  4379.220215  4303.279785  4312.930176  4312.930176   \n",
       "2001-02-08  4293.870117  4387.850098  4290.879883  4381.189941  4381.189941   \n",
       "2001-02-09  4395.439941  4436.479980  4387.990234  4397.330078  4397.330078   \n",
       "2001-02-12  4429.910156  4446.080078  4389.020020  4406.299805  4406.299805   \n",
       "2001-02-13  4437.319824  4440.759766  4354.100098  4363.049805  4363.049805   \n",
       "2001-02-14  4350.330078  4375.509766  4320.890137  4363.109863  4363.109863   \n",
       "2001-02-15  4372.600098  4459.189941  4371.950195  4437.990234  4437.990234   \n",
       "\n",
       "            Volume  compound  \n",
       "Date                          \n",
       "2001-01-02       0   -0.9621  \n",
       "2001-01-03       0    0.6322  \n",
       "2001-01-04       0    0.6648  \n",
       "2001-01-05       0    0.9253  \n",
       "2001-01-08       0   -0.9638  \n",
       "2001-01-09       0   -0.9559  \n",
       "2001-01-10       0   -0.5719  \n",
       "2001-01-11       0    0.0000  \n",
       "2001-01-23       0    0.9295  \n",
       "2001-01-24       0   -0.9039  \n",
       "2001-01-25       0   -0.9838  \n",
       "2001-01-29       0    0.9697  \n",
       "2001-01-30       0   -0.8580  \n",
       "2001-01-31       0   -0.5591  \n",
       "2001-02-01       0   -0.8302  \n",
       "2001-02-02       0    0.9693  \n",
       "2001-02-05       0    0.5267  \n",
       "2001-02-06       0    0.7650  \n",
       "2001-02-07       0    0.8388  \n",
       "2001-02-08       0    0.8924  \n",
       "2001-02-09       0    0.9647  \n",
       "2001-02-12       0   -0.9368  \n",
       "2001-02-13       0   -0.5802  \n",
       "2001-02-14       0    0.5293  \n",
       "2001-02-15       0   -0.6973  "
      ]
     },
     "execution_count": 20,
     "metadata": {},
     "output_type": "execute_result"
    }
   ],
   "source": [
    "df  = df_merge_col[[ 'Open', 'High', 'Low', 'Close', 'Adj Close', 'Volume', 'compound']]\n",
    "df.head(25)"
   ]
  },
  {
   "cell_type": "code",
   "execution_count": null,
   "id": "7a36c0b0",
   "metadata": {},
   "outputs": [],
   "source": []
  },
  {
   "cell_type": "markdown",
   "id": "86d49e70",
   "metadata": {},
   "source": [
    "### Pre processing"
   ]
  },
  {
   "cell_type": "code",
   "execution_count": 21,
   "id": "dfcbb898",
   "metadata": {},
   "outputs": [],
   "source": [
    "import math\n",
    "from sklearn.preprocessing import MinMaxScaler\n",
    "import keras\n",
    "from keras.models import Sequential\n",
    "from keras.layers import Dense, LSTM,Dropout,Activation\n",
    "from keras import losses \n",
    "from keras import optimizers \n",
    "from keras import metrics "
   ]
  },
  {
   "cell_type": "code",
   "execution_count": 22,
   "id": "e4a24b0e",
   "metadata": {},
   "outputs": [
    {
     "data": {
      "text/plain": [
       "3817"
      ]
     },
     "execution_count": 22,
     "metadata": {},
     "output_type": "execute_result"
    }
   ],
   "source": [
    "data = df.filter(['Close']).values\n",
    "data = data[~np.isnan(data)]\n",
    "data = np.reshape(data, (-1, 1)) \n",
    "training_len = math.ceil(len(data)*0.8)\n",
    "training_len"
   ]
  },
  {
   "cell_type": "code",
   "execution_count": 23,
   "id": "8f6770c2",
   "metadata": {},
   "outputs": [
    {
     "data": {
      "text/plain": [
       "array([[ 4018.87988281],\n",
       "       [ 4060.02001953],\n",
       "       [ 4115.37011719],\n",
       "       ...,\n",
       "       [35171.26953125],\n",
       "       [34961.51953125],\n",
       "       [34915.80078125]])"
      ]
     },
     "execution_count": 23,
     "metadata": {},
     "output_type": "execute_result"
    }
   ],
   "source": [
    "data"
   ]
  },
  {
   "cell_type": "code",
   "execution_count": 24,
   "id": "897aa560",
   "metadata": {},
   "outputs": [],
   "source": [
    "scaler = MinMaxScaler(feature_range=(0, 1))\n",
    "scaled_data = scaler.fit_transform(data)"
   ]
  },
  {
   "cell_type": "code",
   "execution_count": 25,
   "id": "a1e81244",
   "metadata": {},
   "outputs": [
    {
     "data": {
      "text/plain": [
       "array([[0.03605259],\n",
       "       [0.03709801],\n",
       "       [0.03850453],\n",
       "       ...,\n",
       "       [0.82767657],\n",
       "       [0.82234654],\n",
       "       [0.82118476]])"
      ]
     },
     "execution_count": 25,
     "metadata": {},
     "output_type": "execute_result"
    }
   ],
   "source": [
    "scaled_data"
   ]
  },
  {
   "cell_type": "code",
   "execution_count": 26,
   "id": "2bc1a552",
   "metadata": {},
   "outputs": [],
   "source": [
    "#Setting window size to be 60\n",
    "train_data = scaled_data[0:training_len, :]\n",
    "\n",
    "# Splitting into X_train and y_train\n",
    "X_train = []\n",
    "y_train = []\n",
    "\n",
    "for i in range(60, len(train_data)):\n",
    "    X_train.append(train_data[i-60:i, 0])\n",
    "    y_train.append(train_data[i, 0])\n",
    "    \n",
    "X_train, y_train = np.array(X_train), np.array(y_train)"
   ]
  },
  {
   "cell_type": "code",
   "execution_count": 27,
   "id": "769b7cf3",
   "metadata": {},
   "outputs": [
    {
     "data": {
      "text/plain": [
       "(3757, 60)"
      ]
     },
     "execution_count": 27,
     "metadata": {},
     "output_type": "execute_result"
    }
   ],
   "source": [
    "X_train.shape"
   ]
  },
  {
   "cell_type": "code",
   "execution_count": 28,
   "id": "70700c31",
   "metadata": {},
   "outputs": [
    {
     "data": {
      "text/plain": [
       "(3757, 60, 1)"
      ]
     },
     "execution_count": 28,
     "metadata": {},
     "output_type": "execute_result"
    }
   ],
   "source": [
    "X_train = np.reshape(X_train, (X_train.shape[0],\n",
    "                               X_train.shape[1], 1))\n",
    "X_train.shape"
   ]
  },
  {
   "cell_type": "code",
   "execution_count": 29,
   "id": "2b75b07d",
   "metadata": {},
   "outputs": [
    {
     "name": "stdout",
     "output_type": "stream",
     "text": [
      "WARNING:tensorflow:Layer lstm will not use cuDNN kernels since it doesn't meet the criteria. It will use a generic GPU kernel as fallback when running on GPU.\n",
      "Model: \"sequential\"\n",
      "_________________________________________________________________\n",
      "Layer (type)                 Output Shape              Param #   \n",
      "=================================================================\n",
      "lstm (LSTM)                  (None, 60, 50)            10400     \n",
      "_________________________________________________________________\n",
      "lstm_1 (LSTM)                (None, 60, 50)            20200     \n",
      "_________________________________________________________________\n",
      "lstm_2 (LSTM)                (None, 50)                20200     \n",
      "_________________________________________________________________\n",
      "dense (Dense)                (None, 50)                2550      \n",
      "_________________________________________________________________\n",
      "dense_1 (Dense)              (None, 25)                1275      \n",
      "_________________________________________________________________\n",
      "dense_2 (Dense)              (None, 1)                 26        \n",
      "=================================================================\n",
      "Total params: 54,651\n",
      "Trainable params: 54,651\n",
      "Non-trainable params: 0\n",
      "_________________________________________________________________\n"
     ]
    }
   ],
   "source": [
    "model = Sequential()\n",
    "model.add(LSTM(50, return_sequences = True, input_shape = (X_train.shape[1], X_train.shape[2]),activation = 'relu'))\n",
    "model.add(LSTM(50, return_sequences = True))\n",
    "model.add(LSTM(50, return_sequences = False))\n",
    "model.add(Dense(50))\n",
    "model.add(Dense(25))\n",
    "model.add(Dense(1))\n",
    "model.compile(optimizer='adam', loss='mean_squared_error')\n",
    "model.summary()"
   ]
  },
  {
   "cell_type": "code",
   "execution_count": 30,
   "id": "7bf19598",
   "metadata": {},
   "outputs": [],
   "source": [
    "#history = model.fit(X_train,y_train, epochs=20, batch_size=10, validation_data=(X_test,y_test))"
   ]
  },
  {
   "cell_type": "code",
   "execution_count": null,
   "id": "7261fc2e",
   "metadata": {},
   "outputs": [
    {
     "name": "stdout",
     "output_type": "stream",
     "text": [
      "Epoch 1/25\n"
     ]
    }
   ],
   "source": [
    "history = model.fit(X_train, y_train, batch_size=64, epochs = 25)"
   ]
  },
  {
   "cell_type": "code",
   "execution_count": null,
   "id": "0c4454ea",
   "metadata": {},
   "outputs": [],
   "source": [
    "model.save(\"model\")"
   ]
  },
  {
   "cell_type": "code",
   "execution_count": null,
   "id": "b7817f22",
   "metadata": {},
   "outputs": [],
   "source": [
    "plt.plot(history.history['loss'])\n",
    "#plt.plot(history.history['val_loss'])\n",
    "plt.title('model loss')\n",
    "plt.ylabel('loss')\n",
    "plt.xlabel('epoch')\n",
    "plt.legend(['train', 'test'], loc='upper left')\n",
    "plt.show()"
   ]
  },
  {
   "cell_type": "markdown",
   "id": "30b5a2bf",
   "metadata": {},
   "source": [
    "### Testing"
   ]
  },
  {
   "cell_type": "code",
   "execution_count": 67,
   "id": "060cbff5",
   "metadata": {},
   "outputs": [
    {
     "name": "stdout",
     "output_type": "stream",
     "text": [
      "WARNING:tensorflow:Layer lstm_9 will not use cuDNN kernels since it doesn't meet the criteria. It will use a generic GPU kernel as fallback when running on GPU.\n"
     ]
    },
    {
     "name": "stderr",
     "output_type": "stream",
     "text": [
      "WARNING:tensorflow:Layer lstm_9 will not use cuDNN kernels since it doesn't meet the criteria. It will use a generic GPU kernel as fallback when running on GPU.\n"
     ]
    }
   ],
   "source": [
    "import keras\n",
    "model = keras.models.load_model(\"model\")"
   ]
  },
  {
   "cell_type": "code",
   "execution_count": 49,
   "id": "35d57d81",
   "metadata": {},
   "outputs": [
    {
     "data": {
      "text/plain": [
       "(954, 60)"
      ]
     },
     "execution_count": 49,
     "metadata": {},
     "output_type": "execute_result"
    }
   ],
   "source": [
    "test_data = scaled_data[training_len-60:, :]\n",
    "\n",
    "X_test = []\n",
    "y_test = data[training_len:, :]\n",
    "\n",
    "for i in range(60, len(test_data)):\n",
    "    X_test.append(test_data[i-60:i, 0])\n",
    "\n",
    "X_test = np.array(X_test)\n",
    "X_test.shape"
   ]
  },
  {
   "cell_type": "code",
   "execution_count": 50,
   "id": "2ef399ee",
   "metadata": {},
   "outputs": [
    {
     "data": {
      "text/plain": [
       "(954, 60, 1)"
      ]
     },
     "execution_count": 50,
     "metadata": {},
     "output_type": "execute_result"
    }
   ],
   "source": [
    "X_test = np.reshape(X_test, (X_test.shape[0], X_test.shape[1], 1))\n",
    "X_test.shape"
   ]
  },
  {
   "cell_type": "code",
   "execution_count": 51,
   "id": "923a2ff4",
   "metadata": {},
   "outputs": [],
   "source": [
    "prediction = model.predict(X_test)\n",
    "prediction = scaler.inverse_transform(prediction)"
   ]
  },
  {
   "cell_type": "code",
   "execution_count": 52,
   "id": "70d5d78b",
   "metadata": {},
   "outputs": [
    {
     "data": {
      "text/plain": [
       "<matplotlib.legend.Legend at 0x28238d5cd60>"
      ]
     },
     "execution_count": 52,
     "metadata": {},
     "output_type": "execute_result"
    },
    {
     "data": {
      "image/png": "[encoded data removed]",
      "text/plain": [
       "<Figure size 1152x576 with 1 Axes>"
      ]
     },
     "metadata": {
      "needs_background": "light"
     },
     "output_type": "display_data"
    }
   ],
   "source": [
    "plt.figure(figsize=(16, 8))\n",
    "plt.title(\"MODEL\")\n",
    "plt.xlabel(\"Date\")\n",
    "plt.ylabel(\"Close price\")\n",
    "plt.plot(y_test)\n",
    "plt.plot(prediction)\n",
    "plt.legend(['Actual', 'Prediction'], loc='lower right')"
   ]
  },
  {
   "cell_type": "code",
   "execution_count": null,
   "id": "42c7b71e",
   "metadata": {},
   "outputs": [],
   "source": []
  },
  {
   "cell_type": "code",
   "execution_count": null,
   "id": "88fb624a",
   "metadata": {},
   "outputs": [],
   "source": []
  },
  {
   "cell_type": "code",
   "execution_count": null,
   "id": "a447e709",
   "metadata": {},
   "outputs": [],
   "source": []
  },
  {
   "cell_type": "code",
   "execution_count": null,
   "id": "f88bf17a",
   "metadata": {},
   "outputs": [],
   "source": []
  },
  {
   "cell_type": "code",
   "execution_count": null,
   "id": "4ad7abc2",
   "metadata": {},
   "outputs": [],
   "source": []
  },
  {
   "cell_type": "code",
   "execution_count": null,
   "id": "085309b1",
   "metadata": {},
   "outputs": [],
   "source": []
  },
  {
   "cell_type": "code",
   "execution_count": null,
   "id": "fcaf0ee3",
   "metadata": {},
   "outputs": [],
   "source": []
  },
  {
   "cell_type": "code",
   "execution_count": null,
   "id": "6a849ef4",
   "metadata": {},
   "outputs": [],
   "source": []
  },
  {
   "cell_type": "code",
   "execution_count": null,
   "id": "1ae07e03",
   "metadata": {},
   "outputs": [],
   "source": []
  }
 ],
 "metadata": {
  "kernelspec": {
   "display_name": "Python 3.8 (tensorflow)",
   "language": "python",
   "name": "tensorflow"
  },
  "language_info": {
   "codemirror_mode": {
    "name": "ipython",
    "version": 3
   },
   "file_extension": ".py",
   "mimetype": "text/x-python",
   "name": "python",
   "nbconvert_exporter": "python",
   "pygments_lexer": "ipython3",
   "version": "3.8.12"
  }
 },
 "nbformat": 4,
 "nbformat_minor": 5
}
