{
 "cells": [
  {
   "cell_type": "markdown",
   "metadata": {
    "id": "I_MMGRYg8LOg",
    "papermill": {
     "duration": 0.030876,
     "end_time": "2020-10-06T21:19:31.915205",
     "exception": false,
     "start_time": "2020-10-06T21:19:31.884329",
     "status": "completed"
    },
    "tags": []
   },
   "source": [
    "# Imports"
   ]
  },
  {
   "cell_type": "code",
   "execution_count": 1,
   "metadata": {
    "colab": {
     "base_uri": "https://localhost:8080/"
    },
    "execution": {
     "iopub.execute_input": "2020-10-06T21:19:31.986613Z",
     "iopub.status.busy": "2020-10-06T21:19:31.985943Z",
     "iopub.status.idle": "2020-10-06T21:19:41.514922Z",
     "shell.execute_reply": "2020-10-06T21:19:41.515686Z"
    },
    "id": "CXjxRnN88LOh",
    "outputId": "fb6e9e71-463b-46d1-96db-732930091e70",
    "papermill": {
     "duration": 9.569887,
     "end_time": "2020-10-06T21:19:41.515898",
     "exception": false,
     "start_time": "2020-10-06T21:19:31.946011",
     "status": "completed"
    },
    "tags": []
   },
   "outputs": [
    {
     "name": "stdout",
     "output_type": "stream",
     "text": [
      "Done\n"
     ]
    }
   ],
   "source": [
    "import re\n",
    "import matplotlib.pyplot as plt\n",
    "import string\n",
    "from nltk.corpus import stopwords\n",
    "import nltk\n",
    "from nltk.corpus import wordnet\n",
    "from nltk.stem import WordNetLemmatizer\n",
    "from nltk.tokenize.treebank import TreebankWordDetokenizer\n",
    "from collections import Counter\n",
    "#from wordcloud import WordCloud\n",
    "from nltk.corpus import stopwords\n",
    "import nltk\n",
    "from gensim.utils import simple_preprocess\n",
    "from nltk.corpus import stopwords\n",
    "import gensim\n",
    "from sklearn.model_selection import train_test_split\n",
    "import spacy\n",
    "import pickle\n",
    "import warnings\n",
    "warnings.filterwarnings('ignore')\n",
    "import seaborn as sns\n",
    "from sklearn.metrics import confusion_matrix\n",
    "import matplotlib.pyplot as plt \n",
    "import tensorflow as tf\n",
    "import numpy as np\n",
    "import pandas as pd\n",
    "print('Done')"
   ]
  },
  {
   "cell_type": "code",
   "execution_count": null,
   "metadata": {},
   "outputs": [],
   "source": []
  },
  {
   "cell_type": "code",
   "execution_count": null,
   "metadata": {},
   "outputs": [],
   "source": []
  },
  {
   "cell_type": "markdown",
   "metadata": {
    "id": "4jyygr1d8LOl",
    "papermill": {
     "duration": 0.032245,
     "end_time": "2020-10-06T21:19:41.583484",
     "exception": false,
     "start_time": "2020-10-06T21:19:41.551239",
     "status": "completed"
    },
    "tags": []
   },
   "source": [
    "# Data importing"
   ]
  },
  {
   "cell_type": "code",
   "execution_count": 2,
   "metadata": {
    "_cell_guid": "79c7e3d0-c299-4dcb-8224-4455121ee9b0",
    "_uuid": "d629ff2d2480ee46fbb7e2d37f6b5fab8052498a",
    "execution": {
     "iopub.execute_input": "2020-10-06T21:19:41.667156Z",
     "iopub.status.busy": "2020-10-06T21:19:41.666425Z",
     "iopub.status.idle": "2020-10-06T21:19:41.753917Z",
     "shell.execute_reply": "2020-10-06T21:19:41.752384Z"
    },
    "id": "AwaWOMS78LOn",
    "papermill": {
     "duration": 0.132806,
     "end_time": "2020-10-06T21:19:41.754037",
     "exception": false,
     "start_time": "2020-10-06T21:19:41.621231",
     "status": "completed"
    },
    "tags": []
   },
   "outputs": [],
   "source": [
    "train = pd.read_csv('dataset.csv')"
   ]
  },
  {
   "cell_type": "markdown",
   "metadata": {
    "id": "vOac_VsO8LOo",
    "papermill": {
     "duration": 0.031706,
     "end_time": "2020-10-06T21:19:41.817762",
     "exception": false,
     "start_time": "2020-10-06T21:19:41.786056",
     "status": "completed"
    },
    "tags": []
   },
   "source": [
    "# Data exploration"
   ]
  },
  {
   "cell_type": "code",
   "execution_count": 3,
   "metadata": {
    "colab": {
     "base_uri": "https://localhost:8080/",
     "height": 520
    },
    "execution": {
     "iopub.execute_input": "2020-10-06T21:19:41.898583Z",
     "iopub.status.busy": "2020-10-06T21:19:41.897942Z",
     "iopub.status.idle": "2020-10-06T21:19:41.908219Z",
     "shell.execute_reply": "2020-10-06T21:19:41.908804Z"
    },
    "id": "u4sSr2yI8LOp",
    "outputId": "b4756d50-256c-4e87-be78-8c1335e0183f",
    "papermill": {
     "duration": 0.05902,
     "end_time": "2020-10-06T21:19:41.908931",
     "exception": false,
     "start_time": "2020-10-06T21:19:41.849911",
     "status": "completed"
    },
    "tags": []
   },
   "outputs": [
    {
     "data": {
      "text/html": [
       "<div>\n",
       "<style scoped>\n",
       "    .dataframe tbody tr th:only-of-type {\n",
       "        vertical-align: middle;\n",
       "    }\n",
       "\n",
       "    .dataframe tbody tr th {\n",
       "        vertical-align: top;\n",
       "    }\n",
       "\n",
       "    .dataframe thead th {\n",
       "        text-align: right;\n",
       "    }\n",
       "</style>\n",
       "<table border=\"1\" class=\"dataframe\">\n",
       "  <thead>\n",
       "    <tr style=\"text-align: right;\">\n",
       "      <th></th>\n",
       "      <th>selected_text</th>\n",
       "      <th>sentiment</th>\n",
       "    </tr>\n",
       "  </thead>\n",
       "  <tbody>\n",
       "    <tr>\n",
       "      <th>0</th>\n",
       "      <td>have responded if were going</td>\n",
       "      <td>0</td>\n",
       "    </tr>\n",
       "    <tr>\n",
       "      <th>1</th>\n",
       "      <td>sooo sad</td>\n",
       "      <td>1</td>\n",
       "    </tr>\n",
       "    <tr>\n",
       "      <th>2</th>\n",
       "      <td>bullying me</td>\n",
       "      <td>1</td>\n",
       "    </tr>\n",
       "    <tr>\n",
       "      <th>3</th>\n",
       "      <td>leave me alone</td>\n",
       "      <td>1</td>\n",
       "    </tr>\n",
       "    <tr>\n",
       "      <th>4</th>\n",
       "      <td>sons of</td>\n",
       "      <td>1</td>\n",
       "    </tr>\n",
       "    <tr>\n",
       "      <th>5</th>\n",
       "      <td>some shameless plugging for the best rangers f...</td>\n",
       "      <td>0</td>\n",
       "    </tr>\n",
       "    <tr>\n",
       "      <th>6</th>\n",
       "      <td>fun</td>\n",
       "      <td>2</td>\n",
       "    </tr>\n",
       "    <tr>\n",
       "      <th>7</th>\n",
       "      <td>soooo high</td>\n",
       "      <td>0</td>\n",
       "    </tr>\n",
       "    <tr>\n",
       "      <th>8</th>\n",
       "      <td>both of you</td>\n",
       "      <td>0</td>\n",
       "    </tr>\n",
       "    <tr>\n",
       "      <th>9</th>\n",
       "      <td>wow just became cooler</td>\n",
       "      <td>2</td>\n",
       "    </tr>\n",
       "    <tr>\n",
       "      <th>10</th>\n",
       "      <td>as much as love to be hopeful reckon the chanc...</td>\n",
       "      <td>0</td>\n",
       "    </tr>\n",
       "    <tr>\n",
       "      <th>11</th>\n",
       "      <td>like</td>\n",
       "      <td>2</td>\n",
       "    </tr>\n",
       "    <tr>\n",
       "      <th>12</th>\n",
       "      <td>dangerously</td>\n",
       "      <td>1</td>\n",
       "    </tr>\n",
       "    <tr>\n",
       "      <th>13</th>\n",
       "      <td>lost</td>\n",
       "      <td>1</td>\n",
       "    </tr>\n",
       "    <tr>\n",
       "      <th>14</th>\n",
       "      <td>test test from the lg env</td>\n",
       "      <td>0</td>\n",
       "    </tr>\n",
       "  </tbody>\n",
       "</table>\n",
       "</div>"
      ],
      "text/plain": [
       "                                        selected_text  sentiment\n",
       "0                        have responded if were going          0\n",
       "1                                            sooo sad          1\n",
       "2                                         bullying me          1\n",
       "3                                      leave me alone          1\n",
       "4                                             sons of          1\n",
       "5   some shameless plugging for the best rangers f...          0\n",
       "6                                                 fun          2\n",
       "7                                          soooo high          0\n",
       "8                                         both of you          0\n",
       "9                              wow just became cooler          2\n",
       "10  as much as love to be hopeful reckon the chanc...          0\n",
       "11                                               like          2\n",
       "12                                        dangerously          1\n",
       "13                                               lost          1\n",
       "14                          test test from the lg env          0"
      ]
     },
     "execution_count": 3,
     "metadata": {},
     "output_type": "execute_result"
    }
   ],
   "source": [
    "train.head(15)"
   ]
  },
  {
   "cell_type": "code",
   "execution_count": 4,
   "metadata": {
    "colab": {
     "base_uri": "https://localhost:8080/"
    },
    "execution": {
     "iopub.execute_input": "2020-10-06T21:19:41.980569Z",
     "iopub.status.busy": "2020-10-06T21:19:41.979730Z",
     "iopub.status.idle": "2020-10-06T21:19:41.983566Z",
     "shell.execute_reply": "2020-10-06T21:19:41.983073Z"
    },
    "id": "jDLXU1h48LOr",
    "outputId": "02e70727-2ea5-4525-8332-dc82a61bd175",
    "papermill": {
     "duration": 0.041264,
     "end_time": "2020-10-06T21:19:41.983666",
     "exception": false,
     "start_time": "2020-10-06T21:19:41.942402",
     "status": "completed"
    },
    "tags": []
   },
   "outputs": [
    {
     "data": {
      "text/plain": [
       "27481"
      ]
     },
     "execution_count": 4,
     "metadata": {},
     "output_type": "execute_result"
    }
   ],
   "source": [
    "#Let's get the dataset lenght\n",
    "len(train)"
   ]
  },
  {
   "cell_type": "code",
   "execution_count": 5,
   "metadata": {
    "colab": {
     "base_uri": "https://localhost:8080/"
    },
    "execution": {
     "iopub.execute_input": "2020-10-06T21:19:42.060070Z",
     "iopub.status.busy": "2020-10-06T21:19:42.059141Z",
     "iopub.status.idle": "2020-10-06T21:19:42.064587Z",
     "shell.execute_reply": "2020-10-06T21:19:42.064115Z"
    },
    "id": "csQPSbue8LOs",
    "outputId": "48fdc9af-8bdb-40e0-c15c-23ff4acf4ab8",
    "papermill": {
     "duration": 0.047577,
     "end_time": "2020-10-06T21:19:42.064691",
     "exception": false,
     "start_time": "2020-10-06T21:19:42.017114",
     "status": "completed"
    },
    "tags": []
   },
   "outputs": [
    {
     "data": {
      "text/plain": [
       "array([0, 1, 2], dtype=int64)"
      ]
     },
     "execution_count": 5,
     "metadata": {},
     "output_type": "execute_result"
    }
   ],
   "source": [
    "#Is there any other different value than neutral, negative and positive?\n",
    "train['sentiment'].unique()"
   ]
  },
  {
   "cell_type": "code",
   "execution_count": 6,
   "metadata": {
    "colab": {
     "base_uri": "https://localhost:8080/",
     "height": 174
    },
    "execution": {
     "iopub.execute_input": "2020-10-06T21:19:42.143106Z",
     "iopub.status.busy": "2020-10-06T21:19:42.142318Z",
     "iopub.status.idle": "2020-10-06T21:19:42.185676Z",
     "shell.execute_reply": "2020-10-06T21:19:42.186310Z"
    },
    "id": "YzixsSKp8LOu",
    "outputId": "53631594-2ef8-4f96-d7f4-331960c3a819",
    "papermill": {
     "duration": 0.088183,
     "end_time": "2020-10-06T21:19:42.186453",
     "exception": false,
     "start_time": "2020-10-06T21:19:42.098270",
     "status": "completed"
    },
    "tags": []
   },
   "outputs": [
    {
     "data": {
      "text/html": [
       "<div>\n",
       "<style scoped>\n",
       "    .dataframe tbody tr th:only-of-type {\n",
       "        vertical-align: middle;\n",
       "    }\n",
       "\n",
       "    .dataframe tbody tr th {\n",
       "        vertical-align: top;\n",
       "    }\n",
       "\n",
       "    .dataframe thead th {\n",
       "        text-align: right;\n",
       "    }\n",
       "</style>\n",
       "<table border=\"1\" class=\"dataframe\">\n",
       "  <thead>\n",
       "    <tr style=\"text-align: right;\">\n",
       "      <th></th>\n",
       "      <th>selected_text</th>\n",
       "    </tr>\n",
       "    <tr>\n",
       "      <th>sentiment</th>\n",
       "      <th></th>\n",
       "    </tr>\n",
       "  </thead>\n",
       "  <tbody>\n",
       "    <tr>\n",
       "      <th>0</th>\n",
       "      <td>11015</td>\n",
       "    </tr>\n",
       "    <tr>\n",
       "      <th>1</th>\n",
       "      <td>4998</td>\n",
       "    </tr>\n",
       "    <tr>\n",
       "      <th>2</th>\n",
       "      <td>4498</td>\n",
       "    </tr>\n",
       "  </tbody>\n",
       "</table>\n",
       "</div>"
      ],
      "text/plain": [
       "           selected_text\n",
       "sentiment               \n",
       "0                  11015\n",
       "1                   4998\n",
       "2                   4498"
      ]
     },
     "execution_count": 6,
     "metadata": {},
     "output_type": "execute_result"
    }
   ],
   "source": [
    "#How's distributed the dataset? Is it biased?\n",
    "train.groupby('sentiment').nunique()"
   ]
  },
  {
   "cell_type": "markdown",
   "metadata": {
    "id": "uPUz-Qdz8LOv",
    "papermill": {
     "duration": 0.033994,
     "end_time": "2020-10-06T21:19:42.255666",
     "exception": false,
     "start_time": "2020-10-06T21:19:42.221672",
     "status": "completed"
    },
    "tags": []
   },
   "source": [
    "# Data cleaning"
   ]
  },
  {
   "cell_type": "code",
   "execution_count": 7,
   "metadata": {
    "colab": {
     "base_uri": "https://localhost:8080/",
     "height": 206
    },
    "execution": {
     "iopub.execute_input": "2020-10-06T21:19:42.334657Z",
     "iopub.status.busy": "2020-10-06T21:19:42.333827Z",
     "iopub.status.idle": "2020-10-06T21:19:42.337209Z",
     "shell.execute_reply": "2020-10-06T21:19:42.337696Z"
    },
    "id": "tzB99zuI8LOw",
    "outputId": "20cb7c7e-6c16-4776-9f68-af755377f643",
    "papermill": {
     "duration": 0.04812,
     "end_time": "2020-10-06T21:19:42.337823",
     "exception": false,
     "start_time": "2020-10-06T21:19:42.289703",
     "status": "completed"
    },
    "tags": []
   },
   "outputs": [
    {
     "data": {
      "text/html": [
       "<div>\n",
       "<style scoped>\n",
       "    .dataframe tbody tr th:only-of-type {\n",
       "        vertical-align: middle;\n",
       "    }\n",
       "\n",
       "    .dataframe tbody tr th {\n",
       "        vertical-align: top;\n",
       "    }\n",
       "\n",
       "    .dataframe thead th {\n",
       "        text-align: right;\n",
       "    }\n",
       "</style>\n",
       "<table border=\"1\" class=\"dataframe\">\n",
       "  <thead>\n",
       "    <tr style=\"text-align: right;\">\n",
       "      <th></th>\n",
       "      <th>selected_text</th>\n",
       "      <th>sentiment</th>\n",
       "    </tr>\n",
       "  </thead>\n",
       "  <tbody>\n",
       "    <tr>\n",
       "      <th>0</th>\n",
       "      <td>have responded if were going</td>\n",
       "      <td>0</td>\n",
       "    </tr>\n",
       "    <tr>\n",
       "      <th>1</th>\n",
       "      <td>sooo sad</td>\n",
       "      <td>1</td>\n",
       "    </tr>\n",
       "    <tr>\n",
       "      <th>2</th>\n",
       "      <td>bullying me</td>\n",
       "      <td>1</td>\n",
       "    </tr>\n",
       "    <tr>\n",
       "      <th>3</th>\n",
       "      <td>leave me alone</td>\n",
       "      <td>1</td>\n",
       "    </tr>\n",
       "    <tr>\n",
       "      <th>4</th>\n",
       "      <td>sons of</td>\n",
       "      <td>1</td>\n",
       "    </tr>\n",
       "  </tbody>\n",
       "</table>\n",
       "</div>"
      ],
      "text/plain": [
       "                  selected_text  sentiment\n",
       "0  have responded if were going          0\n",
       "1                      sooo sad          1\n",
       "2                   bullying me          1\n",
       "3                leave me alone          1\n",
       "4                       sons of          1"
      ]
     },
     "execution_count": 7,
     "metadata": {},
     "output_type": "execute_result"
    }
   ],
   "source": [
    "#Let's keep only the columns that we're going to use\n",
    "train = train[['selected_text','sentiment']]\n",
    "train.head()"
   ]
  },
  {
   "cell_type": "code",
   "execution_count": 8,
   "metadata": {
    "colab": {
     "base_uri": "https://localhost:8080/"
    },
    "execution": {
     "iopub.execute_input": "2020-10-06T21:19:42.415166Z",
     "iopub.status.busy": "2020-10-06T21:19:42.414365Z",
     "iopub.status.idle": "2020-10-06T21:19:42.418112Z",
     "shell.execute_reply": "2020-10-06T21:19:42.417659Z"
    },
    "id": "CCuqUuC88LOx",
    "outputId": "f13347fe-d2fc-4b5e-d547-b1ae741fbf27",
    "papermill": {
     "duration": 0.0451,
     "end_time": "2020-10-06T21:19:42.418205",
     "exception": false,
     "start_time": "2020-10-06T21:19:42.373105",
     "status": "completed"
    },
    "tags": []
   },
   "outputs": [
    {
     "data": {
      "text/plain": [
       "134"
      ]
     },
     "execution_count": 8,
     "metadata": {},
     "output_type": "execute_result"
    }
   ],
   "source": [
    "#Is there any null value?\n",
    "train[\"selected_text\"].isnull().sum()"
   ]
  },
  {
   "cell_type": "code",
   "execution_count": 9,
   "metadata": {
    "execution": {
     "iopub.execute_input": "2020-10-06T21:19:42.499946Z",
     "iopub.status.busy": "2020-10-06T21:19:42.498153Z",
     "iopub.status.idle": "2020-10-06T21:19:42.500760Z",
     "shell.execute_reply": "2020-10-06T21:19:42.501276Z"
    },
    "id": "7BdKb5Ap8LOy",
    "papermill": {
     "duration": 0.047154,
     "end_time": "2020-10-06T21:19:42.501409",
     "exception": false,
     "start_time": "2020-10-06T21:19:42.454255",
     "status": "completed"
    },
    "tags": []
   },
   "outputs": [],
   "source": [
    "#Let's fill the only null value.\n",
    "train[\"selected_text\"].fillna(\"No content\", inplace = True)"
   ]
  },
  {
   "cell_type": "markdown",
   "metadata": {
    "id": "PZi2CmqZ8LOy",
    "papermill": {
     "duration": 0.035753,
     "end_time": "2020-10-06T21:19:42.572975",
     "exception": false,
     "start_time": "2020-10-06T21:19:42.537222",
     "status": "completed"
    },
    "tags": []
   },
   "source": [
    "### The next steps about data cleaning will be:\n",
    "\n",
    "* Remove URLs from the tweets\n",
    "* Tokenize text\n",
    "* Remove emails\n",
    "* Remove new lines characters\n",
    "* Remove distracting single quotes\n",
    "* Remove all punctuation signs\n",
    "* Lowercase all text\n",
    "* Detokenize text\n",
    "* Convert list of texts to Numpy array"
   ]
  },
  {
   "cell_type": "code",
   "execution_count": 10,
   "metadata": {
    "execution": {
     "iopub.execute_input": "2020-10-06T21:19:42.651469Z",
     "iopub.status.busy": "2020-10-06T21:19:42.650518Z",
     "iopub.status.idle": "2020-10-06T21:19:42.653091Z",
     "shell.execute_reply": "2020-10-06T21:19:42.653513Z"
    },
    "id": "ldc4CfXs8LOz",
    "papermill": {
     "duration": 0.044735,
     "end_time": "2020-10-06T21:19:42.653654",
     "exception": false,
     "start_time": "2020-10-06T21:19:42.608919",
     "status": "completed"
    },
    "tags": []
   },
   "outputs": [],
   "source": [
    "def depure_data(data):\n",
    "    \n",
    "    #Removing URLs with a regular expression\n",
    "    url_pattern = re.compile(r'https?://\\S+|www\\.\\S+')\n",
    "    data = url_pattern.sub(r'', data)\n",
    "\n",
    "    # Remove Emails\n",
    "    data = re.sub('\\S*@\\S*\\s?', '', data)\n",
    "\n",
    "    # Remove new line characters\n",
    "    data = re.sub('\\s+', ' ', data)\n",
    "\n",
    "    # Remove distracting single quotes\n",
    "    data = re.sub(\"\\'\", \"\", data)\n",
    "        \n",
    "    return data"
   ]
  },
  {
   "cell_type": "code",
   "execution_count": 11,
   "metadata": {
    "colab": {
     "base_uri": "https://localhost:8080/"
    },
    "execution": {
     "iopub.execute_input": "2020-10-06T21:19:42.742866Z",
     "iopub.status.busy": "2020-10-06T21:19:42.737799Z",
     "iopub.status.idle": "2020-10-06T21:19:43.099846Z",
     "shell.execute_reply": "2020-10-06T21:19:43.100317Z"
    },
    "id": "-cEGMc_l8LO0",
    "outputId": "1b98ff0c-84b9-49c2-b69c-e7f81ee2de83",
    "papermill": {
     "duration": 0.411166,
     "end_time": "2020-10-06T21:19:43.100446",
     "exception": false,
     "start_time": "2020-10-06T21:19:42.689280",
     "status": "completed"
    },
    "tags": []
   },
   "outputs": [
    {
     "data": {
      "text/plain": [
       "['have responded if were going',\n",
       " 'sooo sad',\n",
       " 'bullying me',\n",
       " 'leave me alone',\n",
       " 'sons of']"
      ]
     },
     "execution_count": 11,
     "metadata": {},
     "output_type": "execute_result"
    }
   ],
   "source": [
    "temp = []\n",
    "#Splitting pd.Series to list\n",
    "data_to_list = train['selected_text'].values.tolist()\n",
    "for i in range(len(data_to_list)):\n",
    "    temp.append(depure_data(data_to_list[i]))\n",
    "list(temp[:5])"
   ]
  },
  {
   "cell_type": "code",
   "execution_count": 12,
   "metadata": {
    "colab": {
     "base_uri": "https://localhost:8080/"
    },
    "execution": {
     "iopub.execute_input": "2020-10-06T21:19:43.217126Z",
     "iopub.status.busy": "2020-10-06T21:19:43.201831Z",
     "iopub.status.idle": "2020-10-06T21:19:44.301157Z",
     "shell.execute_reply": "2020-10-06T21:19:44.300459Z"
    },
    "id": "Th9Kh2Gz8LO1",
    "outputId": "94a8ee3a-2f1b-4d7e-af24-cd05dbc3f019",
    "papermill": {
     "duration": 1.161143,
     "end_time": "2020-10-06T21:19:44.301321",
     "exception": false,
     "start_time": "2020-10-06T21:19:43.140178",
     "status": "completed"
    },
    "tags": []
   },
   "outputs": [
    {
     "name": "stdout",
     "output_type": "stream",
     "text": [
      "[['have', 'responded', 'if', 'were', 'going'], ['sooo', 'sad'], ['bullying', 'me'], ['leave', 'me', 'alone'], ['sons', 'of'], ['some', 'shameless', 'plugging', 'for', 'the', 'best', 'rangers', 'forum', 'on', 'earth'], ['fun'], ['soooo', 'high'], ['both', 'of', 'you'], ['wow', 'just', 'became', 'cooler']]\n"
     ]
    }
   ],
   "source": [
    "def sent_to_words(sentences):\n",
    "    for sentence in sentences:\n",
    "        yield(gensim.utils.simple_preprocess(str(sentence), deacc=True))  # deacc=True removes punctuations\n",
    "        \n",
    "\n",
    "data_words = list(sent_to_words(temp))\n",
    "\n",
    "print(data_words[:10])"
   ]
  },
  {
   "cell_type": "code",
   "execution_count": 13,
   "metadata": {
    "colab": {
     "base_uri": "https://localhost:8080/"
    },
    "execution": {
     "iopub.execute_input": "2020-10-06T21:19:44.381205Z",
     "iopub.status.busy": "2020-10-06T21:19:44.380312Z",
     "iopub.status.idle": "2020-10-06T21:19:44.384281Z",
     "shell.execute_reply": "2020-10-06T21:19:44.383753Z"
    },
    "id": "-agHSbV28LO2",
    "outputId": "c781b911-1f07-4b17-ecfa-57d6d88b8dbf",
    "papermill": {
     "duration": 0.045481,
     "end_time": "2020-10-06T21:19:44.384376",
     "exception": false,
     "start_time": "2020-10-06T21:19:44.338895",
     "status": "completed"
    },
    "tags": []
   },
   "outputs": [
    {
     "data": {
      "text/plain": [
       "27481"
      ]
     },
     "execution_count": 13,
     "metadata": {},
     "output_type": "execute_result"
    }
   ],
   "source": [
    "len(data_words)"
   ]
  },
  {
   "cell_type": "code",
   "execution_count": 14,
   "metadata": {
    "execution": {
     "iopub.execute_input": "2020-10-06T21:19:44.465126Z",
     "iopub.status.busy": "2020-10-06T21:19:44.464351Z",
     "iopub.status.idle": "2020-10-06T21:19:44.467376Z",
     "shell.execute_reply": "2020-10-06T21:19:44.466918Z"
    },
    "id": "qV-rxNqt8LO3",
    "papermill": {
     "duration": 0.045096,
     "end_time": "2020-10-06T21:19:44.467470",
     "exception": false,
     "start_time": "2020-10-06T21:19:44.422374",
     "status": "completed"
    },
    "tags": []
   },
   "outputs": [],
   "source": [
    "def detokenize(text):\n",
    "    return TreebankWordDetokenizer().detokenize(text)"
   ]
  },
  {
   "cell_type": "code",
   "execution_count": 15,
   "metadata": {
    "colab": {
     "base_uri": "https://localhost:8080/"
    },
    "execution": {
     "iopub.execute_input": "2020-10-06T21:19:44.561022Z",
     "iopub.status.busy": "2020-10-06T21:19:44.550825Z",
     "iopub.status.idle": "2020-10-06T21:19:47.831584Z",
     "shell.execute_reply": "2020-10-06T21:19:47.832620Z"
    },
    "id": "hg24Cj-N8LO4",
    "outputId": "f7887e47-eefe-4d8c-9730-8eb2e5c8b130",
    "papermill": {
     "duration": 3.326682,
     "end_time": "2020-10-06T21:19:47.832800",
     "exception": false,
     "start_time": "2020-10-06T21:19:44.506118",
     "status": "completed"
    },
    "tags": []
   },
   "outputs": [
    {
     "name": "stdout",
     "output_type": "stream",
     "text": [
      "['have responded if were going', 'sooo sad', 'bullying me', 'leave me alone', 'sons of']\n"
     ]
    }
   ],
   "source": [
    "data = []\n",
    "for i in range(len(data_words)):\n",
    "    data.append(detokenize(data_words[i]))\n",
    "print(data[:5])"
   ]
  },
  {
   "cell_type": "code",
   "execution_count": 16,
   "metadata": {
    "execution": {
     "iopub.execute_input": "2020-10-06T21:19:47.936780Z",
     "iopub.status.busy": "2020-10-06T21:19:47.934885Z",
     "iopub.status.idle": "2020-10-06T21:19:47.937552Z",
     "shell.execute_reply": "2020-10-06T21:19:47.938090Z"
    },
    "id": "DaEer7dV8LO5",
    "papermill": {
     "duration": 0.06542,
     "end_time": "2020-10-06T21:19:47.938217",
     "exception": false,
     "start_time": "2020-10-06T21:19:47.872797",
     "status": "completed"
    },
    "tags": []
   },
   "outputs": [],
   "source": [
    "data = np.array(data)"
   ]
  },
  {
   "cell_type": "markdown",
   "metadata": {
    "id": "AU19ILF68LO5",
    "papermill": {
     "duration": 0.037183,
     "end_time": "2020-10-06T21:19:48.013459",
     "exception": false,
     "start_time": "2020-10-06T21:19:47.976276",
     "status": "completed"
    },
    "tags": []
   },
   "source": [
    "# Label encoding\n",
    "\n",
    "As the dataset is categorical, we need to convert the sentiment labels from Neutral, Negative and Positive to a float type that our model can understand. To achieve this task, we'll implement the to_categorical method from Keras."
   ]
  },
  {
   "cell_type": "code",
   "execution_count": 17,
   "metadata": {
    "colab": {
     "base_uri": "https://localhost:8080/"
    },
    "execution": {
     "iopub.execute_input": "2020-10-06T21:19:48.122784Z",
     "iopub.status.busy": "2020-10-06T21:19:48.121518Z",
     "iopub.status.idle": "2020-10-06T21:19:48.125042Z",
     "shell.execute_reply": "2020-10-06T21:19:48.125481Z"
    },
    "id": "y3i0v2a68LO6",
    "outputId": "4e001767-8c77-4cc3-e334-c5e0d01db17f",
    "papermill": {
     "duration": 0.074223,
     "end_time": "2020-10-06T21:19:48.125627",
     "exception": false,
     "start_time": "2020-10-06T21:19:48.051404",
     "status": "completed"
    },
    "tags": []
   },
   "outputs": [
    {
     "data": {
      "text/plain": [
       "array([[1., 0., 0.],\n",
       "       [0., 1., 0.],\n",
       "       [0., 1., 0.],\n",
       "       ...,\n",
       "       [0., 0., 1.],\n",
       "       [0., 0., 1.],\n",
       "       [1., 0., 0.]], dtype=float32)"
      ]
     },
     "execution_count": 17,
     "metadata": {},
     "output_type": "execute_result"
    }
   ],
   "source": [
    "from tensorflow.keras.utils import to_categorical\n",
    "labels = np.array(train['sentiment'])\n",
    "labels = to_categorical(labels, 3, dtype=\"float32\")\n",
    "labels"
   ]
  },
  {
   "cell_type": "code",
   "execution_count": 18,
   "metadata": {
    "colab": {
     "base_uri": "https://localhost:8080/"
    },
    "execution": {
     "iopub.execute_input": "2020-10-06T21:19:48.206863Z",
     "iopub.status.busy": "2020-10-06T21:19:48.206068Z",
     "iopub.status.idle": "2020-10-06T21:19:48.209920Z",
     "shell.execute_reply": "2020-10-06T21:19:48.209425Z"
    },
    "id": "POJsMgRE8LO7",
    "outputId": "143f181a-8475-4826-828d-bcc7fc7d8c0a",
    "papermill": {
     "duration": 0.046647,
     "end_time": "2020-10-06T21:19:48.210021",
     "exception": false,
     "start_time": "2020-10-06T21:19:48.163374",
     "status": "completed"
    },
    "tags": []
   },
   "outputs": [
    {
     "data": {
      "text/plain": [
       "27481"
      ]
     },
     "execution_count": 18,
     "metadata": {},
     "output_type": "execute_result"
    }
   ],
   "source": [
    "len(labels)"
   ]
  },
  {
   "cell_type": "markdown",
   "metadata": {
    "id": "wivscCRE8LO7",
    "papermill": {
     "duration": 0.038298,
     "end_time": "2020-10-06T21:19:48.287312",
     "exception": false,
     "start_time": "2020-10-06T21:19:48.249014",
     "status": "completed"
    },
    "tags": []
   },
   "source": [
    "# Data sequencing and splitting\n",
    "\n",
    "We'll implement the Keras tokenizer as well as its pad_sequences method to transform our text data into 3D float data, otherwise our neural networks won't be able to be trained on it."
   ]
  },
  {
   "cell_type": "code",
   "execution_count": 19,
   "metadata": {
    "colab": {
     "base_uri": "https://localhost:8080/"
    },
    "execution": {
     "iopub.execute_input": "2020-10-06T21:19:48.373707Z",
     "iopub.status.busy": "2020-10-06T21:19:48.372469Z",
     "iopub.status.idle": "2020-10-06T21:19:49.386819Z",
     "shell.execute_reply": "2020-10-06T21:19:49.387562Z"
    },
    "id": "7hljXO4Z8LO8",
    "outputId": "0f326f92-509d-4ac2-f372-d6a94e713526",
    "papermill": {
     "duration": 1.062302,
     "end_time": "2020-10-06T21:19:49.387739",
     "exception": false,
     "start_time": "2020-10-06T21:19:48.325437",
     "status": "completed"
    },
    "tags": []
   },
   "outputs": [
    {
     "name": "stdout",
     "output_type": "stream",
     "text": [
      "[[   0    0    0 ...   68  146   41]\n",
      " [   0    0    0 ...    0  398   65]\n",
      " [   0    0    0 ...    0    0   11]\n",
      " ...\n",
      " [   0    0    0 ...  373   10    3]\n",
      " [   0    0    0 ...   25  543    4]\n",
      " [   0    0    0 ... 2424  200  658]]\n"
     ]
    }
   ],
   "source": [
    "from tensorflow.keras.models import Sequential\n",
    "from tensorflow.keras import layers\n",
    "from tensorflow.keras.optimizers import RMSprop,Adam\n",
    "from tensorflow.keras.preprocessing.text import Tokenizer\n",
    "from tensorflow.keras.preprocessing.sequence import pad_sequences\n",
    "from tensorflow.keras import regularizers\n",
    "from tensorflow.keras import backend as K\n",
    "from tensorflow.keras.callbacks import ModelCheckpoint\n",
    "max_words = 5000\n",
    "max_len = 200\n",
    "\n",
    "tokenizer = Tokenizer(num_words=max_words)\n",
    "tokenizer.fit_on_texts(data)\n",
    "sequences = tokenizer.texts_to_sequences(data)\n",
    "tweets = pad_sequences(sequences, maxlen=max_len)\n",
    "print(tweets)"
   ]
  },
  {
   "cell_type": "code",
   "execution_count": 20,
   "metadata": {
    "colab": {
     "base_uri": "https://localhost:8080/"
    },
    "execution": {
     "iopub.execute_input": "2020-10-06T21:19:49.478734Z",
     "iopub.status.busy": "2020-10-06T21:19:49.477823Z",
     "iopub.status.idle": "2020-10-06T21:19:49.482217Z",
     "shell.execute_reply": "2020-10-06T21:19:49.483329Z"
    },
    "id": "dOnfDVQJ8LO8",
    "outputId": "5c03ef00-5993-4ce0-d25d-2fdd97c83b02",
    "papermill": {
     "duration": 0.054099,
     "end_time": "2020-10-06T21:19:49.483550",
     "exception": false,
     "start_time": "2020-10-06T21:19:49.429451",
     "status": "completed"
    },
    "tags": []
   },
   "outputs": [
    {
     "name": "stdout",
     "output_type": "stream",
     "text": [
      "[[1. 0. 0.]\n",
      " [0. 1. 0.]\n",
      " [0. 1. 0.]\n",
      " ...\n",
      " [0. 0. 1.]\n",
      " [0. 0. 1.]\n",
      " [1. 0. 0.]]\n"
     ]
    }
   ],
   "source": [
    "print(labels)"
   ]
  },
  {
   "cell_type": "code",
   "execution_count": 21,
   "metadata": {
    "colab": {
     "base_uri": "https://localhost:8080/"
    },
    "execution": {
     "iopub.execute_input": "2020-10-06T21:19:49.585814Z",
     "iopub.status.busy": "2020-10-06T21:19:49.584576Z",
     "iopub.status.idle": "2020-10-06T21:19:49.600360Z",
     "shell.execute_reply": "2020-10-06T21:19:49.601002Z"
    },
    "id": "aUbyTCgn8LO9",
    "outputId": "9e4d3f09-cea3-44d7-c7e4-c16ed255081d",
    "papermill": {
     "duration": 0.069178,
     "end_time": "2020-10-06T21:19:49.601136",
     "exception": false,
     "start_time": "2020-10-06T21:19:49.531958",
     "status": "completed"
    },
    "tags": []
   },
   "outputs": [
    {
     "name": "stdout",
     "output_type": "stream",
     "text": [
      "20610 6871 20610 6871\n"
     ]
    }
   ],
   "source": [
    "#Splitting the data\n",
    "X_train, X_test, y_train, y_test = train_test_split(tweets,labels, random_state=0)\n",
    "print (len(X_train),len(X_test),len(y_train),len(y_test))"
   ]
  },
  {
   "cell_type": "markdown",
   "metadata": {
    "id": "NSDkjLJM8LO9",
    "papermill": {
     "duration": 0.044723,
     "end_time": "2020-10-06T21:19:49.690338",
     "exception": false,
     "start_time": "2020-10-06T21:19:49.645615",
     "status": "completed"
    },
    "tags": []
   },
   "source": [
    "# Model building\n",
    "\n",
    "Alright, in the next cells I'll guide you through the process of building 3 Recurrent Neural Networks. I'll implement sequential models from the Keras API to achieve this task. Essentially, I'll start with a single layer **LSTM** network which is known by achieving good results in NLP tasks when the dataset is relatively small (I could have started with a SimpleRNN which is even simpler, but to be honest it's actually not deployed in production environments because it is too simple - however I'll leave it commented in case you want to know it's built). The next one will be a Bidirectional LSTM model, a more complex one and this particular one is known to achieve great metrics when talking about text classification. To go beyond the classic NLP approach, finally we'll implement a very unusual model: a Convolutional 1D network, known as well by delivering good metrics when talking about NLP. If everything goes ok, we should get the best results with the BidRNN, let's see what happens.\n",
    "\n",
    "Let's get hands on:"
   ]
  },
  {
   "cell_type": "markdown",
   "metadata": {
    "id": "SkwLE3I18LO9",
    "papermill": {
     "duration": 0.045363,
     "end_time": "2020-10-06T21:19:49.779234",
     "exception": false,
     "start_time": "2020-10-06T21:19:49.733871",
     "status": "completed"
    },
    "tags": []
   },
   "source": [
    "## SimpleRNN model (Bonus)"
   ]
  },
  {
   "cell_type": "code",
   "execution_count": 22,
   "metadata": {
    "execution": {
     "iopub.execute_input": "2020-10-06T21:19:49.876465Z",
     "iopub.status.busy": "2020-10-06T21:19:49.875466Z",
     "iopub.status.idle": "2020-10-06T21:19:49.878789Z",
     "shell.execute_reply": "2020-10-06T21:19:49.878237Z"
    },
    "id": "GliEuC_G8LO-",
    "papermill": {
     "duration": 0.054472,
     "end_time": "2020-10-06T21:19:49.878902",
     "exception": false,
     "start_time": "2020-10-06T21:19:49.824430",
     "status": "completed"
    },
    "tags": []
   },
   "outputs": [],
   "source": [
    "#model0 = Sequential()\n",
    "#model0.add(layers.Embedding(max_words, 15))\n",
    "#model0.add(layers.SimpleRNN(15))\n",
    "#model0.add(layers.Dense(3,activation='softmax'))\n",
    "\n",
    "\n",
    "#model0.compile(optimizer='rmsprop',loss='categorical_crossentropy', metrics=['accuracy'])\n",
    "#Implementing model checkpoins to save the best metric and do not lose it on training.\n",
    "#checkpoint0 = ModelCheckpoint(\"best_model0.hdf5\", monitor='val_accuracy', verbose=1,save_best_only=True, mode='auto', period=1,save_weights_only=False)\n",
    "#history = model0.fit(X_train, y_train, epochs=5,validation_data=(X_test, y_test),callbacks=[checkpoint0])"
   ]
  },
  {
   "cell_type": "markdown",
   "metadata": {
    "id": "5dDo80Xb8LO-",
    "papermill": {
     "duration": 0.044937,
     "end_time": "2020-10-06T21:19:49.968644",
     "exception": false,
     "start_time": "2020-10-06T21:19:49.923707",
     "status": "completed"
    },
    "tags": []
   },
   "source": [
    "## Single LSTM layer model"
   ]
  },
  {
   "cell_type": "code",
   "execution_count": 23,
   "metadata": {
    "colab": {
     "base_uri": "https://localhost:8080/"
    },
    "execution": {
     "iopub.execute_input": "2020-10-06T21:19:50.068632Z",
     "iopub.status.busy": "2020-10-06T21:19:50.067909Z",
     "iopub.status.idle": "2020-10-06T21:30:02.803265Z",
     "shell.execute_reply": "2020-10-06T21:30:02.805203Z"
    },
    "id": "KQBfxHej8LO_",
    "outputId": "2d35cafc-eb9b-49dd-cdff-b0cbbe2e048f",
    "papermill": {
     "duration": 612.793273,
     "end_time": "2020-10-06T21:30:02.806611",
     "exception": false,
     "start_time": "2020-10-06T21:19:50.013338",
     "status": "completed"
    },
    "tags": []
   },
   "outputs": [
    {
     "name": "stdout",
     "output_type": "stream",
     "text": [
      "WARNING:tensorflow:`period` argument is deprecated. Please use `save_freq` to specify the frequency in number of batches seen.\n",
      "Epoch 1/70\n",
      "645/645 [==============================] - 19s 19ms/step - loss: 0.8037 - accuracy: 0.6472 - val_loss: 0.6575 - val_accuracy: 0.7411\n",
      "\n",
      "Epoch 00001: val_accuracy improved from -inf to 0.74109, saving model to best_model1.hdf5\n",
      "Epoch 2/70\n",
      "645/645 [==============================] - 12s 18ms/step - loss: 0.5954 - accuracy: 0.7604 - val_loss: 0.5450 - val_accuracy: 0.7907\n",
      "\n",
      "Epoch 00002: val_accuracy improved from 0.74109 to 0.79071, saving model to best_model1.hdf5\n",
      "Epoch 3/70\n",
      "645/645 [==============================] - 12s 18ms/step - loss: 0.5192 - accuracy: 0.7959 - val_loss: 0.4991 - val_accuracy: 0.8069\n",
      "\n",
      "Epoch 00003: val_accuracy improved from 0.79071 to 0.80687, saving model to best_model1.hdf5\n",
      "Epoch 4/70\n",
      "645/645 [==============================] - 12s 18ms/step - loss: 0.4859 - accuracy: 0.8120 - val_loss: 0.4820 - val_accuracy: 0.8121\n",
      "\n",
      "Epoch 00004: val_accuracy improved from 0.80687 to 0.81211, saving model to best_model1.hdf5\n",
      "Epoch 5/70\n",
      "645/645 [==============================] - 11s 18ms/step - loss: 0.4604 - accuracy: 0.8268 - val_loss: 0.4760 - val_accuracy: 0.8141\n",
      "\n",
      "Epoch 00005: val_accuracy improved from 0.81211 to 0.81415, saving model to best_model1.hdf5\n",
      "Epoch 6/70\n",
      "645/645 [==============================] - 12s 18ms/step - loss: 0.4436 - accuracy: 0.8309 - val_loss: 0.4622 - val_accuracy: 0.8251\n",
      "\n",
      "Epoch 00006: val_accuracy improved from 0.81415 to 0.82506, saving model to best_model1.hdf5\n",
      "Epoch 7/70\n",
      "645/645 [==============================] - 12s 18ms/step - loss: 0.4309 - accuracy: 0.8387 - val_loss: 0.4570 - val_accuracy: 0.8198\n",
      "\n",
      "Epoch 00007: val_accuracy did not improve from 0.82506\n",
      "Epoch 8/70\n",
      "645/645 [==============================] - 12s 18ms/step - loss: 0.4195 - accuracy: 0.8412 - val_loss: 0.4544 - val_accuracy: 0.8283\n",
      "\n",
      "Epoch 00008: val_accuracy improved from 0.82506 to 0.82826, saving model to best_model1.hdf5\n",
      "Epoch 9/70\n",
      "645/645 [==============================] - 12s 18ms/step - loss: 0.4086 - accuracy: 0.8474 - val_loss: 0.4508 - val_accuracy: 0.8286\n",
      "\n",
      "Epoch 00009: val_accuracy improved from 0.82826 to 0.82855, saving model to best_model1.hdf5\n",
      "Epoch 10/70\n",
      "645/645 [==============================] - 12s 18ms/step - loss: 0.4000 - accuracy: 0.8508 - val_loss: 0.4421 - val_accuracy: 0.8323\n",
      "\n",
      "Epoch 00010: val_accuracy improved from 0.82855 to 0.83234, saving model to best_model1.hdf5\n",
      "Epoch 11/70\n",
      "645/645 [==============================] - 12s 19ms/step - loss: 0.3931 - accuracy: 0.8520 - val_loss: 0.4415 - val_accuracy: 0.8299\n",
      "\n",
      "Epoch 00011: val_accuracy did not improve from 0.83234\n",
      "Epoch 12/70\n",
      "645/645 [==============================] - 12s 18ms/step - loss: 0.3894 - accuracy: 0.8548 - val_loss: 0.4406 - val_accuracy: 0.8299\n",
      "\n",
      "Epoch 00012: val_accuracy did not improve from 0.83234\n",
      "Epoch 13/70\n",
      "645/645 [==============================] - 12s 18ms/step - loss: 0.3844 - accuracy: 0.8568 - val_loss: 0.4363 - val_accuracy: 0.8303\n",
      "\n",
      "Epoch 00013: val_accuracy did not improve from 0.83234\n",
      "Epoch 14/70\n",
      "645/645 [==============================] - 12s 19ms/step - loss: 0.3774 - accuracy: 0.8580 - val_loss: 0.4337 - val_accuracy: 0.8328\n",
      "\n",
      "Epoch 00014: val_accuracy improved from 0.83234 to 0.83278, saving model to best_model1.hdf5\n",
      "Epoch 15/70\n",
      "645/645 [==============================] - 12s 18ms/step - loss: 0.3771 - accuracy: 0.8587 - val_loss: 0.4349 - val_accuracy: 0.8329\n",
      "\n",
      "Epoch 00015: val_accuracy improved from 0.83278 to 0.83292, saving model to best_model1.hdf5\n",
      "Epoch 16/70\n",
      "645/645 [==============================] - 12s 18ms/step - loss: 0.3720 - accuracy: 0.8610 - val_loss: 0.4371 - val_accuracy: 0.8322\n",
      "\n",
      "Epoch 00016: val_accuracy did not improve from 0.83292\n",
      "Epoch 17/70\n",
      "645/645 [==============================] - 12s 19ms/step - loss: 0.3714 - accuracy: 0.8626 - val_loss: 0.4318 - val_accuracy: 0.8315\n",
      "\n",
      "Epoch 00017: val_accuracy did not improve from 0.83292\n",
      "Epoch 18/70\n",
      "645/645 [==============================] - 12s 18ms/step - loss: 0.3624 - accuracy: 0.8648 - val_loss: 0.4343 - val_accuracy: 0.8326\n",
      "\n",
      "Epoch 00018: val_accuracy did not improve from 0.83292\n",
      "Epoch 19/70\n",
      "645/645 [==============================] - 12s 18ms/step - loss: 0.3618 - accuracy: 0.8665 - val_loss: 0.4349 - val_accuracy: 0.8334\n",
      "\n",
      "Epoch 00019: val_accuracy improved from 0.83292 to 0.83336, saving model to best_model1.hdf5\n",
      "Epoch 20/70\n",
      "645/645 [==============================] - 12s 18ms/step - loss: 0.3616 - accuracy: 0.8642 - val_loss: 0.4330 - val_accuracy: 0.8350\n",
      "\n",
      "Epoch 00020: val_accuracy improved from 0.83336 to 0.83496, saving model to best_model1.hdf5\n",
      "Epoch 21/70\n",
      "645/645 [==============================] - 12s 18ms/step - loss: 0.3569 - accuracy: 0.8686 - val_loss: 0.4343 - val_accuracy: 0.8338\n",
      "\n",
      "Epoch 00021: val_accuracy did not improve from 0.83496\n",
      "Epoch 22/70\n",
      "645/645 [==============================] - 12s 18ms/step - loss: 0.3536 - accuracy: 0.8695 - val_loss: 0.4281 - val_accuracy: 0.8376\n",
      "\n",
      "Epoch 00022: val_accuracy improved from 0.83496 to 0.83758, saving model to best_model1.hdf5\n",
      "Epoch 23/70\n",
      "645/645 [==============================] - 12s 18ms/step - loss: 0.3543 - accuracy: 0.8686 - val_loss: 0.4284 - val_accuracy: 0.8350\n",
      "\n",
      "Epoch 00023: val_accuracy did not improve from 0.83758\n",
      "Epoch 24/70\n",
      "645/645 [==============================] - 12s 18ms/step - loss: 0.3526 - accuracy: 0.8696 - val_loss: 0.4271 - val_accuracy: 0.8361\n",
      "\n",
      "Epoch 00024: val_accuracy did not improve from 0.83758\n",
      "Epoch 25/70\n",
      "645/645 [==============================] - 12s 18ms/step - loss: 0.3503 - accuracy: 0.8697 - val_loss: 0.4270 - val_accuracy: 0.8361\n",
      "\n",
      "Epoch 00025: val_accuracy did not improve from 0.83758\n",
      "Epoch 26/70\n",
      "645/645 [==============================] - 12s 18ms/step - loss: 0.3465 - accuracy: 0.8712 - val_loss: 0.4298 - val_accuracy: 0.8355\n",
      "\n",
      "Epoch 00026: val_accuracy did not improve from 0.83758\n",
      "Epoch 27/70\n",
      "645/645 [==============================] - 12s 18ms/step - loss: 0.3479 - accuracy: 0.8709 - val_loss: 0.4268 - val_accuracy: 0.8367\n",
      "\n",
      "Epoch 00027: val_accuracy did not improve from 0.83758\n",
      "Epoch 28/70\n",
      "645/645 [==============================] - 12s 18ms/step - loss: 0.3452 - accuracy: 0.8712 - val_loss: 0.4305 - val_accuracy: 0.8370\n",
      "\n",
      "Epoch 00028: val_accuracy did not improve from 0.83758\n",
      "Epoch 29/70\n",
      "645/645 [==============================] - 12s 19ms/step - loss: 0.3388 - accuracy: 0.8745 - val_loss: 0.4267 - val_accuracy: 0.8409\n",
      "\n",
      "Epoch 00029: val_accuracy improved from 0.83758 to 0.84093, saving model to best_model1.hdf5\n",
      "Epoch 30/70\n",
      "645/645 [==============================] - 12s 18ms/step - loss: 0.3400 - accuracy: 0.8749 - val_loss: 0.4270 - val_accuracy: 0.8390\n",
      "\n",
      "Epoch 00030: val_accuracy did not improve from 0.84093\n",
      "Epoch 31/70\n",
      "645/645 [==============================] - 12s 18ms/step - loss: 0.3399 - accuracy: 0.8754 - val_loss: 0.4215 - val_accuracy: 0.8390\n",
      "\n",
      "Epoch 00031: val_accuracy did not improve from 0.84093\n",
      "Epoch 32/70\n",
      "645/645 [==============================] - 14s 22ms/step - loss: 0.3398 - accuracy: 0.8751 - val_loss: 0.4277 - val_accuracy: 0.8401\n",
      "\n",
      "Epoch 00032: val_accuracy did not improve from 0.84093\n",
      "Epoch 33/70\n",
      "645/645 [==============================] - 12s 19ms/step - loss: 0.3345 - accuracy: 0.8762 - val_loss: 0.4272 - val_accuracy: 0.8392\n",
      "\n",
      "Epoch 00033: val_accuracy did not improve from 0.84093\n",
      "Epoch 34/70\n",
      "645/645 [==============================] - 16s 25ms/step - loss: 0.3351 - accuracy: 0.8763 - val_loss: 0.4268 - val_accuracy: 0.8395\n",
      "\n",
      "Epoch 00034: val_accuracy did not improve from 0.84093\n",
      "Epoch 35/70\n",
      "645/645 [==============================] - 12s 18ms/step - loss: 0.3332 - accuracy: 0.8766 - val_loss: 0.4274 - val_accuracy: 0.8395\n",
      "\n",
      "Epoch 00035: val_accuracy did not improve from 0.84093\n",
      "Epoch 36/70\n",
      "645/645 [==============================] - 12s 18ms/step - loss: 0.3334 - accuracy: 0.8766 - val_loss: 0.4251 - val_accuracy: 0.8389\n",
      "\n",
      "Epoch 00036: val_accuracy did not improve from 0.84093\n",
      "Epoch 37/70\n",
      "645/645 [==============================] - 12s 18ms/step - loss: 0.3310 - accuracy: 0.8774 - val_loss: 0.4267 - val_accuracy: 0.8411\n",
      "\n",
      "Epoch 00037: val_accuracy improved from 0.84093 to 0.84107, saving model to best_model1.hdf5\n",
      "Epoch 38/70\n"
     ]
    },
    {
     "name": "stdout",
     "output_type": "stream",
     "text": [
      "645/645 [==============================] - 12s 18ms/step - loss: 0.3274 - accuracy: 0.8782 - val_loss: 0.4273 - val_accuracy: 0.8396\n",
      "\n",
      "Epoch 00038: val_accuracy did not improve from 0.84107\n",
      "Epoch 39/70\n",
      "645/645 [==============================] - 12s 18ms/step - loss: 0.3305 - accuracy: 0.8763 - val_loss: 0.4269 - val_accuracy: 0.8398\n",
      "\n",
      "Epoch 00039: val_accuracy did not improve from 0.84107\n",
      "Epoch 40/70\n",
      "645/645 [==============================] - 12s 18ms/step - loss: 0.3281 - accuracy: 0.8785 - val_loss: 0.4285 - val_accuracy: 0.8403\n",
      "\n",
      "Epoch 00040: val_accuracy did not improve from 0.84107\n",
      "Epoch 41/70\n",
      "645/645 [==============================] - 12s 18ms/step - loss: 0.3288 - accuracy: 0.8785 - val_loss: 0.4271 - val_accuracy: 0.8387\n",
      "\n",
      "Epoch 00041: val_accuracy did not improve from 0.84107\n",
      "Epoch 42/70\n",
      "645/645 [==============================] - 12s 18ms/step - loss: 0.3265 - accuracy: 0.8799 - val_loss: 0.4232 - val_accuracy: 0.8417\n",
      "\n",
      "Epoch 00042: val_accuracy improved from 0.84107 to 0.84165, saving model to best_model1.hdf5\n",
      "Epoch 43/70\n",
      "645/645 [==============================] - 12s 18ms/step - loss: 0.3255 - accuracy: 0.8807 - val_loss: 0.4290 - val_accuracy: 0.8428\n",
      "\n",
      "Epoch 00043: val_accuracy improved from 0.84165 to 0.84282, saving model to best_model1.hdf5\n",
      "Epoch 44/70\n",
      "645/645 [==============================] - 12s 18ms/step - loss: 0.3256 - accuracy: 0.8793 - val_loss: 0.4278 - val_accuracy: 0.8402\n",
      "\n",
      "Epoch 00044: val_accuracy did not improve from 0.84282\n",
      "Epoch 45/70\n",
      "645/645 [==============================] - 12s 18ms/step - loss: 0.3206 - accuracy: 0.8824 - val_loss: 0.4260 - val_accuracy: 0.8395\n",
      "\n",
      "Epoch 00045: val_accuracy did not improve from 0.84282\n",
      "Epoch 46/70\n",
      "645/645 [==============================] - 12s 18ms/step - loss: 0.3216 - accuracy: 0.8812 - val_loss: 0.4290 - val_accuracy: 0.8411\n",
      "\n",
      "Epoch 00046: val_accuracy did not improve from 0.84282\n",
      "Epoch 47/70\n",
      "645/645 [==============================] - 11s 18ms/step - loss: 0.3227 - accuracy: 0.8819 - val_loss: 0.4300 - val_accuracy: 0.8387\n",
      "\n",
      "Epoch 00047: val_accuracy did not improve from 0.84282\n",
      "Epoch 48/70\n",
      "645/645 [==============================] - 12s 18ms/step - loss: 0.3174 - accuracy: 0.8832 - val_loss: 0.4325 - val_accuracy: 0.8419\n",
      "\n",
      "Epoch 00048: val_accuracy did not improve from 0.84282\n",
      "Epoch 49/70\n",
      "645/645 [==============================] - 12s 18ms/step - loss: 0.3171 - accuracy: 0.8842 - val_loss: 0.4284 - val_accuracy: 0.8399\n",
      "\n",
      "Epoch 00049: val_accuracy did not improve from 0.84282\n",
      "Epoch 50/70\n",
      "645/645 [==============================] - 12s 18ms/step - loss: 0.3194 - accuracy: 0.8836 - val_loss: 0.4308 - val_accuracy: 0.8387\n",
      "\n",
      "Epoch 00050: val_accuracy did not improve from 0.84282\n",
      "Epoch 51/70\n",
      "645/645 [==============================] - 11s 18ms/step - loss: 0.3194 - accuracy: 0.8814 - val_loss: 0.4310 - val_accuracy: 0.8383\n",
      "\n",
      "Epoch 00051: val_accuracy did not improve from 0.84282\n",
      "Epoch 52/70\n",
      "645/645 [==============================] - 12s 18ms/step - loss: 0.3137 - accuracy: 0.8856 - val_loss: 0.4337 - val_accuracy: 0.8412\n",
      "\n",
      "Epoch 00052: val_accuracy did not improve from 0.84282\n",
      "Epoch 53/70\n",
      "645/645 [==============================] - 11s 18ms/step - loss: 0.3201 - accuracy: 0.8823 - val_loss: 0.4305 - val_accuracy: 0.8406\n",
      "\n",
      "Epoch 00053: val_accuracy did not improve from 0.84282\n",
      "Epoch 54/70\n",
      "645/645 [==============================] - 11s 17ms/step - loss: 0.3123 - accuracy: 0.8859 - val_loss: 0.4332 - val_accuracy: 0.8422\n",
      "\n",
      "Epoch 00054: val_accuracy did not improve from 0.84282\n",
      "Epoch 55/70\n",
      "645/645 [==============================] - 11s 18ms/step - loss: 0.3167 - accuracy: 0.8837 - val_loss: 0.4345 - val_accuracy: 0.8431\n",
      "\n",
      "Epoch 00055: val_accuracy improved from 0.84282 to 0.84311, saving model to best_model1.hdf5\n",
      "Epoch 56/70\n",
      "645/645 [==============================] - 12s 18ms/step - loss: 0.3144 - accuracy: 0.8848 - val_loss: 0.4358 - val_accuracy: 0.8405\n",
      "\n",
      "Epoch 00056: val_accuracy did not improve from 0.84311\n",
      "Epoch 57/70\n",
      "645/645 [==============================] - 14s 22ms/step - loss: 0.3125 - accuracy: 0.8868 - val_loss: 0.4304 - val_accuracy: 0.8403\n",
      "\n",
      "Epoch 00057: val_accuracy did not improve from 0.84311\n",
      "Epoch 58/70\n",
      "645/645 [==============================] - 21s 32ms/step - loss: 0.3102 - accuracy: 0.8864 - val_loss: 0.4311 - val_accuracy: 0.8408\n",
      "\n",
      "Epoch 00058: val_accuracy did not improve from 0.84311\n",
      "Epoch 59/70\n",
      "645/645 [==============================] - 11s 18ms/step - loss: 0.3114 - accuracy: 0.8866 - val_loss: 0.4304 - val_accuracy: 0.8421\n",
      "\n",
      "Epoch 00059: val_accuracy did not improve from 0.84311\n",
      "Epoch 60/70\n",
      "645/645 [==============================] - 11s 17ms/step - loss: 0.3074 - accuracy: 0.8889 - val_loss: 0.4336 - val_accuracy: 0.8392\n",
      "\n",
      "Epoch 00060: val_accuracy did not improve from 0.84311\n",
      "Epoch 61/70\n",
      "645/645 [==============================] - 11s 17ms/step - loss: 0.3083 - accuracy: 0.8878 - val_loss: 0.4360 - val_accuracy: 0.8360\n",
      "\n",
      "Epoch 00061: val_accuracy did not improve from 0.84311\n",
      "Epoch 62/70\n",
      "645/645 [==============================] - 14s 22ms/step - loss: 0.3062 - accuracy: 0.8885 - val_loss: 0.4312 - val_accuracy: 0.8408\n",
      "\n",
      "Epoch 00062: val_accuracy did not improve from 0.84311\n",
      "Epoch 63/70\n",
      "645/645 [==============================] - 12s 18ms/step - loss: 0.3064 - accuracy: 0.8892 - val_loss: 0.4342 - val_accuracy: 0.8376\n",
      "\n",
      "Epoch 00063: val_accuracy did not improve from 0.84311\n",
      "Epoch 64/70\n",
      "645/645 [==============================] - 12s 19ms/step - loss: 0.3018 - accuracy: 0.8888 - val_loss: 0.4370 - val_accuracy: 0.8409\n",
      "\n",
      "Epoch 00064: val_accuracy did not improve from 0.84311\n",
      "Epoch 65/70\n",
      "645/645 [==============================] - 14s 22ms/step - loss: 0.3045 - accuracy: 0.8897 - val_loss: 0.4368 - val_accuracy: 0.8379\n",
      "\n",
      "Epoch 00065: val_accuracy did not improve from 0.84311\n",
      "Epoch 66/70\n",
      "645/645 [==============================] - 12s 18ms/step - loss: 0.3041 - accuracy: 0.8886 - val_loss: 0.4387 - val_accuracy: 0.8399\n",
      "\n",
      "Epoch 00066: val_accuracy did not improve from 0.84311\n",
      "Epoch 67/70\n",
      "645/645 [==============================] - 12s 18ms/step - loss: 0.3058 - accuracy: 0.8892 - val_loss: 0.4403 - val_accuracy: 0.8334\n",
      "\n",
      "Epoch 00067: val_accuracy did not improve from 0.84311\n",
      "Epoch 68/70\n",
      "645/645 [==============================] - 12s 18ms/step - loss: 0.3014 - accuracy: 0.8903 - val_loss: 0.4355 - val_accuracy: 0.8399\n",
      "\n",
      "Epoch 00068: val_accuracy did not improve from 0.84311\n",
      "Epoch 69/70\n",
      "645/645 [==============================] - 15s 23ms/step - loss: 0.3018 - accuracy: 0.8921 - val_loss: 0.4333 - val_accuracy: 0.8385\n",
      "\n",
      "Epoch 00069: val_accuracy did not improve from 0.84311\n",
      "Epoch 70/70\n",
      "645/645 [==============================] - 12s 18ms/step - loss: 0.3053 - accuracy: 0.8904 - val_loss: 0.4417 - val_accuracy: 0.8402\n",
      "\n",
      "Epoch 00070: val_accuracy did not improve from 0.84311\n"
     ]
    }
   ],
   "source": [
    "model1 = Sequential()\n",
    "model1.add(layers.Embedding(max_words, 20))\n",
    "model1.add(layers.LSTM(15,dropout=0.5))\n",
    "model1.add(layers.Dense(3,activation='softmax'))\n",
    "\n",
    "\n",
    "model1.compile(optimizer='rmsprop',loss='categorical_crossentropy', metrics=['accuracy'])\n",
    "#Implementing model checkpoins to save the best metric and do not lose it on training.\n",
    "checkpoint1 = ModelCheckpoint(\"best_model1.hdf5\", monitor='val_accuracy', verbose=1,save_best_only=True, mode='auto', period=1,save_weights_only=False)\n",
    "history = model1.fit(X_train, y_train, epochs=70,validation_data=(X_test, y_test),callbacks=[checkpoint1])"
   ]
  },
  {
   "cell_type": "markdown",
   "metadata": {
    "id": "7T1D2mD48LO_",
    "papermill": {
     "duration": 3.837682,
     "end_time": "2020-10-06T21:30:10.817414",
     "exception": false,
     "start_time": "2020-10-06T21:30:06.979732",
     "status": "completed"
    },
    "tags": []
   },
   "source": [
    "## Bidirectional LTSM model"
   ]
  },
  {
   "cell_type": "code",
   "execution_count": 24,
   "metadata": {
    "colab": {
     "base_uri": "https://localhost:8080/"
    },
    "execution": {
     "iopub.execute_input": "2020-10-06T21:30:18.875895Z",
     "iopub.status.busy": "2020-10-06T21:30:18.874621Z",
     "iopub.status.idle": "2020-10-06T21:49:59.410271Z",
     "shell.execute_reply": "2020-10-06T21:49:59.411560Z"
    },
    "id": "EWYahMeQ8LPA",
    "outputId": "f9fecc7e-4c3a-4a9a-ff4f-87b54e4e3534",
    "papermill": {
     "duration": 1184.636954,
     "end_time": "2020-10-06T21:49:59.411827",
     "exception": false,
     "start_time": "2020-10-06T21:30:14.774873",
     "status": "completed"
    },
    "tags": []
   },
   "outputs": [
    {
     "name": "stdout",
     "output_type": "stream",
     "text": [
      "WARNING:tensorflow:`period` argument is deprecated. Please use `save_freq` to specify the frequency in number of batches seen.\n",
      "Epoch 1/70\n",
      "645/645 [==============================] - 52s 73ms/step - loss: 0.7779 - accuracy: 0.6670 - val_loss: 0.6221 - val_accuracy: 0.7366\n",
      "\n",
      "Epoch 00001: val_accuracy improved from -inf to 0.73657, saving model to best_model2.hdf5\n",
      "Epoch 2/70\n",
      "645/645 [==============================] - 23s 35ms/step - loss: 0.5564 - accuracy: 0.7791 - val_loss: 0.5128 - val_accuracy: 0.8029\n",
      "\n",
      "Epoch 00002: val_accuracy improved from 0.73657 to 0.80294, saving model to best_model2.hdf5\n",
      "Epoch 3/70\n",
      "645/645 [==============================] - 20s 31ms/step - loss: 0.4973 - accuracy: 0.8082 - val_loss: 0.5177 - val_accuracy: 0.7932\n",
      "\n",
      "Epoch 00003: val_accuracy did not improve from 0.80294\n",
      "Epoch 4/70\n",
      "645/645 [==============================] - 20s 30ms/step - loss: 0.4655 - accuracy: 0.8205 - val_loss: 0.4702 - val_accuracy: 0.8157\n",
      "\n",
      "Epoch 00004: val_accuracy improved from 0.80294 to 0.81575, saving model to best_model2.hdf5\n",
      "Epoch 5/70\n",
      "645/645 [==============================] - 19s 29ms/step - loss: 0.4493 - accuracy: 0.8282 - val_loss: 0.4758 - val_accuracy: 0.8130\n",
      "\n",
      "Epoch 00005: val_accuracy did not improve from 0.81575\n",
      "Epoch 6/70\n",
      "645/645 [==============================] - 19s 30ms/step - loss: 0.4338 - accuracy: 0.8345 - val_loss: 0.4522 - val_accuracy: 0.8252\n",
      "\n",
      "Epoch 00006: val_accuracy improved from 0.81575 to 0.82521, saving model to best_model2.hdf5\n",
      "Epoch 7/70\n",
      "645/645 [==============================] - 20s 30ms/step - loss: 0.4198 - accuracy: 0.8429 - val_loss: 0.4734 - val_accuracy: 0.8105\n",
      "\n",
      "Epoch 00007: val_accuracy did not improve from 0.82521\n",
      "Epoch 8/70\n",
      "645/645 [==============================] - 19s 30ms/step - loss: 0.4113 - accuracy: 0.8448 - val_loss: 0.4436 - val_accuracy: 0.8277\n",
      "\n",
      "Epoch 00008: val_accuracy improved from 0.82521 to 0.82768, saving model to best_model2.hdf5\n",
      "Epoch 9/70\n",
      "645/645 [==============================] - 22s 34ms/step - loss: 0.4039 - accuracy: 0.8473 - val_loss: 0.4411 - val_accuracy: 0.8287\n",
      "\n",
      "Epoch 00009: val_accuracy improved from 0.82768 to 0.82870, saving model to best_model2.hdf5\n",
      "Epoch 10/70\n",
      "645/645 [==============================] - 19s 30ms/step - loss: 0.3951 - accuracy: 0.8507 - val_loss: 0.4392 - val_accuracy: 0.8300\n",
      "\n",
      "Epoch 00010: val_accuracy improved from 0.82870 to 0.83001, saving model to best_model2.hdf5\n",
      "Epoch 11/70\n",
      "645/645 [==============================] - 19s 30ms/step - loss: 0.3881 - accuracy: 0.8550 - val_loss: 0.4385 - val_accuracy: 0.8293\n",
      "\n",
      "Epoch 00011: val_accuracy did not improve from 0.83001\n",
      "Epoch 12/70\n",
      "645/645 [==============================] - 22s 33ms/step - loss: 0.3829 - accuracy: 0.8558 - val_loss: 0.4330 - val_accuracy: 0.8336\n",
      "\n",
      "Epoch 00012: val_accuracy improved from 0.83001 to 0.83365, saving model to best_model2.hdf5\n",
      "Epoch 13/70\n",
      "645/645 [==============================] - 37s 57ms/step - loss: 0.3763 - accuracy: 0.8605 - val_loss: 0.4390 - val_accuracy: 0.8325\n",
      "\n",
      "Epoch 00013: val_accuracy did not improve from 0.83365\n",
      "Epoch 14/70\n",
      "645/645 [==============================] - 22s 34ms/step - loss: 0.3741 - accuracy: 0.8591 - val_loss: 0.4317 - val_accuracy: 0.8350\n",
      "\n",
      "Epoch 00014: val_accuracy improved from 0.83365 to 0.83496, saving model to best_model2.hdf5\n",
      "Epoch 15/70\n",
      "645/645 [==============================] - 19s 30ms/step - loss: 0.3686 - accuracy: 0.8624 - val_loss: 0.4297 - val_accuracy: 0.8328\n",
      "\n",
      "Epoch 00015: val_accuracy did not improve from 0.83496\n",
      "Epoch 16/70\n",
      "645/645 [==============================] - 19s 30ms/step - loss: 0.3669 - accuracy: 0.8638 - val_loss: 0.4355 - val_accuracy: 0.8336\n",
      "\n",
      "Epoch 00016: val_accuracy did not improve from 0.83496\n",
      "Epoch 17/70\n",
      "645/645 [==============================] - 19s 29ms/step - loss: 0.3624 - accuracy: 0.8643 - val_loss: 0.4327 - val_accuracy: 0.8272\n",
      "\n",
      "Epoch 00017: val_accuracy did not improve from 0.83496\n",
      "Epoch 18/70\n",
      "645/645 [==============================] - 19s 30ms/step - loss: 0.3595 - accuracy: 0.8648 - val_loss: 0.4263 - val_accuracy: 0.8376\n",
      "\n",
      "Epoch 00018: val_accuracy improved from 0.83496 to 0.83758, saving model to best_model2.hdf5\n",
      "Epoch 19/70\n",
      "645/645 [==============================] - 19s 30ms/step - loss: 0.3528 - accuracy: 0.8687 - val_loss: 0.4281 - val_accuracy: 0.8396\n",
      "\n",
      "Epoch 00019: val_accuracy improved from 0.83758 to 0.83962, saving model to best_model2.hdf5\n",
      "Epoch 20/70\n",
      "645/645 [==============================] - 19s 30ms/step - loss: 0.3523 - accuracy: 0.8707 - val_loss: 0.4263 - val_accuracy: 0.8379\n",
      "\n",
      "Epoch 00020: val_accuracy did not improve from 0.83962\n",
      "Epoch 21/70\n",
      "645/645 [==============================] - 20s 30ms/step - loss: 0.3496 - accuracy: 0.8690 - val_loss: 0.4253 - val_accuracy: 0.8373\n",
      "\n",
      "Epoch 00021: val_accuracy did not improve from 0.83962\n",
      "Epoch 22/70\n",
      "645/645 [==============================] - 20s 31ms/step - loss: 0.3483 - accuracy: 0.8717 - val_loss: 0.4236 - val_accuracy: 0.8336\n",
      "\n",
      "Epoch 00022: val_accuracy did not improve from 0.83962\n",
      "Epoch 23/70\n",
      "645/645 [==============================] - 19s 30ms/step - loss: 0.3440 - accuracy: 0.8730 - val_loss: 0.4310 - val_accuracy: 0.8342\n",
      "\n",
      "Epoch 00023: val_accuracy did not improve from 0.83962\n",
      "Epoch 24/70\n",
      "645/645 [==============================] - 19s 30ms/step - loss: 0.3447 - accuracy: 0.8716 - val_loss: 0.4233 - val_accuracy: 0.8380\n",
      "\n",
      "Epoch 00024: val_accuracy did not improve from 0.83962\n",
      "Epoch 25/70\n",
      "645/645 [==============================] - 19s 30ms/step - loss: 0.3416 - accuracy: 0.8735 - val_loss: 0.4247 - val_accuracy: 0.8373\n",
      "\n",
      "Epoch 00025: val_accuracy did not improve from 0.83962\n",
      "Epoch 26/70\n",
      "645/645 [==============================] - 20s 31ms/step - loss: 0.3405 - accuracy: 0.8719 - val_loss: 0.4244 - val_accuracy: 0.8379\n",
      "\n",
      "Epoch 00026: val_accuracy did not improve from 0.83962\n",
      "Epoch 27/70\n",
      "645/645 [==============================] - 19s 30ms/step - loss: 0.3371 - accuracy: 0.8745 - val_loss: 0.4302 - val_accuracy: 0.8328\n",
      "\n",
      "Epoch 00027: val_accuracy did not improve from 0.83962\n",
      "Epoch 28/70\n",
      "645/645 [==============================] - 19s 30ms/step - loss: 0.3360 - accuracy: 0.8748 - val_loss: 0.4263 - val_accuracy: 0.8367\n",
      "\n",
      "Epoch 00028: val_accuracy did not improve from 0.83962\n",
      "Epoch 29/70\n",
      "645/645 [==============================] - 19s 30ms/step - loss: 0.3351 - accuracy: 0.8754 - val_loss: 0.4241 - val_accuracy: 0.8408\n",
      "\n",
      "Epoch 00029: val_accuracy improved from 0.83962 to 0.84078, saving model to best_model2.hdf5\n",
      "Epoch 30/70\n",
      "645/645 [==============================] - 19s 30ms/step - loss: 0.3345 - accuracy: 0.8765 - val_loss: 0.4322 - val_accuracy: 0.8398\n",
      "\n",
      "Epoch 00030: val_accuracy did not improve from 0.84078\n",
      "Epoch 31/70\n",
      "645/645 [==============================] - 19s 29ms/step - loss: 0.3321 - accuracy: 0.8787 - val_loss: 0.4306 - val_accuracy: 0.8382\n",
      "\n",
      "Epoch 00031: val_accuracy did not improve from 0.84078\n",
      "Epoch 32/70\n",
      "645/645 [==============================] - 19s 30ms/step - loss: 0.3300 - accuracy: 0.8784 - val_loss: 0.4325 - val_accuracy: 0.8387\n",
      "\n",
      "Epoch 00032: val_accuracy did not improve from 0.84078\n",
      "Epoch 33/70\n",
      "645/645 [==============================] - 20s 30ms/step - loss: 0.3287 - accuracy: 0.8801 - val_loss: 0.4290 - val_accuracy: 0.8395\n",
      "\n",
      "Epoch 00033: val_accuracy did not improve from 0.84078\n",
      "Epoch 34/70\n",
      "645/645 [==============================] - 19s 30ms/step - loss: 0.3242 - accuracy: 0.8789 - val_loss: 0.4400 - val_accuracy: 0.8325\n",
      "\n",
      "Epoch 00034: val_accuracy did not improve from 0.84078\n",
      "Epoch 35/70\n",
      "645/645 [==============================] - 19s 30ms/step - loss: 0.3289 - accuracy: 0.8769 - val_loss: 0.4252 - val_accuracy: 0.8392\n",
      "\n",
      "Epoch 00035: val_accuracy did not improve from 0.84078\n",
      "Epoch 36/70\n",
      "645/645 [==============================] - 19s 30ms/step - loss: 0.3216 - accuracy: 0.8819 - val_loss: 0.4322 - val_accuracy: 0.8386\n",
      "\n",
      "Epoch 00036: val_accuracy did not improve from 0.84078\n",
      "Epoch 37/70\n",
      "645/645 [==============================] - 19s 29ms/step - loss: 0.3220 - accuracy: 0.8807 - val_loss: 0.4305 - val_accuracy: 0.8367\n",
      "\n",
      "Epoch 00037: val_accuracy did not improve from 0.84078\n",
      "Epoch 38/70\n",
      "645/645 [==============================] - 19s 30ms/step - loss: 0.3178 - accuracy: 0.8844 - val_loss: 0.4284 - val_accuracy: 0.8411\n",
      "\n",
      "Epoch 00038: val_accuracy improved from 0.84078 to 0.84107, saving model to best_model2.hdf5\n",
      "Epoch 39/70\n"
     ]
    },
    {
     "name": "stdout",
     "output_type": "stream",
     "text": [
      "645/645 [==============================] - 19s 30ms/step - loss: 0.3227 - accuracy: 0.8818 - val_loss: 0.4314 - val_accuracy: 0.8393\n",
      "\n",
      "Epoch 00039: val_accuracy did not improve from 0.84107\n",
      "Epoch 40/70\n",
      "645/645 [==============================] - 19s 30ms/step - loss: 0.3156 - accuracy: 0.8841 - val_loss: 0.4291 - val_accuracy: 0.8398\n",
      "\n",
      "Epoch 00040: val_accuracy did not improve from 0.84107\n",
      "Epoch 41/70\n",
      "645/645 [==============================] - 19s 29ms/step - loss: 0.3180 - accuracy: 0.8835 - val_loss: 0.4303 - val_accuracy: 0.8402\n",
      "\n",
      "Epoch 00041: val_accuracy did not improve from 0.84107\n",
      "Epoch 42/70\n",
      "645/645 [==============================] - 19s 30ms/step - loss: 0.3165 - accuracy: 0.8846 - val_loss: 0.4277 - val_accuracy: 0.8415\n",
      "\n",
      "Epoch 00042: val_accuracy improved from 0.84107 to 0.84151, saving model to best_model2.hdf5\n",
      "Epoch 43/70\n",
      "645/645 [==============================] - 20s 30ms/step - loss: 0.3150 - accuracy: 0.8827 - val_loss: 0.4342 - val_accuracy: 0.8390\n",
      "\n",
      "Epoch 00043: val_accuracy did not improve from 0.84151\n",
      "Epoch 44/70\n",
      "645/645 [==============================] - 20s 30ms/step - loss: 0.3119 - accuracy: 0.8853 - val_loss: 0.4306 - val_accuracy: 0.8398\n",
      "\n",
      "Epoch 00044: val_accuracy did not improve from 0.84151\n",
      "Epoch 45/70\n",
      "645/645 [==============================] - 19s 30ms/step - loss: 0.3120 - accuracy: 0.8869 - val_loss: 0.4266 - val_accuracy: 0.8402\n",
      "\n",
      "Epoch 00045: val_accuracy did not improve from 0.84151\n",
      "Epoch 46/70\n",
      "645/645 [==============================] - 19s 30ms/step - loss: 0.3101 - accuracy: 0.8864 - val_loss: 0.4354 - val_accuracy: 0.8367\n",
      "\n",
      "Epoch 00046: val_accuracy did not improve from 0.84151\n",
      "Epoch 47/70\n",
      "645/645 [==============================] - 19s 30ms/step - loss: 0.3090 - accuracy: 0.8880 - val_loss: 0.4335 - val_accuracy: 0.8406\n",
      "\n",
      "Epoch 00047: val_accuracy did not improve from 0.84151\n",
      "Epoch 48/70\n",
      "645/645 [==============================] - 19s 29ms/step - loss: 0.3090 - accuracy: 0.8861 - val_loss: 0.4311 - val_accuracy: 0.8409\n",
      "\n",
      "Epoch 00048: val_accuracy did not improve from 0.84151\n",
      "Epoch 49/70\n",
      "645/645 [==============================] - 19s 30ms/step - loss: 0.3091 - accuracy: 0.8874 - val_loss: 0.4310 - val_accuracy: 0.8405\n",
      "\n",
      "Epoch 00049: val_accuracy did not improve from 0.84151\n",
      "Epoch 50/70\n",
      "645/645 [==============================] - 19s 30ms/step - loss: 0.3069 - accuracy: 0.8890 - val_loss: 0.4296 - val_accuracy: 0.8409\n",
      "\n",
      "Epoch 00050: val_accuracy did not improve from 0.84151\n",
      "Epoch 51/70\n",
      "645/645 [==============================] - 19s 30ms/step - loss: 0.3051 - accuracy: 0.8887 - val_loss: 0.4308 - val_accuracy: 0.8393\n",
      "\n",
      "Epoch 00051: val_accuracy did not improve from 0.84151\n",
      "Epoch 52/70\n",
      "645/645 [==============================] - 19s 29ms/step - loss: 0.3006 - accuracy: 0.8909 - val_loss: 0.4316 - val_accuracy: 0.8417\n",
      "\n",
      "Epoch 00052: val_accuracy improved from 0.84151 to 0.84165, saving model to best_model2.hdf5\n",
      "Epoch 53/70\n",
      "645/645 [==============================] - 19s 29ms/step - loss: 0.3008 - accuracy: 0.8906 - val_loss: 0.4339 - val_accuracy: 0.8402\n",
      "\n",
      "Epoch 00053: val_accuracy did not improve from 0.84165\n",
      "Epoch 54/70\n",
      "645/645 [==============================] - 19s 29ms/step - loss: 0.3031 - accuracy: 0.8903 - val_loss: 0.4355 - val_accuracy: 0.8352\n",
      "\n",
      "Epoch 00054: val_accuracy did not improve from 0.84165\n",
      "Epoch 55/70\n",
      "645/645 [==============================] - 19s 30ms/step - loss: 0.2992 - accuracy: 0.8905 - val_loss: 0.4301 - val_accuracy: 0.8411\n",
      "\n",
      "Epoch 00055: val_accuracy did not improve from 0.84165\n",
      "Epoch 56/70\n",
      "645/645 [==============================] - 19s 30ms/step - loss: 0.2978 - accuracy: 0.8923 - val_loss: 0.4383 - val_accuracy: 0.8352\n",
      "\n",
      "Epoch 00056: val_accuracy did not improve from 0.84165\n",
      "Epoch 57/70\n",
      "645/645 [==============================] - 19s 29ms/step - loss: 0.2999 - accuracy: 0.8908 - val_loss: 0.4361 - val_accuracy: 0.8367\n",
      "\n",
      "Epoch 00057: val_accuracy did not improve from 0.84165\n",
      "Epoch 58/70\n",
      "645/645 [==============================] - 19s 30ms/step - loss: 0.2995 - accuracy: 0.8905 - val_loss: 0.4339 - val_accuracy: 0.8406\n",
      "\n",
      "Epoch 00058: val_accuracy did not improve from 0.84165\n",
      "Epoch 59/70\n",
      "645/645 [==============================] - 19s 29ms/step - loss: 0.2974 - accuracy: 0.8924 - val_loss: 0.4375 - val_accuracy: 0.8370\n",
      "\n",
      "Epoch 00059: val_accuracy did not improve from 0.84165\n",
      "Epoch 60/70\n",
      "645/645 [==============================] - 19s 29ms/step - loss: 0.2942 - accuracy: 0.8920 - val_loss: 0.4395 - val_accuracy: 0.8374\n",
      "\n",
      "Epoch 00060: val_accuracy did not improve from 0.84165\n",
      "Epoch 61/70\n",
      "645/645 [==============================] - 19s 30ms/step - loss: 0.2946 - accuracy: 0.8938 - val_loss: 0.4364 - val_accuracy: 0.8418\n",
      "\n",
      "Epoch 00061: val_accuracy improved from 0.84165 to 0.84180, saving model to best_model2.hdf5\n",
      "Epoch 62/70\n",
      "645/645 [==============================] - 19s 30ms/step - loss: 0.2944 - accuracy: 0.8945 - val_loss: 0.4399 - val_accuracy: 0.8374\n",
      "\n",
      "Epoch 00062: val_accuracy did not improve from 0.84180\n",
      "Epoch 63/70\n",
      "645/645 [==============================] - 19s 29ms/step - loss: 0.2952 - accuracy: 0.8921 - val_loss: 0.4396 - val_accuracy: 0.8369\n",
      "\n",
      "Epoch 00063: val_accuracy did not improve from 0.84180\n",
      "Epoch 64/70\n",
      "645/645 [==============================] - 19s 29ms/step - loss: 0.2952 - accuracy: 0.8953 - val_loss: 0.4349 - val_accuracy: 0.8412\n",
      "\n",
      "Epoch 00064: val_accuracy did not improve from 0.84180\n",
      "Epoch 65/70\n",
      "645/645 [==============================] - 19s 29ms/step - loss: 0.2947 - accuracy: 0.8940 - val_loss: 0.4361 - val_accuracy: 0.8392\n",
      "\n",
      "Epoch 00065: val_accuracy did not improve from 0.84180\n",
      "Epoch 66/70\n",
      "645/645 [==============================] - 19s 30ms/step - loss: 0.2892 - accuracy: 0.8952 - val_loss: 0.4367 - val_accuracy: 0.8408\n",
      "\n",
      "Epoch 00066: val_accuracy did not improve from 0.84180\n",
      "Epoch 67/70\n",
      "645/645 [==============================] - 19s 30ms/step - loss: 0.2898 - accuracy: 0.8964 - val_loss: 0.4457 - val_accuracy: 0.8370\n",
      "\n",
      "Epoch 00067: val_accuracy did not improve from 0.84180\n",
      "Epoch 68/70\n",
      "645/645 [==============================] - 19s 30ms/step - loss: 0.2911 - accuracy: 0.8974 - val_loss: 0.4417 - val_accuracy: 0.8366\n",
      "\n",
      "Epoch 00068: val_accuracy did not improve from 0.84180\n",
      "Epoch 69/70\n",
      "645/645 [==============================] - 19s 29ms/step - loss: 0.2922 - accuracy: 0.8953 - val_loss: 0.4353 - val_accuracy: 0.8412\n",
      "\n",
      "Epoch 00069: val_accuracy did not improve from 0.84180\n",
      "Epoch 70/70\n",
      "645/645 [==============================] - 19s 30ms/step - loss: 0.2884 - accuracy: 0.8962 - val_loss: 0.4412 - val_accuracy: 0.8369\n",
      "\n",
      "Epoch 00070: val_accuracy did not improve from 0.84180\n"
     ]
    }
   ],
   "source": [
    "model2 = Sequential()\n",
    "model2.add(layers.Embedding(max_words, 40, input_length=max_len))\n",
    "model2.add(layers.Bidirectional(layers.LSTM(20,dropout=0.6)))\n",
    "model2.add(layers.Dense(3,activation='softmax'))\n",
    "model2.compile(optimizer='rmsprop',loss='categorical_crossentropy', metrics=['accuracy'])\n",
    "#Implementing model checkpoins to save the best metric and do not lose it on training.\n",
    "checkpoint2 = ModelCheckpoint(\"best_model2.hdf5\", monitor='val_accuracy', verbose=1,save_best_only=True, mode='auto', period=1,save_weights_only=False)\n",
    "history = model2.fit(X_train, y_train, epochs=70,validation_data=(X_test, y_test),callbacks=[checkpoint2])"
   ]
  },
  {
   "cell_type": "markdown",
   "metadata": {
    "id": "6Qmu6csd8LPA",
    "papermill": {
     "duration": 11.452373,
     "end_time": "2020-10-06T21:50:21.772094",
     "exception": false,
     "start_time": "2020-10-06T21:50:10.319721",
     "status": "completed"
    },
    "tags": []
   },
   "source": [
    "## 1D Convolutional model\n",
    "\n",
    "Before diving into this model, I know by prior experience that it tends to overfit extremely fast on small datasets. In this sense, just will implement it to show you how to do it in case it's of your interest."
   ]
  },
  {
   "cell_type": "code",
   "execution_count": 25,
   "metadata": {
    "colab": {
     "base_uri": "https://localhost:8080/"
    },
    "execution": {
     "iopub.execute_input": "2020-10-06T21:50:43.900261Z",
     "iopub.status.busy": "2020-10-06T21:50:43.899061Z",
     "iopub.status.idle": "2020-10-06T21:56:48.149729Z",
     "shell.execute_reply": "2020-10-06T21:56:48.149055Z"
    },
    "id": "sOR436hV8LPB",
    "outputId": "f9fdb1b5-3da7-473c-a06e-127cdbdee2e3",
    "papermill": {
     "duration": 375.351238,
     "end_time": "2020-10-06T21:56:48.149913",
     "exception": false,
     "start_time": "2020-10-06T21:50:32.798675",
     "status": "completed"
    },
    "tags": []
   },
   "outputs": [
    {
     "ename": "ModuleNotFoundError",
     "evalue": "No module named 'keras'",
     "output_type": "error",
     "traceback": [
      "\u001b[1;31m---------------------------------------------------------------------------\u001b[0m",
      "\u001b[1;31mModuleNotFoundError\u001b[0m                       Traceback (most recent call last)",
      "\u001b[1;32m~\\AppData\\Local\\Temp/ipykernel_24584/3981952706.py\u001b[0m in \u001b[0;36m<module>\u001b[1;34m\u001b[0m\n\u001b[1;32m----> 1\u001b[1;33m \u001b[1;32mfrom\u001b[0m \u001b[0mkeras\u001b[0m \u001b[1;32mimport\u001b[0m \u001b[0mregularizers\u001b[0m\u001b[1;33m\u001b[0m\u001b[1;33m\u001b[0m\u001b[0m\n\u001b[0m\u001b[0;32m      2\u001b[0m \u001b[0mmodel3\u001b[0m \u001b[1;33m=\u001b[0m \u001b[0mSequential\u001b[0m\u001b[1;33m(\u001b[0m\u001b[1;33m)\u001b[0m\u001b[1;33m\u001b[0m\u001b[1;33m\u001b[0m\u001b[0m\n\u001b[0;32m      3\u001b[0m \u001b[0mmodel3\u001b[0m\u001b[1;33m.\u001b[0m\u001b[0madd\u001b[0m\u001b[1;33m(\u001b[0m\u001b[0mlayers\u001b[0m\u001b[1;33m.\u001b[0m\u001b[0mEmbedding\u001b[0m\u001b[1;33m(\u001b[0m\u001b[0mmax_words\u001b[0m\u001b[1;33m,\u001b[0m \u001b[1;36m40\u001b[0m\u001b[1;33m,\u001b[0m \u001b[0minput_length\u001b[0m\u001b[1;33m=\u001b[0m\u001b[0mmax_len\u001b[0m\u001b[1;33m)\u001b[0m\u001b[1;33m)\u001b[0m\u001b[1;33m\u001b[0m\u001b[1;33m\u001b[0m\u001b[0m\n\u001b[0;32m      4\u001b[0m \u001b[0mmodel3\u001b[0m\u001b[1;33m.\u001b[0m\u001b[0madd\u001b[0m\u001b[1;33m(\u001b[0m\u001b[0mlayers\u001b[0m\u001b[1;33m.\u001b[0m\u001b[0mConv1D\u001b[0m\u001b[1;33m(\u001b[0m\u001b[1;36m20\u001b[0m\u001b[1;33m,\u001b[0m \u001b[1;36m6\u001b[0m\u001b[1;33m,\u001b[0m \u001b[0mactivation\u001b[0m\u001b[1;33m=\u001b[0m\u001b[1;34m'relu'\u001b[0m\u001b[1;33m,\u001b[0m\u001b[0mkernel_regularizer\u001b[0m\u001b[1;33m=\u001b[0m\u001b[0mregularizers\u001b[0m\u001b[1;33m.\u001b[0m\u001b[0ml1_l2\u001b[0m\u001b[1;33m(\u001b[0m\u001b[0ml1\u001b[0m\u001b[1;33m=\u001b[0m\u001b[1;36m2e-3\u001b[0m\u001b[1;33m,\u001b[0m \u001b[0ml2\u001b[0m\u001b[1;33m=\u001b[0m\u001b[1;36m2e-3\u001b[0m\u001b[1;33m)\u001b[0m\u001b[1;33m,\u001b[0m\u001b[0mbias_regularizer\u001b[0m\u001b[1;33m=\u001b[0m\u001b[0mregularizers\u001b[0m\u001b[1;33m.\u001b[0m\u001b[0ml2\u001b[0m\u001b[1;33m(\u001b[0m\u001b[1;36m2e-3\u001b[0m\u001b[1;33m)\u001b[0m\u001b[1;33m)\u001b[0m\u001b[1;33m)\u001b[0m\u001b[1;33m\u001b[0m\u001b[1;33m\u001b[0m\u001b[0m\n\u001b[0;32m      5\u001b[0m \u001b[0mmodel3\u001b[0m\u001b[1;33m.\u001b[0m\u001b[0madd\u001b[0m\u001b[1;33m(\u001b[0m\u001b[0mlayers\u001b[0m\u001b[1;33m.\u001b[0m\u001b[0mMaxPooling1D\u001b[0m\u001b[1;33m(\u001b[0m\u001b[1;36m5\u001b[0m\u001b[1;33m)\u001b[0m\u001b[1;33m)\u001b[0m\u001b[1;33m\u001b[0m\u001b[1;33m\u001b[0m\u001b[0m\n",
      "\u001b[1;31mModuleNotFoundError\u001b[0m: No module named 'keras'"
     ]
    }
   ],
   "source": [
    "from keras import regularizers\n",
    "model3 = Sequential()\n",
    "model3.add(layers.Embedding(max_words, 40, input_length=max_len))\n",
    "model3.add(layers.Conv1D(20, 6, activation='relu',kernel_regularizer=regularizers.l1_l2(l1=2e-3, l2=2e-3),bias_regularizer=regularizers.l2(2e-3)))\n",
    "model3.add(layers.MaxPooling1D(5))\n",
    "model3.add(layers.Conv1D(20, 6, activation='relu',kernel_regularizer=regularizers.l1_l2(l1=2e-3, l2=2e-3),bias_regularizer=regularizers.l2(2e-3)))\n",
    "model3.add(layers.GlobalMaxPooling1D())\n",
    "model3.add(layers.Dense(3,activation='softmax'))\n",
    "model3.compile(optimizer='rmsprop',loss='categorical_crossentropy',metrics=['acc'])\n",
    "checkpoint3 = ModelCheckpoint(\"best_model3.hdf5\", monitor='val_accuracy', verbose=1,save_best_only=True, mode='auto', period=1,save_weights_only=False)\n",
    "history = model3.fit(X_train, y_train, epochs=70,validation_data=(X_test, y_test),callbacks=[checkpoint3])"
   ]
  },
  {
   "cell_type": "markdown",
   "metadata": {
    "id": "eZ3drAQ68LPB",
    "papermill": {
     "duration": 13.181114,
     "end_time": "2020-10-06T21:57:15.037099",
     "exception": false,
     "start_time": "2020-10-06T21:57:01.855985",
     "status": "completed"
    },
    "tags": []
   },
   "source": [
    "If you check the val_accuracy metric in the training logs you won't find better score than the one achieved by the BidRNN. Again, the previous model is not the best for this task becaue is majorly used for short translation tasks, but the good thing to notice is its speed to train.\n",
    "\n",
    "Let's move on."
   ]
  },
  {
   "cell_type": "markdown",
   "metadata": {
    "id": "91HXYMqV8LPC",
    "papermill": {
     "duration": 13.897718,
     "end_time": "2020-10-06T21:57:43.244943",
     "exception": false,
     "start_time": "2020-10-06T21:57:29.347225",
     "status": "completed"
    },
    "tags": []
   },
   "source": [
    "# Best model validation\n",
    "(Before final commit, the best model obtained was the BidRNN)"
   ]
  },
  {
   "cell_type": "code",
   "execution_count": 26,
   "metadata": {
    "execution": {
     "iopub.execute_input": "2020-10-06T21:58:11.467383Z",
     "iopub.status.busy": "2020-10-06T21:58:11.466210Z",
     "iopub.status.idle": "2020-10-06T21:58:12.123269Z",
     "shell.execute_reply": "2020-10-06T21:58:12.122665Z"
    },
    "id": "pyhTgtC08LPC",
    "papermill": {
     "duration": 14.579894,
     "end_time": "2020-10-06T21:58:12.123401",
     "exception": false,
     "start_time": "2020-10-06T21:57:57.543507",
     "status": "completed"
    },
    "tags": []
   },
   "outputs": [],
   "source": [
    "from tensorflow.keras import models \n",
    "#Let's load the best model obtained during training\n",
    "best_model = models.load_model(\"best_model2.hdf5\")"
   ]
  },
  {
   "cell_type": "code",
   "execution_count": 27,
   "metadata": {
    "execution": {
     "iopub.execute_input": "2020-10-06T21:58:39.201557Z",
     "iopub.status.busy": "2020-10-06T21:58:39.200429Z",
     "iopub.status.idle": "2020-10-06T21:58:42.153698Z",
     "shell.execute_reply": "2020-10-06T21:58:42.152736Z"
    },
    "id": "uj--qSa28LPC",
    "papermill": {
     "duration": 16.163436,
     "end_time": "2020-10-06T21:58:42.153869",
     "exception": false,
     "start_time": "2020-10-06T21:58:25.990433",
     "status": "completed"
    },
    "tags": []
   },
   "outputs": [
    {
     "name": "stdout",
     "output_type": "stream",
     "text": [
      "215/215 - 4s - loss: 0.4364 - accuracy: 0.8418\n",
      "Model accuracy:  0.8417988419532776\n"
     ]
    }
   ],
   "source": [
    "test_loss, test_acc = best_model.evaluate(X_test, y_test, verbose=2)\n",
    "print('Model accuracy: ',test_acc)"
   ]
  },
  {
   "cell_type": "code",
   "execution_count": 28,
   "metadata": {
    "execution": {
     "iopub.execute_input": "2020-10-06T21:59:08.598704Z",
     "iopub.status.busy": "2020-10-06T21:59:08.597660Z",
     "iopub.status.idle": "2020-10-06T21:59:11.143379Z",
     "shell.execute_reply": "2020-10-06T21:59:11.144225Z"
    },
    "id": "lOV3ywEo8LPD",
    "papermill": {
     "duration": 15.873978,
     "end_time": "2020-10-06T21:59:11.144400",
     "exception": false,
     "start_time": "2020-10-06T21:58:55.270422",
     "status": "completed"
    },
    "tags": []
   },
   "outputs": [],
   "source": [
    "predictions = best_model.predict(X_test)"
   ]
  },
  {
   "cell_type": "markdown",
   "metadata": {
    "id": "kpEe5vNB8LPD",
    "papermill": {
     "duration": 13.54467,
     "end_time": "2020-10-06T21:59:38.859073",
     "exception": false,
     "start_time": "2020-10-06T21:59:25.314403",
     "status": "completed"
    },
    "tags": []
   },
   "source": [
    "## Confusion matrix\n",
    "\n",
    "Alright, we all know the accuracy is not a good metric to measure how well a model is. That's the reason why I like to always see its confusion matrix, that way I have a better understanding of its classification and generalization ability. Let's plot it."
   ]
  },
  {
   "cell_type": "code",
   "execution_count": 29,
   "metadata": {
    "execution": {
     "iopub.execute_input": "2020-10-06T22:00:05.244627Z",
     "iopub.status.busy": "2020-10-06T22:00:05.243340Z",
     "iopub.status.idle": "2020-10-06T22:00:05.261173Z",
     "shell.execute_reply": "2020-10-06T22:00:05.260523Z"
    },
    "id": "rV08-6Cw8LPE",
    "papermill": {
     "duration": 13.356845,
     "end_time": "2020-10-06T22:00:05.261290",
     "exception": false,
     "start_time": "2020-10-06T21:59:51.904445",
     "status": "completed"
    },
    "tags": []
   },
   "outputs": [],
   "source": [
    "from sklearn.metrics import confusion_matrix\n",
    "matrix = confusion_matrix(y_test.argmax(axis=1), np.around(predictions, decimals=0).argmax(axis=1))"
   ]
  },
  {
   "cell_type": "code",
   "execution_count": 30,
   "metadata": {
    "execution": {
     "iopub.execute_input": "2020-10-06T22:00:32.586908Z",
     "iopub.status.busy": "2020-10-06T22:00:32.586210Z",
     "iopub.status.idle": "2020-10-06T22:00:33.285612Z",
     "shell.execute_reply": "2020-10-06T22:00:33.285009Z"
    },
    "id": "AVOFER-Y8LPE",
    "papermill": {
     "duration": 14.015558,
     "end_time": "2020-10-06T22:00:33.285736",
     "exception": false,
     "start_time": "2020-10-06T22:00:19.270178",
     "status": "completed"
    },
    "tags": []
   },
   "outputs": [
    {
     "data": {
      "text/plain": [
       "<AxesSubplot:>"
      ]
     },
     "execution_count": 30,
     "metadata": {},
     "output_type": "execute_result"
    },
    {
     "data": {
      "image/png": "[encoded data removed]",
      "text/plain": [
       "<Figure size 1080x1080 with 2 Axes>"
      ]
     },
     "metadata": {
      "needs_background": "light"
     },
     "output_type": "display_data"
    }
   ],
   "source": [
    "import seaborn as sns\n",
    "conf_matrix = pd.DataFrame(matrix, index = ['Neutral','Negative','Positive'],columns = ['Neutral','Negative','Positive'])\n",
    "#Normalizing\n",
    "conf_matrix = conf_matrix.astype('float') / conf_matrix.sum(axis=1)[:, np.newaxis]\n",
    "plt.figure(figsize = (15,15))\n",
    "sns.heatmap(conf_matrix, annot=True, annot_kws={\"size\": 15})"
   ]
  },
  {
   "cell_type": "markdown",
   "metadata": {
    "id": "29AyzYaG8LPE",
    "papermill": {
     "duration": 12.906403,
     "end_time": "2020-10-06T22:00:59.275554",
     "exception": false,
     "start_time": "2020-10-06T22:00:46.369151",
     "status": "completed"
    },
    "tags": []
   },
   "source": [
    "Again, the model's score is very poor, but keep in mind it hasn't gone through hyperparameter tuning. Let's see how it performs on some test text."
   ]
  },
  {
   "cell_type": "code",
   "execution_count": 31,
   "metadata": {
    "execution": {
     "iopub.execute_input": "2020-10-06T22:01:26.949303Z",
     "iopub.status.busy": "2020-10-06T22:01:26.947906Z",
     "iopub.status.idle": "2020-10-06T22:01:26.951809Z",
     "shell.execute_reply": "2020-10-06T22:01:26.951229Z"
    },
    "id": "r9lOzK5C8LPF",
    "papermill": {
     "duration": 14.303017,
     "end_time": "2020-10-06T22:01:26.951936",
     "exception": false,
     "start_time": "2020-10-06T22:01:12.648919",
     "status": "completed"
    },
    "tags": []
   },
   "outputs": [],
   "source": [
    "sentiment = ['Neutral','Negative','Positive']"
   ]
  },
  {
   "cell_type": "code",
   "execution_count": 32,
   "metadata": {
    "execution": {
     "iopub.execute_input": "2020-10-06T22:01:53.611240Z",
     "iopub.status.busy": "2020-10-06T22:01:53.610198Z",
     "iopub.status.idle": "2020-10-06T22:01:53.680730Z",
     "shell.execute_reply": "2020-10-06T22:01:53.679943Z"
    },
    "id": "Adi82UIM8LPF",
    "papermill": {
     "duration": 13.274625,
     "end_time": "2020-10-06T22:01:53.680880",
     "exception": false,
     "start_time": "2020-10-06T22:01:40.406255",
     "status": "completed"
    },
    "tags": []
   },
   "outputs": [
    {
     "data": {
      "text/plain": [
       "'Negative'"
      ]
     },
     "execution_count": 32,
     "metadata": {},
     "output_type": "execute_result"
    }
   ],
   "source": [
    "sequence = tokenizer.texts_to_sequences(['this experience has been the worst , want my money back'])\n",
    "test = pad_sequences(sequence, maxlen=max_len)\n",
    "sentiment[np.around(best_model.predict(test), decimals=0).argmax(axis=1)[0]]"
   ]
  },
  {
   "cell_type": "code",
   "execution_count": 33,
   "metadata": {
    "execution": {
     "iopub.execute_input": "2020-10-06T22:02:21.215521Z",
     "iopub.status.busy": "2020-10-06T22:02:21.214548Z",
     "iopub.status.idle": "2020-10-06T22:02:21.272639Z",
     "shell.execute_reply": "2020-10-06T22:02:21.271230Z"
    },
    "id": "z-tPHLa58LPG",
    "papermill": {
     "duration": 14.445195,
     "end_time": "2020-10-06T22:02:21.272790",
     "exception": false,
     "start_time": "2020-10-06T22:02:06.827595",
     "status": "completed"
    },
    "tags": []
   },
   "outputs": [
    {
     "data": {
      "text/plain": [
       "'Positive'"
      ]
     },
     "execution_count": 33,
     "metadata": {},
     "output_type": "execute_result"
    }
   ],
   "source": [
    "sequence = tokenizer.texts_to_sequences(['this data science article is the best ever'])\n",
    "test = pad_sequences(sequence, maxlen=max_len)\n",
    "sentiment[np.around(best_model.predict(test), decimals=0).argmax(axis=1)[0]]"
   ]
  },
  {
   "cell_type": "code",
   "execution_count": 34,
   "metadata": {
    "execution": {
     "iopub.execute_input": "2020-10-06T22:02:48.026609Z",
     "iopub.status.busy": "2020-10-06T22:02:48.025563Z",
     "iopub.status.idle": "2020-10-06T22:02:48.086453Z",
     "shell.execute_reply": "2020-10-06T22:02:48.085808Z"
    },
    "id": "NasSsC0K8LPG",
    "papermill": {
     "duration": 13.396502,
     "end_time": "2020-10-06T22:02:48.086621",
     "exception": false,
     "start_time": "2020-10-06T22:02:34.690119",
     "status": "completed"
    },
    "tags": []
   },
   "outputs": [
    {
     "data": {
      "text/plain": [
       "'Negative'"
      ]
     },
     "execution_count": 34,
     "metadata": {},
     "output_type": "execute_result"
    }
   ],
   "source": [
    "sequence = tokenizer.texts_to_sequences(['i hate youtube ads, they are annoying'])\n",
    "test = pad_sequences(sequence, maxlen=max_len)\n",
    "sentiment[np.around(best_model.predict(test), decimals=0).argmax(axis=1)[0]]"
   ]
  },
  {
   "cell_type": "code",
   "execution_count": 35,
   "metadata": {
    "execution": {
     "iopub.execute_input": "2020-10-06T22:03:14.961947Z",
     "iopub.status.busy": "2020-10-06T22:03:14.960920Z",
     "iopub.status.idle": "2020-10-06T22:03:15.014373Z",
     "shell.execute_reply": "2020-10-06T22:03:15.013738Z"
    },
    "id": "PYJASgMG8LPH",
    "papermill": {
     "duration": 13.646468,
     "end_time": "2020-10-06T22:03:15.014510",
     "exception": false,
     "start_time": "2020-10-06T22:03:01.368042",
     "status": "completed"
    },
    "tags": []
   },
   "outputs": [
    {
     "data": {
      "text/plain": [
       "'Positive'"
      ]
     },
     "execution_count": 35,
     "metadata": {},
     "output_type": "execute_result"
    }
   ],
   "source": [
    "sequence = tokenizer.texts_to_sequences(['i really loved how the technician helped me with the issue that i had'])\n",
    "test = pad_sequences(sequence, maxlen=max_len)\n",
    "sentiment[np.around(best_model.predict(test), decimals=0).argmax(axis=1)[0]]"
   ]
  },
  {
   "cell_type": "markdown",
   "metadata": {
    "id": "ns5tQrA_8LPI",
    "papermill": {
     "duration": 13.386795,
     "end_time": "2020-10-06T22:03:42.535596",
     "exception": false,
     "start_time": "2020-10-06T22:03:29.148801",
     "status": "completed"
    },
    "tags": []
   },
   "source": [
    "# Saving model "
   ]
  },
  {
   "cell_type": "code",
   "execution_count": 36,
   "metadata": {
    "execution": {
     "iopub.execute_input": "2020-10-06T22:04:09.194213Z",
     "iopub.status.busy": "2020-10-06T22:04:09.192855Z",
     "iopub.status.idle": "2020-10-06T22:04:09.256007Z",
     "shell.execute_reply": "2020-10-06T22:04:09.257411Z"
    },
    "id": "ZdkdmsSX8LPI",
    "papermill": {
     "duration": 13.356987,
     "end_time": "2020-10-06T22:04:09.257650",
     "exception": false,
     "start_time": "2020-10-06T22:03:55.900663",
     "status": "completed"
    },
    "tags": []
   },
   "outputs": [
    {
     "name": "stdout",
     "output_type": "stream",
     "text": [
      "Model saved\n",
      "Tokenizer saved\n"
     ]
    }
   ],
   "source": [
    "#Saving weights and tokenizer so we can reduce training time on SageMaker\n",
    "\n",
    "# serialize model to JSON\n",
    "model_json = best_model.to_json()\n",
    "with open(\"sentiment_model.json\", \"w\") as json_file:\n",
    "    json_file.write(model_json)\n",
    "    \n",
    "# saving model\n",
    "best_model.save(\"sentiment_model.h5\")\n",
    "print(\"Model saved\")\n",
    "\n",
    "# saving tokenizer\n",
    "with open('sentiment_tokenizer.pickle', 'wb') as handle:\n",
    "    pickle.dump(tokenizer, handle, protocol=pickle.HIGHEST_PROTOCOL)\n",
    "print('Tokenizer saved')"
   ]
  },
  {
   "cell_type": "code",
   "execution_count": null,
   "metadata": {},
   "outputs": [],
   "source": []
  }
 ],
 "metadata": {
  "accelerator": "GPU",
  "colab": {
   "name": "TweetsSentimentPredictions.ipynb",
   "provenance": []
  },
  "kernelspec": {
   "display_name": "Python 3 (ipykernel)",
   "language": "python",
   "name": "python3"
  },
  "language_info": {
   "codemirror_mode": {
    "name": "ipython",
    "version": 3
   },
   "file_extension": ".py",
   "mimetype": "text/x-python",
   "name": "python",
   "nbconvert_exporter": "python",
   "pygments_lexer": "ipython3",
   "version": "3.9.7"
  },
  "papermill": {
   "duration": 2724.650172,
   "end_time": "2020-10-06T22:04:52.151005",
   "environment_variables": {},
   "exception": null,
   "input_path": "__notebook__.ipynb",
   "output_path": "__notebook__.ipynb",
   "parameters": {},
   "start_time": "2020-10-06T21:19:27.500833",
   "version": "2.1.0"
  }
 },
 "nbformat": 4,
 "nbformat_minor": 1
}
