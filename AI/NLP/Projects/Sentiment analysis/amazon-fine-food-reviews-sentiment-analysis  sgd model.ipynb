{
 "cells": [
  {
   "cell_type": "code",
   "execution_count": 1,
   "id": "49cc4da9",
   "metadata": {
    "_cell_guid": "76f1f3d0-b6fe-44a9-993e-ecfe7f108944",
    "_uuid": "c0e8bf21-9fc1-464b-a11b-6bdf4b0f9fce",
    "execution": {
     "iopub.execute_input": "2021-10-12T09:56:58.523921Z",
     "iopub.status.busy": "2021-10-12T09:56:58.523169Z",
     "iopub.status.idle": "2021-10-12T09:57:04.030944Z",
     "shell.execute_reply": "2021-10-12T09:57:04.029920Z",
     "shell.execute_reply.started": "2021-10-12T09:50:13.962021Z"
    },
    "jupyter": {
     "outputs_hidden": false
    },
    "papermill": {
     "duration": 5.611897,
     "end_time": "2021-10-12T09:57:04.031111",
     "exception": false,
     "start_time": "2021-10-12T09:56:58.419214",
     "status": "completed"
    },
    "tags": []
   },
   "outputs": [
    {
     "name": "stderr",
     "output_type": "stream",
     "text": [
      "[nltk_data] Downloading package stopwords to\n",
      "[nltk_data]     C:\\Users\\SOUMYA\\AppData\\Roaming\\nltk_data...\n",
      "[nltk_data]   Package stopwords is already up-to-date!\n"
     ]
    }
   ],
   "source": [
    "import numpy as np\n",
    "import pandas as pd\n",
    "import os\n",
    "from tqdm import tqdm\n",
    "\n",
    "#For Preprocessing\n",
    "import re    # RegEx for removing non-letter characters\n",
    "import nltk  # natural language processing\n",
    "nltk.download(\"stopwords\")\n",
    "from nltk.corpus import stopwords\n",
    "from nltk.stem.porter import *\n",
    "from nltk.sentiment.vader import SentimentIntensityAnalyzer\n",
    "\n",
    "# For Building the model\n",
    "from sklearn.model_selection import train_test_split\n",
    "import tensorflow as tf\n",
    "import seaborn as sns\n",
    "\n",
    "#For data visualization\n",
    "import matplotlib.pyplot as plt\n",
    "import matplotlib.patches as mpatches\n",
    "%matplotlib inline\n",
    "\n",
    "pd.options.plotting.backend = \"plotly\"\n",
    "import sqlite3"
   ]
  },
  {
   "cell_type": "code",
   "execution_count": 2,
   "id": "fc4960f5",
   "metadata": {
    "execution": {
     "iopub.execute_input": "2021-10-12T09:57:04.082208Z",
     "iopub.status.busy": "2021-10-12T09:57:04.081566Z",
     "iopub.status.idle": "2021-10-12T09:57:10.508767Z",
     "shell.execute_reply": "2021-10-12T09:57:10.508171Z",
     "shell.execute_reply.started": "2021-10-12T09:50:13.975338Z"
    },
    "papermill": {
     "duration": 6.454419,
     "end_time": "2021-10-12T09:57:10.508904",
     "exception": false,
     "start_time": "2021-10-12T09:57:04.054485",
     "status": "completed"
    },
    "tags": []
   },
   "outputs": [
    {
     "ename": "OperationalError",
     "evalue": "unable to open database file",
     "output_type": "error",
     "traceback": [
      "\u001b[1;31m---------------------------------------------------------------------------\u001b[0m",
      "\u001b[1;31mOperationalError\u001b[0m                          Traceback (most recent call last)",
      "\u001b[1;32m~\\AppData\\Local\\Temp/ipykernel_27188/3700517374.py\u001b[0m in \u001b[0;36m<module>\u001b[1;34m\u001b[0m\n\u001b[1;32m----> 1\u001b[1;33m \u001b[0mconn\u001b[0m \u001b[1;33m=\u001b[0m \u001b[0msqlite3\u001b[0m\u001b[1;33m.\u001b[0m\u001b[0mconnect\u001b[0m\u001b[1;33m(\u001b[0m\u001b[1;34mr'../input/amazon-fine-food-reviews/database.sqlite'\u001b[0m\u001b[1;33m)\u001b[0m\u001b[1;33m\u001b[0m\u001b[1;33m\u001b[0m\u001b[0m\n\u001b[0m\u001b[0;32m      2\u001b[0m \u001b[0mconn\u001b[0m\u001b[1;33m\u001b[0m\u001b[1;33m\u001b[0m\u001b[0m\n\u001b[0;32m      3\u001b[0m \u001b[1;33m\u001b[0m\u001b[0m\n\u001b[0;32m      4\u001b[0m \u001b[0mquery\u001b[0m \u001b[1;33m=\u001b[0m \u001b[1;34m'SELECT Score,Summary,Text FROM REVIEWS'\u001b[0m\u001b[1;33m\u001b[0m\u001b[1;33m\u001b[0m\u001b[0m\n\u001b[0;32m      5\u001b[0m \u001b[0mdata0\u001b[0m \u001b[1;33m=\u001b[0m \u001b[0mpd\u001b[0m\u001b[1;33m.\u001b[0m\u001b[0mread_sql_query\u001b[0m\u001b[1;33m(\u001b[0m\u001b[0mquery\u001b[0m\u001b[1;33m,\u001b[0m\u001b[0mconn\u001b[0m\u001b[1;33m)\u001b[0m\u001b[1;33m\u001b[0m\u001b[1;33m\u001b[0m\u001b[0m\n",
      "\u001b[1;31mOperationalError\u001b[0m: unable to open database file"
     ]
    }
   ],
   "source": [
    "conn = sqlite3.connect(r'../input/amazon-fine-food-reviews/database.sqlite')\n",
    "conn\n",
    "\n",
    "query = 'SELECT Score,Summary,Text FROM REVIEWS'\n",
    "data0 = pd.read_sql_query(query,conn)\n",
    "data0"
   ]
  },
  {
   "cell_type": "code",
   "execution_count": 3,
   "id": "4920adb1",
   "metadata": {
    "execution": {
     "iopub.execute_input": "2021-10-12T09:57:10.561720Z",
     "iopub.status.busy": "2021-10-12T09:57:10.561005Z",
     "iopub.status.idle": "2021-10-12T09:57:10.582173Z",
     "shell.execute_reply": "2021-10-12T09:57:10.581683Z",
     "shell.execute_reply.started": "2021-10-12T09:50:20.161973Z"
    },
    "papermill": {
     "duration": 0.048679,
     "end_time": "2021-10-12T09:57:10.582293",
     "exception": false,
     "start_time": "2021-10-12T09:57:10.533614",
     "status": "completed"
    },
    "tags": []
   },
   "outputs": [
    {
     "data": {
      "text/html": [
       "<div>\n",
       "<style scoped>\n",
       "    .dataframe tbody tr th:only-of-type {\n",
       "        vertical-align: middle;\n",
       "    }\n",
       "\n",
       "    .dataframe tbody tr th {\n",
       "        vertical-align: top;\n",
       "    }\n",
       "\n",
       "    .dataframe thead th {\n",
       "        text-align: right;\n",
       "    }\n",
       "</style>\n",
       "<table border=\"1\" class=\"dataframe\">\n",
       "  <thead>\n",
       "    <tr style=\"text-align: right;\">\n",
       "      <th></th>\n",
       "      <th>Text</th>\n",
       "    </tr>\n",
       "  </thead>\n",
       "  <tbody>\n",
       "    <tr>\n",
       "      <th>0</th>\n",
       "      <td>I have bought several of the Vitality canned d...</td>\n",
       "    </tr>\n",
       "    <tr>\n",
       "      <th>1</th>\n",
       "      <td>Product arrived labeled as Jumbo Salted Peanut...</td>\n",
       "    </tr>\n",
       "    <tr>\n",
       "      <th>2</th>\n",
       "      <td>This is a confection that has been around a fe...</td>\n",
       "    </tr>\n",
       "    <tr>\n",
       "      <th>3</th>\n",
       "      <td>If you are looking for the secret ingredient i...</td>\n",
       "    </tr>\n",
       "    <tr>\n",
       "      <th>4</th>\n",
       "      <td>Great taffy at a great price.  There was a wid...</td>\n",
       "    </tr>\n",
       "    <tr>\n",
       "      <th>...</th>\n",
       "      <td>...</td>\n",
       "    </tr>\n",
       "    <tr>\n",
       "      <th>9995</th>\n",
       "      <td>we switched from the advance similac to the or...</td>\n",
       "    </tr>\n",
       "    <tr>\n",
       "      <th>9996</th>\n",
       "      <td>Like the bad reviews say, the organic formula ...</td>\n",
       "    </tr>\n",
       "    <tr>\n",
       "      <th>9997</th>\n",
       "      <td>I wanted to solely breastfeed but was unable t...</td>\n",
       "    </tr>\n",
       "    <tr>\n",
       "      <th>9998</th>\n",
       "      <td>i love the fact that i can get this delieved t...</td>\n",
       "    </tr>\n",
       "    <tr>\n",
       "      <th>9999</th>\n",
       "      <td>We have a 7 week old... He had gas and constip...</td>\n",
       "    </tr>\n",
       "  </tbody>\n",
       "</table>\n",
       "<p>10000 rows × 1 columns</p>\n",
       "</div>"
      ],
      "text/plain": [
       "                                                   Text\n",
       "0     I have bought several of the Vitality canned d...\n",
       "1     Product arrived labeled as Jumbo Salted Peanut...\n",
       "2     This is a confection that has been around a fe...\n",
       "3     If you are looking for the secret ingredient i...\n",
       "4     Great taffy at a great price.  There was a wid...\n",
       "...                                                 ...\n",
       "9995  we switched from the advance similac to the or...\n",
       "9996  Like the bad reviews say, the organic formula ...\n",
       "9997  I wanted to solely breastfeed but was unable t...\n",
       "9998  i love the fact that i can get this delieved t...\n",
       "9999  We have a 7 week old... He had gas and constip...\n",
       "\n",
       "[10000 rows x 1 columns]"
      ]
     },
     "execution_count": 3,
     "metadata": {},
     "output_type": "execute_result"
    }
   ],
   "source": [
    "df=data0[['Text']][0:10000]\n",
    "df"
   ]
  },
  {
   "cell_type": "code",
   "execution_count": 4,
   "id": "c0d01c50",
   "metadata": {
    "_cell_guid": "13bf9b06-9a96-4e39-b3dd-8c24d848c2c2",
    "_uuid": "b452e7a7-8132-4951-a932-d007b3955870",
    "execution": {
     "iopub.execute_input": "2021-10-12T09:57:10.637602Z",
     "iopub.status.busy": "2021-10-12T09:57:10.637058Z",
     "iopub.status.idle": "2021-10-12T09:57:10.640781Z",
     "shell.execute_reply": "2021-10-12T09:57:10.640344Z",
     "shell.execute_reply.started": "2021-10-12T09:50:20.187402Z"
    },
    "jupyter": {
     "outputs_hidden": false
    },
    "papermill": {
     "duration": 0.033837,
     "end_time": "2021-10-12T09:57:10.640892",
     "exception": false,
     "start_time": "2021-10-12T09:57:10.607055",
     "status": "completed"
    },
    "tags": []
   },
   "outputs": [],
   "source": [
    "def tweet_to_words(tweet):\n",
    "    ''' Convert tweet text into a sequence of words '''\n",
    "    \n",
    "    # convert to lowercase\n",
    "    text = tweet.lower()\n",
    "    # remove non letters\n",
    "    text = re.sub(r\"[^a-zA-Z0-9]\", \" \", text)\n",
    "    # tokenize\n",
    "    words = text.split()\n",
    "    # remove stopwords\n",
    "    words = [w for w in words if w not in stopwords.words(\"english\")]\n",
    "    # apply stemming\n",
    "    words = [PorterStemmer().stem(w) for w in words]\n",
    "    # return list\n",
    "    return words"
   ]
  },
  {
   "cell_type": "code",
   "execution_count": 5,
   "id": "89f57349",
   "metadata": {
    "execution": {
     "iopub.execute_input": "2021-10-12T09:57:10.695082Z",
     "iopub.status.busy": "2021-10-12T09:57:10.694428Z",
     "iopub.status.idle": "2021-10-12T09:58:56.070381Z",
     "shell.execute_reply": "2021-10-12T09:58:56.069761Z",
     "shell.execute_reply.started": "2021-10-12T09:50:20.196389Z"
    },
    "papermill": {
     "duration": 105.405056,
     "end_time": "2021-10-12T09:58:56.070560",
     "exception": false,
     "start_time": "2021-10-12T09:57:10.665504",
     "status": "completed"
    },
    "tags": []
   },
   "outputs": [
    {
     "name": "stderr",
     "output_type": "stream",
     "text": [
      "100%|██████████| 10000/10000 [01:45<00:00, 94.95it/s]\n"
     ]
    },
    {
     "data": {
      "text/html": [
       "<div>\n",
       "<style scoped>\n",
       "    .dataframe tbody tr th:only-of-type {\n",
       "        vertical-align: middle;\n",
       "    }\n",
       "\n",
       "    .dataframe tbody tr th {\n",
       "        vertical-align: top;\n",
       "    }\n",
       "\n",
       "    .dataframe thead th {\n",
       "        text-align: right;\n",
       "    }\n",
       "</style>\n",
       "<table border=\"1\" class=\"dataframe\">\n",
       "  <thead>\n",
       "    <tr style=\"text-align: right;\">\n",
       "      <th></th>\n",
       "      <th>Text</th>\n",
       "      <th>cleantext</th>\n",
       "    </tr>\n",
       "  </thead>\n",
       "  <tbody>\n",
       "    <tr>\n",
       "      <th>0</th>\n",
       "      <td>I have bought several of the Vitality canned d...</td>\n",
       "      <td>[bought, sever, vital, can, dog, food, product...</td>\n",
       "    </tr>\n",
       "    <tr>\n",
       "      <th>1</th>\n",
       "      <td>Product arrived labeled as Jumbo Salted Peanut...</td>\n",
       "      <td>[product, arriv, label, jumbo, salt, peanut, p...</td>\n",
       "    </tr>\n",
       "    <tr>\n",
       "      <th>2</th>\n",
       "      <td>This is a confection that has been around a fe...</td>\n",
       "      <td>[confect, around, centuri, light, pillowi, cit...</td>\n",
       "    </tr>\n",
       "    <tr>\n",
       "      <th>3</th>\n",
       "      <td>If you are looking for the secret ingredient i...</td>\n",
       "      <td>[look, secret, ingredi, robitussin, believ, fo...</td>\n",
       "    </tr>\n",
       "    <tr>\n",
       "      <th>4</th>\n",
       "      <td>Great taffy at a great price.  There was a wid...</td>\n",
       "      <td>[great, taffi, great, price, wide, assort, yum...</td>\n",
       "    </tr>\n",
       "    <tr>\n",
       "      <th>...</th>\n",
       "      <td>...</td>\n",
       "      <td>...</td>\n",
       "    </tr>\n",
       "    <tr>\n",
       "      <th>9995</th>\n",
       "      <td>we switched from the advance similac to the or...</td>\n",
       "      <td>[switch, advanc, similac, organ, product, thin...</td>\n",
       "    </tr>\n",
       "    <tr>\n",
       "      <th>9996</th>\n",
       "      <td>Like the bad reviews say, the organic formula ...</td>\n",
       "      <td>[like, bad, review, say, organ, formula, const...</td>\n",
       "    </tr>\n",
       "    <tr>\n",
       "      <th>9997</th>\n",
       "      <td>I wanted to solely breastfeed but was unable t...</td>\n",
       "      <td>[want, sole, breastfe, unabl, keep, supplement...</td>\n",
       "    </tr>\n",
       "    <tr>\n",
       "      <th>9998</th>\n",
       "      <td>i love the fact that i can get this delieved t...</td>\n",
       "      <td>[love, fact, get, deliev, hous, delievi, charg...</td>\n",
       "    </tr>\n",
       "    <tr>\n",
       "      <th>9999</th>\n",
       "      <td>We have a 7 week old... He had gas and constip...</td>\n",
       "      <td>[7, week, old, ga, constip, problem, first, 5,...</td>\n",
       "    </tr>\n",
       "  </tbody>\n",
       "</table>\n",
       "<p>10000 rows × 2 columns</p>\n",
       "</div>"
      ],
      "text/plain": [
       "                                                   Text  \\\n",
       "0     I have bought several of the Vitality canned d...   \n",
       "1     Product arrived labeled as Jumbo Salted Peanut...   \n",
       "2     This is a confection that has been around a fe...   \n",
       "3     If you are looking for the secret ingredient i...   \n",
       "4     Great taffy at a great price.  There was a wid...   \n",
       "...                                                 ...   \n",
       "9995  we switched from the advance similac to the or...   \n",
       "9996  Like the bad reviews say, the organic formula ...   \n",
       "9997  I wanted to solely breastfeed but was unable t...   \n",
       "9998  i love the fact that i can get this delieved t...   \n",
       "9999  We have a 7 week old... He had gas and constip...   \n",
       "\n",
       "                                              cleantext  \n",
       "0     [bought, sever, vital, can, dog, food, product...  \n",
       "1     [product, arriv, label, jumbo, salt, peanut, p...  \n",
       "2     [confect, around, centuri, light, pillowi, cit...  \n",
       "3     [look, secret, ingredi, robitussin, believ, fo...  \n",
       "4     [great, taffi, great, price, wide, assort, yum...  \n",
       "...                                                 ...  \n",
       "9995  [switch, advanc, similac, organ, product, thin...  \n",
       "9996  [like, bad, review, say, organ, formula, const...  \n",
       "9997  [want, sole, breastfe, unabl, keep, supplement...  \n",
       "9998  [love, fact, get, deliev, hous, delievi, charg...  \n",
       "9999  [7, week, old, ga, constip, problem, first, 5,...  \n",
       "\n",
       "[10000 rows x 2 columns]"
      ]
     },
     "execution_count": 5,
     "metadata": {},
     "output_type": "execute_result"
    }
   ],
   "source": [
    "cleantext=[]\n",
    "for item in tqdm(df['Text']):\n",
    "    words=tweet_to_words(str(item))\n",
    "    cleantext+=[words]\n",
    "df['cleantext']=cleantext\n",
    "df"
   ]
  },
  {
   "cell_type": "code",
   "execution_count": 6,
   "id": "25de4de5",
   "metadata": {
    "_cell_guid": "fdd4e291-fc5e-436a-bae3-fdde3fad279f",
    "_uuid": "792352af-397b-42b1-bd22-97a83548c929",
    "execution": {
     "iopub.execute_input": "2021-10-12T09:58:56.554197Z",
     "iopub.status.busy": "2021-10-12T09:58:56.553316Z",
     "iopub.status.idle": "2021-10-12T09:58:56.555263Z",
     "shell.execute_reply": "2021-10-12T09:58:56.555756Z",
     "shell.execute_reply.started": "2021-10-12T09:52:05.510080Z"
    },
    "jupyter": {
     "outputs_hidden": false
    },
    "papermill": {
     "duration": 0.244474,
     "end_time": "2021-10-12T09:58:56.555887",
     "exception": false,
     "start_time": "2021-10-12T09:58:56.311413",
     "status": "completed"
    },
    "tags": []
   },
   "outputs": [],
   "source": [
    "# Apply data processing to each tweet\n",
    "# X = list(map(tweet_to_words, df['content']))\n",
    "# print(X==cleantext) #True"
   ]
  },
  {
   "cell_type": "code",
   "execution_count": 7,
   "id": "ee4d5b39",
   "metadata": {
    "execution": {
     "iopub.execute_input": "2021-10-12T09:58:57.042329Z",
     "iopub.status.busy": "2021-10-12T09:58:57.041325Z",
     "iopub.status.idle": "2021-10-12T09:58:57.043483Z",
     "shell.execute_reply": "2021-10-12T09:58:57.043988Z",
     "shell.execute_reply.started": "2021-10-12T09:52:05.515694Z"
    },
    "papermill": {
     "duration": 0.249189,
     "end_time": "2021-10-12T09:58:57.044129",
     "exception": false,
     "start_time": "2021-10-12T09:58:56.794940",
     "status": "completed"
    },
    "tags": []
   },
   "outputs": [],
   "source": [
    "def unlist(list):\n",
    "    words=''\n",
    "    for item in list:\n",
    "        words+=item+' '\n",
    "    return words"
   ]
  },
  {
   "cell_type": "code",
   "execution_count": 8,
   "id": "924cdda6",
   "metadata": {
    "execution": {
     "iopub.execute_input": "2021-10-12T09:58:57.531878Z",
     "iopub.status.busy": "2021-10-12T09:58:57.530997Z",
     "iopub.status.idle": "2021-10-12T09:58:57.532747Z",
     "shell.execute_reply": "2021-10-12T09:58:57.533192Z",
     "shell.execute_reply.started": "2021-10-12T09:52:05.526103Z"
    },
    "papermill": {
     "duration": 0.249893,
     "end_time": "2021-10-12T09:58:57.533327",
     "exception": false,
     "start_time": "2021-10-12T09:58:57.283434",
     "status": "completed"
    },
    "tags": []
   },
   "outputs": [],
   "source": [
    "def compute_vader_scores(df, label):\n",
    "    sid = SentimentIntensityAnalyzer()\n",
    "    df[\"vader_neg\"] = df[label].apply(lambda x: sid.polarity_scores(unlist(x))[\"neg\"])\n",
    "    df[\"vader_neu\"] = df[label].apply(lambda x: sid.polarity_scores(unlist(x))[\"neu\"])\n",
    "    df[\"vader_pos\"] = df[label].apply(lambda x: sid.polarity_scores(unlist(x))[\"pos\"])\n",
    "    df[\"vader_comp\"] = df[label].apply(lambda x: sid.polarity_scores(unlist(x))[\"compound\"])\n",
    "    df['cleantext2'] = df[label].apply(lambda x: unlist(x))\n",
    "    return df"
   ]
  },
  {
   "cell_type": "code",
   "execution_count": 9,
   "id": "4f9ba636",
   "metadata": {
    "execution": {
     "iopub.execute_input": "2021-10-12T09:58:58.018281Z",
     "iopub.status.busy": "2021-10-12T09:58:58.017433Z",
     "iopub.status.idle": "2021-10-12T09:59:18.837125Z",
     "shell.execute_reply": "2021-10-12T09:59:18.836667Z",
     "shell.execute_reply.started": "2021-10-12T09:52:05.537949Z"
    },
    "papermill": {
     "duration": 21.066389,
     "end_time": "2021-10-12T09:59:18.837257",
     "exception": false,
     "start_time": "2021-10-12T09:58:57.770868",
     "status": "completed"
    },
    "tags": []
   },
   "outputs": [
    {
     "data": {
      "text/html": [
       "<div>\n",
       "<style scoped>\n",
       "    .dataframe tbody tr th:only-of-type {\n",
       "        vertical-align: middle;\n",
       "    }\n",
       "\n",
       "    .dataframe tbody tr th {\n",
       "        vertical-align: top;\n",
       "    }\n",
       "\n",
       "    .dataframe thead th {\n",
       "        text-align: right;\n",
       "    }\n",
       "</style>\n",
       "<table border=\"1\" class=\"dataframe\">\n",
       "  <thead>\n",
       "    <tr style=\"text-align: right;\">\n",
       "      <th></th>\n",
       "      <th>Text</th>\n",
       "      <th>cleantext</th>\n",
       "      <th>vader_neg</th>\n",
       "      <th>vader_neu</th>\n",
       "      <th>vader_pos</th>\n",
       "      <th>vader_comp</th>\n",
       "      <th>cleantext2</th>\n",
       "    </tr>\n",
       "  </thead>\n",
       "  <tbody>\n",
       "    <tr>\n",
       "      <th>0</th>\n",
       "      <td>I have bought several of the Vitality canned d...</td>\n",
       "      <td>[bought, sever, vital, can, dog, food, product...</td>\n",
       "      <td>0.000</td>\n",
       "      <td>0.573</td>\n",
       "      <td>0.427</td>\n",
       "      <td>0.9081</td>\n",
       "      <td>bought sever vital can dog food product found ...</td>\n",
       "    </tr>\n",
       "    <tr>\n",
       "      <th>1</th>\n",
       "      <td>Product arrived labeled as Jumbo Salted Peanut...</td>\n",
       "      <td>[product, arriv, label, jumbo, salt, peanut, p...</td>\n",
       "      <td>0.129</td>\n",
       "      <td>0.762</td>\n",
       "      <td>0.110</td>\n",
       "      <td>-0.1027</td>\n",
       "      <td>product arriv label jumbo salt peanut peanut a...</td>\n",
       "    </tr>\n",
       "    <tr>\n",
       "      <th>2</th>\n",
       "      <td>This is a confection that has been around a fe...</td>\n",
       "      <td>[confect, around, centuri, light, pillowi, cit...</td>\n",
       "      <td>0.141</td>\n",
       "      <td>0.636</td>\n",
       "      <td>0.223</td>\n",
       "      <td>0.6249</td>\n",
       "      <td>confect around centuri light pillowi citru gel...</td>\n",
       "    </tr>\n",
       "    <tr>\n",
       "      <th>3</th>\n",
       "      <td>If you are looking for the secret ingredient i...</td>\n",
       "      <td>[look, secret, ingredi, robitussin, believ, fo...</td>\n",
       "      <td>0.000</td>\n",
       "      <td>0.854</td>\n",
       "      <td>0.146</td>\n",
       "      <td>0.4404</td>\n",
       "      <td>look secret ingredi robitussin believ found go...</td>\n",
       "    </tr>\n",
       "    <tr>\n",
       "      <th>4</th>\n",
       "      <td>Great taffy at a great price.  There was a wid...</td>\n",
       "      <td>[great, taffi, great, price, wide, assort, yum...</td>\n",
       "      <td>0.000</td>\n",
       "      <td>0.455</td>\n",
       "      <td>0.545</td>\n",
       "      <td>0.9186</td>\n",
       "      <td>great taffi great price wide assort yummi taff...</td>\n",
       "    </tr>\n",
       "    <tr>\n",
       "      <th>...</th>\n",
       "      <td>...</td>\n",
       "      <td>...</td>\n",
       "      <td>...</td>\n",
       "      <td>...</td>\n",
       "      <td>...</td>\n",
       "      <td>...</td>\n",
       "      <td>...</td>\n",
       "    </tr>\n",
       "    <tr>\n",
       "      <th>9995</th>\n",
       "      <td>we switched from the advance similac to the or...</td>\n",
       "      <td>[switch, advanc, similac, organ, product, thin...</td>\n",
       "      <td>0.071</td>\n",
       "      <td>0.769</td>\n",
       "      <td>0.160</td>\n",
       "      <td>0.4939</td>\n",
       "      <td>switch advanc similac organ product think woul...</td>\n",
       "    </tr>\n",
       "    <tr>\n",
       "      <th>9996</th>\n",
       "      <td>Like the bad reviews say, the organic formula ...</td>\n",
       "      <td>[like, bad, review, say, organ, formula, const...</td>\n",
       "      <td>0.117</td>\n",
       "      <td>0.695</td>\n",
       "      <td>0.188</td>\n",
       "      <td>0.4215</td>\n",
       "      <td>like bad review say organ formula constip daug...</td>\n",
       "    </tr>\n",
       "    <tr>\n",
       "      <th>9997</th>\n",
       "      <td>I wanted to solely breastfeed but was unable t...</td>\n",
       "      <td>[want, sole, breastfe, unabl, keep, supplement...</td>\n",
       "      <td>0.032</td>\n",
       "      <td>0.837</td>\n",
       "      <td>0.131</td>\n",
       "      <td>0.7506</td>\n",
       "      <td>want sole breastfe unabl keep supplement formu...</td>\n",
       "    </tr>\n",
       "    <tr>\n",
       "      <th>9998</th>\n",
       "      <td>i love the fact that i can get this delieved t...</td>\n",
       "      <td>[love, fact, get, deliev, hous, delievi, charg...</td>\n",
       "      <td>0.096</td>\n",
       "      <td>0.616</td>\n",
       "      <td>0.288</td>\n",
       "      <td>0.5859</td>\n",
       "      <td>love fact get deliev hous delievi charg hard f...</td>\n",
       "    </tr>\n",
       "    <tr>\n",
       "      <th>9999</th>\n",
       "      <td>We have a 7 week old... He had gas and constip...</td>\n",
       "      <td>[7, week, old, ga, constip, problem, first, 5,...</td>\n",
       "      <td>0.070</td>\n",
       "      <td>0.726</td>\n",
       "      <td>0.204</td>\n",
       "      <td>0.9477</td>\n",
       "      <td>7 week old ga constip problem first 5 week tri...</td>\n",
       "    </tr>\n",
       "  </tbody>\n",
       "</table>\n",
       "<p>10000 rows × 7 columns</p>\n",
       "</div>"
      ],
      "text/plain": [
       "                                                   Text  \\\n",
       "0     I have bought several of the Vitality canned d...   \n",
       "1     Product arrived labeled as Jumbo Salted Peanut...   \n",
       "2     This is a confection that has been around a fe...   \n",
       "3     If you are looking for the secret ingredient i...   \n",
       "4     Great taffy at a great price.  There was a wid...   \n",
       "...                                                 ...   \n",
       "9995  we switched from the advance similac to the or...   \n",
       "9996  Like the bad reviews say, the organic formula ...   \n",
       "9997  I wanted to solely breastfeed but was unable t...   \n",
       "9998  i love the fact that i can get this delieved t...   \n",
       "9999  We have a 7 week old... He had gas and constip...   \n",
       "\n",
       "                                              cleantext  vader_neg  vader_neu  \\\n",
       "0     [bought, sever, vital, can, dog, food, product...      0.000      0.573   \n",
       "1     [product, arriv, label, jumbo, salt, peanut, p...      0.129      0.762   \n",
       "2     [confect, around, centuri, light, pillowi, cit...      0.141      0.636   \n",
       "3     [look, secret, ingredi, robitussin, believ, fo...      0.000      0.854   \n",
       "4     [great, taffi, great, price, wide, assort, yum...      0.000      0.455   \n",
       "...                                                 ...        ...        ...   \n",
       "9995  [switch, advanc, similac, organ, product, thin...      0.071      0.769   \n",
       "9996  [like, bad, review, say, organ, formula, const...      0.117      0.695   \n",
       "9997  [want, sole, breastfe, unabl, keep, supplement...      0.032      0.837   \n",
       "9998  [love, fact, get, deliev, hous, delievi, charg...      0.096      0.616   \n",
       "9999  [7, week, old, ga, constip, problem, first, 5,...      0.070      0.726   \n",
       "\n",
       "      vader_pos  vader_comp                                         cleantext2  \n",
       "0         0.427      0.9081  bought sever vital can dog food product found ...  \n",
       "1         0.110     -0.1027  product arriv label jumbo salt peanut peanut a...  \n",
       "2         0.223      0.6249  confect around centuri light pillowi citru gel...  \n",
       "3         0.146      0.4404  look secret ingredi robitussin believ found go...  \n",
       "4         0.545      0.9186  great taffi great price wide assort yummi taff...  \n",
       "...         ...         ...                                                ...  \n",
       "9995      0.160      0.4939  switch advanc similac organ product think woul...  \n",
       "9996      0.188      0.4215  like bad review say organ formula constip daug...  \n",
       "9997      0.131      0.7506  want sole breastfe unabl keep supplement formu...  \n",
       "9998      0.288      0.5859  love fact get deliev hous delievi charg hard f...  \n",
       "9999      0.204      0.9477  7 week old ga constip problem first 5 week tri...  \n",
       "\n",
       "[10000 rows x 7 columns]"
      ]
     },
     "execution_count": 9,
     "metadata": {},
     "output_type": "execute_result"
    }
   ],
   "source": [
    "df2 = compute_vader_scores(df,'cleantext')\n",
    "df2"
   ]
  },
  {
   "cell_type": "code",
   "execution_count": 10,
   "id": "216d04b2",
   "metadata": {
    "execution": {
     "iopub.execute_input": "2021-10-12T09:59:19.322042Z",
     "iopub.status.busy": "2021-10-12T09:59:19.321272Z",
     "iopub.status.idle": "2021-10-12T09:59:29.583276Z",
     "shell.execute_reply": "2021-10-12T09:59:29.582848Z",
     "shell.execute_reply.started": "2021-10-12T09:52:26.864860Z"
    },
    "papermill": {
     "duration": 10.512679,
     "end_time": "2021-10-12T09:59:29.583399",
     "exception": false,
     "start_time": "2021-10-12T09:59:19.070720",
     "status": "completed"
    },
    "tags": []
   },
   "outputs": [
    {
     "data": {
      "text/plain": [
       "<seaborn.axisgrid.JointGrid at 0x7f714adfbbd0>"
      ]
     },
     "execution_count": 10,
     "metadata": {},
     "output_type": "execute_result"
    },
    {
     "data": {
      "image/png": "[encoded data removed]",
      "text/plain": [
       "<Figure size 432x432 with 3 Axes>"
      ]
     },
     "metadata": {
      "needs_background": "light"
     },
     "output_type": "display_data"
    }
   ],
   "source": [
    "sns.jointplot(data=df2, x='vader_pos', y='vader_neg', kind=\"kde\")"
   ]
  },
  {
   "cell_type": "code",
   "execution_count": 11,
   "id": "85725d45",
   "metadata": {
    "execution": {
     "iopub.execute_input": "2021-10-12T09:59:30.108255Z",
     "iopub.status.busy": "2021-10-12T09:59:30.107341Z",
     "iopub.status.idle": "2021-10-12T09:59:39.544424Z",
     "shell.execute_reply": "2021-10-12T09:59:39.544829Z",
     "shell.execute_reply.started": "2021-10-12T09:52:36.446060Z"
    },
    "papermill": {
     "duration": 9.704928,
     "end_time": "2021-10-12T09:59:39.544982",
     "exception": false,
     "start_time": "2021-10-12T09:59:29.840054",
     "status": "completed"
    },
    "tags": []
   },
   "outputs": [
    {
     "data": {
      "text/plain": [
       "<seaborn.axisgrid.JointGrid at 0x7f712f6f9910>"
      ]
     },
     "execution_count": 11,
     "metadata": {},
     "output_type": "execute_result"
    },
    {
     "data": {
      "image/png": "[encoded data removed]",
      "text/plain": [
       "<Figure size 432x432 with 3 Axes>"
      ]
     },
     "metadata": {
      "needs_background": "light"
     },
     "output_type": "display_data"
    }
   ],
   "source": [
    "sns.jointplot(data=df2, x='vader_pos', y='vader_comp', kind=\"kde\")"
   ]
  },
  {
   "cell_type": "code",
   "execution_count": 12,
   "id": "abc70887",
   "metadata": {
    "execution": {
     "iopub.execute_input": "2021-10-12T09:59:40.022476Z",
     "iopub.status.busy": "2021-10-12T09:59:40.021960Z",
     "iopub.status.idle": "2021-10-12T09:59:40.216281Z",
     "shell.execute_reply": "2021-10-12T09:59:40.217008Z",
     "shell.execute_reply.started": "2021-10-12T09:52:46.303034Z"
    },
    "papermill": {
     "duration": 0.436812,
     "end_time": "2021-10-12T09:59:40.217152",
     "exception": false,
     "start_time": "2021-10-12T09:59:39.780340",
     "status": "completed"
    },
    "tags": []
   },
   "outputs": [],
   "source": [
    "class0=[]\n",
    "for i in range(len(df2)):\n",
    "    if df2.loc[i,'vader_neg']>0.06:\n",
    "        class0+=[0]\n",
    "    elif df2.loc[i,'vader_pos']>0.3:\n",
    "        class0+=[2]        \n",
    "    else:\n",
    "        class0+=[1]     "
   ]
  },
  {
   "cell_type": "code",
   "execution_count": 13,
   "id": "09df23d3",
   "metadata": {
    "execution": {
     "iopub.execute_input": "2021-10-12T09:59:40.743815Z",
     "iopub.status.busy": "2021-10-12T09:59:40.743180Z",
     "iopub.status.idle": "2021-10-12T09:59:40.746130Z",
     "shell.execute_reply": "2021-10-12T09:59:40.746720Z",
     "shell.execute_reply.started": "2021-10-12T09:52:46.505836Z"
    },
    "papermill": {
     "duration": 0.245948,
     "end_time": "2021-10-12T09:59:40.746922",
     "exception": false,
     "start_time": "2021-10-12T09:59:40.500974",
     "status": "completed"
    },
    "tags": []
   },
   "outputs": [
    {
     "name": "stdout",
     "output_type": "stream",
     "text": [
      "10000\n",
      "10000\n"
     ]
    }
   ],
   "source": [
    "print(len(df))\n",
    "print(len(df2))"
   ]
  },
  {
   "cell_type": "code",
   "execution_count": 14,
   "id": "f65ccf3f",
   "metadata": {
    "execution": {
     "iopub.execute_input": "2021-10-12T09:59:41.231265Z",
     "iopub.status.busy": "2021-10-12T09:59:41.230457Z",
     "iopub.status.idle": "2021-10-12T09:59:41.236445Z",
     "shell.execute_reply": "2021-10-12T09:59:41.236031Z",
     "shell.execute_reply.started": "2021-10-12T09:52:46.511997Z"
    },
    "papermill": {
     "duration": 0.252575,
     "end_time": "2021-10-12T09:59:41.236563",
     "exception": false,
     "start_time": "2021-10-12T09:59:40.983988",
     "status": "completed"
    },
    "tags": []
   },
   "outputs": [
    {
     "data": {
      "text/plain": [
       "1    3885\n",
       "2    3177\n",
       "0    2938\n",
       "Name: class, dtype: int64"
      ]
     },
     "execution_count": 14,
     "metadata": {},
     "output_type": "execute_result"
    }
   ],
   "source": [
    "df2['class']=class0\n",
    "df2['class'].value_counts()"
   ]
  },
  {
   "cell_type": "markdown",
   "id": "a1e857b2",
   "metadata": {
    "papermill": {
     "duration": 0.234859,
     "end_time": "2021-10-12T09:59:41.708271",
     "exception": false,
     "start_time": "2021-10-12T09:59:41.473412",
     "status": "completed"
    },
    "tags": []
   },
   "source": [
    "# def tokenize_pad_sequences(text):"
   ]
  },
  {
   "cell_type": "code",
   "execution_count": 15,
   "id": "edbb9025",
   "metadata": {
    "execution": {
     "iopub.execute_input": "2021-10-12T09:59:42.223008Z",
     "iopub.status.busy": "2021-10-12T09:59:42.207207Z",
     "iopub.status.idle": "2021-10-12T09:59:42.903577Z",
     "shell.execute_reply": "2021-10-12T09:59:42.902493Z",
     "shell.execute_reply.started": "2021-10-12T09:52:46.529687Z"
    },
    "papermill": {
     "duration": 0.955181,
     "end_time": "2021-10-12T09:59:42.903764",
     "exception": false,
     "start_time": "2021-10-12T09:59:41.948583",
     "status": "completed"
    },
    "tags": []
   },
   "outputs": [
    {
     "name": "stdout",
     "output_type": "stream",
     "text": [
      "Before Tokenization & Padding \n",
      " bought sever vital can dog food product found good qualiti product look like stew process meat smell better labrador finicki appreci product better \n",
      "After Tokenization & Padding \n",
      " [  67  207 3306  185   43   16    7   57    6  108    7   48    2 1752\n",
      "  519  365  172   35 1988  899    7   35    0    0    0    0    0    0\n",
      "    0    0    0    0    0    0    0    0    0    0    0    0    0    0\n",
      "    0    0    0    0    0    0    0    0]\n"
     ]
    }
   ],
   "source": [
    "from tensorflow.keras.preprocessing.text import Tokenizer\n",
    "from tensorflow.keras.preprocessing.sequence import pad_sequences\n",
    "\n",
    "max_words = 5000\n",
    "max_len=50\n",
    "\n",
    "def tokenize_pad_sequences(text):\n",
    "    '''\n",
    "    This function tokenize the input text into sequnences of intergers and then\n",
    "    pad each sequence to the same length\n",
    "    '''\n",
    "    # Text tokenization\n",
    "    tokenizer = Tokenizer(num_words=max_words, lower=True, split=' ')\n",
    "    tokenizer.fit_on_texts(text)\n",
    "    X = tokenizer.texts_to_sequences(text)\n",
    "    X = pad_sequences(X, padding='post', maxlen=max_len)\n",
    "    return X, tokenizer\n",
    "\n",
    "print('Before Tokenization & Padding \\n', df['cleantext2'][0])\n",
    "X, tokenizer = tokenize_pad_sequences(df['cleantext2'])\n",
    "print('After Tokenization & Padding \\n', X[0])"
   ]
  },
  {
   "cell_type": "code",
   "execution_count": 16,
   "id": "04c60ecd",
   "metadata": {
    "execution": {
     "iopub.execute_input": "2021-10-12T09:59:43.383071Z",
     "iopub.status.busy": "2021-10-12T09:59:43.382353Z",
     "iopub.status.idle": "2021-10-12T09:59:43.385096Z",
     "shell.execute_reply": "2021-10-12T09:59:43.385691Z",
     "shell.execute_reply.started": "2021-10-12T09:52:47.242118Z"
    },
    "papermill": {
     "duration": 0.243483,
     "end_time": "2021-10-12T09:59:43.385869",
     "exception": false,
     "start_time": "2021-10-12T09:59:43.142386",
     "status": "completed"
    },
    "tags": []
   },
   "outputs": [
    {
     "name": "stdout",
     "output_type": "stream",
     "text": [
      "(10000, 50)\n"
     ]
    }
   ],
   "source": [
    "print(X.shape)"
   ]
  },
  {
   "cell_type": "code",
   "execution_count": 17,
   "id": "0c6bec46",
   "metadata": {
    "execution": {
     "iopub.execute_input": "2021-10-12T09:59:43.872614Z",
     "iopub.status.busy": "2021-10-12T09:59:43.871878Z",
     "iopub.status.idle": "2021-10-12T09:59:43.883737Z",
     "shell.execute_reply": "2021-10-12T09:59:43.884345Z",
     "shell.execute_reply.started": "2021-10-12T09:52:47.249365Z"
    },
    "papermill": {
     "duration": 0.261122,
     "end_time": "2021-10-12T09:59:43.884552",
     "exception": false,
     "start_time": "2021-10-12T09:59:43.623430",
     "status": "completed"
    },
    "tags": []
   },
   "outputs": [
    {
     "name": "stdout",
     "output_type": "stream",
     "text": [
      "Train Set:  (6000, 50) (6000, 3)\n",
      "Validation Set:  (2000, 50) (2000, 3)\n",
      "Test Set:  (2000, 50) (2000, 3)\n"
     ]
    }
   ],
   "source": [
    "y = pd.get_dummies(df['class'])\n",
    "X_train, X_test, y_train, y_test = train_test_split(X, y, test_size=0.2, random_state=1)\n",
    "X_train, X_val, y_train, y_val = train_test_split(X_train, y_train, test_size=0.25, random_state=1)\n",
    "\n",
    "print('Train Set: ', X_train.shape, y_train.shape)\n",
    "print('Validation Set: ', X_val.shape, y_val.shape)\n",
    "print('Test Set: ', X_test.shape, y_test.shape)"
   ]
  },
  {
   "cell_type": "code",
   "execution_count": 18,
   "id": "d5661b4f",
   "metadata": {
    "execution": {
     "iopub.execute_input": "2021-10-12T09:59:44.373927Z",
     "iopub.status.busy": "2021-10-12T09:59:44.373054Z",
     "iopub.status.idle": "2021-10-12T09:59:44.374958Z",
     "shell.execute_reply": "2021-10-12T09:59:44.375368Z",
     "shell.execute_reply.started": "2021-10-12T09:52:47.267834Z"
    },
    "papermill": {
     "duration": 0.247181,
     "end_time": "2021-10-12T09:59:44.375498",
     "exception": false,
     "start_time": "2021-10-12T09:59:44.128317",
     "status": "completed"
    },
    "tags": []
   },
   "outputs": [],
   "source": [
    "import tensorflow.keras.backend as K\n",
    "\n",
    "def f1_score(precision, recall):\n",
    "    ''' Function to calculate f1 score '''\n",
    "    \n",
    "    f1_val = 2*(precision*recall)/(precision+recall+K.epsilon())\n",
    "    return f1_val"
   ]
  },
  {
   "cell_type": "code",
   "execution_count": 19,
   "id": "a666c549",
   "metadata": {
    "execution": {
     "iopub.execute_input": "2021-10-12T09:59:44.862223Z",
     "iopub.status.busy": "2021-10-12T09:59:44.861266Z",
     "iopub.status.idle": "2021-10-12T09:59:44.863761Z",
     "shell.execute_reply": "2021-10-12T09:59:44.864234Z",
     "shell.execute_reply.started": "2021-10-12T09:52:47.274545Z"
    },
    "papermill": {
     "duration": 0.248905,
     "end_time": "2021-10-12T09:59:44.864386",
     "exception": false,
     "start_time": "2021-10-12T09:59:44.615481",
     "status": "completed"
    },
    "tags": []
   },
   "outputs": [],
   "source": [
    "from tensorflow.keras.models import Sequential\n",
    "from tensorflow.keras.layers import Embedding, Conv1D, MaxPooling1D, Bidirectional, LSTM, Dense, Dropout\n",
    "from tensorflow.keras.metrics import Precision, Recall\n",
    "from tensorflow.keras.optimizers import SGD\n",
    "from tensorflow.keras.optimizers import RMSprop\n",
    "from tensorflow.keras import datasets\n",
    "from tensorflow.keras.callbacks import LearningRateScheduler\n",
    "from tensorflow.keras.callbacks import History\n",
    "from tensorflow.keras import losses"
   ]
  },
  {
   "cell_type": "code",
   "execution_count": 20,
   "id": "d338c0f3",
   "metadata": {
    "execution": {
     "iopub.execute_input": "2021-10-12T09:59:45.352221Z",
     "iopub.status.busy": "2021-10-12T09:59:45.351388Z",
     "iopub.status.idle": "2021-10-12T09:59:45.353230Z",
     "shell.execute_reply": "2021-10-12T09:59:45.353651Z",
     "shell.execute_reply.started": "2021-10-12T09:52:47.283407Z"
    },
    "papermill": {
     "duration": 0.245029,
     "end_time": "2021-10-12T09:59:45.353785",
     "exception": false,
     "start_time": "2021-10-12T09:59:45.108756",
     "status": "completed"
    },
    "tags": []
   },
   "outputs": [],
   "source": [
    "vocab_size = 5000\n",
    "embedding_size = 32\n",
    "epochs = 20\n",
    "learning_rate = 0.1\n",
    "decay_rate = learning_rate / epochs\n",
    "momentum = 0.8"
   ]
  },
  {
   "cell_type": "markdown",
   "id": "d0064e00",
   "metadata": {
    "papermill": {
     "duration": 0.245957,
     "end_time": "2021-10-12T09:59:45.851099",
     "exception": false,
     "start_time": "2021-10-12T09:59:45.605142",
     "status": "completed"
    },
    "tags": []
   },
   "source": [
    "# Model"
   ]
  },
  {
   "cell_type": "code",
   "execution_count": 21,
   "id": "374e9a7e",
   "metadata": {
    "execution": {
     "iopub.execute_input": "2021-10-12T09:59:46.337882Z",
     "iopub.status.busy": "2021-10-12T09:59:46.337344Z",
     "iopub.status.idle": "2021-10-12T09:59:48.795887Z",
     "shell.execute_reply": "2021-10-12T09:59:48.795341Z",
     "shell.execute_reply.started": "2021-10-12T09:52:47.291701Z"
    },
    "papermill": {
     "duration": 2.702065,
     "end_time": "2021-10-12T09:59:48.796022",
     "exception": false,
     "start_time": "2021-10-12T09:59:46.093957",
     "status": "completed"
    },
    "tags": []
   },
   "outputs": [
    {
     "name": "stderr",
     "output_type": "stream",
     "text": [
      "2021-10-12 09:59:46.348192: I tensorflow/compiler/jit/xla_cpu_device.cc:41] Not creating XLA devices, tf_xla_enable_xla_devices not set\n",
      "2021-10-12 09:59:46.351150: I tensorflow/stream_executor/platform/default/dso_loader.cc:49] Successfully opened dynamic library libcuda.so.1\n",
      "2021-10-12 09:59:46.394936: I tensorflow/stream_executor/cuda/cuda_gpu_executor.cc:941] successful NUMA node read from SysFS had negative value (-1), but there must be at least one NUMA node, so returning NUMA node zero\n",
      "2021-10-12 09:59:46.395562: I tensorflow/core/common_runtime/gpu/gpu_device.cc:1720] Found device 0 with properties: \n",
      "pciBusID: 0000:00:04.0 name: Tesla P100-PCIE-16GB computeCapability: 6.0\n",
      "coreClock: 1.3285GHz coreCount: 56 deviceMemorySize: 15.90GiB deviceMemoryBandwidth: 681.88GiB/s\n",
      "2021-10-12 09:59:46.395652: I tensorflow/stream_executor/platform/default/dso_loader.cc:49] Successfully opened dynamic library libcudart.so.11.0\n",
      "2021-10-12 09:59:46.424521: I tensorflow/stream_executor/platform/default/dso_loader.cc:49] Successfully opened dynamic library libcublas.so.11\n",
      "2021-10-12 09:59:46.424643: I tensorflow/stream_executor/platform/default/dso_loader.cc:49] Successfully opened dynamic library libcublasLt.so.11\n",
      "2021-10-12 09:59:46.440647: I tensorflow/stream_executor/platform/default/dso_loader.cc:49] Successfully opened dynamic library libcufft.so.10\n",
      "2021-10-12 09:59:46.448768: I tensorflow/stream_executor/platform/default/dso_loader.cc:49] Successfully opened dynamic library libcurand.so.10\n",
      "2021-10-12 09:59:46.475373: I tensorflow/stream_executor/platform/default/dso_loader.cc:49] Successfully opened dynamic library libcusolver.so.10\n",
      "2021-10-12 09:59:46.482975: I tensorflow/stream_executor/platform/default/dso_loader.cc:49] Successfully opened dynamic library libcusparse.so.11\n",
      "2021-10-12 09:59:46.485429: I tensorflow/stream_executor/platform/default/dso_loader.cc:49] Successfully opened dynamic library libcudnn.so.8\n",
      "2021-10-12 09:59:46.485617: I tensorflow/stream_executor/cuda/cuda_gpu_executor.cc:941] successful NUMA node read from SysFS had negative value (-1), but there must be at least one NUMA node, so returning NUMA node zero\n",
      "2021-10-12 09:59:46.486381: I tensorflow/stream_executor/cuda/cuda_gpu_executor.cc:941] successful NUMA node read from SysFS had negative value (-1), but there must be at least one NUMA node, so returning NUMA node zero\n",
      "2021-10-12 09:59:46.487953: I tensorflow/core/common_runtime/gpu/gpu_device.cc:1862] Adding visible gpu devices: 0\n",
      "2021-10-12 09:59:46.488971: I tensorflow/core/platform/cpu_feature_guard.cc:142] This TensorFlow binary is optimized with oneAPI Deep Neural Network Library (oneDNN) to use the following CPU instructions in performance-critical operations:  AVX2 AVX512F FMA\n",
      "To enable them in other operations, rebuild TensorFlow with the appropriate compiler flags.\n",
      "2021-10-12 09:59:46.489164: I tensorflow/compiler/jit/xla_gpu_device.cc:99] Not creating XLA devices, tf_xla_enable_xla_devices not set\n",
      "2021-10-12 09:59:46.489325: I tensorflow/stream_executor/cuda/cuda_gpu_executor.cc:941] successful NUMA node read from SysFS had negative value (-1), but there must be at least one NUMA node, so returning NUMA node zero\n",
      "2021-10-12 09:59:46.489973: I tensorflow/core/common_runtime/gpu/gpu_device.cc:1720] Found device 0 with properties: \n",
      "pciBusID: 0000:00:04.0 name: Tesla P100-PCIE-16GB computeCapability: 6.0\n",
      "coreClock: 1.3285GHz coreCount: 56 deviceMemorySize: 15.90GiB deviceMemoryBandwidth: 681.88GiB/s\n",
      "2021-10-12 09:59:46.490039: I tensorflow/stream_executor/platform/default/dso_loader.cc:49] Successfully opened dynamic library libcudart.so.11.0\n",
      "2021-10-12 09:59:46.490086: I tensorflow/stream_executor/platform/default/dso_loader.cc:49] Successfully opened dynamic library libcublas.so.11\n",
      "2021-10-12 09:59:46.490115: I tensorflow/stream_executor/platform/default/dso_loader.cc:49] Successfully opened dynamic library libcublasLt.so.11\n",
      "2021-10-12 09:59:46.490137: I tensorflow/stream_executor/platform/default/dso_loader.cc:49] Successfully opened dynamic library libcufft.so.10\n",
      "2021-10-12 09:59:46.490160: I tensorflow/stream_executor/platform/default/dso_loader.cc:49] Successfully opened dynamic library libcurand.so.10\n",
      "2021-10-12 09:59:46.490183: I tensorflow/stream_executor/platform/default/dso_loader.cc:49] Successfully opened dynamic library libcusolver.so.10\n",
      "2021-10-12 09:59:46.490207: I tensorflow/stream_executor/platform/default/dso_loader.cc:49] Successfully opened dynamic library libcusparse.so.11\n",
      "2021-10-12 09:59:46.490230: I tensorflow/stream_executor/platform/default/dso_loader.cc:49] Successfully opened dynamic library libcudnn.so.8\n",
      "2021-10-12 09:59:46.490309: I tensorflow/stream_executor/cuda/cuda_gpu_executor.cc:941] successful NUMA node read from SysFS had negative value (-1), but there must be at least one NUMA node, so returning NUMA node zero\n",
      "2021-10-12 09:59:46.490948: I tensorflow/stream_executor/cuda/cuda_gpu_executor.cc:941] successful NUMA node read from SysFS had negative value (-1), but there must be at least one NUMA node, so returning NUMA node zero\n",
      "2021-10-12 09:59:46.491501: I tensorflow/core/common_runtime/gpu/gpu_device.cc:1862] Adding visible gpu devices: 0\n",
      "2021-10-12 09:59:46.492627: I tensorflow/stream_executor/platform/default/dso_loader.cc:49] Successfully opened dynamic library libcudart.so.11.0\n",
      "2021-10-12 09:59:47.999993: I tensorflow/core/common_runtime/gpu/gpu_device.cc:1261] Device interconnect StreamExecutor with strength 1 edge matrix:\n",
      "2021-10-12 09:59:48.000036: I tensorflow/core/common_runtime/gpu/gpu_device.cc:1267]      0 \n",
      "2021-10-12 09:59:48.000053: I tensorflow/core/common_runtime/gpu/gpu_device.cc:1280] 0:   N \n",
      "2021-10-12 09:59:48.003832: I tensorflow/stream_executor/cuda/cuda_gpu_executor.cc:941] successful NUMA node read from SysFS had negative value (-1), but there must be at least one NUMA node, so returning NUMA node zero\n",
      "2021-10-12 09:59:48.004612: I tensorflow/stream_executor/cuda/cuda_gpu_executor.cc:941] successful NUMA node read from SysFS had negative value (-1), but there must be at least one NUMA node, so returning NUMA node zero\n",
      "2021-10-12 09:59:48.005288: I tensorflow/stream_executor/cuda/cuda_gpu_executor.cc:941] successful NUMA node read from SysFS had negative value (-1), but there must be at least one NUMA node, so returning NUMA node zero\n",
      "2021-10-12 09:59:48.005880: I tensorflow/core/common_runtime/gpu/gpu_device.cc:1406] Created TensorFlow device (/job:localhost/replica:0/task:0/device:GPU:0 with 14957 MB memory) -> physical GPU (device: 0, name: Tesla P100-PCIE-16GB, pci bus id: 0000:00:04.0, compute capability: 6.0)\n"
     ]
    }
   ],
   "source": [
    "sgd = SGD(lr=learning_rate, momentum=momentum, decay=decay_rate, nesterov=False)\n",
    "# Build model\n",
    "model= Sequential()\n",
    "model.add(Embedding(vocab_size, embedding_size, input_length=max_len))\n",
    "model.add(Conv1D(filters=32, kernel_size=1, padding='same', activation='relu'))\n",
    "model.add(MaxPooling1D(pool_size=2))\n",
    "model.add(Bidirectional(LSTM(32)))\n",
    "model.add(Dropout(0.4))\n",
    "model.add(Dense(3, activation='softmax'))"
   ]
  },
  {
   "cell_type": "code",
   "execution_count": 22,
   "id": "c4167683",
   "metadata": {
    "execution": {
     "iopub.execute_input": "2021-10-12T09:59:49.288500Z",
     "iopub.status.busy": "2021-10-12T09:59:49.287677Z",
     "iopub.status.idle": "2021-10-12T09:59:50.102904Z",
     "shell.execute_reply": "2021-10-12T09:59:50.102370Z",
     "shell.execute_reply.started": "2021-10-12T09:52:47.737692Z"
    },
    "papermill": {
     "duration": 1.064281,
     "end_time": "2021-10-12T09:59:50.103045",
     "exception": false,
     "start_time": "2021-10-12T09:59:49.038764",
     "status": "completed"
    },
    "tags": []
   },
   "outputs": [
    {
     "data": {
      "image/png": "[encoded data removed]",
      "text/plain": [
       "<IPython.core.display.Image object>"
      ]
     },
     "execution_count": 22,
     "metadata": {},
     "output_type": "execute_result"
    }
   ],
   "source": [
    "import tensorflow as tf\n",
    "tf.keras.utils.plot_model(model, show_shapes=True)"
   ]
  },
  {
   "cell_type": "code",
   "execution_count": 23,
   "id": "d87e6412",
   "metadata": {
    "execution": {
     "iopub.execute_input": "2021-10-12T09:59:50.628301Z",
     "iopub.status.busy": "2021-10-12T09:59:50.627412Z",
     "iopub.status.idle": "2021-10-12T09:59:50.645608Z",
     "shell.execute_reply": "2021-10-12T09:59:50.645209Z",
     "shell.execute_reply.started": "2021-10-12T09:52:47.999996Z"
    },
    "papermill": {
     "duration": 0.300934,
     "end_time": "2021-10-12T09:59:50.645737",
     "exception": false,
     "start_time": "2021-10-12T09:59:50.344803",
     "status": "completed"
    },
    "tags": []
   },
   "outputs": [],
   "source": [
    "model.compile(loss='categorical_crossentropy', optimizer=sgd, metrics=['accuracy', Precision(), Recall()])"
   ]
  },
  {
   "cell_type": "code",
   "execution_count": 24,
   "id": "6b6a32b4",
   "metadata": {
    "execution": {
     "iopub.execute_input": "2021-10-12T09:59:51.139186Z",
     "iopub.status.busy": "2021-10-12T09:59:51.138564Z",
     "iopub.status.idle": "2021-10-12T10:00:22.324413Z",
     "shell.execute_reply": "2021-10-12T10:00:22.323648Z",
     "shell.execute_reply.started": "2021-10-12T09:52:48.026780Z"
    },
    "papermill": {
     "duration": 31.435068,
     "end_time": "2021-10-12T10:00:22.324552",
     "exception": false,
     "start_time": "2021-10-12T09:59:50.889484",
     "status": "completed"
    },
    "tags": []
   },
   "outputs": [
    {
     "name": "stderr",
     "output_type": "stream",
     "text": [
      "2021-10-12 09:59:51.186783: I tensorflow/compiler/mlir/mlir_graph_optimization_pass.cc:116] None of the MLIR optimization passes are enabled (registered 2)\n",
      "2021-10-12 09:59:51.195899: I tensorflow/core/platform/profile_utils/cpu_utils.cc:112] CPU Frequency: 2000175000 Hz\n"
     ]
    },
    {
     "name": "stdout",
     "output_type": "stream",
     "text": [
      "Epoch 1/20\n"
     ]
    },
    {
     "name": "stderr",
     "output_type": "stream",
     "text": [
      "2021-10-12 09:59:54.088346: I tensorflow/stream_executor/platform/default/dso_loader.cc:49] Successfully opened dynamic library libcublas.so.11\n",
      "2021-10-12 09:59:54.919636: I tensorflow/stream_executor/platform/default/dso_loader.cc:49] Successfully opened dynamic library libcublasLt.so.11\n",
      "2021-10-12 09:59:54.950980: I tensorflow/stream_executor/platform/default/dso_loader.cc:49] Successfully opened dynamic library libcudnn.so.8\n"
     ]
    },
    {
     "name": "stdout",
     "output_type": "stream",
     "text": [
      "94/94 [==============================] - 11s 25ms/step - loss: 1.0856 - accuracy: 0.3942 - precision: 0.5526 - recall: 0.0174 - val_loss: 1.0517 - val_accuracy: 0.4330 - val_precision: 0.5653 - val_recall: 0.1645\n",
      "Epoch 2/20\n",
      "94/94 [==============================] - 1s 11ms/step - loss: 1.0517 - accuracy: 0.4416 - precision: 0.5375 - recall: 0.1617 - val_loss: 1.0381 - val_accuracy: 0.4540 - val_precision: 0.5872 - val_recall: 0.1565\n",
      "Epoch 3/20\n",
      "94/94 [==============================] - 1s 11ms/step - loss: 1.0394 - accuracy: 0.4564 - precision: 0.5746 - recall: 0.1782 - val_loss: 1.0293 - val_accuracy: 0.4665 - val_precision: 0.5771 - val_recall: 0.2320\n",
      "Epoch 4/20\n",
      "94/94 [==============================] - 1s 10ms/step - loss: 1.0344 - accuracy: 0.4595 - precision: 0.5672 - recall: 0.1785 - val_loss: 1.0081 - val_accuracy: 0.4935 - val_precision: 0.6003 - val_recall: 0.2125\n",
      "Epoch 5/20\n",
      "94/94 [==============================] - 1s 10ms/step - loss: 1.0093 - accuracy: 0.4962 - precision: 0.5957 - recall: 0.2180 - val_loss: 0.9557 - val_accuracy: 0.5290 - val_precision: 0.6460 - val_recall: 0.3075\n",
      "Epoch 6/20\n",
      "94/94 [==============================] - 1s 11ms/step - loss: 0.9598 - accuracy: 0.5361 - precision: 0.6263 - recall: 0.2853 - val_loss: 0.9069 - val_accuracy: 0.5680 - val_precision: 0.6690 - val_recall: 0.3285\n",
      "Epoch 7/20\n",
      "94/94 [==============================] - 1s 11ms/step - loss: 0.9065 - accuracy: 0.5670 - precision: 0.6483 - recall: 0.3683 - val_loss: 0.8790 - val_accuracy: 0.5680 - val_precision: 0.6333 - val_recall: 0.4170\n",
      "Epoch 8/20\n",
      "94/94 [==============================] - 1s 12ms/step - loss: 0.8833 - accuracy: 0.5640 - precision: 0.6464 - recall: 0.4070 - val_loss: 0.8550 - val_accuracy: 0.5945 - val_precision: 0.6498 - val_recall: 0.4620\n",
      "Epoch 9/20\n",
      "94/94 [==============================] - 1s 11ms/step - loss: 0.8544 - accuracy: 0.5870 - precision: 0.6578 - recall: 0.4451 - val_loss: 0.8353 - val_accuracy: 0.6015 - val_precision: 0.6588 - val_recall: 0.4720\n",
      "Epoch 10/20\n",
      "94/94 [==============================] - 1s 10ms/step - loss: 0.8307 - accuracy: 0.5973 - precision: 0.6587 - recall: 0.4716 - val_loss: 0.8211 - val_accuracy: 0.5850 - val_precision: 0.6616 - val_recall: 0.4615\n",
      "Epoch 11/20\n",
      "94/94 [==============================] - 1s 10ms/step - loss: 0.8174 - accuracy: 0.6165 - precision: 0.6773 - recall: 0.5088 - val_loss: 0.8494 - val_accuracy: 0.5640 - val_precision: 0.6450 - val_recall: 0.4560\n",
      "Epoch 12/20\n",
      "94/94 [==============================] - 1s 11ms/step - loss: 0.7978 - accuracy: 0.6133 - precision: 0.6698 - recall: 0.4959 - val_loss: 0.8120 - val_accuracy: 0.6095 - val_precision: 0.6579 - val_recall: 0.5270\n",
      "Epoch 13/20\n",
      "94/94 [==============================] - 1s 11ms/step - loss: 0.7675 - accuracy: 0.6235 - precision: 0.6749 - recall: 0.5369 - val_loss: 0.8089 - val_accuracy: 0.6120 - val_precision: 0.6560 - val_recall: 0.5225\n",
      "Epoch 14/20\n",
      "94/94 [==============================] - 1s 11ms/step - loss: 0.7514 - accuracy: 0.6491 - precision: 0.6941 - recall: 0.5589 - val_loss: 0.8105 - val_accuracy: 0.5950 - val_precision: 0.6581 - val_recall: 0.4965\n",
      "Epoch 15/20\n",
      "94/94 [==============================] - 1s 11ms/step - loss: 0.7351 - accuracy: 0.6543 - precision: 0.6899 - recall: 0.5645 - val_loss: 0.8449 - val_accuracy: 0.5745 - val_precision: 0.6345 - val_recall: 0.5035\n",
      "Epoch 16/20\n",
      "94/94 [==============================] - 1s 11ms/step - loss: 0.7250 - accuracy: 0.6577 - precision: 0.7080 - recall: 0.5852 - val_loss: 0.8275 - val_accuracy: 0.5875 - val_precision: 0.6395 - val_recall: 0.5145\n",
      "Epoch 17/20\n",
      "94/94 [==============================] - 1s 10ms/step - loss: 0.7185 - accuracy: 0.6584 - precision: 0.6957 - recall: 0.5830 - val_loss: 0.9785 - val_accuracy: 0.5275 - val_precision: 0.5761 - val_recall: 0.4710\n",
      "Epoch 18/20\n",
      "94/94 [==============================] - 1s 11ms/step - loss: 0.7321 - accuracy: 0.6487 - precision: 0.6883 - recall: 0.5817 - val_loss: 0.8152 - val_accuracy: 0.6050 - val_precision: 0.6469 - val_recall: 0.5460\n",
      "Epoch 19/20\n",
      "94/94 [==============================] - 1s 14ms/step - loss: 0.6999 - accuracy: 0.6738 - precision: 0.7054 - recall: 0.6047 - val_loss: 0.8192 - val_accuracy: 0.6045 - val_precision: 0.6408 - val_recall: 0.5460\n",
      "Epoch 20/20\n",
      "94/94 [==============================] - 1s 13ms/step - loss: 0.6786 - accuracy: 0.6716 - precision: 0.7034 - recall: 0.6141 - val_loss: 0.8225 - val_accuracy: 0.5990 - val_precision: 0.6382 - val_recall: 0.5380\n"
     ]
    }
   ],
   "source": [
    "history = model.fit(X_train,y_train,validation_data=(X_val, y_val),batch_size=64,epochs=epochs,verbose=1)"
   ]
  },
  {
   "cell_type": "markdown",
   "id": "7235a433",
   "metadata": {
    "papermill": {
     "duration": 0.340549,
     "end_time": "2021-10-12T10:00:22.994869",
     "exception": false,
     "start_time": "2021-10-12T10:00:22.654320",
     "status": "completed"
    },
    "tags": []
   },
   "source": [
    "# Evaluate"
   ]
  },
  {
   "cell_type": "code",
   "execution_count": 25,
   "id": "494480bf",
   "metadata": {
    "execution": {
     "iopub.execute_input": "2021-10-12T10:00:23.653916Z",
     "iopub.status.busy": "2021-10-12T10:00:23.652934Z",
     "iopub.status.idle": "2021-10-12T10:00:23.968783Z",
     "shell.execute_reply": "2021-10-12T10:00:23.969226Z",
     "shell.execute_reply.started": "2021-10-12T09:53:12.236832Z"
    },
    "papermill": {
     "duration": 0.64748,
     "end_time": "2021-10-12T10:00:23.969370",
     "exception": false,
     "start_time": "2021-10-12T10:00:23.321890",
     "status": "completed"
    },
    "tags": []
   },
   "outputs": [
    {
     "name": "stdout",
     "output_type": "stream",
     "text": [
      "Accuracy  : 0.6170\n",
      "Precision : 0.6605\n",
      "Recall    : 0.5535\n",
      "F1 Score  : 0.6023\n"
     ]
    }
   ],
   "source": [
    "loss, accuracy, precision, recall = model.evaluate(X_test, y_test, verbose=0)\n",
    "\n",
    "print('Accuracy  : {:.4f}'.format(accuracy))\n",
    "print('Precision : {:.4f}'.format(precision))\n",
    "print('Recall    : {:.4f}'.format(recall))\n",
    "print('F1 Score  : {:.4f}'.format(f1_score(precision, recall)))"
   ]
  },
  {
   "cell_type": "code",
   "execution_count": 26,
   "id": "016a442d",
   "metadata": {
    "execution": {
     "iopub.execute_input": "2021-10-12T10:00:24.647456Z",
     "iopub.status.busy": "2021-10-12T10:00:24.646558Z",
     "iopub.status.idle": "2021-10-12T10:00:25.025806Z",
     "shell.execute_reply": "2021-10-12T10:00:25.025349Z",
     "shell.execute_reply.started": "2021-10-12T09:53:12.567598Z"
    },
    "papermill": {
     "duration": 0.720775,
     "end_time": "2021-10-12T10:00:25.025930",
     "exception": false,
     "start_time": "2021-10-12T10:00:24.305155",
     "status": "completed"
    },
    "tags": []
   },
   "outputs": [
    {
     "data": {
      "image/png": "[encoded data removed]",
      "text/plain": [
       "<Figure size 720x288 with 2 Axes>"
      ]
     },
     "metadata": {
      "needs_background": "light"
     },
     "output_type": "display_data"
    }
   ],
   "source": [
    "def plot_training_hist(history):\n",
    "    '''Function to plot history for accuracy and loss'''\n",
    "    \n",
    "    fig, ax = plt.subplots(1,2, figsize=(10,4))\n",
    "    # first plot\n",
    "    ax[0].plot(history.history['accuracy'])\n",
    "    ax[0].plot(history.history['val_accuracy'])\n",
    "    ax[0].set_title('Model Accuracy')\n",
    "    ax[0].set_xlabel('epoch')\n",
    "    ax[0].set_ylabel('accuracy')\n",
    "    ax[0].legend(['train', 'validation'], loc='best')\n",
    "    \n",
    "    # second plot\n",
    "    ax[1].plot(history.history['loss'])\n",
    "    ax[1].plot(history.history['val_loss'])\n",
    "    ax[1].set_title('Model Loss')\n",
    "    ax[1].set_xlabel('epoch')\n",
    "    ax[1].set_ylabel('loss')\n",
    "    ax[1].legend(['train', 'validation'], loc='best')\n",
    "    \n",
    "plot_training_hist(history)"
   ]
  },
  {
   "cell_type": "code",
   "execution_count": 27,
   "id": "2dc83422",
   "metadata": {
    "execution": {
     "iopub.execute_input": "2021-10-12T10:00:25.699163Z",
     "iopub.status.busy": "2021-10-12T10:00:25.698560Z",
     "iopub.status.idle": "2021-10-12T10:00:27.038135Z",
     "shell.execute_reply": "2021-10-12T10:00:27.037451Z",
     "shell.execute_reply.started": "2021-10-12T09:53:12.937913Z"
    },
    "papermill": {
     "duration": 1.676376,
     "end_time": "2021-10-12T10:00:27.038326",
     "exception": false,
     "start_time": "2021-10-12T10:00:25.361950",
     "status": "completed"
    },
    "tags": []
   },
   "outputs": [
    {
     "name": "stdout",
     "output_type": "stream",
     "text": [
      "1    751\n",
      "2    673\n",
      "0    576\n",
      "dtype: int64\n",
      "1    993\n",
      "2    837\n",
      "0    170\n",
      "dtype: int64\n"
     ]
    },
    {
     "data": {
      "image/png": "[encoded data removed]",
      "text/plain": [
       "<Figure size 576x432 with 2 Axes>"
      ]
     },
     "metadata": {
      "needs_background": "light"
     },
     "output_type": "display_data"
    }
   ],
   "source": [
    "from sklearn.metrics import confusion_matrix\n",
    "\n",
    "def plot_confusion_matrix(model, X_test, y_test):\n",
    "    '''Function to plot confusion matrix for the passed model and the data'''\n",
    "    \n",
    "    sentiment_classes =   ['Negative','Neutral', 'Positive']\n",
    "    # use model to do the prediction\n",
    "    y_pred = model.predict(X_test)\n",
    "    # compute confusion matrix\n",
    "    cm = confusion_matrix(np.argmax(y_pred, axis=1),np.argmax(np.array(y_test),axis=1))\n",
    "\n",
    "    print(pd.Series(np.argmax(np.array(y_test),axis=1)).value_counts())\n",
    "    print(pd.Series(np.argmax(y_pred, axis=1)).value_counts())\n",
    "    \n",
    "    # plot confusion matrix\n",
    "    plt.figure(figsize=(8,6))\n",
    "    sns.heatmap(cm, cmap=plt.cm.Blues, annot=True, fmt='d', \n",
    "                xticklabels=sentiment_classes,\n",
    "                yticklabels=sentiment_classes)\n",
    "    plt.title('Confusion matrix', fontsize=16)\n",
    "    plt.xlabel('Actual label', fontsize=12)\n",
    "    plt.ylabel('Predicted label', fontsize=12)\n",
    "    \n",
    "plot_confusion_matrix(model, X_test, y_test)"
   ]
  },
  {
   "cell_type": "code",
   "execution_count": null,
   "id": "9c3657dc",
   "metadata": {
    "papermill": {
     "duration": 0.329899,
     "end_time": "2021-10-12T10:00:27.792669",
     "exception": false,
     "start_time": "2021-10-12T10:00:27.462770",
     "status": "completed"
    },
    "tags": []
   },
   "outputs": [],
   "source": []
  },
  {
   "cell_type": "code",
   "execution_count": null,
   "id": "19692838",
   "metadata": {
    "papermill": {
     "duration": 0.327895,
     "end_time": "2021-10-12T10:00:28.453567",
     "exception": false,
     "start_time": "2021-10-12T10:00:28.125672",
     "status": "completed"
    },
    "tags": []
   },
   "outputs": [],
   "source": []
  },
  {
   "cell_type": "code",
   "execution_count": null,
   "id": "8e97a26e",
   "metadata": {
    "papermill": {
     "duration": 0.331179,
     "end_time": "2021-10-12T10:00:29.114425",
     "exception": false,
     "start_time": "2021-10-12T10:00:28.783246",
     "status": "completed"
    },
    "tags": []
   },
   "outputs": [],
   "source": []
  }
 ],
 "metadata": {
  "kernelspec": {
   "display_name": "Python 3.8 (tensorflow)",
   "language": "python",
   "name": "tensorflow"
  },
  "language_info": {
   "codemirror_mode": {
    "name": "ipython",
    "version": 3
   },
   "file_extension": ".py",
   "mimetype": "text/x-python",
   "name": "python",
   "nbconvert_exporter": "python",
   "pygments_lexer": "ipython3",
   "version": "3.8.12"
  },
  "papermill": {
   "default_parameters": {},
   "duration": 220.813977,
   "end_time": "2021-10-12T10:00:33.034006",
   "environment_variables": {},
   "exception": null,
   "input_path": "__notebook__.ipynb",
   "output_path": "__notebook__.ipynb",
   "parameters": {},
   "start_time": "2021-10-12T09:56:52.220029",
   "version": "2.3.3"
  }
 },
 "nbformat": 4,
 "nbformat_minor": 5
}
