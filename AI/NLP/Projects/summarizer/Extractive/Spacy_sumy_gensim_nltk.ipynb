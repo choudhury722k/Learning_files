{
 "cells": [
  {
   "cell_type": "code",
   "execution_count": 10,
   "id": "3edbb12f",
   "metadata": {},
   "outputs": [],
   "source": [
    "# NLP Pkgs\n",
    "import spacy \n",
    "nlp = spacy.load('en_core_web_sm')\n",
    "# Pkgs for Normalizing Text\n",
    "from spacy.lang.en.stop_words import STOP_WORDS\n",
    "from string import punctuation\n",
    "# Import Heapq for Finding the Top N Sentences\n",
    "from heapq import nlargest\n",
    "\n",
    "def text_summarizer(raw_docx):\n",
    "    raw_text = raw_docx\n",
    "    print(raw_text)\n",
    "    docx = nlp(raw_text)\n",
    "    stopwords = list(STOP_WORDS)\n",
    "    # Build Word Frequency # word.text is tokenization in spacy\n",
    "    word_frequencies = {}  \n",
    "    for word in docx:  \n",
    "        if word.text not in stopwords:\n",
    "            if word.text not in word_frequencies.keys():\n",
    "                word_frequencies[word.text] = 1\n",
    "            else:\n",
    "                word_frequencies[word.text] += 1\n",
    "                \n",
    "    print(word_frequencies)\n",
    "\n",
    "    maximum_frequncy = max(word_frequencies.values())\n",
    "\n",
    "    for word in word_frequencies.keys():  \n",
    "        word_frequencies[word] = (word_frequencies[word]/maximum_frequncy)\n",
    "    # Sentence Tokens\n",
    "    sentence_list = [ sentence for sentence in docx.sents ]\n",
    "    \n",
    "    print(sentence_list)\n",
    "\n",
    "    # Sentence Scores\n",
    "    sentence_scores = {}  \n",
    "    for sent in sentence_list:  \n",
    "        for word in sent:\n",
    "            if word.text.lower() in word_frequencies.keys():\n",
    "                if len(sent.text.split(' ')) < 30:\n",
    "                    if sent not in sentence_scores.keys():\n",
    "                        sentence_scores[sent] = word_frequencies[word.text.lower()]\n",
    "                    else:\n",
    "                        sentence_scores[sent] += word_frequencies[word.text.lower()]\n",
    "\n",
    "\n",
    "    summarized_sentences = nlargest(7, sentence_scores, key=sentence_scores.get)\n",
    "    final_sentences = [ w.text for w in summarized_sentences ]\n",
    "    summary = ' '.join(final_sentences)\n",
    "    return summary"
   ]
  },
  {
   "cell_type": "code",
   "execution_count": 11,
   "id": "f3280eab",
   "metadata": {},
   "outputs": [
    {
     "name": "stdout",
     "output_type": "stream",
     "text": [
      "I'm a third-year Electrical Engineering student with a great desire to learn new things and a budding data scientist with hands-on knowledge on building different machine learning models with a passion for artificial intelligence and embedded machine learning systems.\n",
      "{'I': 1, '-': 2, 'year': 1, 'Electrical': 1, 'Engineering': 1, 'student': 1, 'great': 1, 'desire': 1, 'learn': 1, 'new': 1, 'things': 1, 'budding': 1, 'data': 1, 'scientist': 1, 'hands': 1, 'knowledge': 1, 'building': 1, 'different': 1, 'machine': 2, 'learning': 2, 'models': 1, 'passion': 1, 'artificial': 1, 'intelligence': 1, 'embedded': 1, 'systems': 1, '.': 1}\n",
      "[I'm a third-year Electrical Engineering student with a great desire to learn new things and a budding data scientist with hands-on knowledge on building different machine learning models with a passion for artificial intelligence and embedded machine learning systems.]\n"
     ]
    },
    {
     "data": {
      "text/plain": [
       "''"
      ]
     },
     "execution_count": 11,
     "metadata": {},
     "output_type": "execute_result"
    }
   ],
   "source": [
    "text_summarizer(\"I'm a third-year Electrical Engineering student with a great desire to learn new things and a budding data scientist with hands-on knowledge on building different machine learning models with a passion for artificial intelligence and embedded machine learning systems.\")"
   ]
  },
  {
   "cell_type": "code",
   "execution_count": 13,
   "id": "4773cc62",
   "metadata": {},
   "outputs": [],
   "source": [
    "# Sumy Pkg\n",
    "from sumy.parsers.plaintext import PlaintextParser\n",
    "from sumy.nlp.tokenizers import Tokenizer\n",
    "from sumy.summarizers.lex_rank import LexRankSummarizer\n",
    "\n",
    "# Sumy \n",
    "def sumy_summary(docx):\n",
    "    parser = PlaintextParser.from_string(docx,Tokenizer(\"english\"))\n",
    "    lex_summarizer = LexRankSummarizer()\n",
    "    summary = lex_summarizer(parser.document,3)\n",
    "    summary_list = [str(sentence) for sentence in summary]\n",
    "    result = ' '.join(summary_list)\n",
    "    return result"
   ]
  },
  {
   "cell_type": "code",
   "execution_count": 14,
   "id": "790147f4",
   "metadata": {},
   "outputs": [
    {
     "data": {
      "text/plain": [
       "\"I'm a third-year Electrical Engineering student with a great desire to learn new things and a budding data scientist with hands-on knowledge on building different machine learning models with a passion for artificial intelligence and embedded machine learning systems.\""
      ]
     },
     "execution_count": 14,
     "metadata": {},
     "output_type": "execute_result"
    }
   ],
   "source": [
    "sumy_summary(\"I'm a third-year Electrical Engineering student with a great desire to learn new things and a budding data scientist with hands-on knowledge on building different machine learning models with a passion for artificial intelligence and embedded machine learning systems.\")"
   ]
  },
  {
   "cell_type": "code",
   "execution_count": 15,
   "id": "1384927c",
   "metadata": {},
   "outputs": [
    {
     "ename": "ModuleNotFoundError",
     "evalue": "No module named 'gensim.summarization'",
     "output_type": "error",
     "traceback": [
      "\u001b[1;31m---------------------------------------------------------------------------\u001b[0m",
      "\u001b[1;31mModuleNotFoundError\u001b[0m                       Traceback (most recent call last)",
      "\u001b[1;32m~\\AppData\\Local\\Temp/ipykernel_12564/2278733902.py\u001b[0m in \u001b[0;36m<module>\u001b[1;34m\u001b[0m\n\u001b[1;32m----> 1\u001b[1;33m \u001b[1;32mfrom\u001b[0m \u001b[0mgensim\u001b[0m\u001b[1;33m.\u001b[0m\u001b[0msummarization\u001b[0m \u001b[1;32mimport\u001b[0m \u001b[0msummarize\u001b[0m\u001b[1;33m\u001b[0m\u001b[1;33m\u001b[0m\u001b[0m\n\u001b[0m",
      "\u001b[1;31mModuleNotFoundError\u001b[0m: No module named 'gensim.summarization'"
     ]
    }
   ],
   "source": [
    "from gensim.summarization import summarize\n",
    "summarize(\"I'm a third-year Electrical Engineering student with a great desire to learn new things and a budding data scientist with hands-on knowledge on building different machine learning models with a passion for artificial intelligence and embedded machine learning systems.\")"
   ]
  },
  {
   "cell_type": "code",
   "execution_count": 16,
   "id": "12baba01",
   "metadata": {},
   "outputs": [],
   "source": [
    "import nltk\n",
    "from nltk.corpus import stopwords\n",
    "from nltk.tokenize import word_tokenize, sent_tokenize\n",
    "import heapq  \n",
    "\n",
    "def nltk_summarizer(raw_text):\n",
    "    stopWords = set(stopwords.words(\"english\"))\n",
    "    word_frequencies = {}  \n",
    "    for word in nltk.word_tokenize(raw_text):  \n",
    "        if word not in stopWords:\n",
    "            if word not in word_frequencies.keys():\n",
    "                word_frequencies[word] = 1\n",
    "            else:\n",
    "                word_frequencies[word] += 1\n",
    "                \n",
    "    maximum_frequncy = max(word_frequencies.values())\n",
    "    for word in word_frequencies.keys():  \n",
    "        word_frequencies[word] = (word_frequencies[word]/maximum_frequncy)\n",
    "        \n",
    "    sentence_list = nltk.sent_tokenize(raw_text)\n",
    "    sentence_scores = {}  \n",
    "    for sent in sentence_list:  \n",
    "        for word in nltk.word_tokenize(sent.lower()):\n",
    "            if word in word_frequencies.keys():\n",
    "                if len(sent.split(' ')) < 30:\n",
    "                    if sent not in sentence_scores.keys():\n",
    "                        sentence_scores[sent] = word_frequencies[word]\n",
    "                    else:\n",
    "                        sentence_scores[sent] += word_frequencies[word]\n",
    "                        \n",
    "    summary_sentences = heapq.nlargest(7, sentence_scores, key=sentence_scores.get)\n",
    "    summary = ' '.join(summary_sentences)  \n",
    "    \n",
    "    return summary"
   ]
  },
  {
   "cell_type": "code",
   "execution_count": 17,
   "id": "8f504633",
   "metadata": {},
   "outputs": [
    {
     "data": {
      "text/plain": [
       "''"
      ]
     },
     "execution_count": 17,
     "metadata": {},
     "output_type": "execute_result"
    }
   ],
   "source": [
    "nltk_summarizer(\"I'm a third-year Electrical Engineering student with a great desire to learn new things and a budding data scientist with hands-on knowledge on building different machine learning models with a passion for artificial intelligence and embedded machine learning systems.\")"
   ]
  },
  {
   "cell_type": "code",
   "execution_count": null,
   "id": "f424836c",
   "metadata": {},
   "outputs": [],
   "source": []
  }
 ],
 "metadata": {
  "kernelspec": {
   "display_name": "Python 3 (ipykernel)",
   "language": "python",
   "name": "python3"
  },
  "language_info": {
   "codemirror_mode": {
    "name": "ipython",
    "version": 3
   },
   "file_extension": ".py",
   "mimetype": "text/x-python",
   "name": "python",
   "nbconvert_exporter": "python",
   "pygments_lexer": "ipython3",
   "version": "3.9.7"
  }
 },
 "nbformat": 4,
 "nbformat_minor": 5
}
