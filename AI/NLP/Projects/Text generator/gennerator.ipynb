{
 "cells": [
  {
   "cell_type": "code",
   "execution_count": null,
   "id": "90809b57",
   "metadata": {},
   "outputs": [],
   "source": [
    "#https://towardsdatascience.com/nlp-text-generation-through-bidirectional-lstm-model-9af29da4e520"
   ]
  },
  {
   "cell_type": "code",
   "execution_count": 1,
   "id": "a1ba08b9",
   "metadata": {},
   "outputs": [],
   "source": [
    "from tensorflow.keras.preprocessing.sequence import pad_sequences\n",
    "from tensorflow.keras.layers import Embedding, LSTM, Dense, Dropout, Bidirectional\n",
    "from tensorflow.keras.preprocessing.text import Tokenizer\n",
    "from tensorflow.keras.models import Sequential\n",
    "from tensorflow.keras.optimizers import Adam\n",
    "from tensorflow.keras import regularizers\n",
    "import tensorflow.keras.utils as ku \n",
    "import numpy as np"
   ]
  },
  {
   "cell_type": "code",
   "execution_count": 2,
   "id": "ced31f3f",
   "metadata": {},
   "outputs": [],
   "source": [
    "tokenizer = Tokenizer()\n",
    "data = open('data.txt').read()\n",
    "corpus = data.lower().split(\"\\n\")\n",
    "tokenizer.fit_on_texts(corpus)\n",
    "total_words = len(tokenizer.word_index) + 1"
   ]
  },
  {
   "cell_type": "code",
   "execution_count": 3,
   "id": "a432af56",
   "metadata": {},
   "outputs": [],
   "source": [
    "# create input sequences using list of tokens\n",
    "input_sequences = []\n",
    "for line in corpus:\n",
    "    token_list = tokenizer.texts_to_sequences([line])[0]\n",
    "    for i in range(1, len(token_list)):\n",
    "        n_gram_sequence = token_list[:i+1]\n",
    "        input_sequences.append(n_gram_sequence)"
   ]
  },
  {
   "cell_type": "code",
   "execution_count": 4,
   "id": "fc644e48",
   "metadata": {},
   "outputs": [],
   "source": [
    "# pad sequences \n",
    "max_sequence_len = max([len(x) for x in input_sequences])\n",
    "input_sequences = np.array(pad_sequences(input_sequences, maxlen=max_sequence_len, padding='pre'))"
   ]
  },
  {
   "cell_type": "code",
   "execution_count": 5,
   "id": "ba024e0f",
   "metadata": {},
   "outputs": [],
   "source": [
    "# create predictors and label\n",
    "predictors, label = input_sequences[:,:-1],input_sequences[:,-1]\n",
    "\n",
    "label = ku.to_categorical(label, num_classes=total_words)"
   ]
  },
  {
   "cell_type": "code",
   "execution_count": 6,
   "id": "7bf95e01",
   "metadata": {},
   "outputs": [
    {
     "name": "stdout",
     "output_type": "stream",
     "text": [
      "Model: \"sequential\"\n",
      "_________________________________________________________________\n",
      "Layer (type)                 Output Shape              Param #   \n",
      "=================================================================\n",
      "embedding (Embedding)        (None, 14, 100)           383000    \n",
      "_________________________________________________________________\n",
      "bidirectional (Bidirectional (None, 14, 300)           301200    \n",
      "_________________________________________________________________\n",
      "dropout (Dropout)            (None, 14, 300)           0         \n",
      "_________________________________________________________________\n",
      "lstm_1 (LSTM)                (None, 100)               160400    \n",
      "_________________________________________________________________\n",
      "dense (Dense)                (None, 1915)              193415    \n",
      "_________________________________________________________________\n",
      "dense_1 (Dense)              (None, 3830)              7338280   \n",
      "=================================================================\n",
      "Total params: 8,376,295\n",
      "Trainable params: 8,376,295\n",
      "Non-trainable params: 0\n",
      "_________________________________________________________________\n",
      "None\n"
     ]
    }
   ],
   "source": [
    "model = Sequential()\n",
    "model.add(Embedding(total_words, 100, input_length=max_sequence_len-1))\n",
    "model.add(Bidirectional(LSTM(150, return_sequences = True)))\n",
    "model.add(Dropout(0.2))\n",
    "model.add(LSTM(100))\n",
    "model.add(Dense(total_words/2, activation='relu', kernel_regularizer=regularizers.l2(0.01)))\n",
    "model.add(Dense(total_words, activation='softmax'))\n",
    "model.compile(loss='categorical_crossentropy', optimizer='adam', metrics=['accuracy'])\n",
    "print(model.summary())"
   ]
  },
  {
   "cell_type": "code",
   "execution_count": 7,
   "id": "55a68b77",
   "metadata": {},
   "outputs": [
    {
     "name": "stdout",
     "output_type": "stream",
     "text": [
      "Epoch 1/100\n",
      "574/574 [==============================] - 17s 14ms/step - loss: 6.9542 - accuracy: 0.0270\n",
      "Epoch 2/100\n",
      "574/574 [==============================] - 8s 13ms/step - loss: 6.5546 - accuracy: 0.0283\n",
      "Epoch 3/100\n",
      "574/574 [==============================] - 8s 13ms/step - loss: 6.4161 - accuracy: 0.0365 0s - loss: 6.4\n",
      "Epoch 4/100\n",
      "574/574 [==============================] - 7s 13ms/step - loss: 6.2947 - accuracy: 0.0457\n",
      "Epoch 5/100\n",
      "574/574 [==============================] - 7s 12ms/step - loss: 6.2120 - accuracy: 0.0484\n",
      "Epoch 6/100\n",
      "574/574 [==============================] - 7s 13ms/step - loss: 6.1448 - accuracy: 0.0516\n",
      "Epoch 7/100\n",
      "574/574 [==============================] - 7s 12ms/step - loss: 6.0679 - accuracy: 0.0539\n",
      "Epoch 8/100\n",
      "574/574 [==============================] - 7s 12ms/step - loss: 5.9790 - accuracy: 0.0629\n",
      "Epoch 9/100\n",
      "574/574 [==============================] - 7s 12ms/step - loss: 5.8896 - accuracy: 0.0663\n",
      "Epoch 10/100\n",
      "574/574 [==============================] - 7s 12ms/step - loss: 5.8007 - accuracy: 0.0723\n",
      "Epoch 11/100\n",
      "574/574 [==============================] - 7s 12ms/step - loss: 5.7108 - accuracy: 0.0769\n",
      "Epoch 12/100\n",
      "574/574 [==============================] - 7s 12ms/step - loss: 5.6270 - accuracy: 0.0809\n",
      "Epoch 13/100\n",
      "574/574 [==============================] - 7s 12ms/step - loss: 5.5470 - accuracy: 0.0827\n",
      "Epoch 14/100\n",
      "574/574 [==============================] - 7s 12ms/step - loss: 5.4712 - accuracy: 0.0894\n",
      "Epoch 15/100\n",
      "574/574 [==============================] - 7s 13ms/step - loss: 5.3919 - accuracy: 0.0916\n",
      "Epoch 16/100\n",
      "574/574 [==============================] - 7s 12ms/step - loss: 5.3112 - accuracy: 0.0963\n",
      "Epoch 17/100\n",
      "574/574 [==============================] - 7s 12ms/step - loss: 5.2344 - accuracy: 0.0989\n",
      "Epoch 18/100\n",
      "574/574 [==============================] - 7s 12ms/step - loss: 5.1567 - accuracy: 0.1015\n",
      "Epoch 19/100\n",
      "574/574 [==============================] - 7s 12ms/step - loss: 5.0845 - accuracy: 0.1055\n",
      "Epoch 20/100\n",
      "574/574 [==============================] - 7s 12ms/step - loss: 5.0107 - accuracy: 0.1114\n",
      "Epoch 21/100\n",
      "574/574 [==============================] - 7s 12ms/step - loss: 4.9362 - accuracy: 0.1153\n",
      "Epoch 22/100\n",
      "574/574 [==============================] - 7s 12ms/step - loss: 4.8691 - accuracy: 0.1204\n",
      "Epoch 23/100\n",
      "574/574 [==============================] - 7s 12ms/step - loss: 4.7955 - accuracy: 0.1256\n",
      "Epoch 24/100\n",
      "574/574 [==============================] - 7s 12ms/step - loss: 4.7265 - accuracy: 0.1319\n",
      "Epoch 25/100\n",
      "574/574 [==============================] - 7s 13ms/step - loss: 4.6639 - accuracy: 0.1366\n",
      "Epoch 26/100\n",
      "574/574 [==============================] - 7s 12ms/step - loss: 4.5953 - accuracy: 0.1451\n",
      "Epoch 27/100\n",
      "574/574 [==============================] - 7s 13ms/step - loss: 4.5219 - accuracy: 0.1496\n",
      "Epoch 28/100\n",
      "574/574 [==============================] - 7s 12ms/step - loss: 4.4586 - accuracy: 0.1563\n",
      "Epoch 29/100\n",
      "574/574 [==============================] - 7s 12ms/step - loss: 4.3868 - accuracy: 0.1653\n",
      "Epoch 30/100\n",
      "574/574 [==============================] - 7s 12ms/step - loss: 4.3246 - accuracy: 0.1711\n",
      "Epoch 31/100\n",
      "574/574 [==============================] - 7s 12ms/step - loss: 4.2538 - accuracy: 0.1791\n",
      "Epoch 32/100\n",
      "574/574 [==============================] - 7s 12ms/step - loss: 4.1977 - accuracy: 0.1857\n",
      "Epoch 33/100\n",
      "574/574 [==============================] - 7s 12ms/step - loss: 4.1258 - accuracy: 0.1935\n",
      "Epoch 34/100\n",
      "574/574 [==============================] - 7s 13ms/step - loss: 4.0695 - accuracy: 0.1998\n",
      "Epoch 35/100\n",
      "574/574 [==============================] - 7s 12ms/step - loss: 3.9992 - accuracy: 0.2084\n",
      "Epoch 36/100\n",
      "574/574 [==============================] - 7s 12ms/step - loss: 3.9424 - accuracy: 0.2169\n",
      "Epoch 37/100\n",
      "574/574 [==============================] - 7s 12ms/step - loss: 3.8815 - accuracy: 0.2274\n",
      "Epoch 38/100\n",
      "574/574 [==============================] - 7s 12ms/step - loss: 3.8281 - accuracy: 0.2391\n",
      "Epoch 39/100\n",
      "574/574 [==============================] - 7s 12ms/step - loss: 3.7672 - accuracy: 0.2504\n",
      "Epoch 40/100\n",
      "574/574 [==============================] - 7s 13ms/step - loss: 3.7124 - accuracy: 0.2622\n",
      "Epoch 41/100\n",
      "574/574 [==============================] - 7s 12ms/step - loss: 3.6522 - accuracy: 0.2715\n",
      "Epoch 42/100\n",
      "574/574 [==============================] - 7s 12ms/step - loss: 3.5965 - accuracy: 0.2794\n",
      "Epoch 43/100\n",
      "574/574 [==============================] - 7s 13ms/step - loss: 3.5531 - accuracy: 0.2868\n",
      "Epoch 44/100\n",
      "574/574 [==============================] - 8s 13ms/step - loss: 3.5019 - accuracy: 0.2969\n",
      "Epoch 45/100\n",
      "574/574 [==============================] - 7s 13ms/step - loss: 3.4494 - accuracy: 0.3079\n",
      "Epoch 46/100\n",
      "574/574 [==============================] - 7s 12ms/step - loss: 3.3948 - accuracy: 0.3201\n",
      "Epoch 47/100\n",
      "574/574 [==============================] - 7s 13ms/step - loss: 3.3426 - accuracy: 0.3286\n",
      "Epoch 48/100\n",
      "574/574 [==============================] - 7s 12ms/step - loss: 3.3006 - accuracy: 0.3406\n",
      "Epoch 49/100\n",
      "574/574 [==============================] - 7s 12ms/step - loss: 3.2474 - accuracy: 0.3509\n",
      "Epoch 50/100\n",
      "574/574 [==============================] - 7s 12ms/step - loss: 3.2060 - accuracy: 0.3602\n",
      "Epoch 51/100\n",
      "574/574 [==============================] - 7s 12ms/step - loss: 3.1654 - accuracy: 0.3709\n",
      "Epoch 52/100\n",
      "574/574 [==============================] - 7s 12ms/step - loss: 3.1092 - accuracy: 0.3795\n",
      "Epoch 53/100\n",
      "574/574 [==============================] - 7s 12ms/step - loss: 3.0689 - accuracy: 0.3863\n",
      "Epoch 54/100\n",
      "574/574 [==============================] - 8s 13ms/step - loss: 3.0259 - accuracy: 0.3977\n",
      "Epoch 55/100\n",
      "574/574 [==============================] - 7s 13ms/step - loss: 2.9844 - accuracy: 0.4046\n",
      "Epoch 56/100\n",
      "574/574 [==============================] - 7s 12ms/step - loss: 2.9497 - accuracy: 0.4132\n",
      "Epoch 57/100\n",
      "574/574 [==============================] - 7s 13ms/step - loss: 2.9034 - accuracy: 0.4254\n",
      "Epoch 58/100\n",
      "574/574 [==============================] - 10s 18ms/step - loss: 2.8692 - accuracy: 0.4328\n",
      "Epoch 59/100\n",
      "574/574 [==============================] - 10s 18ms/step - loss: 2.8284 - accuracy: 0.4407\n",
      "Epoch 60/100\n",
      "574/574 [==============================] - 8s 13ms/step - loss: 2.7837 - accuracy: 0.4517\n",
      "Epoch 61/100\n",
      "574/574 [==============================] - 8s 14ms/step - loss: 2.7512 - accuracy: 0.4558\n",
      "Epoch 62/100\n",
      "574/574 [==============================] - 8s 15ms/step - loss: 2.7082 - accuracy: 0.4706\n",
      "Epoch 63/100\n",
      "574/574 [==============================] - 8s 14ms/step - loss: 2.6921 - accuracy: 0.4716\n",
      "Epoch 64/100\n",
      "574/574 [==============================] - 8s 13ms/step - loss: 2.6505 - accuracy: 0.4826\n",
      "Epoch 65/100\n",
      "574/574 [==============================] - 8s 13ms/step - loss: 2.6146 - accuracy: 0.4891\n",
      "Epoch 66/100\n",
      "574/574 [==============================] - 7s 13ms/step - loss: 2.5759 - accuracy: 0.4974\n",
      "Epoch 67/100\n",
      "574/574 [==============================] - 8s 13ms/step - loss: 2.5532 - accuracy: 0.4993\n",
      "Epoch 68/100\n",
      "574/574 [==============================] - 7s 12ms/step - loss: 2.5197 - accuracy: 0.5106\n",
      "Epoch 69/100\n",
      "574/574 [==============================] - 7s 13ms/step - loss: 2.4756 - accuracy: 0.5184\n",
      "Epoch 70/100\n",
      "574/574 [==============================] - 7s 13ms/step - loss: 2.4605 - accuracy: 0.5226\n",
      "Epoch 71/100\n",
      "574/574 [==============================] - 8s 13ms/step - loss: 2.4247 - accuracy: 0.5268\n",
      "Epoch 72/100\n",
      "574/574 [==============================] - 8s 13ms/step - loss: 2.4016 - accuracy: 0.5351\n",
      "Epoch 73/100\n",
      "574/574 [==============================] - 7s 13ms/step - loss: 2.3576 - accuracy: 0.5456\n",
      "Epoch 74/100\n",
      "574/574 [==============================] - 8s 14ms/step - loss: 2.3381 - accuracy: 0.5491\n",
      "Epoch 75/100\n",
      "574/574 [==============================] - 7s 13ms/step - loss: 2.3110 - accuracy: 0.5557\n",
      "Epoch 76/100\n",
      "574/574 [==============================] - 7s 13ms/step - loss: 2.2862 - accuracy: 0.5629\n",
      "Epoch 77/100\n",
      "574/574 [==============================] - 8s 13ms/step - loss: 2.2460 - accuracy: 0.5716\n",
      "Epoch 78/100\n",
      "574/574 [==============================] - 7s 13ms/step - loss: 2.2257 - accuracy: 0.5745\n",
      "Epoch 79/100\n",
      "574/574 [==============================] - 7s 13ms/step - loss: 2.1982 - accuracy: 0.5799\n",
      "Epoch 80/100\n"
     ]
    },
    {
     "name": "stdout",
     "output_type": "stream",
     "text": [
      "574/574 [==============================] - 7s 13ms/step - loss: 2.1749 - accuracy: 0.5850\n",
      "Epoch 81/100\n",
      "574/574 [==============================] - 7s 13ms/step - loss: 2.1544 - accuracy: 0.5895\n",
      "Epoch 82/100\n",
      "574/574 [==============================] - 7s 12ms/step - loss: 2.1396 - accuracy: 0.5885\n",
      "Epoch 83/100\n",
      "574/574 [==============================] - 8s 14ms/step - loss: 2.1079 - accuracy: 0.6008\n",
      "Epoch 84/100\n",
      "574/574 [==============================] - 7s 13ms/step - loss: 2.0809 - accuracy: 0.6049\n",
      "Epoch 85/100\n",
      "574/574 [==============================] - 7s 13ms/step - loss: 2.0582 - accuracy: 0.6116\n",
      "Epoch 86/100\n",
      "574/574 [==============================] - 7s 12ms/step - loss: 2.0448 - accuracy: 0.6121\n",
      "Epoch 87/100\n",
      "574/574 [==============================] - 7s 13ms/step - loss: 2.0149 - accuracy: 0.6211\n",
      "Epoch 88/100\n",
      "574/574 [==============================] - 7s 13ms/step - loss: 1.9972 - accuracy: 0.6214\n",
      "Epoch 89/100\n",
      "574/574 [==============================] - 7s 13ms/step - loss: 1.9725 - accuracy: 0.6293\n",
      "Epoch 90/100\n",
      "574/574 [==============================] - 7s 13ms/step - loss: 1.9529 - accuracy: 0.6354\n",
      "Epoch 91/100\n",
      "574/574 [==============================] - 7s 13ms/step - loss: 1.9347 - accuracy: 0.6373\n",
      "Epoch 92/100\n",
      "574/574 [==============================] - 7s 13ms/step - loss: 1.9167 - accuracy: 0.6397\n",
      "Epoch 93/100\n",
      "574/574 [==============================] - 7s 13ms/step - loss: 1.9023 - accuracy: 0.6401\n",
      "Epoch 94/100\n",
      "574/574 [==============================] - 7s 13ms/step - loss: 1.8923 - accuracy: 0.6409\n",
      "Epoch 95/100\n",
      "574/574 [==============================] - 7s 13ms/step - loss: 1.8587 - accuracy: 0.6510\n",
      "Epoch 96/100\n",
      "574/574 [==============================] - 7s 13ms/step - loss: 1.8381 - accuracy: 0.6585\n",
      "Epoch 97/100\n",
      "574/574 [==============================] - 7s 13ms/step - loss: 1.8287 - accuracy: 0.6584\n",
      "Epoch 98/100\n",
      "574/574 [==============================] - 7s 13ms/step - loss: 1.8076 - accuracy: 0.6639\n",
      "Epoch 99/100\n",
      "574/574 [==============================] - 7s 13ms/step - loss: 1.7951 - accuracy: 0.6675\n",
      "Epoch 100/100\n",
      "574/574 [==============================] - 7s 13ms/step - loss: 1.7835 - accuracy: 0.6684\n"
     ]
    }
   ],
   "source": [
    "history = model.fit(predictors, label, epochs=100, verbose=1)"
   ]
  },
  {
   "cell_type": "code",
   "execution_count": 8,
   "id": "4fd40b19",
   "metadata": {},
   "outputs": [
    {
     "data": {
      "image/png": "[encoded data removed]",
      "text/plain": [
       "<Figure size 432x288 with 1 Axes>"
      ]
     },
     "metadata": {
      "needs_background": "light"
     },
     "output_type": "display_data"
    },
    {
     "data": {
      "image/png": "[encoded data removed]",
      "text/plain": [
       "<Figure size 432x288 with 1 Axes>"
      ]
     },
     "metadata": {
      "needs_background": "light"
     },
     "output_type": "display_data"
    }
   ],
   "source": [
    "import matplotlib.pyplot as plt\n",
    "acc = history.history['accuracy']\n",
    "loss = history.history['loss']\n",
    "epochs = range(len(acc))\n",
    "plt.plot(epochs, acc, 'b', label='Training accuracy')\n",
    "plt.title('Training accuracy')\n",
    "plt.figure()\n",
    "plt.plot(epochs, loss, 'b', label='Training Loss')\n",
    "plt.title('Training loss')\n",
    "plt.legend()\n",
    "plt.show()"
   ]
  },
  {
   "cell_type": "code",
   "execution_count": 11,
   "id": "22d6d233",
   "metadata": {},
   "outputs": [],
   "source": [
    "seed_text = \"From fairest creatures we desire increase\"\n",
    "next_words = 10"
   ]
  },
  {
   "cell_type": "code",
   "execution_count": 12,
   "id": "805026b4",
   "metadata": {},
   "outputs": [
    {
     "name": "stdout",
     "output_type": "stream",
     "text": [
      "From fairest creatures we desire increase give one â€™ saith true true more need more joy\n"
     ]
    }
   ],
   "source": [
    "for _ in range(next_words):\n",
    "    token_list = tokenizer.texts_to_sequences([seed_text])[0]\n",
    "    token_list = pad_sequences([token_list], maxlen=max_sequence_len-1, padding='pre')\n",
    "    predicted = model.predict_classes(token_list, verbose=0)\n",
    "    output_word = \"\"\n",
    "    for word, index in tokenizer.word_index.items():\n",
    "        if index == predicted:\n",
    "            output_word = word\n",
    "            break\n",
    "    seed_text += \" \" + output_word\n",
    "print(seed_text)"
   ]
  },
  {
   "cell_type": "code",
   "execution_count": null,
   "id": "3b896f31",
   "metadata": {},
   "outputs": [],
   "source": []
  }
 ],
 "metadata": {
  "kernelspec": {
   "display_name": "Python 3 (ipykernel)",
   "language": "python",
   "name": "python3"
  },
  "language_info": {
   "codemirror_mode": {
    "name": "ipython",
    "version": 3
   },
   "file_extension": ".py",
   "mimetype": "text/x-python",
   "name": "python",
   "nbconvert_exporter": "python",
   "pygments_lexer": "ipython3",
   "version": "3.9.7"
  }
 },
 "nbformat": 4,
 "nbformat_minor": 5
}
